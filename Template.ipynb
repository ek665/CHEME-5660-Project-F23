{
 "cells": [
  {
   "cell_type": "markdown",
   "id": "80ae6a55-e35b-401a-9fd2-353207a8b340",
   "metadata": {},
   "source": [
    "### Analyzing Investment Portfolios for Ugandan Health Clinics Endownment\n",
    "Investment Portfolio Project, ChemE 5660\n",
    "\n",
    "Chike Murray, Sonny Vo , Erik Kirakosyan"
   ]
  },
  {
   "cell_type": "markdown",
   "id": "cac5eb3a-be19-4274-8400-09af3e83ff21",
   "metadata": {
    "jp-MarkdownHeadingCollapsed": true,
    "tags": []
   },
   "source": [
    "## Setup"
   ]
  },
  {
   "cell_type": "code",
   "execution_count": 2,
   "id": "c428c856-064a-4a35-97bc-800cc0d49a58",
   "metadata": {
    "tags": []
   },
   "outputs": [
    {
     "name": "stderr",
     "output_type": "stream",
     "text": [
      "\u001b[32m\u001b[1m    Updating\u001b[22m\u001b[39m git-repo `https://github.com/varnerlab/VLQuantitativeFinancePackage.jl.git`\n"
     ]
    },
    {
     "name": "stderr",
     "output_type": "stream",
     "text": [
      "\u001b[32m\u001b[1m   Resolving\u001b[22m\u001b[39m package versions...\n"
     ]
    },
    {
     "name": "stderr",
     "output_type": "stream",
     "text": [
      "\u001b[32m\u001b[1m  No Changes\u001b[22m\u001b[39m to `~/Desktop/CHEME-5660-Project-Template-F23/Project.toml`\n",
      "\u001b[32m\u001b[1m  No Changes\u001b[22m\u001b[39m to `~/Desktop/CHEME-5660-Project-Template-F23/Manifest.toml`\n"
     ]
    },
    {
     "name": "stderr",
     "output_type": "stream",
     "text": [
      "\u001b[32m\u001b[1m  Activating\u001b[22m\u001b[39m project at `~/Desktop/CHEME-5660-Project-Template-F23`\n"
     ]
    },
    {
     "name": "stderr",
     "output_type": "stream",
     "text": [
      "\u001b[32m\u001b[1m  No Changes\u001b[22m\u001b[39m to `~/Desktop/CHEME-5660-Project-Template-F23/Project.toml`\n",
      "\u001b[32m\u001b[1m  No Changes\u001b[22m\u001b[39m to `~/Desktop/CHEME-5660-Project-Template-F23/Manifest.toml`\n"
     ]
    },
    {
     "name": "stderr",
     "output_type": "stream",
     "text": [
      "\u001b[32m\u001b[1m    Updating\u001b[22m\u001b[39m registry at `~/.julia/registries/General.toml`\n",
      "\u001b[32m\u001b[1m    Updating\u001b[22m\u001b[39m git-repo `https://github.com/varnerlab/VLQuantitativeFinancePackage.jl.git`\n"
     ]
    },
    {
     "name": "stderr",
     "output_type": "stream",
     "text": [
      "\u001b[32m\u001b[1m  No Changes\u001b[22m\u001b[39m to `~/Desktop/CHEME-5660-Project-Template-F23/Project.toml`\n",
      "\u001b[32m\u001b[1m  No Changes\u001b[22m\u001b[39m to `~/Desktop/CHEME-5660-Project-Template-F23/Manifest.toml`\n"
     ]
    }
   ],
   "source": [
    "include(\"Include.jl\");"
   ]
  },
  {
   "cell_type": "markdown",
   "id": "21519cf1-3079-4a5a-8859-fd21f48bce94",
   "metadata": {
    "jp-MarkdownHeadingCollapsed": true,
    "tags": []
   },
   "source": [
    "## Prerequisites: Load historical dataset, compute expected returns and get 2023 `SPY` data\n",
    "We gathered a daily open-high-low-close `dataset` for each firm in the [S&P500](https://en.wikipedia.org/wiki/S%26P_500) since `01-03-2018` until `12-01-2023`, along with data for a few exchange traded funds and volatility products during that time. "
   ]
  },
  {
   "cell_type": "code",
   "execution_count": 3,
   "id": "79aa4361-4713-47c5-9892-8d822e7aac68",
   "metadata": {
    "tags": []
   },
   "outputs": [],
   "source": [
    "original_dataset = load(joinpath(_PATH_TO_DATA, \n",
    "        \"SP500-Daily-OHLC-1-3-2018-to-12-01-2023.jld2\")) |> x-> x[\"dataset\"];"
   ]
  },
  {
   "cell_type": "markdown",
   "id": "d5567fb5-3688-4fe7-8cc9-201119de77f5",
   "metadata": {},
   "source": [
    "### Clean the data\n",
    "Not all of the tickers in our dataset have the maximum number of trading days for various reasons, e.g., acquistion or de-listing events. Let's collect only those tickers with the maximum number of trading days.\n",
    "\n",
    "* First, let's compute the number of records for a company that we know has a maximim value, e.g., `AAPL` and save that value in the `maximum_number_trading_days` variable:"
   ]
  },
  {
   "cell_type": "code",
   "execution_count": 4,
   "id": "5e88a72f-9231-459a-99bc-f0fdccc6e42d",
   "metadata": {
    "tags": []
   },
   "outputs": [
    {
     "data": {
      "text/plain": [
       "1489"
      ]
     },
     "metadata": {},
     "output_type": "display_data"
    }
   ],
   "source": [
    "maximum_number_trading_days = original_dataset[\"AAPL\"] |> nrow"
   ]
  },
  {
   "cell_type": "markdown",
   "id": "d3b64e6f-3662-48fe-bcec-ba6da19f60f9",
   "metadata": {},
   "source": [
    "Now, lets iterate through our data and collect only those tickers that have `maximum_number_trading_days` records. Save that data in the `dataset::Dict{String,DataFrame}` variable:"
   ]
  },
  {
   "cell_type": "code",
   "execution_count": 5,
   "id": "9b263c2a-7cb2-42ef-a700-b857aeb22f8e",
   "metadata": {
    "tags": []
   },
   "outputs": [
    {
     "data": {
      "text/plain": [
       "Dict{String, DataFrame} with 459 entries:\n",
       "  \"NI\"   => \u001b[1m1489×8 DataFrame\u001b[0m\u001b[0m…\n",
       "  \"EMR\"  => \u001b[1m1489×8 DataFrame\u001b[0m\u001b[0m…\n",
       "  \"CTAS\" => \u001b[1m1489×8 DataFrame\u001b[0m\u001b[0m…\n",
       "  \"HSIC\" => \u001b[1m1489×8 DataFrame\u001b[0m\u001b[0m…\n",
       "  \"KIM\"  => \u001b[1m1489×8 DataFrame\u001b[0m\u001b[0m…\n",
       "  \"PLD\"  => \u001b[1m1489×8 DataFrame\u001b[0m\u001b[0m…\n",
       "  \"IEX\"  => \u001b[1m1489×8 DataFrame\u001b[0m\u001b[0m…\n",
       "  \"BAC\"  => \u001b[1m1489×8 DataFrame\u001b[0m\u001b[0m…\n",
       "  \"CBOE\" => \u001b[1m1489×8 DataFrame\u001b[0m\u001b[0m…\n",
       "  \"EXR\"  => \u001b[1m1489×8 DataFrame\u001b[0m\u001b[0m…\n",
       "  \"NCLH\" => \u001b[1m1489×8 DataFrame\u001b[0m\u001b[0m…\n",
       "  \"CVS\"  => \u001b[1m1489×8 DataFrame\u001b[0m\u001b[0m…\n",
       "  \"DRI\"  => \u001b[1m1489×8 DataFrame\u001b[0m\u001b[0m…\n",
       "  \"DTE\"  => \u001b[1m1489×8 DataFrame\u001b[0m\u001b[0m…\n",
       "  \"ZION\" => \u001b[1m1489×8 DataFrame\u001b[0m\u001b[0m…\n",
       "  \"AVY\"  => \u001b[1m1489×8 DataFrame\u001b[0m\u001b[0m…\n",
       "  \"EW\"   => \u001b[1m1489×8 DataFrame\u001b[0m\u001b[0m…\n",
       "  \"EA\"   => \u001b[1m1489×8 DataFrame\u001b[0m\u001b[0m…\n",
       "  \"NWSA\" => \u001b[1m1489×8 DataFrame\u001b[0m\u001b[0m…\n",
       "  ⋮      => ⋮"
      ]
     },
     "metadata": {},
     "output_type": "display_data"
    }
   ],
   "source": [
    "dataset = Dict{String,DataFrame}();\n",
    "for (ticker,data) ∈ original_dataset\n",
    "    if (nrow(data) == maximum_number_trading_days)\n",
    "        dataset[ticker] = data;\n",
    "    end\n",
    "end\n",
    "dataset"
   ]
  },
  {
   "cell_type": "markdown",
   "id": "5ffb1bec-88c3-4648-b7e9-9b1300504b4a",
   "metadata": {},
   "source": [
    "Let's get a list of firms that we have in cleaned up `dataset`, and save it in the `all_tickers` array:"
   ]
  },
  {
   "cell_type": "code",
   "execution_count": 6,
   "id": "93f5fc90-048c-4e23-83da-8a362b297f77",
   "metadata": {
    "tags": []
   },
   "outputs": [],
   "source": [
    "all_tickers = keys(dataset) |> collect |> sort;\n",
    "K = length(all_tickers);"
   ]
  },
  {
   "cell_type": "markdown",
   "id": "1266557c-c5ce-4c67-9f93-7dcdb3038e26",
   "metadata": {},
   "source": [
    "### Get the 2023 `SPY` data"
   ]
  },
  {
   "cell_type": "code",
   "execution_count": 7,
   "id": "b700d807-61d8-4d3c-8c78-0908bcd81855",
   "metadata": {
    "tags": []
   },
   "outputs": [],
   "source": [
    "startdate = Date(2023,01,03);\n",
    "SPY_dataset = dataset[\"SPY\"];\n",
    "SPY_df = filter(:timestamp => x-> x >= startdate, SPY_dataset);"
   ]
  },
  {
   "cell_type": "markdown",
   "id": "9d07c6db-65c2-424b-878e-652936db2032",
   "metadata": {},
   "source": [
    "### Compute the expected return for all firms in the dataset\n",
    "The expected return $\\mathbb{E}(r_{i})$ and covariance matrix $\\Sigma$ will be used in our calculations, so we'll provide values for both of these items for the entire data set (all `N = 459` tickers), and then you can pick out which tickers you are interested in. \n",
    "\n",
    "* First, we compute the expected (annualized) log return by passing the `dataset` and the entire list of firms we have in the dataset (held in the $N\\times{1}$ `all_array` array) to the `log_return_matrix(...)` method. The result is stored in the `all_firms_return_matrix` variable, a $T-1\\times{N}$ array of log return values. Each row of `all_firms_return_matrix` corresponds to a time-value, while each column corresponds to a firm:"
   ]
  },
  {
   "cell_type": "code",
   "execution_count": 8,
   "id": "870a7ff9-d78c-4313-8e75-92cc67dc0858",
   "metadata": {
    "tags": []
   },
   "outputs": [],
   "source": [
    "all_firms_return_matrix = log_return_matrix(dataset, all_tickers, \n",
    "    Δt = (1.0/252.0), risk_free_rate = 0.0);"
   ]
  },
  {
   "cell_type": "markdown",
   "id": "2347705b-730c-44c2-ab83-4be788669bd9",
   "metadata": {},
   "source": [
    "## Your project starts here ...."
   ]
  },
  {
   "cell_type": "markdown",
   "id": "715b71b0",
   "metadata": {},
   "source": [
    "Selected Portfolio Tickers: \"NVDA\", \"MDT\", \"AMD\", \"PG\", \"MO\", \"PLD\""
   ]
  },
  {
   "cell_type": "markdown",
   "id": "01e616b0",
   "metadata": {},
   "source": [
    "### Statement of Assumptions:\n",
    "\n",
    "Similar to Lab 15b, we need to make assumptions to simplify our financial model. These assumptions are not completely realistic but greatly simplify the underlying math. \n",
    "\n",
    "1: The covariance matrix is constant over the period from 01-03-2018 to 12-01-2023. \n",
    "\n",
    "2: We are not taking into account short term capital gains tax, long term capital gains tax, restrictions on day trading and portfolio reallocation, or other market friction \n",
    "\n",
    "3: We are not taking into account real-world events and their impact on market volatility. "
   ]
  },
  {
   "cell_type": "markdown",
   "id": "b484bcfe",
   "metadata": {},
   "source": [
    "\n",
    "\n",
    "\n",
    "These files are prerequisites for portfolio optimization. "
   ]
  },
  {
   "cell_type": "code",
   "execution_count": 9,
   "id": "06422071",
   "metadata": {},
   "outputs": [
    {
     "data": {
      "text/plain": [
       "1000"
      ]
     },
     "metadata": {},
     "output_type": "display_data"
    }
   ],
   "source": [
    "budget= 1000; #initial grant size\n",
    "#REPLACE"
   ]
  },
  {
   "cell_type": "code",
   "execution_count": 10,
   "id": "f25da994",
   "metadata": {},
   "outputs": [],
   "source": [
    "capital_allocation= load(joinpath(_PATH_TO_DATA,\n",
    "        \"CapitalAllocationLine-cesteam-PD1-CHEME-5660-Fall-2023.jld2\")) |> x-> x[\"dataset\"];\n",
    "             \n",
    "SIMs=load(joinpath(_PATH_TO_DATA, \n",
    "        \"SIMs-cesteam-PD1-CHEME-5660-Fall-2023.jld2\"))|> x-> x[\"sims\"]; "
   ]
  },
  {
   "cell_type": "code",
   "execution_count": 11,
   "id": "eb7b4da1",
   "metadata": {},
   "outputs": [
    {
     "data": {
      "text/html": [
       "<div><div style = \"float: left;\"><span>64×5 DataFrame</span></div><div style = \"float: right;\"><span style = \"font-style: italic;\">39 rows omitted</span></div><div style = \"clear: both;\"></div></div><div class = \"data-frame\" style = \"overflow-x: scroll;\"><table class = \"data-frame\" style = \"margin-bottom: 6px;\"><thead><tr class = \"header\"><th class = \"rowNumber\" style = \"font-weight: bold; text-align: right;\">Row</th><th style = \"text-align: left;\">expected_excess_return</th><th style = \"text-align: left;\">risk</th><th style = \"text-align: left;\">tickers</th><th style = \"text-align: left;\">w</th><th style = \"text-align: left;\">risk_free_rate</th></tr><tr class = \"subheader headerLastRow\"><th class = \"rowNumber\" style = \"font-weight: bold; text-align: right;\"></th><th title = \"Float64\" style = \"text-align: left;\">Float64</th><th title = \"Float64\" style = \"text-align: left;\">Float64</th><th title = \"Vector{String}\" style = \"text-align: left;\">Array…</th><th title = \"Vector{Float64}\" style = \"text-align: left;\">Array…</th><th title = \"Float64\" style = \"text-align: left;\">Float64</th></tr></thead><tbody><tr><td class = \"rowNumber\" style = \"font-weight: bold; text-align: right;\">1</td><td style = \"text-align: right;\">1.43946e-7</td><td style = \"text-align: right;\">0.15205</td><td style = \"text-align: left;\">[&quot;NVDA&quot;, &quot;MDT&quot;, &quot;AMD&quot;, &quot;PG&quot;, &quot;MO&quot;, &quot;PLD&quot;]</td><td style = \"text-align: left;\">[1.25973e-7, 0.163492, 2.041e-7, 0.526952, 0.182744, 0.126812]</td><td style = \"text-align: right;\">0.05</td></tr><tr><td class = \"rowNumber\" style = \"font-weight: bold; text-align: right;\">2</td><td style = \"text-align: right;\">0.00454553</td><td style = \"text-align: right;\">0.152389</td><td style = \"text-align: left;\">[&quot;NVDA&quot;, &quot;MDT&quot;, &quot;AMD&quot;, &quot;PG&quot;, &quot;MO&quot;, &quot;PLD&quot;]</td><td style = \"text-align: left;\">[1.43311e-7, 0.152205, 3.11878e-7, 0.541592, 0.166631, 0.139571]</td><td style = \"text-align: right;\">0.05</td></tr><tr><td class = \"rowNumber\" style = \"font-weight: bold; text-align: right;\">3</td><td style = \"text-align: right;\">0.0090909</td><td style = \"text-align: right;\">0.152906</td><td style = \"text-align: left;\">[&quot;NVDA&quot;, &quot;MDT&quot;, &quot;AMD&quot;, &quot;PG&quot;, &quot;MO&quot;, &quot;PLD&quot;]</td><td style = \"text-align: left;\">[-3.00804e-9, 0.140918, 1.50331e-8, 0.556233, 0.150519, 0.15233]</td><td style = \"text-align: right;\">0.05</td></tr><tr><td class = \"rowNumber\" style = \"font-weight: bold; text-align: right;\">4</td><td style = \"text-align: right;\">0.0136364</td><td style = \"text-align: right;\">0.153602</td><td style = \"text-align: left;\">[&quot;NVDA&quot;, &quot;MDT&quot;, &quot;AMD&quot;, &quot;PG&quot;, &quot;MO&quot;, &quot;PLD&quot;]</td><td style = \"text-align: left;\">[-1.79631e-9, 0.129631, 4.45449e-7, 0.570874, 0.134406, 0.165089]</td><td style = \"text-align: right;\">0.05</td></tr><tr><td class = \"rowNumber\" style = \"font-weight: bold; text-align: right;\">5</td><td style = \"text-align: right;\">0.0181818</td><td style = \"text-align: right;\">0.154445</td><td style = \"text-align: left;\">[&quot;NVDA&quot;, &quot;MDT&quot;, &quot;AMD&quot;, &quot;PG&quot;, &quot;MO&quot;, &quot;PLD&quot;]</td><td style = \"text-align: left;\">[2.12656e-7, 0.120293, 0.00527865, 0.579719, 0.123312, 0.171397]</td><td style = \"text-align: right;\">0.05</td></tr><tr><td class = \"rowNumber\" style = \"font-weight: bold; text-align: right;\">6</td><td style = \"text-align: right;\">0.0227273</td><td style = \"text-align: right;\">0.155387</td><td style = \"text-align: left;\">[&quot;NVDA&quot;, &quot;MDT&quot;, &quot;AMD&quot;, &quot;PG&quot;, &quot;MO&quot;, &quot;PLD&quot;]</td><td style = \"text-align: left;\">[2.38957e-7, 0.111319, 0.0115415, 0.587484, 0.113155, 0.176501]</td><td style = \"text-align: right;\">0.05</td></tr><tr><td class = \"rowNumber\" style = \"font-weight: bold; text-align: right;\">7</td><td style = \"text-align: right;\">0.0272728</td><td style = \"text-align: right;\">0.156426</td><td style = \"text-align: left;\">[&quot;NVDA&quot;, &quot;MDT&quot;, &quot;AMD&quot;, &quot;PG&quot;, &quot;MO&quot;, &quot;PLD&quot;]</td><td style = \"text-align: left;\">[2.55663e-7, 0.102345, 0.0178048, 0.595248, 0.102998, 0.181604]</td><td style = \"text-align: right;\">0.05</td></tr><tr><td class = \"rowNumber\" style = \"font-weight: bold; text-align: right;\">8</td><td style = \"text-align: right;\">0.0318182</td><td style = \"text-align: right;\">0.157558</td><td style = \"text-align: left;\">[&quot;NVDA&quot;, &quot;MDT&quot;, &quot;AMD&quot;, &quot;PG&quot;, &quot;MO&quot;, &quot;PLD&quot;]</td><td style = \"text-align: left;\">[2.86795e-7, 0.0933715, 0.024068, 0.603012, 0.0928404, 0.186708]</td><td style = \"text-align: right;\">0.05</td></tr><tr><td class = \"rowNumber\" style = \"font-weight: bold; text-align: right;\">9</td><td style = \"text-align: right;\">0.0363637</td><td style = \"text-align: right;\">0.158782</td><td style = \"text-align: left;\">[&quot;NVDA&quot;, &quot;MDT&quot;, &quot;AMD&quot;, &quot;PG&quot;, &quot;MO&quot;, &quot;PLD&quot;]</td><td style = \"text-align: left;\">[3.39804e-7, 0.0843978, 0.0303313, 0.610776, 0.0826833, 0.191812]</td><td style = \"text-align: right;\">0.05</td></tr><tr><td class = \"rowNumber\" style = \"font-weight: bold; text-align: right;\">10</td><td style = \"text-align: right;\">0.0409091</td><td style = \"text-align: right;\">0.160096</td><td style = \"text-align: left;\">[&quot;NVDA&quot;, &quot;MDT&quot;, &quot;AMD&quot;, &quot;PG&quot;, &quot;MO&quot;, &quot;PLD&quot;]</td><td style = \"text-align: left;\">[4.54293e-7, 0.0754241, 0.0365946, 0.61854, 0.0725263, 0.196915]</td><td style = \"text-align: right;\">0.05</td></tr><tr><td class = \"rowNumber\" style = \"font-weight: bold; text-align: right;\">11</td><td style = \"text-align: right;\">0.0454546</td><td style = \"text-align: right;\">0.161498</td><td style = \"text-align: left;\">[&quot;NVDA&quot;, &quot;MDT&quot;, &quot;AMD&quot;, &quot;PG&quot;, &quot;MO&quot;, &quot;PLD&quot;]</td><td style = \"text-align: left;\">[7.6666e-7, 0.0664504, 0.0428579, 0.626303, 0.0623692, 0.202018]</td><td style = \"text-align: right;\">0.05</td></tr><tr><td class = \"rowNumber\" style = \"font-weight: bold; text-align: right;\">12</td><td style = \"text-align: right;\">0.05</td><td style = \"text-align: right;\">0.162985</td><td style = \"text-align: left;\">[&quot;NVDA&quot;, &quot;MDT&quot;, &quot;AMD&quot;, &quot;PG&quot;, &quot;MO&quot;, &quot;PLD&quot;]</td><td style = \"text-align: left;\">[1.74786e-6, 0.0574766, 0.0491209, 0.634067, 0.0522123, 0.207121]</td><td style = \"text-align: right;\">0.05</td></tr><tr><td class = \"rowNumber\" style = \"font-weight: bold; text-align: right;\">13</td><td style = \"text-align: right;\">0.0545454</td><td style = \"text-align: right;\">0.164556</td><td style = \"text-align: left;\">[&quot;NVDA&quot;, &quot;MDT&quot;, &quot;AMD&quot;, &quot;PG&quot;, &quot;MO&quot;, &quot;PLD&quot;]</td><td style = \"text-align: left;\">[1.27204e-8, 0.0485029, 0.0553847, 0.641832, 0.0420549, 0.212226]</td><td style = \"text-align: right;\">0.05</td></tr><tr><td style = \"text-align: right;\">&vellip;</td><td style = \"text-align: right;\">&vellip;</td><td style = \"text-align: right;\">&vellip;</td><td style = \"text-align: right;\">&vellip;</td><td style = \"text-align: right;\">&vellip;</td><td style = \"text-align: right;\">&vellip;</td></tr><tr><td class = \"rowNumber\" style = \"font-weight: bold; text-align: right;\">53</td><td style = \"text-align: right;\">0.236364</td><td style = \"text-align: right;\">0.371574</td><td style = \"text-align: left;\">[&quot;NVDA&quot;, &quot;MDT&quot;, &quot;AMD&quot;, &quot;PG&quot;, &quot;MO&quot;, &quot;PLD&quot;]</td><td style = \"text-align: left;\">[0.141533, 6.81412e-9, 0.711405, 0.147061, 1.90065e-9, 2.74445e-7]</td><td style = \"text-align: right;\">0.05</td></tr><tr><td class = \"rowNumber\" style = \"font-weight: bold; text-align: right;\">54</td><td style = \"text-align: right;\">0.240909</td><td style = \"text-align: right;\">0.379082</td><td style = \"text-align: left;\">[&quot;NVDA&quot;, &quot;MDT&quot;, &quot;AMD&quot;, &quot;PG&quot;, &quot;MO&quot;, &quot;PLD&quot;]</td><td style = \"text-align: left;\">[0.14443, 6.5487e-9, 0.729281, 0.126289, 1.69116e-9, 3.09402e-7]</td><td style = \"text-align: right;\">0.05</td></tr><tr><td class = \"rowNumber\" style = \"font-weight: bold; text-align: right;\">55</td><td style = \"text-align: right;\">0.245455</td><td style = \"text-align: right;\">0.386634</td><td style = \"text-align: left;\">[&quot;NVDA&quot;, &quot;MDT&quot;, &quot;AMD&quot;, &quot;PG&quot;, &quot;MO&quot;, &quot;PLD&quot;]</td><td style = \"text-align: left;\">[0.147326, 6.09845e-9, 0.747157, 0.105517, 1.39385e-9, 2.52377e-7]</td><td style = \"text-align: right;\">0.05</td></tr><tr><td class = \"rowNumber\" style = \"font-weight: bold; text-align: right;\">56</td><td style = \"text-align: right;\">0.25</td><td style = \"text-align: right;\">0.394228</td><td style = \"text-align: left;\">[&quot;NVDA&quot;, &quot;MDT&quot;, &quot;AMD&quot;, &quot;PG&quot;, &quot;MO&quot;, &quot;PLD&quot;]</td><td style = \"text-align: left;\">[0.150222, 5.82177e-9, 0.765032, 0.0847452, 1.19816e-9, 2.21852e-7]</td><td style = \"text-align: right;\">0.05</td></tr><tr><td class = \"rowNumber\" style = \"font-weight: bold; text-align: right;\">57</td><td style = \"text-align: right;\">0.254545</td><td style = \"text-align: right;\">0.401862</td><td style = \"text-align: left;\">[&quot;NVDA&quot;, &quot;MDT&quot;, &quot;AMD&quot;, &quot;PG&quot;, &quot;MO&quot;, &quot;PLD&quot;]</td><td style = \"text-align: left;\">[0.153118, -9.48432e-9, 0.782908, 0.0639735, -9.62802e-9, -5.86389e-9]</td><td style = \"text-align: right;\">0.05</td></tr><tr><td class = \"rowNumber\" style = \"font-weight: bold; text-align: right;\">58</td><td style = \"text-align: right;\">0.259091</td><td style = \"text-align: right;\">0.409532</td><td style = \"text-align: left;\">[&quot;NVDA&quot;, &quot;MDT&quot;, &quot;AMD&quot;, &quot;PG&quot;, &quot;MO&quot;, &quot;PLD&quot;]</td><td style = \"text-align: left;\">[0.156015, 2.56889e-9, 0.800784, 0.0432014, -9.29485e-10, 8.82012e-8]</td><td style = \"text-align: right;\">0.05</td></tr><tr><td class = \"rowNumber\" style = \"font-weight: bold; text-align: right;\">59</td><td style = \"text-align: right;\">0.263636</td><td style = \"text-align: right;\">0.417238</td><td style = \"text-align: left;\">[&quot;NVDA&quot;, &quot;MDT&quot;, &quot;AMD&quot;, &quot;PG&quot;, &quot;MO&quot;, &quot;PLD&quot;]</td><td style = \"text-align: left;\">[0.158911, 2.23432e-9, 0.81866, 0.0224295, -1.16713e-9, 8.33052e-8]</td><td style = \"text-align: right;\">0.05</td></tr><tr><td class = \"rowNumber\" style = \"font-weight: bold; text-align: right;\">60</td><td style = \"text-align: right;\">0.268182</td><td style = \"text-align: right;\">0.424977</td><td style = \"text-align: left;\">[&quot;NVDA&quot;, &quot;MDT&quot;, &quot;AMD&quot;, &quot;PG&quot;, &quot;MO&quot;, &quot;PLD&quot;]</td><td style = \"text-align: left;\">[0.161799, 1.91677e-9, 0.836539, 0.00166229, -1.39287e-9, 7.88702e-8]</td><td style = \"text-align: right;\">0.05</td></tr><tr><td class = \"rowNumber\" style = \"font-weight: bold; text-align: right;\">61</td><td style = \"text-align: right;\">0.272727</td><td style = \"text-align: right;\">0.432934</td><td style = \"text-align: left;\">[&quot;NVDA&quot;, &quot;MDT&quot;, &quot;AMD&quot;, &quot;PG&quot;, &quot;MO&quot;, &quot;PLD&quot;]</td><td style = \"text-align: left;\">[0.131613, 4.35546e-10, 0.868387, 1.54063e-7, -2.3775e-9, 4.73857e-8]</td><td style = \"text-align: right;\">0.05</td></tr><tr><td class = \"rowNumber\" style = \"font-weight: bold; text-align: right;\">62</td><td style = \"text-align: right;\">0.277273</td><td style = \"text-align: right;\">0.441343</td><td style = \"text-align: left;\">[&quot;NVDA&quot;, &quot;MDT&quot;, &quot;AMD&quot;, &quot;PG&quot;, &quot;MO&quot;, &quot;PLD&quot;]</td><td style = \"text-align: left;\">[0.098549, -7.05763e-10, 0.901451, 1.20094e-7, -3.16073e-9, 3.73751e-8]</td><td style = \"text-align: right;\">0.05</td></tr><tr><td class = \"rowNumber\" style = \"font-weight: bold; text-align: right;\">63</td><td style = \"text-align: right;\">0.281818</td><td style = \"text-align: right;\">0.450181</td><td style = \"text-align: left;\">[&quot;NVDA&quot;, &quot;MDT&quot;, &quot;AMD&quot;, &quot;PG&quot;, &quot;MO&quot;, &quot;PLD&quot;]</td><td style = \"text-align: left;\">[0.0654855, -1.74746e-9, 0.934514, 4.04102e-8, -3.86976e-9, 2.29039e-8]</td><td style = \"text-align: right;\">0.05</td></tr><tr><td class = \"rowNumber\" style = \"font-weight: bold; text-align: right;\">64</td><td style = \"text-align: right;\">0.286364</td><td style = \"text-align: right;\">0.459423</td><td style = \"text-align: left;\">[&quot;NVDA&quot;, &quot;MDT&quot;, &quot;AMD&quot;, &quot;PG&quot;, &quot;MO&quot;, &quot;PLD&quot;]</td><td style = \"text-align: left;\">[0.0324218, -2.49946e-9, 0.967578, 2.916e-8, -4.39824e-9, 1.76938e-8]</td><td style = \"text-align: right;\">0.05</td></tr></tbody></table></div>"
      ],
      "text/latex": [
       "\\begin{tabular}{r|ccccc}\n",
       "\t& expected\\_excess\\_return & risk & tickers & w & \\\\\n",
       "\t\\hline\n",
       "\t& Float64 & Float64 & Array… & Array… & \\\\\n",
       "\t\\hline\n",
       "\t1 & 1.43946e-7 & 0.15205 & [\"NVDA\", \"MDT\", \"AMD\", \"PG\", \"MO\", \"PLD\"] & [1.25973e-7, 0.163492, 2.041e-7, 0.526952, 0.182744, 0.126812] & $\\dots$ \\\\\n",
       "\t2 & 0.00454553 & 0.152389 & [\"NVDA\", \"MDT\", \"AMD\", \"PG\", \"MO\", \"PLD\"] & [1.43311e-7, 0.152205, 3.11878e-7, 0.541592, 0.166631, 0.139571] & $\\dots$ \\\\\n",
       "\t3 & 0.0090909 & 0.152906 & [\"NVDA\", \"MDT\", \"AMD\", \"PG\", \"MO\", \"PLD\"] & [-3.00804e-9, 0.140918, 1.50331e-8, 0.556233, 0.150519, 0.15233] & $\\dots$ \\\\\n",
       "\t4 & 0.0136364 & 0.153602 & [\"NVDA\", \"MDT\", \"AMD\", \"PG\", \"MO\", \"PLD\"] & [-1.79631e-9, 0.129631, 4.45449e-7, 0.570874, 0.134406, 0.165089] & $\\dots$ \\\\\n",
       "\t5 & 0.0181818 & 0.154445 & [\"NVDA\", \"MDT\", \"AMD\", \"PG\", \"MO\", \"PLD\"] & [2.12656e-7, 0.120293, 0.00527865, 0.579719, 0.123312, 0.171397] & $\\dots$ \\\\\n",
       "\t6 & 0.0227273 & 0.155387 & [\"NVDA\", \"MDT\", \"AMD\", \"PG\", \"MO\", \"PLD\"] & [2.38957e-7, 0.111319, 0.0115415, 0.587484, 0.113155, 0.176501] & $\\dots$ \\\\\n",
       "\t7 & 0.0272728 & 0.156426 & [\"NVDA\", \"MDT\", \"AMD\", \"PG\", \"MO\", \"PLD\"] & [2.55663e-7, 0.102345, 0.0178048, 0.595248, 0.102998, 0.181604] & $\\dots$ \\\\\n",
       "\t8 & 0.0318182 & 0.157558 & [\"NVDA\", \"MDT\", \"AMD\", \"PG\", \"MO\", \"PLD\"] & [2.86795e-7, 0.0933715, 0.024068, 0.603012, 0.0928404, 0.186708] & $\\dots$ \\\\\n",
       "\t9 & 0.0363637 & 0.158782 & [\"NVDA\", \"MDT\", \"AMD\", \"PG\", \"MO\", \"PLD\"] & [3.39804e-7, 0.0843978, 0.0303313, 0.610776, 0.0826833, 0.191812] & $\\dots$ \\\\\n",
       "\t10 & 0.0409091 & 0.160096 & [\"NVDA\", \"MDT\", \"AMD\", \"PG\", \"MO\", \"PLD\"] & [4.54293e-7, 0.0754241, 0.0365946, 0.61854, 0.0725263, 0.196915] & $\\dots$ \\\\\n",
       "\t11 & 0.0454546 & 0.161498 & [\"NVDA\", \"MDT\", \"AMD\", \"PG\", \"MO\", \"PLD\"] & [7.6666e-7, 0.0664504, 0.0428579, 0.626303, 0.0623692, 0.202018] & $\\dots$ \\\\\n",
       "\t12 & 0.05 & 0.162985 & [\"NVDA\", \"MDT\", \"AMD\", \"PG\", \"MO\", \"PLD\"] & [1.74786e-6, 0.0574766, 0.0491209, 0.634067, 0.0522123, 0.207121] & $\\dots$ \\\\\n",
       "\t13 & 0.0545454 & 0.164556 & [\"NVDA\", \"MDT\", \"AMD\", \"PG\", \"MO\", \"PLD\"] & [1.27204e-8, 0.0485029, 0.0553847, 0.641832, 0.0420549, 0.212226] & $\\dots$ \\\\\n",
       "\t14 & 0.0590909 & 0.166207 & [\"NVDA\", \"MDT\", \"AMD\", \"PG\", \"MO\", \"PLD\"] & [6.52009e-7, 0.0395293, 0.061648, 0.649595, 0.031898, 0.217329] & $\\dots$ \\\\\n",
       "\t15 & 0.0636364 & 0.167937 & [\"NVDA\", \"MDT\", \"AMD\", \"PG\", \"MO\", \"PLD\"] & [1.033e-6, 0.0305555, 0.0679113, 0.657359, 0.021741, 0.222432] & $\\dots$ \\\\\n",
       "\t16 & 0.0681818 & 0.169742 & [\"NVDA\", \"MDT\", \"AMD\", \"PG\", \"MO\", \"PLD\"] & [4.31921e-6, 0.0215812, 0.0741738, 0.665122, 0.0115848, 0.227534] & $\\dots$ \\\\\n",
       "\t17 & 0.0727273 & 0.171621 & [\"NVDA\", \"MDT\", \"AMD\", \"PG\", \"MO\", \"PLD\"] & [5.86539e-8, 0.0126047, 0.0804391, 0.672887, 0.0014299, 0.232639] & $\\dots$ \\\\\n",
       "\t18 & 0.0772727 & 0.173601 & [\"NVDA\", \"MDT\", \"AMD\", \"PG\", \"MO\", \"PLD\"] & [2.52499e-5, 2.01983e-6, 0.0920459, 0.674612, 8.68283e-7, 0.233314] & $\\dots$ \\\\\n",
       "\t19 & 0.0818182 & 0.17588 & [\"NVDA\", \"MDT\", \"AMD\", \"PG\", \"MO\", \"PLD\"] & [0.00379627, 4.26132e-7, 0.110041, 0.663569, 2.62799e-7, 0.222593] & $\\dots$ \\\\\n",
       "\t20 & 0.0863636 & 0.178501 & [\"NVDA\", \"MDT\", \"AMD\", \"PG\", \"MO\", \"PLD\"] & [0.00866003, 2.34602e-7, 0.127596, 0.652313, 1.51928e-7, 0.211431] & $\\dots$ \\\\\n",
       "\t21 & 0.0909091 & 0.181448 & [\"NVDA\", \"MDT\", \"AMD\", \"PG\", \"MO\", \"PLD\"] & [0.0135231, 1.59962e-7, 0.145151, 0.641057, 1.05135e-7, 0.200269] & $\\dots$ \\\\\n",
       "\t22 & 0.0954545 & 0.184706 & [\"NVDA\", \"MDT\", \"AMD\", \"PG\", \"MO\", \"PLD\"] & [0.018388, -4.8032e-9, 0.162705, 0.629801, -6.43572e-9, 0.189106] & $\\dots$ \\\\\n",
       "\t23 & 0.1 & 0.188258 & [\"NVDA\", \"MDT\", \"AMD\", \"PG\", \"MO\", \"PLD\"] & [0.0232545, 9.55432e-8, 0.180259, 0.618544, 6.29675e-8, 0.177943] & $\\dots$ \\\\\n",
       "\t24 & 0.104545 & 0.192089 & [\"NVDA\", \"MDT\", \"AMD\", \"PG\", \"MO\", \"PLD\"] & [0.0281196, 7.8731e-8, 0.197813, 0.607287, 5.1671e-8, 0.16678] & $\\dots$ \\\\\n",
       "\t$\\dots$ & $\\dots$ & $\\dots$ & $\\dots$ & $\\dots$ &  \\\\\n",
       "\\end{tabular}\n"
      ],
      "text/plain": [
       "\u001b[1m64×5 DataFrame\u001b[0m\n",
       "\u001b[1m Row \u001b[0m│\u001b[1m expected_excess_return \u001b[0m\u001b[1m risk     \u001b[0m\u001b[1m tickers                           \u001b[0m\u001b[1m w \u001b[0m ⋯\n",
       "     │\u001b[90m Float64                \u001b[0m\u001b[90m Float64  \u001b[0m\u001b[90m Array…                            \u001b[0m\u001b[90m Ar\u001b[0m ⋯\n",
       "─────┼──────────────────────────────────────────────────────────────────────────\n",
       "   1 │             1.43946e-7  0.15205   [\"NVDA\", \"MDT\", \"AMD\", \"PG\", \"MO…  [1 ⋯\n",
       "   2 │             0.00454553  0.152389  [\"NVDA\", \"MDT\", \"AMD\", \"PG\", \"MO…  [1\n",
       "   3 │             0.0090909   0.152906  [\"NVDA\", \"MDT\", \"AMD\", \"PG\", \"MO…  [-\n",
       "   4 │             0.0136364   0.153602  [\"NVDA\", \"MDT\", \"AMD\", \"PG\", \"MO…  [-\n",
       "   5 │             0.0181818   0.154445  [\"NVDA\", \"MDT\", \"AMD\", \"PG\", \"MO…  [2 ⋯\n",
       "   6 │             0.0227273   0.155387  [\"NVDA\", \"MDT\", \"AMD\", \"PG\", \"MO…  [2\n",
       "   7 │             0.0272728   0.156426  [\"NVDA\", \"MDT\", \"AMD\", \"PG\", \"MO…  [2\n",
       "   8 │             0.0318182   0.157558  [\"NVDA\", \"MDT\", \"AMD\", \"PG\", \"MO…  [2\n",
       "  ⋮  │           ⋮                ⋮                      ⋮                     ⋱\n",
       "  58 │             0.259091    0.409532  [\"NVDA\", \"MDT\", \"AMD\", \"PG\", \"MO…  [0 ⋯\n",
       "  59 │             0.263636    0.417238  [\"NVDA\", \"MDT\", \"AMD\", \"PG\", \"MO…  [0\n",
       "  60 │             0.268182    0.424977  [\"NVDA\", \"MDT\", \"AMD\", \"PG\", \"MO…  [0\n",
       "  61 │             0.272727    0.432934  [\"NVDA\", \"MDT\", \"AMD\", \"PG\", \"MO…  [0\n",
       "  62 │             0.277273    0.441343  [\"NVDA\", \"MDT\", \"AMD\", \"PG\", \"MO…  [0 ⋯\n",
       "  63 │             0.281818    0.450181  [\"NVDA\", \"MDT\", \"AMD\", \"PG\", \"MO…  [0\n",
       "  64 │             0.286364    0.459423  [\"NVDA\", \"MDT\", \"AMD\", \"PG\", \"MO…  [0\n",
       "\u001b[36m                                                   2 columns and 49 rows omitted\u001b[0m"
      ]
     },
     "metadata": {},
     "output_type": "display_data"
    }
   ],
   "source": [
    "efficient_frontier = load(joinpath(_PATH_TO_DATA,\n",
    "        \"EfficientFrontier-cesteam-PD1-CHEME-5660-Fall-2023.jld2\")) |> x->x[\"dataset\"]"
   ]
  },
  {
   "cell_type": "markdown",
   "id": "972ea748",
   "metadata": {},
   "source": [
    "### Task One: Initial Allocation"
   ]
  },
  {
   "cell_type": "code",
   "execution_count": 12,
   "id": "7d160162",
   "metadata": {},
   "outputs": [
    {
     "data": {
      "text/plain": [
       "(0.2863636276792971, 64)"
      ]
     },
     "metadata": {},
     "output_type": "display_data"
    }
   ],
   "source": [
    "#Find the portfolio with the maximum expected excess returns\n",
    "\n",
    "findmax(efficient_frontier[!,\"expected_excess_return\"])"
   ]
  },
  {
   "cell_type": "markdown",
   "id": "d555e38d",
   "metadata": {},
   "source": [
    "We will use Portfolio 64. Using results from Lab 15b, we can find what is in this portfolio by sampling the array generated above "
   ]
  },
  {
   "cell_type": "code",
   "execution_count": 13,
   "id": "db2eb8eb",
   "metadata": {},
   "outputs": [
    {
     "name": "stdout",
     "output_type": "stream",
     "text": [
      "Portfolio #64 has an exected excess return of 0.2863636276792971 with risk = 0.4594230792505488. \n",
      "The risk free rate is 0.05%.\n"
     ]
    }
   ],
   "source": [
    "portfolio=64;\n",
    "expected_excess_return=efficient_frontier[portfolio, :expected_excess_return]\n",
    "risk=efficient_frontier[portfolio, :risk]\n",
    "tickers=efficient_frontier[portfolio, :tickers]\n",
    "w=efficient_frontier[portfolio, :w]\n",
    "risk_free_rate=efficient_frontier[portfolio, :risk_free_rate]\n",
    "\n",
    "println(\"Portfolio #$(portfolio) has an exected excess return of $(expected_excess_return) with risk = $(risk). \n",
    "The risk free rate is $(risk_free_rate)%.\")"
   ]
  },
  {
   "cell_type": "code",
   "execution_count": 14,
   "id": "91e5c537",
   "metadata": {},
   "outputs": [
    {
     "name": "stdout",
     "output_type": "stream",
     "text": [
      "NVDA forms 3.2421779736775127% of our portfolio\n",
      "MDT forms 0% of our portfolio\n",
      "AMD forms 96.75781803071864% of our portfolio\n",
      "PG forms 0% of our portfolio\n",
      "MO forms 0% of our portfolio\n",
      "PLD forms 0% of our portfolio\n"
     ]
    },
    {
     "data": {
      "text/html": [
       "<div><div style = \"float: left;\"><span>6×2 DataFrame</span></div><div style = \"clear: both;\"></div></div><div class = \"data-frame\" style = \"overflow-x: scroll;\"><table class = \"data-frame\" style = \"margin-bottom: 6px;\"><thead><tr class = \"header\"><th class = \"rowNumber\" style = \"font-weight: bold; text-align: right;\">Row</th><th style = \"text-align: left;\">tick</th><th style = \"text-align: left;\">alloc</th></tr><tr class = \"subheader headerLastRow\"><th class = \"rowNumber\" style = \"font-weight: bold; text-align: right;\"></th><th title = \"String\" style = \"text-align: left;\">String</th><th title = \"Float64\" style = \"text-align: left;\">Float64</th></tr></thead><tbody><tr><td class = \"rowNumber\" style = \"font-weight: bold; text-align: right;\">1</td><td style = \"text-align: left;\">NVDA</td><td style = \"text-align: right;\">0.0324218</td></tr><tr><td class = \"rowNumber\" style = \"font-weight: bold; text-align: right;\">2</td><td style = \"text-align: left;\">MDT</td><td style = \"text-align: right;\">0.0</td></tr><tr><td class = \"rowNumber\" style = \"font-weight: bold; text-align: right;\">3</td><td style = \"text-align: left;\">AMD</td><td style = \"text-align: right;\">0.967578</td></tr><tr><td class = \"rowNumber\" style = \"font-weight: bold; text-align: right;\">4</td><td style = \"text-align: left;\">PG</td><td style = \"text-align: right;\">0.0</td></tr><tr><td class = \"rowNumber\" style = \"font-weight: bold; text-align: right;\">5</td><td style = \"text-align: left;\">MO</td><td style = \"text-align: right;\">0.0</td></tr><tr><td class = \"rowNumber\" style = \"font-weight: bold; text-align: right;\">6</td><td style = \"text-align: left;\">PLD</td><td style = \"text-align: right;\">0.0</td></tr></tbody></table></div>"
      ],
      "text/latex": [
       "\\begin{tabular}{r|cc}\n",
       "\t& tick & alloc\\\\\n",
       "\t\\hline\n",
       "\t& String & Float64\\\\\n",
       "\t\\hline\n",
       "\t1 & NVDA & 0.0324218 \\\\\n",
       "\t2 & MDT & 0.0 \\\\\n",
       "\t3 & AMD & 0.967578 \\\\\n",
       "\t4 & PG & 0.0 \\\\\n",
       "\t5 & MO & 0.0 \\\\\n",
       "\t6 & PLD & 0.0 \\\\\n",
       "\\end{tabular}\n"
      ],
      "text/plain": [
       "\u001b[1m6×2 DataFrame\u001b[0m\n",
       "\u001b[1m Row \u001b[0m│\u001b[1m tick   \u001b[0m\u001b[1m alloc     \u001b[0m\n",
       "     │\u001b[90m String \u001b[0m\u001b[90m Float64   \u001b[0m\n",
       "─────┼───────────────────\n",
       "   1 │ NVDA    0.0324218\n",
       "   2 │ MDT     0.0\n",
       "   3 │ AMD     0.967578\n",
       "   4 │ PG      0.0\n",
       "   5 │ MO      0.0\n",
       "   6 │ PLD     0.0"
      ]
     },
     "metadata": {},
     "output_type": "display_data"
    }
   ],
   "source": [
    "i=0\n",
    "for item in efficient_frontier[portfolio, :tickers]\n",
    "    i+=1\n",
    "    if w[i]<0.00001\n",
    "        weight=0 \n",
    "    else\n",
    "        weight=w[i]*100\n",
    "    end\n",
    "    println(\"$item forms $weight% of our portfolio\")\n",
    "end\n",
    "\n",
    "#Now put into dataframe form, similar to Lab15b. Adjust values that are low (aribtary) to 0% allocation\n",
    "\n",
    "new_df=DataFrame();\n",
    "for element in eachindex(w)\n",
    "    weight_element=w[element]\n",
    "    if w[element]<0.00001\n",
    "        weight_element=0\n",
    "    end\n",
    "    row_df=(\n",
    "        tick=tickers[element],\n",
    "        alloc=weight_element\n",
    "    )\n",
    "    push!(new_df, row_df)\n",
    "end\n",
    "\n",
    "\n",
    "new_df"
   ]
  },
  {
   "cell_type": "markdown",
   "id": "0c17aa64",
   "metadata": {},
   "source": [
    "We now need to know how many shares we purchased of each stock:"
   ]
  },
  {
   "cell_type": "code",
   "execution_count": 15,
   "id": "73aa9f94",
   "metadata": {},
   "outputs": [
    {
     "data": {
      "text/plain": [
       "6-element Vector{Float64}:\n",
       " 143.15\n",
       "  78.26\n",
       "  64.02\n",
       " 151.57\n",
       "  45.52\n",
       " 112.69"
      ]
     },
     "metadata": {},
     "output_type": "display_data"
    }
   ],
   "source": [
    "# From Lab15b\n",
    "price_initial=Array{Float64,1}();\n",
    "for stock in tickers\n",
    "    price_df=dataset[stock]\n",
    "    price=filter(:timestamp=> y-> y>= startdate, price_df) |> y-> y[1,:close]\n",
    "    push!(price_initial, price)\n",
    "end\n",
    "\n",
    "price_initial"
   ]
  },
  {
   "cell_type": "code",
   "execution_count": 16,
   "id": "efc332f4",
   "metadata": {},
   "outputs": [],
   "source": [
    "i=0\n",
    "weight_initial=Array{Float64,1}();\n",
    "for item in efficient_frontier[portfolio, :tickers]\n",
    "    i+=1\n",
    "    if w[i]<0.00001\n",
    "        weight=0 \n",
    "        push!(weight_initial, weight)\n",
    "    else\n",
    "        weight=w[i]\n",
    "    push!(weight_initial, weight)\n",
    "    end\n",
    "end"
   ]
  },
  {
   "cell_type": "code",
   "execution_count": 20,
   "id": "b1849e56",
   "metadata": {},
   "outputs": [
    {
     "name": "stdout",
     "output_type": "stream",
     "text": [
      "For ticker NVDA, we will allocate 32.42177973677512 to purchase 0.22648815743468473 shares\n",
      "For ticker MDT, we will allocate 0.0 to purchase 0.0 shares\n",
      "For ticker AMD, we will allocate 967.5781803071864 to purchase 15.113686040412158 shares\n",
      "For ticker PG, we will allocate 0.0 to purchase 0.0 shares\n",
      "For ticker MO, we will allocate 0.0 to purchase 0.0 shares\n",
      "For ticker PLD, we will allocate 0.0 to purchase 0.0 shares\n"
     ]
    }
   ],
   "source": [
    "tickers_df = efficient_frontier[portfolio, :tickers];\n",
    "m=0\n",
    "for i in efficient_frontier[portfolio, :tickers]\n",
    "    m+=1\n",
    "    allocate=budget*weight_initial[m]\n",
    "    shares=allocate/price_initial[m]\n",
    "    println(\"For ticker $i, we will allocate $allocate to purchase $shares shares\")\n",
    "end"
   ]
  },
  {
   "cell_type": "code",
   "execution_count": 17,
   "id": "bfb21c02",
   "metadata": {},
   "outputs": [
    {
     "data": {
      "text/html": [
       "<div><div style = \"float: left;\"><span>6×2 DataFrame</span></div><div style = \"clear: both;\"></div></div><div class = \"data-frame\" style = \"overflow-x: scroll;\"><table class = \"data-frame\" style = \"margin-bottom: 6px;\"><thead><tr class = \"header\"><th class = \"rowNumber\" style = \"font-weight: bold; text-align: right;\">Row</th><th style = \"text-align: left;\">tick</th><th style = \"text-align: left;\">alloc</th></tr><tr class = \"subheader headerLastRow\"><th class = \"rowNumber\" style = \"font-weight: bold; text-align: right;\"></th><th title = \"String\" style = \"text-align: left;\">String</th><th title = \"Float64\" style = \"text-align: left;\">Float64</th></tr></thead><tbody><tr><td class = \"rowNumber\" style = \"font-weight: bold; text-align: right;\">1</td><td style = \"text-align: left;\">NVDA</td><td style = \"text-align: right;\">0.0324218</td></tr><tr><td class = \"rowNumber\" style = \"font-weight: bold; text-align: right;\">2</td><td style = \"text-align: left;\">MDT</td><td style = \"text-align: right;\">0.0</td></tr><tr><td class = \"rowNumber\" style = \"font-weight: bold; text-align: right;\">3</td><td style = \"text-align: left;\">AMD</td><td style = \"text-align: right;\">0.967578</td></tr><tr><td class = \"rowNumber\" style = \"font-weight: bold; text-align: right;\">4</td><td style = \"text-align: left;\">PG</td><td style = \"text-align: right;\">0.0</td></tr><tr><td class = \"rowNumber\" style = \"font-weight: bold; text-align: right;\">5</td><td style = \"text-align: left;\">MO</td><td style = \"text-align: right;\">0.0</td></tr><tr><td class = \"rowNumber\" style = \"font-weight: bold; text-align: right;\">6</td><td style = \"text-align: left;\">PLD</td><td style = \"text-align: right;\">0.0</td></tr></tbody></table></div>"
      ],
      "text/latex": [
       "\\begin{tabular}{r|cc}\n",
       "\t& tick & alloc\\\\\n",
       "\t\\hline\n",
       "\t& String & Float64\\\\\n",
       "\t\\hline\n",
       "\t1 & NVDA & 0.0324218 \\\\\n",
       "\t2 & MDT & 0.0 \\\\\n",
       "\t3 & AMD & 0.967578 \\\\\n",
       "\t4 & PG & 0.0 \\\\\n",
       "\t5 & MO & 0.0 \\\\\n",
       "\t6 & PLD & 0.0 \\\\\n",
       "\\end{tabular}\n"
      ],
      "text/plain": [
       "\u001b[1m6×2 DataFrame\u001b[0m\n",
       "\u001b[1m Row \u001b[0m│\u001b[1m tick   \u001b[0m\u001b[1m alloc     \u001b[0m\n",
       "     │\u001b[90m String \u001b[0m\u001b[90m Float64   \u001b[0m\n",
       "─────┼───────────────────\n",
       "   1 │ NVDA    0.0324218\n",
       "   2 │ MDT     0.0\n",
       "   3 │ AMD     0.967578\n",
       "   4 │ PG      0.0\n",
       "   5 │ MO      0.0\n",
       "   6 │ PLD     0.0"
      ]
     },
     "metadata": {},
     "output_type": "display_data"
    }
   ],
   "source": [
    "new_df"
   ]
  },
  {
   "cell_type": "markdown",
   "id": "089e2be2",
   "metadata": {},
   "source": [
    "### Task Two: Ongoing Reallocation"
   ]
  },
  {
   "cell_type": "code",
   "execution_count": 18,
   "id": "8e71c061",
   "metadata": {},
   "outputs": [],
   "source": [
    "trading_days= 229 # Difference between Jan 3 and Dec 1 of 2023, with weekends and holidays removed\n",
    "learning_rate= 0.02 #CHANGE\n",
    "μ = mean(all_firms_return_matrix, dims=1) |> vec;"
   ]
  },
  {
   "cell_type": "code",
   "execution_count": 22,
   "id": "c40e7a69",
   "metadata": {},
   "outputs": [
    {
     "data": {
      "text/plain": [
       "459-element Vector{Float64}:\n",
       "  0.09520873574379649\n",
       " -0.2162080717392586\n",
       " -0.10794226443585754\n",
       "  0.22836905773049826\n",
       "  0.056004266937846665\n",
       "  0.088632152841437\n",
       "  0.11998872149267306\n",
       "  0.18737259050359928\n",
       "  0.10723986668572992\n",
       "  0.09707314536665643\n",
       "  ⋮\n",
       "  0.038211698941704515\n",
       "  0.027798995465313416\n",
       " -0.11173255715563579\n",
       "  0.06674886823579393\n",
       "  0.06790561918886862\n",
       " -0.009395334482788936\n",
       "  0.12703582210102957\n",
       " -0.04403739223114084\n",
       "  0.13973799380763502"
      ]
     },
     "metadata": {},
     "output_type": "display_data"
    }
   ],
   "source": [
    "return_all= log_return_matrix(dataset, all_tickers, \n",
    "    Δt = (1.0/229));\n",
    "\n",
    "μ=mean(return_all, dims=1)|> vec"
   ]
  },
  {
   "cell_type": "code",
   "execution_count": 41,
   "id": "89eef7c1",
   "metadata": {},
   "outputs": [
    {
     "data": {
      "text/plain": [
       "459×459 Matrix{Float64}:\n",
       " 0.0        0.0        0.0      0.0        …  0.0        0.0        0.0\n",
       " 0.0        0.0        0.0      0.0           0.0        0.0        0.0\n",
       " 0.0        0.0        0.0      0.0           0.0        0.0        0.0\n",
       " 0.0        0.0        0.0      0.0           0.0        0.0        0.0\n",
       " 0.0        0.0        0.0      0.0           0.0        0.0        0.0\n",
       " 0.0260246  0.0430559  0.02355  0.0303052  …  0.0334263  0.0302624  0.0254935\n",
       " 0.0        0.0        0.0      0.0           0.0        0.0        0.0\n",
       " 0.0        0.0        0.0      0.0           0.0        0.0        0.0\n",
       " 0.0        0.0        0.0      0.0           0.0        0.0        0.0\n",
       " 0.0        0.0        0.0      0.0           0.0        0.0        0.0\n",
       " ⋮                                         ⋱                        \n",
       " 0.0        0.0        0.0      0.0        …  0.0        0.0        0.0\n",
       " 0.0        0.0        0.0      0.0           0.0        0.0        0.0\n",
       " 0.0        0.0        0.0      0.0           0.0        0.0        0.0\n",
       " 0.0        0.0        0.0      0.0           0.0        0.0        0.0\n",
       " 0.0        0.0        0.0      0.0           0.0        0.0        0.0\n",
       " 0.0        0.0        0.0      0.0        …  0.0        0.0        0.0\n",
       " 0.0        0.0        0.0      0.0           0.0        0.0        0.0\n",
       " 0.0        0.0        0.0      0.0           0.0        0.0        0.0\n",
       " 0.0        0.0        0.0      0.0           0.0        0.0        0.0"
      ]
     },
     "metadata": {},
     "output_type": "display_data"
    }
   ],
   "source": [
    "# Σ_sim from Lab15b, covariance array between tickers \n",
    "spy_index=findfirst(e->e==\"SPY\",all_tickers)\n",
    "sigma_m=std(return_all[:,spy_index])\n",
    "Σ_empty=Array{Float64,2}(undef, length(μ), length(μ))\n",
    "for item in eachindex(all_tickers)\n",
    "    outers=all_tickers[item]\n",
    "    simulate_outside=SIMs[outers]\n",
    "\n",
    "    for j in eachindex(all_tickers)\n",
    "        inners=all_tickers[j]\n",
    "        simulate_inside=SIMs[inners]\n",
    "\n",
    "        if (i==j) \n",
    "            beta=simulate_outside.β\n",
    "            eta=simulate_outside.ϵ\n",
    "            sigma_e=params(eta)[2]; #Adapted direct from 15b\n",
    "            Σ_empty[i,j]=((beta)^2)*((sigma_m)^2)+(sigma_e)^2\n",
    "        else\n",
    "            beta_i= simulate_outside.β\n",
    "            beta_j= simulate_inside.β\n",
    "            Σ_empty[i,j]= (beta_i)*(beta_j)*(sigma_m)^2\n",
    "        end\n",
    "    end        \n",
    "end\n",
    "\n",
    "Σ_sim=Σ_empty |> x -> x*(1/229)"
   ]
  },
  {
   "cell_type": "code",
   "execution_count": 40,
   "id": "edcba7d9",
   "metadata": {},
   "outputs": [],
   "source": [
    "# Vital parameters for model, adapted from Do Not Edit block in lab15b\n",
    "\n",
    "firm_ids=Array{Int64, 1}();\n",
    "for item in tickers\n",
    "    firm_index = findfirst(e->e==item,all_tickers);\n",
    "    push!(firm_ids,firm_index)\n",
    "end\n",
    "\n",
    "μ̂=Array{Float64, 1}();\n",
    "for index in firm_ids\n",
    "    push!(μ̂, μ[index])\n",
    "end\n",
    "\n",
    "firms_l=length(firm_ids)\n",
    "Σ̂=Array{Float64, 2}(undef, firms_l, firms_l)\n",
    "for element in eachindex(firm_ids)\n",
    "    row_ele=firm_ids[i]\n",
    "    for j in eachindex(firm_ids)\n",
    "        col_ele=firm_ids[i]\n",
    "        Σ̂[i,j]=Σ_sim[row_ele, col_ele]\n",
    "    end\n",
    "end"
   ]
  },
  {
   "cell_type": "code",
   "execution_count": 44,
   "id": "91ecf2a4",
   "metadata": {},
   "outputs": [
    {
     "data": {
      "text/plain": [
       "MyMarkowitzRiskyAssetOnlyPortfiolioChoiceProblem([2.391675429e-314 2.1500444194e-314 … 2.150045621e-314 2.150046348e-314; 2.391675429e-314 2.150044862e-314 … 2.1500456526e-314 2.15004638e-314; … ; 5.3608567843e-314 2.1500449886e-314 … 2.1500458423e-314 2.1500464747e-314; 0.0 0.0 … 0.0 0.0], [0.3368083880034543, -0.007904898363717482, 0.35880687247592413, 0.08024389402442934, -0.0780534688593898, 0.09384486326422115], [0.0 1.0; 0.0 1.0; … ; 0.0 1.0; 0.0 1.0], 0.0, [0.032421779736775125, -2.4994641898163153e-9, 0.9675781803071863, 2.9159955151633482e-8, -4.398235672337897e-9, 1.769378326886674e-8])"
      ]
     },
     "metadata": {},
     "output_type": "display_data"
    }
   ],
   "source": [
    "firms_picked=length(tickers)\n",
    "bounds=zeros(firms_picked,2)\n",
    "bounds[:,2].=1.0;#direct from 15b\n",
    "\n",
    "sim_initial=build(MyMarkowitzRiskyAssetOnlyPortfiolioChoiceProblem, (\n",
    "    Σ = Σ̂,\n",
    "    μ = μ̂,\n",
    "    bounds = bounds,\n",
    "    initial=w,\n",
    "    R=0.0\n",
    "))\n"
   ]
  },
  {
   "cell_type": "code",
   "execution_count": 54,
   "metadata": {},
   "outputs": [
    {
     "data": {
      "text/plain": [
       "2:230"
      ]
     },
     "metadata": {},
     "output_type": "display_data"
    }
   ],
   "source": [
    "2:(trading_days+1)"
   ]
  },
  {
   "cell_type": "code",
   "execution_count": 63,
   "id": "1985d697",
   "metadata": {},
   "outputs": [
    {
     "ename": "KeyError",
     "evalue": "KeyError: key 2 not found",
     "output_type": "error",
     "traceback": [
      "KeyError: key 2 not found\n",
      "\n",
      "Stacktrace:\n",
      " [1] getindex(h::Dict{String, DataFrame}, key::Int64)\n",
      "   @ Base ./dict.jl:484\n",
      " [2] top-level scope\n",
      "   @ ~/Desktop/CHEME-5660-Project-Template-F23/Template.ipynb:7"
     ]
    }
   ],
   "source": [
    "#Lab 15b instructs us to make a Queue data structure\n",
    "next_close=Queue{Vector{Float64}}();\n",
    "range=2:(trading_days+1);\n",
    "for element in range\n",
    "    price_arr=Array{Float64, 1}();\n",
    "    for index in tickers\n",
    "        price=dataset[element]\n",
    "        start=filter(:timestamp => x-> x >= startdate, price)|>x->x[i,:close] #direct 15b\n",
    "        push!(price_arr, start)\n",
    "    end \n",
    "\n",
    "    enqueue!(next_close, price_arr)\n",
    "end\n"
   ]
  },
  {
   "cell_type": "code",
   "execution_count": 65,
   "id": "d866ec34",
   "metadata": {},
   "outputs": [
    {
     "data": {
      "text/plain": [
       "0.32522917849887734"
      ]
     },
     "metadata": {},
     "output_type": "display_data"
    }
   ],
   "source": [
    "min_return_goal=4*μ[spy_index]"
   ]
  },
  {
   "cell_type": "code",
   "execution_count": null,
   "id": "8bdee2cb",
   "metadata": {},
   "outputs": [],
   "source": [
    "#Simulation"
   ]
  },
  {
   "cell_type": "markdown",
   "id": "b3b5cd21-bb87-4bb0-b2e3-29391ba3859f",
   "metadata": {},
   "source": [
    "## Disclaimer and Risks\n",
    "__This content is offered solely for training and  informational purposes__. No offer or solicitation to buy or sell securities or derivative products, or any investment or trading advice or strategy,  is made, given, or endorsed by the teaching team. \n",
    "\n",
    "__Trading involves risk__. Carefully review your financial situation before investing in securities, futures contracts, options, or commodity interests. Past performance, whether actual or indicated by historical tests of strategies, is no guarantee of future performance or success. Trading is generally inappropriate for someone with limited resources, investment or trading experience, or a low-risk tolerance.  Only risk capital that is not required for living expenses.\n",
    "\n",
    "__You are fully responsible for any investment or trading decisions you make__. Such decisions should be based solely on your evaluation of your financial circumstances, investment or trading objectives, risk tolerance, and liquidity needs."
   ]
  }
 ],
 "metadata": {
  "kernelspec": {
   "display_name": "Julia 1.9.2",
   "language": "julia",
   "name": "julia-1.9"
  },
  "language_info": {
   "file_extension": ".jl",
   "mimetype": "application/julia",
   "name": "julia",
   "version": "1.9.2"
  }
 },
 "nbformat": 4,
 "nbformat_minor": 5
}
