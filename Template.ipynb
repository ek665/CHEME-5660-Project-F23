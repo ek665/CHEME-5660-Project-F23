{
 "cells": [
  {
   "cell_type": "markdown",
   "id": "80ae6a55-e35b-401a-9fd2-353207a8b340",
   "metadata": {},
   "source": [
    "### Analyzing Investment Portfolios for Ugandan Health Clinics Endownment\n",
    "Investment Portfolio Project, ChemE 5660\n",
    "\n",
    "Chike Murray, Sonny Vo , Erik Kirakosyan"
   ]
  },
  {
   "cell_type": "markdown",
   "id": "cac5eb3a-be19-4274-8400-09af3e83ff21",
   "metadata": {
    "jp-MarkdownHeadingCollapsed": true,
    "tags": []
   },
   "source": [
    "## Setup"
   ]
  },
  {
   "cell_type": "code",
   "execution_count": 72,
   "id": "c428c856-064a-4a35-97bc-800cc0d49a58",
   "metadata": {
    "tags": []
   },
   "outputs": [
    {
     "name": "stderr",
     "output_type": "stream",
     "text": [
      "\u001b[32m\u001b[1m    Updating\u001b[22m\u001b[39m git-repo `https://github.com/varnerlab/VLQuantitativeFinancePackage.jl.git`\n"
     ]
    },
    {
     "name": "stderr",
     "output_type": "stream",
     "text": [
      "\u001b[32m\u001b[1m   Resolving\u001b[22m\u001b[39m package versions...\n"
     ]
    },
    {
     "name": "stderr",
     "output_type": "stream",
     "text": [
      "\u001b[32m\u001b[1m  No Changes\u001b[22m\u001b[39m to `~/Desktop/CHEME-5660-Project-Template-F23/Project.toml`\n",
      "\u001b[32m\u001b[1m  No Changes\u001b[22m\u001b[39m to `~/Desktop/CHEME-5660-Project-Template-F23/Manifest.toml`\n"
     ]
    },
    {
     "name": "stderr",
     "output_type": "stream",
     "text": [
      "\u001b[32m\u001b[1m  Activating\u001b[22m\u001b[39m project at `~/Desktop/CHEME-5660-Project-Template-F23`\n"
     ]
    },
    {
     "name": "stderr",
     "output_type": "stream",
     "text": [
      "\u001b[32m\u001b[1m  No Changes\u001b[22m\u001b[39m to `~/Desktop/CHEME-5660-Project-Template-F23/Project.toml`\n",
      "\u001b[32m\u001b[1m  No Changes\u001b[22m\u001b[39m to `~/Desktop/CHEME-5660-Project-Template-F23/Manifest.toml`\n"
     ]
    },
    {
     "name": "stderr",
     "output_type": "stream",
     "text": [
      "\u001b[32m\u001b[1m    Updating\u001b[22m\u001b[39m registry at `~/.julia/registries/General.toml`\n"
     ]
    },
    {
     "name": "stderr",
     "output_type": "stream",
     "text": [
      "\u001b[32m\u001b[1m    Updating\u001b[22m\u001b[39m git-repo `https://github.com/varnerlab/VLQuantitativeFinancePackage.jl.git`\n"
     ]
    },
    {
     "name": "stderr",
     "output_type": "stream",
     "text": [
      "\u001b[32m\u001b[1m  No Changes\u001b[22m\u001b[39m to `~/Desktop/CHEME-5660-Project-Template-F23/Project.toml`\n",
      "\u001b[32m\u001b[1m  No Changes\u001b[22m\u001b[39m to `~/Desktop/CHEME-5660-Project-Template-F23/Manifest.toml`\n"
     ]
    }
   ],
   "source": [
    "include(\"Include.jl\");"
   ]
  },
  {
   "cell_type": "markdown",
   "id": "21519cf1-3079-4a5a-8859-fd21f48bce94",
   "metadata": {
    "jp-MarkdownHeadingCollapsed": true,
    "tags": []
   },
   "source": [
    "## Prerequisites: Load historical dataset, compute expected returns and get 2023 `SPY` data\n",
    "We gathered a daily open-high-low-close `dataset` for each firm in the [S&P500](https://en.wikipedia.org/wiki/S%26P_500) since `01-03-2018` until `12-01-2023`, along with data for a few exchange traded funds and volatility products during that time. "
   ]
  },
  {
   "cell_type": "code",
   "execution_count": 175,
   "id": "79aa4361-4713-47c5-9892-8d822e7aac68",
   "metadata": {
    "tags": []
   },
   "outputs": [],
   "source": [
    "original_dataset = load(joinpath(_PATH_TO_DATA, \n",
    "        \"SP500-Daily-OHLC-1-3-2018-to-12-01-2023.jld2\")) |> x-> x[\"dataset\"];"
   ]
  },
  {
   "cell_type": "markdown",
   "id": "d5567fb5-3688-4fe7-8cc9-201119de77f5",
   "metadata": {},
   "source": [
    "### Clean the data\n",
    "Not all of the tickers in our dataset have the maximum number of trading days for various reasons, e.g., acquistion or de-listing events. Let's collect only those tickers with the maximum number of trading days.\n",
    "\n",
    "* First, let's compute the number of records for a company that we know has a maximim value, e.g., `AAPL` and save that value in the `maximum_number_trading_days` variable:"
   ]
  },
  {
   "cell_type": "code",
   "execution_count": 177,
   "id": "5e88a72f-9231-459a-99bc-f0fdccc6e42d",
   "metadata": {
    "tags": []
   },
   "outputs": [
    {
     "data": {
      "text/plain": [
       "1489"
      ]
     },
     "metadata": {},
     "output_type": "display_data"
    }
   ],
   "source": [
    "maximum_number_trading_days = original_dataset[\"AAPL\"] |> nrow"
   ]
  },
  {
   "cell_type": "markdown",
   "id": "d3b64e6f-3662-48fe-bcec-ba6da19f60f9",
   "metadata": {},
   "source": [
    "Now, lets iterate through our data and collect only those tickers that have `maximum_number_trading_days` records. Save that data in the `dataset::Dict{String,DataFrame}` variable:"
   ]
  },
  {
   "cell_type": "code",
   "execution_count": 178,
   "id": "9b263c2a-7cb2-42ef-a700-b857aeb22f8e",
   "metadata": {
    "tags": []
   },
   "outputs": [
    {
     "data": {
      "text/plain": [
       "Dict{String, DataFrame} with 459 entries:\n",
       "  \"NI\"   => \u001b[1m1489×8 DataFrame\u001b[0m\u001b[0m…\n",
       "  \"EMR\"  => \u001b[1m1489×8 DataFrame\u001b[0m\u001b[0m…\n",
       "  \"CTAS\" => \u001b[1m1489×8 DataFrame\u001b[0m\u001b[0m…\n",
       "  \"HSIC\" => \u001b[1m1489×8 DataFrame\u001b[0m\u001b[0m…\n",
       "  \"KIM\"  => \u001b[1m1489×8 DataFrame\u001b[0m\u001b[0m…\n",
       "  \"PLD\"  => \u001b[1m1489×8 DataFrame\u001b[0m\u001b[0m…\n",
       "  \"IEX\"  => \u001b[1m1489×8 DataFrame\u001b[0m\u001b[0m…\n",
       "  \"BAC\"  => \u001b[1m1489×8 DataFrame\u001b[0m\u001b[0m…\n",
       "  \"CBOE\" => \u001b[1m1489×8 DataFrame\u001b[0m\u001b[0m…\n",
       "  \"EXR\"  => \u001b[1m1489×8 DataFrame\u001b[0m\u001b[0m…\n",
       "  \"NCLH\" => \u001b[1m1489×8 DataFrame\u001b[0m\u001b[0m…\n",
       "  \"CVS\"  => \u001b[1m1489×8 DataFrame\u001b[0m\u001b[0m…\n",
       "  \"DRI\"  => \u001b[1m1489×8 DataFrame\u001b[0m\u001b[0m…\n",
       "  \"DTE\"  => \u001b[1m1489×8 DataFrame\u001b[0m\u001b[0m…\n",
       "  \"ZION\" => \u001b[1m1489×8 DataFrame\u001b[0m\u001b[0m…\n",
       "  \"AVY\"  => \u001b[1m1489×8 DataFrame\u001b[0m\u001b[0m…\n",
       "  \"EW\"   => \u001b[1m1489×8 DataFrame\u001b[0m\u001b[0m…\n",
       "  \"EA\"   => \u001b[1m1489×8 DataFrame\u001b[0m\u001b[0m…\n",
       "  \"NWSA\" => \u001b[1m1489×8 DataFrame\u001b[0m\u001b[0m…\n",
       "  ⋮      => ⋮"
      ]
     },
     "metadata": {},
     "output_type": "display_data"
    }
   ],
   "source": [
    "dataset = Dict{String,DataFrame}();\n",
    "for (ticker,data) ∈ original_dataset\n",
    "    if (nrow(data) == maximum_number_trading_days)\n",
    "        dataset[ticker] = data;\n",
    "    end\n",
    "end\n",
    "dataset"
   ]
  },
  {
   "cell_type": "markdown",
   "id": "5ffb1bec-88c3-4648-b7e9-9b1300504b4a",
   "metadata": {},
   "source": [
    "Let's get a list of firms that we have in cleaned up `dataset`, and save it in the `all_tickers` array:"
   ]
  },
  {
   "cell_type": "code",
   "execution_count": 179,
   "id": "93f5fc90-048c-4e23-83da-8a362b297f77",
   "metadata": {
    "tags": []
   },
   "outputs": [
    {
     "data": {
      "text/plain": [
       "459"
      ]
     },
     "metadata": {},
     "output_type": "display_data"
    }
   ],
   "source": [
    "all_tickers = keys(dataset) |> collect |> sort;\n",
    "K = length(all_tickers)"
   ]
  },
  {
   "cell_type": "markdown",
   "id": "1266557c-c5ce-4c67-9f93-7dcdb3038e26",
   "metadata": {},
   "source": [
    "### Get the 2023 `SPY` data"
   ]
  },
  {
   "cell_type": "code",
   "execution_count": 180,
   "id": "b700d807-61d8-4d3c-8c78-0908bcd81855",
   "metadata": {
    "tags": []
   },
   "outputs": [],
   "source": [
    "startdate = Date(2023,01,03);\n",
    "SPY_dataset = dataset[\"SPY\"];\n",
    "SPY_df = filter(:timestamp => x-> x >= startdate, SPY_dataset);"
   ]
  },
  {
   "cell_type": "markdown",
   "id": "9d07c6db-65c2-424b-878e-652936db2032",
   "metadata": {},
   "source": [
    "### Compute the expected return for all firms in the dataset\n",
    "The expected return $\\mathbb{E}(r_{i})$ and covariance matrix $\\Sigma$ will be used in our calculations, so we'll provide values for both of these items for the entire data set (all `N = 459` tickers), and then you can pick out which tickers you are interested in. \n",
    "\n",
    "* First, we compute the expected (annualized) log return by passing the `dataset` and the entire list of firms we have in the dataset (held in the $N\\times{1}$ `all_array` array) to the `log_return_matrix(...)` method. The result is stored in the `all_firms_return_matrix` variable, a $T-1\\times{N}$ array of log return values. Each row of `all_firms_return_matrix` corresponds to a time-value, while each column corresponds to a firm:"
   ]
  },
  {
   "cell_type": "code",
   "execution_count": 182,
   "id": "870a7ff9-d78c-4313-8e75-92cc67dc0858",
   "metadata": {
    "tags": []
   },
   "outputs": [],
   "source": [
    "all_firms_return_matrix = log_return_matrix(dataset, all_tickers, \n",
    "    Δt = (1.0/252.0), risk_free_rate = 0.0);"
   ]
  },
  {
   "cell_type": "markdown",
   "id": "2347705b-730c-44c2-ab83-4be788669bd9",
   "metadata": {},
   "source": [
    "## Your project starts here ...."
   ]
  },
  {
   "cell_type": "markdown",
   "id": "715b71b0",
   "metadata": {},
   "source": [
    "Selected Portfolio Tickers: \"NVDA\", \"MDT\", \"AMD\", \"PG\", \"MO\", \"PLD\""
   ]
  },
  {
   "cell_type": "markdown",
   "id": "01e616b0",
   "metadata": {},
   "source": [
    "### Statement of Assumptions:\n",
    "\n",
    "Similar to Lab 15b, we need to make assumptions to simplify our financial model. These assumptions are not completely realistic but greatly simplify the underlying math. \n",
    "\n",
    "1: The covariance matrix is constant over the period from 01-03-2023 to 12-01-2023. \n",
    "\n",
    "2: We are not taking into account short term capital gains tax, long term capital gains tax, restrictions on day trading and portfolio reallocation, or other market friction \n",
    "\n",
    "3: We are not taking into account real-world events and their impact on market volatility. "
   ]
  },
  {
   "cell_type": "markdown",
   "id": "b484bcfe",
   "metadata": {},
   "source": [
    "\n",
    "\n",
    "\n",
    "These files are prerequisites for portfolio optimization. "
   ]
  },
  {
   "cell_type": "code",
   "execution_count": 183,
   "id": "06422071",
   "metadata": {},
   "outputs": [],
   "source": [
    "budget= 46731855; #initial grant size"
   ]
  },
  {
   "cell_type": "code",
   "execution_count": 190,
   "id": "f25da994",
   "metadata": {},
   "outputs": [],
   "source": [
    "#capital_allocation= load(joinpath(_PATH_TO_DATA,\n",
    "#\"CapitalAllocationLine-cesteam-PD1-CHEME-5660-Fall-2023.jld2\")) |> x-> x[\"dataset\"];\n",
    "SIMs=load(joinpath(_PATH_TO_DATA, \n",
    "        \"SIMs-cesteam-PD1-CHEME-5660-Fall-2023.jld2\"))|> x-> x[\"sims\"]; "
   ]
  },
  {
   "cell_type": "code",
   "execution_count": 191,
   "id": "35884a91",
   "metadata": {},
   "outputs": [
    {
     "data": {
      "text/plain": [
       "459-element Vector{Float64}:\n",
       "  0.09520873574379649\n",
       " -0.2162080717392586\n",
       " -0.10794226443585754\n",
       "  0.22836905773049826\n",
       "  0.056004266937846665\n",
       "  0.088632152841437\n",
       "  0.11998872149267306\n",
       "  0.18737259050359928\n",
       "  0.10723986668572992\n",
       "  0.09707314536665643\n",
       "  ⋮\n",
       "  0.038211698941704515\n",
       "  0.027798995465313416\n",
       " -0.11173255715563579\n",
       "  0.06674886823579393\n",
       "  0.06790561918886862\n",
       " -0.009395334482788936\n",
       "  0.12703582210102957\n",
       " -0.04403739223114084\n",
       "  0.13973799380763502"
      ]
     },
     "metadata": {},
     "output_type": "display_data"
    }
   ],
   "source": [
    "μ=mean(return_all, dims=1)|> vec\n",
    "spy_index=findfirst(e->e==\"SPY\",all_tickers)\n",
    "r_spy=μ[spy_index]\n",
    "sigma_m=std(return_all[:,spy_index])\n",
    "\n",
    "μ"
   ]
  },
  {
   "cell_type": "code",
   "execution_count": 192,
   "id": "b6fedad8",
   "metadata": {},
   "outputs": [
    {
     "name": "stdout",
     "output_type": "stream",
     "text": [
      "376"
     ]
    }
   ],
   "source": [
    "print(spy_index)"
   ]
  },
  {
   "cell_type": "code",
   "execution_count": 193,
   "id": "5c6de309",
   "metadata": {},
   "outputs": [
    {
     "name": "stdout",
     "output_type": "stream",
     "text": [
      "0.08130729462471933"
     ]
    }
   ],
   "source": [
    "print(r_spy)"
   ]
  },
  {
   "cell_type": "code",
   "execution_count": 194,
   "id": "0b6613d5",
   "metadata": {},
   "outputs": [
    {
     "data": {
      "text/plain": [
       "459×459 Matrix{Float64}:\n",
       " 0.0        0.0        0.0      0.0        …  0.0        0.0        0.0\n",
       " 0.0        0.0        0.0      0.0           0.0        0.0        0.0\n",
       " 0.0        0.0        0.0      0.0           0.0        0.0        0.0\n",
       " 0.0        0.0        0.0      0.0           0.0        0.0        0.0\n",
       " 0.0        0.0        0.0      0.0           0.0        0.0        0.0\n",
       " 0.0260246  0.0430559  0.02355  0.0303052  …  0.0334263  0.0302624  0.0254935\n",
       " 0.0        0.0        0.0      0.0           0.0        0.0        0.0\n",
       " 0.0        0.0        0.0      0.0           0.0        0.0        0.0\n",
       " 0.0        0.0        0.0      0.0           0.0        0.0        0.0\n",
       " 0.0        0.0        0.0      0.0           0.0        0.0        0.0\n",
       " ⋮                                         ⋱                        \n",
       " 0.0        0.0        0.0      0.0        …  0.0        0.0        0.0\n",
       " 0.0        0.0        0.0      0.0           0.0        0.0        0.0\n",
       " 0.0        0.0        0.0      0.0           0.0        0.0        0.0\n",
       " 0.0        0.0        0.0      0.0           0.0        0.0        0.0\n",
       " 0.0        0.0        0.0      0.0           0.0        0.0        0.0\n",
       " 0.0        0.0        0.0      0.0        …  0.0        0.0        0.0\n",
       " 0.0        0.0        0.0      0.0           0.0        0.0        0.0\n",
       " 0.0        0.0        0.0      0.0           0.0        0.0        0.0\n",
       " 0.0        0.0        0.0      0.0           0.0        0.0        0.0"
      ]
     },
     "metadata": {},
     "output_type": "display_data"
    }
   ],
   "source": [
    "# Σ_sim from Lab15b, covariance array between tickers \n",
    "Σ_empty=Array{Float64,2}(undef, length(μ), length(μ));\n",
    "for item in eachindex(all_tickers)\n",
    "    outers=all_tickers[item];\n",
    "    simulate_outside=SIMs[outers];\n",
    "\n",
    "    for j in eachindex(all_tickers)\n",
    "        inners=all_tickers[j];\n",
    "        simulate_inside=SIMs[inners];\n",
    "\n",
    "        if (i==j) \n",
    "            beta=simulate_outside.β\n",
    "            eta=simulate_outside.ϵ\n",
    "            sigma_e=params(eta)[2]; #Adapted direct from 15b\n",
    "            Σ_empty[i,j]=((beta)^2)*((sigma_m)^2)+(sigma_e)^2\n",
    "        else\n",
    "            beta_i= simulate_outside.β\n",
    "            beta_j= simulate_inside.β\n",
    "            Σ_empty[i,j]= (beta_i)*(beta_j)*(sigma_m)^2\n",
    "        end\n",
    "    end        \n",
    "end\n",
    "\n",
    "Σ_sim=Σ_empty |> x -> x*(1/229)"
   ]
  },
  {
   "cell_type": "markdown",
   "id": "972ea748",
   "metadata": {},
   "source": [
    "### Task One: Initial Allocation"
   ]
  },
  {
   "cell_type": "code",
   "execution_count": 151,
   "id": "7d160162",
   "metadata": {},
   "outputs": [
    {
     "data": {
      "text/plain": [
       "(0.2863636276792971, 64)"
      ]
     },
     "metadata": {},
     "output_type": "display_data"
    }
   ],
   "source": [
    "#Find the portfolio with the maximum expected excess returns\n",
    "\n",
    "findmax(efficient_frontier[!,\"expected_excess_return\"])"
   ]
  },
  {
   "cell_type": "markdown",
   "id": "d555e38d",
   "metadata": {},
   "source": [
    "We will use Portfolio 64. Using results from Lab 15b, we can find what is in this portfolio by sampling the array generated above "
   ]
  },
  {
   "cell_type": "code",
   "execution_count": 153,
   "id": "db2eb8eb",
   "metadata": {},
   "outputs": [
    {
     "name": "stdout",
     "output_type": "stream",
     "text": [
      "Portfolio #64 has an exected excess return of 0.2863636276792971 with risk = 0.4594230792505488. \n",
      "The risk free rate is 0.05%.\n"
     ]
    }
   ],
   "source": [
    "portfolio=64;\n",
    "expected_excess_return=efficient_frontier[portfolio, :expected_excess_return]\n",
    "risk=efficient_frontier[portfolio, :risk]\n",
    "tickers=efficient_frontier[portfolio, :tickers]\n",
    "w=efficient_frontier[portfolio, :w]\n",
    "risk_free_rate=efficient_frontier[portfolio, :risk_free_rate]\n",
    "\n",
    "println(\"Portfolio #$(portfolio) has an exected excess return of $(expected_excess_return) with risk = $(risk). \n",
    "The risk free rate is $(risk_free_rate)%.\")"
   ]
  },
  {
   "cell_type": "code",
   "execution_count": 154,
   "id": "91e5c537",
   "metadata": {},
   "outputs": [
    {
     "name": "stdout",
     "output_type": "stream",
     "text": [
      "NVDA forms 3.2421779736775127% of our portfolio\n",
      "MDT forms 0% of our portfolio\n",
      "AMD forms 96.75781803071864% of our portfolio\n",
      "PG forms 0% of our portfolio\n",
      "MO forms 0% of our portfolio\n",
      "PLD forms 0% of our portfolio\n"
     ]
    },
    {
     "data": {
      "text/html": [
       "<div><div style = \"float: left;\"><span>6×2 DataFrame</span></div><div style = \"clear: both;\"></div></div><div class = \"data-frame\" style = \"overflow-x: scroll;\"><table class = \"data-frame\" style = \"margin-bottom: 6px;\"><thead><tr class = \"header\"><th class = \"rowNumber\" style = \"font-weight: bold; text-align: right;\">Row</th><th style = \"text-align: left;\">tick</th><th style = \"text-align: left;\">alloc</th></tr><tr class = \"subheader headerLastRow\"><th class = \"rowNumber\" style = \"font-weight: bold; text-align: right;\"></th><th title = \"String\" style = \"text-align: left;\">String</th><th title = \"Float64\" style = \"text-align: left;\">Float64</th></tr></thead><tbody><tr><td class = \"rowNumber\" style = \"font-weight: bold; text-align: right;\">1</td><td style = \"text-align: left;\">NVDA</td><td style = \"text-align: right;\">0.0324218</td></tr><tr><td class = \"rowNumber\" style = \"font-weight: bold; text-align: right;\">2</td><td style = \"text-align: left;\">MDT</td><td style = \"text-align: right;\">-2.49946e-9</td></tr><tr><td class = \"rowNumber\" style = \"font-weight: bold; text-align: right;\">3</td><td style = \"text-align: left;\">AMD</td><td style = \"text-align: right;\">0.967578</td></tr><tr><td class = \"rowNumber\" style = \"font-weight: bold; text-align: right;\">4</td><td style = \"text-align: left;\">PG</td><td style = \"text-align: right;\">2.916e-8</td></tr><tr><td class = \"rowNumber\" style = \"font-weight: bold; text-align: right;\">5</td><td style = \"text-align: left;\">MO</td><td style = \"text-align: right;\">-4.39824e-9</td></tr><tr><td class = \"rowNumber\" style = \"font-weight: bold; text-align: right;\">6</td><td style = \"text-align: left;\">PLD</td><td style = \"text-align: right;\">1.76938e-8</td></tr></tbody></table></div>"
      ],
      "text/latex": [
       "\\begin{tabular}{r|cc}\n",
       "\t& tick & alloc\\\\\n",
       "\t\\hline\n",
       "\t& String & Float64\\\\\n",
       "\t\\hline\n",
       "\t1 & NVDA & 0.0324218 \\\\\n",
       "\t2 & MDT & -2.49946e-9 \\\\\n",
       "\t3 & AMD & 0.967578 \\\\\n",
       "\t4 & PG & 2.916e-8 \\\\\n",
       "\t5 & MO & -4.39824e-9 \\\\\n",
       "\t6 & PLD & 1.76938e-8 \\\\\n",
       "\\end{tabular}\n"
      ],
      "text/plain": [
       "\u001b[1m6×2 DataFrame\u001b[0m\n",
       "\u001b[1m Row \u001b[0m│\u001b[1m tick   \u001b[0m\u001b[1m alloc       \u001b[0m\n",
       "     │\u001b[90m String \u001b[0m\u001b[90m Float64     \u001b[0m\n",
       "─────┼─────────────────────\n",
       "   1 │ NVDA     0.0324218\n",
       "   2 │ MDT     -2.49946e-9\n",
       "   3 │ AMD      0.967578\n",
       "   4 │ PG       2.916e-8\n",
       "   5 │ MO      -4.39824e-9\n",
       "   6 │ PLD      1.76938e-8"
      ]
     },
     "metadata": {},
     "output_type": "display_data"
    }
   ],
   "source": [
    "i=0\n",
    "for item in efficient_frontier[portfolio, :tickers]\n",
    "    i+=1\n",
    "    if w[i]<0.00001\n",
    "        weight=0 \n",
    "    else\n",
    "        weight=w[i]*100\n",
    "    end\n",
    "    println(\"$item forms $weight% of our portfolio\")\n",
    "end\n",
    "\n",
    "#Now put into dataframe form, similar to Lab15b. Adjust values that are low (aribtary) to 0% allocation\n",
    "\n",
    "new_df=DataFrame();\n",
    "for element in eachindex(w)\n",
    "    weight_element=w[element]\n",
    "    row_df=(\n",
    "        tick=tickers[element],\n",
    "        alloc=weight_element\n",
    "    )\n",
    "    push!(new_df, row_df)\n",
    "end\n",
    "\n",
    "\n",
    "new_df"
   ]
  },
  {
   "cell_type": "markdown",
   "id": "0c17aa64",
   "metadata": {},
   "source": [
    "We now need to know how many shares we purchased of each stock:"
   ]
  },
  {
   "cell_type": "code",
   "execution_count": 155,
   "id": "73aa9f94",
   "metadata": {},
   "outputs": [
    {
     "data": {
      "text/plain": [
       "6-element Vector{Float64}:\n",
       " 143.15\n",
       "  78.26\n",
       "  64.02\n",
       " 151.57\n",
       "  45.52\n",
       " 112.69"
      ]
     },
     "metadata": {},
     "output_type": "display_data"
    }
   ],
   "source": [
    "# From Lab15b\n",
    "price_initial=Array{Float64,1}();\n",
    "for stock in tickers\n",
    "    price_df=dataset[stock]\n",
    "    price=filter(:timestamp=> y-> y>= startdate, price_df) |> y-> y[1,:close]\n",
    "    push!(price_initial, price)\n",
    "end\n",
    "\n",
    "price_initial"
   ]
  },
  {
   "cell_type": "code",
   "execution_count": 156,
   "id": "efc332f4",
   "metadata": {},
   "outputs": [
    {
     "data": {
      "text/plain": [
       "6-element Vector{Float64}:\n",
       " 0.032421779736775125\n",
       " 0.0\n",
       " 0.9675781803071863\n",
       " 0.0\n",
       " 0.0\n",
       " 0.0"
      ]
     },
     "metadata": {},
     "output_type": "display_data"
    }
   ],
   "source": [
    "i=0\n",
    "weight_initial=Array{Float64,1}();\n",
    "for item in efficient_frontier[portfolio, :tickers]\n",
    "    i+=1\n",
    "    if w[i]<0.00001\n",
    "        weight=0 \n",
    "        push!(weight_initial, weight)\n",
    "    else\n",
    "        weight=w[i]\n",
    "    push!(weight_initial, weight)\n",
    "    end\n",
    "end\n",
    "\n",
    "weight_initial"
   ]
  },
  {
   "cell_type": "code",
   "execution_count": 157,
   "id": "b1849e56",
   "metadata": {},
   "outputs": [
    {
     "name": "stdout",
     "output_type": "stream",
     "text": [
      "For ticker NVDA, we will allocate 1.5151299095009132e6 to purchase 10584.21173245486 shares\n",
      "For ticker MDT, we will allocate 0.0 to purchase 0.0 shares\n",
      "For ticker AMD, we will allocate 4.521672322327929e7 to purchase 706290.5845560652 shares\n",
      "For ticker PG, we will allocate 0.0 to purchase 0.0 shares\n",
      "For ticker MO, we will allocate 0.0 to purchase 0.0 shares\n",
      "For ticker PLD, we will allocate 0.0 to purchase 0.0 shares\n"
     ]
    },
    {
     "data": {
      "text/plain": [
       "6-element Vector{Float64}:\n",
       "  10584.21173245486\n",
       "      0.0\n",
       " 706290.5845560652\n",
       "      0.0\n",
       "      0.0\n",
       "      0.0"
      ]
     },
     "metadata": {},
     "output_type": "display_data"
    }
   ],
   "source": [
    "tickers_df = efficient_frontier[portfolio, :tickers];\n",
    "m=0\n",
    "for i in efficient_frontier[portfolio, :tickers]\n",
    "    m+=1\n",
    "    allocate=budget*weight_initial[m]\n",
    "    shares=allocate/price_initial[m]\n",
    "    println(\"For ticker $i, we will allocate $allocate to purchase $shares shares\")\n",
    "end\n",
    "\n",
    "shares_initial=Array{Float64, 1}()\n",
    "for element in eachindex(w) \n",
    "    w_naught=w[element]\n",
    "    if w_naught<0.0001\n",
    "        n_naught=0.0\n",
    "    else\n",
    "        n_naught=(w_naught*budget)/price_initial[element]\n",
    "    end\n",
    "    push!(shares_initial,n_naught)\n",
    "end\n",
    "\n",
    "shares_initial"
   ]
  },
  {
   "cell_type": "code",
   "execution_count": 158,
   "id": "bfb21c02",
   "metadata": {},
   "outputs": [
    {
     "data": {
      "text/html": [
       "<div><div style = \"float: left;\"><span>6×2 DataFrame</span></div><div style = \"clear: both;\"></div></div><div class = \"data-frame\" style = \"overflow-x: scroll;\"><table class = \"data-frame\" style = \"margin-bottom: 6px;\"><thead><tr class = \"header\"><th class = \"rowNumber\" style = \"font-weight: bold; text-align: right;\">Row</th><th style = \"text-align: left;\">tick</th><th style = \"text-align: left;\">alloc</th></tr><tr class = \"subheader headerLastRow\"><th class = \"rowNumber\" style = \"font-weight: bold; text-align: right;\"></th><th title = \"String\" style = \"text-align: left;\">String</th><th title = \"Float64\" style = \"text-align: left;\">Float64</th></tr></thead><tbody><tr><td class = \"rowNumber\" style = \"font-weight: bold; text-align: right;\">1</td><td style = \"text-align: left;\">NVDA</td><td style = \"text-align: right;\">0.0324218</td></tr><tr><td class = \"rowNumber\" style = \"font-weight: bold; text-align: right;\">2</td><td style = \"text-align: left;\">MDT</td><td style = \"text-align: right;\">-2.49946e-9</td></tr><tr><td class = \"rowNumber\" style = \"font-weight: bold; text-align: right;\">3</td><td style = \"text-align: left;\">AMD</td><td style = \"text-align: right;\">0.967578</td></tr><tr><td class = \"rowNumber\" style = \"font-weight: bold; text-align: right;\">4</td><td style = \"text-align: left;\">PG</td><td style = \"text-align: right;\">2.916e-8</td></tr><tr><td class = \"rowNumber\" style = \"font-weight: bold; text-align: right;\">5</td><td style = \"text-align: left;\">MO</td><td style = \"text-align: right;\">-4.39824e-9</td></tr><tr><td class = \"rowNumber\" style = \"font-weight: bold; text-align: right;\">6</td><td style = \"text-align: left;\">PLD</td><td style = \"text-align: right;\">1.76938e-8</td></tr></tbody></table></div>"
      ],
      "text/latex": [
       "\\begin{tabular}{r|cc}\n",
       "\t& tick & alloc\\\\\n",
       "\t\\hline\n",
       "\t& String & Float64\\\\\n",
       "\t\\hline\n",
       "\t1 & NVDA & 0.0324218 \\\\\n",
       "\t2 & MDT & -2.49946e-9 \\\\\n",
       "\t3 & AMD & 0.967578 \\\\\n",
       "\t4 & PG & 2.916e-8 \\\\\n",
       "\t5 & MO & -4.39824e-9 \\\\\n",
       "\t6 & PLD & 1.76938e-8 \\\\\n",
       "\\end{tabular}\n"
      ],
      "text/plain": [
       "\u001b[1m6×2 DataFrame\u001b[0m\n",
       "\u001b[1m Row \u001b[0m│\u001b[1m tick   \u001b[0m\u001b[1m alloc       \u001b[0m\n",
       "     │\u001b[90m String \u001b[0m\u001b[90m Float64     \u001b[0m\n",
       "─────┼─────────────────────\n",
       "   1 │ NVDA     0.0324218\n",
       "   2 │ MDT     -2.49946e-9\n",
       "   3 │ AMD      0.967578\n",
       "   4 │ PG       2.916e-8\n",
       "   5 │ MO      -4.39824e-9\n",
       "   6 │ PLD      1.76938e-8"
      ]
     },
     "metadata": {},
     "output_type": "display_data"
    }
   ],
   "source": [
    "new_df"
   ]
  },
  {
   "cell_type": "markdown",
   "id": "089e2be2",
   "metadata": {},
   "source": [
    "### Task Two: Ongoing Reallocation & Visualization"
   ]
  },
  {
   "cell_type": "code",
   "execution_count": 159,
   "id": "8e71c061",
   "metadata": {},
   "outputs": [],
   "source": [
    "trading_days= 229 # Difference between Jan 3 and Dec 1 of 2023, with weekends and holidays removed\n",
    "learning_rate= 0.01\n",
    "μ = mean(all_firms_return_matrix, dims=1) |> vec;"
   ]
  },
  {
   "cell_type": "code",
   "execution_count": 160,
   "id": "c40e7a69",
   "metadata": {},
   "outputs": [],
   "source": [
    "return_all= log_return_matrix(dataset, all_tickers, \n",
    "    Δt = (1.0/229));"
   ]
  },
  {
   "cell_type": "code",
   "execution_count": 161,
   "id": "edcba7d9",
   "metadata": {},
   "outputs": [],
   "source": [
    "# Vital parameters for model, adapted from Do Not Edit block in lab15b\n",
    "\n",
    "firm_ids=Array{Int64, 1}();\n",
    "for item in tickers\n",
    "    firm_index = findfirst(e->e==item,all_tickers);\n",
    "    push!(firm_ids,firm_index)\n",
    "end\n",
    "\n",
    "μ̂=Array{Float64, 1}();\n",
    "for index in firm_ids\n",
    "    push!(μ̂, μ[index])\n",
    "end\n",
    "\n",
    "firms_l=length(firm_ids)\n",
    "Σ̂=Array{Float64, 2}(undef, firms_l, firms_l)\n",
    "for element in eachindex(firm_ids)\n",
    "    row_ele=firm_ids[i]\n",
    "    for j in eachindex(firm_ids)\n",
    "        col_ele=firm_ids[i]\n",
    "        Σ̂[i,j]=Σ_sim[row_ele, col_ele]\n",
    "    end\n",
    "end"
   ]
  },
  {
   "cell_type": "code",
   "execution_count": 162,
   "id": "91ecf2a4",
   "metadata": {},
   "outputs": [
    {
     "data": {
      "text/plain": [
       "MyMarkowitzRiskyAssetOnlyPortfiolioChoiceProblem([5.0e-324 3.5e-323 … 1.24e-322 1.3e-322; 1.0e-323 4.0e-323 … 1.33e-322 1.6e-322; … ; 2.5e-323 5.4e-323 … 1.5e-322 1.73e-322; -1.0622406784242906e-105 -1.0622406784242906e-105 … -1.0622406784242906e-105 -1.0622406784242906e-105], [0.3368083880034543, -0.007904898363717482, 0.35880687247592413, 0.08024389402442934, -0.0780534688593898, 0.09384486326422115], [0.0 1.0; 0.0 1.0; … ; 0.0 1.0; 0.0 1.0], 0.0, [0.032421779736775125, -2.4994641898163153e-9, 0.9675781803071863, 2.9159955151633482e-8, -4.398235672337897e-9, 1.769378326886674e-8])"
      ]
     },
     "metadata": {},
     "output_type": "display_data"
    }
   ],
   "source": [
    "firms_picked=length(tickers)\n",
    "bounds=zeros(firms_picked,2)\n",
    "bounds[:,2].=1.0;#direct from 15b\n",
    "\n",
    "sim_initial=build(MyMarkowitzRiskyAssetOnlyPortfiolioChoiceProblem, (\n",
    "    Σ = Σ̂,\n",
    "    μ = μ̂,\n",
    "    bounds = bounds,\n",
    "    initial=w,\n",
    "    R=0.0\n",
    "))\n"
   ]
  },
  {
   "cell_type": "code",
   "execution_count": 163,
   "metadata": {},
   "outputs": [
    {
     "data": {
      "text/plain": [
       "2:230"
      ]
     },
     "metadata": {},
     "output_type": "display_data"
    }
   ],
   "source": [
    "2:(trading_days+1)"
   ]
  },
  {
   "cell_type": "code",
   "execution_count": 164,
   "id": "1985d697",
   "metadata": {},
   "outputs": [
    {
     "data": {
      "text/plain": [
       "Queue{Vector{Float64}}(Deque [[[159.09, 78.89, 68.05, 151.89, 45.99, 116.05], [159.09, 78.89, 68.05, 151.89, 45.99, 116.05], [159.09, 78.89, 68.05, 151.89, 45.99, 116.05], [159.09, 78.89, 68.05, 151.89, 45.99, 116.05], [159.09, 78.89, 68.05, 151.89, 45.99, 116.05], [159.09, 78.89, 68.05, 151.89, 45.99, 116.05], [159.09, 78.89, 68.05, 151.89, 45.99, 116.05], [159.09, 78.89, 68.05, 151.89, 45.99, 116.05], [159.09, 78.89, 68.05, 151.89, 45.99, 116.05], [159.09, 78.89, 68.05, 151.89, 45.99, 116.05], [159.09, 78.89, 68.05, 151.89, 45.99, 116.05], [159.09, 78.89, 68.05, 151.89, 45.99, 116.05], [159.09, 78.89, 68.05, 151.89, 45.99, 116.05], [159.09, 78.89, 68.05, 151.89, 45.99, 116.05], [159.09, 78.89, 68.05, 151.89, 45.99, 116.05], [159.09, 78.89, 68.05, 151.89, 45.99, 116.05], [159.09, 78.89, 68.05, 151.89, 45.99, 116.05], [159.09, 78.89, 68.05, 151.89, 45.99, 116.05], [159.09, 78.89, 68.05, 151.89, 45.99, 116.05], [159.09, 78.89, 68.05, 151.89, 45.99, 116.05], [159.09, 78.89, 68.05, 151.89, 45.99, 116.05], [159.09, 78.89, 68.05, 151.89, 45.99, 116.05], [159.09, 78.89, 68.05, 151.89, 45.99, 116.05], [159.09, 78.89, 68.05, 151.89, 45.99, 116.05], [159.09, 78.89, 68.05, 151.89, 45.99, 116.05], [159.09, 78.89, 68.05, 151.89, 45.99, 116.05], [159.09, 78.89, 68.05, 151.89, 45.99, 116.05], [159.09, 78.89, 68.05, 151.89, 45.99, 116.05], [159.09, 78.89, 68.05, 151.89, 45.99, 116.05], [159.09, 78.89, 68.05, 151.89, 45.99, 116.05], [159.09, 78.89, 68.05, 151.89, 45.99, 116.05], [159.09, 78.89, 68.05, 151.89, 45.99, 116.05], [159.09, 78.89, 68.05, 151.89, 45.99, 116.05], [159.09, 78.89, 68.05, 151.89, 45.99, 116.05], [159.09, 78.89, 68.05, 151.89, 45.99, 116.05], [159.09, 78.89, 68.05, 151.89, 45.99, 116.05], [159.09, 78.89, 68.05, 151.89, 45.99, 116.05], [159.09, 78.89, 68.05, 151.89, 45.99, 116.05], [159.09, 78.89, 68.05, 151.89, 45.99, 116.05], [159.09, 78.89, 68.05, 151.89, 45.99, 116.05], [159.09, 78.89, 68.05, 151.89, 45.99, 116.05], [159.09, 78.89, 68.05, 151.89, 45.99, 116.05], [159.09, 78.89, 68.05, 151.89, 45.99, 116.05], [159.09, 78.89, 68.05, 151.89, 45.99, 116.05], [159.09, 78.89, 68.05, 151.89, 45.99, 116.05], [159.09, 78.89, 68.05, 151.89, 45.99, 116.05], [159.09, 78.89, 68.05, 151.89, 45.99, 116.05], [159.09, 78.89, 68.05, 151.89, 45.99, 116.05], [159.09, 78.89, 68.05, 151.89, 45.99, 116.05], [159.09, 78.89, 68.05, 151.89, 45.99, 116.05], [159.09, 78.89, 68.05, 151.89, 45.99, 116.05], [159.09, 78.89, 68.05, 151.89, 45.99, 116.05], [159.09, 78.89, 68.05, 151.89, 45.99, 116.05], [159.09, 78.89, 68.05, 151.89, 45.99, 116.05], [159.09, 78.89, 68.05, 151.89, 45.99, 116.05], [159.09, 78.89, 68.05, 151.89, 45.99, 116.05], [159.09, 78.89, 68.05, 151.89, 45.99, 116.05], [159.09, 78.89, 68.05, 151.89, 45.99, 116.05], [159.09, 78.89, 68.05, 151.89, 45.99, 116.05], [159.09, 78.89, 68.05, 151.89, 45.99, 116.05], [159.09, 78.89, 68.05, 151.89, 45.99, 116.05], [159.09, 78.89, 68.05, 151.89, 45.99, 116.05], [159.09, 78.89, 68.05, 151.89, 45.99, 116.05], [159.09, 78.89, 68.05, 151.89, 45.99, 116.05], [159.09, 78.89, 68.05, 151.89, 45.99, 116.05], [159.09, 78.89, 68.05, 151.89, 45.99, 116.05], [159.09, 78.89, 68.05, 151.89, 45.99, 116.05], [159.09, 78.89, 68.05, 151.89, 45.99, 116.05], [159.09, 78.89, 68.05, 151.89, 45.99, 116.05], [159.09, 78.89, 68.05, 151.89, 45.99, 116.05], [159.09, 78.89, 68.05, 151.89, 45.99, 116.05], [159.09, 78.89, 68.05, 151.89, 45.99, 116.05], [159.09, 78.89, 68.05, 151.89, 45.99, 116.05], [159.09, 78.89, 68.05, 151.89, 45.99, 116.05], [159.09, 78.89, 68.05, 151.89, 45.99, 116.05], [159.09, 78.89, 68.05, 151.89, 45.99, 116.05], [159.09, 78.89, 68.05, 151.89, 45.99, 116.05], [159.09, 78.89, 68.05, 151.89, 45.99, 116.05], [159.09, 78.89, 68.05, 151.89, 45.99, 116.05], [159.09, 78.89, 68.05, 151.89, 45.99, 116.05], [159.09, 78.89, 68.05, 151.89, 45.99, 116.05], [159.09, 78.89, 68.05, 151.89, 45.99, 116.05], [159.09, 78.89, 68.05, 151.89, 45.99, 116.05], [159.09, 78.89, 68.05, 151.89, 45.99, 116.05], [159.09, 78.89, 68.05, 151.89, 45.99, 116.05], [159.09, 78.89, 68.05, 151.89, 45.99, 116.05], [159.09, 78.89, 68.05, 151.89, 45.99, 116.05], [159.09, 78.89, 68.05, 151.89, 45.99, 116.05], [159.09, 78.89, 68.05, 151.89, 45.99, 116.05], [159.09, 78.89, 68.05, 151.89, 45.99, 116.05], [159.09, 78.89, 68.05, 151.89, 45.99, 116.05], [159.09, 78.89, 68.05, 151.89, 45.99, 116.05], [159.09, 78.89, 68.05, 151.89, 45.99, 116.05], [159.09, 78.89, 68.05, 151.89, 45.99, 116.05], [159.09, 78.89, 68.05, 151.89, 45.99, 116.05], [159.09, 78.89, 68.05, 151.89, 45.99, 116.05], [159.09, 78.89, 68.05, 151.89, 45.99, 116.05], [159.09, 78.89, 68.05, 151.89, 45.99, 116.05], [159.09, 78.89, 68.05, 151.89, 45.99, 116.05], [159.09, 78.89, 68.05, 151.89, 45.99, 116.05], [159.09, 78.89, 68.05, 151.89, 45.99, 116.05], [159.09, 78.89, 68.05, 151.89, 45.99, 116.05], [159.09, 78.89, 68.05, 151.89, 45.99, 116.05], [159.09, 78.89, 68.05, 151.89, 45.99, 116.05], [159.09, 78.89, 68.05, 151.89, 45.99, 116.05], [159.09, 78.89, 68.05, 151.89, 45.99, 116.05], [159.09, 78.89, 68.05, 151.89, 45.99, 116.05], [159.09, 78.89, 68.05, 151.89, 45.99, 116.05], [159.09, 78.89, 68.05, 151.89, 45.99, 116.05], [159.09, 78.89, 68.05, 151.89, 45.99, 116.05], [159.09, 78.89, 68.05, 151.89, 45.99, 116.05], [159.09, 78.89, 68.05, 151.89, 45.99, 116.05], [159.09, 78.89, 68.05, 151.89, 45.99, 116.05], [159.09, 78.89, 68.05, 151.89, 45.99, 116.05], [159.09, 78.89, 68.05, 151.89, 45.99, 116.05], [159.09, 78.89, 68.05, 151.89, 45.99, 116.05], [159.09, 78.89, 68.05, 151.89, 45.99, 116.05], [159.09, 78.89, 68.05, 151.89, 45.99, 116.05], [159.09, 78.89, 68.05, 151.89, 45.99, 116.05], [159.09, 78.89, 68.05, 151.89, 45.99, 116.05], [159.09, 78.89, 68.05, 151.89, 45.99, 116.05], [159.09, 78.89, 68.05, 151.89, 45.99, 116.05], [159.09, 78.89, 68.05, 151.89, 45.99, 116.05], [159.09, 78.89, 68.05, 151.89, 45.99, 116.05], [159.09, 78.89, 68.05, 151.89, 45.99, 116.05], [159.09, 78.89, 68.05, 151.89, 45.99, 116.05], [159.09, 78.89, 68.05, 151.89, 45.99, 116.05], [159.09, 78.89, 68.05, 151.89, 45.99, 116.05], [159.09, 78.89, 68.05, 151.89, 45.99, 116.05], [159.09, 78.89, 68.05, 151.89, 45.99, 116.05], [159.09, 78.89, 68.05, 151.89, 45.99, 116.05], [159.09, 78.89, 68.05, 151.89, 45.99, 116.05], [159.09, 78.89, 68.05, 151.89, 45.99, 116.05], [159.09, 78.89, 68.05, 151.89, 45.99, 116.05], [159.09, 78.89, 68.05, 151.89, 45.99, 116.05], [159.09, 78.89, 68.05, 151.89, 45.99, 116.05], [159.09, 78.89, 68.05, 151.89, 45.99, 116.05], [159.09, 78.89, 68.05, 151.89, 45.99, 116.05], [159.09, 78.89, 68.05, 151.89, 45.99, 116.05], [159.09, 78.89, 68.05, 151.89, 45.99, 116.05], [159.09, 78.89, 68.05, 151.89, 45.99, 116.05], [159.09, 78.89, 68.05, 151.89, 45.99, 116.05], [159.09, 78.89, 68.05, 151.89, 45.99, 116.05], [159.09, 78.89, 68.05, 151.89, 45.99, 116.05], [159.09, 78.89, 68.05, 151.89, 45.99, 116.05], [159.09, 78.89, 68.05, 151.89, 45.99, 116.05], [159.09, 78.89, 68.05, 151.89, 45.99, 116.05], [159.09, 78.89, 68.05, 151.89, 45.99, 116.05], [159.09, 78.89, 68.05, 151.89, 45.99, 116.05], [159.09, 78.89, 68.05, 151.89, 45.99, 116.05], [159.09, 78.89, 68.05, 151.89, 45.99, 116.05], [159.09, 78.89, 68.05, 151.89, 45.99, 116.05], [159.09, 78.89, 68.05, 151.89, 45.99, 116.05], [159.09, 78.89, 68.05, 151.89, 45.99, 116.05], [159.09, 78.89, 68.05, 151.89, 45.99, 116.05], [159.09, 78.89, 68.05, 151.89, 45.99, 116.05], [159.09, 78.89, 68.05, 151.89, 45.99, 116.05], [159.09, 78.89, 68.05, 151.89, 45.99, 116.05], [159.09, 78.89, 68.05, 151.89, 45.99, 116.05], [159.09, 78.89, 68.05, 151.89, 45.99, 116.05], [159.09, 78.89, 68.05, 151.89, 45.99, 116.05], [159.09, 78.89, 68.05, 151.89, 45.99, 116.05], [159.09, 78.89, 68.05, 151.89, 45.99, 116.05], [159.09, 78.89, 68.05, 151.89, 45.99, 116.05], [159.09, 78.89, 68.05, 151.89, 45.99, 116.05], [159.09, 78.89, 68.05, 151.89, 45.99, 116.05], [159.09, 78.89, 68.05, 151.89, 45.99, 116.05], [159.09, 78.89, 68.05, 151.89, 45.99, 116.05], [159.09, 78.89, 68.05, 151.89, 45.99, 116.05], [159.09, 78.89, 68.05, 151.89, 45.99, 116.05], [159.09, 78.89, 68.05, 151.89, 45.99, 116.05], [159.09, 78.89, 68.05, 151.89, 45.99, 116.05], [159.09, 78.89, 68.05, 151.89, 45.99, 116.05], [159.09, 78.89, 68.05, 151.89, 45.99, 116.05], [159.09, 78.89, 68.05, 151.89, 45.99, 116.05], [159.09, 78.89, 68.05, 151.89, 45.99, 116.05], [159.09, 78.89, 68.05, 151.89, 45.99, 116.05], [159.09, 78.89, 68.05, 151.89, 45.99, 116.05], [159.09, 78.89, 68.05, 151.89, 45.99, 116.05], [159.09, 78.89, 68.05, 151.89, 45.99, 116.05], [159.09, 78.89, 68.05, 151.89, 45.99, 116.05], [159.09, 78.89, 68.05, 151.89, 45.99, 116.05], [159.09, 78.89, 68.05, 151.89, 45.99, 116.05], [159.09, 78.89, 68.05, 151.89, 45.99, 116.05], [159.09, 78.89, 68.05, 151.89, 45.99, 116.05], [159.09, 78.89, 68.05, 151.89, 45.99, 116.05], [159.09, 78.89, 68.05, 151.89, 45.99, 116.05], [159.09, 78.89, 68.05, 151.89, 45.99, 116.05], [159.09, 78.89, 68.05, 151.89, 45.99, 116.05], [159.09, 78.89, 68.05, 151.89, 45.99, 116.05], [159.09, 78.89, 68.05, 151.89, 45.99, 116.05], [159.09, 78.89, 68.05, 151.89, 45.99, 116.05], [159.09, 78.89, 68.05, 151.89, 45.99, 116.05], [159.09, 78.89, 68.05, 151.89, 45.99, 116.05], [159.09, 78.89, 68.05, 151.89, 45.99, 116.05], [159.09, 78.89, 68.05, 151.89, 45.99, 116.05], [159.09, 78.89, 68.05, 151.89, 45.99, 116.05], [159.09, 78.89, 68.05, 151.89, 45.99, 116.05], [159.09, 78.89, 68.05, 151.89, 45.99, 116.05], [159.09, 78.89, 68.05, 151.89, 45.99, 116.05], [159.09, 78.89, 68.05, 151.89, 45.99, 116.05], [159.09, 78.89, 68.05, 151.89, 45.99, 116.05], [159.09, 78.89, 68.05, 151.89, 45.99, 116.05], [159.09, 78.89, 68.05, 151.89, 45.99, 116.05], [159.09, 78.89, 68.05, 151.89, 45.99, 116.05], [159.09, 78.89, 68.05, 151.89, 45.99, 116.05], [159.09, 78.89, 68.05, 151.89, 45.99, 116.05], [159.09, 78.89, 68.05, 151.89, 45.99, 116.05], [159.09, 78.89, 68.05, 151.89, 45.99, 116.05], [159.09, 78.89, 68.05, 151.89, 45.99, 116.05], [159.09, 78.89, 68.05, 151.89, 45.99, 116.05], [159.09, 78.89, 68.05, 151.89, 45.99, 116.05], [159.09, 78.89, 68.05, 151.89, 45.99, 116.05], [159.09, 78.89, 68.05, 151.89, 45.99, 116.05], [159.09, 78.89, 68.05, 151.89, 45.99, 116.05], [159.09, 78.89, 68.05, 151.89, 45.99, 116.05], [159.09, 78.89, 68.05, 151.89, 45.99, 116.05], [159.09, 78.89, 68.05, 151.89, 45.99, 116.05], [159.09, 78.89, 68.05, 151.89, 45.99, 116.05], [159.09, 78.89, 68.05, 151.89, 45.99, 116.05], [159.09, 78.89, 68.05, 151.89, 45.99, 116.05], [159.09, 78.89, 68.05, 151.89, 45.99, 116.05], [159.09, 78.89, 68.05, 151.89, 45.99, 116.05], [159.09, 78.89, 68.05, 151.89, 45.99, 116.05], [159.09, 78.89, 68.05, 151.89, 45.99, 116.05], [159.09, 78.89, 68.05, 151.89, 45.99, 116.05], [159.09, 78.89, 68.05, 151.89, 45.99, 116.05], [159.09, 78.89, 68.05, 151.89, 45.99, 116.05], [159.09, 78.89, 68.05, 151.89, 45.99, 116.05]]])"
      ]
     },
     "metadata": {},
     "output_type": "display_data"
    }
   ],
   "source": [
    "#Lab 15b instructs us to make a Queue data structure\n",
    "next_close=Queue{Vector{Float64}}();\n",
    "range=2:(trading_days+1);\n",
    "for element in range\n",
    "    price_arr=Array{Float64, 1}();\n",
    "    for ticker in tickers\n",
    "        price=dataset[ticker]\n",
    "        start=filter(:timestamp => x-> x >= startdate, price)|>x->x[i,:close] #direct 15b\n",
    "        push!(price_arr, start)\n",
    "    end \n",
    "\n",
    "    enqueue!(next_close, price_arr)\n",
    "end\n",
    "\n",
    "next_close"
   ]
  },
  {
   "cell_type": "code",
   "execution_count": 165,
   "id": "d866ec34",
   "metadata": {},
   "outputs": [
    {
     "data": {
      "text/plain": [
       "0.32522917849887734"
      ]
     },
     "metadata": {},
     "output_type": "display_data"
    }
   ],
   "source": [
    "min_return_goal=4*μ[spy_index]"
   ]
  },
  {
   "cell_type": "code",
   "execution_count": 166,
   "id": "8bdee2cb",
   "metadata": {},
   "outputs": [
    {
     "name": "stdout",
     "output_type": "stream",
     "text": [
      "-7.100860801091461e-107"
     ]
    },
    {
     "ename": "DomainError",
     "evalue": "DomainError with -7.100860801091461e-107:\nsqrt will only return a complex result if called with a complex argument. Try sqrt(Complex(x)).",
     "output_type": "error",
     "traceback": [
      "DomainError with -7.100860801091461e-107:\n",
      "sqrt will only return a complex result if called with a complex argument. Try sqrt(Complex(x)).\n",
      "\n",
      "Stacktrace:\n",
      " [1] throw_complex_domainerror(f::Symbol, x::Float64)\n",
      "   @ Base.Math ./math.jl:33\n",
      " [2] sqrt(x::Float64)\n",
      "   @ Base.Math ./math.jl:677\n",
      " [3] top-level scope\n",
      "   @ ~/Desktop/CHEME-5660-Project-Template-F23/Template.ipynb:33"
     ]
    }
   ],
   "source": [
    "#Simulation, adapted directly from 15b\n",
    "prev_price_arr=price_initial\n",
    "μ̂_naught=μ̂\n",
    "N_naught=shares_initial\n",
    "Δt = (1/229)\n",
    "results= DataFrame();\n",
    "\n",
    "while(isempty(next_close)==false)\n",
    "\n",
    "    current_pr=dequeue!(next_close)\n",
    "\n",
    "    assets_return = Array{Float64, 1}();\n",
    "    for element in eachindex(tickers)\n",
    "        m = (1/Δt)*log(current_pr[element]/prev_price_arr[element])\n",
    "        push!(assets_return, m)\n",
    "    end\n",
    "\n",
    "    μ̂_update=μ̂_naught+ learning_rate*(assets_return-μ̂_naught)\n",
    "\n",
    "    sim_initial.μ=μ̂_update;\n",
    "    sim_initial.R=min_return_goal;\n",
    "\n",
    "    sol=solve(sim_initial)\n",
    "\n",
    "    #conversion check from 15b\n",
    "\n",
    "    new_weight=w;\n",
    "    risk_new=risk;\n",
    "    status=sol[\"status\"]\n",
    "    if (status==MathOptInterface.LOCALLY_SOLVED)\n",
    "        new_weight=sol[\"argmax\"]\n",
    "        print(sol[\"objective_value\"])\n",
    "        risk_new=sqrt(sol[\"objective_value\"])\n",
    "    end\n",
    "\n",
    "    liq_value = dot(N_naught, current_pr)\n",
    "\n",
    "    new_shares=Array{Float64,1}()\n",
    "    for element in eachindex(new_weight)\n",
    "        w_element=new_weight[element]\n",
    "        nshare=(w_element*liq_value)/(current_pr[element])\n",
    "    push!(new_shares, nshare)\n",
    "    end\n",
    "    \n",
    "    results_t=(\n",
    "        N_updated=new_shares,\n",
    "        N_previous=N_naught,\n",
    "        w_previous=w,\n",
    "        w_updated=new_weight,\n",
    "        μ_previous=μ̂,\n",
    "        μ_updated= μ̂_update,\n",
    "        previous_close=prev_price_arr,\n",
    "        updated_close=current_pr,\n",
    "        liq_value=liq_value,\n",
    "        risk=risk_new,\n",
    "    );\n",
    "    push!(results,results_t)\n",
    "\n",
    "\n",
    "    μ_previous= μ̂_update\n",
    "    prev_price_arr=current_pr\n",
    "    N_previous=new_shares\n",
    "end\n",
    "\n",
    "results\n"
   ]
  },
  {
   "cell_type": "code",
   "execution_count": 167,
   "id": "fe78da31",
   "metadata": {},
   "outputs": [],
   "source": [
    "portfolio_performance_initial=Array{Float64,2}(undef, trading_days, length(w)+2)\n",
    "for element in eachindex(tickers)\n",
    "    ticker=tickers[element]\n",
    "    price=dataset[ticker]\n",
    "    ticker_data=filter(:timestamp => x-> x >= startdate, price)\n",
    "    n_new=N_naught[element]\n",
    "\n",
    "    for j in 1:trading_days\n",
    "        portfolio_performance_initial[j,i]=n_new*ticker_data[j+1,:close] #Lab 15b\n",
    "    end\n",
    "end\n",
    "\n",
    "for element in 1:trading_days\n",
    "    portfolio_performance_initial[i,end]=sum(portfolio_performance_initial[i,1:end-2])\n",
    "end\n",
    "\n",
    "for element in 1:trading_days\n",
    "    data=portfolio_performance_initial[i,1:end-2]\n",
    "    tot=portfolio_performance_initial[i,end]\n",
    "    w=(1/tot)*data\n",
    "    portfolio_performance_initial[i,end-1]=transpose(w)*Σ̂*w |> sqrt\n",
    "end"
   ]
  },
  {
   "cell_type": "code",
   "execution_count": 168,
   "id": "7bc60b1a",
   "metadata": {},
   "outputs": [
    {
     "data": {
      "text/plain": [
       "6-element Vector{String}:\n",
       " \"NVDA\"\n",
       " \"MDT\"\n",
       " \"AMD\"\n",
       " \"PG\"\n",
       " \"MO\"\n",
       " \"PLD\""
      ]
     },
     "metadata": {},
     "output_type": "display_data"
    }
   ],
   "source": [
    "tickers"
   ]
  },
  {
   "cell_type": "code",
   "execution_count": 169,
   "id": "7c4b8649",
   "metadata": {},
   "outputs": [
    {
     "name": "stdout",
     "output_type": "stream",
     "text": [
      "┌───────┬──────────────┬──────────────┬───────────────┬───────────────┬───────────────┬──────────────┬──────────────┬──────────────┐\n",
      "│\u001b[1m index \u001b[0m│\u001b[1m         NVDA \u001b[0m│\u001b[1m          MDT \u001b[0m│\u001b[1m           AMD \u001b[0m│\u001b[1m            PG \u001b[0m│\u001b[1m            MO \u001b[0m│\u001b[1m          PLD \u001b[0m│\u001b[1m  risk (sqrt) \u001b[0m│\u001b[1m  total value \u001b[0m│\n",
      "├───────┼──────────────┼──────────────┼───────────────┼───────────────┼───────────────┼──────────────┼──────────────┼──────────────┤\n",
      "│   1.0 │          0.0 │          0.0 │           0.0 │          -2.0 │  2.94695e-209 │ 2.37083e-314 │     9.7e-322 │   1.061e-313 │\n",
      "│   2.0 │          0.0 │ 3.01351e-314 │           0.0 │          -2.0 │ -4.60106e-199 │ 2.37083e-314 │          0.0 │          0.0 │\n",
      "│   3.0 │  2.7974e-314 │          0.0 │           0.0 │          -2.0 │   -7.5967e110 │ 8.48798e-314 │          0.0 │ 2.37083e-314 │\n",
      "│   4.0 │          0.0 │          0.0 │  2.53689e-314 │  1.93911e-318 │           0.0 │     2.5e-323 │          0.0 │ 2.37083e-314 │\n",
      "│   5.0 │ 2.32921e-314 │          0.0 │           0.0 │  1.56915e-294 │           0.0 │ 2.37083e-314 │ 2.32924e-314 │  1.6976e-313 │\n",
      "│   6.0 │          0.0 │ 4.24399e-314 │  2.12927e-314 │  4.24399e-314 │  2.12976e-314 │          0.0 │          NaN │  1.2747e-313 │\n",
      "│   7.0 │          0.0 │          0.0 │           0.0 │          -2.0 │           0.0 │  1.4854e-313 │   1.265e-321 │ 2.37083e-314 │\n",
      "│   8.0 │          0.0 │          0.0 │           0.0 │  1.93863e-318 │  6.04418e-314 │     4.4e-323 │ 1.05637e-317 │ 2.37083e-314 │\n",
      "│   9.0 │          0.0 │   5.756e-314 │           0.0 │          -2.0 │  6.04419e-314 │ 2.37083e-314 │   1.265e-321 │          0.0 │\n",
      "│  10.0 │          0.0 │          0.0 │           0.0 │          -2.0 │  6.04419e-314 │ 2.37083e-314 │   1.265e-321 │          0.0 │\n",
      "│  11.0 │          0.0 │          0.0 │           0.0 │          -2.0 │  6.04419e-314 │ 4.24399e-314 │          0.0 │          0.0 │\n",
      "│  12.0 │ 2.57883e-314 │          0.0 │           0.0 │          -2.0 │  6.04418e-314 │     4.0e-323 │          0.0 │          0.0 │\n",
      "│  13.0 │          0.0 │ 2.45142e-314 │           0.0 │          -2.0 │           0.0 │ 2.37083e-314 │          0.0 │  1.2732e-313 │\n",
      "│  14.0 │          0.0 │ 2.79065e-314 │           0.0 │  1.93848e-318 │  6.04418e-314 │ 2.37083e-314 │  1.2732e-313 │     1.2e-322 │\n",
      "│  15.0 │          0.0 │          0.0 │           0.0 │ -3.23897e-227 │  6.04418e-314 │  1.6976e-313 │          0.0 │ 2.37083e-314 │\n",
      "│  16.0 │          0.0 │          0.0 │           0.0 │  -2.15528e-41 │  6.04413e-314 │     3.0e-323 │ 2.37083e-314 │ 2.37083e-314 │\n",
      "│  17.0 │          0.0 │          0.0 │           0.0 │ -7.12166e-196 │           0.0 │ 2.37083e-314 │ 2.37083e-314 │          0.0 │\n",
      "│  18.0 │          0.0 │ 2.54811e-314 │           0.0 │  -4.6227e-251 │           0.0 │ 2.37083e-314 │          0.0 │          0.0 │\n",
      "│  19.0 │          0.0 │          0.0 │  2.99359e-314 │          -2.0 │           0.0 │ 4.24399e-314 │          0.0 │          0.0 │\n",
      "│  20.0 │          0.0 │          0.0 │           0.0 │          -2.0 │ -9.73884e-284 │     5.0e-324 │          0.0 │          0.0 │\n",
      "│  21.0 │          0.0 │          0.0 │           0.0 │          -2.0 │  -7.48653e251 │ 2.37083e-314 │          0.0 │  1.2732e-313 │\n",
      "│  22.0 │          0.0 │          0.0 │           0.0 │          -2.0 │  6.04419e-314 │ 2.37083e-314 │          0.0 │     4.0e-323 │\n",
      "│  23.0 │          0.0 │ 2.80775e-314 │           0.0 │          -2.0 │  6.04419e-314 │  1.4854e-313 │          0.0 │ 2.37083e-314 │\n",
      "│  24.0 │ 2.53618e-314 │          0.0 │           0.0 │          -2.0 │  6.04419e-314 │     7.0e-323 │          0.0 │ 2.37083e-314 │\n",
      "│  25.0 │          0.0 │          0.0 │  2.98674e-314 │          -2.0 │           0.0 │ 2.37083e-314 │          0.0 │  1.2732e-313 │\n",
      "│  26.0 │          0.0 │          0.0 │  2.99312e-314 │          -2.0 │ -1.62822e-161 │ 2.37083e-314 │          0.0 │     8.4e-323 │\n",
      "│  27.0 │          0.0 │          0.0 │           0.0 │          -2.0 │ -3.53791e-156 │   1.061e-313 │          0.0 │ 2.37083e-314 │\n",
      "│  28.0 │ 2.53807e-314 │ 2.34851e-314 │           0.0 │          -2.0 │ -4.12251e-183 │     1.0e-323 │          0.0 │ 2.37083e-314 │\n",
      "│  29.0 │          0.0 │          0.0 │           0.0 │          -2.0 │ -2.96626e-182 │ 2.37083e-314 │          0.0 │   1.061e-313 │\n",
      "│  30.0 │ 2.54516e-314 │          0.0 │  2.99488e-314 │          -2.0 │           0.0 │ 2.37083e-314 │          0.0 │     4.4e-323 │\n",
      "│  31.0 │          0.0 │          0.0 │           0.0 │      7.1e-322 │           0.0 │   1.061e-313 │          0.0 │ 2.37083e-314 │\n",
      "│  32.0 │          0.0 │          0.0 │  2.32917e-314 │           NaN │           0.0 │     5.0e-323 │          0.0 │ 2.37083e-314 │\n",
      "│  33.0 │          0.0 │          0.0 │           0.0 │   4.2711e-319 │  6.04419e-314 │ 2.37083e-314 │          0.0 │  1.2732e-313 │\n",
      "│  34.0 │          0.0 │          0.0 │           0.0 │           NaN │           0.0 │ 2.37083e-314 │          0.0 │     5.0e-324 │\n",
      "│  35.0 │          0.0 │          0.0 │  2.80331e-314 │  1.10979e-318 │  6.04418e-314 │ 5.53189e-314 │          0.0 │ 2.37083e-314 │\n",
      "│  36.0 │ 2.83942e-314 │          0.0 │           0.0 │  1.89373e-318 │ -4.79928e-132 │     7.2e-322 │          0.0 │ 2.37083e-314 │\n",
      "│  37.0 │          0.0 │          0.0 │  2.36189e-314 │           NaN │   -2.355e-252 │ 2.55364e-314 │          0.0 │          0.0 │\n",
      "│  38.0 │ 2.82989e-314 │          0.0 │  2.36458e-314 │  1.89452e-318 │  6.04419e-314 │ 2.37083e-314 │          0.0 │          0.0 │\n",
      "│  39.0 │ 2.44993e-314 │          0.0 │           0.0 │           NaN │  6.04418e-314 │ 4.24399e-314 │          0.0 │          0.0 │\n",
      "│  40.0 │          0.0 │          0.0 │           0.0 │  1.09611e-318 │  6.04418e-314 │     3.0e-323 │          0.0 │          0.0 │\n",
      "│  41.0 │          0.0 │ 2.79058e-314 │           0.0 │  1.90567e-318 │           0.0 │ 2.37083e-314 │          0.0 │  1.2732e-313 │\n",
      "│  42.0 │          0.0 │          0.0 │  2.78521e-314 │           NaN │ -9.22886e-150 │ 2.37083e-314 │  1.2732e-313 │     1.1e-322 │\n",
      "│  43.0 │          0.0 │          0.0 │           0.0 │ -2.66141e-164 │  -1.14307e148 │          0.0 │     4.4e-323 │ 2.37083e-314 │\n",
      "│  44.0 │          0.0 │  2.5514e-314 │  2.45122e-314 │  8.60836e-280 │   -4.3401e-20 │          0.0 │ 2.37083e-314 │ 2.37083e-314 │\n",
      "│  45.0 │          0.0 │          0.0 │           0.0 │           0.0 │ -1.37276e-161 │          0.0 │ 2.37083e-314 │          0.0 │\n",
      "│  46.0 │          0.0 │          0.0 │           0.0 │  5.53227e-314 │           0.0 │          0.0 │          0.0 │          0.0 │\n",
      "│  47.0 │          0.0 │          0.0 │           0.0 │  -2.14239e-35 │           0.0 │          0.0 │          0.0 │          0.0 │\n",
      "│  48.0 │          0.0 │          0.0 │           0.0 │   1.16645e285 │ -1.44172e-199 │          0.0 │          0.0 │          0.0 │\n",
      "│  49.0 │          0.0 │ 2.53788e-314 │   5.7744e-314 │ -2.46555e-238 │    5.81097e37 │          0.0 │          0.0 │          0.0 │\n",
      "│  50.0 │          0.0 │          0.0 │  2.44938e-314 │  -1.79249e171 │  6.04418e-314 │          0.0 │   1.061e-313 │          0.0 │\n",
      "│  51.0 │          0.0 │          0.0 │           0.0 │  1.93776e-318 │           0.0 │  1.6976e-313 │     3.5e-323 │          0.0 │\n",
      "│  52.0 │          0.0 │ 2.58609e-314 │           0.0 │  2.12691e-314 │ -2.02032e-281 │     7.0e-323 │ 2.37083e-314 │          0.0 │\n",
      "│  53.0 │          0.0 │          0.0 │           0.0 │ -1.17796e-178 │     1.2758e53 │ 2.37083e-314 │ 2.37083e-314 │          0.0 │\n",
      "│  54.0 │          0.0 │ 2.53755e-314 │           0.0 │   -7.29842e-7 │ -2.39608e-280 │ 2.37083e-314 │          0.0 │          0.0 │\n",
      "│  55.0 │          0.0 │ 2.85139e-314 │           0.0 │           0.0 │ -2.89031e-241 │          0.0 │          0.0 │          0.0 │\n",
      "│  56.0 │          0.0 │          0.0 │           0.0 │           0.0 │           0.0 │          0.0 │          0.0 │          0.0 │\n",
      "│  57.0 │          0.0 │          0.0 │    2.449e-314 │ -2.61595e-217 │           0.0 │          0.0 │          0.0 │ 8.48798e-314 │\n",
      "│  58.0 │ 2.53927e-314 │          0.0 │           0.0 │  -2.54962e185 │           0.0 │          0.0 │          0.0 │     2.0e-323 │\n",
      "│  59.0 │          0.0 │          0.0 │           0.0 │           0.0 │           0.0 │  1.6976e-313 │          0.0 │ 2.37083e-314 │\n",
      "│  60.0 │          0.0 │          0.0 │  2.53944e-314 │  6.04418e-314 │           0.0 │     1.5e-323 │          0.0 │ 2.37083e-314 │\n",
      "│  61.0 │ 2.98664e-314 │          0.0 │           0.0 │           0.0 │           0.0 │ 2.37083e-314 │          0.0 │  1.6976e-313 │\n",
      "│  62.0 │          0.0 │          0.0 │           0.0 │  6.04418e-314 │  6.04418e-314 │ 2.37083e-314 │          0.0 │     2.5e-323 │\n",
      "│  63.0 │          0.0 │          0.0 │  2.57337e-314 │           0.0 │           0.0 │  1.2732e-313 │          0.0 │ 2.37083e-314 │\n",
      "│  64.0 │          0.0 │          0.0 │           0.0 │           0.0 │  6.04418e-314 │    1.04e-322 │          0.0 │ 2.37083e-314 │\n",
      "│  65.0 │ 2.58086e-314 │          0.0 │           0.0 │  -9.95563e-54 │  6.04418e-314 │ 2.37083e-314 │          0.0 │          0.0 │\n",
      "│  66.0 │ 2.44877e-314 │          0.0 │           0.0 │   1.73498e-39 │  6.04419e-314 │ 2.37083e-314 │  1.4854e-313 │          0.0 │\n",
      "│  67.0 │          0.0 │          0.0 │  2.36817e-314 │           0.0 │  6.04418e-314 │  1.2732e-313 │          0.0 │          0.0 │\n",
      "│  68.0 │          0.0 │          0.0 │           0.0 │           0.0 │  6.04418e-314 │     7.4e-323 │ 2.37083e-314 │          0.0 │\n",
      "│  69.0 │  2.3314e-314 │          0.0 │           0.0 │  6.04419e-314 │           0.0 │ 2.37083e-314 │ 2.37083e-314 │          0.0 │\n",
      "│  70.0 │ 2.36817e-314 │ 2.35314e-314 │           0.0 │  6.04419e-314 │  4.40706e-222 │ 2.37083e-314 │          0.0 │          0.0 │\n",
      "│  71.0 │ 2.57369e-314 │          0.0 │           0.0 │           0.0 │  2.09784e-229 │ 8.48798e-314 │          0.0 │          0.0 │\n",
      "│  72.0 │          0.0 │ 2.55184e-314 │           0.0 │  6.04419e-314 │           0.0 │     3.0e-323 │          0.0 │          0.0 │\n",
      "│  73.0 │          0.0 │          0.0 │           0.0 │ -2.50113e-188 │           0.0 │ 2.37083e-314 │          0.0 │  1.4854e-313 │\n",
      "│  74.0 │ 2.57241e-314 │          0.0 │           0.0 │  -1.18074e-87 │  6.04418e-314 │ 2.37083e-314 │          0.0 │     4.0e-323 │\n",
      "│  75.0 │          0.0 │ 2.36023e-314 │  2.44872e-314 │  6.04418e-314 │           0.0 │          0.0 │          0.0 │ 2.37083e-314 │\n",
      "│  76.0 │          0.0 │          0.0 │  2.80335e-314 │           0.0 │           0.0 │          0.0 │          0.0 │ 2.37083e-314 │\n",
      "│  77.0 │          0.0 │ 2.99321e-314 │           0.0 │  6.04413e-314 │           0.0 │          0.0 │          0.0 │          0.0 │\n",
      "│  78.0 │          0.0 │          0.0 │           0.0 │           0.0 │           0.0 │          0.0 │  1.6976e-313 │          0.0 │\n",
      "│  79.0 │          0.0 │ 2.98572e-314 │           0.0 │  6.04418e-314 │  6.04418e-314 │ 4.24399e-314 │     4.0e-323 │          0.0 │\n",
      "│  80.0 │          0.0 │ 2.84897e-314 │           0.0 │  6.04418e-314 │           0.0 │     1.5e-323 │ 2.37083e-314 │          0.0 │\n",
      "│  81.0 │          0.0 │          0.0 │  2.98687e-314 │           0.0 │           0.0 │ 2.37083e-314 │ 2.37083e-314 │ 4.24399e-314 │\n",
      "│  82.0 │          0.0 │          0.0 │           0.0 │           0.0 │           0.0 │ 2.37083e-314 │  1.6976e-313 │     2.5e-323 │\n",
      "│  83.0 │          0.0 │          0.0 │           0.0 │           0.0 │           0.0 │   1.061e-313 │     8.4e-323 │ 2.37083e-314 │\n",
      "│  84.0 │          0.0 │          0.0 │           0.0 │           0.0 │           0.0 │     8.0e-323 │ 2.37083e-314 │ 2.37083e-314 │\n",
      "│  85.0 │          0.0 │ 2.81707e-314 │           0.0 │  6.04419e-314 │           0.0 │ 2.37083e-314 │ 2.37083e-314 │  1.4854e-313 │\n",
      "│  86.0 │          0.0 │          0.0 │           0.0 │           0.0 │           0.0 │ 2.37083e-314 │          0.0 │     5.0e-324 │\n",
      "│  87.0 │          0.0 │ 2.54489e-314 │           0.0 │  6.04419e-314 │           0.0 │          0.0 │          0.0 │ 2.37083e-314 │\n",
      "│  88.0 │ 2.54746e-314 │ 2.98529e-314 │           0.0 │  6.04418e-314 │           0.0 │          0.0 │          0.0 │ 2.37083e-314 │\n",
      "│  89.0 │          0.0 │  2.4492e-314 │           0.0 │           0.0 │           0.0 │          0.0 │          0.0 │  1.2732e-313 │\n",
      "│  90.0 │          0.0 │          0.0 │           0.0 │  6.04418e-314 │           0.0 │          0.0 │  1.6976e-313 │     7.0e-323 │\n",
      "│  91.0 │ 2.45113e-314 │          0.0 │  2.82968e-314 │           0.0 │           0.0 │          0.0 │     5.0e-324 │ 2.37083e-314 │\n",
      "│  92.0 │          0.0 │          0.0 │           0.0 │  6.04413e-314 │           0.0 │          0.0 │ 2.37083e-314 │ 2.37083e-314 │\n",
      "│  93.0 │          0.0 │          0.0 │           0.0 │  6.04418e-314 │           0.0 │          0.0 │ 2.37083e-314 │  1.2732e-313 │\n",
      "│  94.0 │          0.0 │          0.0 │           0.0 │           0.0 │           0.0 │          0.0 │ 8.48798e-314 │     1.5e-323 │\n",
      "│  95.0 │          0.0 │          0.0 │           0.0 │           0.0 │           0.0 │          0.0 │     2.5e-323 │ 2.37083e-314 │\n",
      "│  96.0 │          0.0 │          0.0 │           0.0 │           0.0 │           0.0 │          0.0 │ 2.37083e-314 │ 2.37083e-314 │\n",
      "│  97.0 │          0.0 │          0.0 │  2.55052e-314 │           0.0 │           0.0 │          0.0 │ 2.37083e-314 │          0.0 │\n",
      "│  98.0 │ 5.50416e-314 │          0.0 │  4.24399e-314 │           0.0 │           0.0 │          0.0 │  1.4854e-313 │          0.0 │\n",
      "│  99.0 │ 2.54564e-314 │          0.0 │      4.4e-323 │  -5.32041e-49 │           0.0 │          0.0 │     4.4e-323 │          0.0 │\n",
      "│ 100.0 │          0.0 │ 3.08776e-314 │  2.37083e-314 │ -6.71132e-180 │           0.0 │          0.0 │ 2.37083e-314 │          0.0 │\n",
      "│ 101.0 │          0.0 │          0.0 │  2.37083e-314 │           0.0 │           0.0 │          0.0 │ 2.37083e-314 │          0.0 │\n",
      "│ 102.0 │          0.0 │ 2.98544e-314 │           0.0 │           0.0 │           0.0 │          0.0 │ 4.24399e-314 │          0.0 │\n",
      "│ 103.0 │          0.0 │          0.0 │           0.0 │           0.0 │           0.0 │          0.0 │     4.0e-323 │          0.0 │\n",
      "│ 104.0 │          0.0 │          0.0 │           0.0 │           0.0 │ -8.80841e-105 │          0.0 │ 2.37083e-314 │          0.0 │\n",
      "│ 105.0 │          0.0 │          0.0 │           0.0 │           0.0 │  -2.55224e280 │          0.0 │ 2.37083e-314 │          0.0 │\n",
      "│ 106.0 │          0.0 │          0.0 │   1.2732e-313 │           0.0 │           0.0 │          0.0 │          0.0 │          0.0 │\n",
      "│ 107.0 │          0.0 │          0.0 │      1.0e-323 │  6.04418e-314 │           0.0 │          0.0 │          0.0 │          0.0 │\n",
      "│ 108.0 │          0.0 │          0.0 │  2.37083e-314 │  6.04419e-314 │           0.0 │          0.0 │          0.0 │          0.0 │\n",
      "│ 109.0 │          0.0 │          0.0 │  2.37083e-314 │           0.0 │           0.0 │          0.0 │          0.0 │          0.0 │\n",
      "│ 110.0 │          0.0 │ 2.36031e-314 │   1.2732e-313 │  6.04418e-314 │           0.0 │          0.0 │ 4.24399e-314 │          0.0 │\n",
      "│ 111.0 │          0.0 │          0.0 │      5.0e-323 │           0.0 │           0.0 │  1.4854e-313 │     5.0e-324 │          0.0 │\n",
      "│ 112.0 │          0.0 │          0.0 │  2.37083e-314 │  6.04418e-314 │           0.0 │     7.4e-323 │ 2.37083e-314 │          0.0 │\n",
      "│ 113.0 │          0.0 │          0.0 │  2.37083e-314 │  6.04418e-314 │           0.0 │ 2.37083e-314 │ 2.37083e-314 │          0.0 │\n",
      "│ 114.0 │          0.0 │          0.0 │   1.2732e-313 │  6.04418e-314 │           0.0 │ 2.37083e-314 │          0.0 │          0.0 │\n",
      "│ 115.0 │ 2.54657e-314 │          0.0 │      9.0e-323 │  -1.4572e-150 │           0.0 │  1.2732e-313 │          0.0 │          0.0 │\n",
      "│ 116.0 │          0.0 │          0.0 │  2.37083e-314 │ -1.00996e-238 │           0.0 │     2.5e-323 │          0.0 │          0.0 │\n",
      "│ 117.0 │          0.0 │          0.0 │  2.37083e-314 │  6.04418e-314 │           0.0 │ 2.37083e-314 │          0.0 │          0.0 │\n",
      "│ 118.0 │          0.0 │          0.0 │           0.0 │           0.0 │           0.0 │ 2.37083e-314 │   1.061e-313 │          0.0 │\n",
      "│ 119.0 │ 2.58417e-314 │          0.0 │           0.0 │           0.0 │           0.0 │   1.061e-313 │     1.0e-323 │          0.0 │\n",
      "│ 120.0 │          0.0 │          0.0 │           0.0 │           0.0 │           0.0 │     4.0e-323 │ 2.37083e-314 │          0.0 │\n",
      "│ 121.0 │          0.0 │ 2.98538e-314 │           0.0 │ -1.15132e-258 │           0.0 │ 2.37083e-314 │ 2.37083e-314 │          0.0 │\n",
      "│ 122.0 │ 2.84528e-314 │  3.0121e-314 │           0.0 │     0.0328185 │           0.0 │ 2.37083e-314 │   1.061e-313 │          0.0 │\n",
      "│ 123.0 │          0.0 │          0.0 │           0.0 │           0.0 │           0.0 │          0.0 │     5.0e-323 │          0.0 │\n",
      "│ 124.0 │          0.0 │          0.0 │           0.0 │           0.0 │           0.0 │          0.0 │ 2.37083e-314 │          0.0 │\n",
      "│ 125.0 │          0.0 │          0.0 │           0.0 │ -7.86801e-285 │           0.0 │          0.0 │ 2.37083e-314 │          0.0 │\n",
      "│ 126.0 │ 2.80767e-314 │          0.0 │           0.0 │    2.9107e270 │ -8.30978e-305 │          0.0 │          0.0 │          0.0 │\n",
      "│ 127.0 │ 2.54577e-314 │          0.0 │           0.0 │ -2.85288e-245 │  -9.61324e-66 │          0.0 │          0.0 │          0.0 │\n",
      "│ 128.0 │          0.0 │          0.0 │           0.0 │  8.64629e-243 │           0.0 │          0.0 │          0.0 │          0.0 │\n",
      "│ 129.0 │          0.0 │          0.0 │           0.0 │  6.04418e-314 │           0.0 │          0.0 │          0.0 │          0.0 │\n",
      "│ 130.0 │          0.0 │ 2.58371e-314 │           0.0 │  6.04418e-314 │           0.0 │          0.0 │          0.0 │          0.0 │\n",
      "│ 131.0 │          0.0 │          0.0 │           0.0 │           0.0 │           0.0 │   1.061e-313 │          0.0 │          0.0 │\n",
      "│ 132.0 │          0.0 │ 2.58103e-314 │           0.0 │           0.0 │ -1.71003e-215 │     5.0e-324 │          0.0 │          0.0 │\n",
      "│ 133.0 │          0.0 │          0.0 │           0.0 │  -2.42184e-62 │ -1.67888e-252 │ 2.37083e-314 │          0.0 │  1.6976e-313 │\n",
      "│ 134.0 │          0.0 │          0.0 │           0.0 │   -1.6906e103 │           0.0 │ 2.37083e-314 │          0.0 │     3.0e-323 │\n",
      "│ 135.0 │ 2.81711e-314 │          0.0 │           0.0 │  -1.63204e-13 │           0.0 │          0.0 │          0.0 │ 2.37083e-314 │\n",
      "│ 136.0 │ 2.33139e-314 │          0.0 │           0.0 │     2.7062e25 │  -4.30933e-41 │          0.0 │          0.0 │ 2.37083e-314 │\n",
      "│ 137.0 │          0.0 │          0.0 │           0.0 │  -3.19287e-85 │   -4.43933e43 │          0.0 │          0.0 │  1.4854e-313 │\n",
      "│ 138.0 │          0.0 │ 2.44906e-314 │           0.0 │   2.81591e-82 │           0.0 │          0.0 │          0.0 │     7.0e-323 │\n",
      "│ 139.0 │          0.0 │          0.0 │           0.0 │           0.0 │     9.93e-322 │   1.061e-313 │          0.0 │ 2.37083e-314 │\n",
      "│ 140.0 │ 2.54597e-314 │ 2.58602e-314 │           0.0 │  6.04419e-314 │  -8.77408e-38 │          0.0 │          0.0 │ 2.37083e-314 │\n",
      "│ 141.0 │ 2.37057e-314 │          0.0 │           0.0 │  6.04419e-314 │   2.78893e110 │ 2.37083e-314 │          0.0 │          0.0 │\n",
      "│ 142.0 │ 2.54688e-314 │          0.0 │           0.0 │           0.0 │ -1.22996e-238 │ 2.37083e-314 │  1.6976e-313 │          0.0 │\n",
      "│ 143.0 │ 2.54968e-314 │          0.0 │           0.0 │ -6.73155e-277 │  3.78172e-183 │  1.6976e-313 │     7.0e-323 │          0.0 │\n",
      "│ 144.0 │          0.0 │ 2.79051e-314 │           0.0 │   3.75791e175 │  -3.09141e-45 │     7.4e-323 │ 2.37083e-314 │          0.0 │\n",
      "│ 145.0 │ 2.36353e-314 │          0.0 │           0.0 │  6.04418e-314 │    2.34626e29 │ 2.37083e-314 │ 2.37083e-314 │  1.4854e-313 │\n",
      "│ 146.0 │          0.0 │          0.0 │           0.0 │           0.0 │ -3.36379e-152 │ 2.37083e-314 │          0.0 │     1.5e-323 │\n",
      "│ 147.0 │          0.0 │ 2.54601e-314 │  5.53236e-314 │           0.0 │ -1.01058e-238 │          0.0 │          0.0 │ 2.37083e-314 │\n",
      "│ 148.0 │          0.0 │          0.0 │           0.0 │           0.0 │     3.16e-322 │          0.0 │          0.0 │ 2.37083e-314 │\n",
      "│ 149.0 │          0.0 │          0.0 │  2.37083e-314 │           0.0 │           0.0 │          0.0 │          0.0 │          0.0 │\n",
      "│ 150.0 │          0.0 │ 2.84804e-314 │           0.0 │           0.0 │           0.0 │          0.0 │  1.6976e-313 │          0.0 │\n",
      "│ 151.0 │          0.0 │ 5.75278e-314 │           0.0 │  -1.92907e-92 │           0.0 │  1.2732e-313 │     1.5e-323 │          0.0 │\n",
      "│ 152.0 │          0.0 │ 2.80787e-314 │           0.0 │   -1.36495e50 │   1.2732e-313 │     1.2e-322 │ 2.37083e-314 │          0.0 │\n",
      "│ 153.0 │          0.0 │ 2.36067e-314 │  2.32924e-314 │           0.0 │           0.0 │ 2.37083e-314 │ 2.37083e-314 │ 4.24399e-314 │\n",
      "│ 154.0 │          0.0 │ 2.54481e-314 │  5.53226e-314 │           0.0 │ -2.39862e-182 │ 2.37083e-314 │  1.2732e-313 │     3.0e-323 │\n",
      "│ 155.0 │          0.0 │          0.0 │    1.265e-321 │           0.0 │   -4.83305e74 │          0.0 │    1.04e-322 │ 2.37083e-314 │\n",
      "│ 156.0 │          0.0 │          0.0 │  5.34257e-318 │           0.0 │   1.2732e-313 │          0.0 │ 2.37083e-314 │ 2.37083e-314 │\n",
      "│ 157.0 │          0.0 │          0.0 │    1.265e-321 │           0.0 │      1.1e-322 │          0.0 │ 2.37083e-314 │          0.0 │\n",
      "│ 158.0 │          0.0 │          0.0 │    1.265e-321 │           0.0 │  2.37083e-314 │          0.0 │          0.0 │          0.0 │\n",
      "│ 159.0 │          0.0 │          0.0 │      1.0e-323 │           0.0 │  2.37083e-314 │  1.2732e-313 │          0.0 │          0.0 │\n",
      "│ 160.0 │          0.0 │ 2.32938e-314 │  2.37083e-314 │           0.0 │           0.0 │     4.0e-323 │          0.0 │          0.0 │\n",
      "│ 161.0 │          0.0 │          0.0 │  2.37083e-314 │           0.0 │           0.0 │ 2.37083e-314 │          0.0 │          0.0 │\n",
      "│ 162.0 │          0.0 │          0.0 │   1.4854e-313 │           0.0 │  -7.04067e-31 │ 2.37083e-314 │ 8.48798e-314 │          0.0 │\n",
      "│ 163.0 │ 2.57385e-314 │          0.0 │      5.0e-323 │           0.0 │    2.29928e71 │  1.2732e-313 │     3.0e-323 │          0.0 │\n",
      "│ 164.0 │          0.0 │          0.0 │  2.37083e-314 │  6.04419e-314 │           0.0 │     8.4e-323 │ 2.37083e-314 │          0.0 │\n",
      "│ 165.0 │          0.0 │          0.0 │  2.37083e-314 │  6.04418e-314 │           0.0 │ 2.37083e-314 │ 2.37083e-314 │          0.0 │\n",
      "│ 166.0 │ 2.53761e-314 │ 2.53936e-314 │   1.2732e-313 │  6.04418e-314 │           0.0 │ 2.37083e-314 │          0.0 │          0.0 │\n",
      "│ 167.0 │          0.0 │ 2.53703e-314 │      8.0e-323 │           0.0 │           0.0 │   1.061e-313 │          0.0 │          0.0 │\n",
      "│ 168.0 │          0.0 │          0.0 │  2.37083e-314 │           0.0 │  -2.06752e-46 │     4.4e-323 │          0.0 │          0.0 │\n",
      "│ 169.0 │          0.0 │          0.0 │  2.37083e-314 │  6.04418e-314 │    3.01396e23 │ 2.37083e-314 │          0.0 │          0.0 │\n",
      "│ 170.0 │          0.0 │          0.0 │   1.2732e-313 │           0.0 │ -1.17381e-273 │ 2.37083e-314 │ 4.24399e-314 │          0.0 │\n",
      "│ 171.0 │          0.0 │          0.0 │      1.0e-322 │ -1.14436e-229 │  -9.50068e144 │  1.2732e-313 │     1.5e-323 │          0.0 │\n",
      "│ 172.0 │          0.0 │          0.0 │  2.37083e-314 │   1.92455e-26 │  -7.05121e-73 │     5.0e-324 │ 2.37083e-314 │          0.0 │\n",
      "│ 173.0 │ 2.80783e-314 │          0.0 │  2.37083e-314 │           0.0 │ -6.03342e-131 │ 2.37083e-314 │ 2.37083e-314 │          0.0 │\n",
      "│ 174.0 │          0.0 │          0.0 │           0.0 │           0.0 │ -8.69442e-184 │ 2.37083e-314 │   1.061e-313 │          0.0 │\n",
      "│ 175.0 │ 2.99247e-314 │          0.0 │           0.0 │           0.0 │ -2.24784e-235 │          0.0 │     8.0e-323 │          0.0 │\n",
      "│ 176.0 │          0.0 │          0.0 │           0.0 │  6.04413e-314 │           0.0 │          0.0 │ 2.37083e-314 │          0.0 │\n",
      "│ 177.0 │          0.0 │          0.0 │           0.0 │           0.0 │           0.0 │          0.0 │ 2.37083e-314 │  1.2732e-313 │\n",
      "│ 178.0 │          0.0 │          0.0 │           0.0 │  6.04418e-314 │           0.0 │          0.0 │          0.0 │     7.4e-323 │\n",
      "│ 179.0 │          0.0 │ 2.44929e-314 │           0.0 │           0.0 │           0.0 │          0.0 │          0.0 │ 2.37083e-314 │\n",
      "│ 180.0 │ 2.99383e-314 │          0.0 │           0.0 │           0.0 │   1.2732e-313 │          0.0 │          0.0 │ 2.37083e-314 │\n",
      "│ 181.0 │          0.0 │          0.0 │           0.0 │  -8.63555e-70 │      4.4e-323 │          0.0 │          0.0 │          0.0 │\n",
      "│ 182.0 │          0.0 │          0.0 │           0.0 │ -5.85039e-292 │  2.37083e-314 │          0.0 │          0.0 │          0.0 │\n",
      "│ 183.0 │          0.0 │          0.0 │           0.0 │  6.04418e-314 │  2.37083e-314 │          0.0 │          0.0 │          0.0 │\n",
      "│ 184.0 │          0.0 │          0.0 │  -2.28358e-10 │  6.04418e-314 │   1.4854e-313 │          0.0 │          0.0 │          0.0 │\n",
      "│ 185.0 │          0.0 │          0.0 │  -3.75904e230 │  6.04418e-314 │      4.0e-323 │          0.0 │          0.0 │          0.0 │\n",
      "│ 186.0 │ 2.45238e-314 │          0.0 │           0.0 │           0.0 │  2.37083e-314 │          0.0 │          0.0 │          0.0 │\n",
      "│ 187.0 │ 2.98817e-314 │          0.0 │           0.0 │           0.0 │  2.37083e-314 │          0.0 │          0.0 │          0.0 │\n",
      "│ 188.0 │          0.0 │          0.0 │           0.0 │  6.04418e-314 │    1.061e-313 │          0.0 │          0.0 │          0.0 │\n",
      "│ 189.0 │          0.0 │ 2.36433e-314 │           0.0 │           0.0 │      3.5e-323 │          0.0 │          0.0 │          0.0 │\n",
      "│ 190.0 │ 2.55282e-314 │          0.0 │           0.0 │           0.0 │ -2.05062e-269 │          0.0 │          0.0 │          0.0 │\n",
      "│ 191.0 │          0.0 │          0.0 │           0.0 │           0.0 │  -1.91684e205 │          0.0 │          0.0 │          0.0 │\n",
      "│ 192.0 │          0.0 │          0.0 │           0.0 │           0.0 │  4.24399e-314 │          0.0 │          0.0 │          0.0 │\n",
      "│ 193.0 │          0.0 │          0.0 │           0.0 │           0.0 │      2.5e-323 │          0.0 │          0.0 │          0.0 │\n",
      "│ 194.0 │          0.0 │          0.0 │    1.061e-313 │  6.04419e-314 │  2.37083e-314 │          0.0 │          0.0 │          0.0 │\n",
      "│ 195.0 │  2.5396e-314 │          0.0 │      5.4e-323 │           0.0 │  2.37083e-314 │          0.0 │          0.0 │          0.0 │\n",
      "│ 196.0 │          0.0 │          0.0 │ -4.95538e-206 │  6.04418e-314 │   1.4854e-313 │          0.0 │          0.0 │          0.0 │\n",
      "│ 197.0 │          0.0 │          0.0 │   3.02072e252 │           0.0 │      5.0e-324 │          0.0 │          0.0 │          0.0 │\n",
      "│ 198.0 │ 2.55113e-314 │          0.0 │           0.0 │           0.0 │  2.37083e-314 │          0.0 │          0.0 │          0.0 │\n",
      "│ 199.0 │          0.0 │          0.0 │           0.0 │           0.0 │  2.37083e-314 │          0.0 │          0.0 │          0.0 │\n",
      "│ 200.0 │          0.0 │          0.0 │           0.0 │           0.0 │  -1.36771e-48 │          0.0 │          0.0 │          0.0 │\n",
      "│ 201.0 │          0.0 │          0.0 │           0.0 │           0.0 │ -2.51762e-235 │          0.0 │          0.0 │          0.0 │\n",
      "│ 202.0 │ 2.53816e-314 │          0.0 │           0.0 │           0.0 │  -3.73988e-91 │          0.0 │          0.0 │          0.0 │\n",
      "│ 203.0 │          0.0 │          0.0 │           0.0 │           0.0 │  5.97563e-192 │          0.0 │          0.0 │          0.0 │\n",
      "│ 204.0 │          0.0 │ 2.33017e-314 │ -4.98238e-206 │           0.0 │   1.4854e-313 │          0.0 │          0.0 │          0.0 │\n",
      "│ 205.0 │          0.0 │          0.0 │ -1.58463e-124 │  6.04418e-314 │           0.0 │          0.0 │          0.0 │          0.0 │\n",
      "│ 206.0 │ 3.01118e-314 │          0.0 │           0.0 │  6.04419e-314 │  2.37083e-314 │          0.0 │          0.0 │          0.0 │\n",
      "│ 207.0 │          0.0 │          0.0 │           0.0 │           0.0 │  2.37083e-314 │          0.0 │          0.0 │          0.0 │\n",
      "│ 208.0 │          0.0 │          0.0 │           0.0 │           0.0 │   1.2732e-313 │          0.0 │          0.0 │          0.0 │\n",
      "│ 209.0 │          0.0 │          0.0 │           0.0 │           0.0 │      1.5e-323 │          0.0 │          0.0 │          0.0 │\n",
      "│ 210.0 │          0.0 │          0.0 │           0.0 │           0.0 │  2.37083e-314 │          0.0 │          0.0 │          0.0 │\n",
      "│ 211.0 │ 2.44889e-314 │          0.0 │           0.0 │ -5.24479e-216 │  2.37083e-314 │          0.0 │          0.0 │          0.0 │\n",
      "│ 212.0 │ 2.83014e-314 │          0.0 │ -5.05293e-238 │  9.27136e-109 │           0.0 │          0.0 │          0.0 │          0.0 │\n",
      "│ 213.0 │          0.0 │          0.0 │   1.22576e265 │           0.0 │           0.0 │          0.0 │          0.0 │          0.0 │\n",
      "│ 214.0 │ 2.54486e-314 │          0.0 │   1.2732e-313 │  6.04418e-314 │           0.0 │          0.0 │          0.0 │          0.0 │\n",
      "│ 215.0 │ 2.54914e-314 │ 2.34851e-314 │      9.4e-323 │  6.04418e-314 │           0.0 │          0.0 │          0.0 │          0.0 │\n",
      "│ 216.0 │          0.0 │ 2.55098e-314 │ -1.22409e-270 │  6.04418e-314 │   1.6976e-313 │          0.0 │          0.0 │          0.0 │\n",
      "│ 217.0 │ 2.80325e-314 │          0.0 │  4.26056e-106 │           0.0 │      4.0e-323 │          0.0 │          0.0 │          0.0 │\n",
      "│ 218.0 │          0.0 │          0.0 │  4.64343e-319 │           0.0 │  2.37083e-314 │          0.0 │          0.0 │          0.0 │\n",
      "│ 219.0 │          0.0 │          0.0 │          -2.0 │  6.04418e-314 │  2.37083e-314 │          0.0 │          0.0 │          0.0 │\n",
      "│ 220.0 │          0.0 │          0.0 │          -2.0 │           0.0 │   1.6976e-313 │          0.0 │          0.0 │          0.0 │\n",
      "│ 221.0 │          0.0 │          0.0 │          -2.0 │  6.04419e-314 │      8.4e-323 │          0.0 │          0.0 │          0.0 │\n",
      "│ 222.0 │          0.0 │ 2.32947e-314 │ -6.14886e-202 │           0.0 │  2.37083e-314 │          0.0 │          0.0 │          0.0 │\n",
      "│ 223.0 │ 2.44981e-314 │          0.0 │  3.91808e-282 │ -3.87035e-103 │  2.37083e-314 │          0.0 │          0.0 │          0.0 │\n",
      "│ 224.0 │          0.0 │          0.0 │  1.93958e-318 │    9.88424e-5 │           0.0 │          0.0 │          0.0 │          0.0 │\n",
      "│ 225.0 │ 2.78635e-314 │          0.0 │          -2.0 │           0.0 │           0.0 │          0.0 │          0.0 │          0.0 │\n",
      "│ 226.0 │ 2.36371e-314 │          0.0 │  1.93943e-318 │  6.04418e-314 │           0.0 │          0.0 │          0.0 │          0.0 │\n",
      "│ 227.0 │          0.0 │ 2.57981e-314 │  1.93927e-318 │  6.04419e-314 │           0.0 │ 5.53224e-314 │          0.0 │          0.0 │\n",
      "│ 228.0 │          0.0 │          0.0 │          -2.0 │  6.04418e-314 │   1.6976e-313 │ 5.53227e-314 │          0.0 │          0.0 │\n",
      "│ 229.0 │          0.0 │          0.0 │          -2.0 │ -3.60362e-226 │      5.0e-324 │   4.111e-320 │          0.0 │  1.4854e-313 │\n",
      "└───────┴──────────────┴──────────────┴───────────────┴───────────────┴───────────────┴──────────────┴──────────────┴──────────────┘\n"
     ]
    }
   ],
   "source": [
    "table_data=Array{Float64, 2}(undef, trading_days, length(w)+3)\n",
    "for element in 1:trading_days\n",
    "    table_data[element,1]=element\n",
    "    for j in eachindex(tickers)\n",
    "        table_data[i,j+1]=portfolio_performance_initial[i,j]\n",
    "    end\n",
    "    table_data[i,end-1]=portfolio_performance_initial[i, end-1]\n",
    "    table_data[i,end]=portfolio_performance_initial[i,end]\n",
    "end\n",
    "\n",
    "pretty_table(table_data, header=[\"index\", tickers..., \"risk (sqrt)\", \"total value\"])\n"
   ]
  },
  {
   "cell_type": "code",
   "execution_count": 170,
   "id": "f49ea2a2",
   "metadata": {},
   "outputs": [
    {
     "ename": "ArgumentError",
     "evalue": "ArgumentError: column name \"risk\" not found in the data frame since it has no columns",
     "output_type": "error",
     "traceback": [
      "ArgumentError: column name \"risk\" not found in the data frame since it has no columns\n",
      "\n",
      "Stacktrace:\n",
      " [1] lookupname\n",
      "   @ ~/.julia/packages/DataFrames/58MUJ/src/other/index.jl:410 [inlined]\n",
      " [2] getindex\n",
      "   @ ~/.julia/packages/DataFrames/58MUJ/src/other/index.jl:422 [inlined]\n",
      " [3] getindex(df::DataFrame, row_ind::Int64, col_ind::Symbol)\n",
      "   @ DataFrames ~/.julia/packages/DataFrames/58MUJ/src/dataframe/dataframe.jl:522\n",
      " [4] top-level scope\n",
      "   @ ~/Desktop/CHEME-5660-Project-Template-F23/Template.ipynb:4"
     ]
    }
   ],
   "source": [
    "reallocated_portfolio=Array{Float64, 2}(undef, trading_days, length(w)+2)\n",
    "\n",
    "for element in 1:trading_days\n",
    "    risk_new=results[i,:risk]\n",
    "    n_new=results[i,:N_updated]\n",
    "    price_new=results[i,:updated_close]\n",
    "\n",
    "    for j in eachindex(tickers)\n",
    "        reallocated_portfolio[i,j]=n_new[j]*price_new[j]|> x -> round(x,digits=3)|> abs\n",
    "    end\n",
    "\n",
    "    reallocated_portfolio[i,end-1]=risk_new\n",
    "end\n",
    "\n",
    "for element in 1:trading_days\n",
    "    reallocated_portfolio[i,end]=sum(reallocated_portfolio[i,1:end-2])\n",
    "end\n",
    "\n",
    "tot=reallocated_portfolio[1,end]\n",
    "data=reallocated_portfolio[1,1:end-2]\n",
    "w=(1/tot)*data\n",
    "reallocated_portfolio[1,end-1]=transpose(w)*Σ̂*w |> sqrt\n",
    "\n",
    "reallocated_portfolio"
   ]
  },
  {
   "cell_type": "code",
   "execution_count": 171,
   "id": "307ea0bb",
   "metadata": {},
   "outputs": [
    {
     "name": "stdout",
     "output_type": "stream",
     "text": [
      "┌───────┬──────────────┬───────────────┬──────────────┬───────────────┬───────────────┬───────────────┬──────────────┬──────────────┐\n",
      "│\u001b[1m index \u001b[0m│\u001b[1m         NVDA \u001b[0m│\u001b[1m           MDT \u001b[0m│\u001b[1m          AMD \u001b[0m│\u001b[1m            PG \u001b[0m│\u001b[1m            MO \u001b[0m│\u001b[1m           PLD \u001b[0m│\u001b[1m  risk (sqrt) \u001b[0m│\u001b[1m  total value \u001b[0m│\n",
      "├───────┼──────────────┼───────────────┼──────────────┼───────────────┼───────────────┼───────────────┼──────────────┼──────────────┤\n",
      "│   1.0 │     3.0e-323 │  5.72101e-314 │ 5.54296e-314 │ -1.69668e-292 │      2.5e-323 │    1.86967e91 │          NaN │          0.0 │\n",
      "│   2.0 │          0.0 │  5.54288e-314 │ 6.36257e-314 │  -3.23128e211 │  2.37083e-314 │  3.77786e-126 │          NaN │          0.0 │\n",
      "│   3.0 │          0.0 │           NaN │ 6.36257e-314 │ -8.25592e-228 │  2.37083e-314 │  5.53529e-314 │          NaN │          0.0 │\n",
      "│   4.0 │          0.0 │ -3.79946e-179 │ 5.55199e-314 │   6.64387e284 │           0.0 │  6.36257e-314 │          NaN │          0.0 │\n",
      "│   5.0 │          0.0 │           NaN │   2.122e-314 │   3.15915e187 │           0.0 │  6.36257e-314 │          0.0 │          0.0 │\n",
      "│   6.0 │          0.0 │           NaN │ 6.47064e-314 │  6.47065e-314 │  6.47064e-314 │  6.47066e-314 │          NaN │ 6.47066e-314 │\n",
      "│   7.0 │     2.0e-323 │     8.9564e23 │          0.0 │  -2.42909e-83 │           0.0 │   1.80022e231 │          0.0 │          0.0 │\n",
      "│   8.0 │          0.0 │           NaN │          0.0 │  -1.55183e302 │           0.0 │  5.53529e-314 │ 5.72145e-314 │          0.0 │\n",
      "│   9.0 │    3.16e-322 │  6.36257e-314 │          0.0 │  -3.49883e237 │     9.93e-322 │  -8.19588e-98 │ 6.36257e-314 │          0.0 │\n",
      "│  10.0 │     5.0e-324 │  8.48798e-314 │          NaN │ -9.60825e-205 │           0.0 │    1.63009e10 │ 6.36257e-314 │     1.0e-323 │\n",
      "│  11.0 │    3.16e-322 │           NaN │     5.0e-324 │    9.97039e85 │   5.7211e-314 │   3.52897e101 │     4.0e-323 │ 2.37083e-314 │\n",
      "│  12.0 │ 5.55206e-314 │    2.122e-314 │ 2.37083e-314 │ -2.65114e-129 │  6.36257e-314 │    1.71749e41 │          0.0 │ 2.37083e-314 │\n",
      "│  13.0 │     3.0e-323 │           NaN │ 2.37083e-314 │    1.35476e42 │  6.36257e-314 │    8.05512e28 │          NaN │          0.0 │\n",
      "│  14.0 │          0.0 │           NaN │          NaN │  -1.23918e116 │      4.0e-323 │       1.54871 │          NaN │          0.0 │\n",
      "│  15.0 │          0.0 │           NaN │     1.5e-323 │   4.17121e266 │    2.122e-314 │   -7.0069e115 │          NaN │          0.0 │\n",
      "│  16.0 │          0.0 │           NaN │ 5.55203e-314 │    1.0521e-24 │ -1.89413e-211 │  5.72143e-314 │          NaN │          0.0 │\n",
      "│  17.0 │          0.0 │           NaN │ 2.37083e-314 │   -2.79521e85 │  1.93471e-219 │  6.36257e-314 │          0.0 │          0.0 │\n",
      "│  18.0 │ 2.82698e-314 │           NaN │          0.0 │  -4.23545e-29 │   -9.40065e57 │  6.36257e-314 │          0.0 │          0.0 │\n",
      "│  19.0 │     3.0e-323 │      1.0e-323 │    3.16e-322 │  5.53518e-314 │  -7.1068e-227 │      4.0e-323 │          0.0 │          0.0 │\n",
      "│  20.0 │          0.0 │    2.122e-314 │          NaN │  6.36257e-314 │    0.00115868 │    2.04277e40 │          0.0 │          0.0 │\n",
      "│  21.0 │          0.0 │           0.0 │   2.122e-314 │  6.36257e-314 │ -8.55285e-164 │  1.48795e-218 │ 5.72127e-314 │          0.0 │\n",
      "│  22.0 │          0.0 │           0.0 │ 2.82697e-314 │      4.0e-323 │     -0.581299 │   9.76119e223 │ 6.36257e-314 │          0.0 │\n",
      "│  23.0 │          0.0 │           NaN │     3.0e-323 │  -4.99453e128 │  -1.10167e308 │   3.38238e225 │ 6.36257e-314 │          0.0 │\n",
      "│  24.0 │ 5.55344e-314 │  4.24399e-314 │ 2.37083e-314 │  5.53518e-314 │  5.54289e-314 │  -5.35298e184 │     4.0e-323 │          0.0 │\n",
      "│  25.0 │     3.0e-323 │    2.122e-314 │ 2.37083e-314 │ -6.27674e-188 │  6.36257e-314 │  9.51729e-257 │          0.0 │          0.0 │\n",
      "│  26.0 │          0.0 │           0.0 │          0.0 │ -2.79233e-224 │  6.36257e-314 │  -2.72889e-78 │          0.0 │          0.0 │\n",
      "│  27.0 │          0.0 │           0.0 │ 5.72118e-314 │   -1.68997e21 │      4.0e-323 │ -1.08431e-290 │          0.0 │          0.0 │\n",
      "│  28.0 │          0.0 │           0.0 │ 5.55351e-314 │    -1.354e-71 │  5.37299e-111 │  1.56629e-264 │          0.0 │          0.0 │\n",
      "│  29.0 │          0.0 │  5.55356e-314 │ 6.36256e-314 │     1.7826e26 │  5.53537e-314 │  5.72148e-314 │          0.0 │  1.4854e-313 │\n",
      "│  30.0 │ 2.82697e-314 │      3.0e-323 │     4.0e-323 │ -6.73891e-276 │  5.54286e-314 │  6.36257e-314 │   1.061e-313 │     7.4e-323 │\n",
      "│  31.0 │     3.0e-323 │  6.36257e-314 │          0.0 │  -1.38541e124 │  5.53548e-314 │  6.36257e-314 │          0.0 │ 2.37083e-314 │\n",
      "│  32.0 │          0.0 │           0.0 │ 5.72118e-314 │           NaN │  5.54289e-314 │      4.0e-323 │ 2.37083e-314 │ 2.37083e-314 │\n",
      "│  33.0 │          0.0 │  6.36257e-314 │          0.0 │ -1.13536e-138 │  -8.00462e-94 │   -1.7481e308 │ 2.37083e-314 │  1.2732e-313 │\n",
      "│  34.0 │          0.0 │  8.48798e-314 │ 2.82698e-314 │ -1.32515e-200 │   -4.70737e99 │   6.43018e-27 │          NaN │     2.5e-323 │\n",
      "│  35.0 │          0.0 │  5.55164e-314 │     3.0e-323 │  -1.09959e-26 │   4.20615e288 │           0.0 │     7.4e-323 │ 2.37083e-314 │\n",
      "│  36.0 │ 5.53376e-314 │  6.36256e-314 │ 2.37083e-314 │  3.38655e-212 │  -5.74833e290 │  6.36977e-314 │ 2.37083e-314 │ 2.37083e-314 │\n",
      "│  37.0 │     3.0e-323 │  6.36257e-314 │ 2.37083e-314 │  4.29069e-241 │  5.72148e-314 │  6.36242e-314 │ 2.37083e-314 │   1.061e-313 │\n",
      "│  38.0 │          0.0 │      4.0e-323 │          0.0 │  -1.61985e-99 │  6.36257e-314 │   2.15146e-23 │          0.0 │     4.0e-323 │\n",
      "│  39.0 │          0.0 │   1.21308e288 │          0.0 │   7.67635e-73 │  6.36257e-314 │  -3.31267e155 │          0.0 │ 2.37083e-314 │\n",
      "│  40.0 │          0.0 │           NaN │          NaN │ -4.47232e-129 │      4.0e-323 │  -2.26563e183 │          0.0 │ 2.37083e-314 │\n",
      "│  41.0 │          0.0 │  5.53396e-314 │          0.0 │  -1.02755e200 │    -2.459e179 │   1.88684e-81 │          0.0 │  1.9098e-313 │\n",
      "│  42.0 │          NaN │   -2.81746e78 │          0.0 │  -1.58008e-73 │  5.72148e-314 │   5.7211e-314 │          0.0 │          0.0 │\n",
      "│  43.0 │          0.0 │  6.36257e-314 │          0.0 │    5.16306e44 │ -7.59443e-169 │  6.36257e-314 │          0.0 │ 2.37083e-314 │\n",
      "│  44.0 │          0.0 │  8.48798e-314 │          0.0 │ -1.14002e-100 │   -1.51113e24 │  6.36257e-314 │          0.0 │ 2.37083e-314 │\n",
      "│  45.0 │          0.0 │  6.36257e-314 │          0.0 │           NaN │  -3.60352e258 │      4.0e-323 │          0.0 │          0.0 │\n",
      "│  46.0 │          0.0 │    2.122e-314 │          NaN │   1.14733e142 │  2.48519e-206 │    2.122e-314 │          0.0 │          0.0 │\n",
      "│  47.0 │          0.0 │  5.55203e-314 │          0.0 │   -2.0791e167 │   1.15662e-82 │  5.72148e-314 │          NaN │          0.0 │\n",
      "│  48.0 │          NaN │  5.72142e-314 │          0.0 │   7.91778e229 │    1.4855e229 │           NaN │          0.0 │          0.0 │\n",
      "│  49.0 │          0.0 │  6.36257e-314 │          0.0 │  -1.55844e-52 │   1.32072e103 │  5.72124e-314 │          0.0 │   1.061e-313 │\n",
      "│  50.0 │          0.0 │  6.36257e-314 │          0.0 │   1.05564e220 │  5.72108e-314 │  5.72148e-314 │          0.0 │     5.0e-324 │\n",
      "│  51.0 │          0.0 │      4.0e-323 │          0.0 │  -9.20823e160 │  6.36257e-314 │   5.7211e-314 │          0.0 │ 2.37083e-314 │\n",
      "│  52.0 │          0.0 │   5.84875e227 │ 5.53395e-314 │   3.15506e164 │  6.36257e-314 │           0.0 │          0.0 │ 2.37083e-314 │\n",
      "│  53.0 │          0.0 │  5.55344e-314 │ 5.72116e-314 │   2.63021e109 │      4.0e-323 │           0.0 │          0.0 │          0.0 │\n",
      "│  54.0 │ 5.55356e-314 │    2.122e-314 │ 6.36257e-314 │  -1.9809e-228 │  -6.22847e-77 │           0.0 │          0.0 │          0.0 │\n",
      "│  55.0 │     3.0e-323 │           0.0 │ 6.36257e-314 │   1.74344e-26 │ -8.09112e-219 │           NaN │          0.0 │          0.0 │\n",
      "│  56.0 │          0.0 │           0.0 │     4.0e-323 │  -2.31138e-87 │   2.17477e248 │           0.0 │          0.0 │          0.0 │\n",
      "│  57.0 │          0.0 │   4.12291e157 │          0.0 │  -1.29414e-86 │ -6.98735e-127 │           0.0 │          0.0 │ 8.48798e-314 │\n",
      "│  58.0 │          0.0 │           NaN │ 5.53372e-314 │           NaN │  1.51232e-119 │           0.0 │   1.061e-313 │     3.5e-323 │\n",
      "│  59.0 │          0.0 │           NaN │     3.0e-323 │   5.32149e234 │ -2.91287e-143 │           0.0 │     4.4e-323 │ 2.37083e-314 │\n",
      "│  60.0 │          NaN │           0.0 │          0.0 │  5.64994e-165 │    2.65041e85 │           0.0 │          NaN │ 2.37083e-314 │\n",
      "│  61.0 │          0.0 │           0.0 │          0.0 │  -5.1992e-155 │   -8.82584e13 │           0.0 │ 2.37083e-314 │  1.6976e-313 │\n",
      "│  62.0 │          0.0 │           0.0 │          0.0 │  -4.20509e279 │  2.68654e-296 │           0.0 │  1.2732e-313 │     2.0e-323 │\n",
      "│  63.0 │          0.0 │  5.51983e-314 │          0.0 │  -1.19888e289 │  5.72149e-314 │           0.0 │     5.0e-324 │ 2.37083e-314 │\n",
      "│  64.0 │          0.0 │           0.0 │          NaN │  -1.79917e277 │  6.36257e-314 │           0.0 │ 2.37083e-314 │ 2.37083e-314 │\n",
      "│  65.0 │          0.0 │  5.55344e-314 │          0.0 │       1.61887 │  6.36257e-314 │           0.0 │ 2.37083e-314 │  1.6976e-313 │\n",
      "│  66.0 │          NaN │      3.0e-323 │          NaN │  -3.91711e115 │      4.0e-323 │           0.0 │          0.0 │     6.4e-323 │\n",
      "│  67.0 │          0.0 │  6.36257e-314 │          0.0 │  -2.36704e231 │    4.72407e59 │           0.0 │          0.0 │ 2.37083e-314 │\n",
      "│  68.0 │          0.0 │  8.48798e-314 │          0.0 │   -1.53826e74 │  5.72113e-314 │  5.72116e-314 │          0.0 │ 2.37083e-314 │\n",
      "│  69.0 │          0.0 │   4.26638e-51 │          0.0 │  -5.86089e-30 │           NaN │  6.36257e-314 │          0.0 │          0.0 │\n",
      "│  70.0 │          0.0 │  8.90982e-143 │          NaN │     -0.462713 │           NaN │  6.36257e-314 │ 6.36599e-314 │          0.0 │\n",
      "│  71.0 │          0.0 │  2.82697e-314 │     1.0e-323 │  5.72124e-314 │  5.72149e-314 │      4.0e-323 │     2.0e-323 │          0.0 │\n",
      "│  72.0 │          NaN │   -2.13969e48 │ 2.37083e-314 │  6.36257e-314 │  -1.57409e105 │           0.0 │ 2.37083e-314 │          0.0 │\n",
      "│  73.0 │          0.0 │           NaN │ 2.37083e-314 │  6.36257e-314 │   9.29895e263 │           0.0 │ 5.54327e-314 │          0.0 │\n",
      "│  74.0 │          0.0 │  5.72127e-314 │          0.0 │      4.0e-323 │   -1.44894e45 │           0.0 │ 6.36257e-314 │          0.0 │\n",
      "│  75.0 │          0.0 │  6.36257e-314 │          0.0 │  -8.41089e123 │  7.32819e-195 │           0.0 │ 6.36257e-314 │          0.0 │\n",
      "│  76.0 │          0.0 │  6.36257e-314 │ 2.82697e-314 │    9.0636e245 │  5.69485e-314 │           0.0 │     4.0e-323 │          0.0 │\n",
      "│  77.0 │          0.0 │           NaN │     3.0e-323 │  9.70964e-280 │  6.36257e-314 │           0.0 │          0.0 │ 4.24399e-314 │\n",
      "│  78.0 │          NaN │  8.48798e-314 │          0.0 │  -4.12223e267 │  6.36257e-314 │           0.0 │          NaN │     2.0e-323 │\n",
      "│  79.0 │          0.0 │  6.36257e-314 │          NaN │  1.01298e-257 │      4.0e-323 │    1.061e-313 │          NaN │ 2.37083e-314 │\n",
      "│  80.0 │          0.0 │    2.122e-314 │          0.0 │   3.10303e188 │   5.06389e-48 │      3.5e-323 │          NaN │ 2.37083e-314 │\n",
      "│  81.0 │          0.0 │   -3.94856e26 │          0.0 │   -4.20267e81 │           NaN │  2.43893e-314 │ 5.54327e-314 │          0.0 │\n",
      "│  82.0 │          0.0 │  -1.64062e-47 │          0.0 │   3.23912e-24 │           NaN │  6.36257e-314 │          0.0 │          0.0 │\n",
      "│  83.0 │          0.0 │  5.53364e-314 │    9.93e-322 │  -3.48027e273 │           NaN │  6.36257e-314 │          0.0 │          0.0 │\n",
      "│  84.0 │          NaN │  -3.57919e208 │ 6.36203e-314 │  5.54314e-314 │           NaN │      4.0e-323 │          0.0 │          0.0 │\n",
      "│  85.0 │          0.0 │   -3.82629e14 │          0.0 │  6.36257e-314 │           NaN │           0.0 │          0.0 │  1.4854e-313 │\n",
      "│  86.0 │          0.0 │   -2.3556e287 │          0.0 │  6.36257e-314 │           NaN │  5.69666e-314 │ 5.72124e-314 │     2.5e-323 │\n",
      "│  87.0 │          0.0 │      2.0e-323 │          0.0 │      4.0e-323 │           NaN │  5.72127e-314 │ 6.36257e-314 │ 2.37083e-314 │\n",
      "│  88.0 │          0.0 │           0.0 │          0.0 │   -2.05849e42 │  5.69485e-314 │           NaN │ 6.36257e-314 │ 2.37083e-314 │\n",
      "│  89.0 │          0.0 │           NaN │          0.0 │           NaN │    2.827e-314 │  2.43893e-314 │     4.0e-323 │          0.0 │\n",
      "│  90.0 │          NaN │           0.0 │          0.0 │           NaN │  6.36257e-314 │           0.0 │  1.6976e-313 │          0.0 │\n",
      "│  91.0 │          0.0 │  -3.31486e164 │          0.0 │  5.54314e-314 │  6.36257e-314 │           0.0 │          NaN │          0.0 │\n",
      "│  92.0 │          0.0 │  -1.13955e304 │          NaN │  3.58077e-227 │      4.0e-323 │           0.0 │  5.7215e-314 │          0.0 │\n",
      "│  93.0 │          0.0 │  8.48798e-314 │          0.0 │  -2.68103e275 │  6.33513e-180 │           0.0 │ 5.72124e-314 │          0.0 │\n",
      "│  94.0 │          0.0 │           0.0 │     3.5e-323 │    -3.1991e19 │           NaN │           NaN │          0.0 │          0.0 │\n",
      "│  95.0 │          0.0 │  5.55309e-314 │     2.5e-323 │   -2.33906e80 │  -6.90994e203 │   1.4854e-313 │          0.0 │          0.0 │\n",
      "│  96.0 │          NaN │      3.0e-323 │ 2.37083e-314 │ -7.93464e-173 │   1.28946e176 │           0.0 │          0.0 │          0.0 │\n",
      "│  97.0 │          0.0 │  5.51984e-314 │ 2.37083e-314 │           NaN │  -4.4896e-242 │  2.37083e-314 │          0.0 │          0.0 │\n",
      "│  98.0 │          0.0 │           0.0 │   1.061e-313 │ -3.95008e-187 │    9.4556e-28 │  2.37083e-314 │          0.0 │          0.0 │\n",
      "│  99.0 │          0.0 │  6.36257e-314 │          0.0 │  -1.13061e280 │   2.10543e-38 │           0.0 │ 5.72149e-314 │          0.0 │\n",
      "│ 100.0 │          0.0 │           0.0 │ 2.37083e-314 │  -5.17914e180 │  -1.31193e233 │           0.0 │ 6.36257e-314 │          0.0 │\n",
      "│ 101.0 │          0.0 │  5.55359e-314 │ 2.37083e-314 │  -1.64835e155 │  -2.27181e-76 │           0.0 │ 6.36257e-314 │          0.0 │\n",
      "│ 102.0 │          NaN │  8.48798e-314 │          0.0 │ -2.91334e-156 │           NaN │           0.0 │     4.0e-323 │          0.0 │\n",
      "│ 103.0 │          0.0 │           NaN │          0.0 │   1.27233e182 │  6.11362e-122 │  6.36599e-314 │          0.0 │          0.0 │\n",
      "│ 104.0 │          0.0 │  8.69421e-262 │          0.0 │  -4.1677e-296 │  -9.23442e-10 │      2.5e-323 │ 5.72149e-314 │          0.0 │\n",
      "│ 105.0 │          0.0 │   -5.72935e43 │  5.7215e-314 │    4.23868e56 │   1.60854e-42 │  2.37083e-314 │ 2.37083e-314 │  1.2732e-313 │\n",
      "│ 106.0 │          0.0 │  -8.26929e176 │ 6.36257e-314 │   1.29475e182 │   2.36019e298 │  2.37083e-314 │  1.4854e-313 │     3.0e-323 │\n",
      "│ 107.0 │          0.0 │  2.82698e-314 │ 6.36257e-314 │       1.47748 │  4.28809e-282 │  5.72107e-314 │     8.4e-323 │ 2.37083e-314 │\n",
      "│ 108.0 │          NaN │           NaN │     4.0e-323 │ -5.28628e-169 │   -1.56746e12 │  6.36257e-314 │ 2.37083e-314 │ 2.37083e-314 │\n",
      "│ 109.0 │          0.0 │  -3.96803e116 │   2.122e-314 │           0.0 │   -8.41642e28 │  6.36257e-314 │ 2.37083e-314 │ 6.36599e-314 │\n",
      "│ 110.0 │          0.0 │    1.12953e15 │          NaN │           NaN │ -6.61371e-166 │      4.0e-323 │ 4.24399e-314 │     1.0e-323 │\n",
      "│ 111.0 │          0.0 │  6.36257e-314 │          NaN │  6.36242e-314 │  -1.56771e308 │           0.0 │     2.5e-323 │ 2.37083e-314 │\n",
      "│ 112.0 │          0.0 │  8.48798e-314 │          NaN │  -1.17615e294 │   -8.75715e26 │           0.0 │ 5.54285e-314 │ 2.37083e-314 │\n",
      "│ 113.0 │          0.0 │  5.52689e-314 │          NaN │  -4.32835e-98 │      0.497068 │           0.0 │ 6.36257e-314 │   1.061e-313 │\n",
      "│ 114.0 │ 2.82659e-314 │    2.122e-314 │          NaN │    -1.5633e57 │   2.03549e-10 │           0.0 │ 6.36257e-314 │     1.5e-323 │\n",
      "│ 115.0 │     2.0e-323 │  6.36257e-314 │          NaN │  -2.32202e284 │  5.74348e-314 │           0.0 │     4.0e-323 │ 2.37083e-314 │\n",
      "│ 116.0 │          NaN │      4.0e-323 │          NaN │  2.12691e-314 │  6.36257e-314 │           0.0 │   2.122e-314 │ 2.37083e-314 │\n",
      "│ 117.0 │    3.16e-322 │  2.10857e-172 │          NaN │    2.122e-314 │  6.36257e-314 │           0.0 │          NaN │          0.0 │\n",
      "│ 118.0 │          NaN │  5.72125e-314 │ 5.72128e-314 │      1.0e-322 │      4.0e-323 │           0.0 │          0.0 │          0.0 │\n",
      "│ 119.0 │    3.16e-322 │    2.827e-314 │ 6.36257e-314 │  2.37083e-314 │  3.44306e-121 │  8.48798e-314 │          0.0 │          0.0 │\n",
      "│ 120.0 │ 2.82698e-314 │  5.72148e-314 │ 6.36257e-314 │  2.37083e-314 │           NaN │  5.54281e-314 │          0.0 │          0.0 │\n",
      "│ 121.0 │     3.0e-323 │      2.5e-323 │     4.0e-323 │           0.0 │    1.38705e55 │  6.36257e-314 │          0.0 │          0.0 │\n",
      "│ 122.0 │          0.0 │    2.122e-314 │          0.0 │           0.0 │  3.43409e-250 │  6.36257e-314 │  1.2732e-313 │          0.0 │\n",
      "│ 123.0 │          0.0 │           0.0 │          0.0 │  5.74348e-314 │  -6.80151e231 │      4.0e-323 │     1.5e-323 │          0.0 │\n",
      "│ 124.0 │          0.0 │           0.0 │          0.0 │  6.36257e-314 │ -2.53485e-135 │           0.0 │ 2.37083e-314 │          0.0 │\n",
      "│ 125.0 │          0.0 │  2.82697e-314 │          0.0 │  6.36257e-314 │  -4.33817e-63 │  5.54285e-314 │ 5.72142e-314 │ 8.48798e-314 │\n",
      "│ 126.0 │          NaN │  6.36599e-314 │  1.2732e-313 │      4.0e-323 │   -1.10841e17 │           NaN │ 6.36257e-314 │     1.0e-323 │\n",
      "│ 127.0 │          NaN │           0.0 │     5.0e-324 │           0.0 │     6.2143e68 │  4.24399e-314 │ 6.36257e-314 │ 2.37083e-314 │\n",
      "│ 128.0 │   1.061e-313 │     3.16e-322 │ 2.37083e-314 │  5.74348e-314 │           NaN │      4.0e-323 │     4.0e-323 │ 2.37083e-314 │\n",
      "│ 129.0 │     2.0e-323 │           NaN │ 2.37083e-314 │  5.74348e-314 │  -8.25823e256 │  2.37083e-314 │          0.0 │          0.0 │\n",
      "│ 130.0 │ 2.37083e-314 │     3.16e-322 │          0.0 │           0.0 │  -1.88694e169 │  2.37083e-314 │          0.0 │          0.0 │\n",
      "│ 131.0 │ 2.37083e-314 │           NaN │ 5.72129e-314 │           0.0 │    1.50126e-6 │   1.6976e-313 │          0.0 │          0.0 │\n",
      "│ 132.0 │          NaN │   3.57098e-66 │ 6.36257e-314 │           0.0 │ -3.98175e-250 │      5.0e-324 │          0.0 │          0.0 │\n",
      "│ 133.0 │          0.0 │           NaN │ 6.36257e-314 │    2.122e-314 │   6.96753e298 │  5.72143e-314 │          0.0 │          0.0 │\n",
      "│ 134.0 │          NaN │  -2.4943e-107 │     4.0e-323 │      6.0e-323 │  -1.19658e229 │  6.36257e-314 │          0.0 │          0.0 │\n",
      "│ 135.0 │          0.0 │ -9.72985e-103 │          0.0 │  2.37083e-314 │  -2.77835e-79 │  6.36257e-314 │          0.0 │          0.0 │\n",
      "│ 136.0 │          0.0 │  -6.51291e163 │          NaN │           NaN │  -2.41089e302 │      4.0e-323 │          0.0 │          0.0 │\n",
      "│ 137.0 │          NaN │           NaN │ 5.72129e-314 │           0.0 │  -3.17509e305 │           0.0 │          0.0 │          0.0 │\n",
      "│ 138.0 │          NaN │           NaN │          0.0 │           0.0 │  -2.33986e247 │           0.0 │ 5.53534e-314 │          0.0 │\n",
      "│ 139.0 │          0.0 │  5.69685e-314 │          0.0 │           0.0 │  5.66203e-243 │  4.24399e-314 │ 6.36257e-314 │          0.0 │\n",
      "│ 140.0 │ 4.24399e-314 │  6.36257e-314 │          0.0 │           0.0 │  -8.08479e219 │      5.0e-324 │ 6.36257e-314 │          0.0 │\n",
      "│ 141.0 │          0.0 │  6.36257e-314 │          0.0 │           0.0 │   5.7215e-314 │  2.37083e-314 │     4.0e-323 │          0.0 │\n",
      "│ 142.0 │          NaN │      4.0e-323 │          0.0 │           0.0 │  6.36257e-314 │  2.37083e-314 │          0.0 │          0.0 │\n",
      "│ 143.0 │ 2.37083e-314 │           NaN │          0.0 │           0.0 │  6.36257e-314 │           0.0 │ 5.53534e-314 │          0.0 │\n",
      "│ 144.0 │ 5.55334e-314 │  5.72144e-314 │ 5.72131e-314 │           0.0 │      4.0e-323 │           0.0 │          0.0 │          0.0 │\n",
      "│ 145.0 │     3.0e-323 │  5.74348e-314 │ 6.36257e-314 │    2.122e-314 │ -1.91677e-271 │           0.0 │          0.0 │          0.0 │\n",
      "│ 146.0 │ 2.37083e-314 │           NaN │ 6.36257e-314 │      4.0e-323 │           NaN │  5.72147e-314 │          0.0 │          0.0 │\n",
      "│ 147.0 │ 5.72118e-314 │  5.69685e-314 │     4.0e-323 │  2.37083e-314 │  2.16878e-127 │  6.36257e-314 │          0.0 │          0.0 │\n",
      "│ 148.0 │ 6.36257e-314 │           NaN │          0.0 │  2.37083e-314 │  -2.38419e170 │  6.36257e-314 │          0.0 │          0.0 │\n",
      "│ 149.0 │ 6.36257e-314 │           NaN │ 5.72131e-314 │  5.72127e-314 │ -6.08351e-289 │      4.0e-323 │          0.0 │  1.6976e-313 │\n",
      "│ 150.0 │          NaN │    1.26117e61 │     3.5e-323 │  6.36257e-314 │   5.94447e290 │    2.122e-314 │          0.0 │     6.0e-323 │\n",
      "│ 151.0 │          0.0 │  7.32566e-208 │     5.0e-324 │  6.36257e-314 │   6.81545e156 │           0.0 │ 5.72128e-314 │ 2.37083e-314 │\n",
      "│ 152.0 │  5.7213e-314 │           NaN │ 2.37083e-314 │      4.0e-323 │    6.86008e41 │           0.0 │ 6.36257e-314 │ 2.37083e-314 │\n",
      "│ 153.0 │ 5.72118e-314 │           NaN │ 2.37083e-314 │           0.0 │  -3.95147e304 │           0.0 │ 6.36257e-314 │          0.0 │\n",
      "│ 154.0 │ 2.37083e-314 │  -4.42794e262 │          0.0 │           0.0 │  5.72147e-314 │           0.0 │     4.0e-323 │          0.0 │\n",
      "│ 155.0 │ 2.37083e-314 │    2.827e-314 │          0.0 │           0.0 │  6.36257e-314 │           0.0 │          0.0 │          0.0 │\n",
      "│ 156.0 │          NaN │   -5.7371e225 │          0.0 │           0.0 │  6.36257e-314 │           0.0 │ 5.72128e-314 │          0.0 │\n",
      "│ 157.0 │          0.0 │  -8.33575e-26 │  5.7211e-314 │    2.122e-314 │      4.0e-323 │           0.0 │ 2.37083e-314 │  1.4854e-313 │\n",
      "│ 158.0 │ 6.36257e-314 │           NaN │ 6.36257e-314 │      5.0e-324 │  -6.05404e-23 │           0.0 │          0.0 │     3.0e-323 │\n",
      "│ 159.0 │          0.0 │   3.09788e241 │ 6.36257e-314 │  2.37083e-314 │           NaN │  5.72115e-314 │          0.0 │ 2.37083e-314 │\n",
      "│ 160.0 │ 5.74348e-314 │      0.489358 │     4.0e-323 │  2.37083e-314 │  5.72128e-314 │  6.36257e-314 │          0.0 │ 2.37083e-314 │\n",
      "│ 161.0 │  1.9098e-313 │  5.55359e-314 │   2.122e-314 │    2.122e-314 │  6.46372e-314 │  6.36257e-314 │          0.0 │          0.0 │\n",
      "│ 162.0 │   2.827e-314 │   -2.31401e14 │          0.0 │  5.54289e-314 │  5.54296e-314 │      4.0e-323 │  1.6976e-313 │          0.0 │\n",
      "│ 163.0 │   2.122e-314 │           NaN │          0.0 │  6.36257e-314 │           NaN │           0.0 │     3.0e-323 │          0.0 │\n",
      "│ 164.0 │ 6.36257e-314 │  -2.05683e-57 │          0.0 │  6.36257e-314 │  5.54285e-314 │           NaN │          NaN │          0.0 │\n",
      "│ 165.0 │   2.122e-314 │           NaN │          0.0 │      4.0e-323 │  5.72147e-314 │  5.72115e-314 │ 2.37083e-314 │          0.0 │\n",
      "│ 166.0 │ 6.36257e-314 │  6.19682e-112 │          0.0 │           0.0 │  4.27225e-266 │           0.0 │  1.4854e-313 │          0.0 │\n",
      "│ 167.0 │   2.122e-314 │  5.55163e-314 │          0.0 │  5.54281e-314 │  5.54286e-314 │           0.0 │     7.0e-323 │          0.0 │\n",
      "│ 168.0 │          NaN │           NaN │          0.0 │  5.54289e-314 │  6.36257e-314 │           0.0 │ 2.37083e-314 │          0.0 │\n",
      "│ 169.0 │   2.122e-314 │  7.25236e-220 │          0.0 │    2.122e-314 │  6.36257e-314 │           0.0 │ 2.37083e-314 │ 4.24399e-314 │\n",
      "│ 170.0 │ 6.36257e-314 │  -6.65174e137 │ 5.69715e-314 │      6.4e-323 │      4.0e-323 │           0.0 │          0.0 │     6.0e-323 │\n",
      "│ 171.0 │ 8.48798e-314 │   2.7636e-274 │ 6.36257e-314 │  2.37083e-314 │ -2.71648e-217 │   1.6976e-313 │          0.0 │ 2.37083e-314 │\n",
      "│ 172.0 │          NaN │ -8.64157e-212 │ 6.36257e-314 │  2.37083e-314 │  6.20586e-314 │  5.72131e-314 │          0.0 │ 2.37083e-314 │\n",
      "│ 173.0 │ 5.72101e-314 │  5.55339e-314 │     4.0e-323 │    2.122e-314 │           NaN │  6.36257e-314 │          0.0 │          0.0 │\n",
      "│ 174.0 │ 5.55203e-314 │  8.81538e-174 │   2.122e-314 │      3.0e-323 │  -5.69865e268 │  6.36257e-314 │  1.4854e-313 │          0.0 │\n",
      "│ 175.0 │ 6.36256e-314 │    3.4586e-84 │ 5.74349e-314 │  5.72144e-314 │   1.32018e160 │      4.0e-323 │     1.5e-323 │          0.0 │\n",
      "│ 176.0 │     4.0e-323 │  -8.10904e-58 │ 5.72125e-314 │  6.36257e-314 │   -9.6521e301 │           0.0 │ 2.37083e-314 │          0.0 │\n",
      "│ 177.0 │          NaN │ -9.86692e-232 │ 5.69523e-314 │  6.36257e-314 │   2.91569e109 │  5.72131e-314 │          NaN │          0.0 │\n",
      "│ 178.0 │ 5.72101e-314 │  6.20586e-314 │          NaN │      4.0e-323 │   7.13792e284 │  2.37083e-314 │          0.0 │          0.0 │\n",
      "│ 179.0 │ 3.51969e-297 │  5.55171e-314 │          NaN │    2.122e-314 │   2.28804e155 │   1.6976e-313 │          0.0 │          0.0 │\n",
      "│ 180.0 │          NaN │  6.36256e-314 │          NaN │           NaN │           NaN │      1.5e-323 │          0.0 │          0.0 │\n",
      "│ 181.0 │     2.0e-323 │      4.0e-323 │ 5.69715e-314 │    2.122e-314 │ -2.28871e-203 │  2.37083e-314 │          0.0 │          0.0 │\n",
      "│ 182.0 │     2.5e-323 │    -1.2553e58 │   2.122e-314 │      1.0e-323 │  -1.84035e239 │  2.37083e-314 │ 4.24399e-314 │          0.0 │\n",
      "│ 183.0 │          0.0 │           NaN │  5.7213e-314 │  2.37083e-314 │    1.68788e35 │           0.0 │     3.0e-323 │          0.0 │\n",
      "│ 184.0 │ 1.36736e-278 │  6.36977e-314 │ 6.36257e-314 │  2.37083e-314 │  -4.50574e229 │           0.0 │ 2.37083e-314 │          0.0 │\n",
      "│ 185.0 │ -6.30534e-30 │  5.55352e-314 │ 6.36257e-314 │    2.122e-314 │   3.10088e132 │   5.7214e-314 │ 2.37083e-314 │          0.0 │\n",
      "│ 186.0 │          NaN │   7.42431e-72 │     4.0e-323 │      5.0e-323 │  -3.57656e-16 │  6.36257e-314 │          0.0 │          0.0 │\n",
      "│ 187.0 │          0.0 │  8.85696e-103 │          0.0 │  2.37083e-314 │   1.62238e-56 │  6.36257e-314 │          0.0 │          0.0 │\n",
      "│ 188.0 │          0.0 │  -3.17496e143 │ 2.37083e-314 │           NaN │   -5.12048e84 │      4.0e-323 │          0.0 │          0.0 │\n",
      "│ 189.0 │          0.0 │  -1.26528e-78 │ 2.37083e-314 │    2.122e-314 │    1.004e-261 │           0.0 │          0.0 │          0.0 │\n",
      "│ 190.0 │ 5.51984e-314 │  2.12691e-314 │  1.4854e-313 │      5.4e-323 │  -2.57993e-11 │           0.0 │          0.0 │          0.0 │\n",
      "│ 191.0 │          0.0 │  2.82698e-314 │          0.0 │  2.37083e-314 │     6.0773e57 │  8.48798e-314 │          0.0 │          0.0 │\n",
      "│ 192.0 │   2.827e-314 │  6.36256e-314 │ 2.37083e-314 │  2.37083e-314 │   1.58072e265 │      3.0e-323 │          0.0 │          0.0 │\n",
      "│ 193.0 │     3.0e-323 │  6.36257e-314 │ 2.37083e-314 │    2.122e-314 │           NaN │  2.37083e-314 │          0.0 │          0.0 │\n",
      "│ 194.0 │ 6.36257e-314 │      4.0e-323 │          0.0 │      4.4e-323 │  -1.00815e222 │  2.37083e-314 │          0.0 │          0.0 │\n",
      "│ 195.0 │ 8.48798e-314 │           0.0 │          0.0 │  2.37083e-314 │     1.844e-63 │           0.0 │          0.0 │          0.0 │\n",
      "│ 196.0 │ 1.26276e-141 │  5.72143e-314 │  5.7211e-314 │  2.37083e-314 │    1.6645e161 │           0.0 │          0.0 │          0.0 │\n",
      "│ 197.0 │          NaN │    2.827e-314 │ 6.36257e-314 │    2.122e-314 │   -1.02678e-8 │           0.0 │          0.0 │  1.6976e-313 │\n",
      "│ 198.0 │ 2.82698e-314 │      3.0e-323 │ 6.36257e-314 │      9.0e-323 │   2.51538e240 │  5.74348e-314 │          0.0 │     5.4e-323 │\n",
      "│ 199.0 │ 5.53527e-314 │           0.0 │     4.0e-323 │  2.37083e-314 │   -9.88563e78 │  6.36257e-314 │          0.0 │ 2.37083e-314 │\n",
      "│ 200.0 │ 6.36257e-314 │           0.0 │          0.0 │  2.37083e-314 │ -5.85124e-102 │  6.36257e-314 │          0.0 │ 2.37083e-314 │\n",
      "│ 201.0 │ 6.36257e-314 │           0.0 │          0.0 │  5.72117e-314 │   -1.27138e38 │      4.0e-323 │          0.0 │          0.0 │\n",
      "│ 202.0 │     4.0e-323 │           0.0 │          0.0 │  6.36257e-314 │  -5.91958e197 │    2.122e-314 │          0.0 │          0.0 │\n",
      "│ 203.0 │   2.72275e45 │           NaN │          0.0 │  6.36257e-314 │   3.7342e-187 │           NaN │          0.0 │          0.0 │\n",
      "│ 204.0 │ 5.55344e-314 │           NaN │          0.0 │      4.0e-323 │    3.07241e84 │           NaN │          0.0 │          0.0 │\n",
      "│ 205.0 │ 8.48798e-314 │           0.0 │          0.0 │           0.0 │   2.70567e275 │           0.0 │          0.0 │          0.0 │\n",
      "│ 206.0 │ 6.36257e-314 │           0.0 │          0.0 │  5.72133e-314 │  5.72149e-314 │           0.0 │          0.0 │          0.0 │\n",
      "│ 207.0 │   2.122e-314 │           0.0 │          0.0 │  5.72117e-314 │  6.36257e-314 │           0.0 │          0.0 │          0.0 │\n",
      "│ 208.0 │      0.61284 │           0.0 │          0.0 │           0.0 │  6.36257e-314 │           0.0 │          0.0 │          0.0 │\n",
      "│ 209.0 │ 2.08428e-290 │           NaN │ 5.72133e-314 │    2.122e-314 │      4.0e-323 │           0.0 │          0.0 │          0.0 │\n",
      "│ 210.0 │   2.827e-314 │           0.0 │ 6.36257e-314 │      7.0e-323 │   1.69683e-44 │           0.0 │          0.0 │          0.0 │\n",
      "│ 211.0 │  5.2171e-196 │  4.24399e-314 │ 6.36257e-314 │  2.37083e-314 │  5.72149e-314 │  5.72101e-314 │          0.0 │          0.0 │\n",
      "│ 212.0 │ 5.74349e-314 │           0.0 │     4.0e-323 │  2.37083e-314 │    2.36301e20 │  6.36257e-314 │          0.0 │          0.0 │\n",
      "│ 213.0 │ 6.36257e-314 │  2.37083e-314 │   2.122e-314 │           0.0 │   -8.16684e94 │  6.36257e-314 │          0.0 │          0.0 │\n",
      "│ 214.0 │     5.0e-324 │  2.37083e-314 │ 5.72133e-314 │           NaN │  2.73609e-101 │      4.0e-323 │          0.0 │          0.0 │\n",
      "│ 215.0 │   2.122e-314 │           NaN │     5.0e-324 │           0.0 │    2.59903e28 │           0.0 │          0.0 │          0.0 │\n",
      "│ 216.0 │          NaN │           0.0 │ 2.37083e-314 │           0.0 │   1.82441e295 │  5.72128e-314 │          0.0 │          0.0 │\n",
      "│ 217.0 │          0.0 │  5.54296e-314 │ 2.37083e-314 │    2.122e-314 │  1.32855e-157 │  6.46372e-314 │          0.0 │ 4.24399e-314 │\n",
      "│ 218.0 │   1.83757e95 │  6.36257e-314 │ -4.14191e-92 │      1.5e-323 │ -1.23257e-127 │           NaN │          0.0 │     5.4e-323 │\n",
      "│ 219.0 │  -5.5167e296 │  6.36257e-314 │   2.1504e209 │  2.37083e-314 │           NaN │           0.0 │          0.0 │ 2.37083e-314 │\n",
      "│ 220.0 │   1.061e-313 │      4.0e-323 │ 3.42155e-219 │  2.37083e-314 │   1.89037e302 │           0.0 │          0.0 │ 2.37083e-314 │\n",
      "│ 221.0 │          0.0 │  2.82698e-314 │ -2.37838e154 │           0.0 │    -8.1182e40 │           0.0 │          0.0 │ 6.36599e-314 │\n",
      "│ 222.0 │ 5.53393e-314 │  5.54294e-314 │ 5.54327e-314 │           0.0 │   2.12659e140 │           0.0 │          0.0 │          0.0 │\n",
      "│ 223.0 │     3.0e-323 │  6.36599e-314 │ 6.36257e-314 │           0.0 │ -1.38616e-248 │           0.0 │          0.0 │ 2.37083e-314 │\n",
      "│ 224.0 │ 5.51983e-314 │      5.0e-324 │ 6.36257e-314 │           0.0 │ -1.89916e-137 │  5.74348e-314 │          0.0 │ 2.37083e-314 │\n",
      "│ 225.0 │          0.0 │  2.37083e-314 │     4.0e-323 │           0.0 │    -1.308e245 │  6.36257e-314 │          0.0 │          0.0 │\n",
      "│ 226.0 │ 6.36257e-314 │  2.37083e-314 │  -6.89053e96 │           0.0 │  6.32928e-201 │  6.36257e-314 │          0.0 │          0.0 │\n",
      "│ 227.0 │          0.0 │           NaN │ 5.54327e-314 │           NaN │   -2.0626e-78 │      4.0e-323 │          0.0 │          0.0 │\n",
      "│ 228.0 │          NaN │           0.0 │ -1.25299e308 │           0.0 │ -8.04395e-132 │           0.0 │          0.0 │          0.0 │\n",
      "│ 229.0 │ 8.48798e-314 │           0.0 │ -9.26659e-45 │    2.122e-314 │  -1.95631e307 │           NaN │          0.0 │  1.2732e-313 │\n",
      "└───────┴──────────────┴───────────────┴──────────────┴───────────────┴───────────────┴───────────────┴──────────────┴──────────────┘\n"
     ]
    }
   ],
   "source": [
    "reallocate_data=Array{Float64, 2}(undef, trading_days, length(w)+3)\n",
    "for element in 1:trading_days\n",
    "    reallocate_data[element,1]=element\n",
    "    for j in eachindex(tickers)\n",
    "        reallocate_data[i,j+1]=reallocated_portfolio[i,j]\n",
    "    end\n",
    "    reallocate_data[i,end-1]=reallocated_portfolio[i, end-1]\n",
    "    reallocate_data[i,end]=reallocated_portfolio[i,end]\n",
    "end\n",
    "\n",
    "pretty_table(reallocate_data, header=[\"index\", tickers..., \"risk (sqrt)\", \"total value\"])\n"
   ]
  },
  {
   "cell_type": "code",
   "execution_count": 172,
   "id": "3f01fe50",
   "metadata": {},
   "outputs": [
    {
     "data": {
      "image/png": "[encoded data removed]",
      "image/svg+xml": [
       "<?xml version=\"1.0\" encoding=\"utf-8\"?>\n",
       "<svg xmlns=\"http://www.w3.org/2000/svg\" xmlns:xlink=\"http://www.w3.org/1999/xlink\" width=\"600\" height=\"400\" viewBox=\"0 0 2400 1600\">\n",
       "<defs>\n",
       "  <clipPath id=\"clip840\">\n",
       "    <rect x=\"0\" y=\"0\" width=\"2400\" height=\"1600\"/>\n",
       "  </clipPath>\n",
       "</defs>\n",
       "<path clip-path=\"url(#clip840)\" d=\"M0 1600 L2400 1600 L2400 0 L0 0  Z\" fill=\"#ffffff\" fill-rule=\"evenodd\" fill-opacity=\"1\"/>\n",
       "<defs>\n",
       "  <clipPath id=\"clip841\">\n",
       "    <rect x=\"480\" y=\"0\" width=\"1681\" height=\"1600\"/>\n",
       "  </clipPath>\n",
       "</defs>\n",
       "<path clip-path=\"url(#clip840)\" d=\"M399.793 1423.18 L2352.76 1423.18 L2352.76 47.2441 L399.793 47.2441  Z\" fill=\"#ffffff\" fill-rule=\"evenodd\" fill-opacity=\"1\"/>\n",
       "<defs>\n",
       "  <clipPath id=\"clip842\">\n",
       "    <rect x=\"399\" y=\"47\" width=\"1954\" height=\"1377\"/>\n",
       "  </clipPath>\n",
       "</defs>\n",
       "<polyline clip-path=\"url(#clip842)\" style=\"stroke:#000000; stroke-linecap:round; stroke-linejoin:round; stroke-width:2; stroke-opacity:0.1; fill:none\" points=\"446.985,1423.18 446.985,47.2441 \"/>\n",
       "<polyline clip-path=\"url(#clip842)\" style=\"stroke:#000000; stroke-linecap:round; stroke-linejoin:round; stroke-width:2; stroke-opacity:0.1; fill:none\" points=\"851.024,1423.18 851.024,47.2441 \"/>\n",
       "<polyline clip-path=\"url(#clip842)\" style=\"stroke:#000000; stroke-linecap:round; stroke-linejoin:round; stroke-width:2; stroke-opacity:0.1; fill:none\" points=\"1255.06,1423.18 1255.06,47.2441 \"/>\n",
       "<polyline clip-path=\"url(#clip842)\" style=\"stroke:#000000; stroke-linecap:round; stroke-linejoin:round; stroke-width:2; stroke-opacity:0.1; fill:none\" points=\"1659.1,1423.18 1659.1,47.2441 \"/>\n",
       "<polyline clip-path=\"url(#clip842)\" style=\"stroke:#000000; stroke-linecap:round; stroke-linejoin:round; stroke-width:2; stroke-opacity:0.1; fill:none\" points=\"2063.14,1423.18 2063.14,47.2441 \"/>\n",
       "<polyline clip-path=\"url(#clip840)\" style=\"stroke:#000000; stroke-linecap:round; stroke-linejoin:round; stroke-width:4; stroke-opacity:1; fill:none\" points=\"399.793,1423.18 2352.76,1423.18 \"/>\n",
       "<polyline clip-path=\"url(#clip840)\" style=\"stroke:#000000; stroke-linecap:round; stroke-linejoin:round; stroke-width:4; stroke-opacity:1; fill:none\" points=\"446.985,1423.18 446.985,1404.28 \"/>\n",
       "<polyline clip-path=\"url(#clip840)\" style=\"stroke:#000000; stroke-linecap:round; stroke-linejoin:round; stroke-width:4; stroke-opacity:1; fill:none\" points=\"851.024,1423.18 851.024,1404.28 \"/>\n",
       "<polyline clip-path=\"url(#clip840)\" style=\"stroke:#000000; stroke-linecap:round; stroke-linejoin:round; stroke-width:4; stroke-opacity:1; fill:none\" points=\"1255.06,1423.18 1255.06,1404.28 \"/>\n",
       "<polyline clip-path=\"url(#clip840)\" style=\"stroke:#000000; stroke-linecap:round; stroke-linejoin:round; stroke-width:4; stroke-opacity:1; fill:none\" points=\"1659.1,1423.18 1659.1,1404.28 \"/>\n",
       "<polyline clip-path=\"url(#clip840)\" style=\"stroke:#000000; stroke-linecap:round; stroke-linejoin:round; stroke-width:4; stroke-opacity:1; fill:none\" points=\"2063.14,1423.18 2063.14,1404.28 \"/>\n",
       "<path clip-path=\"url(#clip840)\" d=\"M446.985 1454.1 Q443.374 1454.1 441.545 1457.66 Q439.739 1461.2 439.739 1468.33 Q439.739 1475.44 441.545 1479.01 Q443.374 1482.55 446.985 1482.55 Q450.619 1482.55 452.425 1479.01 Q454.253 1475.44 454.253 1468.33 Q454.253 1461.2 452.425 1457.66 Q450.619 1454.1 446.985 1454.1 M446.985 1450.39 Q452.795 1450.39 455.85 1455 Q458.929 1459.58 458.929 1468.33 Q458.929 1477.06 455.85 1481.67 Q452.795 1486.25 446.985 1486.25 Q441.175 1486.25 438.096 1481.67 Q435.04 1477.06 435.04 1468.33 Q435.04 1459.58 438.096 1455 Q441.175 1450.39 446.985 1450.39 Z\" fill=\"#000000\" fill-rule=\"nonzero\" fill-opacity=\"1\" /><path clip-path=\"url(#clip840)\" d=\"M825.723 1451.02 L844.079 1451.02 L844.079 1454.96 L830.005 1454.96 L830.005 1463.43 Q831.024 1463.08 832.042 1462.92 Q833.061 1462.73 834.079 1462.73 Q839.866 1462.73 843.246 1465.9 Q846.626 1469.08 846.626 1474.49 Q846.626 1480.07 843.153 1483.17 Q839.681 1486.25 833.362 1486.25 Q831.186 1486.25 828.917 1485.88 Q826.672 1485.51 824.265 1484.77 L824.265 1480.07 Q826.348 1481.2 828.57 1481.76 Q830.792 1482.32 833.269 1482.32 Q837.274 1482.32 839.612 1480.21 Q841.95 1478.1 841.95 1474.49 Q841.95 1470.88 839.612 1468.77 Q837.274 1466.67 833.269 1466.67 Q831.394 1466.67 829.519 1467.08 Q827.667 1467.5 825.723 1468.38 L825.723 1451.02 Z\" fill=\"#000000\" fill-rule=\"nonzero\" fill-opacity=\"1\" /><path clip-path=\"url(#clip840)\" d=\"M865.838 1454.1 Q862.227 1454.1 860.399 1457.66 Q858.593 1461.2 858.593 1468.33 Q858.593 1475.44 860.399 1479.01 Q862.227 1482.55 865.838 1482.55 Q869.473 1482.55 871.278 1479.01 Q873.107 1475.44 873.107 1468.33 Q873.107 1461.2 871.278 1457.66 Q869.473 1454.1 865.838 1454.1 M865.838 1450.39 Q871.649 1450.39 874.704 1455 Q877.783 1459.58 877.783 1468.33 Q877.783 1477.06 874.704 1481.67 Q871.649 1486.25 865.838 1486.25 Q860.028 1486.25 856.95 1481.67 Q853.894 1477.06 853.894 1468.33 Q853.894 1459.58 856.95 1455 Q860.028 1450.39 865.838 1450.39 Z\" fill=\"#000000\" fill-rule=\"nonzero\" fill-opacity=\"1\" /><path clip-path=\"url(#clip840)\" d=\"M1214.67 1481.64 L1222.31 1481.64 L1222.31 1455.28 L1214 1456.95 L1214 1452.69 L1222.26 1451.02 L1226.94 1451.02 L1226.94 1481.64 L1234.58 1481.64 L1234.58 1485.58 L1214.67 1485.58 L1214.67 1481.64 Z\" fill=\"#000000\" fill-rule=\"nonzero\" fill-opacity=\"1\" /><path clip-path=\"url(#clip840)\" d=\"M1254.02 1454.1 Q1250.41 1454.1 1248.58 1457.66 Q1246.78 1461.2 1246.78 1468.33 Q1246.78 1475.44 1248.58 1479.01 Q1250.41 1482.55 1254.02 1482.55 Q1257.66 1482.55 1259.46 1479.01 Q1261.29 1475.44 1261.29 1468.33 Q1261.29 1461.2 1259.46 1457.66 Q1257.66 1454.1 1254.02 1454.1 M1254.02 1450.39 Q1259.83 1450.39 1262.89 1455 Q1265.97 1459.58 1265.97 1468.33 Q1265.97 1477.06 1262.89 1481.67 Q1259.83 1486.25 1254.02 1486.25 Q1248.21 1486.25 1245.13 1481.67 Q1242.08 1477.06 1242.08 1468.33 Q1242.08 1459.58 1245.13 1455 Q1248.21 1450.39 1254.02 1450.39 Z\" fill=\"#000000\" fill-rule=\"nonzero\" fill-opacity=\"1\" /><path clip-path=\"url(#clip840)\" d=\"M1284.18 1454.1 Q1280.57 1454.1 1278.74 1457.66 Q1276.94 1461.2 1276.94 1468.33 Q1276.94 1475.44 1278.74 1479.01 Q1280.57 1482.55 1284.18 1482.55 Q1287.82 1482.55 1289.62 1479.01 Q1291.45 1475.44 1291.45 1468.33 Q1291.45 1461.2 1289.62 1457.66 Q1287.82 1454.1 1284.18 1454.1 M1284.18 1450.39 Q1289.99 1450.39 1293.05 1455 Q1296.13 1459.58 1296.13 1468.33 Q1296.13 1477.06 1293.05 1481.67 Q1289.99 1486.25 1284.18 1486.25 Q1278.37 1486.25 1275.29 1481.67 Q1272.24 1477.06 1272.24 1468.33 Q1272.24 1459.58 1275.29 1455 Q1278.37 1450.39 1284.18 1450.39 Z\" fill=\"#000000\" fill-rule=\"nonzero\" fill-opacity=\"1\" /><path clip-path=\"url(#clip840)\" d=\"M1618.71 1481.64 L1626.35 1481.64 L1626.35 1455.28 L1618.04 1456.95 L1618.04 1452.69 L1626.3 1451.02 L1630.98 1451.02 L1630.98 1481.64 L1638.62 1481.64 L1638.62 1485.58 L1618.71 1485.58 L1618.71 1481.64 Z\" fill=\"#000000\" fill-rule=\"nonzero\" fill-opacity=\"1\" /><path clip-path=\"url(#clip840)\" d=\"M1648.11 1451.02 L1666.46 1451.02 L1666.46 1454.96 L1652.39 1454.96 L1652.39 1463.43 Q1653.41 1463.08 1654.43 1462.92 Q1655.44 1462.73 1656.46 1462.73 Q1662.25 1462.73 1665.63 1465.9 Q1669.01 1469.08 1669.01 1474.49 Q1669.01 1480.07 1665.54 1483.17 Q1662.06 1486.25 1655.75 1486.25 Q1653.57 1486.25 1651.3 1485.88 Q1649.06 1485.51 1646.65 1484.77 L1646.65 1480.07 Q1648.73 1481.2 1650.95 1481.76 Q1653.18 1482.32 1655.65 1482.32 Q1659.66 1482.32 1662 1480.21 Q1664.33 1478.1 1664.33 1474.49 Q1664.33 1470.88 1662 1468.77 Q1659.66 1466.67 1655.65 1466.67 Q1653.78 1466.67 1651.9 1467.08 Q1650.05 1467.5 1648.11 1468.38 L1648.11 1451.02 Z\" fill=\"#000000\" fill-rule=\"nonzero\" fill-opacity=\"1\" /><path clip-path=\"url(#clip840)\" d=\"M1688.22 1454.1 Q1684.61 1454.1 1682.78 1457.66 Q1680.98 1461.2 1680.98 1468.33 Q1680.98 1475.44 1682.78 1479.01 Q1684.61 1482.55 1688.22 1482.55 Q1691.86 1482.55 1693.66 1479.01 Q1695.49 1475.44 1695.49 1468.33 Q1695.49 1461.2 1693.66 1457.66 Q1691.86 1454.1 1688.22 1454.1 M1688.22 1450.39 Q1694.03 1450.39 1697.09 1455 Q1700.17 1459.58 1700.17 1468.33 Q1700.17 1477.06 1697.09 1481.67 Q1694.03 1486.25 1688.22 1486.25 Q1682.41 1486.25 1679.33 1481.67 Q1676.28 1477.06 1676.28 1468.33 Q1676.28 1459.58 1679.33 1455 Q1682.41 1450.39 1688.22 1450.39 Z\" fill=\"#000000\" fill-rule=\"nonzero\" fill-opacity=\"1\" /><path clip-path=\"url(#clip840)\" d=\"M2026.83 1481.64 L2043.15 1481.64 L2043.15 1485.58 L2021.21 1485.58 L2021.21 1481.64 Q2023.87 1478.89 2028.45 1474.26 Q2033.06 1469.61 2034.24 1468.27 Q2036.49 1465.74 2037.37 1464.01 Q2038.27 1462.25 2038.27 1460.56 Q2038.27 1457.8 2036.32 1456.07 Q2034.4 1454.33 2031.3 1454.33 Q2029.1 1454.33 2026.65 1455.09 Q2024.22 1455.86 2021.44 1457.41 L2021.44 1452.69 Q2024.26 1451.55 2026.72 1450.97 Q2029.17 1450.39 2031.21 1450.39 Q2036.58 1450.39 2039.77 1453.08 Q2042.97 1455.77 2042.97 1460.26 Q2042.97 1462.39 2042.16 1464.31 Q2041.37 1466.2 2039.26 1468.8 Q2038.68 1469.47 2035.58 1472.69 Q2032.48 1475.88 2026.83 1481.64 Z\" fill=\"#000000\" fill-rule=\"nonzero\" fill-opacity=\"1\" /><path clip-path=\"url(#clip840)\" d=\"M2062.97 1454.1 Q2059.36 1454.1 2057.53 1457.66 Q2055.72 1461.2 2055.72 1468.33 Q2055.72 1475.44 2057.53 1479.01 Q2059.36 1482.55 2062.97 1482.55 Q2066.6 1482.55 2068.41 1479.01 Q2070.24 1475.44 2070.24 1468.33 Q2070.24 1461.2 2068.41 1457.66 Q2066.6 1454.1 2062.97 1454.1 M2062.97 1450.39 Q2068.78 1450.39 2071.83 1455 Q2074.91 1459.58 2074.91 1468.33 Q2074.91 1477.06 2071.83 1481.67 Q2068.78 1486.25 2062.97 1486.25 Q2057.16 1486.25 2054.08 1481.67 Q2051.02 1477.06 2051.02 1468.33 Q2051.02 1459.58 2054.08 1455 Q2057.16 1450.39 2062.97 1450.39 Z\" fill=\"#000000\" fill-rule=\"nonzero\" fill-opacity=\"1\" /><path clip-path=\"url(#clip840)\" d=\"M2093.13 1454.1 Q2089.52 1454.1 2087.69 1457.66 Q2085.88 1461.2 2085.88 1468.33 Q2085.88 1475.44 2087.69 1479.01 Q2089.52 1482.55 2093.13 1482.55 Q2096.76 1482.55 2098.57 1479.01 Q2100.4 1475.44 2100.4 1468.33 Q2100.4 1461.2 2098.57 1457.66 Q2096.76 1454.1 2093.13 1454.1 M2093.13 1450.39 Q2098.94 1450.39 2101.99 1455 Q2105.07 1459.58 2105.07 1468.33 Q2105.07 1477.06 2101.99 1481.67 Q2098.94 1486.25 2093.13 1486.25 Q2087.32 1486.25 2084.24 1481.67 Q2081.18 1477.06 2081.18 1468.33 Q2081.18 1459.58 2084.24 1455 Q2087.32 1450.39 2093.13 1450.39 Z\" fill=\"#000000\" fill-rule=\"nonzero\" fill-opacity=\"1\" /><path clip-path=\"url(#clip840)\" d=\"M1065.95 1520.52 L1106.15 1520.52 L1106.15 1525.93 L1089.28 1525.93 L1089.28 1568.04 L1082.82 1568.04 L1082.82 1525.93 L1065.95 1525.93 L1065.95 1520.52 Z\" fill=\"#000000\" fill-rule=\"nonzero\" fill-opacity=\"1\" /><path clip-path=\"url(#clip840)\" d=\"M1123.17 1537.87 Q1122.19 1537.3 1121.01 1537.04 Q1119.86 1536.76 1118.46 1536.76 Q1113.5 1536.76 1110.82 1540 Q1108.18 1543.22 1108.18 1549.27 L1108.18 1568.04 L1102.29 1568.04 L1102.29 1532.4 L1108.18 1532.4 L1108.18 1537.93 Q1110.03 1534.69 1112.99 1533.13 Q1115.95 1531.54 1120.18 1531.54 Q1120.79 1531.54 1121.52 1531.63 Q1122.25 1531.7 1123.14 1531.85 L1123.17 1537.87 Z\" fill=\"#000000\" fill-rule=\"nonzero\" fill-opacity=\"1\" /><path clip-path=\"url(#clip840)\" d=\"M1145.52 1550.12 Q1138.42 1550.12 1135.68 1551.75 Q1132.95 1553.37 1132.95 1557.29 Q1132.95 1560.4 1134.98 1562.25 Q1137.05 1564.07 1140.58 1564.07 Q1145.45 1564.07 1148.38 1560.63 Q1151.34 1557.16 1151.34 1551.43 L1151.34 1550.12 L1145.52 1550.12 M1157.2 1547.71 L1157.2 1568.04 L1151.34 1568.04 L1151.34 1562.63 Q1149.34 1565.88 1146.35 1567.44 Q1143.35 1568.97 1139.02 1568.97 Q1133.55 1568.97 1130.3 1565.91 Q1127.09 1562.82 1127.09 1557.67 Q1127.09 1551.65 1131.1 1548.6 Q1135.14 1545.54 1143.13 1545.54 L1151.34 1545.54 L1151.34 1544.97 Q1151.34 1540.93 1148.67 1538.73 Q1146.03 1536.5 1141.22 1536.5 Q1138.17 1536.5 1135.27 1537.23 Q1132.37 1537.97 1129.7 1539.43 L1129.7 1534.02 Q1132.91 1532.78 1135.94 1532.17 Q1138.96 1531.54 1141.83 1531.54 Q1149.56 1531.54 1153.38 1535.55 Q1157.2 1539.56 1157.2 1547.71 Z\" fill=\"#000000\" fill-rule=\"nonzero\" fill-opacity=\"1\" /><path clip-path=\"url(#clip840)\" d=\"M1192.72 1537.81 L1192.72 1518.52 L1198.58 1518.52 L1198.58 1568.04 L1192.72 1568.04 L1192.72 1562.7 Q1190.87 1565.88 1188.04 1567.44 Q1185.24 1568.97 1181.29 1568.97 Q1174.83 1568.97 1170.76 1563.81 Q1166.72 1558.65 1166.72 1550.25 Q1166.72 1541.85 1170.76 1536.69 Q1174.83 1531.54 1181.29 1531.54 Q1185.24 1531.54 1188.04 1533.1 Q1190.87 1534.62 1192.72 1537.81 M1172.76 1550.25 Q1172.76 1556.71 1175.4 1560.4 Q1178.08 1564.07 1182.73 1564.07 Q1187.37 1564.07 1190.05 1560.4 Q1192.72 1556.71 1192.72 1550.25 Q1192.72 1543.79 1190.05 1540.13 Q1187.37 1536.44 1182.73 1536.44 Q1178.08 1536.44 1175.4 1540.13 Q1172.76 1543.79 1172.76 1550.25 Z\" fill=\"#000000\" fill-rule=\"nonzero\" fill-opacity=\"1\" /><path clip-path=\"url(#clip840)\" d=\"M1210.64 1532.4 L1216.5 1532.4 L1216.5 1568.04 L1210.64 1568.04 L1210.64 1532.4 M1210.64 1518.52 L1216.5 1518.52 L1216.5 1525.93 L1210.64 1525.93 L1210.64 1518.52 Z\" fill=\"#000000\" fill-rule=\"nonzero\" fill-opacity=\"1\" /><path clip-path=\"url(#clip840)\" d=\"M1258.38 1546.53 L1258.38 1568.04 L1252.53 1568.04 L1252.53 1546.72 Q1252.53 1541.66 1250.55 1539.14 Q1248.58 1536.63 1244.63 1536.63 Q1239.89 1536.63 1237.15 1539.65 Q1234.41 1542.68 1234.41 1547.9 L1234.41 1568.04 L1228.53 1568.04 L1228.53 1532.4 L1234.41 1532.4 L1234.41 1537.93 Q1236.52 1534.72 1239.35 1533.13 Q1242.21 1531.54 1245.94 1531.54 Q1252.08 1531.54 1255.23 1535.36 Q1258.38 1539.14 1258.38 1546.53 Z\" fill=\"#000000\" fill-rule=\"nonzero\" fill-opacity=\"1\" /><path clip-path=\"url(#clip840)\" d=\"M1293.52 1549.81 Q1293.52 1543.44 1290.88 1539.94 Q1288.27 1536.44 1283.53 1536.44 Q1278.82 1536.44 1276.17 1539.94 Q1273.56 1543.44 1273.56 1549.81 Q1273.56 1556.14 1276.17 1559.64 Q1278.82 1563.14 1283.53 1563.14 Q1288.27 1563.14 1290.88 1559.64 Q1293.52 1556.14 1293.52 1549.81 M1299.38 1563.62 Q1299.38 1572.72 1295.33 1577.15 Q1291.29 1581.6 1282.95 1581.6 Q1279.87 1581.6 1277.13 1581.13 Q1274.39 1580.68 1271.81 1579.72 L1271.81 1574.03 Q1274.39 1575.43 1276.91 1576.1 Q1279.42 1576.76 1282.03 1576.76 Q1287.79 1576.76 1290.66 1573.74 Q1293.52 1570.75 1293.52 1564.67 L1293.52 1561.77 Q1291.71 1564.92 1288.87 1566.48 Q1286.04 1568.04 1282.09 1568.04 Q1275.54 1568.04 1271.53 1563.05 Q1267.52 1558.05 1267.52 1549.81 Q1267.52 1541.53 1271.53 1536.53 Q1275.54 1531.54 1282.09 1531.54 Q1286.04 1531.54 1288.87 1533.1 Q1291.71 1534.66 1293.52 1537.81 L1293.52 1532.4 L1299.38 1532.4 L1299.38 1563.62 Z\" fill=\"#000000\" fill-rule=\"nonzero\" fill-opacity=\"1\" /><path clip-path=\"url(#clip840)\" d=\"M1338.84 1525.81 L1338.84 1562.76 L1346.61 1562.76 Q1356.45 1562.76 1361 1558.3 Q1365.58 1553.85 1365.58 1544.24 Q1365.58 1534.69 1361 1530.26 Q1356.45 1525.81 1346.61 1525.81 L1338.84 1525.81 M1332.41 1520.52 L1345.62 1520.52 Q1359.44 1520.52 1365.9 1526.28 Q1372.36 1532.01 1372.36 1544.24 Q1372.36 1556.52 1365.87 1562.28 Q1359.37 1568.04 1345.62 1568.04 L1332.41 1568.04 L1332.41 1520.52 Z\" fill=\"#000000\" fill-rule=\"nonzero\" fill-opacity=\"1\" /><path clip-path=\"url(#clip840)\" d=\"M1398.55 1550.12 Q1391.46 1550.12 1388.72 1551.75 Q1385.98 1553.37 1385.98 1557.29 Q1385.98 1560.4 1388.02 1562.25 Q1390.09 1564.07 1393.62 1564.07 Q1398.49 1564.07 1401.42 1560.63 Q1404.38 1557.16 1404.38 1551.43 L1404.38 1550.12 L1398.55 1550.12 M1410.24 1547.71 L1410.24 1568.04 L1404.38 1568.04 L1404.38 1562.63 Q1402.37 1565.88 1399.38 1567.44 Q1396.39 1568.97 1392.06 1568.97 Q1386.59 1568.97 1383.34 1565.91 Q1380.13 1562.82 1380.13 1557.67 Q1380.13 1551.65 1384.14 1548.6 Q1388.18 1545.54 1396.17 1545.54 L1404.38 1545.54 L1404.38 1544.97 Q1404.38 1540.93 1401.71 1538.73 Q1399.06 1536.5 1394.26 1536.5 Q1391.2 1536.5 1388.31 1537.23 Q1385.41 1537.97 1382.74 1539.43 L1382.74 1534.02 Q1385.95 1532.78 1388.97 1532.17 Q1392 1531.54 1394.86 1531.54 Q1402.6 1531.54 1406.42 1535.55 Q1410.24 1539.56 1410.24 1547.71 Z\" fill=\"#000000\" fill-rule=\"nonzero\" fill-opacity=\"1\" /><path clip-path=\"url(#clip840)\" d=\"M1437.13 1571.35 Q1434.65 1577.72 1432.29 1579.66 Q1429.94 1581.6 1425.99 1581.6 L1421.31 1581.6 L1421.31 1576.7 L1424.75 1576.7 Q1427.17 1576.7 1428.51 1575.56 Q1429.84 1574.41 1431.47 1570.14 L1432.52 1567.47 L1418.1 1532.4 L1424.3 1532.4 L1435.44 1560.28 L1446.58 1532.4 L1452.79 1532.4 L1437.13 1571.35 Z\" fill=\"#000000\" fill-rule=\"nonzero\" fill-opacity=\"1\" /><path clip-path=\"url(#clip840)\" d=\"M1495.66 1518.58 Q1491.4 1525.9 1489.33 1533.06 Q1487.26 1540.23 1487.26 1547.58 Q1487.26 1554.93 1489.33 1562.16 Q1491.43 1569.35 1495.66 1576.64 L1490.57 1576.64 Q1485.8 1569.16 1483.41 1561.93 Q1481.05 1554.71 1481.05 1547.58 Q1481.05 1540.48 1483.41 1533.29 Q1485.76 1526.09 1490.57 1518.58 L1495.66 1518.58 Z\" fill=\"#000000\" fill-rule=\"nonzero\" fill-opacity=\"1\" /><path clip-path=\"url(#clip840)\" d=\"M1513.39 1562.63 L1535.83 1562.63 L1535.83 1568.04 L1505.66 1568.04 L1505.66 1562.63 Q1509.32 1558.85 1515.62 1552.48 Q1521.95 1546.08 1523.58 1544.24 Q1526.66 1540.77 1527.87 1538.38 Q1529.12 1535.96 1529.12 1533.64 Q1529.12 1529.85 1526.44 1527.46 Q1523.8 1525.08 1519.53 1525.08 Q1516.51 1525.08 1513.14 1526.13 Q1509.8 1527.18 1505.98 1529.31 L1505.98 1522.82 Q1509.86 1521.26 1513.23 1520.46 Q1516.61 1519.66 1519.41 1519.66 Q1526.79 1519.66 1531.18 1523.36 Q1535.58 1527.05 1535.58 1533.22 Q1535.58 1536.15 1534.46 1538.79 Q1533.38 1541.4 1530.48 1544.97 Q1529.69 1545.89 1525.42 1550.32 Q1521.16 1554.71 1513.39 1562.63 Z\" fill=\"#000000\" fill-rule=\"nonzero\" fill-opacity=\"1\" /><path clip-path=\"url(#clip840)\" d=\"M1563.08 1524.76 Q1558.11 1524.76 1555.6 1529.66 Q1553.11 1534.53 1553.11 1544.33 Q1553.11 1554.1 1555.6 1559 Q1558.11 1563.87 1563.08 1563.87 Q1568.07 1563.87 1570.56 1559 Q1573.07 1554.1 1573.07 1544.33 Q1573.07 1534.53 1570.56 1529.66 Q1568.07 1524.76 1563.08 1524.76 M1563.08 1519.66 Q1571.07 1519.66 1575.27 1526 Q1579.5 1532.3 1579.5 1544.33 Q1579.5 1556.33 1575.27 1562.66 Q1571.07 1568.97 1563.08 1568.97 Q1555.09 1568.97 1550.85 1562.66 Q1546.65 1556.33 1546.65 1544.33 Q1546.65 1532.3 1550.85 1526 Q1555.09 1519.66 1563.08 1519.66 Z\" fill=\"#000000\" fill-rule=\"nonzero\" fill-opacity=\"1\" /><path clip-path=\"url(#clip840)\" d=\"M1596.34 1562.63 L1618.78 1562.63 L1618.78 1568.04 L1588.6 1568.04 L1588.6 1562.63 Q1592.26 1558.85 1598.56 1552.48 Q1604.9 1546.08 1606.52 1544.24 Q1609.61 1540.77 1610.82 1538.38 Q1612.06 1535.96 1612.06 1533.64 Q1612.06 1529.85 1609.39 1527.46 Q1606.74 1525.08 1602.48 1525.08 Q1599.46 1525.08 1596.08 1526.13 Q1592.74 1527.18 1588.92 1529.31 L1588.92 1522.82 Q1592.8 1521.26 1596.18 1520.46 Q1599.55 1519.66 1602.35 1519.66 Q1609.74 1519.66 1614.13 1523.36 Q1618.52 1527.05 1618.52 1533.22 Q1618.52 1536.15 1617.41 1538.79 Q1616.33 1541.4 1613.43 1544.97 Q1612.63 1545.89 1608.37 1550.32 Q1604.1 1554.71 1596.34 1562.63 Z\" fill=\"#000000\" fill-rule=\"nonzero\" fill-opacity=\"1\" /><path clip-path=\"url(#clip840)\" d=\"M1651.75 1542.42 Q1656.37 1543.41 1658.94 1546.53 Q1661.55 1549.65 1661.55 1554.23 Q1661.55 1561.26 1656.72 1565.12 Q1651.88 1568.97 1642.97 1568.97 Q1639.97 1568.97 1636.79 1568.36 Q1633.64 1567.79 1630.27 1566.61 L1630.27 1560.4 Q1632.94 1561.96 1636.12 1562.76 Q1639.31 1563.56 1642.77 1563.56 Q1648.82 1563.56 1651.97 1561.17 Q1655.16 1558.78 1655.16 1554.23 Q1655.16 1550.03 1652.2 1547.67 Q1649.27 1545.29 1644.02 1545.29 L1638.48 1545.29 L1638.48 1540 L1644.27 1540 Q1649.01 1540 1651.53 1538.13 Q1654.04 1536.22 1654.04 1532.65 Q1654.04 1528.99 1651.43 1527.05 Q1648.85 1525.08 1644.02 1525.08 Q1641.37 1525.08 1638.35 1525.65 Q1635.33 1526.22 1631.7 1527.43 L1631.7 1521.7 Q1635.36 1520.68 1638.54 1520.17 Q1641.76 1519.66 1644.59 1519.66 Q1651.91 1519.66 1656.17 1523.01 Q1660.44 1526.32 1660.44 1531.98 Q1660.44 1535.93 1658.18 1538.67 Q1655.92 1541.37 1651.75 1542.42 Z\" fill=\"#000000\" fill-rule=\"nonzero\" fill-opacity=\"1\" /><path clip-path=\"url(#clip840)\" d=\"M1671.99 1518.58 L1677.09 1518.58 Q1681.86 1526.09 1684.22 1533.29 Q1686.6 1540.48 1686.6 1547.58 Q1686.6 1554.71 1684.22 1561.93 Q1681.86 1569.16 1677.09 1576.64 L1671.99 1576.64 Q1676.23 1569.35 1678.3 1562.16 Q1680.4 1554.93 1680.4 1547.58 Q1680.4 1540.23 1678.3 1533.06 Q1676.23 1525.9 1671.99 1518.58 Z\" fill=\"#000000\" fill-rule=\"nonzero\" fill-opacity=\"1\" /><polyline clip-path=\"url(#clip842)\" style=\"stroke:#000000; stroke-linecap:round; stroke-linejoin:round; stroke-width:2; stroke-opacity:0.1; fill:none\" points=\"399.793,1298.82 2352.76,1298.82 \"/>\n",
       "<polyline clip-path=\"url(#clip842)\" style=\"stroke:#000000; stroke-linecap:round; stroke-linejoin:round; stroke-width:2; stroke-opacity:0.1; fill:none\" points=\"399.793,894.61 2352.76,894.61 \"/>\n",
       "<polyline clip-path=\"url(#clip842)\" style=\"stroke:#000000; stroke-linecap:round; stroke-linejoin:round; stroke-width:2; stroke-opacity:0.1; fill:none\" points=\"399.793,490.398 2352.76,490.398 \"/>\n",
       "<polyline clip-path=\"url(#clip842)\" style=\"stroke:#000000; stroke-linecap:round; stroke-linejoin:round; stroke-width:2; stroke-opacity:0.1; fill:none\" points=\"399.793,86.1857 2352.76,86.1857 \"/>\n",
       "<polyline clip-path=\"url(#clip840)\" style=\"stroke:#000000; stroke-linecap:round; stroke-linejoin:round; stroke-width:4; stroke-opacity:1; fill:none\" points=\"399.793,1423.18 399.793,47.2441 \"/>\n",
       "<polyline clip-path=\"url(#clip840)\" style=\"stroke:#000000; stroke-linecap:round; stroke-linejoin:round; stroke-width:4; stroke-opacity:1; fill:none\" points=\"399.793,1298.82 418.691,1298.82 \"/>\n",
       "<polyline clip-path=\"url(#clip840)\" style=\"stroke:#000000; stroke-linecap:round; stroke-linejoin:round; stroke-width:4; stroke-opacity:1; fill:none\" points=\"399.793,894.61 418.691,894.61 \"/>\n",
       "<polyline clip-path=\"url(#clip840)\" style=\"stroke:#000000; stroke-linecap:round; stroke-linejoin:round; stroke-width:4; stroke-opacity:1; fill:none\" points=\"399.793,490.398 418.691,490.398 \"/>\n",
       "<polyline clip-path=\"url(#clip840)\" style=\"stroke:#000000; stroke-linecap:round; stroke-linejoin:round; stroke-width:4; stroke-opacity:1; fill:none\" points=\"399.793,86.1857 418.691,86.1857 \"/>\n",
       "<path clip-path=\"url(#clip840)\" d=\"M114.26 1305.72 L143.936 1305.72 L143.936 1309.66 L114.26 1309.66 L114.26 1305.72 Z\" fill=\"#000000\" fill-rule=\"nonzero\" fill-opacity=\"1\" /><path clip-path=\"url(#clip840)\" d=\"M168.195 1303.92 Q171.552 1304.63 173.427 1306.9 Q175.325 1309.17 175.325 1312.5 Q175.325 1317.62 171.806 1320.42 Q168.288 1323.22 161.806 1323.22 Q159.63 1323.22 157.315 1322.78 Q155.024 1322.36 152.57 1321.51 L152.57 1316.99 Q154.515 1318.13 156.829 1318.71 Q159.144 1319.29 161.667 1319.29 Q166.065 1319.29 168.357 1317.55 Q170.672 1315.81 170.672 1312.5 Q170.672 1309.45 168.519 1307.73 Q166.39 1306 162.57 1306 L158.542 1306 L158.542 1302.16 L162.755 1302.16 Q166.204 1302.16 168.033 1300.79 Q169.862 1299.4 169.862 1296.81 Q169.862 1294.15 167.964 1292.73 Q166.089 1291.3 162.57 1291.3 Q160.649 1291.3 158.45 1291.72 Q156.251 1292.13 153.612 1293.01 L153.612 1288.85 Q156.274 1288.11 158.589 1287.73 Q160.927 1287.36 162.987 1287.36 Q168.311 1287.36 171.413 1289.79 Q174.514 1292.2 174.514 1296.32 Q174.514 1299.19 172.871 1301.18 Q171.227 1303.15 168.195 1303.92 Z\" fill=\"#000000\" fill-rule=\"nonzero\" fill-opacity=\"1\" /><path clip-path=\"url(#clip840)\" d=\"M184.19 1316.67 L189.075 1316.67 L189.075 1322.55 L184.19 1322.55 L184.19 1316.67 Z\" fill=\"#000000\" fill-rule=\"nonzero\" fill-opacity=\"1\" /><path clip-path=\"url(#clip840)\" d=\"M209.26 1291.07 Q205.649 1291.07 203.82 1294.63 Q202.014 1298.17 202.014 1305.3 Q202.014 1312.41 203.82 1315.98 Q205.649 1319.52 209.26 1319.52 Q212.894 1319.52 214.699 1315.98 Q216.528 1312.41 216.528 1305.3 Q216.528 1298.17 214.699 1294.63 Q212.894 1291.07 209.26 1291.07 M209.26 1287.36 Q215.07 1287.36 218.125 1291.97 Q221.204 1296.55 221.204 1305.3 Q221.204 1314.03 218.125 1318.64 Q215.07 1323.22 209.26 1323.22 Q203.449 1323.22 200.371 1318.64 Q197.315 1314.03 197.315 1305.3 Q197.315 1296.55 200.371 1291.97 Q203.449 1287.36 209.26 1287.36 Z\" fill=\"#000000\" fill-rule=\"nonzero\" fill-opacity=\"1\" /><path clip-path=\"url(#clip840)\" d=\"M257.593 1297.09 L247.014 1307.71 L257.593 1318.29 L254.838 1321.09 L244.213 1310.47 L233.588 1321.09 L230.857 1318.29 L241.412 1307.71 L230.857 1297.09 L233.588 1294.29 L244.213 1304.91 L254.838 1294.29 L257.593 1297.09 Z\" fill=\"#000000\" fill-rule=\"nonzero\" fill-opacity=\"1\" /><path clip-path=\"url(#clip840)\" d=\"M269.954 1318.61 L277.593 1318.61 L277.593 1292.25 L269.282 1293.92 L269.282 1289.66 L277.546 1287.99 L282.222 1287.99 L282.222 1318.61 L289.861 1318.61 L289.861 1322.55 L269.954 1322.55 L269.954 1318.61 Z\" fill=\"#000000\" fill-rule=\"nonzero\" fill-opacity=\"1\" /><path clip-path=\"url(#clip840)\" d=\"M309.305 1291.07 Q305.694 1291.07 303.866 1294.63 Q302.06 1298.17 302.06 1305.3 Q302.06 1312.41 303.866 1315.98 Q305.694 1319.52 309.305 1319.52 Q312.94 1319.52 314.745 1315.98 Q316.574 1312.41 316.574 1305.3 Q316.574 1298.17 314.745 1294.63 Q312.94 1291.07 309.305 1291.07 M309.305 1287.36 Q315.116 1287.36 318.171 1291.97 Q321.25 1296.55 321.25 1305.3 Q321.25 1314.03 318.171 1318.64 Q315.116 1323.22 309.305 1323.22 Q303.495 1323.22 300.417 1318.64 Q297.361 1314.03 297.361 1305.3 Q297.361 1296.55 300.417 1291.97 Q303.495 1287.36 309.305 1287.36 Z\" fill=\"#000000\" fill-rule=\"nonzero\" fill-opacity=\"1\" /><path clip-path=\"url(#clip840)\" d=\"M330.879 1281.8 Q328.171 1281.8 326.61 1283.25 Q325.068 1284.7 325.068 1287.24 Q325.068 1289.78 326.61 1291.23 Q328.171 1292.68 330.879 1292.68 Q333.588 1292.68 335.149 1291.23 Q336.71 1289.76 336.71 1287.24 Q336.71 1284.7 335.149 1283.25 Q333.606 1281.8 330.879 1281.8 M327.08 1280.19 Q324.635 1279.58 323.262 1277.91 Q321.908 1276.24 321.908 1273.83 Q321.908 1270.46 324.297 1268.51 Q326.704 1266.55 330.879 1266.55 Q335.073 1266.55 337.462 1268.51 Q339.851 1270.46 339.851 1273.83 Q339.851 1276.24 338.478 1277.91 Q337.124 1279.58 334.697 1280.19 Q337.443 1280.83 338.967 1282.69 Q340.509 1284.55 340.509 1287.24 Q340.509 1291.32 338.008 1293.5 Q335.525 1295.68 330.879 1295.68 Q326.234 1295.68 323.732 1293.5 Q321.25 1291.32 321.25 1287.24 Q321.25 1284.55 322.792 1282.69 Q324.334 1280.83 327.08 1280.19 M325.688 1274.19 Q325.688 1276.37 327.043 1277.59 Q328.416 1278.81 330.879 1278.81 Q333.324 1278.81 334.697 1277.59 Q336.089 1276.37 336.089 1274.19 Q336.089 1272.01 334.697 1270.78 Q333.324 1269.56 330.879 1269.56 Q328.416 1269.56 327.043 1270.78 Q325.688 1272.01 325.688 1274.19 Z\" fill=\"#000000\" fill-rule=\"nonzero\" fill-opacity=\"1\" /><path clip-path=\"url(#clip840)\" d=\"M350.533 1291.94 L363.793 1291.94 L363.793 1295.14 L345.963 1295.14 L345.963 1291.94 Q348.126 1289.7 351.85 1285.94 Q355.593 1282.16 356.552 1281.07 Q358.376 1279.02 359.091 1277.61 Q359.825 1276.18 359.825 1274.81 Q359.825 1272.57 358.245 1271.16 Q356.684 1269.75 354.163 1269.75 Q352.377 1269.75 350.383 1270.37 Q348.408 1270.99 346.151 1272.25 L346.151 1268.41 Q348.446 1267.49 350.439 1267.02 Q352.433 1266.55 354.088 1266.55 Q358.452 1266.55 361.047 1268.73 Q363.643 1270.91 363.643 1274.56 Q363.643 1276.29 362.984 1277.85 Q362.345 1279.4 360.633 1281.5 Q360.163 1282.05 357.643 1284.66 Q355.123 1287.26 350.533 1291.94 Z\" fill=\"#000000\" fill-rule=\"nonzero\" fill-opacity=\"1\" /><path clip-path=\"url(#clip840)\" d=\"M114.26 901.509 L143.936 901.509 L143.936 905.444 L114.26 905.444 L114.26 901.509 Z\" fill=\"#000000\" fill-rule=\"nonzero\" fill-opacity=\"1\" /><path clip-path=\"url(#clip840)\" d=\"M158.056 914.402 L174.376 914.402 L174.376 918.337 L152.431 918.337 L152.431 914.402 Q155.093 911.648 159.677 907.018 Q164.283 902.365 165.464 901.023 Q167.709 898.5 168.589 896.763 Q169.491 895.004 169.491 893.314 Q169.491 890.56 167.547 888.824 Q165.626 887.088 162.524 887.088 Q160.325 887.088 157.871 887.851 Q155.44 888.615 152.663 890.166 L152.663 885.444 Q155.487 884.31 157.94 883.731 Q160.394 883.152 162.431 883.152 Q167.802 883.152 170.996 885.838 Q174.19 888.523 174.19 893.013 Q174.19 895.143 173.38 897.064 Q172.593 898.962 170.487 901.555 Q169.908 902.226 166.806 905.444 Q163.704 908.638 158.056 914.402 Z\" fill=\"#000000\" fill-rule=\"nonzero\" fill-opacity=\"1\" /><path clip-path=\"url(#clip840)\" d=\"M184.19 912.458 L189.075 912.458 L189.075 918.337 L184.19 918.337 L184.19 912.458 Z\" fill=\"#000000\" fill-rule=\"nonzero\" fill-opacity=\"1\" /><path clip-path=\"url(#clip840)\" d=\"M209.26 886.856 Q205.649 886.856 203.82 890.421 Q202.014 893.962 202.014 901.092 Q202.014 908.199 203.82 911.763 Q205.649 915.305 209.26 915.305 Q212.894 915.305 214.699 911.763 Q216.528 908.199 216.528 901.092 Q216.528 893.962 214.699 890.421 Q212.894 886.856 209.26 886.856 M209.26 883.152 Q215.07 883.152 218.125 887.759 Q221.204 892.342 221.204 901.092 Q221.204 909.819 218.125 914.425 Q215.07 919.009 209.26 919.009 Q203.449 919.009 200.371 914.425 Q197.315 909.819 197.315 901.092 Q197.315 892.342 200.371 887.759 Q203.449 883.152 209.26 883.152 Z\" fill=\"#000000\" fill-rule=\"nonzero\" fill-opacity=\"1\" /><path clip-path=\"url(#clip840)\" d=\"M257.593 892.875 L247.014 903.499 L257.593 914.078 L254.838 916.879 L244.213 906.254 L233.588 916.879 L230.857 914.078 L241.412 903.499 L230.857 892.875 L233.588 890.074 L244.213 900.699 L254.838 890.074 L257.593 892.875 Z\" fill=\"#000000\" fill-rule=\"nonzero\" fill-opacity=\"1\" /><path clip-path=\"url(#clip840)\" d=\"M269.954 914.402 L277.593 914.402 L277.593 888.037 L269.282 889.703 L269.282 885.444 L277.546 883.777 L282.222 883.777 L282.222 914.402 L289.861 914.402 L289.861 918.337 L269.954 918.337 L269.954 914.402 Z\" fill=\"#000000\" fill-rule=\"nonzero\" fill-opacity=\"1\" /><path clip-path=\"url(#clip840)\" d=\"M309.305 886.856 Q305.694 886.856 303.866 890.421 Q302.06 893.962 302.06 901.092 Q302.06 908.199 303.866 911.763 Q305.694 915.305 309.305 915.305 Q312.94 915.305 314.745 911.763 Q316.574 908.199 316.574 901.092 Q316.574 893.962 314.745 890.421 Q312.94 886.856 309.305 886.856 M309.305 883.152 Q315.116 883.152 318.171 887.759 Q321.25 892.342 321.25 901.092 Q321.25 909.819 318.171 914.425 Q315.116 919.009 309.305 919.009 Q303.495 919.009 300.417 914.425 Q297.361 909.819 297.361 901.092 Q297.361 892.342 300.417 887.759 Q303.495 883.152 309.305 883.152 Z\" fill=\"#000000\" fill-rule=\"nonzero\" fill-opacity=\"1\" /><path clip-path=\"url(#clip840)\" d=\"M330.879 877.592 Q328.171 877.592 326.61 879.04 Q325.068 880.489 325.068 883.028 Q325.068 885.567 326.61 887.015 Q328.171 888.463 330.879 888.463 Q333.588 888.463 335.149 887.015 Q336.71 885.548 336.71 883.028 Q336.71 880.489 335.149 879.04 Q333.606 877.592 330.879 877.592 M327.08 875.975 Q324.635 875.373 323.262 873.699 Q321.908 872.025 321.908 869.618 Q321.908 866.251 324.297 864.295 Q326.704 862.339 330.879 862.339 Q335.073 862.339 337.462 864.295 Q339.851 866.251 339.851 869.618 Q339.851 872.025 338.478 873.699 Q337.124 875.373 334.697 875.975 Q337.443 876.614 338.967 878.476 Q340.509 880.338 340.509 883.028 Q340.509 887.109 338.008 889.291 Q335.525 891.472 330.879 891.472 Q326.234 891.472 323.732 889.291 Q321.25 887.109 321.25 883.028 Q321.25 880.338 322.792 878.476 Q324.334 876.614 327.08 875.975 M325.688 869.975 Q325.688 872.157 327.043 873.379 Q328.416 874.602 330.879 874.602 Q333.324 874.602 334.697 873.379 Q336.089 872.157 336.089 869.975 Q336.089 867.793 334.697 866.571 Q333.324 865.348 330.879 865.348 Q328.416 865.348 327.043 866.571 Q325.688 867.793 325.688 869.975 Z\" fill=\"#000000\" fill-rule=\"nonzero\" fill-opacity=\"1\" /><path clip-path=\"url(#clip840)\" d=\"M350.533 887.73 L363.793 887.73 L363.793 890.927 L345.963 890.927 L345.963 887.73 Q348.126 885.492 351.85 881.73 Q355.593 877.95 356.552 876.859 Q358.376 874.809 359.091 873.398 Q359.825 871.969 359.825 870.596 Q359.825 868.358 358.245 866.947 Q356.684 865.536 354.163 865.536 Q352.377 865.536 350.383 866.157 Q348.408 866.778 346.151 868.038 L346.151 864.201 Q348.446 863.28 350.439 862.809 Q352.433 862.339 354.088 862.339 Q358.452 862.339 361.047 864.521 Q363.643 866.703 363.643 870.351 Q363.643 872.082 362.984 873.643 Q362.345 875.185 360.633 877.291 Q360.163 877.837 357.643 880.451 Q355.123 883.047 350.533 887.73 Z\" fill=\"#000000\" fill-rule=\"nonzero\" fill-opacity=\"1\" /><path clip-path=\"url(#clip840)\" d=\"M114.26 497.297 L143.936 497.297 L143.936 501.232 L114.26 501.232 L114.26 497.297 Z\" fill=\"#000000\" fill-rule=\"nonzero\" fill-opacity=\"1\" /><path clip-path=\"url(#clip840)\" d=\"M154.839 510.19 L162.477 510.19 L162.477 483.825 L154.167 485.491 L154.167 481.232 L162.431 479.565 L167.107 479.565 L167.107 510.19 L174.746 510.19 L174.746 514.125 L154.839 514.125 L154.839 510.19 Z\" fill=\"#000000\" fill-rule=\"nonzero\" fill-opacity=\"1\" /><path clip-path=\"url(#clip840)\" d=\"M184.19 508.246 L189.075 508.246 L189.075 514.125 L184.19 514.125 L184.19 508.246 Z\" fill=\"#000000\" fill-rule=\"nonzero\" fill-opacity=\"1\" /><path clip-path=\"url(#clip840)\" d=\"M209.26 482.644 Q205.649 482.644 203.82 486.209 Q202.014 489.75 202.014 496.88 Q202.014 503.986 203.82 507.551 Q205.649 511.093 209.26 511.093 Q212.894 511.093 214.699 507.551 Q216.528 503.986 216.528 496.88 Q216.528 489.75 214.699 486.209 Q212.894 482.644 209.26 482.644 M209.26 478.94 Q215.07 478.94 218.125 483.547 Q221.204 488.13 221.204 496.88 Q221.204 505.607 218.125 510.213 Q215.07 514.797 209.26 514.797 Q203.449 514.797 200.371 510.213 Q197.315 505.607 197.315 496.88 Q197.315 488.13 200.371 483.547 Q203.449 478.94 209.26 478.94 Z\" fill=\"#000000\" fill-rule=\"nonzero\" fill-opacity=\"1\" /><path clip-path=\"url(#clip840)\" d=\"M257.593 488.662 L247.014 499.287 L257.593 509.866 L254.838 512.667 L244.213 502.042 L233.588 512.667 L230.857 509.866 L241.412 499.287 L230.857 488.662 L233.588 485.862 L244.213 496.487 L254.838 485.862 L257.593 488.662 Z\" fill=\"#000000\" fill-rule=\"nonzero\" fill-opacity=\"1\" /><path clip-path=\"url(#clip840)\" d=\"M269.954 510.19 L277.593 510.19 L277.593 483.825 L269.282 485.491 L269.282 481.232 L277.546 479.565 L282.222 479.565 L282.222 510.19 L289.861 510.19 L289.861 514.125 L269.954 514.125 L269.954 510.19 Z\" fill=\"#000000\" fill-rule=\"nonzero\" fill-opacity=\"1\" /><path clip-path=\"url(#clip840)\" d=\"M309.305 482.644 Q305.694 482.644 303.866 486.209 Q302.06 489.75 302.06 496.88 Q302.06 503.986 303.866 507.551 Q305.694 511.093 309.305 511.093 Q312.94 511.093 314.745 507.551 Q316.574 503.986 316.574 496.88 Q316.574 489.75 314.745 486.209 Q312.94 482.644 309.305 482.644 M309.305 478.94 Q315.116 478.94 318.171 483.547 Q321.25 488.13 321.25 496.88 Q321.25 505.607 318.171 510.213 Q315.116 514.797 309.305 514.797 Q303.495 514.797 300.417 510.213 Q297.361 505.607 297.361 496.88 Q297.361 488.13 300.417 483.547 Q303.495 478.94 309.305 478.94 Z\" fill=\"#000000\" fill-rule=\"nonzero\" fill-opacity=\"1\" /><path clip-path=\"url(#clip840)\" d=\"M330.879 473.38 Q328.171 473.38 326.61 474.828 Q325.068 476.277 325.068 478.816 Q325.068 481.355 326.61 482.803 Q328.171 484.251 330.879 484.251 Q333.588 484.251 335.149 482.803 Q336.71 481.336 336.71 478.816 Q336.71 476.277 335.149 474.828 Q333.606 473.38 330.879 473.38 M327.08 471.763 Q324.635 471.161 323.262 469.487 Q321.908 467.813 321.908 465.406 Q321.908 462.039 324.297 460.083 Q326.704 458.127 330.879 458.127 Q335.073 458.127 337.462 460.083 Q339.851 462.039 339.851 465.406 Q339.851 467.813 338.478 469.487 Q337.124 471.161 334.697 471.763 Q337.443 472.402 338.967 474.264 Q340.509 476.126 340.509 478.816 Q340.509 482.897 338.008 485.079 Q335.525 487.26 330.879 487.26 Q326.234 487.26 323.732 485.079 Q321.25 482.897 321.25 478.816 Q321.25 476.126 322.792 474.264 Q324.334 472.402 327.08 471.763 M325.688 465.763 Q325.688 467.945 327.043 469.167 Q328.416 470.39 330.879 470.39 Q333.324 470.39 334.697 469.167 Q336.089 467.945 336.089 465.763 Q336.089 463.581 334.697 462.359 Q333.324 461.136 330.879 461.136 Q328.416 461.136 327.043 462.359 Q325.688 463.581 325.688 465.763 Z\" fill=\"#000000\" fill-rule=\"nonzero\" fill-opacity=\"1\" /><path clip-path=\"url(#clip840)\" d=\"M350.533 483.518 L363.793 483.518 L363.793 486.715 L345.963 486.715 L345.963 483.518 Q348.126 481.279 351.85 477.518 Q355.593 473.738 356.552 472.647 Q358.376 470.597 359.091 469.186 Q359.825 467.757 359.825 466.384 Q359.825 464.146 358.245 462.735 Q356.684 461.324 354.163 461.324 Q352.377 461.324 350.383 461.945 Q348.408 462.566 346.151 463.826 L346.151 459.989 Q348.446 459.067 350.439 458.597 Q352.433 458.127 354.088 458.127 Q358.452 458.127 361.047 460.309 Q363.643 462.491 363.643 466.139 Q363.643 467.87 362.984 469.431 Q362.345 470.973 360.633 473.079 Q360.163 473.625 357.643 476.239 Q355.123 478.834 350.533 483.518 Z\" fill=\"#000000\" fill-rule=\"nonzero\" fill-opacity=\"1\" /><path clip-path=\"url(#clip840)\" d=\"M351.849 71.9844 Q348.237 71.9844 346.409 75.5492 Q344.603 79.0908 344.603 86.2204 Q344.603 93.3268 346.409 96.8916 Q348.237 100.433 351.849 100.433 Q355.483 100.433 357.288 96.8916 Q359.117 93.3268 359.117 86.2204 Q359.117 79.0908 357.288 75.5492 Q355.483 71.9844 351.849 71.9844 M351.849 68.2807 Q357.659 68.2807 360.714 72.8871 Q363.793 77.4704 363.793 86.2204 Q363.793 94.9472 360.714 99.5537 Q357.659 104.137 351.849 104.137 Q346.038 104.137 342.96 99.5537 Q339.904 94.9472 339.904 86.2204 Q339.904 77.4704 342.96 72.8871 Q346.038 68.2807 351.849 68.2807 Z\" fill=\"#000000\" fill-rule=\"nonzero\" fill-opacity=\"1\" /><path clip-path=\"url(#clip840)\" d=\"M16.4842 949.593 L16.4842 943.1 L56.6518 933.106 L16.4842 923.144 L16.4842 915.918 L56.6518 905.924 L16.4842 895.962 L16.4842 889.437 L64.0042 901.373 L64.0042 909.457 L22.7544 919.483 L64.0042 929.605 L64.0042 937.689 L16.4842 949.593 Z\" fill=\"#000000\" fill-rule=\"nonzero\" fill-opacity=\"1\" /><path clip-path=\"url(#clip840)\" d=\"M44.7161 854.489 L47.5806 854.489 L47.5806 881.416 Q53.6281 881.034 56.8109 877.788 Q59.9619 874.51 59.9619 868.685 Q59.9619 865.311 59.1344 862.16 Q58.3069 858.977 56.6518 855.858 L62.1899 855.858 Q63.5267 859.009 64.227 862.319 Q64.9272 865.629 64.9272 869.035 Q64.9272 877.565 59.9619 882.562 Q54.9967 887.527 46.5303 887.527 Q37.7774 887.527 32.6531 882.817 Q27.4968 878.074 27.4968 870.054 Q27.4968 862.86 32.1438 858.691 Q36.7589 854.489 44.7161 854.489 M42.9973 860.346 Q38.1912 860.41 35.3266 863.051 Q32.4621 865.661 32.4621 869.99 Q32.4621 874.891 35.2312 877.852 Q38.0002 880.78 43.0292 881.225 L42.9973 860.346 Z\" fill=\"#000000\" fill-rule=\"nonzero\" fill-opacity=\"1\" /><path clip-path=\"url(#clip840)\" d=\"M46.0847 828.676 Q46.0847 835.774 47.7079 838.511 Q49.3312 841.249 53.2461 841.249 Q56.3653 841.249 58.2114 839.212 Q60.0256 837.143 60.0256 833.61 Q60.0256 828.74 56.5881 825.812 Q53.1188 822.852 47.3897 822.852 L46.0847 822.852 L46.0847 828.676 M43.6657 816.995 L64.0042 816.995 L64.0042 822.852 L58.5933 822.852 Q61.8398 824.857 63.3994 827.849 Q64.9272 830.841 64.9272 835.169 Q64.9272 840.644 61.8716 843.89 Q58.7843 847.105 53.6281 847.105 Q47.6125 847.105 44.5569 843.095 Q41.5014 839.053 41.5014 831.064 L41.5014 822.852 L40.9285 822.852 Q36.8862 822.852 34.6901 825.525 Q32.4621 828.167 32.4621 832.973 Q32.4621 836.029 33.1941 838.925 Q33.9262 841.822 35.3903 844.495 L29.9795 844.495 Q28.7381 841.281 28.1334 838.257 Q27.4968 835.233 27.4968 832.369 Q27.4968 824.634 31.5072 820.815 Q35.5176 816.995 43.6657 816.995 Z\" fill=\"#000000\" fill-rule=\"nonzero\" fill-opacity=\"1\" /><path clip-path=\"url(#clip840)\" d=\"M14.479 804.932 L14.479 799.076 L64.0042 799.076 L64.0042 804.932 L14.479 804.932 Z\" fill=\"#000000\" fill-rule=\"nonzero\" fill-opacity=\"1\" /><path clip-path=\"url(#clip840)\" d=\"M18.2347 781.029 L28.3562 781.029 L28.3562 768.966 L32.9077 768.966 L32.9077 781.029 L52.2594 781.029 Q56.6199 781.029 57.8613 779.851 Q59.1026 778.642 59.1026 774.982 L59.1026 768.966 L64.0042 768.966 L64.0042 774.982 Q64.0042 781.761 61.4897 784.339 Q58.9434 786.917 52.2594 786.917 L32.9077 786.917 L32.9077 791.214 L28.3562 791.214 L28.3562 786.917 L18.2347 786.917 L18.2347 781.029 Z\" fill=\"#000000\" fill-rule=\"nonzero\" fill-opacity=\"1\" /><path clip-path=\"url(#clip840)\" d=\"M42.4881 731.631 L64.0042 731.631 L64.0042 737.488 L42.679 737.488 Q37.6183 737.488 35.1038 739.461 Q32.5894 741.434 32.5894 745.381 Q32.5894 750.124 35.6131 752.861 Q38.6368 755.598 43.8567 755.598 L64.0042 755.598 L64.0042 761.486 L14.479 761.486 L14.479 755.598 L33.8944 755.598 Q30.6797 753.497 29.0883 750.665 Q27.4968 747.8 27.4968 744.076 Q27.4968 737.933 31.3163 734.782 Q35.1038 731.631 42.4881 731.631 Z\" fill=\"#000000\" fill-rule=\"nonzero\" fill-opacity=\"1\" /><path clip-path=\"url(#clip840)\" d=\"M14.5426 685.162 Q21.8632 689.427 29.0246 691.495 Q36.186 693.564 43.5384 693.564 Q50.8908 693.564 58.1159 691.495 Q65.3091 689.395 72.5979 685.162 L72.5979 690.254 Q65.1182 695.028 57.8931 697.416 Q50.668 699.771 43.5384 699.771 Q36.4406 699.771 29.2474 697.416 Q22.0542 695.06 14.5426 690.254 L14.5426 685.162 Z\" fill=\"#000000\" fill-rule=\"nonzero\" fill-opacity=\"1\" /><path clip-path=\"url(#clip840)\" d=\"M16.4842 674.276 L16.4842 667.815 L45.3526 667.815 Q52.9915 667.815 56.3653 665.046 Q59.7073 662.277 59.7073 656.07 Q59.7073 649.896 56.3653 647.127 Q52.9915 644.357 45.3526 644.357 L16.4842 644.357 L16.4842 637.896 L46.1484 637.896 Q55.4423 637.896 60.1847 642.511 Q64.9272 647.095 64.9272 656.07 Q64.9272 665.078 60.1847 669.693 Q55.4423 674.276 46.1484 674.276 L16.4842 674.276 Z\" fill=\"#000000\" fill-rule=\"nonzero\" fill-opacity=\"1\" /><path clip-path=\"url(#clip840)\" d=\"M18.0438 597.347 L24.314 597.347 Q22.5634 601.007 21.704 604.253 Q20.8447 607.5 20.8447 610.524 Q20.8447 615.775 22.8817 618.64 Q24.9187 621.473 28.6745 621.473 Q31.8255 621.473 33.4488 619.595 Q35.0402 617.685 36.0269 612.402 L36.8226 608.518 Q38.1912 601.325 41.6605 597.92 Q45.098 594.482 50.8908 594.482 Q57.7976 594.482 61.3624 599.129 Q64.9272 603.744 64.9272 612.688 Q64.9272 616.062 64.1633 619.881 Q63.3994 623.669 61.9035 627.743 L55.2831 627.743 Q57.4793 623.828 58.5933 620.072 Q59.7073 616.316 59.7073 612.688 Q59.7073 607.182 57.543 604.19 Q55.3786 601.198 51.3682 601.198 Q47.8671 601.198 45.8937 603.362 Q43.9204 605.495 42.9337 610.396 L42.1698 614.311 Q40.7375 621.505 37.682 624.719 Q34.6264 627.934 29.1837 627.934 Q22.8817 627.934 19.2532 623.51 Q15.6248 619.054 15.6248 611.256 Q15.6248 607.914 16.2295 604.444 Q16.8343 600.975 18.0438 597.347 Z\" fill=\"#000000\" fill-rule=\"nonzero\" fill-opacity=\"1\" /><path clip-path=\"url(#clip840)\" d=\"M21.7677 578.027 L58.7206 578.027 L58.7206 570.261 Q58.7206 560.426 54.2646 555.874 Q49.8086 551.291 40.1964 551.291 Q30.6479 551.291 26.2237 555.874 Q21.7677 560.426 21.7677 570.261 L21.7677 578.027 M16.4842 584.456 L16.4842 571.247 Q16.4842 557.434 22.2451 550.973 Q27.9743 544.511 40.1964 544.511 Q52.4822 544.511 58.2432 551.004 Q64.0042 557.497 64.0042 571.247 L64.0042 584.456 L16.4842 584.456 Z\" fill=\"#000000\" fill-rule=\"nonzero\" fill-opacity=\"1\" /><path clip-path=\"url(#clip840)\" d=\"M14.5426 535.44 L14.5426 530.348 Q22.0542 525.573 29.2474 523.218 Q36.4406 520.831 43.5384 520.831 Q50.668 520.831 57.8931 523.218 Q65.1182 525.573 72.5979 530.348 L72.5979 535.44 Q65.3091 531.207 58.1159 529.138 Q50.8908 527.037 43.5384 527.037 Q36.186 527.037 29.0246 529.138 Q21.8632 531.207 14.5426 535.44 Z\" fill=\"#000000\" fill-rule=\"nonzero\" fill-opacity=\"1\" /><polyline clip-path=\"url(#clip842)\" style=\"stroke:#0000ff; stroke-linecap:round; stroke-linejoin:round; stroke-width:12; stroke-opacity:1; fill:none\" points=\"455.065,86.1857 463.146,86.1857 471.227,86.1857 479.308,86.1857 487.389,86.1857 495.469,86.1857 503.55,86.1857 511.631,86.1857 519.712,86.1857 527.793,86.1857 535.873,86.1857 543.954,86.1857 552.035,86.1857 560.116,86.1857 568.196,86.1857 576.277,86.1857 584.358,86.1857 592.439,86.1857 600.52,86.1857 608.6,86.1857 616.681,86.1857 624.762,86.1857 632.843,86.1857 640.923,86.1857 649.004,86.1857 657.085,86.1857 665.166,86.1857 673.247,86.1857 681.327,86.1857 689.408,86.1857 697.489,86.1857 705.57,86.1857 713.65,86.1857 721.731,86.1857 729.812,86.1857 737.893,86.1857 745.974,86.1857 754.054,86.1857 762.135,86.1857 770.216,86.1857 778.297,86.1857 786.377,86.1857 794.458,86.1857 802.539,86.1857 810.62,86.1857 818.701,86.1857 826.781,86.1857 834.862,86.1857 842.943,86.1857 851.024,86.1857 859.105,86.1857 867.185,86.1857 875.266,86.1857 883.347,86.1857 891.428,86.1857 899.508,86.1857 907.589,86.1857 915.67,86.1857 923.751,86.1857 931.832,86.1857 939.912,86.1857 947.993,86.1857 956.074,86.1857 964.155,86.1857 972.235,86.1857 980.316,86.1857 988.397,86.1857 996.478,86.1857 1004.56,86.1857 1012.64,86.1857 1020.72,86.1857 1028.8,86.1857 1036.88,86.1857 1044.96,86.1857 1053.04,86.1857 1061.12,86.1857 1069.2,86.1857 1077.29,86.1857 1085.37,86.1857 1093.45,86.1857 1101.53,86.1857 1109.61,86.1857 1117.69,86.1857 1125.77,86.1857 1133.85,86.1857 1141.93,86.1857 1150.01,86.1857 1158.09,86.1857 1166.17,86.1857 1174.25,86.1857 1182.34,86.1857 1190.42,86.1857 1198.5,86.1857 1206.58,86.1857 1214.66,86.1857 1222.74,86.1857 1230.82,86.1857 1238.9,86.1857 1246.98,86.1857 1255.06,86.1857 1263.14,86.1857 1271.22,86.1857 1279.31,86.1857 1287.39,86.1857 1295.47,86.1857 1303.55,86.1857 1311.63,86.1857 1319.71,86.1857 1327.79,86.1857 1335.87,86.1857 1343.95,86.1857 1352.03,86.1857 1360.11,86.1857 1368.19,86.1857 1376.27,86.1857 1384.36,86.1857 1392.44,86.1857 1400.52,86.1857 1408.6,86.1857 1416.68,86.1857 1424.76,86.1857 1432.84,86.1857 1440.92,86.1857 1449,86.1857 1457.08,86.1857 1465.16,86.1857 1473.24,86.1857 1481.32,86.1857 1489.41,86.1857 1497.49,86.1857 1505.57,86.1857 1513.65,86.1857 1521.73,86.1857 1529.81,86.1857 1537.89,86.1857 1545.97,86.1857 1554.05,86.1857 1562.13,86.1857 1570.21,86.1857 1578.29,86.1857 1586.37,86.1857 1594.46,86.1857 1602.54,86.1857 1610.62,86.1857 1618.7,86.1857 1626.78,86.1857 1634.86,86.1857 1642.94,86.1857 1651.02,86.1857 1659.1,86.1857 1667.18,86.1857 1675.26,86.1857 1683.34,86.1857 1691.42,86.1857 1699.51,86.1857 1707.59,86.1857 1715.67,86.1857 1723.75,86.1857 1731.83,86.1857 1739.91,86.1857 1747.99,86.1857 1756.07,86.1857 1764.15,86.1857 1772.23,86.1857 1780.31,86.1857 1788.39,86.1857 1796.48,86.1857 1804.56,86.1857 1812.64,86.1857 1820.72,86.1857 1828.8,86.1857 1836.88,86.1857 1844.96,86.1857 1853.04,86.1857 1861.12,86.1857 1869.2,86.1857 1877.28,86.1857 1885.36,86.1857 1893.44,86.1857 1901.53,86.1857 1909.61,86.1857 1917.69,86.1857 1925.77,86.1857 1933.85,86.1857 1941.93,86.1857 1950.01,86.1857 1958.09,86.1857 1966.17,86.1857 1974.25,86.1857 1982.33,86.1857 1990.41,86.1857 1998.49,86.1857 2006.58,86.1857 2014.66,86.1857 2022.74,86.1857 2030.82,86.1857 2038.9,86.1857 2046.98,86.1857 2055.06,86.1857 2063.14,86.1857 2071.22,86.1857 2079.3,86.1857 2087.38,86.1857 2095.46,86.1857 2103.54,86.1857 2111.63,86.1857 2119.71,86.1857 2127.79,86.1857 2135.87,86.1857 2143.95,86.1857 2152.03,86.1857 2160.11,86.1857 2168.19,86.1857 2176.27,86.1857 2184.35,86.1857 2192.43,86.1857 2200.51,86.1857 2208.59,86.1857 2216.68,86.1857 2224.76,86.1857 2232.84,86.1857 2240.92,86.1857 2249,86.1857 2257.08,86.1857 2265.16,86.1857 2273.24,86.1857 2281.32,86.1857 2289.4,86.1857 2297.48,86.1857 \"/>\n",
       "<polyline clip-path=\"url(#clip842)\" style=\"stroke:#ff0000; stroke-linecap:round; stroke-linejoin:round; stroke-width:24; stroke-opacity:1; fill:none\" points=\"471.227,86.1857 479.308,86.1857 487.389,86.1857 495.469,86.1857 503.55,86.1857 511.631,86.1857 519.712,86.1857 527.793,86.1857 535.873,86.1857 543.954,86.1857 552.035,86.1857 560.116,86.1857 568.196,86.1857 576.277,86.1857 584.358,86.1857 592.439,86.1857 600.52,86.1857 608.6,86.1857 616.681,86.1857 624.762,86.1857 632.843,86.1857 640.923,86.1857 649.004,86.1857 657.085,86.1857 665.166,86.1857 673.247,86.1857 681.327,86.1857 689.408,86.1857 697.489,86.1857 705.57,86.1857 713.65,86.1857 721.731,86.1857 729.812,86.1857 737.893,86.1857 745.974,86.1857 754.054,86.1857 762.135,86.1857 770.216,86.1857 778.297,86.1857 \"/>\n",
       "<polyline clip-path=\"url(#clip842)\" style=\"stroke:#ff0000; stroke-linecap:round; stroke-linejoin:round; stroke-width:24; stroke-opacity:1; fill:none\" points=\"794.458,86.1857 802.539,86.1857 810.62,86.1857 \"/>\n",
       "<polyline clip-path=\"url(#clip842)\" style=\"stroke:#ff0000; stroke-linecap:round; stroke-linejoin:round; stroke-width:24; stroke-opacity:1; fill:none\" points=\"826.781,86.1857 834.862,86.1857 842.943,86.1857 851.024,86.1857 859.105,86.1857 867.185,86.1857 \"/>\n",
       "<polyline clip-path=\"url(#clip842)\" style=\"stroke:#ff0000; stroke-linecap:round; stroke-linejoin:round; stroke-width:24; stroke-opacity:1; fill:none\" points=\"883.347,86.1857 891.428,86.1857 899.508,86.1857 907.589,86.1857 915.67,86.1857 923.751,86.1857 931.832,86.1857 939.912,86.1857 947.993,86.1857 956.074,86.1857 964.155,86.1857 972.235,86.1857 980.316,86.1857 988.397,86.1857 996.478,86.1857 1004.56,86.1857 1012.64,86.1857 1020.72,86.1857 1028.8,86.1857 1036.88,86.1857 1044.96,86.1857 1053.04,86.1857 1061.12,86.1857 1069.2,86.1857 \"/>\n",
       "<polyline clip-path=\"url(#clip842)\" style=\"stroke:#ff0000; stroke-linecap:round; stroke-linejoin:round; stroke-width:24; stroke-opacity:1; fill:none\" points=\"1085.37,86.1857 1093.45,86.1857 1101.53,86.1857 1109.61,86.1857 1117.69,86.1857 1125.77,86.1857 \"/>\n",
       "<polyline clip-path=\"url(#clip842)\" style=\"stroke:#ff0000; stroke-linecap:round; stroke-linejoin:round; stroke-width:24; stroke-opacity:1; fill:none\" points=\"1141.93,86.1857 1150.01,86.1857 1158.09,86.1857 1166.17,86.1857 1174.25,86.1857 \"/>\n",
       "<polyline clip-path=\"url(#clip842)\" style=\"stroke:#ff0000; stroke-linecap:round; stroke-linejoin:round; stroke-width:24; stroke-opacity:1; fill:none\" points=\"1190.42,86.1857 1198.5,86.1857 1206.58,86.1857 1214.66,86.1857 1222.74,86.1857 1230.82,86.1857 1238.9,86.1857 1246.98,86.1857 1255.06,86.1857 1263.14,86.1857 1271.22,86.1857 1279.31,86.2024 \"/>\n",
       "<polyline clip-path=\"url(#clip842)\" style=\"stroke:#ff0000; stroke-linecap:round; stroke-linejoin:round; stroke-width:24; stroke-opacity:1; fill:none\" points=\"1295.47,86.1857 1303.55,86.1857 1311.63,86.1857 1319.71,86.1857 1327.79,86.1857 1335.87,86.1857 1343.95,86.1857 1352.03,86.1857 1360.11,86.1857 1368.19,86.1857 1376.27,1384.24 1384.36,86.1857 1392.44,86.1857 1400.52,86.1857 1408.6,86.1857 1416.68,86.1857 1424.76,86.1857 1432.84,86.1857 1440.92,86.1857 1449,86.1857 1457.08,86.1857 1465.16,86.1857 1473.24,86.2038 1481.32,86.1857 1489.41,86.1857 1497.49,86.1857 1505.57,86.1857 1513.65,86.1857 1521.73,86.1857 1529.81,86.1857 1537.89,86.1857 1545.97,86.1857 1554.05,86.1857 1562.13,86.1857 1570.21,86.205 1578.29,86.1857 1586.37,86.1857 1594.46,86.1857 1602.54,86.1857 1610.62,86.1857 1618.7,86.1857 1626.78,86.1857 1634.86,86.1857 1642.94,86.1857 1651.02,86.1857 1659.1,86.1857 1667.18,918.725 1675.26,86.1857 1683.34,86.1857 1691.42,86.1857 1699.51,86.1857 1707.59,86.1857 1715.67,86.1857 1723.75,86.1857 1731.83,86.1857 1739.91,86.1857 1747.99,86.1857 1756.07,86.1857 1764.15,86.1857 \"/>\n",
       "<polyline clip-path=\"url(#clip842)\" style=\"stroke:#ff0000; stroke-linecap:round; stroke-linejoin:round; stroke-width:24; stroke-opacity:1; fill:none\" points=\"1780.31,86.1857 1788.39,86.1857 1796.48,86.1857 1804.56,86.1857 1812.64,86.1857 1820.72,86.1857 1828.8,86.1857 1836.88,86.1857 1844.96,86.1857 1853.04,86.1857 1861.12,86.1857 1869.2,1056.86 1877.28,86.1857 1885.36,86.1857 1893.44,86.1857 1901.53,86.1857 1909.61,86.1857 1917.69,86.1857 1925.77,86.1857 1933.85,86.1857 1941.93,86.1857 1950.01,86.1857 1958.09,86.1857 1966.17,86.1857 \"/>\n",
       "<polyline clip-path=\"url(#clip842)\" style=\"stroke:#ff0000; stroke-linecap:round; stroke-linejoin:round; stroke-width:24; stroke-opacity:1; fill:none\" points=\"1990.41,86.1857 1998.49,86.1857 2006.58,86.1857 2014.66,86.1857 2022.74,86.1857 2030.82,86.1857 2038.9,86.1857 2046.98,86.1857 2055.06,86.1857 2063.14,86.1857 2071.22,86.1857 \"/>\n",
       "<polyline clip-path=\"url(#clip842)\" style=\"stroke:#ff0000; stroke-linecap:round; stroke-linejoin:round; stroke-width:24; stroke-opacity:1; fill:none\" points=\"2087.38,86.1857 2095.46,86.1857 2103.54,86.1857 2111.63,86.1857 2119.71,86.1857 2127.79,86.1857 \"/>\n",
       "<polyline clip-path=\"url(#clip842)\" style=\"stroke:#ff0000; stroke-linecap:round; stroke-linejoin:round; stroke-width:24; stroke-opacity:1; fill:none\" points=\"2143.95,86.1857 2152.03,86.1857 2160.11,86.1857 2168.19,86.1857 2176.27,86.1857 2184.35,86.1857 2192.43,86.1857 2200.51,86.1857 2208.59,86.1857 2216.68,86.1857 2224.76,86.1857 2232.84,86.1857 \"/>\n",
       "<polyline clip-path=\"url(#clip842)\" style=\"stroke:#ff0000; stroke-linecap:round; stroke-linejoin:round; stroke-width:24; stroke-opacity:1; fill:none\" points=\"2249,86.1857 2257.08,86.1857 2265.16,86.2066 \"/>\n",
       "<polyline clip-path=\"url(#clip842)\" style=\"stroke:#ff0000; stroke-linecap:round; stroke-linejoin:round; stroke-width:24; stroke-opacity:1; fill:none\" points=\"2281.32,86.1857 2289.4,86.1857 2297.48,86.1857 \"/>\n",
       "<path clip-path=\"url(#clip840)\" d=\"M464.892 1377.32 L1185.49 1377.32 L1185.49 1169.96 L464.892 1169.96  Z\" fill=\"#ffffff\" fill-rule=\"evenodd\" fill-opacity=\"1\"/>\n",
       "<polyline clip-path=\"url(#clip840)\" style=\"stroke:#000000; stroke-linecap:round; stroke-linejoin:round; stroke-width:4; stroke-opacity:1; fill:none\" points=\"464.892,1377.32 1185.49,1377.32 1185.49,1169.96 464.892,1169.96 464.892,1377.32 \"/>\n",
       "<polyline clip-path=\"url(#clip840)\" style=\"stroke:#800080; stroke-linecap:round; stroke-linejoin:round; stroke-width:16; stroke-opacity:1; fill:none\" points=\"486.591,1221.8 616.789,1221.8 \"/>\n",
       "<path clip-path=\"url(#clip840)\" d=\"M666.359 1207.18 L666.359 1212.11 Q663.998 1209.91 661.312 1208.82 Q658.65 1207.73 655.641 1207.73 Q649.715 1207.73 646.567 1211.37 Q643.419 1214.98 643.419 1221.83 Q643.419 1228.66 646.567 1232.29 Q649.715 1235.9 655.641 1235.9 Q658.65 1235.9 661.312 1234.82 Q663.998 1233.73 666.359 1231.53 L666.359 1236.41 Q663.905 1238.08 661.15 1238.91 Q658.419 1239.75 655.363 1239.75 Q647.516 1239.75 643.002 1234.95 Q638.488 1230.14 638.488 1221.83 Q638.488 1213.5 643.002 1208.71 Q647.516 1203.89 655.363 1203.89 Q658.465 1203.89 661.197 1204.72 Q663.951 1205.53 666.359 1207.18 Z\" fill=\"#000000\" fill-rule=\"nonzero\" fill-opacity=\"1\" /><path clip-path=\"url(#clip840)\" d=\"M694.946 1223.43 L694.946 1239.08 L690.687 1239.08 L690.687 1223.57 Q690.687 1219.89 689.252 1218.06 Q687.817 1216.23 684.947 1216.23 Q681.497 1216.23 679.507 1218.43 Q677.516 1220.63 677.516 1224.42 L677.516 1239.08 L673.234 1239.08 L673.234 1203.06 L677.516 1203.06 L677.516 1217.18 Q679.044 1214.84 681.104 1213.68 Q683.187 1212.52 685.896 1212.52 Q690.363 1212.52 692.655 1215.3 Q694.946 1218.06 694.946 1223.43 Z\" fill=\"#000000\" fill-rule=\"nonzero\" fill-opacity=\"1\" /><path clip-path=\"url(#clip840)\" d=\"M713.488 1216.14 Q710.062 1216.14 708.071 1218.82 Q706.081 1221.48 706.081 1226.14 Q706.081 1230.79 708.048 1233.47 Q710.039 1236.14 713.488 1236.14 Q716.891 1236.14 718.882 1233.45 Q720.872 1230.77 720.872 1226.14 Q720.872 1221.53 718.882 1218.84 Q716.891 1216.14 713.488 1216.14 M713.488 1212.52 Q719.044 1212.52 722.215 1216.14 Q725.386 1219.75 725.386 1226.14 Q725.386 1232.5 722.215 1236.14 Q719.044 1239.75 713.488 1239.75 Q707.909 1239.75 704.738 1236.14 Q701.59 1232.5 701.59 1226.14 Q701.59 1219.75 704.738 1216.14 Q707.909 1212.52 713.488 1212.52 Z\" fill=\"#000000\" fill-rule=\"nonzero\" fill-opacity=\"1\" /><path clip-path=\"url(#clip840)\" d=\"M748.974 1213.91 L748.974 1217.94 Q747.168 1217.02 745.224 1216.55 Q743.28 1216.09 741.196 1216.09 Q738.025 1216.09 736.428 1217.06 Q734.854 1218.03 734.854 1219.98 Q734.854 1221.46 735.988 1222.32 Q737.122 1223.15 740.548 1223.91 L742.006 1224.24 Q746.543 1225.21 748.442 1226.99 Q750.363 1228.75 750.363 1231.92 Q750.363 1235.53 747.492 1237.64 Q744.645 1239.75 739.645 1239.75 Q737.562 1239.75 735.293 1239.33 Q733.048 1238.94 730.548 1238.13 L730.548 1233.73 Q732.909 1234.95 735.201 1235.58 Q737.493 1236.18 739.738 1236.18 Q742.747 1236.18 744.367 1235.16 Q745.988 1234.12 745.988 1232.25 Q745.988 1230.51 744.807 1229.58 Q743.65 1228.66 739.692 1227.8 L738.21 1227.46 Q734.252 1226.62 732.493 1224.91 Q730.733 1223.17 730.733 1220.16 Q730.733 1216.51 733.326 1214.52 Q735.918 1212.52 740.687 1212.52 Q743.048 1212.52 745.131 1212.87 Q747.215 1213.22 748.974 1213.91 Z\" fill=\"#000000\" fill-rule=\"nonzero\" fill-opacity=\"1\" /><path clip-path=\"url(#clip840)\" d=\"M779.321 1225.05 L779.321 1227.13 L759.738 1227.13 Q760.016 1231.53 762.377 1233.84 Q764.761 1236.14 768.997 1236.14 Q771.451 1236.14 773.742 1235.53 Q776.057 1234.93 778.326 1233.73 L778.326 1237.76 Q776.034 1238.73 773.627 1239.24 Q771.219 1239.75 768.742 1239.75 Q762.539 1239.75 758.904 1236.14 Q755.293 1232.52 755.293 1226.37 Q755.293 1220 758.719 1216.27 Q762.168 1212.52 768.002 1212.52 Q773.233 1212.52 776.265 1215.9 Q779.321 1219.26 779.321 1225.05 M775.062 1223.8 Q775.015 1220.3 773.094 1218.22 Q771.196 1216.14 768.048 1216.14 Q764.483 1216.14 762.33 1218.15 Q760.201 1220.16 759.877 1223.82 L775.062 1223.8 Z\" fill=\"#000000\" fill-rule=\"nonzero\" fill-opacity=\"1\" /><path clip-path=\"url(#clip840)\" d=\"M807.863 1223.43 L807.863 1239.08 L803.603 1239.08 L803.603 1223.57 Q803.603 1219.89 802.168 1218.06 Q800.733 1216.23 797.863 1216.23 Q794.414 1216.23 792.423 1218.43 Q790.432 1220.63 790.432 1224.42 L790.432 1239.08 L786.15 1239.08 L786.15 1213.15 L790.432 1213.15 L790.432 1217.18 Q791.96 1214.84 794.02 1213.68 Q796.103 1212.52 798.812 1212.52 Q803.279 1212.52 805.571 1215.3 Q807.863 1218.06 807.863 1223.43 Z\" fill=\"#000000\" fill-rule=\"nonzero\" fill-opacity=\"1\" /><path clip-path=\"url(#clip840)\" d=\"M836.288 1208.36 L836.288 1221.34 L842.168 1221.34 Q845.432 1221.34 847.214 1219.65 Q848.997 1217.96 848.997 1214.84 Q848.997 1211.74 847.214 1210.05 Q845.432 1208.36 842.168 1208.36 L836.288 1208.36 M831.612 1204.52 L842.168 1204.52 Q847.978 1204.52 850.941 1207.15 Q853.927 1209.77 853.927 1214.84 Q853.927 1219.96 850.941 1222.57 Q847.978 1225.19 842.168 1225.19 L836.288 1225.19 L836.288 1239.08 L831.612 1239.08 L831.612 1204.52 Z\" fill=\"#000000\" fill-rule=\"nonzero\" fill-opacity=\"1\" /><path clip-path=\"url(#clip840)\" d=\"M868.371 1216.14 Q864.946 1216.14 862.955 1218.82 Q860.964 1221.48 860.964 1226.14 Q860.964 1230.79 862.932 1233.47 Q864.922 1236.14 868.371 1236.14 Q871.774 1236.14 873.765 1233.45 Q875.756 1230.77 875.756 1226.14 Q875.756 1221.53 873.765 1218.84 Q871.774 1216.14 868.371 1216.14 M868.371 1212.52 Q873.927 1212.52 877.098 1216.14 Q880.27 1219.75 880.27 1226.14 Q880.27 1232.5 877.098 1236.14 Q873.927 1239.75 868.371 1239.75 Q862.793 1239.75 859.622 1236.14 Q856.473 1232.5 856.473 1226.14 Q856.473 1219.75 859.622 1216.14 Q862.793 1212.52 868.371 1212.52 Z\" fill=\"#000000\" fill-rule=\"nonzero\" fill-opacity=\"1\" /><path clip-path=\"url(#clip840)\" d=\"M902.353 1217.13 Q901.635 1216.71 900.779 1216.53 Q899.945 1216.32 898.927 1216.32 Q895.316 1216.32 893.371 1218.68 Q891.45 1221.02 891.45 1225.42 L891.45 1239.08 L887.168 1239.08 L887.168 1213.15 L891.45 1213.15 L891.45 1217.18 Q892.793 1214.82 894.945 1213.68 Q897.098 1212.52 900.177 1212.52 Q900.617 1212.52 901.149 1212.59 Q901.681 1212.64 902.33 1212.76 L902.353 1217.13 Z\" fill=\"#000000\" fill-rule=\"nonzero\" fill-opacity=\"1\" /><path clip-path=\"url(#clip840)\" d=\"M911.033 1205.79 L911.033 1213.15 L919.806 1213.15 L919.806 1216.46 L911.033 1216.46 L911.033 1230.53 Q911.033 1233.7 911.89 1234.61 Q912.769 1235.51 915.431 1235.51 L919.806 1235.51 L919.806 1239.08 L915.431 1239.08 Q910.501 1239.08 908.626 1237.25 Q906.751 1235.39 906.751 1230.53 L906.751 1216.46 L903.626 1216.46 L903.626 1213.15 L906.751 1213.15 L906.751 1205.79 L911.033 1205.79 Z\" fill=\"#000000\" fill-rule=\"nonzero\" fill-opacity=\"1\" /><path clip-path=\"url(#clip840)\" d=\"M938.533 1203.06 L938.533 1206.6 L934.459 1206.6 Q932.167 1206.6 931.265 1207.52 Q930.385 1208.45 930.385 1210.86 L930.385 1213.15 L937.399 1213.15 L937.399 1216.46 L930.385 1216.46 L930.385 1239.08 L926.103 1239.08 L926.103 1216.46 L922.029 1216.46 L922.029 1213.15 L926.103 1213.15 L926.103 1211.34 Q926.103 1207.02 928.117 1205.05 Q930.13 1203.06 934.505 1203.06 L938.533 1203.06 Z\" fill=\"#000000\" fill-rule=\"nonzero\" fill-opacity=\"1\" /><path clip-path=\"url(#clip840)\" d=\"M952.144 1216.14 Q948.718 1216.14 946.728 1218.82 Q944.737 1221.48 944.737 1226.14 Q944.737 1230.79 946.704 1233.47 Q948.695 1236.14 952.144 1236.14 Q955.547 1236.14 957.538 1233.45 Q959.528 1230.77 959.528 1226.14 Q959.528 1221.53 957.538 1218.84 Q955.547 1216.14 952.144 1216.14 M952.144 1212.52 Q957.7 1212.52 960.871 1216.14 Q964.042 1219.75 964.042 1226.14 Q964.042 1232.5 960.871 1236.14 Q957.7 1239.75 952.144 1239.75 Q946.565 1239.75 943.394 1236.14 Q940.246 1232.5 940.246 1226.14 Q940.246 1219.75 943.394 1216.14 Q946.565 1212.52 952.144 1212.52 Z\" fill=\"#000000\" fill-rule=\"nonzero\" fill-opacity=\"1\" /><path clip-path=\"url(#clip840)\" d=\"M971.102 1203.06 L975.362 1203.06 L975.362 1239.08 L971.102 1239.08 L971.102 1203.06 Z\" fill=\"#000000\" fill-rule=\"nonzero\" fill-opacity=\"1\" /><path clip-path=\"url(#clip840)\" d=\"M984.274 1213.15 L988.533 1213.15 L988.533 1239.08 L984.274 1239.08 L984.274 1213.15 M984.274 1203.06 L988.533 1203.06 L988.533 1208.45 L984.274 1208.45 L984.274 1203.06 Z\" fill=\"#000000\" fill-rule=\"nonzero\" fill-opacity=\"1\" /><path clip-path=\"url(#clip840)\" d=\"M1007.49 1216.14 Q1004.07 1216.14 1002.07 1218.82 Q1000.08 1221.48 1000.08 1226.14 Q1000.08 1230.79 1002.05 1233.47 Q1004.04 1236.14 1007.49 1236.14 Q1010.89 1236.14 1012.88 1233.45 Q1014.88 1230.77 1014.88 1226.14 Q1014.88 1221.53 1012.88 1218.84 Q1010.89 1216.14 1007.49 1216.14 M1007.49 1212.52 Q1013.05 1212.52 1016.22 1216.14 Q1019.39 1219.75 1019.39 1226.14 Q1019.39 1232.5 1016.22 1236.14 Q1013.05 1239.75 1007.49 1239.75 Q1001.91 1239.75 998.741 1236.14 Q995.593 1232.5 995.593 1226.14 Q995.593 1219.75 998.741 1216.14 Q1001.91 1212.52 1007.49 1212.52 Z\" fill=\"#000000\" fill-rule=\"nonzero\" fill-opacity=\"1\" /><path clip-path=\"url(#clip840)\" d=\"M1041.7 1204.52 L1046.38 1204.52 L1046.38 1239.08 L1041.7 1239.08 L1041.7 1204.52 Z\" fill=\"#000000\" fill-rule=\"nonzero\" fill-opacity=\"1\" /><path clip-path=\"url(#clip840)\" d=\"M1077.05 1223.43 L1077.05 1239.08 L1072.79 1239.08 L1072.79 1223.57 Q1072.79 1219.89 1071.36 1218.06 Q1069.92 1216.23 1067.05 1216.23 Q1063.6 1216.23 1061.61 1218.43 Q1059.62 1220.63 1059.62 1224.42 L1059.62 1239.08 L1055.34 1239.08 L1055.34 1213.15 L1059.62 1213.15 L1059.62 1217.18 Q1061.15 1214.84 1063.21 1213.68 Q1065.29 1212.52 1068 1212.52 Q1072.47 1212.52 1074.76 1215.3 Q1077.05 1218.06 1077.05 1223.43 Z\" fill=\"#000000\" fill-rule=\"nonzero\" fill-opacity=\"1\" /><path clip-path=\"url(#clip840)\" d=\"M1085.55 1213.15 L1089.81 1213.15 L1089.81 1239.08 L1085.55 1239.08 L1085.55 1213.15 M1085.55 1203.06 L1089.81 1203.06 L1089.81 1208.45 L1085.55 1208.45 L1085.55 1203.06 Z\" fill=\"#000000\" fill-rule=\"nonzero\" fill-opacity=\"1\" /><path clip-path=\"url(#clip840)\" d=\"M1102.93 1205.79 L1102.93 1213.15 L1111.7 1213.15 L1111.7 1216.46 L1102.93 1216.46 L1102.93 1230.53 Q1102.93 1233.7 1103.79 1234.61 Q1104.67 1235.51 1107.33 1235.51 L1111.7 1235.51 L1111.7 1239.08 L1107.33 1239.08 Q1102.4 1239.08 1100.52 1237.25 Q1098.65 1235.39 1098.65 1230.53 L1098.65 1216.46 L1095.52 1216.46 L1095.52 1213.15 L1098.65 1213.15 L1098.65 1205.79 L1102.93 1205.79 Z\" fill=\"#000000\" fill-rule=\"nonzero\" fill-opacity=\"1\" /><path clip-path=\"url(#clip840)\" d=\"M1117.31 1213.15 L1121.56 1213.15 L1121.56 1239.08 L1117.31 1239.08 L1117.31 1213.15 M1117.31 1203.06 L1121.56 1203.06 L1121.56 1208.45 L1117.31 1208.45 L1117.31 1203.06 Z\" fill=\"#000000\" fill-rule=\"nonzero\" fill-opacity=\"1\" /><path clip-path=\"url(#clip840)\" d=\"M1142.26 1226.04 Q1137.1 1226.04 1135.11 1227.22 Q1133.12 1228.4 1133.12 1231.25 Q1133.12 1233.52 1134.6 1234.86 Q1136.1 1236.18 1138.67 1236.18 Q1142.21 1236.18 1144.34 1233.68 Q1146.49 1231.16 1146.49 1226.99 L1146.49 1226.04 L1142.26 1226.04 M1150.75 1224.28 L1150.75 1239.08 L1146.49 1239.08 L1146.49 1235.14 Q1145.04 1237.5 1142.86 1238.64 Q1140.68 1239.75 1137.54 1239.75 Q1133.56 1239.75 1131.19 1237.52 Q1128.86 1235.28 1128.86 1231.53 Q1128.86 1227.15 1131.77 1224.93 Q1134.71 1222.71 1140.52 1222.71 L1146.49 1222.71 L1146.49 1222.29 Q1146.49 1219.35 1144.55 1217.76 Q1142.63 1216.14 1139.13 1216.14 Q1136.91 1216.14 1134.81 1216.67 Q1132.7 1217.2 1130.75 1218.27 L1130.75 1214.33 Q1133.09 1213.43 1135.29 1212.99 Q1137.49 1212.52 1139.57 1212.52 Q1145.2 1212.52 1147.98 1215.44 Q1150.75 1218.36 1150.75 1224.28 Z\" fill=\"#000000\" fill-rule=\"nonzero\" fill-opacity=\"1\" /><path clip-path=\"url(#clip840)\" d=\"M1159.53 1203.06 L1163.79 1203.06 L1163.79 1239.08 L1159.53 1239.08 L1159.53 1203.06 Z\" fill=\"#000000\" fill-rule=\"nonzero\" fill-opacity=\"1\" /><polyline clip-path=\"url(#clip840)\" style=\"stroke:#0000ff; stroke-linecap:round; stroke-linejoin:round; stroke-width:12; stroke-opacity:1; fill:none\" points=\"486.591,1273.64 616.789,1273.64 \"/>\n",
       "<path clip-path=\"url(#clip840)\" d=\"M660.734 1257.49 L660.734 1262.05 Q658.072 1260.78 655.711 1260.15 Q653.349 1259.53 651.15 1259.53 Q647.331 1259.53 645.248 1261.01 Q643.187 1262.49 643.187 1265.22 Q643.187 1267.51 644.553 1268.69 Q645.942 1269.85 649.785 1270.57 L652.609 1271.15 Q657.84 1272.14 660.317 1274.67 Q662.817 1277.17 662.817 1281.38 Q662.817 1286.4 659.437 1288.99 Q656.081 1291.59 649.576 1291.59 Q647.123 1291.59 644.345 1291.03 Q641.59 1290.48 638.627 1289.39 L638.627 1284.57 Q641.475 1286.17 644.206 1286.98 Q646.937 1287.79 649.576 1287.79 Q653.581 1287.79 655.757 1286.22 Q657.933 1284.64 657.933 1281.73 Q657.933 1279.18 656.359 1277.74 Q654.808 1276.31 651.243 1275.59 L648.396 1275.04 Q643.164 1273.99 640.826 1271.77 Q638.488 1269.55 638.488 1265.59 Q638.488 1261.01 641.706 1258.37 Q644.947 1255.73 650.618 1255.73 Q653.049 1255.73 655.572 1256.17 Q658.095 1256.61 660.734 1257.49 Z\" fill=\"#000000\" fill-rule=\"nonzero\" fill-opacity=\"1\" /><path clip-path=\"url(#clip840)\" d=\"M674.785 1260.2 L674.785 1273.18 L680.664 1273.18 Q683.928 1273.18 685.71 1271.49 Q687.493 1269.8 687.493 1266.68 Q687.493 1263.58 685.71 1261.89 Q683.928 1260.2 680.664 1260.2 L674.785 1260.2 M670.109 1256.36 L680.664 1256.36 Q686.474 1256.36 689.437 1258.99 Q692.423 1261.61 692.423 1266.68 Q692.423 1271.8 689.437 1274.41 Q686.474 1277.03 680.664 1277.03 L674.785 1277.03 L674.785 1290.92 L670.109 1290.92 L670.109 1256.36 Z\" fill=\"#000000\" fill-rule=\"nonzero\" fill-opacity=\"1\" /><path clip-path=\"url(#clip840)\" d=\"M692.909 1256.36 L697.933 1256.36 L707.516 1270.57 L717.03 1256.36 L722.053 1256.36 L709.831 1274.46 L709.831 1290.92 L705.132 1290.92 L705.132 1274.46 L692.909 1256.36 Z\" fill=\"#000000\" fill-rule=\"nonzero\" fill-opacity=\"1\" /><polyline clip-path=\"url(#clip840)\" style=\"stroke:#ff0000; stroke-linecap:round; stroke-linejoin:round; stroke-width:20; stroke-opacity:1; fill:none\" points=\"486.591,1325.48 616.789,1325.48 \"/>\n",
       "<path clip-path=\"url(#clip840)\" d=\"M654.877 1326.55 Q656.382 1327.06 657.794 1328.73 Q659.229 1330.39 660.664 1333.31 L665.41 1342.76 L660.386 1342.76 L655.965 1333.89 Q654.252 1330.42 652.632 1329.28 Q651.035 1328.15 648.257 1328.15 L643.164 1328.15 L643.164 1342.76 L638.488 1342.76 L638.488 1308.2 L649.044 1308.2 Q654.97 1308.2 657.886 1310.67 Q660.803 1313.15 660.803 1318.15 Q660.803 1321.41 659.275 1323.57 Q657.771 1325.72 654.877 1326.55 M643.164 1312.04 L643.164 1324.31 L649.044 1324.31 Q652.424 1324.31 654.136 1322.76 Q655.873 1321.18 655.873 1318.15 Q655.873 1315.12 654.136 1313.59 Q652.424 1312.04 649.044 1312.04 L643.164 1312.04 Z\" fill=\"#000000\" fill-rule=\"nonzero\" fill-opacity=\"1\" /><path clip-path=\"url(#clip840)\" d=\"M691.289 1328.73 L691.289 1330.81 L671.706 1330.81 Q671.984 1335.21 674.345 1337.52 Q676.729 1339.82 680.965 1339.82 Q683.419 1339.82 685.71 1339.21 Q688.025 1338.61 690.294 1337.41 L690.294 1341.44 Q688.002 1342.41 685.595 1342.92 Q683.187 1343.43 680.71 1343.43 Q674.507 1343.43 670.873 1339.82 Q667.261 1336.2 667.261 1330.05 Q667.261 1323.68 670.687 1319.95 Q674.136 1316.2 679.97 1316.2 Q685.201 1316.2 688.234 1319.58 Q691.289 1322.94 691.289 1328.73 M687.03 1327.48 Q686.984 1323.98 685.062 1321.9 Q683.164 1319.82 680.016 1319.82 Q676.451 1319.82 674.298 1321.83 Q672.169 1323.84 671.845 1327.5 L687.03 1327.48 Z\" fill=\"#000000\" fill-rule=\"nonzero\" fill-opacity=\"1\" /><path clip-path=\"url(#clip840)\" d=\"M710.062 1329.72 Q704.9 1329.72 702.909 1330.9 Q700.919 1332.08 700.919 1334.93 Q700.919 1337.2 702.4 1338.54 Q703.905 1339.86 706.474 1339.86 Q710.016 1339.86 712.145 1337.36 Q714.298 1334.84 714.298 1330.67 L714.298 1329.72 L710.062 1329.72 M718.557 1327.96 L718.557 1342.76 L714.298 1342.76 L714.298 1338.82 Q712.84 1341.18 710.664 1342.32 Q708.488 1343.43 705.34 1343.43 Q701.358 1343.43 698.997 1341.2 Q696.659 1338.96 696.659 1335.21 Q696.659 1330.83 699.576 1328.61 Q702.516 1326.39 708.326 1326.39 L714.298 1326.39 L714.298 1325.97 Q714.298 1323.03 712.354 1321.44 Q710.432 1319.82 706.937 1319.82 Q704.715 1319.82 702.608 1320.35 Q700.502 1320.88 698.558 1321.95 L698.558 1318.01 Q700.896 1317.11 703.095 1316.67 Q705.294 1316.2 707.377 1316.2 Q713.002 1316.2 715.78 1319.12 Q718.557 1322.04 718.557 1327.96 Z\" fill=\"#000000\" fill-rule=\"nonzero\" fill-opacity=\"1\" /><path clip-path=\"url(#clip840)\" d=\"M727.331 1306.74 L731.59 1306.74 L731.59 1342.76 L727.331 1342.76 L727.331 1306.74 Z\" fill=\"#000000\" fill-rule=\"nonzero\" fill-opacity=\"1\" /><path clip-path=\"url(#clip840)\" d=\"M740.502 1306.74 L744.761 1306.74 L744.761 1342.76 L740.502 1342.76 L740.502 1306.74 Z\" fill=\"#000000\" fill-rule=\"nonzero\" fill-opacity=\"1\" /><path clip-path=\"url(#clip840)\" d=\"M763.719 1319.82 Q760.293 1319.82 758.303 1322.5 Q756.312 1325.16 756.312 1329.82 Q756.312 1334.47 758.279 1337.15 Q760.27 1339.82 763.719 1339.82 Q767.122 1339.82 769.113 1337.13 Q771.103 1334.45 771.103 1329.82 Q771.103 1325.21 769.113 1322.52 Q767.122 1319.82 763.719 1319.82 M763.719 1316.2 Q769.275 1316.2 772.446 1319.82 Q775.617 1323.43 775.617 1329.82 Q775.617 1336.18 772.446 1339.82 Q769.275 1343.43 763.719 1343.43 Q758.141 1343.43 754.969 1339.82 Q751.821 1336.18 751.821 1329.82 Q751.821 1323.43 754.969 1319.82 Q758.141 1316.2 763.719 1316.2 Z\" fill=\"#000000\" fill-rule=\"nonzero\" fill-opacity=\"1\" /><path clip-path=\"url(#clip840)\" d=\"M801.335 1317.82 L801.335 1321.81 Q799.529 1320.81 797.701 1320.32 Q795.895 1319.82 794.043 1319.82 Q789.9 1319.82 787.608 1322.45 Q785.316 1325.07 785.316 1329.82 Q785.316 1334.56 787.608 1337.2 Q789.9 1339.82 794.043 1339.82 Q795.895 1339.82 797.701 1339.33 Q799.529 1338.82 801.335 1337.82 L801.335 1341.76 Q799.552 1342.59 797.631 1343.01 Q795.733 1343.43 793.58 1343.43 Q787.724 1343.43 784.275 1339.75 Q780.826 1336.07 780.826 1329.82 Q780.826 1323.47 784.298 1319.84 Q787.793 1316.2 793.858 1316.2 Q795.826 1316.2 797.701 1316.62 Q799.576 1317.01 801.335 1317.82 Z\" fill=\"#000000\" fill-rule=\"nonzero\" fill-opacity=\"1\" /><path clip-path=\"url(#clip840)\" d=\"M820.524 1329.72 Q815.362 1329.72 813.372 1330.9 Q811.381 1332.08 811.381 1334.93 Q811.381 1337.2 812.863 1338.54 Q814.367 1339.86 816.937 1339.86 Q820.478 1339.86 822.608 1337.36 Q824.761 1334.84 824.761 1330.67 L824.761 1329.72 L820.524 1329.72 M829.02 1327.96 L829.02 1342.76 L824.761 1342.76 L824.761 1338.82 Q823.302 1341.18 821.126 1342.32 Q818.95 1343.43 815.802 1343.43 Q811.821 1343.43 809.46 1341.2 Q807.122 1338.96 807.122 1335.21 Q807.122 1330.83 810.038 1328.61 Q812.978 1326.39 818.788 1326.39 L824.761 1326.39 L824.761 1325.97 Q824.761 1323.03 822.816 1321.44 Q820.895 1319.82 817.4 1319.82 Q815.177 1319.82 813.071 1320.35 Q810.964 1320.88 809.02 1321.95 L809.02 1318.01 Q811.358 1317.11 813.557 1316.67 Q815.756 1316.2 817.839 1316.2 Q823.464 1316.2 826.242 1319.12 Q829.02 1322.04 829.02 1327.96 Z\" fill=\"#000000\" fill-rule=\"nonzero\" fill-opacity=\"1\" /><path clip-path=\"url(#clip840)\" d=\"M842.006 1309.47 L842.006 1316.83 L850.779 1316.83 L850.779 1320.14 L842.006 1320.14 L842.006 1334.21 Q842.006 1337.38 842.862 1338.29 Q843.742 1339.19 846.404 1339.19 L850.779 1339.19 L850.779 1342.76 L846.404 1342.76 Q841.473 1342.76 839.598 1340.93 Q837.723 1339.07 837.723 1334.21 L837.723 1320.14 L834.598 1320.14 L834.598 1316.83 L837.723 1316.83 L837.723 1309.47 L842.006 1309.47 Z\" fill=\"#000000\" fill-rule=\"nonzero\" fill-opacity=\"1\" /><path clip-path=\"url(#clip840)\" d=\"M878.557 1328.73 L878.557 1330.81 L858.973 1330.81 Q859.251 1335.21 861.612 1337.52 Q863.996 1339.82 868.233 1339.82 Q870.686 1339.82 872.978 1339.21 Q875.293 1338.61 877.561 1337.41 L877.561 1341.44 Q875.27 1342.41 872.862 1342.92 Q870.455 1343.43 867.978 1343.43 Q861.774 1343.43 858.14 1339.82 Q854.529 1336.2 854.529 1330.05 Q854.529 1323.68 857.955 1319.95 Q861.404 1316.2 867.237 1316.2 Q872.469 1316.2 875.501 1319.58 Q878.557 1322.94 878.557 1328.73 M874.297 1327.48 Q874.251 1323.98 872.33 1321.9 Q870.432 1319.82 867.284 1319.82 Q863.719 1319.82 861.566 1321.83 Q859.436 1323.84 859.112 1327.5 L874.297 1327.48 Z\" fill=\"#000000\" fill-rule=\"nonzero\" fill-opacity=\"1\" /><path clip-path=\"url(#clip840)\" d=\"M902.607 1320.76 L902.607 1306.74 L906.867 1306.74 L906.867 1342.76 L902.607 1342.76 L902.607 1338.87 Q901.265 1341.18 899.205 1342.32 Q897.168 1343.43 894.297 1343.43 Q889.598 1343.43 886.635 1339.68 Q883.695 1335.93 883.695 1329.82 Q883.695 1323.7 886.635 1319.95 Q889.598 1316.2 894.297 1316.2 Q897.168 1316.2 899.205 1317.34 Q901.265 1318.45 902.607 1320.76 M888.094 1329.82 Q888.094 1334.51 890.015 1337.2 Q891.959 1339.86 895.339 1339.86 Q898.719 1339.86 900.663 1337.2 Q902.607 1334.51 902.607 1329.82 Q902.607 1325.12 900.663 1322.45 Q898.719 1319.77 895.339 1319.77 Q891.959 1319.77 890.015 1322.45 Q888.094 1325.12 888.094 1329.82 Z\" fill=\"#000000\" fill-rule=\"nonzero\" fill-opacity=\"1\" /><path clip-path=\"url(#clip840)\" d=\"M935.57 1312.04 L935.57 1325.02 L941.45 1325.02 Q944.714 1325.02 946.496 1323.33 Q948.278 1321.64 948.278 1318.52 Q948.278 1315.42 946.496 1313.73 Q944.714 1312.04 941.45 1312.04 L935.57 1312.04 M930.894 1308.2 L941.45 1308.2 Q947.26 1308.2 950.223 1310.83 Q953.209 1313.45 953.209 1318.52 Q953.209 1323.64 950.223 1326.25 Q947.26 1328.87 941.45 1328.87 L935.57 1328.87 L935.57 1342.76 L930.894 1342.76 L930.894 1308.2 Z\" fill=\"#000000\" fill-rule=\"nonzero\" fill-opacity=\"1\" /><path clip-path=\"url(#clip840)\" d=\"M967.653 1319.82 Q964.227 1319.82 962.237 1322.5 Q960.246 1325.16 960.246 1329.82 Q960.246 1334.47 962.214 1337.15 Q964.204 1339.82 967.653 1339.82 Q971.056 1339.82 973.047 1337.13 Q975.038 1334.45 975.038 1329.82 Q975.038 1325.21 973.047 1322.52 Q971.056 1319.82 967.653 1319.82 M967.653 1316.2 Q973.209 1316.2 976.38 1319.82 Q979.551 1323.43 979.551 1329.82 Q979.551 1336.18 976.38 1339.82 Q973.209 1343.43 967.653 1343.43 Q962.075 1343.43 958.903 1339.82 Q955.755 1336.18 955.755 1329.82 Q955.755 1323.43 958.903 1319.82 Q962.075 1316.2 967.653 1316.2 Z\" fill=\"#000000\" fill-rule=\"nonzero\" fill-opacity=\"1\" /><path clip-path=\"url(#clip840)\" d=\"M1001.63 1320.81 Q1000.92 1320.39 1000.06 1320.21 Q999.227 1320 998.209 1320 Q994.598 1320 992.653 1322.36 Q990.732 1324.7 990.732 1329.1 L990.732 1342.76 L986.45 1342.76 L986.45 1316.83 L990.732 1316.83 L990.732 1320.86 Q992.075 1318.5 994.227 1317.36 Q996.38 1316.2 999.459 1316.2 Q999.899 1316.2 1000.43 1316.27 Q1000.96 1316.32 1001.61 1316.44 L1001.63 1320.81 Z\" fill=\"#000000\" fill-rule=\"nonzero\" fill-opacity=\"1\" /><path clip-path=\"url(#clip840)\" d=\"M1010.32 1309.47 L1010.32 1316.83 L1019.09 1316.83 L1019.09 1320.14 L1010.32 1320.14 L1010.32 1334.21 Q1010.32 1337.38 1011.17 1338.29 Q1012.05 1339.19 1014.71 1339.19 L1019.09 1339.19 L1019.09 1342.76 L1014.71 1342.76 Q1009.78 1342.76 1007.91 1340.93 Q1006.03 1339.07 1006.03 1334.21 L1006.03 1320.14 L1002.91 1320.14 L1002.91 1316.83 L1006.03 1316.83 L1006.03 1309.47 L1010.32 1309.47 Z\" fill=\"#000000\" fill-rule=\"nonzero\" fill-opacity=\"1\" /><path clip-path=\"url(#clip840)\" d=\"M1037.81 1306.74 L1037.81 1310.28 L1033.74 1310.28 Q1031.45 1310.28 1030.55 1311.2 Q1029.67 1312.13 1029.67 1314.54 L1029.67 1316.83 L1036.68 1316.83 L1036.68 1320.14 L1029.67 1320.14 L1029.67 1342.76 L1025.38 1342.76 L1025.38 1320.14 L1021.31 1320.14 L1021.31 1316.83 L1025.38 1316.83 L1025.38 1315.02 Q1025.38 1310.7 1027.4 1308.73 Q1029.41 1306.74 1033.79 1306.74 L1037.81 1306.74 Z\" fill=\"#000000\" fill-rule=\"nonzero\" fill-opacity=\"1\" /><path clip-path=\"url(#clip840)\" d=\"M1051.43 1319.82 Q1048 1319.82 1046.01 1322.5 Q1044.02 1325.16 1044.02 1329.82 Q1044.02 1334.47 1045.99 1337.15 Q1047.98 1339.82 1051.43 1339.82 Q1054.83 1339.82 1056.82 1337.13 Q1058.81 1334.45 1058.81 1329.82 Q1058.81 1325.21 1056.82 1322.52 Q1054.83 1319.82 1051.43 1319.82 M1051.43 1316.2 Q1056.98 1316.2 1060.15 1319.82 Q1063.32 1323.43 1063.32 1329.82 Q1063.32 1336.18 1060.15 1339.82 Q1056.98 1343.43 1051.43 1343.43 Q1045.85 1343.43 1042.68 1339.82 Q1039.53 1336.18 1039.53 1329.82 Q1039.53 1323.43 1042.68 1319.82 Q1045.85 1316.2 1051.43 1316.2 Z\" fill=\"#000000\" fill-rule=\"nonzero\" fill-opacity=\"1\" /><path clip-path=\"url(#clip840)\" d=\"M1070.38 1306.74 L1074.64 1306.74 L1074.64 1342.76 L1070.38 1342.76 L1070.38 1306.74 Z\" fill=\"#000000\" fill-rule=\"nonzero\" fill-opacity=\"1\" /><path clip-path=\"url(#clip840)\" d=\"M1083.56 1316.83 L1087.81 1316.83 L1087.81 1342.76 L1083.56 1342.76 L1083.56 1316.83 M1083.56 1306.74 L1087.81 1306.74 L1087.81 1312.13 L1083.56 1312.13 L1083.56 1306.74 Z\" fill=\"#000000\" fill-rule=\"nonzero\" fill-opacity=\"1\" /><path clip-path=\"url(#clip840)\" d=\"M1106.77 1319.82 Q1103.35 1319.82 1101.36 1322.5 Q1099.37 1325.16 1099.37 1329.82 Q1099.37 1334.47 1101.33 1337.15 Q1103.32 1339.82 1106.77 1339.82 Q1110.18 1339.82 1112.17 1337.13 Q1114.16 1334.45 1114.16 1329.82 Q1114.16 1325.21 1112.17 1322.52 Q1110.18 1319.82 1106.77 1319.82 M1106.77 1316.2 Q1112.33 1316.2 1115.5 1319.82 Q1118.67 1323.43 1118.67 1329.82 Q1118.67 1336.18 1115.5 1339.82 Q1112.33 1343.43 1106.77 1343.43 Q1101.19 1343.43 1098.02 1339.82 Q1094.87 1336.18 1094.87 1329.82 Q1094.87 1323.43 1098.02 1319.82 Q1101.19 1316.2 1106.77 1316.2 Z\" fill=\"#000000\" fill-rule=\"nonzero\" fill-opacity=\"1\" /></svg>\n"
      ],
      "text/html": [
       "<?xml version=\"1.0\" encoding=\"utf-8\"?>\n",
       "<svg xmlns=\"http://www.w3.org/2000/svg\" xmlns:xlink=\"http://www.w3.org/1999/xlink\" width=\"600\" height=\"400\" viewBox=\"0 0 2400 1600\">\n",
       "<defs>\n",
       "  <clipPath id=\"clip890\">\n",
       "    <rect x=\"0\" y=\"0\" width=\"2400\" height=\"1600\"/>\n",
       "  </clipPath>\n",
       "</defs>\n",
       "<path clip-path=\"url(#clip890)\" d=\"M0 1600 L2400 1600 L2400 0 L0 0  Z\" fill=\"#ffffff\" fill-rule=\"evenodd\" fill-opacity=\"1\"/>\n",
       "<defs>\n",
       "  <clipPath id=\"clip891\">\n",
       "    <rect x=\"480\" y=\"0\" width=\"1681\" height=\"1600\"/>\n",
       "  </clipPath>\n",
       "</defs>\n",
       "<path clip-path=\"url(#clip890)\" d=\"M399.793 1423.18 L2352.76 1423.18 L2352.76 47.2441 L399.793 47.2441  Z\" fill=\"#ffffff\" fill-rule=\"evenodd\" fill-opacity=\"1\"/>\n",
       "<defs>\n",
       "  <clipPath id=\"clip892\">\n",
       "    <rect x=\"399\" y=\"47\" width=\"1954\" height=\"1377\"/>\n",
       "  </clipPath>\n",
       "</defs>\n",
       "<polyline clip-path=\"url(#clip892)\" style=\"stroke:#000000; stroke-linecap:round; stroke-linejoin:round; stroke-width:2; stroke-opacity:0.1; fill:none\" points=\"446.985,1423.18 446.985,47.2441 \"/>\n",
       "<polyline clip-path=\"url(#clip892)\" style=\"stroke:#000000; stroke-linecap:round; stroke-linejoin:round; stroke-width:2; stroke-opacity:0.1; fill:none\" points=\"851.024,1423.18 851.024,47.2441 \"/>\n",
       "<polyline clip-path=\"url(#clip892)\" style=\"stroke:#000000; stroke-linecap:round; stroke-linejoin:round; stroke-width:2; stroke-opacity:0.1; fill:none\" points=\"1255.06,1423.18 1255.06,47.2441 \"/>\n",
       "<polyline clip-path=\"url(#clip892)\" style=\"stroke:#000000; stroke-linecap:round; stroke-linejoin:round; stroke-width:2; stroke-opacity:0.1; fill:none\" points=\"1659.1,1423.18 1659.1,47.2441 \"/>\n",
       "<polyline clip-path=\"url(#clip892)\" style=\"stroke:#000000; stroke-linecap:round; stroke-linejoin:round; stroke-width:2; stroke-opacity:0.1; fill:none\" points=\"2063.14,1423.18 2063.14,47.2441 \"/>\n",
       "<polyline clip-path=\"url(#clip890)\" style=\"stroke:#000000; stroke-linecap:round; stroke-linejoin:round; stroke-width:4; stroke-opacity:1; fill:none\" points=\"399.793,1423.18 2352.76,1423.18 \"/>\n",
       "<polyline clip-path=\"url(#clip890)\" style=\"stroke:#000000; stroke-linecap:round; stroke-linejoin:round; stroke-width:4; stroke-opacity:1; fill:none\" points=\"446.985,1423.18 446.985,1404.28 \"/>\n",
       "<polyline clip-path=\"url(#clip890)\" style=\"stroke:#000000; stroke-linecap:round; stroke-linejoin:round; stroke-width:4; stroke-opacity:1; fill:none\" points=\"851.024,1423.18 851.024,1404.28 \"/>\n",
       "<polyline clip-path=\"url(#clip890)\" style=\"stroke:#000000; stroke-linecap:round; stroke-linejoin:round; stroke-width:4; stroke-opacity:1; fill:none\" points=\"1255.06,1423.18 1255.06,1404.28 \"/>\n",
       "<polyline clip-path=\"url(#clip890)\" style=\"stroke:#000000; stroke-linecap:round; stroke-linejoin:round; stroke-width:4; stroke-opacity:1; fill:none\" points=\"1659.1,1423.18 1659.1,1404.28 \"/>\n",
       "<polyline clip-path=\"url(#clip890)\" style=\"stroke:#000000; stroke-linecap:round; stroke-linejoin:round; stroke-width:4; stroke-opacity:1; fill:none\" points=\"2063.14,1423.18 2063.14,1404.28 \"/>\n",
       "<path clip-path=\"url(#clip890)\" d=\"M446.985 1454.1 Q443.374 1454.1 441.545 1457.66 Q439.739 1461.2 439.739 1468.33 Q439.739 1475.44 441.545 1479.01 Q443.374 1482.55 446.985 1482.55 Q450.619 1482.55 452.425 1479.01 Q454.253 1475.44 454.253 1468.33 Q454.253 1461.2 452.425 1457.66 Q450.619 1454.1 446.985 1454.1 M446.985 1450.39 Q452.795 1450.39 455.85 1455 Q458.929 1459.58 458.929 1468.33 Q458.929 1477.06 455.85 1481.67 Q452.795 1486.25 446.985 1486.25 Q441.175 1486.25 438.096 1481.67 Q435.04 1477.06 435.04 1468.33 Q435.04 1459.58 438.096 1455 Q441.175 1450.39 446.985 1450.39 Z\" fill=\"#000000\" fill-rule=\"nonzero\" fill-opacity=\"1\" /><path clip-path=\"url(#clip890)\" d=\"M825.723 1451.02 L844.079 1451.02 L844.079 1454.96 L830.005 1454.96 L830.005 1463.43 Q831.024 1463.08 832.042 1462.92 Q833.061 1462.73 834.079 1462.73 Q839.866 1462.73 843.246 1465.9 Q846.626 1469.08 846.626 1474.49 Q846.626 1480.07 843.153 1483.17 Q839.681 1486.25 833.362 1486.25 Q831.186 1486.25 828.917 1485.88 Q826.672 1485.51 824.265 1484.77 L824.265 1480.07 Q826.348 1481.2 828.57 1481.76 Q830.792 1482.32 833.269 1482.32 Q837.274 1482.32 839.612 1480.21 Q841.95 1478.1 841.95 1474.49 Q841.95 1470.88 839.612 1468.77 Q837.274 1466.67 833.269 1466.67 Q831.394 1466.67 829.519 1467.08 Q827.667 1467.5 825.723 1468.38 L825.723 1451.02 Z\" fill=\"#000000\" fill-rule=\"nonzero\" fill-opacity=\"1\" /><path clip-path=\"url(#clip890)\" d=\"M865.838 1454.1 Q862.227 1454.1 860.399 1457.66 Q858.593 1461.2 858.593 1468.33 Q858.593 1475.44 860.399 1479.01 Q862.227 1482.55 865.838 1482.55 Q869.473 1482.55 871.278 1479.01 Q873.107 1475.44 873.107 1468.33 Q873.107 1461.2 871.278 1457.66 Q869.473 1454.1 865.838 1454.1 M865.838 1450.39 Q871.649 1450.39 874.704 1455 Q877.783 1459.58 877.783 1468.33 Q877.783 1477.06 874.704 1481.67 Q871.649 1486.25 865.838 1486.25 Q860.028 1486.25 856.95 1481.67 Q853.894 1477.06 853.894 1468.33 Q853.894 1459.58 856.95 1455 Q860.028 1450.39 865.838 1450.39 Z\" fill=\"#000000\" fill-rule=\"nonzero\" fill-opacity=\"1\" /><path clip-path=\"url(#clip890)\" d=\"M1214.67 1481.64 L1222.31 1481.64 L1222.31 1455.28 L1214 1456.95 L1214 1452.69 L1222.26 1451.02 L1226.94 1451.02 L1226.94 1481.64 L1234.58 1481.64 L1234.58 1485.58 L1214.67 1485.58 L1214.67 1481.64 Z\" fill=\"#000000\" fill-rule=\"nonzero\" fill-opacity=\"1\" /><path clip-path=\"url(#clip890)\" d=\"M1254.02 1454.1 Q1250.41 1454.1 1248.58 1457.66 Q1246.78 1461.2 1246.78 1468.33 Q1246.78 1475.44 1248.58 1479.01 Q1250.41 1482.55 1254.02 1482.55 Q1257.66 1482.55 1259.46 1479.01 Q1261.29 1475.44 1261.29 1468.33 Q1261.29 1461.2 1259.46 1457.66 Q1257.66 1454.1 1254.02 1454.1 M1254.02 1450.39 Q1259.83 1450.39 1262.89 1455 Q1265.97 1459.58 1265.97 1468.33 Q1265.97 1477.06 1262.89 1481.67 Q1259.83 1486.25 1254.02 1486.25 Q1248.21 1486.25 1245.13 1481.67 Q1242.08 1477.06 1242.08 1468.33 Q1242.08 1459.58 1245.13 1455 Q1248.21 1450.39 1254.02 1450.39 Z\" fill=\"#000000\" fill-rule=\"nonzero\" fill-opacity=\"1\" /><path clip-path=\"url(#clip890)\" d=\"M1284.18 1454.1 Q1280.57 1454.1 1278.74 1457.66 Q1276.94 1461.2 1276.94 1468.33 Q1276.94 1475.44 1278.74 1479.01 Q1280.57 1482.55 1284.18 1482.55 Q1287.82 1482.55 1289.62 1479.01 Q1291.45 1475.44 1291.45 1468.33 Q1291.45 1461.2 1289.62 1457.66 Q1287.82 1454.1 1284.18 1454.1 M1284.18 1450.39 Q1289.99 1450.39 1293.05 1455 Q1296.13 1459.58 1296.13 1468.33 Q1296.13 1477.06 1293.05 1481.67 Q1289.99 1486.25 1284.18 1486.25 Q1278.37 1486.25 1275.29 1481.67 Q1272.24 1477.06 1272.24 1468.33 Q1272.24 1459.58 1275.29 1455 Q1278.37 1450.39 1284.18 1450.39 Z\" fill=\"#000000\" fill-rule=\"nonzero\" fill-opacity=\"1\" /><path clip-path=\"url(#clip890)\" d=\"M1618.71 1481.64 L1626.35 1481.64 L1626.35 1455.28 L1618.04 1456.95 L1618.04 1452.69 L1626.3 1451.02 L1630.98 1451.02 L1630.98 1481.64 L1638.62 1481.64 L1638.62 1485.58 L1618.71 1485.58 L1618.71 1481.64 Z\" fill=\"#000000\" fill-rule=\"nonzero\" fill-opacity=\"1\" /><path clip-path=\"url(#clip890)\" d=\"M1648.11 1451.02 L1666.46 1451.02 L1666.46 1454.96 L1652.39 1454.96 L1652.39 1463.43 Q1653.41 1463.08 1654.43 1462.92 Q1655.44 1462.73 1656.46 1462.73 Q1662.25 1462.73 1665.63 1465.9 Q1669.01 1469.08 1669.01 1474.49 Q1669.01 1480.07 1665.54 1483.17 Q1662.06 1486.25 1655.75 1486.25 Q1653.57 1486.25 1651.3 1485.88 Q1649.06 1485.51 1646.65 1484.77 L1646.65 1480.07 Q1648.73 1481.2 1650.95 1481.76 Q1653.18 1482.32 1655.65 1482.32 Q1659.66 1482.32 1662 1480.21 Q1664.33 1478.1 1664.33 1474.49 Q1664.33 1470.88 1662 1468.77 Q1659.66 1466.67 1655.65 1466.67 Q1653.78 1466.67 1651.9 1467.08 Q1650.05 1467.5 1648.11 1468.38 L1648.11 1451.02 Z\" fill=\"#000000\" fill-rule=\"nonzero\" fill-opacity=\"1\" /><path clip-path=\"url(#clip890)\" d=\"M1688.22 1454.1 Q1684.61 1454.1 1682.78 1457.66 Q1680.98 1461.2 1680.98 1468.33 Q1680.98 1475.44 1682.78 1479.01 Q1684.61 1482.55 1688.22 1482.55 Q1691.86 1482.55 1693.66 1479.01 Q1695.49 1475.44 1695.49 1468.33 Q1695.49 1461.2 1693.66 1457.66 Q1691.86 1454.1 1688.22 1454.1 M1688.22 1450.39 Q1694.03 1450.39 1697.09 1455 Q1700.17 1459.58 1700.17 1468.33 Q1700.17 1477.06 1697.09 1481.67 Q1694.03 1486.25 1688.22 1486.25 Q1682.41 1486.25 1679.33 1481.67 Q1676.28 1477.06 1676.28 1468.33 Q1676.28 1459.58 1679.33 1455 Q1682.41 1450.39 1688.22 1450.39 Z\" fill=\"#000000\" fill-rule=\"nonzero\" fill-opacity=\"1\" /><path clip-path=\"url(#clip890)\" d=\"M2026.83 1481.64 L2043.15 1481.64 L2043.15 1485.58 L2021.21 1485.58 L2021.21 1481.64 Q2023.87 1478.89 2028.45 1474.26 Q2033.06 1469.61 2034.24 1468.27 Q2036.49 1465.74 2037.37 1464.01 Q2038.27 1462.25 2038.27 1460.56 Q2038.27 1457.8 2036.32 1456.07 Q2034.4 1454.33 2031.3 1454.33 Q2029.1 1454.33 2026.65 1455.09 Q2024.22 1455.86 2021.44 1457.41 L2021.44 1452.69 Q2024.26 1451.55 2026.72 1450.97 Q2029.17 1450.39 2031.21 1450.39 Q2036.58 1450.39 2039.77 1453.08 Q2042.97 1455.77 2042.97 1460.26 Q2042.97 1462.39 2042.16 1464.31 Q2041.37 1466.2 2039.26 1468.8 Q2038.68 1469.47 2035.58 1472.69 Q2032.48 1475.88 2026.83 1481.64 Z\" fill=\"#000000\" fill-rule=\"nonzero\" fill-opacity=\"1\" /><path clip-path=\"url(#clip890)\" d=\"M2062.97 1454.1 Q2059.36 1454.1 2057.53 1457.66 Q2055.72 1461.2 2055.72 1468.33 Q2055.72 1475.44 2057.53 1479.01 Q2059.36 1482.55 2062.97 1482.55 Q2066.6 1482.55 2068.41 1479.01 Q2070.24 1475.44 2070.24 1468.33 Q2070.24 1461.2 2068.41 1457.66 Q2066.6 1454.1 2062.97 1454.1 M2062.97 1450.39 Q2068.78 1450.39 2071.83 1455 Q2074.91 1459.58 2074.91 1468.33 Q2074.91 1477.06 2071.83 1481.67 Q2068.78 1486.25 2062.97 1486.25 Q2057.16 1486.25 2054.08 1481.67 Q2051.02 1477.06 2051.02 1468.33 Q2051.02 1459.58 2054.08 1455 Q2057.16 1450.39 2062.97 1450.39 Z\" fill=\"#000000\" fill-rule=\"nonzero\" fill-opacity=\"1\" /><path clip-path=\"url(#clip890)\" d=\"M2093.13 1454.1 Q2089.52 1454.1 2087.69 1457.66 Q2085.88 1461.2 2085.88 1468.33 Q2085.88 1475.44 2087.69 1479.01 Q2089.52 1482.55 2093.13 1482.55 Q2096.76 1482.55 2098.57 1479.01 Q2100.4 1475.44 2100.4 1468.33 Q2100.4 1461.2 2098.57 1457.66 Q2096.76 1454.1 2093.13 1454.1 M2093.13 1450.39 Q2098.94 1450.39 2101.99 1455 Q2105.07 1459.58 2105.07 1468.33 Q2105.07 1477.06 2101.99 1481.67 Q2098.94 1486.25 2093.13 1486.25 Q2087.32 1486.25 2084.24 1481.67 Q2081.18 1477.06 2081.18 1468.33 Q2081.18 1459.58 2084.24 1455 Q2087.32 1450.39 2093.13 1450.39 Z\" fill=\"#000000\" fill-rule=\"nonzero\" fill-opacity=\"1\" /><path clip-path=\"url(#clip890)\" d=\"M1065.95 1520.52 L1106.15 1520.52 L1106.15 1525.93 L1089.28 1525.93 L1089.28 1568.04 L1082.82 1568.04 L1082.82 1525.93 L1065.95 1525.93 L1065.95 1520.52 Z\" fill=\"#000000\" fill-rule=\"nonzero\" fill-opacity=\"1\" /><path clip-path=\"url(#clip890)\" d=\"M1123.17 1537.87 Q1122.19 1537.3 1121.01 1537.04 Q1119.86 1536.76 1118.46 1536.76 Q1113.5 1536.76 1110.82 1540 Q1108.18 1543.22 1108.18 1549.27 L1108.18 1568.04 L1102.29 1568.04 L1102.29 1532.4 L1108.18 1532.4 L1108.18 1537.93 Q1110.03 1534.69 1112.99 1533.13 Q1115.95 1531.54 1120.18 1531.54 Q1120.79 1531.54 1121.52 1531.63 Q1122.25 1531.7 1123.14 1531.85 L1123.17 1537.87 Z\" fill=\"#000000\" fill-rule=\"nonzero\" fill-opacity=\"1\" /><path clip-path=\"url(#clip890)\" d=\"M1145.52 1550.12 Q1138.42 1550.12 1135.68 1551.75 Q1132.95 1553.37 1132.95 1557.29 Q1132.95 1560.4 1134.98 1562.25 Q1137.05 1564.07 1140.58 1564.07 Q1145.45 1564.07 1148.38 1560.63 Q1151.34 1557.16 1151.34 1551.43 L1151.34 1550.12 L1145.52 1550.12 M1157.2 1547.71 L1157.2 1568.04 L1151.34 1568.04 L1151.34 1562.63 Q1149.34 1565.88 1146.35 1567.44 Q1143.35 1568.97 1139.02 1568.97 Q1133.55 1568.97 1130.3 1565.91 Q1127.09 1562.82 1127.09 1557.67 Q1127.09 1551.65 1131.1 1548.6 Q1135.14 1545.54 1143.13 1545.54 L1151.34 1545.54 L1151.34 1544.97 Q1151.34 1540.93 1148.67 1538.73 Q1146.03 1536.5 1141.22 1536.5 Q1138.17 1536.5 1135.27 1537.23 Q1132.37 1537.97 1129.7 1539.43 L1129.7 1534.02 Q1132.91 1532.78 1135.94 1532.17 Q1138.96 1531.54 1141.83 1531.54 Q1149.56 1531.54 1153.38 1535.55 Q1157.2 1539.56 1157.2 1547.71 Z\" fill=\"#000000\" fill-rule=\"nonzero\" fill-opacity=\"1\" /><path clip-path=\"url(#clip890)\" d=\"M1192.72 1537.81 L1192.72 1518.52 L1198.58 1518.52 L1198.58 1568.04 L1192.72 1568.04 L1192.72 1562.7 Q1190.87 1565.88 1188.04 1567.44 Q1185.24 1568.97 1181.29 1568.97 Q1174.83 1568.97 1170.76 1563.81 Q1166.72 1558.65 1166.72 1550.25 Q1166.72 1541.85 1170.76 1536.69 Q1174.83 1531.54 1181.29 1531.54 Q1185.24 1531.54 1188.04 1533.1 Q1190.87 1534.62 1192.72 1537.81 M1172.76 1550.25 Q1172.76 1556.71 1175.4 1560.4 Q1178.08 1564.07 1182.73 1564.07 Q1187.37 1564.07 1190.05 1560.4 Q1192.72 1556.71 1192.72 1550.25 Q1192.72 1543.79 1190.05 1540.13 Q1187.37 1536.44 1182.73 1536.44 Q1178.08 1536.44 1175.4 1540.13 Q1172.76 1543.79 1172.76 1550.25 Z\" fill=\"#000000\" fill-rule=\"nonzero\" fill-opacity=\"1\" /><path clip-path=\"url(#clip890)\" d=\"M1210.64 1532.4 L1216.5 1532.4 L1216.5 1568.04 L1210.64 1568.04 L1210.64 1532.4 M1210.64 1518.52 L1216.5 1518.52 L1216.5 1525.93 L1210.64 1525.93 L1210.64 1518.52 Z\" fill=\"#000000\" fill-rule=\"nonzero\" fill-opacity=\"1\" /><path clip-path=\"url(#clip890)\" d=\"M1258.38 1546.53 L1258.38 1568.04 L1252.53 1568.04 L1252.53 1546.72 Q1252.53 1541.66 1250.55 1539.14 Q1248.58 1536.63 1244.63 1536.63 Q1239.89 1536.63 1237.15 1539.65 Q1234.41 1542.68 1234.41 1547.9 L1234.41 1568.04 L1228.53 1568.04 L1228.53 1532.4 L1234.41 1532.4 L1234.41 1537.93 Q1236.52 1534.72 1239.35 1533.13 Q1242.21 1531.54 1245.94 1531.54 Q1252.08 1531.54 1255.23 1535.36 Q1258.38 1539.14 1258.38 1546.53 Z\" fill=\"#000000\" fill-rule=\"nonzero\" fill-opacity=\"1\" /><path clip-path=\"url(#clip890)\" d=\"M1293.52 1549.81 Q1293.52 1543.44 1290.88 1539.94 Q1288.27 1536.44 1283.53 1536.44 Q1278.82 1536.44 1276.17 1539.94 Q1273.56 1543.44 1273.56 1549.81 Q1273.56 1556.14 1276.17 1559.64 Q1278.82 1563.14 1283.53 1563.14 Q1288.27 1563.14 1290.88 1559.64 Q1293.52 1556.14 1293.52 1549.81 M1299.38 1563.62 Q1299.38 1572.72 1295.33 1577.15 Q1291.29 1581.6 1282.95 1581.6 Q1279.87 1581.6 1277.13 1581.13 Q1274.39 1580.68 1271.81 1579.72 L1271.81 1574.03 Q1274.39 1575.43 1276.91 1576.1 Q1279.42 1576.76 1282.03 1576.76 Q1287.79 1576.76 1290.66 1573.74 Q1293.52 1570.75 1293.52 1564.67 L1293.52 1561.77 Q1291.71 1564.92 1288.87 1566.48 Q1286.04 1568.04 1282.09 1568.04 Q1275.54 1568.04 1271.53 1563.05 Q1267.52 1558.05 1267.52 1549.81 Q1267.52 1541.53 1271.53 1536.53 Q1275.54 1531.54 1282.09 1531.54 Q1286.04 1531.54 1288.87 1533.1 Q1291.71 1534.66 1293.52 1537.81 L1293.52 1532.4 L1299.38 1532.4 L1299.38 1563.62 Z\" fill=\"#000000\" fill-rule=\"nonzero\" fill-opacity=\"1\" /><path clip-path=\"url(#clip890)\" d=\"M1338.84 1525.81 L1338.84 1562.76 L1346.61 1562.76 Q1356.45 1562.76 1361 1558.3 Q1365.58 1553.85 1365.58 1544.24 Q1365.58 1534.69 1361 1530.26 Q1356.45 1525.81 1346.61 1525.81 L1338.84 1525.81 M1332.41 1520.52 L1345.62 1520.52 Q1359.44 1520.52 1365.9 1526.28 Q1372.36 1532.01 1372.36 1544.24 Q1372.36 1556.52 1365.87 1562.28 Q1359.37 1568.04 1345.62 1568.04 L1332.41 1568.04 L1332.41 1520.52 Z\" fill=\"#000000\" fill-rule=\"nonzero\" fill-opacity=\"1\" /><path clip-path=\"url(#clip890)\" d=\"M1398.55 1550.12 Q1391.46 1550.12 1388.72 1551.75 Q1385.98 1553.37 1385.98 1557.29 Q1385.98 1560.4 1388.02 1562.25 Q1390.09 1564.07 1393.62 1564.07 Q1398.49 1564.07 1401.42 1560.63 Q1404.38 1557.16 1404.38 1551.43 L1404.38 1550.12 L1398.55 1550.12 M1410.24 1547.71 L1410.24 1568.04 L1404.38 1568.04 L1404.38 1562.63 Q1402.37 1565.88 1399.38 1567.44 Q1396.39 1568.97 1392.06 1568.97 Q1386.59 1568.97 1383.34 1565.91 Q1380.13 1562.82 1380.13 1557.67 Q1380.13 1551.65 1384.14 1548.6 Q1388.18 1545.54 1396.17 1545.54 L1404.38 1545.54 L1404.38 1544.97 Q1404.38 1540.93 1401.71 1538.73 Q1399.06 1536.5 1394.26 1536.5 Q1391.2 1536.5 1388.31 1537.23 Q1385.41 1537.97 1382.74 1539.43 L1382.74 1534.02 Q1385.95 1532.78 1388.97 1532.17 Q1392 1531.54 1394.86 1531.54 Q1402.6 1531.54 1406.42 1535.55 Q1410.24 1539.56 1410.24 1547.71 Z\" fill=\"#000000\" fill-rule=\"nonzero\" fill-opacity=\"1\" /><path clip-path=\"url(#clip890)\" d=\"M1437.13 1571.35 Q1434.65 1577.72 1432.29 1579.66 Q1429.94 1581.6 1425.99 1581.6 L1421.31 1581.6 L1421.31 1576.7 L1424.75 1576.7 Q1427.17 1576.7 1428.51 1575.56 Q1429.84 1574.41 1431.47 1570.14 L1432.52 1567.47 L1418.1 1532.4 L1424.3 1532.4 L1435.44 1560.28 L1446.58 1532.4 L1452.79 1532.4 L1437.13 1571.35 Z\" fill=\"#000000\" fill-rule=\"nonzero\" fill-opacity=\"1\" /><path clip-path=\"url(#clip890)\" d=\"M1495.66 1518.58 Q1491.4 1525.9 1489.33 1533.06 Q1487.26 1540.23 1487.26 1547.58 Q1487.26 1554.93 1489.33 1562.16 Q1491.43 1569.35 1495.66 1576.64 L1490.57 1576.64 Q1485.8 1569.16 1483.41 1561.93 Q1481.05 1554.71 1481.05 1547.58 Q1481.05 1540.48 1483.41 1533.29 Q1485.76 1526.09 1490.57 1518.58 L1495.66 1518.58 Z\" fill=\"#000000\" fill-rule=\"nonzero\" fill-opacity=\"1\" /><path clip-path=\"url(#clip890)\" d=\"M1513.39 1562.63 L1535.83 1562.63 L1535.83 1568.04 L1505.66 1568.04 L1505.66 1562.63 Q1509.32 1558.85 1515.62 1552.48 Q1521.95 1546.08 1523.58 1544.24 Q1526.66 1540.77 1527.87 1538.38 Q1529.12 1535.96 1529.12 1533.64 Q1529.12 1529.85 1526.44 1527.46 Q1523.8 1525.08 1519.53 1525.08 Q1516.51 1525.08 1513.14 1526.13 Q1509.8 1527.18 1505.98 1529.31 L1505.98 1522.82 Q1509.86 1521.26 1513.23 1520.46 Q1516.61 1519.66 1519.41 1519.66 Q1526.79 1519.66 1531.18 1523.36 Q1535.58 1527.05 1535.58 1533.22 Q1535.58 1536.15 1534.46 1538.79 Q1533.38 1541.4 1530.48 1544.97 Q1529.69 1545.89 1525.42 1550.32 Q1521.16 1554.71 1513.39 1562.63 Z\" fill=\"#000000\" fill-rule=\"nonzero\" fill-opacity=\"1\" /><path clip-path=\"url(#clip890)\" d=\"M1563.08 1524.76 Q1558.11 1524.76 1555.6 1529.66 Q1553.11 1534.53 1553.11 1544.33 Q1553.11 1554.1 1555.6 1559 Q1558.11 1563.87 1563.08 1563.87 Q1568.07 1563.87 1570.56 1559 Q1573.07 1554.1 1573.07 1544.33 Q1573.07 1534.53 1570.56 1529.66 Q1568.07 1524.76 1563.08 1524.76 M1563.08 1519.66 Q1571.07 1519.66 1575.27 1526 Q1579.5 1532.3 1579.5 1544.33 Q1579.5 1556.33 1575.27 1562.66 Q1571.07 1568.97 1563.08 1568.97 Q1555.09 1568.97 1550.85 1562.66 Q1546.65 1556.33 1546.65 1544.33 Q1546.65 1532.3 1550.85 1526 Q1555.09 1519.66 1563.08 1519.66 Z\" fill=\"#000000\" fill-rule=\"nonzero\" fill-opacity=\"1\" /><path clip-path=\"url(#clip890)\" d=\"M1596.34 1562.63 L1618.78 1562.63 L1618.78 1568.04 L1588.6 1568.04 L1588.6 1562.63 Q1592.26 1558.85 1598.56 1552.48 Q1604.9 1546.08 1606.52 1544.24 Q1609.61 1540.77 1610.82 1538.38 Q1612.06 1535.96 1612.06 1533.64 Q1612.06 1529.85 1609.39 1527.46 Q1606.74 1525.08 1602.48 1525.08 Q1599.46 1525.08 1596.08 1526.13 Q1592.74 1527.18 1588.92 1529.31 L1588.92 1522.82 Q1592.8 1521.26 1596.18 1520.46 Q1599.55 1519.66 1602.35 1519.66 Q1609.74 1519.66 1614.13 1523.36 Q1618.52 1527.05 1618.52 1533.22 Q1618.52 1536.15 1617.41 1538.79 Q1616.33 1541.4 1613.43 1544.97 Q1612.63 1545.89 1608.37 1550.32 Q1604.1 1554.71 1596.34 1562.63 Z\" fill=\"#000000\" fill-rule=\"nonzero\" fill-opacity=\"1\" /><path clip-path=\"url(#clip890)\" d=\"M1651.75 1542.42 Q1656.37 1543.41 1658.94 1546.53 Q1661.55 1549.65 1661.55 1554.23 Q1661.55 1561.26 1656.72 1565.12 Q1651.88 1568.97 1642.97 1568.97 Q1639.97 1568.97 1636.79 1568.36 Q1633.64 1567.79 1630.27 1566.61 L1630.27 1560.4 Q1632.94 1561.96 1636.12 1562.76 Q1639.31 1563.56 1642.77 1563.56 Q1648.82 1563.56 1651.97 1561.17 Q1655.16 1558.78 1655.16 1554.23 Q1655.16 1550.03 1652.2 1547.67 Q1649.27 1545.29 1644.02 1545.29 L1638.48 1545.29 L1638.48 1540 L1644.27 1540 Q1649.01 1540 1651.53 1538.13 Q1654.04 1536.22 1654.04 1532.65 Q1654.04 1528.99 1651.43 1527.05 Q1648.85 1525.08 1644.02 1525.08 Q1641.37 1525.08 1638.35 1525.65 Q1635.33 1526.22 1631.7 1527.43 L1631.7 1521.7 Q1635.36 1520.68 1638.54 1520.17 Q1641.76 1519.66 1644.59 1519.66 Q1651.91 1519.66 1656.17 1523.01 Q1660.44 1526.32 1660.44 1531.98 Q1660.44 1535.93 1658.18 1538.67 Q1655.92 1541.37 1651.75 1542.42 Z\" fill=\"#000000\" fill-rule=\"nonzero\" fill-opacity=\"1\" /><path clip-path=\"url(#clip890)\" d=\"M1671.99 1518.58 L1677.09 1518.58 Q1681.86 1526.09 1684.22 1533.29 Q1686.6 1540.48 1686.6 1547.58 Q1686.6 1554.71 1684.22 1561.93 Q1681.86 1569.16 1677.09 1576.64 L1671.99 1576.64 Q1676.23 1569.35 1678.3 1562.16 Q1680.4 1554.93 1680.4 1547.58 Q1680.4 1540.23 1678.3 1533.06 Q1676.23 1525.9 1671.99 1518.58 Z\" fill=\"#000000\" fill-rule=\"nonzero\" fill-opacity=\"1\" /><polyline clip-path=\"url(#clip892)\" style=\"stroke:#000000; stroke-linecap:round; stroke-linejoin:round; stroke-width:2; stroke-opacity:0.1; fill:none\" points=\"399.793,1298.82 2352.76,1298.82 \"/>\n",
       "<polyline clip-path=\"url(#clip892)\" style=\"stroke:#000000; stroke-linecap:round; stroke-linejoin:round; stroke-width:2; stroke-opacity:0.1; fill:none\" points=\"399.793,894.61 2352.76,894.61 \"/>\n",
       "<polyline clip-path=\"url(#clip892)\" style=\"stroke:#000000; stroke-linecap:round; stroke-linejoin:round; stroke-width:2; stroke-opacity:0.1; fill:none\" points=\"399.793,490.398 2352.76,490.398 \"/>\n",
       "<polyline clip-path=\"url(#clip892)\" style=\"stroke:#000000; stroke-linecap:round; stroke-linejoin:round; stroke-width:2; stroke-opacity:0.1; fill:none\" points=\"399.793,86.1857 2352.76,86.1857 \"/>\n",
       "<polyline clip-path=\"url(#clip890)\" style=\"stroke:#000000; stroke-linecap:round; stroke-linejoin:round; stroke-width:4; stroke-opacity:1; fill:none\" points=\"399.793,1423.18 399.793,47.2441 \"/>\n",
       "<polyline clip-path=\"url(#clip890)\" style=\"stroke:#000000; stroke-linecap:round; stroke-linejoin:round; stroke-width:4; stroke-opacity:1; fill:none\" points=\"399.793,1298.82 418.691,1298.82 \"/>\n",
       "<polyline clip-path=\"url(#clip890)\" style=\"stroke:#000000; stroke-linecap:round; stroke-linejoin:round; stroke-width:4; stroke-opacity:1; fill:none\" points=\"399.793,894.61 418.691,894.61 \"/>\n",
       "<polyline clip-path=\"url(#clip890)\" style=\"stroke:#000000; stroke-linecap:round; stroke-linejoin:round; stroke-width:4; stroke-opacity:1; fill:none\" points=\"399.793,490.398 418.691,490.398 \"/>\n",
       "<polyline clip-path=\"url(#clip890)\" style=\"stroke:#000000; stroke-linecap:round; stroke-linejoin:round; stroke-width:4; stroke-opacity:1; fill:none\" points=\"399.793,86.1857 418.691,86.1857 \"/>\n",
       "<path clip-path=\"url(#clip890)\" d=\"M114.26 1305.72 L143.936 1305.72 L143.936 1309.66 L114.26 1309.66 L114.26 1305.72 Z\" fill=\"#000000\" fill-rule=\"nonzero\" fill-opacity=\"1\" /><path clip-path=\"url(#clip890)\" d=\"M168.195 1303.92 Q171.552 1304.63 173.427 1306.9 Q175.325 1309.17 175.325 1312.5 Q175.325 1317.62 171.806 1320.42 Q168.288 1323.22 161.806 1323.22 Q159.63 1323.22 157.315 1322.78 Q155.024 1322.36 152.57 1321.51 L152.57 1316.99 Q154.515 1318.13 156.829 1318.71 Q159.144 1319.29 161.667 1319.29 Q166.065 1319.29 168.357 1317.55 Q170.672 1315.81 170.672 1312.5 Q170.672 1309.45 168.519 1307.73 Q166.39 1306 162.57 1306 L158.542 1306 L158.542 1302.16 L162.755 1302.16 Q166.204 1302.16 168.033 1300.79 Q169.862 1299.4 169.862 1296.81 Q169.862 1294.15 167.964 1292.73 Q166.089 1291.3 162.57 1291.3 Q160.649 1291.3 158.45 1291.72 Q156.251 1292.13 153.612 1293.01 L153.612 1288.85 Q156.274 1288.11 158.589 1287.73 Q160.927 1287.36 162.987 1287.36 Q168.311 1287.36 171.413 1289.79 Q174.514 1292.2 174.514 1296.32 Q174.514 1299.19 172.871 1301.18 Q171.227 1303.15 168.195 1303.92 Z\" fill=\"#000000\" fill-rule=\"nonzero\" fill-opacity=\"1\" /><path clip-path=\"url(#clip890)\" d=\"M184.19 1316.67 L189.075 1316.67 L189.075 1322.55 L184.19 1322.55 L184.19 1316.67 Z\" fill=\"#000000\" fill-rule=\"nonzero\" fill-opacity=\"1\" /><path clip-path=\"url(#clip890)\" d=\"M209.26 1291.07 Q205.649 1291.07 203.82 1294.63 Q202.014 1298.17 202.014 1305.3 Q202.014 1312.41 203.82 1315.98 Q205.649 1319.52 209.26 1319.52 Q212.894 1319.52 214.699 1315.98 Q216.528 1312.41 216.528 1305.3 Q216.528 1298.17 214.699 1294.63 Q212.894 1291.07 209.26 1291.07 M209.26 1287.36 Q215.07 1287.36 218.125 1291.97 Q221.204 1296.55 221.204 1305.3 Q221.204 1314.03 218.125 1318.64 Q215.07 1323.22 209.26 1323.22 Q203.449 1323.22 200.371 1318.64 Q197.315 1314.03 197.315 1305.3 Q197.315 1296.55 200.371 1291.97 Q203.449 1287.36 209.26 1287.36 Z\" fill=\"#000000\" fill-rule=\"nonzero\" fill-opacity=\"1\" /><path clip-path=\"url(#clip890)\" d=\"M257.593 1297.09 L247.014 1307.71 L257.593 1318.29 L254.838 1321.09 L244.213 1310.47 L233.588 1321.09 L230.857 1318.29 L241.412 1307.71 L230.857 1297.09 L233.588 1294.29 L244.213 1304.91 L254.838 1294.29 L257.593 1297.09 Z\" fill=\"#000000\" fill-rule=\"nonzero\" fill-opacity=\"1\" /><path clip-path=\"url(#clip890)\" d=\"M269.954 1318.61 L277.593 1318.61 L277.593 1292.25 L269.282 1293.92 L269.282 1289.66 L277.546 1287.99 L282.222 1287.99 L282.222 1318.61 L289.861 1318.61 L289.861 1322.55 L269.954 1322.55 L269.954 1318.61 Z\" fill=\"#000000\" fill-rule=\"nonzero\" fill-opacity=\"1\" /><path clip-path=\"url(#clip890)\" d=\"M309.305 1291.07 Q305.694 1291.07 303.866 1294.63 Q302.06 1298.17 302.06 1305.3 Q302.06 1312.41 303.866 1315.98 Q305.694 1319.52 309.305 1319.52 Q312.94 1319.52 314.745 1315.98 Q316.574 1312.41 316.574 1305.3 Q316.574 1298.17 314.745 1294.63 Q312.94 1291.07 309.305 1291.07 M309.305 1287.36 Q315.116 1287.36 318.171 1291.97 Q321.25 1296.55 321.25 1305.3 Q321.25 1314.03 318.171 1318.64 Q315.116 1323.22 309.305 1323.22 Q303.495 1323.22 300.417 1318.64 Q297.361 1314.03 297.361 1305.3 Q297.361 1296.55 300.417 1291.97 Q303.495 1287.36 309.305 1287.36 Z\" fill=\"#000000\" fill-rule=\"nonzero\" fill-opacity=\"1\" /><path clip-path=\"url(#clip890)\" d=\"M330.879 1281.8 Q328.171 1281.8 326.61 1283.25 Q325.068 1284.7 325.068 1287.24 Q325.068 1289.78 326.61 1291.23 Q328.171 1292.68 330.879 1292.68 Q333.588 1292.68 335.149 1291.23 Q336.71 1289.76 336.71 1287.24 Q336.71 1284.7 335.149 1283.25 Q333.606 1281.8 330.879 1281.8 M327.08 1280.19 Q324.635 1279.58 323.262 1277.91 Q321.908 1276.24 321.908 1273.83 Q321.908 1270.46 324.297 1268.51 Q326.704 1266.55 330.879 1266.55 Q335.073 1266.55 337.462 1268.51 Q339.851 1270.46 339.851 1273.83 Q339.851 1276.24 338.478 1277.91 Q337.124 1279.58 334.697 1280.19 Q337.443 1280.83 338.967 1282.69 Q340.509 1284.55 340.509 1287.24 Q340.509 1291.32 338.008 1293.5 Q335.525 1295.68 330.879 1295.68 Q326.234 1295.68 323.732 1293.5 Q321.25 1291.32 321.25 1287.24 Q321.25 1284.55 322.792 1282.69 Q324.334 1280.83 327.08 1280.19 M325.688 1274.19 Q325.688 1276.37 327.043 1277.59 Q328.416 1278.81 330.879 1278.81 Q333.324 1278.81 334.697 1277.59 Q336.089 1276.37 336.089 1274.19 Q336.089 1272.01 334.697 1270.78 Q333.324 1269.56 330.879 1269.56 Q328.416 1269.56 327.043 1270.78 Q325.688 1272.01 325.688 1274.19 Z\" fill=\"#000000\" fill-rule=\"nonzero\" fill-opacity=\"1\" /><path clip-path=\"url(#clip890)\" d=\"M350.533 1291.94 L363.793 1291.94 L363.793 1295.14 L345.963 1295.14 L345.963 1291.94 Q348.126 1289.7 351.85 1285.94 Q355.593 1282.16 356.552 1281.07 Q358.376 1279.02 359.091 1277.61 Q359.825 1276.18 359.825 1274.81 Q359.825 1272.57 358.245 1271.16 Q356.684 1269.75 354.163 1269.75 Q352.377 1269.75 350.383 1270.37 Q348.408 1270.99 346.151 1272.25 L346.151 1268.41 Q348.446 1267.49 350.439 1267.02 Q352.433 1266.55 354.088 1266.55 Q358.452 1266.55 361.047 1268.73 Q363.643 1270.91 363.643 1274.56 Q363.643 1276.29 362.984 1277.85 Q362.345 1279.4 360.633 1281.5 Q360.163 1282.05 357.643 1284.66 Q355.123 1287.26 350.533 1291.94 Z\" fill=\"#000000\" fill-rule=\"nonzero\" fill-opacity=\"1\" /><path clip-path=\"url(#clip890)\" d=\"M114.26 901.509 L143.936 901.509 L143.936 905.444 L114.26 905.444 L114.26 901.509 Z\" fill=\"#000000\" fill-rule=\"nonzero\" fill-opacity=\"1\" /><path clip-path=\"url(#clip890)\" d=\"M158.056 914.402 L174.376 914.402 L174.376 918.337 L152.431 918.337 L152.431 914.402 Q155.093 911.648 159.677 907.018 Q164.283 902.365 165.464 901.023 Q167.709 898.5 168.589 896.763 Q169.491 895.004 169.491 893.314 Q169.491 890.56 167.547 888.824 Q165.626 887.088 162.524 887.088 Q160.325 887.088 157.871 887.851 Q155.44 888.615 152.663 890.166 L152.663 885.444 Q155.487 884.31 157.94 883.731 Q160.394 883.152 162.431 883.152 Q167.802 883.152 170.996 885.838 Q174.19 888.523 174.19 893.013 Q174.19 895.143 173.38 897.064 Q172.593 898.962 170.487 901.555 Q169.908 902.226 166.806 905.444 Q163.704 908.638 158.056 914.402 Z\" fill=\"#000000\" fill-rule=\"nonzero\" fill-opacity=\"1\" /><path clip-path=\"url(#clip890)\" d=\"M184.19 912.458 L189.075 912.458 L189.075 918.337 L184.19 918.337 L184.19 912.458 Z\" fill=\"#000000\" fill-rule=\"nonzero\" fill-opacity=\"1\" /><path clip-path=\"url(#clip890)\" d=\"M209.26 886.856 Q205.649 886.856 203.82 890.421 Q202.014 893.962 202.014 901.092 Q202.014 908.199 203.82 911.763 Q205.649 915.305 209.26 915.305 Q212.894 915.305 214.699 911.763 Q216.528 908.199 216.528 901.092 Q216.528 893.962 214.699 890.421 Q212.894 886.856 209.26 886.856 M209.26 883.152 Q215.07 883.152 218.125 887.759 Q221.204 892.342 221.204 901.092 Q221.204 909.819 218.125 914.425 Q215.07 919.009 209.26 919.009 Q203.449 919.009 200.371 914.425 Q197.315 909.819 197.315 901.092 Q197.315 892.342 200.371 887.759 Q203.449 883.152 209.26 883.152 Z\" fill=\"#000000\" fill-rule=\"nonzero\" fill-opacity=\"1\" /><path clip-path=\"url(#clip890)\" d=\"M257.593 892.875 L247.014 903.499 L257.593 914.078 L254.838 916.879 L244.213 906.254 L233.588 916.879 L230.857 914.078 L241.412 903.499 L230.857 892.875 L233.588 890.074 L244.213 900.699 L254.838 890.074 L257.593 892.875 Z\" fill=\"#000000\" fill-rule=\"nonzero\" fill-opacity=\"1\" /><path clip-path=\"url(#clip890)\" d=\"M269.954 914.402 L277.593 914.402 L277.593 888.037 L269.282 889.703 L269.282 885.444 L277.546 883.777 L282.222 883.777 L282.222 914.402 L289.861 914.402 L289.861 918.337 L269.954 918.337 L269.954 914.402 Z\" fill=\"#000000\" fill-rule=\"nonzero\" fill-opacity=\"1\" /><path clip-path=\"url(#clip890)\" d=\"M309.305 886.856 Q305.694 886.856 303.866 890.421 Q302.06 893.962 302.06 901.092 Q302.06 908.199 303.866 911.763 Q305.694 915.305 309.305 915.305 Q312.94 915.305 314.745 911.763 Q316.574 908.199 316.574 901.092 Q316.574 893.962 314.745 890.421 Q312.94 886.856 309.305 886.856 M309.305 883.152 Q315.116 883.152 318.171 887.759 Q321.25 892.342 321.25 901.092 Q321.25 909.819 318.171 914.425 Q315.116 919.009 309.305 919.009 Q303.495 919.009 300.417 914.425 Q297.361 909.819 297.361 901.092 Q297.361 892.342 300.417 887.759 Q303.495 883.152 309.305 883.152 Z\" fill=\"#000000\" fill-rule=\"nonzero\" fill-opacity=\"1\" /><path clip-path=\"url(#clip890)\" d=\"M330.879 877.592 Q328.171 877.592 326.61 879.04 Q325.068 880.489 325.068 883.028 Q325.068 885.567 326.61 887.015 Q328.171 888.463 330.879 888.463 Q333.588 888.463 335.149 887.015 Q336.71 885.548 336.71 883.028 Q336.71 880.489 335.149 879.04 Q333.606 877.592 330.879 877.592 M327.08 875.975 Q324.635 875.373 323.262 873.699 Q321.908 872.025 321.908 869.618 Q321.908 866.251 324.297 864.295 Q326.704 862.339 330.879 862.339 Q335.073 862.339 337.462 864.295 Q339.851 866.251 339.851 869.618 Q339.851 872.025 338.478 873.699 Q337.124 875.373 334.697 875.975 Q337.443 876.614 338.967 878.476 Q340.509 880.338 340.509 883.028 Q340.509 887.109 338.008 889.291 Q335.525 891.472 330.879 891.472 Q326.234 891.472 323.732 889.291 Q321.25 887.109 321.25 883.028 Q321.25 880.338 322.792 878.476 Q324.334 876.614 327.08 875.975 M325.688 869.975 Q325.688 872.157 327.043 873.379 Q328.416 874.602 330.879 874.602 Q333.324 874.602 334.697 873.379 Q336.089 872.157 336.089 869.975 Q336.089 867.793 334.697 866.571 Q333.324 865.348 330.879 865.348 Q328.416 865.348 327.043 866.571 Q325.688 867.793 325.688 869.975 Z\" fill=\"#000000\" fill-rule=\"nonzero\" fill-opacity=\"1\" /><path clip-path=\"url(#clip890)\" d=\"M350.533 887.73 L363.793 887.73 L363.793 890.927 L345.963 890.927 L345.963 887.73 Q348.126 885.492 351.85 881.73 Q355.593 877.95 356.552 876.859 Q358.376 874.809 359.091 873.398 Q359.825 871.969 359.825 870.596 Q359.825 868.358 358.245 866.947 Q356.684 865.536 354.163 865.536 Q352.377 865.536 350.383 866.157 Q348.408 866.778 346.151 868.038 L346.151 864.201 Q348.446 863.28 350.439 862.809 Q352.433 862.339 354.088 862.339 Q358.452 862.339 361.047 864.521 Q363.643 866.703 363.643 870.351 Q363.643 872.082 362.984 873.643 Q362.345 875.185 360.633 877.291 Q360.163 877.837 357.643 880.451 Q355.123 883.047 350.533 887.73 Z\" fill=\"#000000\" fill-rule=\"nonzero\" fill-opacity=\"1\" /><path clip-path=\"url(#clip890)\" d=\"M114.26 497.297 L143.936 497.297 L143.936 501.232 L114.26 501.232 L114.26 497.297 Z\" fill=\"#000000\" fill-rule=\"nonzero\" fill-opacity=\"1\" /><path clip-path=\"url(#clip890)\" d=\"M154.839 510.19 L162.477 510.19 L162.477 483.825 L154.167 485.491 L154.167 481.232 L162.431 479.565 L167.107 479.565 L167.107 510.19 L174.746 510.19 L174.746 514.125 L154.839 514.125 L154.839 510.19 Z\" fill=\"#000000\" fill-rule=\"nonzero\" fill-opacity=\"1\" /><path clip-path=\"url(#clip890)\" d=\"M184.19 508.246 L189.075 508.246 L189.075 514.125 L184.19 514.125 L184.19 508.246 Z\" fill=\"#000000\" fill-rule=\"nonzero\" fill-opacity=\"1\" /><path clip-path=\"url(#clip890)\" d=\"M209.26 482.644 Q205.649 482.644 203.82 486.209 Q202.014 489.75 202.014 496.88 Q202.014 503.986 203.82 507.551 Q205.649 511.093 209.26 511.093 Q212.894 511.093 214.699 507.551 Q216.528 503.986 216.528 496.88 Q216.528 489.75 214.699 486.209 Q212.894 482.644 209.26 482.644 M209.26 478.94 Q215.07 478.94 218.125 483.547 Q221.204 488.13 221.204 496.88 Q221.204 505.607 218.125 510.213 Q215.07 514.797 209.26 514.797 Q203.449 514.797 200.371 510.213 Q197.315 505.607 197.315 496.88 Q197.315 488.13 200.371 483.547 Q203.449 478.94 209.26 478.94 Z\" fill=\"#000000\" fill-rule=\"nonzero\" fill-opacity=\"1\" /><path clip-path=\"url(#clip890)\" d=\"M257.593 488.662 L247.014 499.287 L257.593 509.866 L254.838 512.667 L244.213 502.042 L233.588 512.667 L230.857 509.866 L241.412 499.287 L230.857 488.662 L233.588 485.862 L244.213 496.487 L254.838 485.862 L257.593 488.662 Z\" fill=\"#000000\" fill-rule=\"nonzero\" fill-opacity=\"1\" /><path clip-path=\"url(#clip890)\" d=\"M269.954 510.19 L277.593 510.19 L277.593 483.825 L269.282 485.491 L269.282 481.232 L277.546 479.565 L282.222 479.565 L282.222 510.19 L289.861 510.19 L289.861 514.125 L269.954 514.125 L269.954 510.19 Z\" fill=\"#000000\" fill-rule=\"nonzero\" fill-opacity=\"1\" /><path clip-path=\"url(#clip890)\" d=\"M309.305 482.644 Q305.694 482.644 303.866 486.209 Q302.06 489.75 302.06 496.88 Q302.06 503.986 303.866 507.551 Q305.694 511.093 309.305 511.093 Q312.94 511.093 314.745 507.551 Q316.574 503.986 316.574 496.88 Q316.574 489.75 314.745 486.209 Q312.94 482.644 309.305 482.644 M309.305 478.94 Q315.116 478.94 318.171 483.547 Q321.25 488.13 321.25 496.88 Q321.25 505.607 318.171 510.213 Q315.116 514.797 309.305 514.797 Q303.495 514.797 300.417 510.213 Q297.361 505.607 297.361 496.88 Q297.361 488.13 300.417 483.547 Q303.495 478.94 309.305 478.94 Z\" fill=\"#000000\" fill-rule=\"nonzero\" fill-opacity=\"1\" /><path clip-path=\"url(#clip890)\" d=\"M330.879 473.38 Q328.171 473.38 326.61 474.828 Q325.068 476.277 325.068 478.816 Q325.068 481.355 326.61 482.803 Q328.171 484.251 330.879 484.251 Q333.588 484.251 335.149 482.803 Q336.71 481.336 336.71 478.816 Q336.71 476.277 335.149 474.828 Q333.606 473.38 330.879 473.38 M327.08 471.763 Q324.635 471.161 323.262 469.487 Q321.908 467.813 321.908 465.406 Q321.908 462.039 324.297 460.083 Q326.704 458.127 330.879 458.127 Q335.073 458.127 337.462 460.083 Q339.851 462.039 339.851 465.406 Q339.851 467.813 338.478 469.487 Q337.124 471.161 334.697 471.763 Q337.443 472.402 338.967 474.264 Q340.509 476.126 340.509 478.816 Q340.509 482.897 338.008 485.079 Q335.525 487.26 330.879 487.26 Q326.234 487.26 323.732 485.079 Q321.25 482.897 321.25 478.816 Q321.25 476.126 322.792 474.264 Q324.334 472.402 327.08 471.763 M325.688 465.763 Q325.688 467.945 327.043 469.167 Q328.416 470.39 330.879 470.39 Q333.324 470.39 334.697 469.167 Q336.089 467.945 336.089 465.763 Q336.089 463.581 334.697 462.359 Q333.324 461.136 330.879 461.136 Q328.416 461.136 327.043 462.359 Q325.688 463.581 325.688 465.763 Z\" fill=\"#000000\" fill-rule=\"nonzero\" fill-opacity=\"1\" /><path clip-path=\"url(#clip890)\" d=\"M350.533 483.518 L363.793 483.518 L363.793 486.715 L345.963 486.715 L345.963 483.518 Q348.126 481.279 351.85 477.518 Q355.593 473.738 356.552 472.647 Q358.376 470.597 359.091 469.186 Q359.825 467.757 359.825 466.384 Q359.825 464.146 358.245 462.735 Q356.684 461.324 354.163 461.324 Q352.377 461.324 350.383 461.945 Q348.408 462.566 346.151 463.826 L346.151 459.989 Q348.446 459.067 350.439 458.597 Q352.433 458.127 354.088 458.127 Q358.452 458.127 361.047 460.309 Q363.643 462.491 363.643 466.139 Q363.643 467.87 362.984 469.431 Q362.345 470.973 360.633 473.079 Q360.163 473.625 357.643 476.239 Q355.123 478.834 350.533 483.518 Z\" fill=\"#000000\" fill-rule=\"nonzero\" fill-opacity=\"1\" /><path clip-path=\"url(#clip890)\" d=\"M351.849 71.9844 Q348.237 71.9844 346.409 75.5492 Q344.603 79.0908 344.603 86.2204 Q344.603 93.3268 346.409 96.8916 Q348.237 100.433 351.849 100.433 Q355.483 100.433 357.288 96.8916 Q359.117 93.3268 359.117 86.2204 Q359.117 79.0908 357.288 75.5492 Q355.483 71.9844 351.849 71.9844 M351.849 68.2807 Q357.659 68.2807 360.714 72.8871 Q363.793 77.4704 363.793 86.2204 Q363.793 94.9472 360.714 99.5537 Q357.659 104.137 351.849 104.137 Q346.038 104.137 342.96 99.5537 Q339.904 94.9472 339.904 86.2204 Q339.904 77.4704 342.96 72.8871 Q346.038 68.2807 351.849 68.2807 Z\" fill=\"#000000\" fill-rule=\"nonzero\" fill-opacity=\"1\" /><path clip-path=\"url(#clip890)\" d=\"M16.4842 949.593 L16.4842 943.1 L56.6518 933.106 L16.4842 923.144 L16.4842 915.918 L56.6518 905.924 L16.4842 895.962 L16.4842 889.437 L64.0042 901.373 L64.0042 909.457 L22.7544 919.483 L64.0042 929.605 L64.0042 937.689 L16.4842 949.593 Z\" fill=\"#000000\" fill-rule=\"nonzero\" fill-opacity=\"1\" /><path clip-path=\"url(#clip890)\" d=\"M44.7161 854.489 L47.5806 854.489 L47.5806 881.416 Q53.6281 881.034 56.8109 877.788 Q59.9619 874.51 59.9619 868.685 Q59.9619 865.311 59.1344 862.16 Q58.3069 858.977 56.6518 855.858 L62.1899 855.858 Q63.5267 859.009 64.227 862.319 Q64.9272 865.629 64.9272 869.035 Q64.9272 877.565 59.9619 882.562 Q54.9967 887.527 46.5303 887.527 Q37.7774 887.527 32.6531 882.817 Q27.4968 878.074 27.4968 870.054 Q27.4968 862.86 32.1438 858.691 Q36.7589 854.489 44.7161 854.489 M42.9973 860.346 Q38.1912 860.41 35.3266 863.051 Q32.4621 865.661 32.4621 869.99 Q32.4621 874.891 35.2312 877.852 Q38.0002 880.78 43.0292 881.225 L42.9973 860.346 Z\" fill=\"#000000\" fill-rule=\"nonzero\" fill-opacity=\"1\" /><path clip-path=\"url(#clip890)\" d=\"M46.0847 828.676 Q46.0847 835.774 47.7079 838.511 Q49.3312 841.249 53.2461 841.249 Q56.3653 841.249 58.2114 839.212 Q60.0256 837.143 60.0256 833.61 Q60.0256 828.74 56.5881 825.812 Q53.1188 822.852 47.3897 822.852 L46.0847 822.852 L46.0847 828.676 M43.6657 816.995 L64.0042 816.995 L64.0042 822.852 L58.5933 822.852 Q61.8398 824.857 63.3994 827.849 Q64.9272 830.841 64.9272 835.169 Q64.9272 840.644 61.8716 843.89 Q58.7843 847.105 53.6281 847.105 Q47.6125 847.105 44.5569 843.095 Q41.5014 839.053 41.5014 831.064 L41.5014 822.852 L40.9285 822.852 Q36.8862 822.852 34.6901 825.525 Q32.4621 828.167 32.4621 832.973 Q32.4621 836.029 33.1941 838.925 Q33.9262 841.822 35.3903 844.495 L29.9795 844.495 Q28.7381 841.281 28.1334 838.257 Q27.4968 835.233 27.4968 832.369 Q27.4968 824.634 31.5072 820.815 Q35.5176 816.995 43.6657 816.995 Z\" fill=\"#000000\" fill-rule=\"nonzero\" fill-opacity=\"1\" /><path clip-path=\"url(#clip890)\" d=\"M14.479 804.932 L14.479 799.076 L64.0042 799.076 L64.0042 804.932 L14.479 804.932 Z\" fill=\"#000000\" fill-rule=\"nonzero\" fill-opacity=\"1\" /><path clip-path=\"url(#clip890)\" d=\"M18.2347 781.029 L28.3562 781.029 L28.3562 768.966 L32.9077 768.966 L32.9077 781.029 L52.2594 781.029 Q56.6199 781.029 57.8613 779.851 Q59.1026 778.642 59.1026 774.982 L59.1026 768.966 L64.0042 768.966 L64.0042 774.982 Q64.0042 781.761 61.4897 784.339 Q58.9434 786.917 52.2594 786.917 L32.9077 786.917 L32.9077 791.214 L28.3562 791.214 L28.3562 786.917 L18.2347 786.917 L18.2347 781.029 Z\" fill=\"#000000\" fill-rule=\"nonzero\" fill-opacity=\"1\" /><path clip-path=\"url(#clip890)\" d=\"M42.4881 731.631 L64.0042 731.631 L64.0042 737.488 L42.679 737.488 Q37.6183 737.488 35.1038 739.461 Q32.5894 741.434 32.5894 745.381 Q32.5894 750.124 35.6131 752.861 Q38.6368 755.598 43.8567 755.598 L64.0042 755.598 L64.0042 761.486 L14.479 761.486 L14.479 755.598 L33.8944 755.598 Q30.6797 753.497 29.0883 750.665 Q27.4968 747.8 27.4968 744.076 Q27.4968 737.933 31.3163 734.782 Q35.1038 731.631 42.4881 731.631 Z\" fill=\"#000000\" fill-rule=\"nonzero\" fill-opacity=\"1\" /><path clip-path=\"url(#clip890)\" d=\"M14.5426 685.162 Q21.8632 689.427 29.0246 691.495 Q36.186 693.564 43.5384 693.564 Q50.8908 693.564 58.1159 691.495 Q65.3091 689.395 72.5979 685.162 L72.5979 690.254 Q65.1182 695.028 57.8931 697.416 Q50.668 699.771 43.5384 699.771 Q36.4406 699.771 29.2474 697.416 Q22.0542 695.06 14.5426 690.254 L14.5426 685.162 Z\" fill=\"#000000\" fill-rule=\"nonzero\" fill-opacity=\"1\" /><path clip-path=\"url(#clip890)\" d=\"M16.4842 674.276 L16.4842 667.815 L45.3526 667.815 Q52.9915 667.815 56.3653 665.046 Q59.7073 662.277 59.7073 656.07 Q59.7073 649.896 56.3653 647.127 Q52.9915 644.357 45.3526 644.357 L16.4842 644.357 L16.4842 637.896 L46.1484 637.896 Q55.4423 637.896 60.1847 642.511 Q64.9272 647.095 64.9272 656.07 Q64.9272 665.078 60.1847 669.693 Q55.4423 674.276 46.1484 674.276 L16.4842 674.276 Z\" fill=\"#000000\" fill-rule=\"nonzero\" fill-opacity=\"1\" /><path clip-path=\"url(#clip890)\" d=\"M18.0438 597.347 L24.314 597.347 Q22.5634 601.007 21.704 604.253 Q20.8447 607.5 20.8447 610.524 Q20.8447 615.775 22.8817 618.64 Q24.9187 621.473 28.6745 621.473 Q31.8255 621.473 33.4488 619.595 Q35.0402 617.685 36.0269 612.402 L36.8226 608.518 Q38.1912 601.325 41.6605 597.92 Q45.098 594.482 50.8908 594.482 Q57.7976 594.482 61.3624 599.129 Q64.9272 603.744 64.9272 612.688 Q64.9272 616.062 64.1633 619.881 Q63.3994 623.669 61.9035 627.743 L55.2831 627.743 Q57.4793 623.828 58.5933 620.072 Q59.7073 616.316 59.7073 612.688 Q59.7073 607.182 57.543 604.19 Q55.3786 601.198 51.3682 601.198 Q47.8671 601.198 45.8937 603.362 Q43.9204 605.495 42.9337 610.396 L42.1698 614.311 Q40.7375 621.505 37.682 624.719 Q34.6264 627.934 29.1837 627.934 Q22.8817 627.934 19.2532 623.51 Q15.6248 619.054 15.6248 611.256 Q15.6248 607.914 16.2295 604.444 Q16.8343 600.975 18.0438 597.347 Z\" fill=\"#000000\" fill-rule=\"nonzero\" fill-opacity=\"1\" /><path clip-path=\"url(#clip890)\" d=\"M21.7677 578.027 L58.7206 578.027 L58.7206 570.261 Q58.7206 560.426 54.2646 555.874 Q49.8086 551.291 40.1964 551.291 Q30.6479 551.291 26.2237 555.874 Q21.7677 560.426 21.7677 570.261 L21.7677 578.027 M16.4842 584.456 L16.4842 571.247 Q16.4842 557.434 22.2451 550.973 Q27.9743 544.511 40.1964 544.511 Q52.4822 544.511 58.2432 551.004 Q64.0042 557.497 64.0042 571.247 L64.0042 584.456 L16.4842 584.456 Z\" fill=\"#000000\" fill-rule=\"nonzero\" fill-opacity=\"1\" /><path clip-path=\"url(#clip890)\" d=\"M14.5426 535.44 L14.5426 530.348 Q22.0542 525.573 29.2474 523.218 Q36.4406 520.831 43.5384 520.831 Q50.668 520.831 57.8931 523.218 Q65.1182 525.573 72.5979 530.348 L72.5979 535.44 Q65.3091 531.207 58.1159 529.138 Q50.8908 527.037 43.5384 527.037 Q36.186 527.037 29.0246 529.138 Q21.8632 531.207 14.5426 535.44 Z\" fill=\"#000000\" fill-rule=\"nonzero\" fill-opacity=\"1\" /><polyline clip-path=\"url(#clip892)\" style=\"stroke:#0000ff; stroke-linecap:round; stroke-linejoin:round; stroke-width:12; stroke-opacity:1; fill:none\" points=\"455.065,86.1857 463.146,86.1857 471.227,86.1857 479.308,86.1857 487.389,86.1857 495.469,86.1857 503.55,86.1857 511.631,86.1857 519.712,86.1857 527.793,86.1857 535.873,86.1857 543.954,86.1857 552.035,86.1857 560.116,86.1857 568.196,86.1857 576.277,86.1857 584.358,86.1857 592.439,86.1857 600.52,86.1857 608.6,86.1857 616.681,86.1857 624.762,86.1857 632.843,86.1857 640.923,86.1857 649.004,86.1857 657.085,86.1857 665.166,86.1857 673.247,86.1857 681.327,86.1857 689.408,86.1857 697.489,86.1857 705.57,86.1857 713.65,86.1857 721.731,86.1857 729.812,86.1857 737.893,86.1857 745.974,86.1857 754.054,86.1857 762.135,86.1857 770.216,86.1857 778.297,86.1857 786.377,86.1857 794.458,86.1857 802.539,86.1857 810.62,86.1857 818.701,86.1857 826.781,86.1857 834.862,86.1857 842.943,86.1857 851.024,86.1857 859.105,86.1857 867.185,86.1857 875.266,86.1857 883.347,86.1857 891.428,86.1857 899.508,86.1857 907.589,86.1857 915.67,86.1857 923.751,86.1857 931.832,86.1857 939.912,86.1857 947.993,86.1857 956.074,86.1857 964.155,86.1857 972.235,86.1857 980.316,86.1857 988.397,86.1857 996.478,86.1857 1004.56,86.1857 1012.64,86.1857 1020.72,86.1857 1028.8,86.1857 1036.88,86.1857 1044.96,86.1857 1053.04,86.1857 1061.12,86.1857 1069.2,86.1857 1077.29,86.1857 1085.37,86.1857 1093.45,86.1857 1101.53,86.1857 1109.61,86.1857 1117.69,86.1857 1125.77,86.1857 1133.85,86.1857 1141.93,86.1857 1150.01,86.1857 1158.09,86.1857 1166.17,86.1857 1174.25,86.1857 1182.34,86.1857 1190.42,86.1857 1198.5,86.1857 1206.58,86.1857 1214.66,86.1857 1222.74,86.1857 1230.82,86.1857 1238.9,86.1857 1246.98,86.1857 1255.06,86.1857 1263.14,86.1857 1271.22,86.1857 1279.31,86.1857 1287.39,86.1857 1295.47,86.1857 1303.55,86.1857 1311.63,86.1857 1319.71,86.1857 1327.79,86.1857 1335.87,86.1857 1343.95,86.1857 1352.03,86.1857 1360.11,86.1857 1368.19,86.1857 1376.27,86.1857 1384.36,86.1857 1392.44,86.1857 1400.52,86.1857 1408.6,86.1857 1416.68,86.1857 1424.76,86.1857 1432.84,86.1857 1440.92,86.1857 1449,86.1857 1457.08,86.1857 1465.16,86.1857 1473.24,86.1857 1481.32,86.1857 1489.41,86.1857 1497.49,86.1857 1505.57,86.1857 1513.65,86.1857 1521.73,86.1857 1529.81,86.1857 1537.89,86.1857 1545.97,86.1857 1554.05,86.1857 1562.13,86.1857 1570.21,86.1857 1578.29,86.1857 1586.37,86.1857 1594.46,86.1857 1602.54,86.1857 1610.62,86.1857 1618.7,86.1857 1626.78,86.1857 1634.86,86.1857 1642.94,86.1857 1651.02,86.1857 1659.1,86.1857 1667.18,86.1857 1675.26,86.1857 1683.34,86.1857 1691.42,86.1857 1699.51,86.1857 1707.59,86.1857 1715.67,86.1857 1723.75,86.1857 1731.83,86.1857 1739.91,86.1857 1747.99,86.1857 1756.07,86.1857 1764.15,86.1857 1772.23,86.1857 1780.31,86.1857 1788.39,86.1857 1796.48,86.1857 1804.56,86.1857 1812.64,86.1857 1820.72,86.1857 1828.8,86.1857 1836.88,86.1857 1844.96,86.1857 1853.04,86.1857 1861.12,86.1857 1869.2,86.1857 1877.28,86.1857 1885.36,86.1857 1893.44,86.1857 1901.53,86.1857 1909.61,86.1857 1917.69,86.1857 1925.77,86.1857 1933.85,86.1857 1941.93,86.1857 1950.01,86.1857 1958.09,86.1857 1966.17,86.1857 1974.25,86.1857 1982.33,86.1857 1990.41,86.1857 1998.49,86.1857 2006.58,86.1857 2014.66,86.1857 2022.74,86.1857 2030.82,86.1857 2038.9,86.1857 2046.98,86.1857 2055.06,86.1857 2063.14,86.1857 2071.22,86.1857 2079.3,86.1857 2087.38,86.1857 2095.46,86.1857 2103.54,86.1857 2111.63,86.1857 2119.71,86.1857 2127.79,86.1857 2135.87,86.1857 2143.95,86.1857 2152.03,86.1857 2160.11,86.1857 2168.19,86.1857 2176.27,86.1857 2184.35,86.1857 2192.43,86.1857 2200.51,86.1857 2208.59,86.1857 2216.68,86.1857 2224.76,86.1857 2232.84,86.1857 2240.92,86.1857 2249,86.1857 2257.08,86.1857 2265.16,86.1857 2273.24,86.1857 2281.32,86.1857 2289.4,86.1857 2297.48,86.1857 \"/>\n",
       "<polyline clip-path=\"url(#clip892)\" style=\"stroke:#ff0000; stroke-linecap:round; stroke-linejoin:round; stroke-width:24; stroke-opacity:1; fill:none\" points=\"471.227,86.1857 479.308,86.1857 487.389,86.1857 495.469,86.1857 503.55,86.1857 511.631,86.1857 519.712,86.1857 527.793,86.1857 535.873,86.1857 543.954,86.1857 552.035,86.1857 560.116,86.1857 568.196,86.1857 576.277,86.1857 584.358,86.1857 592.439,86.1857 600.52,86.1857 608.6,86.1857 616.681,86.1857 624.762,86.1857 632.843,86.1857 640.923,86.1857 649.004,86.1857 657.085,86.1857 665.166,86.1857 673.247,86.1857 681.327,86.1857 689.408,86.1857 697.489,86.1857 705.57,86.1857 713.65,86.1857 721.731,86.1857 729.812,86.1857 737.893,86.1857 745.974,86.1857 754.054,86.1857 762.135,86.1857 770.216,86.1857 778.297,86.1857 \"/>\n",
       "<polyline clip-path=\"url(#clip892)\" style=\"stroke:#ff0000; stroke-linecap:round; stroke-linejoin:round; stroke-width:24; stroke-opacity:1; fill:none\" points=\"794.458,86.1857 802.539,86.1857 810.62,86.1857 \"/>\n",
       "<polyline clip-path=\"url(#clip892)\" style=\"stroke:#ff0000; stroke-linecap:round; stroke-linejoin:round; stroke-width:24; stroke-opacity:1; fill:none\" points=\"826.781,86.1857 834.862,86.1857 842.943,86.1857 851.024,86.1857 859.105,86.1857 867.185,86.1857 \"/>\n",
       "<polyline clip-path=\"url(#clip892)\" style=\"stroke:#ff0000; stroke-linecap:round; stroke-linejoin:round; stroke-width:24; stroke-opacity:1; fill:none\" points=\"883.347,86.1857 891.428,86.1857 899.508,86.1857 907.589,86.1857 915.67,86.1857 923.751,86.1857 931.832,86.1857 939.912,86.1857 947.993,86.1857 956.074,86.1857 964.155,86.1857 972.235,86.1857 980.316,86.1857 988.397,86.1857 996.478,86.1857 1004.56,86.1857 1012.64,86.1857 1020.72,86.1857 1028.8,86.1857 1036.88,86.1857 1044.96,86.1857 1053.04,86.1857 1061.12,86.1857 1069.2,86.1857 \"/>\n",
       "<polyline clip-path=\"url(#clip892)\" style=\"stroke:#ff0000; stroke-linecap:round; stroke-linejoin:round; stroke-width:24; stroke-opacity:1; fill:none\" points=\"1085.37,86.1857 1093.45,86.1857 1101.53,86.1857 1109.61,86.1857 1117.69,86.1857 1125.77,86.1857 \"/>\n",
       "<polyline clip-path=\"url(#clip892)\" style=\"stroke:#ff0000; stroke-linecap:round; stroke-linejoin:round; stroke-width:24; stroke-opacity:1; fill:none\" points=\"1141.93,86.1857 1150.01,86.1857 1158.09,86.1857 1166.17,86.1857 1174.25,86.1857 \"/>\n",
       "<polyline clip-path=\"url(#clip892)\" style=\"stroke:#ff0000; stroke-linecap:round; stroke-linejoin:round; stroke-width:24; stroke-opacity:1; fill:none\" points=\"1190.42,86.1857 1198.5,86.1857 1206.58,86.1857 1214.66,86.1857 1222.74,86.1857 1230.82,86.1857 1238.9,86.1857 1246.98,86.1857 1255.06,86.1857 1263.14,86.1857 1271.22,86.1857 1279.31,86.2024 \"/>\n",
       "<polyline clip-path=\"url(#clip892)\" style=\"stroke:#ff0000; stroke-linecap:round; stroke-linejoin:round; stroke-width:24; stroke-opacity:1; fill:none\" points=\"1295.47,86.1857 1303.55,86.1857 1311.63,86.1857 1319.71,86.1857 1327.79,86.1857 1335.87,86.1857 1343.95,86.1857 1352.03,86.1857 1360.11,86.1857 1368.19,86.1857 1376.27,1384.24 1384.36,86.1857 1392.44,86.1857 1400.52,86.1857 1408.6,86.1857 1416.68,86.1857 1424.76,86.1857 1432.84,86.1857 1440.92,86.1857 1449,86.1857 1457.08,86.1857 1465.16,86.1857 1473.24,86.2038 1481.32,86.1857 1489.41,86.1857 1497.49,86.1857 1505.57,86.1857 1513.65,86.1857 1521.73,86.1857 1529.81,86.1857 1537.89,86.1857 1545.97,86.1857 1554.05,86.1857 1562.13,86.1857 1570.21,86.205 1578.29,86.1857 1586.37,86.1857 1594.46,86.1857 1602.54,86.1857 1610.62,86.1857 1618.7,86.1857 1626.78,86.1857 1634.86,86.1857 1642.94,86.1857 1651.02,86.1857 1659.1,86.1857 1667.18,918.725 1675.26,86.1857 1683.34,86.1857 1691.42,86.1857 1699.51,86.1857 1707.59,86.1857 1715.67,86.1857 1723.75,86.1857 1731.83,86.1857 1739.91,86.1857 1747.99,86.1857 1756.07,86.1857 1764.15,86.1857 \"/>\n",
       "<polyline clip-path=\"url(#clip892)\" style=\"stroke:#ff0000; stroke-linecap:round; stroke-linejoin:round; stroke-width:24; stroke-opacity:1; fill:none\" points=\"1780.31,86.1857 1788.39,86.1857 1796.48,86.1857 1804.56,86.1857 1812.64,86.1857 1820.72,86.1857 1828.8,86.1857 1836.88,86.1857 1844.96,86.1857 1853.04,86.1857 1861.12,86.1857 1869.2,1056.86 1877.28,86.1857 1885.36,86.1857 1893.44,86.1857 1901.53,86.1857 1909.61,86.1857 1917.69,86.1857 1925.77,86.1857 1933.85,86.1857 1941.93,86.1857 1950.01,86.1857 1958.09,86.1857 1966.17,86.1857 \"/>\n",
       "<polyline clip-path=\"url(#clip892)\" style=\"stroke:#ff0000; stroke-linecap:round; stroke-linejoin:round; stroke-width:24; stroke-opacity:1; fill:none\" points=\"1990.41,86.1857 1998.49,86.1857 2006.58,86.1857 2014.66,86.1857 2022.74,86.1857 2030.82,86.1857 2038.9,86.1857 2046.98,86.1857 2055.06,86.1857 2063.14,86.1857 2071.22,86.1857 \"/>\n",
       "<polyline clip-path=\"url(#clip892)\" style=\"stroke:#ff0000; stroke-linecap:round; stroke-linejoin:round; stroke-width:24; stroke-opacity:1; fill:none\" points=\"2087.38,86.1857 2095.46,86.1857 2103.54,86.1857 2111.63,86.1857 2119.71,86.1857 2127.79,86.1857 \"/>\n",
       "<polyline clip-path=\"url(#clip892)\" style=\"stroke:#ff0000; stroke-linecap:round; stroke-linejoin:round; stroke-width:24; stroke-opacity:1; fill:none\" points=\"2143.95,86.1857 2152.03,86.1857 2160.11,86.1857 2168.19,86.1857 2176.27,86.1857 2184.35,86.1857 2192.43,86.1857 2200.51,86.1857 2208.59,86.1857 2216.68,86.1857 2224.76,86.1857 2232.84,86.1857 \"/>\n",
       "<polyline clip-path=\"url(#clip892)\" style=\"stroke:#ff0000; stroke-linecap:round; stroke-linejoin:round; stroke-width:24; stroke-opacity:1; fill:none\" points=\"2249,86.1857 2257.08,86.1857 2265.16,86.2066 \"/>\n",
       "<polyline clip-path=\"url(#clip892)\" style=\"stroke:#ff0000; stroke-linecap:round; stroke-linejoin:round; stroke-width:24; stroke-opacity:1; fill:none\" points=\"2281.32,86.1857 2289.4,86.1857 2297.48,86.1857 \"/>\n",
       "<path clip-path=\"url(#clip890)\" d=\"M464.892 1377.32 L1185.49 1377.32 L1185.49 1169.96 L464.892 1169.96  Z\" fill=\"#ffffff\" fill-rule=\"evenodd\" fill-opacity=\"1\"/>\n",
       "<polyline clip-path=\"url(#clip890)\" style=\"stroke:#000000; stroke-linecap:round; stroke-linejoin:round; stroke-width:4; stroke-opacity:1; fill:none\" points=\"464.892,1377.32 1185.49,1377.32 1185.49,1169.96 464.892,1169.96 464.892,1377.32 \"/>\n",
       "<polyline clip-path=\"url(#clip890)\" style=\"stroke:#800080; stroke-linecap:round; stroke-linejoin:round; stroke-width:16; stroke-opacity:1; fill:none\" points=\"486.591,1221.8 616.789,1221.8 \"/>\n",
       "<path clip-path=\"url(#clip890)\" d=\"M666.359 1207.18 L666.359 1212.11 Q663.998 1209.91 661.312 1208.82 Q658.65 1207.73 655.641 1207.73 Q649.715 1207.73 646.567 1211.37 Q643.419 1214.98 643.419 1221.83 Q643.419 1228.66 646.567 1232.29 Q649.715 1235.9 655.641 1235.9 Q658.65 1235.9 661.312 1234.82 Q663.998 1233.73 666.359 1231.53 L666.359 1236.41 Q663.905 1238.08 661.15 1238.91 Q658.419 1239.75 655.363 1239.75 Q647.516 1239.75 643.002 1234.95 Q638.488 1230.14 638.488 1221.83 Q638.488 1213.5 643.002 1208.71 Q647.516 1203.89 655.363 1203.89 Q658.465 1203.89 661.197 1204.72 Q663.951 1205.53 666.359 1207.18 Z\" fill=\"#000000\" fill-rule=\"nonzero\" fill-opacity=\"1\" /><path clip-path=\"url(#clip890)\" d=\"M694.946 1223.43 L694.946 1239.08 L690.687 1239.08 L690.687 1223.57 Q690.687 1219.89 689.252 1218.06 Q687.817 1216.23 684.947 1216.23 Q681.497 1216.23 679.507 1218.43 Q677.516 1220.63 677.516 1224.42 L677.516 1239.08 L673.234 1239.08 L673.234 1203.06 L677.516 1203.06 L677.516 1217.18 Q679.044 1214.84 681.104 1213.68 Q683.187 1212.52 685.896 1212.52 Q690.363 1212.52 692.655 1215.3 Q694.946 1218.06 694.946 1223.43 Z\" fill=\"#000000\" fill-rule=\"nonzero\" fill-opacity=\"1\" /><path clip-path=\"url(#clip890)\" d=\"M713.488 1216.14 Q710.062 1216.14 708.071 1218.82 Q706.081 1221.48 706.081 1226.14 Q706.081 1230.79 708.048 1233.47 Q710.039 1236.14 713.488 1236.14 Q716.891 1236.14 718.882 1233.45 Q720.872 1230.77 720.872 1226.14 Q720.872 1221.53 718.882 1218.84 Q716.891 1216.14 713.488 1216.14 M713.488 1212.52 Q719.044 1212.52 722.215 1216.14 Q725.386 1219.75 725.386 1226.14 Q725.386 1232.5 722.215 1236.14 Q719.044 1239.75 713.488 1239.75 Q707.909 1239.75 704.738 1236.14 Q701.59 1232.5 701.59 1226.14 Q701.59 1219.75 704.738 1216.14 Q707.909 1212.52 713.488 1212.52 Z\" fill=\"#000000\" fill-rule=\"nonzero\" fill-opacity=\"1\" /><path clip-path=\"url(#clip890)\" d=\"M748.974 1213.91 L748.974 1217.94 Q747.168 1217.02 745.224 1216.55 Q743.28 1216.09 741.196 1216.09 Q738.025 1216.09 736.428 1217.06 Q734.854 1218.03 734.854 1219.98 Q734.854 1221.46 735.988 1222.32 Q737.122 1223.15 740.548 1223.91 L742.006 1224.24 Q746.543 1225.21 748.442 1226.99 Q750.363 1228.75 750.363 1231.92 Q750.363 1235.53 747.492 1237.64 Q744.645 1239.75 739.645 1239.75 Q737.562 1239.75 735.293 1239.33 Q733.048 1238.94 730.548 1238.13 L730.548 1233.73 Q732.909 1234.95 735.201 1235.58 Q737.493 1236.18 739.738 1236.18 Q742.747 1236.18 744.367 1235.16 Q745.988 1234.12 745.988 1232.25 Q745.988 1230.51 744.807 1229.58 Q743.65 1228.66 739.692 1227.8 L738.21 1227.46 Q734.252 1226.62 732.493 1224.91 Q730.733 1223.17 730.733 1220.16 Q730.733 1216.51 733.326 1214.52 Q735.918 1212.52 740.687 1212.52 Q743.048 1212.52 745.131 1212.87 Q747.215 1213.22 748.974 1213.91 Z\" fill=\"#000000\" fill-rule=\"nonzero\" fill-opacity=\"1\" /><path clip-path=\"url(#clip890)\" d=\"M779.321 1225.05 L779.321 1227.13 L759.738 1227.13 Q760.016 1231.53 762.377 1233.84 Q764.761 1236.14 768.997 1236.14 Q771.451 1236.14 773.742 1235.53 Q776.057 1234.93 778.326 1233.73 L778.326 1237.76 Q776.034 1238.73 773.627 1239.24 Q771.219 1239.75 768.742 1239.75 Q762.539 1239.75 758.904 1236.14 Q755.293 1232.52 755.293 1226.37 Q755.293 1220 758.719 1216.27 Q762.168 1212.52 768.002 1212.52 Q773.233 1212.52 776.265 1215.9 Q779.321 1219.26 779.321 1225.05 M775.062 1223.8 Q775.015 1220.3 773.094 1218.22 Q771.196 1216.14 768.048 1216.14 Q764.483 1216.14 762.33 1218.15 Q760.201 1220.16 759.877 1223.82 L775.062 1223.8 Z\" fill=\"#000000\" fill-rule=\"nonzero\" fill-opacity=\"1\" /><path clip-path=\"url(#clip890)\" d=\"M807.863 1223.43 L807.863 1239.08 L803.603 1239.08 L803.603 1223.57 Q803.603 1219.89 802.168 1218.06 Q800.733 1216.23 797.863 1216.23 Q794.414 1216.23 792.423 1218.43 Q790.432 1220.63 790.432 1224.42 L790.432 1239.08 L786.15 1239.08 L786.15 1213.15 L790.432 1213.15 L790.432 1217.18 Q791.96 1214.84 794.02 1213.68 Q796.103 1212.52 798.812 1212.52 Q803.279 1212.52 805.571 1215.3 Q807.863 1218.06 807.863 1223.43 Z\" fill=\"#000000\" fill-rule=\"nonzero\" fill-opacity=\"1\" /><path clip-path=\"url(#clip890)\" d=\"M836.288 1208.36 L836.288 1221.34 L842.168 1221.34 Q845.432 1221.34 847.214 1219.65 Q848.997 1217.96 848.997 1214.84 Q848.997 1211.74 847.214 1210.05 Q845.432 1208.36 842.168 1208.36 L836.288 1208.36 M831.612 1204.52 L842.168 1204.52 Q847.978 1204.52 850.941 1207.15 Q853.927 1209.77 853.927 1214.84 Q853.927 1219.96 850.941 1222.57 Q847.978 1225.19 842.168 1225.19 L836.288 1225.19 L836.288 1239.08 L831.612 1239.08 L831.612 1204.52 Z\" fill=\"#000000\" fill-rule=\"nonzero\" fill-opacity=\"1\" /><path clip-path=\"url(#clip890)\" d=\"M868.371 1216.14 Q864.946 1216.14 862.955 1218.82 Q860.964 1221.48 860.964 1226.14 Q860.964 1230.79 862.932 1233.47 Q864.922 1236.14 868.371 1236.14 Q871.774 1236.14 873.765 1233.45 Q875.756 1230.77 875.756 1226.14 Q875.756 1221.53 873.765 1218.84 Q871.774 1216.14 868.371 1216.14 M868.371 1212.52 Q873.927 1212.52 877.098 1216.14 Q880.27 1219.75 880.27 1226.14 Q880.27 1232.5 877.098 1236.14 Q873.927 1239.75 868.371 1239.75 Q862.793 1239.75 859.622 1236.14 Q856.473 1232.5 856.473 1226.14 Q856.473 1219.75 859.622 1216.14 Q862.793 1212.52 868.371 1212.52 Z\" fill=\"#000000\" fill-rule=\"nonzero\" fill-opacity=\"1\" /><path clip-path=\"url(#clip890)\" d=\"M902.353 1217.13 Q901.635 1216.71 900.779 1216.53 Q899.945 1216.32 898.927 1216.32 Q895.316 1216.32 893.371 1218.68 Q891.45 1221.02 891.45 1225.42 L891.45 1239.08 L887.168 1239.08 L887.168 1213.15 L891.45 1213.15 L891.45 1217.18 Q892.793 1214.82 894.945 1213.68 Q897.098 1212.52 900.177 1212.52 Q900.617 1212.52 901.149 1212.59 Q901.681 1212.64 902.33 1212.76 L902.353 1217.13 Z\" fill=\"#000000\" fill-rule=\"nonzero\" fill-opacity=\"1\" /><path clip-path=\"url(#clip890)\" d=\"M911.033 1205.79 L911.033 1213.15 L919.806 1213.15 L919.806 1216.46 L911.033 1216.46 L911.033 1230.53 Q911.033 1233.7 911.89 1234.61 Q912.769 1235.51 915.431 1235.51 L919.806 1235.51 L919.806 1239.08 L915.431 1239.08 Q910.501 1239.08 908.626 1237.25 Q906.751 1235.39 906.751 1230.53 L906.751 1216.46 L903.626 1216.46 L903.626 1213.15 L906.751 1213.15 L906.751 1205.79 L911.033 1205.79 Z\" fill=\"#000000\" fill-rule=\"nonzero\" fill-opacity=\"1\" /><path clip-path=\"url(#clip890)\" d=\"M938.533 1203.06 L938.533 1206.6 L934.459 1206.6 Q932.167 1206.6 931.265 1207.52 Q930.385 1208.45 930.385 1210.86 L930.385 1213.15 L937.399 1213.15 L937.399 1216.46 L930.385 1216.46 L930.385 1239.08 L926.103 1239.08 L926.103 1216.46 L922.029 1216.46 L922.029 1213.15 L926.103 1213.15 L926.103 1211.34 Q926.103 1207.02 928.117 1205.05 Q930.13 1203.06 934.505 1203.06 L938.533 1203.06 Z\" fill=\"#000000\" fill-rule=\"nonzero\" fill-opacity=\"1\" /><path clip-path=\"url(#clip890)\" d=\"M952.144 1216.14 Q948.718 1216.14 946.728 1218.82 Q944.737 1221.48 944.737 1226.14 Q944.737 1230.79 946.704 1233.47 Q948.695 1236.14 952.144 1236.14 Q955.547 1236.14 957.538 1233.45 Q959.528 1230.77 959.528 1226.14 Q959.528 1221.53 957.538 1218.84 Q955.547 1216.14 952.144 1216.14 M952.144 1212.52 Q957.7 1212.52 960.871 1216.14 Q964.042 1219.75 964.042 1226.14 Q964.042 1232.5 960.871 1236.14 Q957.7 1239.75 952.144 1239.75 Q946.565 1239.75 943.394 1236.14 Q940.246 1232.5 940.246 1226.14 Q940.246 1219.75 943.394 1216.14 Q946.565 1212.52 952.144 1212.52 Z\" fill=\"#000000\" fill-rule=\"nonzero\" fill-opacity=\"1\" /><path clip-path=\"url(#clip890)\" d=\"M971.102 1203.06 L975.362 1203.06 L975.362 1239.08 L971.102 1239.08 L971.102 1203.06 Z\" fill=\"#000000\" fill-rule=\"nonzero\" fill-opacity=\"1\" /><path clip-path=\"url(#clip890)\" d=\"M984.274 1213.15 L988.533 1213.15 L988.533 1239.08 L984.274 1239.08 L984.274 1213.15 M984.274 1203.06 L988.533 1203.06 L988.533 1208.45 L984.274 1208.45 L984.274 1203.06 Z\" fill=\"#000000\" fill-rule=\"nonzero\" fill-opacity=\"1\" /><path clip-path=\"url(#clip890)\" d=\"M1007.49 1216.14 Q1004.07 1216.14 1002.07 1218.82 Q1000.08 1221.48 1000.08 1226.14 Q1000.08 1230.79 1002.05 1233.47 Q1004.04 1236.14 1007.49 1236.14 Q1010.89 1236.14 1012.88 1233.45 Q1014.88 1230.77 1014.88 1226.14 Q1014.88 1221.53 1012.88 1218.84 Q1010.89 1216.14 1007.49 1216.14 M1007.49 1212.52 Q1013.05 1212.52 1016.22 1216.14 Q1019.39 1219.75 1019.39 1226.14 Q1019.39 1232.5 1016.22 1236.14 Q1013.05 1239.75 1007.49 1239.75 Q1001.91 1239.75 998.741 1236.14 Q995.593 1232.5 995.593 1226.14 Q995.593 1219.75 998.741 1216.14 Q1001.91 1212.52 1007.49 1212.52 Z\" fill=\"#000000\" fill-rule=\"nonzero\" fill-opacity=\"1\" /><path clip-path=\"url(#clip890)\" d=\"M1041.7 1204.52 L1046.38 1204.52 L1046.38 1239.08 L1041.7 1239.08 L1041.7 1204.52 Z\" fill=\"#000000\" fill-rule=\"nonzero\" fill-opacity=\"1\" /><path clip-path=\"url(#clip890)\" d=\"M1077.05 1223.43 L1077.05 1239.08 L1072.79 1239.08 L1072.79 1223.57 Q1072.79 1219.89 1071.36 1218.06 Q1069.92 1216.23 1067.05 1216.23 Q1063.6 1216.23 1061.61 1218.43 Q1059.62 1220.63 1059.62 1224.42 L1059.62 1239.08 L1055.34 1239.08 L1055.34 1213.15 L1059.62 1213.15 L1059.62 1217.18 Q1061.15 1214.84 1063.21 1213.68 Q1065.29 1212.52 1068 1212.52 Q1072.47 1212.52 1074.76 1215.3 Q1077.05 1218.06 1077.05 1223.43 Z\" fill=\"#000000\" fill-rule=\"nonzero\" fill-opacity=\"1\" /><path clip-path=\"url(#clip890)\" d=\"M1085.55 1213.15 L1089.81 1213.15 L1089.81 1239.08 L1085.55 1239.08 L1085.55 1213.15 M1085.55 1203.06 L1089.81 1203.06 L1089.81 1208.45 L1085.55 1208.45 L1085.55 1203.06 Z\" fill=\"#000000\" fill-rule=\"nonzero\" fill-opacity=\"1\" /><path clip-path=\"url(#clip890)\" d=\"M1102.93 1205.79 L1102.93 1213.15 L1111.7 1213.15 L1111.7 1216.46 L1102.93 1216.46 L1102.93 1230.53 Q1102.93 1233.7 1103.79 1234.61 Q1104.67 1235.51 1107.33 1235.51 L1111.7 1235.51 L1111.7 1239.08 L1107.33 1239.08 Q1102.4 1239.08 1100.52 1237.25 Q1098.65 1235.39 1098.65 1230.53 L1098.65 1216.46 L1095.52 1216.46 L1095.52 1213.15 L1098.65 1213.15 L1098.65 1205.79 L1102.93 1205.79 Z\" fill=\"#000000\" fill-rule=\"nonzero\" fill-opacity=\"1\" /><path clip-path=\"url(#clip890)\" d=\"M1117.31 1213.15 L1121.56 1213.15 L1121.56 1239.08 L1117.31 1239.08 L1117.31 1213.15 M1117.31 1203.06 L1121.56 1203.06 L1121.56 1208.45 L1117.31 1208.45 L1117.31 1203.06 Z\" fill=\"#000000\" fill-rule=\"nonzero\" fill-opacity=\"1\" /><path clip-path=\"url(#clip890)\" d=\"M1142.26 1226.04 Q1137.1 1226.04 1135.11 1227.22 Q1133.12 1228.4 1133.12 1231.25 Q1133.12 1233.52 1134.6 1234.86 Q1136.1 1236.18 1138.67 1236.18 Q1142.21 1236.18 1144.34 1233.68 Q1146.49 1231.16 1146.49 1226.99 L1146.49 1226.04 L1142.26 1226.04 M1150.75 1224.28 L1150.75 1239.08 L1146.49 1239.08 L1146.49 1235.14 Q1145.04 1237.5 1142.86 1238.64 Q1140.68 1239.75 1137.54 1239.75 Q1133.56 1239.75 1131.19 1237.52 Q1128.86 1235.28 1128.86 1231.53 Q1128.86 1227.15 1131.77 1224.93 Q1134.71 1222.71 1140.52 1222.71 L1146.49 1222.71 L1146.49 1222.29 Q1146.49 1219.35 1144.55 1217.76 Q1142.63 1216.14 1139.13 1216.14 Q1136.91 1216.14 1134.81 1216.67 Q1132.7 1217.2 1130.75 1218.27 L1130.75 1214.33 Q1133.09 1213.43 1135.29 1212.99 Q1137.49 1212.52 1139.57 1212.52 Q1145.2 1212.52 1147.98 1215.44 Q1150.75 1218.36 1150.75 1224.28 Z\" fill=\"#000000\" fill-rule=\"nonzero\" fill-opacity=\"1\" /><path clip-path=\"url(#clip890)\" d=\"M1159.53 1203.06 L1163.79 1203.06 L1163.79 1239.08 L1159.53 1239.08 L1159.53 1203.06 Z\" fill=\"#000000\" fill-rule=\"nonzero\" fill-opacity=\"1\" /><polyline clip-path=\"url(#clip890)\" style=\"stroke:#0000ff; stroke-linecap:round; stroke-linejoin:round; stroke-width:12; stroke-opacity:1; fill:none\" points=\"486.591,1273.64 616.789,1273.64 \"/>\n",
       "<path clip-path=\"url(#clip890)\" d=\"M660.734 1257.49 L660.734 1262.05 Q658.072 1260.78 655.711 1260.15 Q653.349 1259.53 651.15 1259.53 Q647.331 1259.53 645.248 1261.01 Q643.187 1262.49 643.187 1265.22 Q643.187 1267.51 644.553 1268.69 Q645.942 1269.85 649.785 1270.57 L652.609 1271.15 Q657.84 1272.14 660.317 1274.67 Q662.817 1277.17 662.817 1281.38 Q662.817 1286.4 659.437 1288.99 Q656.081 1291.59 649.576 1291.59 Q647.123 1291.59 644.345 1291.03 Q641.59 1290.48 638.627 1289.39 L638.627 1284.57 Q641.475 1286.17 644.206 1286.98 Q646.937 1287.79 649.576 1287.79 Q653.581 1287.79 655.757 1286.22 Q657.933 1284.64 657.933 1281.73 Q657.933 1279.18 656.359 1277.74 Q654.808 1276.31 651.243 1275.59 L648.396 1275.04 Q643.164 1273.99 640.826 1271.77 Q638.488 1269.55 638.488 1265.59 Q638.488 1261.01 641.706 1258.37 Q644.947 1255.73 650.618 1255.73 Q653.049 1255.73 655.572 1256.17 Q658.095 1256.61 660.734 1257.49 Z\" fill=\"#000000\" fill-rule=\"nonzero\" fill-opacity=\"1\" /><path clip-path=\"url(#clip890)\" d=\"M674.785 1260.2 L674.785 1273.18 L680.664 1273.18 Q683.928 1273.18 685.71 1271.49 Q687.493 1269.8 687.493 1266.68 Q687.493 1263.58 685.71 1261.89 Q683.928 1260.2 680.664 1260.2 L674.785 1260.2 M670.109 1256.36 L680.664 1256.36 Q686.474 1256.36 689.437 1258.99 Q692.423 1261.61 692.423 1266.68 Q692.423 1271.8 689.437 1274.41 Q686.474 1277.03 680.664 1277.03 L674.785 1277.03 L674.785 1290.92 L670.109 1290.92 L670.109 1256.36 Z\" fill=\"#000000\" fill-rule=\"nonzero\" fill-opacity=\"1\" /><path clip-path=\"url(#clip890)\" d=\"M692.909 1256.36 L697.933 1256.36 L707.516 1270.57 L717.03 1256.36 L722.053 1256.36 L709.831 1274.46 L709.831 1290.92 L705.132 1290.92 L705.132 1274.46 L692.909 1256.36 Z\" fill=\"#000000\" fill-rule=\"nonzero\" fill-opacity=\"1\" /><polyline clip-path=\"url(#clip890)\" style=\"stroke:#ff0000; stroke-linecap:round; stroke-linejoin:round; stroke-width:20; stroke-opacity:1; fill:none\" points=\"486.591,1325.48 616.789,1325.48 \"/>\n",
       "<path clip-path=\"url(#clip890)\" d=\"M654.877 1326.55 Q656.382 1327.06 657.794 1328.73 Q659.229 1330.39 660.664 1333.31 L665.41 1342.76 L660.386 1342.76 L655.965 1333.89 Q654.252 1330.42 652.632 1329.28 Q651.035 1328.15 648.257 1328.15 L643.164 1328.15 L643.164 1342.76 L638.488 1342.76 L638.488 1308.2 L649.044 1308.2 Q654.97 1308.2 657.886 1310.67 Q660.803 1313.15 660.803 1318.15 Q660.803 1321.41 659.275 1323.57 Q657.771 1325.72 654.877 1326.55 M643.164 1312.04 L643.164 1324.31 L649.044 1324.31 Q652.424 1324.31 654.136 1322.76 Q655.873 1321.18 655.873 1318.15 Q655.873 1315.12 654.136 1313.59 Q652.424 1312.04 649.044 1312.04 L643.164 1312.04 Z\" fill=\"#000000\" fill-rule=\"nonzero\" fill-opacity=\"1\" /><path clip-path=\"url(#clip890)\" d=\"M691.289 1328.73 L691.289 1330.81 L671.706 1330.81 Q671.984 1335.21 674.345 1337.52 Q676.729 1339.82 680.965 1339.82 Q683.419 1339.82 685.71 1339.21 Q688.025 1338.61 690.294 1337.41 L690.294 1341.44 Q688.002 1342.41 685.595 1342.92 Q683.187 1343.43 680.71 1343.43 Q674.507 1343.43 670.873 1339.82 Q667.261 1336.2 667.261 1330.05 Q667.261 1323.68 670.687 1319.95 Q674.136 1316.2 679.97 1316.2 Q685.201 1316.2 688.234 1319.58 Q691.289 1322.94 691.289 1328.73 M687.03 1327.48 Q686.984 1323.98 685.062 1321.9 Q683.164 1319.82 680.016 1319.82 Q676.451 1319.82 674.298 1321.83 Q672.169 1323.84 671.845 1327.5 L687.03 1327.48 Z\" fill=\"#000000\" fill-rule=\"nonzero\" fill-opacity=\"1\" /><path clip-path=\"url(#clip890)\" d=\"M710.062 1329.72 Q704.9 1329.72 702.909 1330.9 Q700.919 1332.08 700.919 1334.93 Q700.919 1337.2 702.4 1338.54 Q703.905 1339.86 706.474 1339.86 Q710.016 1339.86 712.145 1337.36 Q714.298 1334.84 714.298 1330.67 L714.298 1329.72 L710.062 1329.72 M718.557 1327.96 L718.557 1342.76 L714.298 1342.76 L714.298 1338.82 Q712.84 1341.18 710.664 1342.32 Q708.488 1343.43 705.34 1343.43 Q701.358 1343.43 698.997 1341.2 Q696.659 1338.96 696.659 1335.21 Q696.659 1330.83 699.576 1328.61 Q702.516 1326.39 708.326 1326.39 L714.298 1326.39 L714.298 1325.97 Q714.298 1323.03 712.354 1321.44 Q710.432 1319.82 706.937 1319.82 Q704.715 1319.82 702.608 1320.35 Q700.502 1320.88 698.558 1321.95 L698.558 1318.01 Q700.896 1317.11 703.095 1316.67 Q705.294 1316.2 707.377 1316.2 Q713.002 1316.2 715.78 1319.12 Q718.557 1322.04 718.557 1327.96 Z\" fill=\"#000000\" fill-rule=\"nonzero\" fill-opacity=\"1\" /><path clip-path=\"url(#clip890)\" d=\"M727.331 1306.74 L731.59 1306.74 L731.59 1342.76 L727.331 1342.76 L727.331 1306.74 Z\" fill=\"#000000\" fill-rule=\"nonzero\" fill-opacity=\"1\" /><path clip-path=\"url(#clip890)\" d=\"M740.502 1306.74 L744.761 1306.74 L744.761 1342.76 L740.502 1342.76 L740.502 1306.74 Z\" fill=\"#000000\" fill-rule=\"nonzero\" fill-opacity=\"1\" /><path clip-path=\"url(#clip890)\" d=\"M763.719 1319.82 Q760.293 1319.82 758.303 1322.5 Q756.312 1325.16 756.312 1329.82 Q756.312 1334.47 758.279 1337.15 Q760.27 1339.82 763.719 1339.82 Q767.122 1339.82 769.113 1337.13 Q771.103 1334.45 771.103 1329.82 Q771.103 1325.21 769.113 1322.52 Q767.122 1319.82 763.719 1319.82 M763.719 1316.2 Q769.275 1316.2 772.446 1319.82 Q775.617 1323.43 775.617 1329.82 Q775.617 1336.18 772.446 1339.82 Q769.275 1343.43 763.719 1343.43 Q758.141 1343.43 754.969 1339.82 Q751.821 1336.18 751.821 1329.82 Q751.821 1323.43 754.969 1319.82 Q758.141 1316.2 763.719 1316.2 Z\" fill=\"#000000\" fill-rule=\"nonzero\" fill-opacity=\"1\" /><path clip-path=\"url(#clip890)\" d=\"M801.335 1317.82 L801.335 1321.81 Q799.529 1320.81 797.701 1320.32 Q795.895 1319.82 794.043 1319.82 Q789.9 1319.82 787.608 1322.45 Q785.316 1325.07 785.316 1329.82 Q785.316 1334.56 787.608 1337.2 Q789.9 1339.82 794.043 1339.82 Q795.895 1339.82 797.701 1339.33 Q799.529 1338.82 801.335 1337.82 L801.335 1341.76 Q799.552 1342.59 797.631 1343.01 Q795.733 1343.43 793.58 1343.43 Q787.724 1343.43 784.275 1339.75 Q780.826 1336.07 780.826 1329.82 Q780.826 1323.47 784.298 1319.84 Q787.793 1316.2 793.858 1316.2 Q795.826 1316.2 797.701 1316.62 Q799.576 1317.01 801.335 1317.82 Z\" fill=\"#000000\" fill-rule=\"nonzero\" fill-opacity=\"1\" /><path clip-path=\"url(#clip890)\" d=\"M820.524 1329.72 Q815.362 1329.72 813.372 1330.9 Q811.381 1332.08 811.381 1334.93 Q811.381 1337.2 812.863 1338.54 Q814.367 1339.86 816.937 1339.86 Q820.478 1339.86 822.608 1337.36 Q824.761 1334.84 824.761 1330.67 L824.761 1329.72 L820.524 1329.72 M829.02 1327.96 L829.02 1342.76 L824.761 1342.76 L824.761 1338.82 Q823.302 1341.18 821.126 1342.32 Q818.95 1343.43 815.802 1343.43 Q811.821 1343.43 809.46 1341.2 Q807.122 1338.96 807.122 1335.21 Q807.122 1330.83 810.038 1328.61 Q812.978 1326.39 818.788 1326.39 L824.761 1326.39 L824.761 1325.97 Q824.761 1323.03 822.816 1321.44 Q820.895 1319.82 817.4 1319.82 Q815.177 1319.82 813.071 1320.35 Q810.964 1320.88 809.02 1321.95 L809.02 1318.01 Q811.358 1317.11 813.557 1316.67 Q815.756 1316.2 817.839 1316.2 Q823.464 1316.2 826.242 1319.12 Q829.02 1322.04 829.02 1327.96 Z\" fill=\"#000000\" fill-rule=\"nonzero\" fill-opacity=\"1\" /><path clip-path=\"url(#clip890)\" d=\"M842.006 1309.47 L842.006 1316.83 L850.779 1316.83 L850.779 1320.14 L842.006 1320.14 L842.006 1334.21 Q842.006 1337.38 842.862 1338.29 Q843.742 1339.19 846.404 1339.19 L850.779 1339.19 L850.779 1342.76 L846.404 1342.76 Q841.473 1342.76 839.598 1340.93 Q837.723 1339.07 837.723 1334.21 L837.723 1320.14 L834.598 1320.14 L834.598 1316.83 L837.723 1316.83 L837.723 1309.47 L842.006 1309.47 Z\" fill=\"#000000\" fill-rule=\"nonzero\" fill-opacity=\"1\" /><path clip-path=\"url(#clip890)\" d=\"M878.557 1328.73 L878.557 1330.81 L858.973 1330.81 Q859.251 1335.21 861.612 1337.52 Q863.996 1339.82 868.233 1339.82 Q870.686 1339.82 872.978 1339.21 Q875.293 1338.61 877.561 1337.41 L877.561 1341.44 Q875.27 1342.41 872.862 1342.92 Q870.455 1343.43 867.978 1343.43 Q861.774 1343.43 858.14 1339.82 Q854.529 1336.2 854.529 1330.05 Q854.529 1323.68 857.955 1319.95 Q861.404 1316.2 867.237 1316.2 Q872.469 1316.2 875.501 1319.58 Q878.557 1322.94 878.557 1328.73 M874.297 1327.48 Q874.251 1323.98 872.33 1321.9 Q870.432 1319.82 867.284 1319.82 Q863.719 1319.82 861.566 1321.83 Q859.436 1323.84 859.112 1327.5 L874.297 1327.48 Z\" fill=\"#000000\" fill-rule=\"nonzero\" fill-opacity=\"1\" /><path clip-path=\"url(#clip890)\" d=\"M902.607 1320.76 L902.607 1306.74 L906.867 1306.74 L906.867 1342.76 L902.607 1342.76 L902.607 1338.87 Q901.265 1341.18 899.205 1342.32 Q897.168 1343.43 894.297 1343.43 Q889.598 1343.43 886.635 1339.68 Q883.695 1335.93 883.695 1329.82 Q883.695 1323.7 886.635 1319.95 Q889.598 1316.2 894.297 1316.2 Q897.168 1316.2 899.205 1317.34 Q901.265 1318.45 902.607 1320.76 M888.094 1329.82 Q888.094 1334.51 890.015 1337.2 Q891.959 1339.86 895.339 1339.86 Q898.719 1339.86 900.663 1337.2 Q902.607 1334.51 902.607 1329.82 Q902.607 1325.12 900.663 1322.45 Q898.719 1319.77 895.339 1319.77 Q891.959 1319.77 890.015 1322.45 Q888.094 1325.12 888.094 1329.82 Z\" fill=\"#000000\" fill-rule=\"nonzero\" fill-opacity=\"1\" /><path clip-path=\"url(#clip890)\" d=\"M935.57 1312.04 L935.57 1325.02 L941.45 1325.02 Q944.714 1325.02 946.496 1323.33 Q948.278 1321.64 948.278 1318.52 Q948.278 1315.42 946.496 1313.73 Q944.714 1312.04 941.45 1312.04 L935.57 1312.04 M930.894 1308.2 L941.45 1308.2 Q947.26 1308.2 950.223 1310.83 Q953.209 1313.45 953.209 1318.52 Q953.209 1323.64 950.223 1326.25 Q947.26 1328.87 941.45 1328.87 L935.57 1328.87 L935.57 1342.76 L930.894 1342.76 L930.894 1308.2 Z\" fill=\"#000000\" fill-rule=\"nonzero\" fill-opacity=\"1\" /><path clip-path=\"url(#clip890)\" d=\"M967.653 1319.82 Q964.227 1319.82 962.237 1322.5 Q960.246 1325.16 960.246 1329.82 Q960.246 1334.47 962.214 1337.15 Q964.204 1339.82 967.653 1339.82 Q971.056 1339.82 973.047 1337.13 Q975.038 1334.45 975.038 1329.82 Q975.038 1325.21 973.047 1322.52 Q971.056 1319.82 967.653 1319.82 M967.653 1316.2 Q973.209 1316.2 976.38 1319.82 Q979.551 1323.43 979.551 1329.82 Q979.551 1336.18 976.38 1339.82 Q973.209 1343.43 967.653 1343.43 Q962.075 1343.43 958.903 1339.82 Q955.755 1336.18 955.755 1329.82 Q955.755 1323.43 958.903 1319.82 Q962.075 1316.2 967.653 1316.2 Z\" fill=\"#000000\" fill-rule=\"nonzero\" fill-opacity=\"1\" /><path clip-path=\"url(#clip890)\" d=\"M1001.63 1320.81 Q1000.92 1320.39 1000.06 1320.21 Q999.227 1320 998.209 1320 Q994.598 1320 992.653 1322.36 Q990.732 1324.7 990.732 1329.1 L990.732 1342.76 L986.45 1342.76 L986.45 1316.83 L990.732 1316.83 L990.732 1320.86 Q992.075 1318.5 994.227 1317.36 Q996.38 1316.2 999.459 1316.2 Q999.899 1316.2 1000.43 1316.27 Q1000.96 1316.32 1001.61 1316.44 L1001.63 1320.81 Z\" fill=\"#000000\" fill-rule=\"nonzero\" fill-opacity=\"1\" /><path clip-path=\"url(#clip890)\" d=\"M1010.32 1309.47 L1010.32 1316.83 L1019.09 1316.83 L1019.09 1320.14 L1010.32 1320.14 L1010.32 1334.21 Q1010.32 1337.38 1011.17 1338.29 Q1012.05 1339.19 1014.71 1339.19 L1019.09 1339.19 L1019.09 1342.76 L1014.71 1342.76 Q1009.78 1342.76 1007.91 1340.93 Q1006.03 1339.07 1006.03 1334.21 L1006.03 1320.14 L1002.91 1320.14 L1002.91 1316.83 L1006.03 1316.83 L1006.03 1309.47 L1010.32 1309.47 Z\" fill=\"#000000\" fill-rule=\"nonzero\" fill-opacity=\"1\" /><path clip-path=\"url(#clip890)\" d=\"M1037.81 1306.74 L1037.81 1310.28 L1033.74 1310.28 Q1031.45 1310.28 1030.55 1311.2 Q1029.67 1312.13 1029.67 1314.54 L1029.67 1316.83 L1036.68 1316.83 L1036.68 1320.14 L1029.67 1320.14 L1029.67 1342.76 L1025.38 1342.76 L1025.38 1320.14 L1021.31 1320.14 L1021.31 1316.83 L1025.38 1316.83 L1025.38 1315.02 Q1025.38 1310.7 1027.4 1308.73 Q1029.41 1306.74 1033.79 1306.74 L1037.81 1306.74 Z\" fill=\"#000000\" fill-rule=\"nonzero\" fill-opacity=\"1\" /><path clip-path=\"url(#clip890)\" d=\"M1051.43 1319.82 Q1048 1319.82 1046.01 1322.5 Q1044.02 1325.16 1044.02 1329.82 Q1044.02 1334.47 1045.99 1337.15 Q1047.98 1339.82 1051.43 1339.82 Q1054.83 1339.82 1056.82 1337.13 Q1058.81 1334.45 1058.81 1329.82 Q1058.81 1325.21 1056.82 1322.52 Q1054.83 1319.82 1051.43 1319.82 M1051.43 1316.2 Q1056.98 1316.2 1060.15 1319.82 Q1063.32 1323.43 1063.32 1329.82 Q1063.32 1336.18 1060.15 1339.82 Q1056.98 1343.43 1051.43 1343.43 Q1045.85 1343.43 1042.68 1339.82 Q1039.53 1336.18 1039.53 1329.82 Q1039.53 1323.43 1042.68 1319.82 Q1045.85 1316.2 1051.43 1316.2 Z\" fill=\"#000000\" fill-rule=\"nonzero\" fill-opacity=\"1\" /><path clip-path=\"url(#clip890)\" d=\"M1070.38 1306.74 L1074.64 1306.74 L1074.64 1342.76 L1070.38 1342.76 L1070.38 1306.74 Z\" fill=\"#000000\" fill-rule=\"nonzero\" fill-opacity=\"1\" /><path clip-path=\"url(#clip890)\" d=\"M1083.56 1316.83 L1087.81 1316.83 L1087.81 1342.76 L1083.56 1342.76 L1083.56 1316.83 M1083.56 1306.74 L1087.81 1306.74 L1087.81 1312.13 L1083.56 1312.13 L1083.56 1306.74 Z\" fill=\"#000000\" fill-rule=\"nonzero\" fill-opacity=\"1\" /><path clip-path=\"url(#clip890)\" d=\"M1106.77 1319.82 Q1103.35 1319.82 1101.36 1322.5 Q1099.37 1325.16 1099.37 1329.82 Q1099.37 1334.47 1101.33 1337.15 Q1103.32 1339.82 1106.77 1339.82 Q1110.18 1339.82 1112.17 1337.13 Q1114.16 1334.45 1114.16 1329.82 Q1114.16 1325.21 1112.17 1322.52 Q1110.18 1319.82 1106.77 1319.82 M1106.77 1316.2 Q1112.33 1316.2 1115.5 1319.82 Q1118.67 1323.43 1118.67 1329.82 Q1118.67 1336.18 1115.5 1339.82 Q1112.33 1343.43 1106.77 1343.43 Q1101.19 1343.43 1098.02 1339.82 Q1094.87 1336.18 1094.87 1329.82 Q1094.87 1323.43 1098.02 1319.82 Q1101.19 1316.2 1106.77 1316.2 Z\" fill=\"#000000\" fill-rule=\"nonzero\" fill-opacity=\"1\" /></svg>\n"
      ]
     },
     "metadata": {},
     "output_type": "display_data"
    }
   ],
   "source": [
    "plot((1/table_data[1,end]).*table_data[:,end],\n",
    "    lw=4, c=:purple, label=\"Chosen Portfolio Initial\")\n",
    "plot!((1/SPY_df[1,:volume_weighted_average_price]).*SPY_df[1:trading_days,:volume_weighted_average_price],\n",
    "    lw=3, c=:blue, label=\"SPY\")\n",
    "plot!((1/reallocated_portfolio[1,end]).*reallocated_portfolio[:,end], \n",
    "    lw=6, c=:red, label=\"Reallocated Portfolio\")\n",
    "\n",
    "xlabel!(\"Trading Day (2023)\", fontsize=18)\n",
    "ylabel!(\"Wealth (USD)\", fontsize=18)"
   ]
  },
  {
   "cell_type": "code",
   "execution_count": 173,
   "id": "d8d681d2",
   "metadata": {},
   "outputs": [
    {
     "ename": "ArgumentError",
     "evalue": "ArgumentError: column name \"N_updated\" not found in the data frame since it has no columns",
     "output_type": "error",
     "traceback": [
      "ArgumentError: column name \"N_updated\" not found in the data frame since it has no columns\n",
      "\n",
      "Stacktrace:\n",
      " [1] lookupname\n",
      "   @ ~/.julia/packages/DataFrames/58MUJ/src/other/index.jl:410 [inlined]\n",
      " [2] getindex\n",
      "   @ ~/.julia/packages/DataFrames/58MUJ/src/other/index.jl:422 [inlined]\n",
      " [3] getindex(df::DataFrame, row_ind::Int64, col_ind::Symbol)\n",
      "   @ DataFrames ~/.julia/packages/DataFrames/58MUJ/src/dataframe/dataframe.jl:522\n",
      " [4] top-level scope\n",
      "   @ ~/Desktop/CHEME-5660-Project-Template-F23/Template.ipynb:8"
     ]
    }
   ],
   "source": [
    "shares_array=Array{Float64, 2}(undef, trading_days+1, length(w)+1)\n",
    "shares_array[1,1]=0\n",
    "for element in eachindex(tickers)\n",
    "    shares_array[1,element+1]=N_naught[element]\n",
    "end\n",
    "\n",
    "for element in 1:222\n",
    "    n_vector=results[element,:N_updated]\n",
    "    shares_array[element+1,1]=element\n",
    "    for j in eachindex(n_vector)\n",
    "        shares_array[i+1,j+1]=n_vector[j] |> x -> round(x,digits=3)|> abs\n",
    "    end\n",
    "end\n",
    "\n",
    "header_dt=Array{String,1}()\n",
    "push!(header_dt,\"index\")\n",
    "[push!(header_dt, ticker) for ticker in tickers]\n",
    "pretty_table(shares_array, header=header_dt)"
   ]
  },
  {
   "cell_type": "markdown",
   "id": "b3b5cd21-bb87-4bb0-b2e3-29391ba3859f",
   "metadata": {},
   "source": [
    "## Disclaimer and Risks\n",
    "__This content is offered solely for training and  informational purposes__. No offer or solicitation to buy or sell securities or derivative products, or any investment or trading advice or strategy,  is made, given, or endorsed by the teaching team. \n",
    "\n",
    "__Trading involves risk__. Carefully review your financial situation before investing in securities, futures contracts, options, or commodity interests. Past performance, whether actual or indicated by historical tests of strategies, is no guarantee of future performance or success. Trading is generally inappropriate for someone with limited resources, investment or trading experience, or a low-risk tolerance.  Only risk capital that is not required for living expenses.\n",
    "\n",
    "__You are fully responsible for any investment or trading decisions you make__. Such decisions should be based solely on your evaluation of your financial circumstances, investment or trading objectives, risk tolerance, and liquidity needs."
   ]
  }
 ],
 "metadata": {
  "kernelspec": {
   "display_name": "Julia 1.9.2",
   "language": "julia",
   "name": "julia-1.9"
  },
  "language_info": {
   "file_extension": ".jl",
   "mimetype": "application/julia",
   "name": "julia",
   "version": "1.9.2"
  }
 },
 "nbformat": 4,
 "nbformat_minor": 5
}
