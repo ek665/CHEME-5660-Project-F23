{
 "cells": [
  {
   "cell_type": "markdown",
   "id": "80ae6a55-e35b-401a-9fd2-353207a8b340",
   "metadata": {},
   "source": [
    "### Analyzing Investment Portfolios for Ugandan Health Clinics Endownment\n",
    "Investment Portfolio Project, ChemE 5660\n",
    "\n",
    "Chike Murray, Sonny Vo , Erik Kirakosyan"
   ]
  },
  {
   "cell_type": "markdown",
   "id": "cac5eb3a-be19-4274-8400-09af3e83ff21",
   "metadata": {
    "jp-MarkdownHeadingCollapsed": true,
    "tags": []
   },
   "source": [
    "## Setup"
   ]
  },
  {
   "cell_type": "code",
   "execution_count": 2,
   "id": "c428c856-064a-4a35-97bc-800cc0d49a58",
   "metadata": {
    "tags": []
   },
   "outputs": [
    {
     "name": "stderr",
     "output_type": "stream",
     "text": [
      "\u001b[32m\u001b[1m    Updating\u001b[22m\u001b[39m git-repo `https://github.com/varnerlab/VLQuantitativeFinancePackage.jl.git`\n"
     ]
    },
    {
     "name": "stderr",
     "output_type": "stream",
     "text": [
      "\u001b[32m\u001b[1m   Resolving\u001b[22m\u001b[39m package versions...\n"
     ]
    },
    {
     "name": "stderr",
     "output_type": "stream",
     "text": [
      "\u001b[32m\u001b[1m  No Changes\u001b[22m\u001b[39m to `~/Desktop/CHEME-5660-Project-Template-F23/Project.toml`\n",
      "\u001b[32m\u001b[1m  No Changes\u001b[22m\u001b[39m to `~/Desktop/CHEME-5660-Project-Template-F23/Manifest.toml`\n"
     ]
    },
    {
     "name": "stderr",
     "output_type": "stream",
     "text": [
      "\u001b[32m\u001b[1m  Activating\u001b[22m\u001b[39m project at `~/Desktop/CHEME-5660-Project-Template-F23`\n"
     ]
    },
    {
     "name": "stderr",
     "output_type": "stream",
     "text": [
      "\u001b[32m\u001b[1m  No Changes\u001b[22m\u001b[39m to `~/Desktop/CHEME-5660-Project-Template-F23/Project.toml`\n",
      "\u001b[32m\u001b[1m  No Changes\u001b[22m\u001b[39m to `~/Desktop/CHEME-5660-Project-Template-F23/Manifest.toml`\n"
     ]
    },
    {
     "name": "stderr",
     "output_type": "stream",
     "text": [
      "\u001b[32m\u001b[1m    Updating\u001b[22m\u001b[39m registry at `~/.julia/registries/General.toml`\n",
      "\u001b[32m\u001b[1m    Updating\u001b[22m\u001b[39m git-repo `https://github.com/varnerlab/VLQuantitativeFinancePackage.jl.git`\n"
     ]
    },
    {
     "name": "stderr",
     "output_type": "stream",
     "text": [
      "\u001b[32m\u001b[1m  No Changes\u001b[22m\u001b[39m to `~/Desktop/CHEME-5660-Project-Template-F23/Project.toml`\n",
      "\u001b[32m\u001b[1m  No Changes\u001b[22m\u001b[39m to `~/Desktop/CHEME-5660-Project-Template-F23/Manifest.toml`\n"
     ]
    }
   ],
   "source": [
    "include(\"Include.jl\");"
   ]
  },
  {
   "cell_type": "markdown",
   "id": "21519cf1-3079-4a5a-8859-fd21f48bce94",
   "metadata": {
    "jp-MarkdownHeadingCollapsed": true,
    "tags": []
   },
   "source": [
    "## Prerequisites: Load historical dataset, compute expected returns and get 2023 `SPY` data\n",
    "We gathered a daily open-high-low-close `dataset` for each firm in the [S&P500](https://en.wikipedia.org/wiki/S%26P_500) since `01-03-2018` until `12-01-2023`, along with data for a few exchange traded funds and volatility products during that time. "
   ]
  },
  {
   "cell_type": "code",
   "execution_count": 3,
   "id": "79aa4361-4713-47c5-9892-8d822e7aac68",
   "metadata": {
    "tags": []
   },
   "outputs": [],
   "source": [
    "original_dataset = load(joinpath(_PATH_TO_DATA, \n",
    "        \"SP500-Daily-OHLC-1-3-2018-to-12-01-2023.jld2\")) |> x-> x[\"dataset\"];"
   ]
  },
  {
   "cell_type": "markdown",
   "id": "d5567fb5-3688-4fe7-8cc9-201119de77f5",
   "metadata": {},
   "source": [
    "### Clean the data\n",
    "Not all of the tickers in our dataset have the maximum number of trading days for various reasons, e.g., acquistion or de-listing events. Let's collect only those tickers with the maximum number of trading days.\n",
    "\n",
    "* First, let's compute the number of records for a company that we know has a maximim value, e.g., `AAPL` and save that value in the `maximum_number_trading_days` variable:"
   ]
  },
  {
   "cell_type": "code",
   "execution_count": 4,
   "id": "5e88a72f-9231-459a-99bc-f0fdccc6e42d",
   "metadata": {
    "tags": []
   },
   "outputs": [
    {
     "data": {
      "text/plain": [
       "1489"
      ]
     },
     "metadata": {},
     "output_type": "display_data"
    }
   ],
   "source": [
    "maximum_number_trading_days = original_dataset[\"AAPL\"] |> nrow"
   ]
  },
  {
   "cell_type": "markdown",
   "id": "d3b64e6f-3662-48fe-bcec-ba6da19f60f9",
   "metadata": {},
   "source": [
    "Now, lets iterate through our data and collect only those tickers that have `maximum_number_trading_days` records. Save that data in the `dataset::Dict{String,DataFrame}` variable:"
   ]
  },
  {
   "cell_type": "code",
   "execution_count": 5,
   "id": "9b263c2a-7cb2-42ef-a700-b857aeb22f8e",
   "metadata": {
    "tags": []
   },
   "outputs": [
    {
     "data": {
      "text/plain": [
       "Dict{String, DataFrame} with 459 entries:\n",
       "  \"NI\"   => \u001b[1m1489×8 DataFrame\u001b[0m\u001b[0m…\n",
       "  \"EMR\"  => \u001b[1m1489×8 DataFrame\u001b[0m\u001b[0m…\n",
       "  \"CTAS\" => \u001b[1m1489×8 DataFrame\u001b[0m\u001b[0m…\n",
       "  \"HSIC\" => \u001b[1m1489×8 DataFrame\u001b[0m\u001b[0m…\n",
       "  \"KIM\"  => \u001b[1m1489×8 DataFrame\u001b[0m\u001b[0m…\n",
       "  \"PLD\"  => \u001b[1m1489×8 DataFrame\u001b[0m\u001b[0m…\n",
       "  \"IEX\"  => \u001b[1m1489×8 DataFrame\u001b[0m\u001b[0m…\n",
       "  \"BAC\"  => \u001b[1m1489×8 DataFrame\u001b[0m\u001b[0m…\n",
       "  \"CBOE\" => \u001b[1m1489×8 DataFrame\u001b[0m\u001b[0m…\n",
       "  \"EXR\"  => \u001b[1m1489×8 DataFrame\u001b[0m\u001b[0m…\n",
       "  \"NCLH\" => \u001b[1m1489×8 DataFrame\u001b[0m\u001b[0m…\n",
       "  \"CVS\"  => \u001b[1m1489×8 DataFrame\u001b[0m\u001b[0m…\n",
       "  \"DRI\"  => \u001b[1m1489×8 DataFrame\u001b[0m\u001b[0m…\n",
       "  \"DTE\"  => \u001b[1m1489×8 DataFrame\u001b[0m\u001b[0m…\n",
       "  \"ZION\" => \u001b[1m1489×8 DataFrame\u001b[0m\u001b[0m…\n",
       "  \"AVY\"  => \u001b[1m1489×8 DataFrame\u001b[0m\u001b[0m…\n",
       "  \"EW\"   => \u001b[1m1489×8 DataFrame\u001b[0m\u001b[0m…\n",
       "  \"EA\"   => \u001b[1m1489×8 DataFrame\u001b[0m\u001b[0m…\n",
       "  \"NWSA\" => \u001b[1m1489×8 DataFrame\u001b[0m\u001b[0m…\n",
       "  ⋮      => ⋮"
      ]
     },
     "metadata": {},
     "output_type": "display_data"
    }
   ],
   "source": [
    "dataset = Dict{String,DataFrame}();\n",
    "for (ticker,data) ∈ original_dataset\n",
    "    if (nrow(data) == maximum_number_trading_days)\n",
    "        dataset[ticker] = data;\n",
    "    end\n",
    "end\n",
    "dataset"
   ]
  },
  {
   "cell_type": "markdown",
   "id": "5ffb1bec-88c3-4648-b7e9-9b1300504b4a",
   "metadata": {},
   "source": [
    "Let's get a list of firms that we have in cleaned up `dataset`, and save it in the `all_tickers` array:"
   ]
  },
  {
   "cell_type": "code",
   "execution_count": 6,
   "id": "93f5fc90-048c-4e23-83da-8a362b297f77",
   "metadata": {
    "tags": []
   },
   "outputs": [],
   "source": [
    "all_tickers = keys(dataset) |> collect |> sort;\n",
    "K = length(all_tickers);"
   ]
  },
  {
   "cell_type": "markdown",
   "id": "1266557c-c5ce-4c67-9f93-7dcdb3038e26",
   "metadata": {},
   "source": [
    "### Get the 2023 `SPY` data"
   ]
  },
  {
   "cell_type": "code",
   "execution_count": 81,
   "id": "b700d807-61d8-4d3c-8c78-0908bcd81855",
   "metadata": {
    "tags": []
   },
   "outputs": [],
   "source": [
    "startdate = Date(2023,01,03);\n",
    "SPY_dataset = dataset[\"SPY\"];\n",
    "SPY_df = filter(:timestamp => x-> x >= startdate, SPY_dataset);"
   ]
  },
  {
   "cell_type": "markdown",
   "id": "9d07c6db-65c2-424b-878e-652936db2032",
   "metadata": {},
   "source": [
    "### Compute the expected return for all firms in the dataset\n",
    "The expected return $\\mathbb{E}(r_{i})$ and covariance matrix $\\Sigma$ will be used in our calculations, so we'll provide values for both of these items for the entire data set (all `N = 459` tickers), and then you can pick out which tickers you are interested in. \n",
    "\n",
    "* First, we compute the expected (annualized) log return by passing the `dataset` and the entire list of firms we have in the dataset (held in the $N\\times{1}$ `all_array` array) to the `log_return_matrix(...)` method. The result is stored in the `all_firms_return_matrix` variable, a $T-1\\times{N}$ array of log return values. Each row of `all_firms_return_matrix` corresponds to a time-value, while each column corresponds to a firm:"
   ]
  },
  {
   "cell_type": "code",
   "execution_count": 8,
   "id": "870a7ff9-d78c-4313-8e75-92cc67dc0858",
   "metadata": {
    "tags": []
   },
   "outputs": [],
   "source": [
    "all_firms_return_matrix = log_return_matrix(dataset, all_tickers, \n",
    "    Δt = (1.0/252.0), risk_free_rate = 0.0);"
   ]
  },
  {
   "cell_type": "markdown",
   "id": "2347705b-730c-44c2-ab83-4be788669bd9",
   "metadata": {},
   "source": [
    "## Your project starts here ...."
   ]
  },
  {
   "cell_type": "markdown",
   "id": "715b71b0",
   "metadata": {},
   "source": [
    "Selected Portfolio Tickers: \"NVDA\", \"MDT\", \"AMD\", \"PG\", \"MO\", \"PLD\""
   ]
  },
  {
   "cell_type": "markdown",
   "id": "01e616b0",
   "metadata": {},
   "source": [
    "### Statement of Assumptions:\n",
    "\n",
    "Similar to Lab 15b, we need to make assumptions to simplify our financial model. These assumptions are not completely realistic but greatly simplify the underlying math. \n",
    "\n",
    "1: The covariance matrix is constant over the period from 01-03-2018 to 12-01-2023. \n",
    "\n",
    "2: We are not taking into account short term capital gains tax, long term capital gains tax, restrictions on day trading and portfolio reallocation, or other market friction \n",
    "\n",
    "3: We are not taking into account real-world events and their impact on market volatility. "
   ]
  },
  {
   "cell_type": "markdown",
   "id": "b484bcfe",
   "metadata": {},
   "source": [
    "\n",
    "\n",
    "\n",
    "These files are prerequisites for portfolio optimization. "
   ]
  },
  {
   "cell_type": "code",
   "execution_count": 9,
   "id": "06422071",
   "metadata": {},
   "outputs": [
    {
     "data": {
      "text/plain": [
       "1000"
      ]
     },
     "metadata": {},
     "output_type": "display_data"
    }
   ],
   "source": [
    "budget= 1000; #initial grant size\n",
    "#REPLACE"
   ]
  },
  {
   "cell_type": "code",
   "execution_count": 10,
   "id": "f25da994",
   "metadata": {},
   "outputs": [],
   "source": [
    "capital_allocation= load(joinpath(_PATH_TO_DATA,\n",
    "        \"CapitalAllocationLine-cesteam-PD1-CHEME-5660-Fall-2023.jld2\")) |> x-> x[\"dataset\"];\n",
    "             \n",
    "SIMs=load(joinpath(_PATH_TO_DATA, \n",
    "        \"SIMs-cesteam-PD1-CHEME-5660-Fall-2023.jld2\"))|> x-> x[\"sims\"]; "
   ]
  },
  {
   "cell_type": "code",
   "execution_count": 11,
   "id": "eb7b4da1",
   "metadata": {},
   "outputs": [
    {
     "data": {
      "text/html": [
       "<div><div style = \"float: left;\"><span>64×5 DataFrame</span></div><div style = \"float: right;\"><span style = \"font-style: italic;\">39 rows omitted</span></div><div style = \"clear: both;\"></div></div><div class = \"data-frame\" style = \"overflow-x: scroll;\"><table class = \"data-frame\" style = \"margin-bottom: 6px;\"><thead><tr class = \"header\"><th class = \"rowNumber\" style = \"font-weight: bold; text-align: right;\">Row</th><th style = \"text-align: left;\">expected_excess_return</th><th style = \"text-align: left;\">risk</th><th style = \"text-align: left;\">tickers</th><th style = \"text-align: left;\">w</th><th style = \"text-align: left;\">risk_free_rate</th></tr><tr class = \"subheader headerLastRow\"><th class = \"rowNumber\" style = \"font-weight: bold; text-align: right;\"></th><th title = \"Float64\" style = \"text-align: left;\">Float64</th><th title = \"Float64\" style = \"text-align: left;\">Float64</th><th title = \"Vector{String}\" style = \"text-align: left;\">Array…</th><th title = \"Vector{Float64}\" style = \"text-align: left;\">Array…</th><th title = \"Float64\" style = \"text-align: left;\">Float64</th></tr></thead><tbody><tr><td class = \"rowNumber\" style = \"font-weight: bold; text-align: right;\">1</td><td style = \"text-align: right;\">1.43946e-7</td><td style = \"text-align: right;\">0.15205</td><td style = \"text-align: left;\">[&quot;NVDA&quot;, &quot;MDT&quot;, &quot;AMD&quot;, &quot;PG&quot;, &quot;MO&quot;, &quot;PLD&quot;]</td><td style = \"text-align: left;\">[1.25973e-7, 0.163492, 2.041e-7, 0.526952, 0.182744, 0.126812]</td><td style = \"text-align: right;\">0.05</td></tr><tr><td class = \"rowNumber\" style = \"font-weight: bold; text-align: right;\">2</td><td style = \"text-align: right;\">0.00454553</td><td style = \"text-align: right;\">0.152389</td><td style = \"text-align: left;\">[&quot;NVDA&quot;, &quot;MDT&quot;, &quot;AMD&quot;, &quot;PG&quot;, &quot;MO&quot;, &quot;PLD&quot;]</td><td style = \"text-align: left;\">[1.43311e-7, 0.152205, 3.11878e-7, 0.541592, 0.166631, 0.139571]</td><td style = \"text-align: right;\">0.05</td></tr><tr><td class = \"rowNumber\" style = \"font-weight: bold; text-align: right;\">3</td><td style = \"text-align: right;\">0.0090909</td><td style = \"text-align: right;\">0.152906</td><td style = \"text-align: left;\">[&quot;NVDA&quot;, &quot;MDT&quot;, &quot;AMD&quot;, &quot;PG&quot;, &quot;MO&quot;, &quot;PLD&quot;]</td><td style = \"text-align: left;\">[-3.00804e-9, 0.140918, 1.50331e-8, 0.556233, 0.150519, 0.15233]</td><td style = \"text-align: right;\">0.05</td></tr><tr><td class = \"rowNumber\" style = \"font-weight: bold; text-align: right;\">4</td><td style = \"text-align: right;\">0.0136364</td><td style = \"text-align: right;\">0.153602</td><td style = \"text-align: left;\">[&quot;NVDA&quot;, &quot;MDT&quot;, &quot;AMD&quot;, &quot;PG&quot;, &quot;MO&quot;, &quot;PLD&quot;]</td><td style = \"text-align: left;\">[-1.79631e-9, 0.129631, 4.45449e-7, 0.570874, 0.134406, 0.165089]</td><td style = \"text-align: right;\">0.05</td></tr><tr><td class = \"rowNumber\" style = \"font-weight: bold; text-align: right;\">5</td><td style = \"text-align: right;\">0.0181818</td><td style = \"text-align: right;\">0.154445</td><td style = \"text-align: left;\">[&quot;NVDA&quot;, &quot;MDT&quot;, &quot;AMD&quot;, &quot;PG&quot;, &quot;MO&quot;, &quot;PLD&quot;]</td><td style = \"text-align: left;\">[2.12656e-7, 0.120293, 0.00527865, 0.579719, 0.123312, 0.171397]</td><td style = \"text-align: right;\">0.05</td></tr><tr><td class = \"rowNumber\" style = \"font-weight: bold; text-align: right;\">6</td><td style = \"text-align: right;\">0.0227273</td><td style = \"text-align: right;\">0.155387</td><td style = \"text-align: left;\">[&quot;NVDA&quot;, &quot;MDT&quot;, &quot;AMD&quot;, &quot;PG&quot;, &quot;MO&quot;, &quot;PLD&quot;]</td><td style = \"text-align: left;\">[2.38957e-7, 0.111319, 0.0115415, 0.587484, 0.113155, 0.176501]</td><td style = \"text-align: right;\">0.05</td></tr><tr><td class = \"rowNumber\" style = \"font-weight: bold; text-align: right;\">7</td><td style = \"text-align: right;\">0.0272728</td><td style = \"text-align: right;\">0.156426</td><td style = \"text-align: left;\">[&quot;NVDA&quot;, &quot;MDT&quot;, &quot;AMD&quot;, &quot;PG&quot;, &quot;MO&quot;, &quot;PLD&quot;]</td><td style = \"text-align: left;\">[2.55663e-7, 0.102345, 0.0178048, 0.595248, 0.102998, 0.181604]</td><td style = \"text-align: right;\">0.05</td></tr><tr><td class = \"rowNumber\" style = \"font-weight: bold; text-align: right;\">8</td><td style = \"text-align: right;\">0.0318182</td><td style = \"text-align: right;\">0.157558</td><td style = \"text-align: left;\">[&quot;NVDA&quot;, &quot;MDT&quot;, &quot;AMD&quot;, &quot;PG&quot;, &quot;MO&quot;, &quot;PLD&quot;]</td><td style = \"text-align: left;\">[2.86795e-7, 0.0933715, 0.024068, 0.603012, 0.0928404, 0.186708]</td><td style = \"text-align: right;\">0.05</td></tr><tr><td class = \"rowNumber\" style = \"font-weight: bold; text-align: right;\">9</td><td style = \"text-align: right;\">0.0363637</td><td style = \"text-align: right;\">0.158782</td><td style = \"text-align: left;\">[&quot;NVDA&quot;, &quot;MDT&quot;, &quot;AMD&quot;, &quot;PG&quot;, &quot;MO&quot;, &quot;PLD&quot;]</td><td style = \"text-align: left;\">[3.39804e-7, 0.0843978, 0.0303313, 0.610776, 0.0826833, 0.191812]</td><td style = \"text-align: right;\">0.05</td></tr><tr><td class = \"rowNumber\" style = \"font-weight: bold; text-align: right;\">10</td><td style = \"text-align: right;\">0.0409091</td><td style = \"text-align: right;\">0.160096</td><td style = \"text-align: left;\">[&quot;NVDA&quot;, &quot;MDT&quot;, &quot;AMD&quot;, &quot;PG&quot;, &quot;MO&quot;, &quot;PLD&quot;]</td><td style = \"text-align: left;\">[4.54293e-7, 0.0754241, 0.0365946, 0.61854, 0.0725263, 0.196915]</td><td style = \"text-align: right;\">0.05</td></tr><tr><td class = \"rowNumber\" style = \"font-weight: bold; text-align: right;\">11</td><td style = \"text-align: right;\">0.0454546</td><td style = \"text-align: right;\">0.161498</td><td style = \"text-align: left;\">[&quot;NVDA&quot;, &quot;MDT&quot;, &quot;AMD&quot;, &quot;PG&quot;, &quot;MO&quot;, &quot;PLD&quot;]</td><td style = \"text-align: left;\">[7.6666e-7, 0.0664504, 0.0428579, 0.626303, 0.0623692, 0.202018]</td><td style = \"text-align: right;\">0.05</td></tr><tr><td class = \"rowNumber\" style = \"font-weight: bold; text-align: right;\">12</td><td style = \"text-align: right;\">0.05</td><td style = \"text-align: right;\">0.162985</td><td style = \"text-align: left;\">[&quot;NVDA&quot;, &quot;MDT&quot;, &quot;AMD&quot;, &quot;PG&quot;, &quot;MO&quot;, &quot;PLD&quot;]</td><td style = \"text-align: left;\">[1.74786e-6, 0.0574766, 0.0491209, 0.634067, 0.0522123, 0.207121]</td><td style = \"text-align: right;\">0.05</td></tr><tr><td class = \"rowNumber\" style = \"font-weight: bold; text-align: right;\">13</td><td style = \"text-align: right;\">0.0545454</td><td style = \"text-align: right;\">0.164556</td><td style = \"text-align: left;\">[&quot;NVDA&quot;, &quot;MDT&quot;, &quot;AMD&quot;, &quot;PG&quot;, &quot;MO&quot;, &quot;PLD&quot;]</td><td style = \"text-align: left;\">[1.27204e-8, 0.0485029, 0.0553847, 0.641832, 0.0420549, 0.212226]</td><td style = \"text-align: right;\">0.05</td></tr><tr><td style = \"text-align: right;\">&vellip;</td><td style = \"text-align: right;\">&vellip;</td><td style = \"text-align: right;\">&vellip;</td><td style = \"text-align: right;\">&vellip;</td><td style = \"text-align: right;\">&vellip;</td><td style = \"text-align: right;\">&vellip;</td></tr><tr><td class = \"rowNumber\" style = \"font-weight: bold; text-align: right;\">53</td><td style = \"text-align: right;\">0.236364</td><td style = \"text-align: right;\">0.371574</td><td style = \"text-align: left;\">[&quot;NVDA&quot;, &quot;MDT&quot;, &quot;AMD&quot;, &quot;PG&quot;, &quot;MO&quot;, &quot;PLD&quot;]</td><td style = \"text-align: left;\">[0.141533, 6.81412e-9, 0.711405, 0.147061, 1.90065e-9, 2.74445e-7]</td><td style = \"text-align: right;\">0.05</td></tr><tr><td class = \"rowNumber\" style = \"font-weight: bold; text-align: right;\">54</td><td style = \"text-align: right;\">0.240909</td><td style = \"text-align: right;\">0.379082</td><td style = \"text-align: left;\">[&quot;NVDA&quot;, &quot;MDT&quot;, &quot;AMD&quot;, &quot;PG&quot;, &quot;MO&quot;, &quot;PLD&quot;]</td><td style = \"text-align: left;\">[0.14443, 6.5487e-9, 0.729281, 0.126289, 1.69116e-9, 3.09402e-7]</td><td style = \"text-align: right;\">0.05</td></tr><tr><td class = \"rowNumber\" style = \"font-weight: bold; text-align: right;\">55</td><td style = \"text-align: right;\">0.245455</td><td style = \"text-align: right;\">0.386634</td><td style = \"text-align: left;\">[&quot;NVDA&quot;, &quot;MDT&quot;, &quot;AMD&quot;, &quot;PG&quot;, &quot;MO&quot;, &quot;PLD&quot;]</td><td style = \"text-align: left;\">[0.147326, 6.09845e-9, 0.747157, 0.105517, 1.39385e-9, 2.52377e-7]</td><td style = \"text-align: right;\">0.05</td></tr><tr><td class = \"rowNumber\" style = \"font-weight: bold; text-align: right;\">56</td><td style = \"text-align: right;\">0.25</td><td style = \"text-align: right;\">0.394228</td><td style = \"text-align: left;\">[&quot;NVDA&quot;, &quot;MDT&quot;, &quot;AMD&quot;, &quot;PG&quot;, &quot;MO&quot;, &quot;PLD&quot;]</td><td style = \"text-align: left;\">[0.150222, 5.82177e-9, 0.765032, 0.0847452, 1.19816e-9, 2.21852e-7]</td><td style = \"text-align: right;\">0.05</td></tr><tr><td class = \"rowNumber\" style = \"font-weight: bold; text-align: right;\">57</td><td style = \"text-align: right;\">0.254545</td><td style = \"text-align: right;\">0.401862</td><td style = \"text-align: left;\">[&quot;NVDA&quot;, &quot;MDT&quot;, &quot;AMD&quot;, &quot;PG&quot;, &quot;MO&quot;, &quot;PLD&quot;]</td><td style = \"text-align: left;\">[0.153118, -9.48432e-9, 0.782908, 0.0639735, -9.62802e-9, -5.86389e-9]</td><td style = \"text-align: right;\">0.05</td></tr><tr><td class = \"rowNumber\" style = \"font-weight: bold; text-align: right;\">58</td><td style = \"text-align: right;\">0.259091</td><td style = \"text-align: right;\">0.409532</td><td style = \"text-align: left;\">[&quot;NVDA&quot;, &quot;MDT&quot;, &quot;AMD&quot;, &quot;PG&quot;, &quot;MO&quot;, &quot;PLD&quot;]</td><td style = \"text-align: left;\">[0.156015, 2.56889e-9, 0.800784, 0.0432014, -9.29485e-10, 8.82012e-8]</td><td style = \"text-align: right;\">0.05</td></tr><tr><td class = \"rowNumber\" style = \"font-weight: bold; text-align: right;\">59</td><td style = \"text-align: right;\">0.263636</td><td style = \"text-align: right;\">0.417238</td><td style = \"text-align: left;\">[&quot;NVDA&quot;, &quot;MDT&quot;, &quot;AMD&quot;, &quot;PG&quot;, &quot;MO&quot;, &quot;PLD&quot;]</td><td style = \"text-align: left;\">[0.158911, 2.23432e-9, 0.81866, 0.0224295, -1.16713e-9, 8.33052e-8]</td><td style = \"text-align: right;\">0.05</td></tr><tr><td class = \"rowNumber\" style = \"font-weight: bold; text-align: right;\">60</td><td style = \"text-align: right;\">0.268182</td><td style = \"text-align: right;\">0.424977</td><td style = \"text-align: left;\">[&quot;NVDA&quot;, &quot;MDT&quot;, &quot;AMD&quot;, &quot;PG&quot;, &quot;MO&quot;, &quot;PLD&quot;]</td><td style = \"text-align: left;\">[0.161799, 1.91677e-9, 0.836539, 0.00166229, -1.39287e-9, 7.88702e-8]</td><td style = \"text-align: right;\">0.05</td></tr><tr><td class = \"rowNumber\" style = \"font-weight: bold; text-align: right;\">61</td><td style = \"text-align: right;\">0.272727</td><td style = \"text-align: right;\">0.432934</td><td style = \"text-align: left;\">[&quot;NVDA&quot;, &quot;MDT&quot;, &quot;AMD&quot;, &quot;PG&quot;, &quot;MO&quot;, &quot;PLD&quot;]</td><td style = \"text-align: left;\">[0.131613, 4.35546e-10, 0.868387, 1.54063e-7, -2.3775e-9, 4.73857e-8]</td><td style = \"text-align: right;\">0.05</td></tr><tr><td class = \"rowNumber\" style = \"font-weight: bold; text-align: right;\">62</td><td style = \"text-align: right;\">0.277273</td><td style = \"text-align: right;\">0.441343</td><td style = \"text-align: left;\">[&quot;NVDA&quot;, &quot;MDT&quot;, &quot;AMD&quot;, &quot;PG&quot;, &quot;MO&quot;, &quot;PLD&quot;]</td><td style = \"text-align: left;\">[0.098549, -7.05763e-10, 0.901451, 1.20094e-7, -3.16073e-9, 3.73751e-8]</td><td style = \"text-align: right;\">0.05</td></tr><tr><td class = \"rowNumber\" style = \"font-weight: bold; text-align: right;\">63</td><td style = \"text-align: right;\">0.281818</td><td style = \"text-align: right;\">0.450181</td><td style = \"text-align: left;\">[&quot;NVDA&quot;, &quot;MDT&quot;, &quot;AMD&quot;, &quot;PG&quot;, &quot;MO&quot;, &quot;PLD&quot;]</td><td style = \"text-align: left;\">[0.0654855, -1.74746e-9, 0.934514, 4.04102e-8, -3.86976e-9, 2.29039e-8]</td><td style = \"text-align: right;\">0.05</td></tr><tr><td class = \"rowNumber\" style = \"font-weight: bold; text-align: right;\">64</td><td style = \"text-align: right;\">0.286364</td><td style = \"text-align: right;\">0.459423</td><td style = \"text-align: left;\">[&quot;NVDA&quot;, &quot;MDT&quot;, &quot;AMD&quot;, &quot;PG&quot;, &quot;MO&quot;, &quot;PLD&quot;]</td><td style = \"text-align: left;\">[0.0324218, -2.49946e-9, 0.967578, 2.916e-8, -4.39824e-9, 1.76938e-8]</td><td style = \"text-align: right;\">0.05</td></tr></tbody></table></div>"
      ],
      "text/latex": [
       "\\begin{tabular}{r|ccccc}\n",
       "\t& expected\\_excess\\_return & risk & tickers & w & \\\\\n",
       "\t\\hline\n",
       "\t& Float64 & Float64 & Array… & Array… & \\\\\n",
       "\t\\hline\n",
       "\t1 & 1.43946e-7 & 0.15205 & [\"NVDA\", \"MDT\", \"AMD\", \"PG\", \"MO\", \"PLD\"] & [1.25973e-7, 0.163492, 2.041e-7, 0.526952, 0.182744, 0.126812] & $\\dots$ \\\\\n",
       "\t2 & 0.00454553 & 0.152389 & [\"NVDA\", \"MDT\", \"AMD\", \"PG\", \"MO\", \"PLD\"] & [1.43311e-7, 0.152205, 3.11878e-7, 0.541592, 0.166631, 0.139571] & $\\dots$ \\\\\n",
       "\t3 & 0.0090909 & 0.152906 & [\"NVDA\", \"MDT\", \"AMD\", \"PG\", \"MO\", \"PLD\"] & [-3.00804e-9, 0.140918, 1.50331e-8, 0.556233, 0.150519, 0.15233] & $\\dots$ \\\\\n",
       "\t4 & 0.0136364 & 0.153602 & [\"NVDA\", \"MDT\", \"AMD\", \"PG\", \"MO\", \"PLD\"] & [-1.79631e-9, 0.129631, 4.45449e-7, 0.570874, 0.134406, 0.165089] & $\\dots$ \\\\\n",
       "\t5 & 0.0181818 & 0.154445 & [\"NVDA\", \"MDT\", \"AMD\", \"PG\", \"MO\", \"PLD\"] & [2.12656e-7, 0.120293, 0.00527865, 0.579719, 0.123312, 0.171397] & $\\dots$ \\\\\n",
       "\t6 & 0.0227273 & 0.155387 & [\"NVDA\", \"MDT\", \"AMD\", \"PG\", \"MO\", \"PLD\"] & [2.38957e-7, 0.111319, 0.0115415, 0.587484, 0.113155, 0.176501] & $\\dots$ \\\\\n",
       "\t7 & 0.0272728 & 0.156426 & [\"NVDA\", \"MDT\", \"AMD\", \"PG\", \"MO\", \"PLD\"] & [2.55663e-7, 0.102345, 0.0178048, 0.595248, 0.102998, 0.181604] & $\\dots$ \\\\\n",
       "\t8 & 0.0318182 & 0.157558 & [\"NVDA\", \"MDT\", \"AMD\", \"PG\", \"MO\", \"PLD\"] & [2.86795e-7, 0.0933715, 0.024068, 0.603012, 0.0928404, 0.186708] & $\\dots$ \\\\\n",
       "\t9 & 0.0363637 & 0.158782 & [\"NVDA\", \"MDT\", \"AMD\", \"PG\", \"MO\", \"PLD\"] & [3.39804e-7, 0.0843978, 0.0303313, 0.610776, 0.0826833, 0.191812] & $\\dots$ \\\\\n",
       "\t10 & 0.0409091 & 0.160096 & [\"NVDA\", \"MDT\", \"AMD\", \"PG\", \"MO\", \"PLD\"] & [4.54293e-7, 0.0754241, 0.0365946, 0.61854, 0.0725263, 0.196915] & $\\dots$ \\\\\n",
       "\t11 & 0.0454546 & 0.161498 & [\"NVDA\", \"MDT\", \"AMD\", \"PG\", \"MO\", \"PLD\"] & [7.6666e-7, 0.0664504, 0.0428579, 0.626303, 0.0623692, 0.202018] & $\\dots$ \\\\\n",
       "\t12 & 0.05 & 0.162985 & [\"NVDA\", \"MDT\", \"AMD\", \"PG\", \"MO\", \"PLD\"] & [1.74786e-6, 0.0574766, 0.0491209, 0.634067, 0.0522123, 0.207121] & $\\dots$ \\\\\n",
       "\t13 & 0.0545454 & 0.164556 & [\"NVDA\", \"MDT\", \"AMD\", \"PG\", \"MO\", \"PLD\"] & [1.27204e-8, 0.0485029, 0.0553847, 0.641832, 0.0420549, 0.212226] & $\\dots$ \\\\\n",
       "\t14 & 0.0590909 & 0.166207 & [\"NVDA\", \"MDT\", \"AMD\", \"PG\", \"MO\", \"PLD\"] & [6.52009e-7, 0.0395293, 0.061648, 0.649595, 0.031898, 0.217329] & $\\dots$ \\\\\n",
       "\t15 & 0.0636364 & 0.167937 & [\"NVDA\", \"MDT\", \"AMD\", \"PG\", \"MO\", \"PLD\"] & [1.033e-6, 0.0305555, 0.0679113, 0.657359, 0.021741, 0.222432] & $\\dots$ \\\\\n",
       "\t16 & 0.0681818 & 0.169742 & [\"NVDA\", \"MDT\", \"AMD\", \"PG\", \"MO\", \"PLD\"] & [4.31921e-6, 0.0215812, 0.0741738, 0.665122, 0.0115848, 0.227534] & $\\dots$ \\\\\n",
       "\t17 & 0.0727273 & 0.171621 & [\"NVDA\", \"MDT\", \"AMD\", \"PG\", \"MO\", \"PLD\"] & [5.86539e-8, 0.0126047, 0.0804391, 0.672887, 0.0014299, 0.232639] & $\\dots$ \\\\\n",
       "\t18 & 0.0772727 & 0.173601 & [\"NVDA\", \"MDT\", \"AMD\", \"PG\", \"MO\", \"PLD\"] & [2.52499e-5, 2.01983e-6, 0.0920459, 0.674612, 8.68283e-7, 0.233314] & $\\dots$ \\\\\n",
       "\t19 & 0.0818182 & 0.17588 & [\"NVDA\", \"MDT\", \"AMD\", \"PG\", \"MO\", \"PLD\"] & [0.00379627, 4.26132e-7, 0.110041, 0.663569, 2.62799e-7, 0.222593] & $\\dots$ \\\\\n",
       "\t20 & 0.0863636 & 0.178501 & [\"NVDA\", \"MDT\", \"AMD\", \"PG\", \"MO\", \"PLD\"] & [0.00866003, 2.34602e-7, 0.127596, 0.652313, 1.51928e-7, 0.211431] & $\\dots$ \\\\\n",
       "\t21 & 0.0909091 & 0.181448 & [\"NVDA\", \"MDT\", \"AMD\", \"PG\", \"MO\", \"PLD\"] & [0.0135231, 1.59962e-7, 0.145151, 0.641057, 1.05135e-7, 0.200269] & $\\dots$ \\\\\n",
       "\t22 & 0.0954545 & 0.184706 & [\"NVDA\", \"MDT\", \"AMD\", \"PG\", \"MO\", \"PLD\"] & [0.018388, -4.8032e-9, 0.162705, 0.629801, -6.43572e-9, 0.189106] & $\\dots$ \\\\\n",
       "\t23 & 0.1 & 0.188258 & [\"NVDA\", \"MDT\", \"AMD\", \"PG\", \"MO\", \"PLD\"] & [0.0232545, 9.55432e-8, 0.180259, 0.618544, 6.29675e-8, 0.177943] & $\\dots$ \\\\\n",
       "\t24 & 0.104545 & 0.192089 & [\"NVDA\", \"MDT\", \"AMD\", \"PG\", \"MO\", \"PLD\"] & [0.0281196, 7.8731e-8, 0.197813, 0.607287, 5.1671e-8, 0.16678] & $\\dots$ \\\\\n",
       "\t$\\dots$ & $\\dots$ & $\\dots$ & $\\dots$ & $\\dots$ &  \\\\\n",
       "\\end{tabular}\n"
      ],
      "text/plain": [
       "\u001b[1m64×5 DataFrame\u001b[0m\n",
       "\u001b[1m Row \u001b[0m│\u001b[1m expected_excess_return \u001b[0m\u001b[1m risk     \u001b[0m\u001b[1m tickers                           \u001b[0m\u001b[1m w \u001b[0m ⋯\n",
       "     │\u001b[90m Float64                \u001b[0m\u001b[90m Float64  \u001b[0m\u001b[90m Array…                            \u001b[0m\u001b[90m Ar\u001b[0m ⋯\n",
       "─────┼──────────────────────────────────────────────────────────────────────────\n",
       "   1 │             1.43946e-7  0.15205   [\"NVDA\", \"MDT\", \"AMD\", \"PG\", \"MO…  [1 ⋯\n",
       "   2 │             0.00454553  0.152389  [\"NVDA\", \"MDT\", \"AMD\", \"PG\", \"MO…  [1\n",
       "   3 │             0.0090909   0.152906  [\"NVDA\", \"MDT\", \"AMD\", \"PG\", \"MO…  [-\n",
       "   4 │             0.0136364   0.153602  [\"NVDA\", \"MDT\", \"AMD\", \"PG\", \"MO…  [-\n",
       "   5 │             0.0181818   0.154445  [\"NVDA\", \"MDT\", \"AMD\", \"PG\", \"MO…  [2 ⋯\n",
       "   6 │             0.0227273   0.155387  [\"NVDA\", \"MDT\", \"AMD\", \"PG\", \"MO…  [2\n",
       "   7 │             0.0272728   0.156426  [\"NVDA\", \"MDT\", \"AMD\", \"PG\", \"MO…  [2\n",
       "   8 │             0.0318182   0.157558  [\"NVDA\", \"MDT\", \"AMD\", \"PG\", \"MO…  [2\n",
       "  ⋮  │           ⋮                ⋮                      ⋮                     ⋱\n",
       "  58 │             0.259091    0.409532  [\"NVDA\", \"MDT\", \"AMD\", \"PG\", \"MO…  [0 ⋯\n",
       "  59 │             0.263636    0.417238  [\"NVDA\", \"MDT\", \"AMD\", \"PG\", \"MO…  [0\n",
       "  60 │             0.268182    0.424977  [\"NVDA\", \"MDT\", \"AMD\", \"PG\", \"MO…  [0\n",
       "  61 │             0.272727    0.432934  [\"NVDA\", \"MDT\", \"AMD\", \"PG\", \"MO…  [0\n",
       "  62 │             0.277273    0.441343  [\"NVDA\", \"MDT\", \"AMD\", \"PG\", \"MO…  [0 ⋯\n",
       "  63 │             0.281818    0.450181  [\"NVDA\", \"MDT\", \"AMD\", \"PG\", \"MO…  [0\n",
       "  64 │             0.286364    0.459423  [\"NVDA\", \"MDT\", \"AMD\", \"PG\", \"MO…  [0\n",
       "\u001b[36m                                                   2 columns and 49 rows omitted\u001b[0m"
      ]
     },
     "metadata": {},
     "output_type": "display_data"
    }
   ],
   "source": [
    "efficient_frontier = load(joinpath(_PATH_TO_DATA,\n",
    "        \"EfficientFrontier-cesteam-PD1-CHEME-5660-Fall-2023.jld2\")) |> x->x[\"dataset\"]"
   ]
  },
  {
   "cell_type": "markdown",
   "id": "972ea748",
   "metadata": {},
   "source": [
    "### Task One: Initial Allocation"
   ]
  },
  {
   "cell_type": "code",
   "execution_count": 12,
   "id": "7d160162",
   "metadata": {},
   "outputs": [
    {
     "data": {
      "text/plain": [
       "(0.2863636276792971, 64)"
      ]
     },
     "metadata": {},
     "output_type": "display_data"
    }
   ],
   "source": [
    "#Find the portfolio with the maximum expected excess returns\n",
    "\n",
    "findmax(efficient_frontier[!,\"expected_excess_return\"])"
   ]
  },
  {
   "cell_type": "markdown",
   "id": "d555e38d",
   "metadata": {},
   "source": [
    "We will use Portfolio 64. Using results from Lab 15b, we can find what is in this portfolio by sampling the array generated above "
   ]
  },
  {
   "cell_type": "code",
   "execution_count": 13,
   "id": "db2eb8eb",
   "metadata": {},
   "outputs": [
    {
     "name": "stdout",
     "output_type": "stream",
     "text": [
      "Portfolio #64 has an exected excess return of 0.2863636276792971 with risk = 0.4594230792505488. \n",
      "The risk free rate is 0.05%.\n"
     ]
    }
   ],
   "source": [
    "portfolio=64;\n",
    "expected_excess_return=efficient_frontier[portfolio, :expected_excess_return]\n",
    "risk=efficient_frontier[portfolio, :risk]\n",
    "tickers=efficient_frontier[portfolio, :tickers]\n",
    "w=efficient_frontier[portfolio, :w]\n",
    "risk_free_rate=efficient_frontier[portfolio, :risk_free_rate]\n",
    "\n",
    "println(\"Portfolio #$(portfolio) has an exected excess return of $(expected_excess_return) with risk = $(risk). \n",
    "The risk free rate is $(risk_free_rate)%.\")"
   ]
  },
  {
   "cell_type": "code",
   "execution_count": 14,
   "id": "91e5c537",
   "metadata": {},
   "outputs": [
    {
     "name": "stdout",
     "output_type": "stream",
     "text": [
      "NVDA forms 3.2421779736775127% of our portfolio\n",
      "MDT forms 0% of our portfolio\n",
      "AMD forms 96.75781803071864% of our portfolio\n",
      "PG forms 0% of our portfolio\n",
      "MO forms 0% of our portfolio\n",
      "PLD forms 0% of our portfolio\n"
     ]
    },
    {
     "data": {
      "text/html": [
       "<div><div style = \"float: left;\"><span>6×2 DataFrame</span></div><div style = \"clear: both;\"></div></div><div class = \"data-frame\" style = \"overflow-x: scroll;\"><table class = \"data-frame\" style = \"margin-bottom: 6px;\"><thead><tr class = \"header\"><th class = \"rowNumber\" style = \"font-weight: bold; text-align: right;\">Row</th><th style = \"text-align: left;\">tick</th><th style = \"text-align: left;\">alloc</th></tr><tr class = \"subheader headerLastRow\"><th class = \"rowNumber\" style = \"font-weight: bold; text-align: right;\"></th><th title = \"String\" style = \"text-align: left;\">String</th><th title = \"Float64\" style = \"text-align: left;\">Float64</th></tr></thead><tbody><tr><td class = \"rowNumber\" style = \"font-weight: bold; text-align: right;\">1</td><td style = \"text-align: left;\">NVDA</td><td style = \"text-align: right;\">0.0324218</td></tr><tr><td class = \"rowNumber\" style = \"font-weight: bold; text-align: right;\">2</td><td style = \"text-align: left;\">MDT</td><td style = \"text-align: right;\">0.0</td></tr><tr><td class = \"rowNumber\" style = \"font-weight: bold; text-align: right;\">3</td><td style = \"text-align: left;\">AMD</td><td style = \"text-align: right;\">0.967578</td></tr><tr><td class = \"rowNumber\" style = \"font-weight: bold; text-align: right;\">4</td><td style = \"text-align: left;\">PG</td><td style = \"text-align: right;\">0.0</td></tr><tr><td class = \"rowNumber\" style = \"font-weight: bold; text-align: right;\">5</td><td style = \"text-align: left;\">MO</td><td style = \"text-align: right;\">0.0</td></tr><tr><td class = \"rowNumber\" style = \"font-weight: bold; text-align: right;\">6</td><td style = \"text-align: left;\">PLD</td><td style = \"text-align: right;\">0.0</td></tr></tbody></table></div>"
      ],
      "text/latex": [
       "\\begin{tabular}{r|cc}\n",
       "\t& tick & alloc\\\\\n",
       "\t\\hline\n",
       "\t& String & Float64\\\\\n",
       "\t\\hline\n",
       "\t1 & NVDA & 0.0324218 \\\\\n",
       "\t2 & MDT & 0.0 \\\\\n",
       "\t3 & AMD & 0.967578 \\\\\n",
       "\t4 & PG & 0.0 \\\\\n",
       "\t5 & MO & 0.0 \\\\\n",
       "\t6 & PLD & 0.0 \\\\\n",
       "\\end{tabular}\n"
      ],
      "text/plain": [
       "\u001b[1m6×2 DataFrame\u001b[0m\n",
       "\u001b[1m Row \u001b[0m│\u001b[1m tick   \u001b[0m\u001b[1m alloc     \u001b[0m\n",
       "     │\u001b[90m String \u001b[0m\u001b[90m Float64   \u001b[0m\n",
       "─────┼───────────────────\n",
       "   1 │ NVDA    0.0324218\n",
       "   2 │ MDT     0.0\n",
       "   3 │ AMD     0.967578\n",
       "   4 │ PG      0.0\n",
       "   5 │ MO      0.0\n",
       "   6 │ PLD     0.0"
      ]
     },
     "metadata": {},
     "output_type": "display_data"
    }
   ],
   "source": [
    "i=0\n",
    "for item in efficient_frontier[portfolio, :tickers]\n",
    "    i+=1\n",
    "    if w[i]<0.00001\n",
    "        weight=0 \n",
    "    else\n",
    "        weight=w[i]*100\n",
    "    end\n",
    "    println(\"$item forms $weight% of our portfolio\")\n",
    "end\n",
    "\n",
    "#Now put into dataframe form, similar to Lab15b. Adjust values that are low (aribtary) to 0% allocation\n",
    "\n",
    "new_df=DataFrame();\n",
    "for element in eachindex(w)\n",
    "    weight_element=w[element]\n",
    "    if w[element]<0.00001\n",
    "        weight_element=0\n",
    "    end\n",
    "    row_df=(\n",
    "        tick=tickers[element],\n",
    "        alloc=weight_element\n",
    "    )\n",
    "    push!(new_df, row_df)\n",
    "end\n",
    "\n",
    "\n",
    "new_df"
   ]
  },
  {
   "cell_type": "markdown",
   "id": "0c17aa64",
   "metadata": {},
   "source": [
    "We now need to know how many shares we purchased of each stock:"
   ]
  },
  {
   "cell_type": "code",
   "execution_count": 15,
   "id": "73aa9f94",
   "metadata": {},
   "outputs": [
    {
     "data": {
      "text/plain": [
       "6-element Vector{Float64}:\n",
       " 143.15\n",
       "  78.26\n",
       "  64.02\n",
       " 151.57\n",
       "  45.52\n",
       " 112.69"
      ]
     },
     "metadata": {},
     "output_type": "display_data"
    }
   ],
   "source": [
    "# From Lab15b\n",
    "price_initial=Array{Float64,1}();\n",
    "for stock in tickers\n",
    "    price_df=dataset[stock]\n",
    "    price=filter(:timestamp=> y-> y>= startdate, price_df) |> y-> y[1,:close]\n",
    "    push!(price_initial, price)\n",
    "end\n",
    "\n",
    "price_initial"
   ]
  },
  {
   "cell_type": "code",
   "execution_count": 16,
   "id": "efc332f4",
   "metadata": {},
   "outputs": [],
   "source": [
    "i=0\n",
    "weight_initial=Array{Float64,1}();\n",
    "for item in efficient_frontier[portfolio, :tickers]\n",
    "    i+=1\n",
    "    if w[i]<0.00001\n",
    "        weight=0 \n",
    "        push!(weight_initial, weight)\n",
    "    else\n",
    "        weight=w[i]\n",
    "    push!(weight_initial, weight)\n",
    "    end\n",
    "end"
   ]
  },
  {
   "cell_type": "code",
   "execution_count": 72,
   "id": "b1849e56",
   "metadata": {},
   "outputs": [
    {
     "name": "stdout",
     "output_type": "stream",
     "text": [
      "For ticker NVDA, we will allocate 32.42177973677512 to purchase 0.22648815743468473 shares\n",
      "For ticker MDT, we will allocate 0.0 to purchase 0.0 shares\n",
      "For ticker AMD, we will allocate 967.5781803071864 to purchase 15.113686040412158 shares\n",
      "For ticker PG, we will allocate 0.0 to purchase 0.0 shares\n",
      "For ticker MO, we will allocate 0.0 to purchase 0.0 shares\n",
      "For ticker PLD, we will allocate 0.0 to purchase 0.0 shares\n"
     ]
    },
    {
     "data": {
      "text/plain": [
       "6-element Vector{Float64}:\n",
       "  0.22648815743468473\n",
       "  0.0\n",
       " 15.113686040412158\n",
       "  0.0\n",
       "  0.0\n",
       "  0.0"
      ]
     },
     "metadata": {},
     "output_type": "display_data"
    }
   ],
   "source": [
    "tickers_df = efficient_frontier[portfolio, :tickers];\n",
    "m=0\n",
    "for i in efficient_frontier[portfolio, :tickers]\n",
    "    m+=1\n",
    "    allocate=budget*weight_initial[m]\n",
    "    shares=allocate/price_initial[m]\n",
    "    println(\"For ticker $i, we will allocate $allocate to purchase $shares shares\")\n",
    "end\n",
    "\n",
    "shares_initial=Array{Float64, 1}()\n",
    "for element in eachindex(w) \n",
    "    w_naught=w[element]\n",
    "    if w_naught<0.0001\n",
    "        n_naught=0.0\n",
    "    else\n",
    "        n_naught=(w_naught*budget)/price_initial[element]\n",
    "    end\n",
    "    push!(shares_initial,n_naught)\n",
    "end\n",
    "\n",
    "shares_initial"
   ]
  },
  {
   "cell_type": "code",
   "execution_count": 17,
   "id": "bfb21c02",
   "metadata": {},
   "outputs": [
    {
     "data": {
      "text/html": [
       "<div><div style = \"float: left;\"><span>6×2 DataFrame</span></div><div style = \"clear: both;\"></div></div><div class = \"data-frame\" style = \"overflow-x: scroll;\"><table class = \"data-frame\" style = \"margin-bottom: 6px;\"><thead><tr class = \"header\"><th class = \"rowNumber\" style = \"font-weight: bold; text-align: right;\">Row</th><th style = \"text-align: left;\">tick</th><th style = \"text-align: left;\">alloc</th></tr><tr class = \"subheader headerLastRow\"><th class = \"rowNumber\" style = \"font-weight: bold; text-align: right;\"></th><th title = \"String\" style = \"text-align: left;\">String</th><th title = \"Float64\" style = \"text-align: left;\">Float64</th></tr></thead><tbody><tr><td class = \"rowNumber\" style = \"font-weight: bold; text-align: right;\">1</td><td style = \"text-align: left;\">NVDA</td><td style = \"text-align: right;\">0.0324218</td></tr><tr><td class = \"rowNumber\" style = \"font-weight: bold; text-align: right;\">2</td><td style = \"text-align: left;\">MDT</td><td style = \"text-align: right;\">0.0</td></tr><tr><td class = \"rowNumber\" style = \"font-weight: bold; text-align: right;\">3</td><td style = \"text-align: left;\">AMD</td><td style = \"text-align: right;\">0.967578</td></tr><tr><td class = \"rowNumber\" style = \"font-weight: bold; text-align: right;\">4</td><td style = \"text-align: left;\">PG</td><td style = \"text-align: right;\">0.0</td></tr><tr><td class = \"rowNumber\" style = \"font-weight: bold; text-align: right;\">5</td><td style = \"text-align: left;\">MO</td><td style = \"text-align: right;\">0.0</td></tr><tr><td class = \"rowNumber\" style = \"font-weight: bold; text-align: right;\">6</td><td style = \"text-align: left;\">PLD</td><td style = \"text-align: right;\">0.0</td></tr></tbody></table></div>"
      ],
      "text/latex": [
       "\\begin{tabular}{r|cc}\n",
       "\t& tick & alloc\\\\\n",
       "\t\\hline\n",
       "\t& String & Float64\\\\\n",
       "\t\\hline\n",
       "\t1 & NVDA & 0.0324218 \\\\\n",
       "\t2 & MDT & 0.0 \\\\\n",
       "\t3 & AMD & 0.967578 \\\\\n",
       "\t4 & PG & 0.0 \\\\\n",
       "\t5 & MO & 0.0 \\\\\n",
       "\t6 & PLD & 0.0 \\\\\n",
       "\\end{tabular}\n"
      ],
      "text/plain": [
       "\u001b[1m6×2 DataFrame\u001b[0m\n",
       "\u001b[1m Row \u001b[0m│\u001b[1m tick   \u001b[0m\u001b[1m alloc     \u001b[0m\n",
       "     │\u001b[90m String \u001b[0m\u001b[90m Float64   \u001b[0m\n",
       "─────┼───────────────────\n",
       "   1 │ NVDA    0.0324218\n",
       "   2 │ MDT     0.0\n",
       "   3 │ AMD     0.967578\n",
       "   4 │ PG      0.0\n",
       "   5 │ MO      0.0\n",
       "   6 │ PLD     0.0"
      ]
     },
     "metadata": {},
     "output_type": "display_data"
    }
   ],
   "source": [
    "new_df"
   ]
  },
  {
   "cell_type": "markdown",
   "id": "089e2be2",
   "metadata": {},
   "source": [
    "### Task Two: Ongoing Reallocation & Visualization"
   ]
  },
  {
   "cell_type": "code",
   "execution_count": 18,
   "id": "8e71c061",
   "metadata": {},
   "outputs": [],
   "source": [
    "trading_days= 229 # Difference between Jan 3 and Dec 1 of 2023, with weekends and holidays removed\n",
    "learning_rate= 0.02 #CHANGE\n",
    "μ = mean(all_firms_return_matrix, dims=1) |> vec;"
   ]
  },
  {
   "cell_type": "code",
   "execution_count": 22,
   "id": "c40e7a69",
   "metadata": {},
   "outputs": [
    {
     "data": {
      "text/plain": [
       "459-element Vector{Float64}:\n",
       "  0.09520873574379649\n",
       " -0.2162080717392586\n",
       " -0.10794226443585754\n",
       "  0.22836905773049826\n",
       "  0.056004266937846665\n",
       "  0.088632152841437\n",
       "  0.11998872149267306\n",
       "  0.18737259050359928\n",
       "  0.10723986668572992\n",
       "  0.09707314536665643\n",
       "  ⋮\n",
       "  0.038211698941704515\n",
       "  0.027798995465313416\n",
       " -0.11173255715563579\n",
       "  0.06674886823579393\n",
       "  0.06790561918886862\n",
       " -0.009395334482788936\n",
       "  0.12703582210102957\n",
       " -0.04403739223114084\n",
       "  0.13973799380763502"
      ]
     },
     "metadata": {},
     "output_type": "display_data"
    }
   ],
   "source": [
    "return_all= log_return_matrix(dataset, all_tickers, \n",
    "    Δt = (1.0/229));\n",
    "\n",
    "μ=mean(return_all, dims=1)|> vec"
   ]
  },
  {
   "cell_type": "code",
   "execution_count": 41,
   "id": "89eef7c1",
   "metadata": {},
   "outputs": [
    {
     "data": {
      "text/plain": [
       "459×459 Matrix{Float64}:\n",
       " 0.0        0.0        0.0      0.0        …  0.0        0.0        0.0\n",
       " 0.0        0.0        0.0      0.0           0.0        0.0        0.0\n",
       " 0.0        0.0        0.0      0.0           0.0        0.0        0.0\n",
       " 0.0        0.0        0.0      0.0           0.0        0.0        0.0\n",
       " 0.0        0.0        0.0      0.0           0.0        0.0        0.0\n",
       " 0.0260246  0.0430559  0.02355  0.0303052  …  0.0334263  0.0302624  0.0254935\n",
       " 0.0        0.0        0.0      0.0           0.0        0.0        0.0\n",
       " 0.0        0.0        0.0      0.0           0.0        0.0        0.0\n",
       " 0.0        0.0        0.0      0.0           0.0        0.0        0.0\n",
       " 0.0        0.0        0.0      0.0           0.0        0.0        0.0\n",
       " ⋮                                         ⋱                        \n",
       " 0.0        0.0        0.0      0.0        …  0.0        0.0        0.0\n",
       " 0.0        0.0        0.0      0.0           0.0        0.0        0.0\n",
       " 0.0        0.0        0.0      0.0           0.0        0.0        0.0\n",
       " 0.0        0.0        0.0      0.0           0.0        0.0        0.0\n",
       " 0.0        0.0        0.0      0.0           0.0        0.0        0.0\n",
       " 0.0        0.0        0.0      0.0        …  0.0        0.0        0.0\n",
       " 0.0        0.0        0.0      0.0           0.0        0.0        0.0\n",
       " 0.0        0.0        0.0      0.0           0.0        0.0        0.0\n",
       " 0.0        0.0        0.0      0.0           0.0        0.0        0.0"
      ]
     },
     "metadata": {},
     "output_type": "display_data"
    }
   ],
   "source": [
    "# Σ_sim from Lab15b, covariance array between tickers \n",
    "spy_index=findfirst(e->e==\"SPY\",all_tickers)\n",
    "sigma_m=std(return_all[:,spy_index])\n",
    "Σ_empty=Array{Float64,2}(undef, length(μ), length(μ))\n",
    "for item in eachindex(all_tickers)\n",
    "    outers=all_tickers[item]\n",
    "    simulate_outside=SIMs[outers]\n",
    "\n",
    "    for j in eachindex(all_tickers)\n",
    "        inners=all_tickers[j]\n",
    "        simulate_inside=SIMs[inners]\n",
    "\n",
    "        if (i==j) \n",
    "            beta=simulate_outside.β\n",
    "            eta=simulate_outside.ϵ\n",
    "            sigma_e=params(eta)[2]; #Adapted direct from 15b\n",
    "            Σ_empty[i,j]=((beta)^2)*((sigma_m)^2)+(sigma_e)^2\n",
    "        else\n",
    "            beta_i= simulate_outside.β\n",
    "            beta_j= simulate_inside.β\n",
    "            Σ_empty[i,j]= (beta_i)*(beta_j)*(sigma_m)^2\n",
    "        end\n",
    "    end        \n",
    "end\n",
    "\n",
    "Σ_sim=Σ_empty |> x -> x*(1/229)"
   ]
  },
  {
   "cell_type": "code",
   "execution_count": 40,
   "id": "edcba7d9",
   "metadata": {},
   "outputs": [],
   "source": [
    "# Vital parameters for model, adapted from Do Not Edit block in lab15b\n",
    "\n",
    "firm_ids=Array{Int64, 1}();\n",
    "for item in tickers\n",
    "    firm_index = findfirst(e->e==item,all_tickers);\n",
    "    push!(firm_ids,firm_index)\n",
    "end\n",
    "\n",
    "μ̂=Array{Float64, 1}();\n",
    "for index in firm_ids\n",
    "    push!(μ̂, μ[index])\n",
    "end\n",
    "\n",
    "firms_l=length(firm_ids)\n",
    "Σ̂=Array{Float64, 2}(undef, firms_l, firms_l)\n",
    "for element in eachindex(firm_ids)\n",
    "    row_ele=firm_ids[i]\n",
    "    for j in eachindex(firm_ids)\n",
    "        col_ele=firm_ids[i]\n",
    "        Σ̂[i,j]=Σ_sim[row_ele, col_ele]\n",
    "    end\n",
    "end"
   ]
  },
  {
   "cell_type": "code",
   "execution_count": 44,
   "id": "91ecf2a4",
   "metadata": {},
   "outputs": [
    {
     "data": {
      "text/plain": [
       "MyMarkowitzRiskyAssetOnlyPortfiolioChoiceProblem([2.391675429e-314 2.1500444194e-314 … 2.150045621e-314 2.150046348e-314; 2.391675429e-314 2.150044862e-314 … 2.1500456526e-314 2.15004638e-314; … ; 5.3608567843e-314 2.1500449886e-314 … 2.1500458423e-314 2.1500464747e-314; 0.0 0.0 … 0.0 0.0], [0.3368083880034543, -0.007904898363717482, 0.35880687247592413, 0.08024389402442934, -0.0780534688593898, 0.09384486326422115], [0.0 1.0; 0.0 1.0; … ; 0.0 1.0; 0.0 1.0], 0.0, [0.032421779736775125, -2.4994641898163153e-9, 0.9675781803071863, 2.9159955151633482e-8, -4.398235672337897e-9, 1.769378326886674e-8])"
      ]
     },
     "metadata": {},
     "output_type": "display_data"
    }
   ],
   "source": [
    "firms_picked=length(tickers)\n",
    "bounds=zeros(firms_picked,2)\n",
    "bounds[:,2].=1.0;#direct from 15b\n",
    "\n",
    "sim_initial=build(MyMarkowitzRiskyAssetOnlyPortfiolioChoiceProblem, (\n",
    "    Σ = Σ̂,\n",
    "    μ = μ̂,\n",
    "    bounds = bounds,\n",
    "    initial=w,\n",
    "    R=0.0\n",
    "))\n"
   ]
  },
  {
   "cell_type": "code",
   "execution_count": 54,
   "metadata": {},
   "outputs": [
    {
     "data": {
      "text/plain": [
       "2:230"
      ]
     },
     "metadata": {},
     "output_type": "display_data"
    }
   ],
   "source": [
    "2:(trading_days+1)"
   ]
  },
  {
   "cell_type": "code",
   "execution_count": 78,
   "id": "1985d697",
   "metadata": {},
   "outputs": [
    {
     "ename": "KeyError",
     "evalue": "KeyError: key 2 not found",
     "output_type": "error",
     "traceback": [
      "KeyError: key 2 not found\n",
      "\n",
      "Stacktrace:\n",
      " [1] getindex(h::Dict{String, DataFrame}, key::Int64)\n",
      "   @ Base ./dict.jl:484\n",
      " [2] top-level scope\n",
      "   @ ~/Desktop/CHEME-5660-Project-Template-F23/Template.ipynb:7"
     ]
    }
   ],
   "source": [
    "#Lab 15b instructs us to make a Queue data structure\n",
    "next_close=Queue{Vector{Float64}}();\n",
    "range=2:(trading_days+1);\n",
    "for element in range\n",
    "    price_arr=Array{Float64, 1}();\n",
    "    for index in tickers\n",
    "        price=dataset[element]\n",
    "        start=filter(:timestamp => x-> x >= startdate, price)|>x->x[i,:close] #direct 15b\n",
    "        push!(price_arr, start)\n",
    "    end \n",
    "\n",
    "    enqueue!(next_close, price_arr)\n",
    "end\n"
   ]
  },
  {
   "cell_type": "code",
   "execution_count": 65,
   "id": "d866ec34",
   "metadata": {},
   "outputs": [
    {
     "data": {
      "text/plain": [
       "0.32522917849887734"
      ]
     },
     "metadata": {},
     "output_type": "display_data"
    }
   ],
   "source": [
    "min_return_goal=4*μ[spy_index]"
   ]
  },
  {
   "cell_type": "code",
   "execution_count": 76,
   "id": "8bdee2cb",
   "metadata": {},
   "outputs": [
    {
     "data": {
      "text/html": [
       "<div><div style = \"float: left;\"><span>0×0 DataFrame</span></div><div style = \"clear: both;\"></div></div><div class = \"data-frame\" style = \"overflow-x: scroll;\"><table class = \"data-frame\" style = \"margin-bottom: 6px;\"></table></div>"
      ],
      "text/latex": [
       "\\begin{tabular}{r|}\n",
       "\t& \\\\\n",
       "\t\\hline\n",
       "\t& \\\\\n",
       "\t\\hline\n",
       "\\end{tabular}\n"
      ],
      "text/plain": [
       "\u001b[1m0×0 DataFrame\u001b[0m"
      ]
     },
     "metadata": {},
     "output_type": "display_data"
    }
   ],
   "source": [
    "#Simulation, adapted directly from 15b\n",
    "prev_price_arr=price_initial\n",
    "μ̂_naught=μ̂\n",
    "N_naught=shares_initial\n",
    "Δt = (1/229)\n",
    "results= DataFrame();\n",
    "\n",
    "while(isempty(next_close)==false)\n",
    "\n",
    "    current_pr=dequeue!(next_close)\n",
    "\n",
    "    assets_return = Array{Float64, 1}();\n",
    "    for element in eachindex(tickers)\n",
    "        m = (1/Δt)*log(current_pr[element]/prev_price_arr[element])\n",
    "        push!(assets_return, m)\n",
    "    end\n",
    "\n",
    "    μ̂_update=μ̂_naught+ α*(assets_return-μ̂_naught)\n",
    "\n",
    "    sim_initial.μ=μ̂_update;\n",
    "    sim_initial.R=min_return_goal;\n",
    "\n",
    "    sol=solve(sim_initial)\n",
    "\n",
    "    #conversion check from 15b\n",
    "\n",
    "    new_weight=w;\n",
    "    risk_new=risk;\n",
    "    status=sol[\"status\"]\n",
    "    if (status_flag==MathOptInterface.LOCALLY_SOLVED)\n",
    "        new_weight=sol[\"argmax\"]\n",
    "        risk_new=sqrt(sol[\"objective_value\"])\n",
    "    end\n",
    "\n",
    "    liq_value = dot(N_naught, current_pr)\n",
    "\n",
    "    new_shares=Array{Float64,1}()\n",
    "    for element in eachindex(new_weight)\n",
    "        w_element=new_weight[element]\n",
    "        if w_element<0.00001\n",
    "            nshare=0\n",
    "        else\n",
    "            nshare=(w_element*liq_value)/(current_pr[element])\n",
    "        push!(new_shares, nshare)\n",
    "        end\n",
    "    end\n",
    "    \n",
    "    results_t=(\n",
    "        N_updated=new_shares,\n",
    "        N_previous=N_naught,\n",
    "        w_previous=w,\n",
    "        w_updated=w_updated,\n",
    "        μ_previous=μ̂,\n",
    "        μ_updated=μ̂_update,\n",
    "        previous_close=previous_close,\n",
    "        updated_close=current_pr,\n",
    "        liq_value=liq_value,\n",
    "        risk=risk_new,\n",
    "    );\n",
    "    push!(results,results_t)\n",
    "\n",
    "\n",
    "    μ_previous=μ_update\n",
    "    prev_price_arr=current_pr\n",
    "    N_previous=N_updated\n",
    "end\n",
    "results\n"
   ]
  },
  {
   "cell_type": "code",
   "execution_count": 82,
   "id": "fe78da31",
   "metadata": {},
   "outputs": [],
   "source": [
    "portfolio_performance_initial=Array{Float64,2}(undef, trading_days, length(w)+2)\n",
    "for element in eachindex(tickers)\n",
    "    ticker=tickers[element]\n",
    "    price=dataset[ticker]\n",
    "    ticker_data=filter(:timestamp => x-> x >= startdate, price)\n",
    "    n_new=N_naught[element]\n",
    "\n",
    "    for j in 1:trading_days\n",
    "        portfolio_performance_initial[j,i]=n_new*ticker_data[j+1,:close] #Lab 15b\n",
    "    end\n",
    "end\n",
    "\n",
    "for element in 1:trading_days\n",
    "    portfolio_performance_initial[i,end]=sum(portfolio_performance_initial[i,1:end-2])\n",
    "end\n",
    "\n",
    "for element in 1:trading_days\n",
    "    data=portfolio_performance_initial[i,1:end-2]\n",
    "    tot=portfolio_performance_initial[i,end]\n",
    "    w=(1/tot)*data\n",
    "    portfolio_performance_initial[i,end-1]=transpose(w)*Σ̂*w |> sqrt\n",
    "end"
   ]
  },
  {
   "cell_type": "code",
   "execution_count": 88,
   "id": "7bc60b1a",
   "metadata": {},
   "outputs": [
    {
     "data": {
      "text/plain": [
       "6-element Vector{String}:\n",
       " \"NVDA\"\n",
       " \"MDT\"\n",
       " \"AMD\"\n",
       " \"PG\"\n",
       " \"MO\"\n",
       " \"PLD\""
      ]
     },
     "metadata": {},
     "output_type": "display_data"
    }
   ],
   "source": [
    "tickers"
   ]
  },
  {
   "cell_type": "code",
   "execution_count": 89,
   "id": "7c4b8649",
   "metadata": {},
   "outputs": [
    {
     "name": "stdout",
     "output_type": "stream",
     "text": [
      "┌───────┬─────────────┬──────────────┬──────────────┬──────────────┬──────────────┬──────────────┬──────────────┬──────────────┐\n",
      "│\u001b[1m index \u001b[0m│\u001b[1m        NVDA \u001b[0m│\u001b[1m          MDT \u001b[0m│\u001b[1m          AMD \u001b[0m│\u001b[1m           PG \u001b[0m│\u001b[1m           MO \u001b[0m│\u001b[1m          PLD \u001b[0m│\u001b[1m  risk (sqrt) \u001b[0m│\u001b[1m  total value \u001b[0m│\n",
      "├───────┼─────────────┼──────────────┼──────────────┼──────────────┼──────────────┼──────────────┼──────────────┼──────────────┤\n",
      "│   1.0 │         0.0 │  5.6109e-314 │          0.0 │  2.5233e-314 │ 2.18601e-314 │          0.0 │     3.7e-322 │          NaN │\n",
      "│   2.0 │         0.0 │ 4.24399e-314 │          0.0 │  1.4854e-313 │   2.122e-314 │          NaN │          NaN │ 5.60956e-314 │\n",
      "│   3.0 │         0.0 │          0.0 │          0.0 │  5.5963e-314 │          0.0 │          0.0 │          0.0 │          NaN │\n",
      "│   4.0 │         0.0 │          0.0 │          0.0 │ 2.52347e-314 │          0.0 │   2.122e-314 │          NaN │          NaN │\n",
      "│   5.0 │         0.0 │          0.0 │          0.0 │ 5.59472e-314 │          0.0 │ 2.20502e-314 │          NaN │          NaN │\n",
      "│   6.0 │    1.5e-323 │          NaN │ 2.12196e-314 │     1.5e-323 │ 5.59495e-314 │          0.0 │          NaN │          NaN │\n",
      "│   7.0 │         0.0 │          0.0 │          0.0 │ 5.59364e-314 │ 2.52328e-314 │          0.0 │          0.0 │          NaN │\n",
      "│   8.0 │         0.0 │          0.0 │          0.0 │ 5.59364e-314 │ 2.52328e-314 │          NaN │          NaN │          NaN │\n",
      "│   9.0 │         0.0 │          0.0 │          0.0 │  5.5963e-314 │          0.0 │          0.0 │          0.0 │          NaN │\n",
      "│  10.0 │         0.0 │          0.0 │          0.0 │  5.5963e-314 │          0.0 │          0.0 │          NaN │          NaN │\n",
      "│  11.0 │         0.0 │          0.0 │          0.0 │          0.0 │ 5.59472e-314 │ 2.20502e-314 │          NaN │          NaN │\n",
      "│  12.0 │         0.0 │          0.0 │          0.0 │          0.0 │ 8.48798e-314 │     1.0e-323 │          NaN │          NaN │\n",
      "│  13.0 │         0.0 │          0.0 │          0.0 │          0.0 │          0.0 │          0.0 │          NaN │          NaN │\n",
      "│  14.0 │ 5.6109e-314 │          0.0 │          0.0 │          0.0 │          0.0 │          NaN │          NaN │          0.0 │\n",
      "│  15.0 │  2.122e-314 │          0.0 │  5.6109e-314 │          0.0 │          0.0 │          0.0 │          NaN │          NaN │\n",
      "│  16.0 │         0.0 │          0.0 │ 4.24399e-314 │          0.0 │  5.6109e-314 │          0.0 │          NaN │          NaN │\n",
      "│  17.0 │         0.0 │          0.0 │          0.0 │          0.0 │ 5.59472e-314 │ 2.20502e-314 │          NaN │          NaN │\n",
      "│  18.0 │         0.0 │          0.0 │          0.0 │          0.0 │          0.0 │     1.0e-323 │          NaN │          NaN │\n",
      "│  19.0 │         0.0 │          0.0 │          0.0 │ 5.59631e-314 │          0.0 │          0.0 │          NaN │          NaN │\n",
      "│  20.0 │         0.0 │          0.0 │          0.0 │     6.0e-323 │     5.0e-324 │          NaN │          NaN │          NaN │\n",
      "│  21.0 │         0.0 │          0.0 │          0.0 │    3.16e-322 │          0.0 │          0.0 │          NaN │          NaN │\n",
      "│  22.0 │         0.0 │          0.0 │          0.0 │          0.0 │          0.0 │          0.0 │          NaN │          NaN │\n",
      "│  23.0 │         0.0 │          0.0 │          0.0 │          0.0 │ 1.18832e-312 │ 2.20502e-314 │          0.0 │          NaN │\n",
      "│  24.0 │         0.0 │          0.0 │          0.0 │          0.0 │ 5.59472e-314 │     1.0e-323 │          NaN │          0.0 │\n",
      "│  25.0 │         0.0 │          0.0 │          0.0 │          0.0 │ 2.18601e-314 │          0.0 │          NaN │          0.0 │\n",
      "│  26.0 │         0.0 │          0.0 │          0.0 │          0.0 │     5.0e-324 │          NaN │          NaN │     3.7e-322 │\n",
      "│  27.0 │         0.0 │          0.0 │          0.0 │          0.0 │          0.0 │          0.0 │          NaN │          0.0 │\n",
      "│  28.0 │         0.0 │  5.6109e-314 │          0.0 │          0.0 │          0.0 │          0.0 │          NaN │     3.7e-322 │\n",
      "│  29.0 │         0.0 │   2.122e-314 │          0.0 │          0.0 │          0.0 │ 2.20502e-314 │          NaN │ 5.60956e-314 │\n",
      "│  30.0 │         0.0 │          0.0 │          0.0 │   2.122e-314 │ 2.52337e-314 │     1.0e-323 │          NaN │ 5.60956e-314 │\n",
      "│  31.0 │         0.0 │          0.0 │          0.0 │ 5.59631e-314 │ 2.52337e-314 │          0.0 │          NaN │ 5.60956e-314 │\n",
      "│  32.0 │         0.0 │          0.0 │          0.0 │     5.0e-324 │ 2.52337e-314 │          NaN │          NaN │ 5.59472e-314 │\n",
      "│  33.0 │         0.0 │          0.0 │          0.0 │    3.16e-322 │          0.0 │          0.0 │          NaN │ 5.59472e-314 │\n",
      "│  34.0 │         0.0 │          0.0 │          0.0 │ 5.59472e-314 │          0.0 │          0.0 │          NaN │     4.0e-323 │\n",
      "│  35.0 │         0.0 │          0.0 │          0.0 │   2.122e-314 │ 5.59472e-314 │ 2.20502e-314 │ 5.60933e-314 │          0.0 │\n",
      "│  36.0 │         0.0 │          0.0 │          0.0 │          0.0 │ 8.48798e-314 │     1.0e-323 │          NaN │ 5.60933e-314 │\n",
      "│  37.0 │         0.0 │          0.0 │          0.0 │          0.0 │          0.0 │          0.0 │          0.0 │ 5.60951e-314 │\n",
      "│  38.0 │         0.0 │          0.0 │          0.0 │ 1.39069e-309 │          0.0 │          NaN │          NaN │ 5.60942e-314 │\n",
      "│  39.0 │         0.0 │          0.0 │          0.0 │   2.122e-314 │          0.0 │          0.0 │          NaN │          0.0 │\n",
      "│  40.0 │         0.0 │          0.0 │          0.0 │ 7.29113e-304 │          0.0 │          0.0 │          NaN │          0.0 │\n",
      "│  41.0 │ 5.6109e-314 │          0.0 │          0.0 │ 5.59461e-314 │ 5.59472e-314 │ 2.20502e-314 │ 5.60924e-314 │          NaN │\n",
      "│  42.0 │         NaN │          0.0 │  5.6109e-314 │          0.0 │          0.0 │     1.0e-323 │          NaN │          0.0 │\n",
      "│  43.0 │         0.0 │          0.0 │   2.122e-314 │          0.0 │          0.0 │          0.0 │          NaN │          0.0 │\n",
      "│  44.0 │         0.0 │          0.0 │          0.0 │ 5.59472e-314 │     5.0e-324 │          NaN │          NaN │          0.0 │\n",
      "│  45.0 │         0.0 │          0.0 │          0.0 │ 8.48798e-314 │          0.0 │          0.0 │          NaN │          0.0 │\n",
      "│  46.0 │         0.0 │          0.0 │          0.0 │          0.0 │          0.0 │          0.0 │          NaN │          0.0 │\n",
      "│  47.0 │         0.0 │          0.0 │          0.0 │          0.0 │ 1.18832e-312 │ 2.20502e-314 │          0.0 │          0.0 │\n",
      "│  48.0 │         0.0 │          0.0 │          0.0 │          0.0 │ 5.59472e-314 │     1.0e-323 │          NaN │          0.0 │\n",
      "│  49.0 │         0.0 │          0.0 │          0.0 │          0.0 │ 2.18601e-314 │          0.0 │          0.0 │          0.0 │\n",
      "│  50.0 │         0.0 │          0.0 │          0.0 │ 5.59472e-314 │     5.0e-324 │          NaN │          NaN │          NaN │\n",
      "│  51.0 │         0.0 │          0.0 │          0.0 │          0.0 │          0.0 │          0.0 │          NaN │          0.0 │\n",
      "│  52.0 │         0.0 │          0.0 │          0.0 │          0.0 │          0.0 │          0.0 │          NaN │          0.0 │\n",
      "│  53.0 │         0.0 │          0.0 │          0.0 │     5.0e-324 │          0.0 │ 2.20502e-314 │          NaN │          0.0 │\n",
      "│  54.0 │         0.0 │          0.0 │          0.0 │ 5.59472e-314 │  2.5234e-314 │     1.0e-323 │          NaN │          0.0 │\n",
      "│  55.0 │         0.0 │          0.0 │          0.0 │ 5.60956e-314 │  2.5234e-314 │          0.0 │          NaN │          0.0 │\n",
      "│  56.0 │         0.0 │ 5.59461e-314 │          0.0 │    3.16e-322 │  2.5234e-314 │          NaN │          NaN │          0.0 │\n",
      "│  57.0 │         0.0 │          0.0 │          0.0 │          0.0 │     1.0e-323 │          0.0 │          0.0 │          0.0 │\n",
      "│  58.0 │         0.0 │  5.6095e-314 │          0.0 │          0.0 │          0.0 │     5.0e-324 │          NaN │  5.6109e-314 │\n",
      "│  59.0 │         0.0 │          0.0 │          0.0 │          0.0 │          0.0 │ 2.20502e-314 │          0.0 │          NaN │\n",
      "│  60.0 │         0.0 │ 5.59615e-314 │          0.0 │ 5.59472e-314 │          0.0 │     1.0e-323 │          NaN │          0.0 │\n",
      "│  61.0 │         0.0 │          0.0 │          0.0 │   2.122e-314 │          0.0 │          0.0 │ 5.60952e-314 │          0.0 │\n",
      "│  62.0 │         0.0 │          0.0 │          0.0 │          0.0 │          0.0 │          NaN │          NaN │          0.0 │\n",
      "│  63.0 │         0.0 │ 5.59432e-314 │          0.0 │          0.0 │          0.0 │          0.0 │          NaN │          0.0 │\n",
      "│  64.0 │         0.0 │          0.0 │          0.0 │          0.0 │          0.0 │          0.0 │          NaN │          0.0 │\n",
      "│  65.0 │         0.0 │     1.0e-323 │          0.0 │ 6.79039e-313 │          0.0 │ 2.20502e-314 │          NaN │          0.0 │\n",
      "│  66.0 │         0.0 │ 2.52316e-314 │          0.0 │ 5.59472e-314 │          0.0 │     1.0e-323 │          NaN │          0.0 │\n",
      "│  67.0 │         0.0 │     5.0e-324 │          0.0 │ 2.19813e-314 │          0.0 │          0.0 │          0.0 │          0.0 │\n",
      "│  68.0 │ 5.6109e-314 │ 5.26354e-315 │          0.0 │     5.4e-323 │          0.0 │          NaN │          NaN │ 5.60933e-314 │\n",
      "│  69.0 │         NaN │          0.0 │  5.6109e-314 │          0.0 │          0.0 │          0.0 │          NaN │   1.061e-313 │\n",
      "│  70.0 │         0.0 │    1.14e-322 │   2.122e-314 │          0.0 │  5.6109e-314 │          0.0 │          NaN │     2.5e-323 │\n",
      "│  71.0 │         0.0 │ 2.57806e-314 │          0.0 │ 5.59472e-314 │   2.122e-314 │ 2.20502e-314 │          NaN │ 5.60933e-314 │\n",
      "│  72.0 │         0.0 │     8.0e-323 │          0.0 │   2.122e-314 │ 2.20502e-314 │     1.0e-323 │          NaN │ 5.60952e-314 │\n",
      "│  73.0 │         0.0 │ 5.26354e-315 │          0.0 │          0.0 │     1.0e-323 │          0.0 │          0.0 │ 5.59472e-314 │\n",
      "│  74.0 │         0.0 │          0.0 │          0.0 │          0.0 │          0.0 │          NaN │          NaN │ 4.24399e-314 │\n",
      "│  75.0 │         0.0 │    1.14e-322 │          0.0 │          0.0 │          NaN │          0.0 │          NaN │ 5.60952e-314 │\n",
      "│  76.0 │         0.0 │ 2.52348e-314 │          0.0 │          0.0 │          0.0 │          0.0 │          NaN │ 5.60951e-314 │\n",
      "│  77.0 │         0.0 │     6.0e-323 │          0.0 │          0.0 │          0.0 │ 2.20502e-314 │          0.0 │          NaN │\n",
      "│  78.0 │         0.0 │ 5.26354e-315 │          0.0 │          0.0 │ 2.20502e-314 │     1.0e-323 │          NaN │          0.0 │\n",
      "│  79.0 │         0.0 │ 2.52326e-314 │          0.0 │          0.0 │     1.0e-323 │          0.0 │          0.0 │          0.0 │\n",
      "│  80.0 │         0.0 │ 4.03179e-313 │          0.0 │          0.0 │          0.0 │          NaN │          NaN │          0.0 │\n",
      "│  81.0 │         0.0 │ 2.52329e-314 │          0.0 │          0.0 │          NaN │          0.0 │          0.0 │          0.0 │\n",
      "│  82.0 │         0.0 │ 2.52328e-314 │          0.0 │          0.0 │          0.0 │          0.0 │          NaN │          0.0 │\n",
      "│  83.0 │         0.0 │ 2.52322e-314 │          0.0 │          0.0 │          0.0 │ 2.20502e-314 │          NaN │          0.0 │\n",
      "│  84.0 │         0.0 │ 2.52328e-314 │          0.0 │          0.0 │ 2.20502e-314 │     1.0e-323 │          NaN │          0.0 │\n",
      "│  85.0 │         0.0 │ 2.52316e-314 │          0.0 │          0.0 │     1.0e-323 │          0.0 │          0.0 │  5.6109e-314 │\n",
      "│  86.0 │         0.0 │          0.0 │          0.0 │          0.0 │          0.0 │          NaN │          NaN │          NaN │\n",
      "│  87.0 │         0.0 │          0.0 │          0.0 │          0.0 │          NaN │          0.0 │          NaN │ 5.59438e-314 │\n",
      "│  88.0 │         0.0 │          0.0 │          0.0 │          0.0 │          0.0 │          0.0 │          NaN │ 5.59438e-314 │\n",
      "│  89.0 │         0.0 │          0.0 │          0.0 │          0.0 │          0.0 │ 2.20502e-314 │          NaN │ 5.59438e-314 │\n",
      "│  90.0 │         0.0 │          0.0 │          0.0 │          0.0 │ 2.20502e-314 │     1.0e-323 │          NaN │ 5.59438e-314 │\n",
      "│  91.0 │         0.0 │          0.0 │          0.0 │          0.0 │     1.0e-323 │          0.0 │ 5.60917e-314 │ 5.59438e-314 │\n",
      "│  92.0 │         0.0 │          0.0 │          0.0 │          0.0 │          0.0 │          NaN │          NaN │ 5.59438e-314 │\n",
      "│  93.0 │         0.0 │          0.0 │          0.0 │          0.0 │          NaN │          0.0 │          NaN │          0.0 │\n",
      "│  94.0 │         0.0 │          0.0 │          0.0 │          0.0 │          0.0 │          0.0 │          NaN │          0.0 │\n",
      "│  95.0 │ 5.6109e-314 │          0.0 │          0.0 │          0.0 │          0.0 │ 2.20502e-314 │          NaN │          NaN │\n",
      "│  96.0 │   6.09932e6 │          0.0 │  5.6109e-314 │          0.0 │ 2.20502e-314 │     1.0e-323 │          NaN │          0.0 │\n",
      "│  97.0 │         0.0 │          0.0 │   2.122e-314 │          0.0 │     1.0e-323 │          0.0 │          NaN │          0.0 │\n",
      "│  98.0 │         0.0 │          0.0 │          0.0 │          0.0 │          0.0 │          NaN │          NaN │          0.0 │\n",
      "│  99.0 │         0.0 │          0.0 │          0.0 │ 5.59472e-314 │          NaN │          0.0 │          0.0 │          0.0 │\n",
      "│ 100.0 │         0.0 │          0.0 │          0.0 │ 6.36599e-314 │          0.0 │          0.0 │          NaN │          0.0 │\n",
      "│ 101.0 │         0.0 │ 5.59617e-314 │          0.0 │          0.0 │          0.0 │ 2.20502e-314 │          0.0 │          0.0 │\n",
      "│ 102.0 │         0.0 │          0.0 │          0.0 │          0.0 │ 2.20502e-314 │     1.0e-323 │          NaN │          0.0 │\n",
      "│ 103.0 │         0.0 │    3.16e-322 │          0.0 │          0.0 │     1.0e-323 │          0.0 │          NaN │ 5.60929e-314 │\n",
      "│ 104.0 │         0.0 │ 5.59595e-314 │          0.0 │          0.0 │          0.0 │          NaN │          NaN │          NaN │\n",
      "│ 105.0 │         0.0 │          0.0 │          0.0 │          0.0 │          NaN │          0.0 │          NaN │ 5.60917e-314 │\n",
      "│ 106.0 │         0.0 │    3.16e-322 │          0.0 │          0.0 │          0.0 │          0.0 │          NaN │          0.0 │\n",
      "│ 107.0 │         0.0 │  5.5963e-314 │          0.0 │          0.0 │          0.0 │ 2.20502e-314 │          NaN │          0.0 │\n",
      "│ 108.0 │         0.0 │          0.0 │          0.0 │          0.0 │ 2.20502e-314 │     1.0e-323 │          NaN │          0.0 │\n",
      "│ 109.0 │         0.0 │ 4.24399e-314 │          0.0 │          0.0 │     1.0e-323 │          0.0 │          NaN │          0.0 │\n",
      "│ 110.0 │         0.0 │ 5.59629e-314 │          0.0 │ 5.59472e-314 │          0.0 │          NaN │          NaN │          0.0 │\n",
      "│ 111.0 │         0.0 │  5.5963e-314 │          0.0 │ 6.36599e-314 │          NaN │          0.0 │          NaN │          0.0 │\n",
      "│ 112.0 │         0.0 │ 5.59472e-314 │          0.0 │          0.0 │          0.0 │   2.122e-314 │          NaN │  5.6109e-314 │\n",
      "│ 113.0 │         0.0 │ 8.48798e-314 │          0.0 │          0.0 │          0.0 │ 2.20502e-314 │          NaN │ 5.60942e-314 │\n",
      "│ 114.0 │         0.0 │ 5.59629e-314 │          0.0 │          0.0 │ 2.20502e-314 │     1.0e-323 │          NaN │  1.2732e-313 │\n",
      "│ 115.0 │         0.0 │          0.0 │          0.0 │          0.0 │     1.0e-323 │          0.0 │          0.0 │     7.4e-323 │\n",
      "│ 116.0 │         0.0 │          0.0 │          0.0 │          0.0 │          0.0 │          NaN │          NaN │ 5.60942e-314 │\n",
      "│ 117.0 │         0.0 │          0.0 │          0.0 │          0.0 │          NaN │          0.0 │          NaN │ 5.60951e-314 │\n",
      "│ 118.0 │         0.0 │ 5.59472e-314 │ 5.59472e-314 │          0.0 │          0.0 │          0.0 │          NaN │ 5.59472e-314 │\n",
      "│ 119.0 │         0.0 │          0.0 │          0.0 │          0.0 │          0.0 │ 2.20502e-314 │          NaN │ 4.24399e-314 │\n",
      "│ 120.0 │         0.0 │   5.133e-321 │   1.265e-321 │          0.0 │ 2.20502e-314 │     1.0e-323 │          NaN │ 5.60951e-314 │\n",
      "│ 121.0 │         0.0 │     5.0e-324 │          0.0 │          0.0 │     1.0e-323 │          0.0 │          NaN │          0.0 │\n",
      "│ 122.0 │ 5.6109e-314 │ 5.59644e-314 │          0.0 │          0.0 │          0.0 │          NaN │          NaN │          NaN │\n",
      "│ 123.0 │  2.122e-314 │     5.0e-324 │  5.6109e-314 │          0.0 │          NaN │          0.0 │          NaN │          0.0 │\n",
      "│ 124.0 │         0.0 │    3.16e-322 │   2.122e-314 │          0.0 │          0.0 │          0.0 │          NaN │          0.0 │\n",
      "│ 125.0 │         0.0 │ 2.52323e-314 │          0.0 │          0.0 │   2.122e-314 │ 2.20502e-314 │          0.0 │          0.0 │\n",
      "│ 126.0 │         0.0 │ 2.52323e-314 │          0.0 │          0.0 │ 2.20502e-314 │     1.0e-323 │          NaN │          0.0 │\n",
      "│ 127.0 │         0.0 │ 2.52323e-314 │          0.0 │          0.0 │     1.0e-323 │          0.0 │          0.0 │          0.0 │\n",
      "│ 128.0 │         0.0 │ 5.59615e-314 │          0.0 │          0.0 │          0.0 │          NaN │          NaN │          0.0 │\n",
      "│ 129.0 │         0.0 │     5.0e-324 │          0.0 │          0.0 │          NaN │          0.0 │          0.0 │          0.0 │\n",
      "│ 130.0 │         0.0 │    3.16e-322 │          0.0 │          0.0 │          0.0 │          0.0 │          NaN │          0.0 │\n",
      "│ 131.0 │         0.0 │ 2.52347e-314 │          0.0 │          0.0 │          0.0 │ 2.20502e-314 │          0.0 │          NaN │\n",
      "│ 132.0 │         0.0 │ 2.52347e-314 │          0.0 │          0.0 │ 2.20502e-314 │     1.0e-323 │          NaN │          0.0 │\n",
      "│ 133.0 │         0.0 │ 2.52347e-314 │          0.0 │          0.0 │     1.0e-323 │          0.0 │          NaN │          0.0 │\n",
      "│ 134.0 │         0.0 │          0.0 │          0.0 │          0.0 │          0.0 │          NaN │          NaN │          0.0 │\n",
      "│ 135.0 │         0.0 │          0.0 │          0.0 │          0.0 │          NaN │          0.0 │          0.0 │          0.0 │\n",
      "│ 136.0 │         0.0 │ 4.24399e-314 │          0.0 │          0.0 │          0.0 │          0.0 │          NaN │          0.0 │\n",
      "│ 137.0 │         0.0 │ 5.59472e-314 │          0.0 │  5.6109e-314 │          0.0 │ 2.20502e-314 │          0.0 │          0.0 │\n",
      "│ 138.0 │         0.0 │ 1.35808e-312 │          0.0 │   2.122e-314 │ 2.20502e-314 │     1.0e-323 │          NaN │          0.0 │\n",
      "│ 139.0 │         0.0 │          0.0 │          0.0 │          0.0 │     1.0e-323 │          0.0 │          NaN │  5.6109e-314 │\n",
      "│ 140.0 │         0.0 │          0.0 │          0.0 │          0.0 │          0.0 │          NaN │          NaN │          NaN │\n",
      "│ 141.0 │         0.0 │          0.0 │          0.0 │ 3.39519e-313 │          NaN │          0.0 │          NaN │          0.0 │\n",
      "│ 142.0 │         0.0 │          0.0 │          0.0 │          0.0 │          0.0 │          0.0 │          NaN │          0.0 │\n",
      "│ 143.0 │         0.0 │          0.0 │          0.0 │          0.0 │          0.0 │ 2.20502e-314 │          NaN │          0.0 │\n",
      "│ 144.0 │         0.0 │          0.0 │          0.0 │          0.0 │ 2.20502e-314 │     1.0e-323 │          NaN │          0.0 │\n",
      "│ 145.0 │         0.0 │          0.0 │          0.0 │          0.0 │     1.0e-323 │          0.0 │          NaN │          0.0 │\n",
      "│ 146.0 │         0.0 │          0.0 │          0.0 │          0.0 │          0.0 │          NaN │          NaN │          0.0 │\n",
      "│ 147.0 │         0.0 │          0.0 │          0.0 │          0.0 │          NaN │          0.0 │          NaN │          0.0 │\n",
      "│ 148.0 │         0.0 │          0.0 │          0.0 │          0.0 │          0.0 │          0.0 │          NaN │          0.0 │\n",
      "│ 149.0 │ 5.6109e-314 │          0.0 │          0.0 │          0.0 │          0.0 │ 2.20502e-314 │          NaN │          NaN │\n",
      "│ 150.0 │  2.122e-314 │          0.0 │  5.6109e-314 │          0.0 │ 2.20502e-314 │     1.0e-323 │          NaN │          0.0 │\n",
      "│ 151.0 │         0.0 │          0.0 │   2.122e-314 │          0.0 │     1.0e-323 │          0.0 │          0.0 │          0.0 │\n",
      "│ 152.0 │         0.0 │          0.0 │          0.0 │          0.0 │          0.0 │          NaN │          NaN │          0.0 │\n",
      "│ 153.0 │         0.0 │          0.0 │          0.0 │          0.0 │          NaN │          0.0 │          NaN │          0.0 │\n",
      "│ 154.0 │         0.0 │          0.0 │          0.0 │          0.0 │          0.0 │          0.0 │          NaN │          0.0 │\n",
      "│ 155.0 │         0.0 │          0.0 │          0.0 │   1.265e-321 │          0.0 │ 2.20502e-314 │          NaN │          0.0 │\n",
      "│ 156.0 │         0.0 │          0.0 │ 5.59364e-314 │          0.0 │ 2.20502e-314 │     1.0e-323 │          NaN │          0.0 │\n",
      "│ 157.0 │         0.0 │          0.0 │          0.0 │    1.27e-321 │     1.0e-323 │          0.0 │          NaN │          0.0 │\n",
      "│ 158.0 │         0.0 │          0.0 │ 5.59472e-314 │          0.0 │          0.0 │          NaN │          NaN │ 5.60917e-314 │\n",
      "│ 159.0 │         0.0 │          0.0 │ 5.59472e-314 │          0.0 │          NaN │          0.0 │          NaN │  1.2732e-313 │\n",
      "│ 160.0 │         0.0 │          0.0 │   2.122e-314 │          0.0 │          0.0 │          0.0 │          NaN │     3.0e-323 │\n",
      "│ 161.0 │         0.0 │          0.0 │          0.0 │          0.0 │          0.0 │ 2.20502e-314 │          NaN │ 5.60917e-314 │\n",
      "│ 162.0 │         0.0 │          0.0 │ 5.60954e-314 │          0.0 │ 2.20502e-314 │     1.0e-323 │          NaN │ 5.60933e-314 │\n",
      "│ 163.0 │         0.0 │  5.6109e-314 │          0.0 │          0.0 │     1.0e-323 │          0.0 │ 5.60933e-314 │ 5.59472e-314 │\n",
      "│ 164.0 │         0.0 │   2.122e-314 │          0.0 │  5.6109e-314 │          0.0 │          NaN │          NaN │ 4.24399e-314 │\n",
      "│ 165.0 │         0.0 │ 5.59438e-314 │          0.0 │ 5.59364e-314 │          NaN │          0.0 │          0.0 │ 5.60933e-314 │\n",
      "│ 166.0 │         0.0 │ 5.59438e-314 │          0.0 │          0.0 │          0.0 │   2.122e-314 │          NaN │ 5.60942e-314 │\n",
      "│ 167.0 │         0.0 │          0.0 │          0.0 │          0.0 │          0.0 │ 2.20502e-314 │          NaN │ 5.60922e-314 │\n",
      "│ 168.0 │         0.0 │          0.0 │          0.0 │ 5.59472e-314 │ 2.20502e-314 │     1.0e-323 │          NaN │  1.4854e-313 │\n",
      "│ 169.0 │         0.0 │          0.0 │          0.0 │ 8.48798e-314 │     1.0e-323 │          0.0 │ 5.60924e-314 │     5.4e-323 │\n",
      "│ 170.0 │         0.0 │          0.0 │          0.0 │          0.0 │          0.0 │          NaN │          NaN │ 5.60922e-314 │\n",
      "│ 171.0 │         0.0 │          0.0 │          0.0 │          0.0 │          NaN │          0.0 │          NaN │ 5.60922e-314 │\n",
      "│ 172.0 │         0.0 │          0.0 │          0.0 │          0.0 │          0.0 │          0.0 │          NaN │ 5.59472e-314 │\n",
      "│ 173.0 │         0.0 │          0.0 │          0.0 │          0.0 │          0.0 │ 2.20502e-314 │          NaN │ 4.24399e-314 │\n",
      "│ 174.0 │         0.0 │          0.0 │          0.0 │ 5.59472e-314 │ 2.20502e-314 │     1.0e-323 │          NaN │ 5.60922e-314 │\n",
      "│ 175.0 │         0.0 │          0.0 │          0.0 │          0.0 │     1.0e-323 │          0.0 │          0.0 │          0.0 │\n",
      "│ 176.0 │ 5.6109e-314 │          0.0 │          0.0 │          0.0 │          0.0 │          NaN │          NaN │          NaN │\n",
      "│ 177.0 │  2.122e-314 │          0.0 │  5.6109e-314 │     5.0e-324 │          NaN │          0.0 │          0.0 │          0.0 │\n",
      "│ 178.0 │         0.0 │          0.0 │ 5.59472e-314 │          0.0 │          0.0 │          0.0 │          NaN │          0.0 │\n",
      "│ 179.0 │         0.0 │          0.0 │ 3.39519e-313 │          0.0 │   2.122e-314 │ 2.20502e-314 │          NaN │          0.0 │\n",
      "│ 180.0 │         0.0 │          0.0 │ 5.60954e-314 │ 1.18832e-312 │ 2.20502e-314 │     1.0e-323 │          NaN │          0.0 │\n",
      "│ 181.0 │         0.0 │ 5.60923e-314 │          0.0 │ 5.59472e-314 │     1.0e-323 │          0.0 │          NaN │          0.0 │\n",
      "│ 182.0 │         0.0 │          0.0 │          0.0 │ 2.18601e-314 │          0.0 │          NaN │          NaN │          0.0 │\n",
      "│ 183.0 │         0.0 │          0.0 │          0.0 │          0.0 │          NaN │          0.0 │          NaN │          0.0 │\n",
      "│ 184.0 │         0.0 │          0.0 │          0.0 │          0.0 │          0.0 │          0.0 │          NaN │          0.0 │\n",
      "│ 185.0 │         0.0 │          0.0 │          0.0 │          0.0 │          0.0 │ 2.20502e-314 │          0.0 │          NaN │\n",
      "│ 186.0 │         0.0 │          0.0 │          0.0 │          0.0 │ 2.20502e-314 │     1.0e-323 │          NaN │          0.0 │\n",
      "│ 187.0 │         0.0 │          0.0 │          0.0 │          0.0 │     1.0e-323 │          0.0 │          0.0 │          0.0 │\n",
      "│ 188.0 │         0.0 │          0.0 │          0.0 │          0.0 │          0.0 │          NaN │          NaN │          0.0 │\n",
      "│ 189.0 │         0.0 │          0.0 │          0.0 │          0.0 │          NaN │          0.0 │ 5.60952e-314 │          0.0 │\n",
      "│ 190.0 │         0.0 │  5.6109e-314 │          0.0 │ 5.59631e-314 │          0.0 │          0.0 │          NaN │          0.0 │\n",
      "│ 191.0 │         0.0 │   2.122e-314 │          0.0 │ 5.59631e-314 │          0.0 │ 2.20502e-314 │          NaN │          0.0 │\n",
      "│ 192.0 │         0.0 │          0.0 │          0.0 │ 5.59472e-314 │ 2.20502e-314 │     1.0e-323 │          NaN │          0.0 │\n",
      "│ 193.0 │         0.0 │          0.0 │          0.0 │ 8.48798e-314 │     1.0e-323 │          0.0 │          NaN │  5.6109e-314 │\n",
      "│ 194.0 │         0.0 │          0.0 │          0.0 │ 5.59631e-314 │          0.0 │          NaN │          NaN │          NaN │\n",
      "│ 195.0 │         0.0 │          0.0 │          0.0 │          0.0 │          NaN │          0.0 │          0.0 │          0.0 │\n",
      "│ 196.0 │         0.0 │          0.0 │          0.0 │          0.0 │          0.0 │          0.0 │          NaN │          0.0 │\n",
      "│ 197.0 │         0.0 │          0.0 │          0.0 │          0.0 │          0.0 │ 2.20502e-314 │          NaN │          0.0 │\n",
      "│ 198.0 │         0.0 │          0.0 │ 2.65869e-314 │ 5.59472e-314 │ 2.20502e-314 │     1.0e-323 │          NaN │          0.0 │\n",
      "│ 199.0 │         0.0 │          0.0 │     5.0e-324 │          0.0 │     1.0e-323 │          0.0 │          NaN │          0.0 │\n",
      "│ 200.0 │         0.0 │          0.0 │ 5.59461e-314 │   9.955e-321 │          0.0 │          NaN │          NaN │          0.0 │\n",
      "│ 201.0 │         0.0 │          0.0 │ 5.59631e-314 │     5.0e-324 │          NaN │          0.0 │          0.0 │          0.0 │\n",
      "│ 202.0 │         0.0 │          0.0 │ 5.59631e-314 │ 2.52326e-314 │          0.0 │          0.0 │          NaN │          0.0 │\n",
      "│ 203.0 │ 5.6109e-314 │ 5.59472e-314 │ 5.59472e-314 │ 4.66839e-313 │          0.0 │ 2.20502e-314 │          NaN │ 5.60954e-314 │\n",
      "│ 204.0 │  2.122e-314 │ 8.48798e-314 │ 8.48798e-314 │ 1.18832e-312 │ 2.20502e-314 │     1.0e-323 │          NaN │   2.122e-314 │\n",
      "│ 205.0 │         0.0 │          0.0 │ 5.59631e-314 │ 5.59472e-314 │     1.0e-323 │          0.0 │          0.0 │     5.0e-324 │\n",
      "│ 206.0 │         0.0 │          0.0 │          0.0 │ 2.18601e-314 │          0.0 │          NaN │          NaN │ 5.60954e-314 │\n",
      "│ 207.0 │         0.0 │          0.0 │          0.0 │ 4.66839e-313 │          NaN │          0.0 │          0.0 │ 5.60924e-314 │\n",
      "│ 208.0 │         0.0 │          0.0 │          0.0 │          0.0 │          0.0 │          0.0 │          NaN │ 5.59472e-314 │\n",
      "│ 209.0 │         0.0 │          0.0 │ 5.59472e-314 │          0.0 │          0.0 │ 2.20502e-314 │          0.0 │ 4.24399e-314 │\n",
      "│ 210.0 │         0.0 │          0.0 │          0.0 │          0.0 │ 2.20502e-314 │     1.0e-323 │          NaN │ 5.60924e-314 │\n",
      "│ 211.0 │         0.0 │          0.0 │   7.747e-321 │ 2.52316e-314 │     1.0e-323 │          0.0 │          NaN │          0.0 │\n",
      "│ 212.0 │         0.0 │          0.0 │     5.0e-324 │ 2.52316e-314 │          0.0 │          NaN │          NaN │          NaN │\n",
      "│ 213.0 │         0.0 │          0.0 │ 5.59472e-314 │ 2.52316e-314 │          NaN │          0.0 │          0.0 │          0.0 │\n",
      "│ 214.0 │         0.0 │          0.0 │ 5.60956e-314 │ 5.59632e-314 │          0.0 │          0.0 │          NaN │          0.0 │\n",
      "│ 215.0 │         0.0 │          0.0 │  1.4854e-313 │ 5.59632e-314 │          0.0 │ 2.20502e-314 │ 5.60956e-314 │          0.0 │\n",
      "│ 216.0 │         0.0 │          0.0 │ 2.52345e-314 │ 5.59472e-314 │ 2.20502e-314 │     1.0e-323 │          NaN │          0.0 │\n",
      "│ 217.0 │         0.0 │ 5.59472e-314 │ 2.52345e-314 │ 8.48798e-314 │     1.0e-323 │          0.0 │          NaN │          0.0 │\n",
      "│ 218.0 │         0.0 │ 6.79039e-313 │ 2.52345e-314 │ 5.59632e-314 │          0.0 │          NaN │          NaN │          0.0 │\n",
      "│ 219.0 │         0.0 │          0.0 │ 5.59472e-314 │   2.122e-314 │          NaN │          0.0 │ 5.60917e-314 │          0.0 │\n",
      "│ 220.0 │         0.0 │          0.0 │   2.122e-314 │          0.0 │          0.0 │   2.122e-314 │          NaN │  5.6109e-314 │\n",
      "│ 221.0 │         0.0 │          0.0 │          0.0 │          0.0 │          0.0 │ 2.20502e-314 │          NaN │          NaN │\n",
      "│ 222.0 │         0.0 │          0.0 │  2.5233e-314 │ 5.59472e-314 │ 2.20502e-314 │     1.0e-323 │          NaN │          0.0 │\n",
      "│ 223.0 │         0.0 │          0.0 │ 5.30499e-313 │          0.0 │     1.0e-323 │          0.0 │          NaN │          0.0 │\n",
      "│ 224.0 │         0.0 │          0.0 │ 6.79039e-313 │     3.7e-322 │          0.0 │          NaN │          NaN │          0.0 │\n",
      "│ 225.0 │         0.0 │          0.0 │ 5.59472e-314 │     5.0e-324 │          NaN │          0.0 │          NaN │          0.0 │\n",
      "│ 226.0 │         0.0 │          0.0 │ 2.19813e-314 │ 2.52347e-314 │          0.0 │          0.0 │          NaN │          0.0 │\n",
      "│ 227.0 │         0.0 │          0.0 │     5.4e-323 │   2.122e-314 │          0.0 │          0.0 │          0.0 │          0.0 │\n",
      "│ 228.0 │         0.0 │          0.0 │    1.18e-321 │ 1.18832e-312 │ 2.20502e-314 │ 5.60942e-314 │          NaN │          0.0 │\n",
      "│ 229.0 │         0.0 │          0.0 │          0.0 │ 5.59472e-314 │     1.0e-323 │          0.0 │          0.0 │          0.0 │\n",
      "└───────┴─────────────┴──────────────┴──────────────┴──────────────┴──────────────┴──────────────┴──────────────┴──────────────┘\n"
     ]
    }
   ],
   "source": [
    "table_data=Array{Float64, 2}(undef, trading_days, length(w)+3)\n",
    "for element in 1:trading_days\n",
    "    table_data[element,1]=element\n",
    "    for j in eachindex(tickers)\n",
    "        table_data[i,j+1]=portfolio_performance_initial[i,j]\n",
    "    end\n",
    "    table_data[i,end-1]=portfolio_performance_initial[i, end-1]\n",
    "    table_data[i,end]=portfolio_performance_initial[i,end]\n",
    "end\n",
    "\n",
    "pretty_table(table_data, header=[\"index\", tickers..., \"risk (sqrt)\", \"total value\"])\n"
   ]
  },
  {
   "cell_type": "code",
   "execution_count": 90,
   "id": "f49ea2a2",
   "metadata": {},
   "outputs": [
    {
     "ename": "ArgumentError",
     "evalue": "ArgumentError: column name \"risk\" not found in the data frame since it has no columns",
     "output_type": "error",
     "traceback": [
      "ArgumentError: column name \"risk\" not found in the data frame since it has no columns\n",
      "\n",
      "Stacktrace:\n",
      " [1] lookupname\n",
      "   @ ~/.julia/packages/DataFrames/58MUJ/src/other/index.jl:410 [inlined]\n",
      " [2] getindex\n",
      "   @ ~/.julia/packages/DataFrames/58MUJ/src/other/index.jl:422 [inlined]\n",
      " [3] getindex(df::DataFrame, row_ind::Int64, col_ind::Symbol)\n",
      "   @ DataFrames ~/.julia/packages/DataFrames/58MUJ/src/dataframe/dataframe.jl:522\n",
      " [4] top-level scope\n",
      "   @ ~/Desktop/CHEME-5660-Project-Template-F23/Template.ipynb:4"
     ]
    }
   ],
   "source": [
    "reallocated_portfolio=Array{Float64, 2}(undef, trading_days, length(w)+2)\n",
    "\n",
    "for element in 1:trading_days\n",
    "    risk_new=results[i,:risk]\n",
    "    n_new=results[i,:n_new]\n",
    "    price_new=results[i,:updated_close]\n",
    "\n",
    "    for j in eachindex(tickers)\n",
    "        reallocated_portfolio[i,j]=n_new[j]*price_new[j]|> x -> abs\n",
    "    end\n",
    "\n",
    "    reallocated_portfolio[i,end-1]=risk_new\n",
    "end\n",
    "\n",
    "for element in 1:trading_days\n",
    "    reallocated_portfolio[i,end]=sum(reallocated_portfolio[i,1:end-2])\n",
    "end\n",
    "\n",
    "for element in trading_days\n",
    "    reallocated_portfolio[i,end]=sum(reallocated_portfolio[i,1:end-2])\n",
    "end\n",
    "\n",
    "tot=reallocated_portfolio[1,end]\n",
    "data=reallocated_portfolio[1,1:end-2]\n",
    "w=(1/tot)*data\n",
    "reallocated_portfolio[1,end-1]=transpose(w)*Σ̂*w |> sqrt\n"
   ]
  },
  {
   "cell_type": "code",
   "execution_count": 91,
   "id": "307ea0bb",
   "metadata": {},
   "outputs": [
    {
     "name": "stdout",
     "output_type": "stream",
     "text": [
      "┌───────┬──────────────┬──────────────┬──────────────┬──────────────┬──────────────┬──────────────┬───────────────┬──────────────┐\n",
      "│\u001b[1m index \u001b[0m│\u001b[1m         NVDA \u001b[0m│\u001b[1m          MDT \u001b[0m│\u001b[1m          AMD \u001b[0m│\u001b[1m           PG \u001b[0m│\u001b[1m           MO \u001b[0m│\u001b[1m          PLD \u001b[0m│\u001b[1m   risk (sqrt) \u001b[0m│\u001b[1m  total value \u001b[0m│\n",
      "├───────┼──────────────┼──────────────┼──────────────┼──────────────┼──────────────┼──────────────┼───────────────┼──────────────┤\n",
      "│   1.0 │     4.0e-323 │          NaN │ 5.60788e-314 │ 5.53056e-314 │          NaN │ 3.03661e-314 │   1.01224e123 │ 2.20496e-314 │\n",
      "│   2.0 │          NaN │          0.0 │    2.08e-322 │ 4.24399e-314 │          NaN │ 8.48798e-314 │           0.0 │    2.37e-322 │\n",
      "│   3.0 │          NaN │          NaN │   2.122e-314 │ 3.03661e-314 │    2.47e-322 │ 1.23076e-312 │  3.03661e-314 │  1.01224e123 │\n",
      "│   4.0 │          NaN │          0.0 │          NaN │  1.2732e-313 │          NaN │     8.0e-323 │  8.48798e-314 │          0.0 │\n",
      "│   5.0 │          NaN │          NaN │     9.0e-323 │          0.0 │     4.0e-323 │     3.0e-322 │  1.52784e-312 │ 3.03661e-314 │\n",
      "│   6.0 │ 4.24399e-314 │          0.0 │ -1.43087e143 │  5.6078e-314 │ 5.30499e-313 │          NaN │ -5.20906e-235 │          0.0 │\n",
      "│   7.0 │   2.122e-314 │          NaN │          NaN │ 3.03558e-314 │          NaN │          0.0 │    2.122e-314 │ 4.24399e-314 │\n",
      "│   8.0 │          NaN │          0.0 │     5.0e-324 │ 3.03558e-314 │          NaN │ 3.03661e-314 │   1.01224e123 │    1.24e-322 │\n",
      "│   9.0 │          NaN │          NaN │   2.122e-314 │ 3.03558e-314 │ 4.24399e-314 │ 8.48798e-314 │           0.0 │    1.73e-322 │\n",
      "│  10.0 │          NaN │          0.0 │          NaN │ 3.03558e-314 │          NaN │ 6.79039e-313 │  3.03661e-314 │  1.01224e123 │\n",
      "│  11.0 │          NaN │          NaN │   2.122e-314 │   2.122e-314 │     9.4e-323 │          0.0 │  8.48798e-314 │          0.0 │\n",
      "│  12.0 │          NaN │          0.0 │    2.67e-322 │ 2.52497e-314 │ 5.60791e-314 │          NaN │  1.61272e-312 │ 3.03661e-314 │\n",
      "│  13.0 │   2.122e-314 │          NaN │ 5.60788e-314 │ 2.52378e-314 │          NaN │  1.01224e123 │      1.0e-323 │ 8.48798e-314 │\n",
      "│  14.0 │          NaN │          0.0 │    2.67e-322 │ 3.03558e-314 │ 5.60784e-314 │          0.0 │    2.122e-314 │ 4.24399e-314 │\n",
      "│  15.0 │          NaN │          NaN │   2.122e-314 │          0.0 │     1.5e-323 │ 3.03661e-314 │   1.01224e123 │    1.83e-322 │\n",
      "│  16.0 │          NaN │          0.0 │          NaN │          0.0 │          NaN │ 8.48798e-314 │           0.0 │          NaN │\n",
      "│  17.0 │          NaN │          NaN │          0.0 │          0.0 │     5.0e-324 │ 4.66839e-313 │  3.03661e-314 │  1.01224e123 │\n",
      "│  18.0 │          NaN │          0.0 │   2.122e-314 │          0.0 │          NaN │          NaN │  8.48798e-314 │          0.0 │\n",
      "│  19.0 │     3.5e-323 │ 5.60791e-314 │          NaN │          0.0 │          NaN │     1.2e-322 │  1.25198e-312 │ 3.03661e-314 │\n",
      "│  20.0 │          NaN │          0.0 │     9.4e-323 │ 5.53083e-314 │          NaN │  1.01224e123 │  2.20496e-314 │ 8.48798e-314 │\n",
      "│  21.0 │          NaN │          NaN │    3.16e-322 │          0.0 │    1.24e-322 │          0.0 │      3.0e-322 │          0.0 │\n",
      "│  22.0 │          NaN │          0.0 │ 5.60792e-314 │ 3.03565e-314 │          NaN │ 3.03661e-314 │   1.01224e123 │          NaN │\n",
      "│  23.0 │     5.0e-324 │          NaN │    3.16e-322 │          0.0 │     9.4e-323 │ 8.48798e-314 │           0.0 │          0.0 │\n",
      "│  24.0 │          NaN │          0.0 │   2.122e-314 │ 3.03565e-314 │          NaN │ 3.81959e-313 │  3.03661e-314 │  1.01224e123 │\n",
      "│  25.0 │          NaN │          NaN │          NaN │ 5.61093e-314 │          NaN │     8.0e-323 │  8.48798e-314 │          0.0 │\n",
      "│  26.0 │          NaN │          0.0 │     3.1e-322 │     5.0e-324 │          NaN │     3.1e-322 │  4.24399e-314 │ 3.03661e-314 │\n",
      "│  27.0 │          NaN │          NaN │    3.16e-322 │   2.122e-314 │    2.03e-322 │  1.01224e123 │      9.0e-323 │ 8.48798e-314 │\n",
      "│  28.0 │          NaN │          0.0 │ 5.60788e-314 │ 5.61091e-314 │ 5.60789e-314 │          0.0 │      9.4e-323 │     2.0e-323 │\n",
      "│  29.0 │ 3.18299e-314 │          NaN │    3.16e-322 │ 5.61091e-314 │     3.0e-323 │ 3.03661e-314 │   1.01224e123 │ 3.03666e-314 │\n",
      "│  30.0 │          NaN │          0.0 │   2.122e-314 │ 5.61091e-314 │          NaN │ 8.48798e-314 │           0.0 │ 2.05227e-289 │\n",
      "│  31.0 │     2.2e-322 │          NaN │          NaN │          0.0 │          NaN │     1.0e-323 │  3.03661e-314 │  1.01224e123 │\n",
      "│  32.0 │          NaN │          0.0 │     1.4e-322 │          0.0 │          NaN │          0.0 │  8.48798e-314 │          0.0 │\n",
      "│  33.0 │          NaN │          NaN │   2.122e-314 │   2.122e-314 │    2.17e-322 │   2.122e-314 │  1.33686e-312 │ 3.03661e-314 │\n",
      "│  34.0 │          NaN │          0.0 │          NaN │          0.0 │ 2.52328e-314 │  1.01224e123 │           0.0 │ 8.48798e-314 │\n",
      "│  35.0 │          NaN │          NaN │     3.5e-322 │          0.0 │     2.5e-323 │          0.0 │           NaN │ 1.25198e-312 │\n",
      "│  36.0 │          NaN │          0.0 │   2.122e-314 │          0.0 │ 5.60792e-314 │ 3.03661e-314 │   1.01224e123 │ 3.03661e-314 │\n",
      "│  37.0 │          0.0 │          NaN │          NaN │ 3.03565e-314 │          NaN │ 8.48798e-314 │           0.0 │    2.96e-322 │\n",
      "│  38.0 │          NaN │          0.0 │     7.4e-323 │          0.0 │          NaN │ 1.50662e-312 │  3.03661e-314 │  1.01224e123 │\n",
      "│  39.0 │          NaN │          NaN │   2.122e-314 │          0.0 │ 4.24399e-314 │ 2.20496e-314 │  8.48798e-314 │          0.0 │\n",
      "│  40.0 │          NaN │          0.0 │          NaN │   2.122e-314 │          NaN │    3.75e-322 │  6.36599e-314 │ 3.03661e-314 │\n",
      "│  41.0 │          NaN │          NaN │    2.87e-322 │          0.0 │     9.0e-323 │  1.01224e123 │           NaN │ 8.48798e-314 │\n",
      "│  42.0 │          NaN │          0.0 │   2.122e-314 │          0.0 │          NaN │          0.0 │      1.5e-323 │ 6.79039e-313 │\n",
      "│  43.0 │   2.122e-314 │          NaN │          NaN │ 3.03558e-314 │          NaN │ 3.03661e-314 │   1.01224e123 │ 2.05227e-289 │\n",
      "│  44.0 │          NaN │          0.0 │    2.77e-322 │          0.0 │          NaN │ 8.48798e-314 │           0.0 │     7.0e-323 │\n",
      "│  45.0 │          0.0 │          NaN │   2.122e-314 │ 3.03565e-314 │    1.04e-322 │ 1.61272e-312 │  3.03661e-314 │  1.01224e123 │\n",
      "│  46.0 │          NaN │          0.0 │          NaN │  5.6109e-314 │          NaN │     1.0e-323 │  8.48798e-314 │          0.0 │\n",
      "│  47.0 │          0.0 │          NaN │     2.2e-322 │  5.6109e-314 │     1.6e-322 │    2.27e-322 │  4.24399e-314 │ 3.03661e-314 │\n",
      "│  48.0 │          NaN │          0.0 │   2.122e-314 │  5.6109e-314 │          NaN │  1.01224e123 │      7.4e-323 │ 8.48798e-314 │\n",
      "│  49.0 │          0.0 │          NaN │          NaN │          0.0 │          NaN │          0.0 │     2.17e-322 │ 4.24399e-313 │\n",
      "│  50.0 │          NaN │          0.0 │   2.122e-314 │          0.0 │          NaN │ 3.03661e-314 │   1.01224e123 │          0.0 │\n",
      "│  51.0 │          0.0 │          NaN │   2.122e-314 │          0.0 │   2.122e-314 │ 8.48798e-314 │           0.0 │   2.122e-314 │\n",
      "│  52.0 │          NaN │          0.0 │          NaN │          0.0 │          NaN │ 1.18832e-312 │  3.03661e-314 │  1.01224e123 │\n",
      "│  53.0 │          0.0 │          NaN │     1.0e-323 │          0.0 │    2.67e-322 │          0.0 │  8.48798e-314 │          0.0 │\n",
      "│  54.0 │          NaN │          0.0 │   2.122e-314 │   2.122e-314 │          NaN │          NaN │  6.36599e-314 │ 3.03661e-314 │\n",
      "│  55.0 │          0.0 │   2.122e-314 │          NaN │ 3.03661e-314 │          NaN │  1.01224e123 │  2.52372e-314 │ 8.48798e-314 │\n",
      "│  56.0 │          NaN │          NaN │ 3.03661e-314 │ 8.48798e-314 │          NaN │          0.0 │    2.122e-314 │ 6.36599e-314 │\n",
      "│  57.0 │ 2.17976e-314 │    1.14e-322 │   2.122e-314 │ 5.53056e-314 │     9.4e-323 │ 3.03661e-314 │   1.01224e123 │     6.0e-323 │\n",
      "│  58.0 │          NaN │   2.122e-314 │          NaN │ 3.03558e-314 │          NaN │ 8.48798e-314 │           0.0 │     6.4e-323 │\n",
      "│  59.0 │          0.0 │          NaN │     4.7e-322 │ 3.03558e-314 │     1.9e-322 │     5.0e-324 │  3.03661e-314 │  1.01224e123 │\n",
      "│  60.0 │          NaN │    3.16e-322 │   2.122e-314 │ 3.03558e-314 │          NaN │          NaN │  8.48798e-314 │          0.0 │\n",
      "│  61.0 │   2.122e-314 │   2.122e-314 │          NaN │ 3.03558e-314 │          NaN │     8.0e-323 │  1.18832e-312 │ 3.03661e-314 │\n",
      "│  62.0 │          NaN │          NaN │     4.2e-322 │ 3.03558e-314 │ 5.60781e-314 │  1.01224e123 │    2.122e-314 │ 8.48798e-314 │\n",
      "│  63.0 │          NaN │     1.3e-322 │    2.08e-322 │ 3.03558e-314 │     3.5e-323 │          0.0 │     2.87e-322 │ 1.03978e-312 │\n",
      "│  64.0 │          NaN │   2.122e-314 │ 5.60777e-314 │ 3.03558e-314 │          NaN │ 3.03661e-314 │   1.01224e123 │   2.122e-314 │\n",
      "│  65.0 │          NaN │          NaN │    2.08e-322 │ 5.53056e-314 │    1.53e-322 │ 8.48798e-314 │           0.0 │    2.77e-322 │\n",
      "│  66.0 │          NaN │    2.47e-322 │     4.4e-323 │ 3.03558e-314 │          NaN │ 4.24399e-314 │  3.03661e-314 │  1.01224e123 │\n",
      "│  67.0 │          0.0 │   2.122e-314 │ 5.60788e-314 │ 3.03558e-314 │          NaN │     7.4e-323 │  8.48798e-314 │          0.0 │\n",
      "│  68.0 │          NaN │          NaN │     4.4e-323 │ 5.61091e-314 │ 2.52348e-314 │    1.63e-322 │  6.36599e-314 │ 3.03661e-314 │\n",
      "│  69.0 │          0.0 │ 2.65618e-314 │   2.122e-314 │ 3.03558e-314 │     2.0e-323 │  1.01224e123 │      2.2e-322 │ 8.48798e-314 │\n",
      "│  70.0 │          NaN │   2.122e-314 │          NaN │ 3.03558e-314 │          NaN │          0.0 │     2.27e-322 │ 5.94159e-313 │\n",
      "│  71.0 │          0.0 │          NaN │          0.0 │ 5.61091e-314 │     1.1e-322 │ 3.03661e-314 │   1.01224e123 │ 3.03661e-314 │\n",
      "│  72.0 │          NaN │          0.0 │   2.122e-314 │ 3.03558e-314 │          NaN │ 8.48798e-314 │           0.0 │ 4.24399e-314 │\n",
      "│  73.0 │          0.0 │   2.122e-314 │          NaN │ 3.03558e-314 │          NaN │ 1.12466e-312 │  3.03661e-314 │  1.01224e123 │\n",
      "│  74.0 │          NaN │          NaN │    3.26e-322 │ 3.03558e-314 │          NaN │          0.0 │  8.48798e-314 │          0.0 │\n",
      "│  75.0 │          0.0 │          0.0 │   2.122e-314 │ 3.03558e-314 │ 4.24399e-314 │   2.122e-314 │      3.5e-323 │ 3.03661e-314 │\n",
      "│  76.0 │          NaN │   2.122e-314 │          NaN │ 3.03558e-314 │          NaN │  1.01224e123 │           0.0 │ 8.48798e-314 │\n",
      "│  77.0 │          0.0 │          NaN │     1.4e-322 │          0.0 │    1.93e-322 │          0.0 │           NaN │ 4.24399e-314 │\n",
      "│  78.0 │          NaN │    2.37e-322 │   2.122e-314 │          NaN │          NaN │ 3.03661e-314 │   1.01224e123 │ 4.24399e-314 │\n",
      "│  79.0 │          0.0 │   2.122e-314 │          NaN │ 3.03558e-314 │          NaN │ 8.48798e-314 │           0.0 │    2.27e-322 │\n",
      "│  80.0 │          NaN │          NaN │     3.2e-322 │ 3.03661e-314 │          NaN │ 1.12466e-312 │  3.03661e-314 │  1.01224e123 │\n",
      "│  81.0 │          0.0 │    4.05e-322 │   2.122e-314 │          0.0 │     2.3e-322 │ 2.20496e-314 │  8.48798e-314 │          0.0 │\n",
      "│  82.0 │          NaN │   2.122e-314 │          NaN │          0.0 │          NaN │    2.77e-322 │  6.36599e-314 │ 3.03661e-314 │\n",
      "│  83.0 │          NaN │          NaN │   2.122e-314 │          0.0 │     1.2e-322 │  1.01224e123 │           NaN │ 8.48798e-314 │\n",
      "│  84.0 │          NaN │     1.0e-323 │   2.122e-314 │          0.0 │          NaN │          0.0 │      2.0e-323 │ 4.24399e-314 │\n",
      "│  85.0 │          0.0 │   2.122e-314 │          NaN │          0.0 │          NaN │ 3.03661e-314 │   1.01224e123 │ 5.53043e-314 │\n",
      "│  86.0 │          NaN │          NaN │    3.46e-322 │          0.0 │          NaN │ 8.48798e-314 │           0.0 │     2.1e-322 │\n",
      "│  87.0 │          0.0 │     7.4e-323 │   2.122e-314 │ 3.03661e-314 │ 4.24399e-314 │   1.061e-313 │  3.03661e-314 │  1.01224e123 │\n",
      "│  88.0 │          NaN │     2.7e-322 │          NaN │          0.0 │          NaN │     1.0e-323 │  8.48798e-314 │          0.0 │\n",
      "│  89.0 │          0.0 │ 5.60788e-314 │    1.24e-322 │          0.0 │     2.5e-323 │     2.7e-322 │           NaN │ 3.03661e-314 │\n",
      "│  90.0 │          NaN │     2.7e-322 │   2.122e-314 │          0.0 │          NaN │  1.01224e123 │           0.0 │ 8.48798e-314 │\n",
      "│  91.0 │          0.0 │   2.122e-314 │          NaN │          0.0 │          NaN │          0.0 │  4.24399e-314 │ 2.97079e-313 │\n",
      "│  92.0 │          NaN │          NaN │    3.06e-322 │          0.0 │          NaN │ 3.03661e-314 │   1.01224e123 │          0.0 │\n",
      "│  93.0 │          NaN │     3.8e-322 │   2.122e-314 │ 4.24399e-314 │    1.63e-322 │ 8.48798e-314 │           0.0 │   2.122e-314 │\n",
      "│  94.0 │          NaN │   2.122e-314 │          NaN │          0.0 │          NaN │ 4.03179e-313 │  3.03661e-314 │  1.01224e123 │\n",
      "│  95.0 │          NaN │          NaN │          0.0 │          0.0 │     1.5e-323 │          0.0 │  8.48798e-314 │          0.0 │\n",
      "│  96.0 │          NaN │     9.0e-323 │   2.122e-314 │          0.0 │          NaN │          NaN │  6.36599e-314 │ 3.03661e-314 │\n",
      "│  97.0 │   2.122e-314 │     4.4e-323 │          NaN │          0.0 │          NaN │  1.01224e123 │    2.122e-314 │ 8.48798e-314 │\n",
      "│  98.0 │          NaN │ 5.60788e-314 │    2.37e-322 │          0.0 │          NaN │          0.0 │    2.122e-314 │  1.2732e-312 │\n",
      "│  99.0 │          NaN │ 4.24399e-314 │   2.122e-314 │   2.122e-314 │ 4.24399e-314 │ 3.03661e-314 │   1.01224e123 │          0.0 │\n",
      "│ 100.0 │          NaN │   2.122e-314 │          NaN │          0.0 │          NaN │ 8.48798e-314 │           0.0 │     3.0e-322 │\n",
      "│ 101.0 │          0.0 │          NaN │     3.6e-322 │          0.0 │     8.4e-323 │  1.4854e-312 │  3.03661e-314 │  1.01224e123 │\n",
      "│ 102.0 │          NaN │          0.0 │   2.122e-314 │          0.0 │          NaN │          NaN │  8.48798e-314 │          0.0 │\n",
      "│ 103.0 │   2.122e-314 │   2.122e-314 │          NaN │ 3.03661e-314 │          NaN │    3.56e-322 │  1.54906e-312 │ 3.03661e-314 │\n",
      "│ 104.0 │          NaN │          NaN │     2.3e-322 │          0.0 │ 2.18102e-314 │     1.7e-322 │  2.20496e-314 │ 8.48798e-314 │\n",
      "│ 105.0 │ 2.17976e-314 │     2.3e-322 │   2.122e-314 │          0.0 │     4.0e-323 │ 2.65869e-314 │      2.3e-322 │ 8.06358e-313 │\n",
      "│ 106.0 │          NaN │   2.122e-314 │          NaN │ 3.03661e-314 │ 2.52323e-314 │ 3.03661e-314 │   1.01224e123 │ 3.03668e-314 │\n",
      "│ 107.0 │          0.0 │          NaN │          0.0 │ 2.45971e-314 │     7.0e-323 │ 8.48798e-314 │           0.0 │    3.16e-322 │\n",
      "│ 108.0 │          NaN │     5.0e-323 │   2.122e-314 │ 3.03558e-314 │          NaN │  1.6976e-313 │  3.03661e-314 │  1.01224e123 │\n",
      "│ 109.0 │          0.0 │   2.122e-314 │          NaN │ 3.03661e-314 │          NaN │     2.2e-322 │  8.48798e-314 │          0.0 │\n",
      "│ 110.0 │          NaN │          NaN │     1.4e-322 │          0.0 │ 5.60792e-314 │     4.4e-323 │  7.00259e-313 │ 3.03661e-314 │\n",
      "│ 111.0 │ 2.17975e-314 │    3.56e-322 │   2.122e-314 │          0.0 │ 4.24399e-314 │  1.01224e123 │      1.5e-323 │ 8.48798e-314 │\n",
      "│ 112.0 │          NaN │    3.16e-322 │          NaN │ 3.03549e-314 │          NaN │          0.0 │      1.0e-323 │ 8.27578e-313 │\n",
      "│ 113.0 │   1.061e-314 │ 5.60788e-314 │     1.8e-322 │ 5.61093e-314 │     1.0e-323 │ 3.03661e-314 │   1.01224e123 │ 3.03661e-314 │\n",
      "│ 114.0 │          NaN │   2.122e-314 │   2.122e-314 │ 5.61093e-314 │          NaN │ 8.48798e-314 │           0.0 │ 4.24399e-314 │\n",
      "│ 115.0 │   2.122e-314 │   2.122e-314 │          NaN │     1.0e-323 │          NaN │ 1.08222e-312 │  3.03661e-314 │  1.01224e123 │\n",
      "│ 116.0 │          NaN │          NaN │    1.63e-322 │          0.0 │          NaN │          0.0 │  8.48798e-314 │          0.0 │\n",
      "│ 117.0 │          0.0 │   2.122e-314 │   2.122e-314 │          0.0 │     1.5e-323 │   2.122e-314 │  1.40052e-312 │ 3.03661e-314 │\n",
      "│ 118.0 │          NaN │   2.122e-314 │          NaN │          0.0 │          NaN │  1.01224e123 │           0.0 │ 8.48798e-314 │\n",
      "│ 119.0 │ 2.17998e-314 │          NaN │     1.5e-322 │          0.0 │    2.37e-322 │          0.0 │           NaN │ 8.91238e-313 │\n",
      "│ 120.0 │          NaN │     3.5e-323 │   2.122e-314 │          0.0 │          NaN │ 3.03661e-314 │   1.01224e123 │ 5.53079e-314 │\n",
      "│ 121.0 │   2.122e-314 │   2.122e-314 │          NaN │          0.0 │          NaN │ 8.48798e-314 │           0.0 │ 4.24399e-314 │\n",
      "│ 122.0 │ 5.60777e-314 │          NaN │          0.0 │          0.0 │          NaN │ 8.91238e-313 │  3.03661e-314 │  1.01224e123 │\n",
      "│ 123.0 │          0.0 │   2.122e-314 │     2.3e-322 │          0.0 │   2.122e-314 │ 4.24399e-314 │  8.48798e-314 │          0.0 │\n",
      "│ 124.0 │          NaN │   2.122e-314 │ 5.60788e-314 │          0.0 │          NaN │    2.57e-322 │  4.24399e-314 │ 3.03661e-314 │\n",
      "│ 125.0 │          NaN │          NaN │     2.3e-322 │          0.0 │    1.73e-322 │  1.01224e123 │           NaN │ 8.48798e-314 │\n",
      "│ 126.0 │          NaN │     1.0e-323 │   2.122e-314 │          0.0 │          NaN │          0.0 │           0.0 │ 5.61091e-314 │\n",
      "│ 127.0 │   2.122e-314 │   2.122e-314 │          NaN │          0.0 │          NaN │ 3.03661e-314 │   1.01224e123 │ 5.61091e-314 │\n",
      "│ 128.0 │ 5.60788e-314 │          NaN │   2.122e-314 │          0.0 │          NaN │ 8.48798e-314 │           0.0 │          0.0 │\n",
      "│ 129.0 │          0.0 │     3.5e-322 │   2.122e-314 │          0.0 │    2.08e-322 │ 4.24399e-314 │  3.03661e-314 │  1.01224e123 │\n",
      "│ 130.0 │          NaN │   2.122e-314 │          NaN │          0.0 │          NaN │     8.0e-323 │  8.48798e-314 │          0.0 │\n",
      "│ 131.0 │ 5.53038e-314 │          NaN │          0.0 │          0.0 │    2.77e-322 │     2.4e-322 │  4.66839e-313 │ 3.03661e-314 │\n",
      "│ 132.0 │          NaN │    2.17e-322 │   2.122e-314 │          0.0 │          NaN │  1.01224e123 │      8.0e-323 │ 8.48798e-314 │\n",
      "│ 133.0 │   2.122e-314 │   2.122e-314 │          NaN │          0.0 │          NaN │          0.0 │     1.14e-322 │ 1.10344e-312 │\n",
      "│ 134.0 │          NaN │          NaN │    2.57e-322 │          0.0 │          NaN │ 3.03661e-314 │   1.01224e123 │          0.0 │\n",
      "│ 135.0 │          NaN │   2.122e-314 │   2.122e-314 │          0.0 │ 4.24399e-314 │ 8.48798e-314 │           0.0 │   2.122e-314 │\n",
      "│ 136.0 │          NaN │   2.122e-314 │          NaN │          0.0 │          NaN │ 6.36599e-314 │  3.03661e-314 │  1.01224e123 │\n",
      "│ 137.0 │          NaN │          NaN │     2.8e-322 │          0.0 │     5.0e-324 │ 4.24399e-314 │  8.48798e-314 │          0.0 │\n",
      "│ 138.0 │          NaN │    4.35e-322 │   2.122e-314 │          0.0 │          NaN │          NaN │  6.36599e-314 │ 3.03661e-314 │\n",
      "│ 139.0 │   2.122e-314 │     4.4e-323 │          NaN │          0.0 │          NaN │  1.01224e123 │      1.5e-323 │ 8.48798e-314 │\n",
      "│ 140.0 │          NaN │ 5.60792e-314 │    3.26e-322 │          0.0 │          NaN │          0.0 │    2.122e-314 │ 1.12466e-312 │\n",
      "│ 141.0 │          0.0 │     4.4e-323 │   2.122e-314 │          0.0 │     2.0e-323 │ 3.03661e-314 │   1.01224e123 │   2.122e-314 │\n",
      "│ 142.0 │ 5.60788e-314 │     2.9e-322 │          NaN │          0.0 │          NaN │ 8.48798e-314 │           0.0 │   2.122e-314 │\n",
      "│ 143.0 │          0.0 │ 5.60777e-314 │          0.0 │          0.0 │     3.8e-322 │ 9.97338e-313 │  3.03661e-314 │  1.01224e123 │\n",
      "│ 144.0 │          NaN │     2.9e-322 │   2.122e-314 │          0.0 │ 5.60781e-314 │          NaN │  8.48798e-314 │          0.0 │\n",
      "│ 145.0 │   2.122e-314 │   2.122e-314 │          NaN │          0.0 │          NaN │    2.47e-322 │  4.24399e-314 │ 3.03661e-314 │\n",
      "│ 146.0 │          NaN │          NaN │          0.0 │          0.0 │          NaN │  1.01224e123 │    2.122e-314 │ 8.48798e-314 │\n",
      "│ 147.0 │          0.0 │   2.122e-314 │    2.77e-322 │          0.0 │   2.122e-314 │          0.0 │     2.08e-322 │ 6.36599e-313 │\n",
      "│ 148.0 │          NaN │   2.122e-314 │ 5.60788e-314 │          0.0 │          NaN │ 3.03661e-314 │   1.01224e123 │  5.5306e-314 │\n",
      "│ 149.0 │          0.0 │          NaN │    2.77e-322 │          0.0 │     4.0e-323 │ 8.48798e-314 │           0.0 │ 4.24399e-314 │\n",
      "│ 150.0 │          NaN │   2.122e-314 │   2.122e-314 │          0.0 │          NaN │ 1.54906e-312 │  3.03661e-314 │    2.47e-322 │\n",
      "│ 151.0 │          0.0 │   2.122e-314 │          NaN │          0.0 │          NaN │          0.0 │  8.48798e-314 │ 2.65796e-314 │\n",
      "│ 152.0 │          NaN │          NaN │     3.5e-323 │          0.0 │          NaN │    3.66e-322 │  4.45619e-313 │ 3.03661e-314 │\n",
      "│ 153.0 │          0.0 │    2.27e-322 │   2.122e-314 │          0.0 │    2.37e-322 │     2.4e-322 │      1.0e-323 │ 8.48798e-314 │\n",
      "│ 154.0 │          NaN │   2.122e-314 │          NaN │          0.0 │          NaN │ 2.66189e-314 │      4.1e-322 │ 4.24399e-314 │\n",
      "│ 155.0 │          NaN │          NaN │     1.8e-322 │          0.0 │     6.4e-323 │ 3.03661e-314 │   1.01224e123 │ 5.61093e-314 │\n",
      "│ 156.0 │ 5.60792e-314 │   2.122e-314 │   2.122e-314 │          0.0 │ 2.18099e-314 │ 8.48798e-314 │           0.0 │ 4.24399e-314 │\n",
      "│ 157.0 │          0.0 │     2.3e-322 │          NaN │          0.0 │          NaN │ 4.24399e-314 │  3.03661e-314 │  1.01224e123 │\n",
      "│ 158.0 │          NaN │ 5.60777e-314 │    2.67e-322 │          0.0 │          NaN │     8.0e-323 │  8.48798e-314 │          0.0 │\n",
      "│ 159.0 │          0.0 │     2.3e-322 │   2.122e-314 │          0.0 │ 4.24399e-314 │   2.122e-314 │   1.2732e-313 │ 3.03661e-314 │\n",
      "│ 160.0 │          NaN │   2.122e-314 │          NaN │          0.0 │          NaN │  1.01224e123 │           0.0 │ 8.48798e-314 │\n",
      "│ 161.0 │          0.0 │          NaN │     3.5e-323 │          0.0 │     3.0e-323 │          0.0 │           NaN │ 1.86736e-312 │\n",
      "│ 162.0 │          NaN │     3.5e-323 │   2.122e-314 │          0.0 │          NaN │ 3.03661e-314 │   1.01224e123 │          0.0 │\n",
      "│ 163.0 │          0.0 │   2.122e-314 │          NaN │          0.0 │          NaN │ 8.48798e-314 │           0.0 │    4.94e-322 │\n",
      "│ 164.0 │          NaN │          NaN │          0.0 │          0.0 │          NaN │ 1.18832e-312 │  3.03661e-314 │  1.01224e123 │\n",
      "│ 165.0 │ 3.03673e-314 │ 3.03663e-314 │   2.122e-314 │          0.0 │     3.1e-322 │   2.122e-314 │  8.48798e-314 │          0.0 │\n",
      "│ 166.0 │ 5.60792e-314 │   2.122e-314 │          NaN │          0.0 │          NaN │          0.0 │  4.24399e-314 │ 3.03661e-314 │\n",
      "│ 167.0 │          0.0 │          NaN │    2.17e-322 │          0.0 │     3.5e-323 │  1.01224e123 │           NaN │ 8.48798e-314 │\n",
      "│ 168.0 │          NaN │ 3.03665e-314 │   2.122e-314 │          0.0 │          NaN │          0.0 │     1.04e-322 │ 1.33686e-312 │\n",
      "│ 169.0 │          0.0 │   2.122e-314 │          NaN │          0.0 │          NaN │ 3.03661e-314 │   1.01224e123 │ 3.03661e-314 │\n",
      "│ 170.0 │          NaN │          NaN │    2.47e-322 │          0.0 │          NaN │ 8.48798e-314 │           0.0 │   2.122e-314 │\n",
      "│ 171.0 │          0.0 │   2.122e-314 │   2.122e-314 │          0.0 │ 4.24399e-314 │ 6.36599e-314 │  3.03661e-314 │  1.01224e123 │\n",
      "│ 172.0 │          NaN │   2.122e-314 │          NaN │          0.0 │          NaN │     1.5e-323 │  8.48798e-314 │          0.0 │\n",
      "│ 173.0 │          0.0 │          NaN │   2.122e-314 │          NaN │     3.5e-323 │     2.0e-323 │           NaN │ 3.03661e-314 │\n",
      "│ 174.0 │ 5.60792e-314 │    3.75e-322 │   2.122e-314 │     7.4e-323 │          NaN │  1.01224e123 │           0.0 │ 8.48798e-314 │\n",
      "│ 175.0 │          0.0 │   2.122e-314 │          NaN │          NaN │          NaN │          0.0 │  2.17974e-314 │ 4.24399e-314 │\n",
      "│ 176.0 │          NaN │          NaN │     2.4e-322 │          NaN │          NaN │ 3.03661e-314 │   1.01224e123 │ 5.53082e-314 │\n",
      "│ 177.0 │          0.0 │          0.0 │   2.122e-314 │ 2.18099e-314 │    1.43e-322 │ 8.48798e-314 │           0.0 │ 4.24399e-314 │\n",
      "│ 178.0 │ 5.60786e-314 │   2.122e-314 │          NaN │     5.4e-323 │          NaN │ 1.20954e-312 │  3.03661e-314 │  1.01224e123 │\n",
      "│ 179.0 │          0.0 │          NaN │    4.35e-322 │          NaN │     5.0e-323 │          0.0 │  8.48798e-314 │          0.0 │\n",
      "│ 180.0 │          NaN │     3.5e-323 │   2.122e-314 │     3.0e-323 │          NaN │          NaN │  1.61272e-312 │ 3.03661e-314 │\n",
      "│ 181.0 │          0.0 │   2.122e-314 │          NaN │          NaN │          NaN │  1.01224e123 │  8.48798e-314 │ 8.48798e-314 │\n",
      "│ 182.0 │          NaN │          NaN │   2.122e-314 │          NaN │          NaN │          0.0 │    2.122e-314 │ 6.36599e-314 │\n",
      "│ 183.0 │          0.0 │    1.43e-322 │   2.122e-314 │          NaN │ 4.24399e-314 │ 3.03661e-314 │   1.01224e123 │ 4.24399e-314 │\n",
      "│ 184.0 │          NaN │   2.122e-314 │          NaN │   2.122e-314 │          NaN │ 8.48798e-314 │           0.0 │ 4.24399e-314 │\n",
      "│ 185.0 │          0.0 │          NaN │          0.0 │ 5.60783e-314 │     1.9e-322 │  1.6976e-313 │  3.03661e-314 │  1.01224e123 │\n",
      "│ 186.0 │          NaN │    3.85e-322 │   2.122e-314 │     5.0e-324 │          NaN │          NaN │  8.48798e-314 │          0.0 │\n",
      "│ 187.0 │          0.0 │   2.122e-314 │          NaN │          NaN │          NaN │     4.4e-323 │    1.061e-313 │ 3.03661e-314 │\n",
      "│ 188.0 │          NaN │          NaN │    1.33e-322 │          NaN │          NaN │  1.01224e123 │  7.85138e-313 │ 8.48798e-314 │\n",
      "│ 189.0 │          0.0 │    3.26e-322 │   2.122e-314 │          NaN │    4.25e-322 │          0.0 │      3.0e-323 │ 6.79039e-313 │\n",
      "│ 190.0 │          NaN │   2.122e-314 │          NaN │     1.5e-323 │          NaN │ 3.03661e-314 │   1.01224e123 │          0.0 │\n",
      "│ 191.0 │          0.0 │          NaN │     5.2e-322 │          NaN │    2.77e-322 │ 8.48798e-314 │           0.0 │     2.3e-322 │\n",
      "│ 192.0 │          NaN │          0.0 │   2.122e-314 │     2.7e-322 │          NaN │ 6.36599e-314 │  3.03661e-314 │  1.01224e123 │\n",
      "│ 193.0 │          0.0 │   2.122e-314 │          NaN │          NaN │          NaN │     1.1e-322 │  8.48798e-314 │          0.0 │\n",
      "│ 194.0 │          NaN │          NaN │     3.0e-323 │          NaN │          NaN │    1.53e-322 │  1.03978e-312 │ 3.03661e-314 │\n",
      "│ 195.0 │          0.0 │     3.5e-323 │   2.122e-314 │          NaN │     2.9e-322 │  1.01224e123 │      7.4e-323 │ 8.48798e-314 │\n",
      "│ 196.0 │          NaN │   2.122e-314 │          NaN │    3.06e-322 │ 2.52308e-314 │          0.0 │     2.57e-322 │ 1.29442e-312 │\n",
      "│ 197.0 │          0.0 │          NaN │     3.5e-323 │          NaN │     6.4e-323 │ 3.03661e-314 │   1.01224e123 │   2.122e-314 │\n",
      "│ 198.0 │          NaN │          0.0 │   2.122e-314 │    3.16e-322 │          NaN │ 8.48798e-314 │           0.0 │   2.122e-314 │\n",
      "│ 199.0 │          0.0 │   2.122e-314 │          NaN │          NaN │          NaN │          0.0 │  3.03661e-314 │  1.01224e123 │\n",
      "│ 200.0 │          NaN │          NaN │     3.2e-322 │          NaN │    2.47e-322 │    6.37e-322 │  8.48798e-314 │          0.0 │\n",
      "│ 201.0 │          0.0 │          0.0 │   2.122e-314 │          NaN │ 2.65869e-314 │ 2.20496e-314 │  9.97338e-313 │ 3.03661e-314 │\n",
      "│ 202.0 │          NaN │   2.122e-314 │          NaN │     1.4e-322 │ 3.03661e-314 │  1.01224e123 │           0.0 │ 8.48798e-314 │\n",
      "│ 203.0 │          0.0 │          NaN │          0.0 │          NaN │ 8.48798e-314 │          0.0 │           NaN │ 1.20954e-312 │\n",
      "│ 204.0 │          NaN │    4.35e-322 │   2.122e-314 │     1.8e-322 │ 8.48798e-313 │ 3.03661e-314 │   1.01224e123 │ 5.53078e-314 │\n",
      "│ 205.0 │          0.0 │   2.122e-314 │          NaN │          NaN │          NaN │ 8.48798e-314 │           0.0 │ 4.24399e-314 │\n",
      "│ 206.0 │ 5.60792e-314 │          NaN │    1.24e-322 │          NaN │     3.0e-323 │ 4.24399e-313 │  3.03661e-314 │  1.01224e123 │\n",
      "│ 207.0 │          0.0 │     3.5e-323 │   2.122e-314 │          NaN │  1.01224e123 │ 2.20496e-314 │  8.48798e-314 │          0.0 │\n",
      "│ 208.0 │ 5.60788e-314 │   2.122e-314 │          NaN │     3.5e-323 │          0.0 │    1.04e-322 │  8.48798e-314 │ 3.03661e-314 │\n",
      "│ 209.0 │          0.0 │          NaN │ 4.24399e-314 │          NaN │ 3.03661e-314 │  1.01224e123 │           NaN │ 8.48798e-314 │\n",
      "│ 210.0 │          NaN │     9.0e-323 │ 3.03774e-314 │     3.8e-322 │ 8.48798e-314 │          0.0 │      2.5e-323 │ 9.97338e-313 │\n",
      "│ 211.0 │          0.0 │   2.122e-314 │ 5.61093e-314 │          NaN │ 1.54906e-312 │ 3.03661e-314 │   1.01224e123 │     4.0e-323 │\n",
      "│ 212.0 │          NaN │          NaN │ 3.03746e-314 │          NaN │     8.0e-323 │ 8.48798e-314 │           0.0 │ 4.24399e-314 │\n",
      "│ 213.0 │          0.0 │     2.8e-322 │ 4.24399e-314 │          NaN │     3.7e-322 │ 1.08222e-312 │  3.03661e-314 │  1.01224e123 │\n",
      "│ 214.0 │          NaN │   2.122e-314 │ 3.03661e-314 │ 4.24399e-314 │  1.01224e123 │     1.0e-323 │  8.48798e-314 │          0.0 │\n",
      "│ 215.0 │          0.0 │          NaN │  1.2732e-313 │          NaN │          0.0 │    2.57e-322 │  1.23076e-312 │ 3.03661e-314 │\n",
      "│ 216.0 │ 5.60788e-314 │          0.0 │          0.0 │     3.4e-322 │ 3.03661e-314 │  1.01224e123 │      7.4e-323 │ 8.48798e-314 │\n",
      "│ 217.0 │          0.0 │   2.122e-314 │  5.5306e-314 │          NaN │ 8.48798e-314 │          0.0 │           NaN │ 1.23076e-312 │\n",
      "│ 218.0 │          NaN │          NaN │ 5.61089e-314 │          NaN │ 4.24399e-314 │ 3.03661e-314 │      2.4e-322 │ 4.24399e-314 │\n",
      "│ 219.0 │          0.0 │     6.0e-323 │ 5.61089e-314 │ 5.60787e-314 │    1.43e-322 │ 8.48798e-314 │  2.65868e-314 │    2.96e-322 │\n",
      "│ 220.0 │          NaN │   2.122e-314 │ 5.61089e-314 │     4.4e-323 │   2.122e-314 │ 4.24399e-314 │  3.03661e-314 │  1.01224e123 │\n",
      "│ 221.0 │          0.0 │          NaN │ 5.61089e-314 │          NaN │  1.01224e123 │     1.5e-323 │  8.48798e-314 │          0.0 │\n",
      "│ 222.0 │          NaN │          0.0 │ 4.24399e-314 │    2.47e-322 │          0.0 │          NaN │  1.99468e-312 │ 3.03661e-314 │\n",
      "│ 223.0 │          0.0 │   2.122e-314 │ 3.03661e-314 │          NaN │ 3.03661e-314 │  1.01224e123 │  2.17974e-314 │ 8.48798e-314 │\n",
      "│ 224.0 │          NaN │          NaN │  1.2732e-313 │          NaN │ 8.48798e-314 │          0.0 │    2.122e-314 │ 1.46418e-312 │\n",
      "│ 225.0 │          0.0 │     4.0e-322 │          0.0 │          NaN │  1.4854e-313 │ 3.03661e-314 │   1.01224e123 │ 4.24399e-314 │\n",
      "│ 226.0 │          NaN │   2.122e-314 │ 3.03558e-314 │     2.0e-323 │   2.122e-314 │ 8.48798e-314 │           0.0 │   2.122e-314 │\n",
      "│ 227.0 │          0.0 │          NaN │ 3.03558e-314 │          NaN │     4.0e-323 │ 4.24399e-314 │  3.03661e-314 │  1.01224e123 │\n",
      "│ 228.0 │          NaN │    3.56e-322 │ 5.53056e-314 │     1.7e-322 │  1.01224e123 │          NaN │  8.48798e-314 │          0.0 │\n",
      "│ 229.0 │          0.0 │    2.08e-322 │ 3.03558e-314 │          NaN │          0.0 │     4.0e-323 │  9.97338e-313 │ 3.03661e-314 │\n",
      "└───────┴──────────────┴──────────────┴──────────────┴──────────────┴──────────────┴──────────────┴───────────────┴──────────────┘\n"
     ]
    }
   ],
   "source": [
    "reallocate_data=Array{Float64, 2}(undef, trading_days, length(w)+3)\n",
    "for element in 1:trading_days\n",
    "    reallocate_data[element,1]=element\n",
    "    for j in eachindex(tickers)\n",
    "        reallocate_data[i,j+1]=reallocated_portfolio[i,j]\n",
    "    end\n",
    "    reallocate_data[i,end-1]=reallocated_portfolio[i, end-1]\n",
    "    reallocate_data[i,end]=reallocated_portfolio[i,end]\n",
    "end\n",
    "\n",
    "pretty_table(reallocate_data, header=[\"index\", tickers..., \"risk (sqrt)\", \"total value\"])\n"
   ]
  },
  {
   "cell_type": "code",
   "execution_count": 95,
   "id": "3f01fe50",
   "metadata": {},
   "outputs": [
    {
     "ename": "MethodError",
     "evalue": "MethodError: no method matching /(::Int64, ::Vector{Float64})\n\nClosest candidates are:\n  /(::Union{Int128, Int16, Int32, Int64, Int8, UInt128, UInt16, UInt32, UInt64, UInt8}, !Matched::Union{Int128, Int16, Int32, Int64, Int8, UInt128, UInt16, UInt32, UInt64, UInt8})\n   @ Base int.jl:97\n  /(::Union{Integer, Complex{<:Union{Integer, Rational}}}, !Matched::Rational)\n   @ Base rational.jl:361\n  /(::Union{Int16, Int32, Int64, Int8, UInt16, UInt32, UInt64, UInt8}, !Matched::BigInt)\n   @ Base gmp.jl:555\n  ...\n",
     "output_type": "error",
     "traceback": [
      "MethodError: no method matching /(::Int64, ::Vector{Float64})\n",
      "\n",
      "Closest candidates are:\n",
      "  /(::Union{Int128, Int16, Int32, Int64, Int8, UInt128, UInt16, UInt32, UInt64, UInt8}, !Matched::Union{Int128, Int16, Int32, Int64, Int8, UInt128, UInt16, UInt32, UInt64, UInt8})\n",
      "   @ Base int.jl:97\n",
      "  /(::Union{Integer, Complex{<:Union{Integer, Rational}}}, !Matched::Rational)\n",
      "   @ Base rational.jl:361\n",
      "  /(::Union{Int16, Int32, Int64, Int8, UInt16, UInt32, UInt64, UInt8}, !Matched::BigInt)\n",
      "   @ Base gmp.jl:555\n",
      "  ...\n",
      "\n",
      "\n",
      "Stacktrace:\n",
      " [1] top-level scope\n",
      "   @ ~/Desktop/CHEME-5660-Project-Template-F23/Template.ipynb:1"
     ]
    }
   ],
   "source": [
    "plot((1/table_data[1:end]).table_data[:,end],\n",
    "    lw=4, c=:purple, label=\"Chosen Portfolio Initial\")\n",
    "plot!((1/spy_df[1:volume_weir=ghted_average_price]).*spy_df[1:trading_days,:volume_weighted_average_price],\n",
    "    lw=3, c=:blue, label=\"SPY\")\n",
    "plot!((1/reallocated_portfolio[1,end]).*reallocated_portfolio[:,end], \n",
    "    lw=6, c=:red, label=\"Reallocated Portfolio\")\n",
    "\n",
    "xlabel!(\"Trading Day (2023)\", fontsize=18)\n",
    "ylabel!(\"Wealth/$ (USD)\", fontsize=18)"
   ]
  },
  {
   "cell_type": "code",
   "execution_count": 103,
   "id": "d8d681d2",
   "metadata": {},
   "outputs": [
    {
     "ename": "ArgumentError",
     "evalue": "ArgumentError: column name \"N_updated\" not found in the data frame since it has no columns",
     "output_type": "error",
     "traceback": [
      "ArgumentError: column name \"N_updated\" not found in the data frame since it has no columns\n",
      "\n",
      "Stacktrace:\n",
      " [1] lookupname\n",
      "   @ ~/.julia/packages/DataFrames/58MUJ/src/other/index.jl:410 [inlined]\n",
      " [2] getindex\n",
      "   @ ~/.julia/packages/DataFrames/58MUJ/src/other/index.jl:422 [inlined]\n",
      " [3] getindex(df::DataFrame, row_ind::Int64, col_ind::Symbol)\n",
      "   @ DataFrames ~/.julia/packages/DataFrames/58MUJ/src/dataframe/dataframe.jl:522\n",
      " [4] top-level scope\n",
      "   @ ~/Desktop/CHEME-5660-Project-Template-F23/Template.ipynb:8"
     ]
    }
   ],
   "source": [
    "shares_array=Array{Float64, 2}(undef, trading_days+1, length(w)+1)\n",
    "shares_array[1,1]=0\n",
    "for element in eachindex(tickers)\n",
    "    shares_array[1,element+1]=N_naught[element]\n",
    "end\n",
    "\n",
    "for element in 1:trading_days\n",
    "    n_vector=results[element,:N_updated]\n",
    "    shares_array[element+1,1]=element\n",
    "    for j in eachindex(n_vector)\n",
    "        shares_array[i+1,j+1]=n_vector[j] |> x -> abs\n",
    "    end\n",
    "end\n",
    "\n",
    "header_dt=Array{String,1}()\n",
    "push!(header_dt,\"index\")\n",
    "[push!(header_dt, ticker) for ticker in tickers]\n",
    "pretty table(shares_array, header=header_dt)"
   ]
  },
  {
   "cell_type": "markdown",
   "id": "b3b5cd21-bb87-4bb0-b2e3-29391ba3859f",
   "metadata": {},
   "source": [
    "## Disclaimer and Risks\n",
    "__This content is offered solely for training and  informational purposes__. No offer or solicitation to buy or sell securities or derivative products, or any investment or trading advice or strategy,  is made, given, or endorsed by the teaching team. \n",
    "\n",
    "__Trading involves risk__. Carefully review your financial situation before investing in securities, futures contracts, options, or commodity interests. Past performance, whether actual or indicated by historical tests of strategies, is no guarantee of future performance or success. Trading is generally inappropriate for someone with limited resources, investment or trading experience, or a low-risk tolerance.  Only risk capital that is not required for living expenses.\n",
    "\n",
    "__You are fully responsible for any investment or trading decisions you make__. Such decisions should be based solely on your evaluation of your financial circumstances, investment or trading objectives, risk tolerance, and liquidity needs."
   ]
  }
 ],
 "metadata": {
  "kernelspec": {
   "display_name": "Julia 1.9.2",
   "language": "julia",
   "name": "julia-1.9"
  },
  "language_info": {
   "file_extension": ".jl",
   "mimetype": "application/julia",
   "name": "julia",
   "version": "1.9.2"
  }
 },
 "nbformat": 4,
 "nbformat_minor": 5
}
