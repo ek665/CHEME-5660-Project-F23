{
 "cells": [
  {
   "cell_type": "markdown",
   "id": "80ae6a55-e35b-401a-9fd2-353207a8b340",
   "metadata": {},
   "source": [
    "### Analyzing Investment Portfolios for Ugandan Health Clinics Endownment\n",
    "Investment Portfolio Project, ChemE 5660\n",
    "\n",
    "Chike Murray, Sonny Vo , Erik Kirakosyan"
   ]
  },
  {
   "cell_type": "markdown",
   "id": "cac5eb3a-be19-4274-8400-09af3e83ff21",
   "metadata": {
    "jp-MarkdownHeadingCollapsed": true,
    "tags": []
   },
   "source": [
    "## Setup"
   ]
  },
  {
   "cell_type": "code",
   "execution_count": 1,
   "id": "c428c856-064a-4a35-97bc-800cc0d49a58",
   "metadata": {
    "tags": []
   },
   "outputs": [],
   "source": [
    "include(\"Include.jl\");"
   ]
  },
  {
   "cell_type": "markdown",
   "id": "21519cf1-3079-4a5a-8859-fd21f48bce94",
   "metadata": {
    "jp-MarkdownHeadingCollapsed": true,
    "tags": []
   },
   "source": [
    "## Prerequisites: Load historical dataset, compute expected returns and get 2023 `SPY` data\n",
    "We gathered a daily open-high-low-close `dataset` for each firm in the [S&P500](https://en.wikipedia.org/wiki/S%26P_500) since `01-03-2018` until `12-01-2023`, along with data for a few exchange traded funds and volatility products during that time. "
   ]
  },
  {
   "cell_type": "code",
   "execution_count": null,
   "id": "79aa4361-4713-47c5-9892-8d822e7aac68",
   "metadata": {
    "tags": []
   },
   "outputs": [],
   "source": [
    "original_dataset = load(joinpath(_PATH_TO_DATA, \n",
    "        \"SP500-Daily-OHLC-1-3-2018-to-12-01-2023.jld2\")) |> x-> x[\"dataset\"];"
   ]
  },
  {
   "cell_type": "markdown",
   "id": "d5567fb5-3688-4fe7-8cc9-201119de77f5",
   "metadata": {},
   "source": [
    "### Clean the data\n",
    "Not all of the tickers in our dataset have the maximum number of trading days for various reasons, e.g., acquistion or de-listing events. Let's collect only those tickers with the maximum number of trading days.\n",
    "\n",
    "* First, let's compute the number of records for a company that we know has a maximim value, e.g., `AAPL` and save that value in the `maximum_number_trading_days` variable:"
   ]
  },
  {
   "cell_type": "code",
   "execution_count": null,
   "id": "5e88a72f-9231-459a-99bc-f0fdccc6e42d",
   "metadata": {
    "tags": []
   },
   "outputs": [],
   "source": [
    "maximum_number_trading_days = original_dataset[\"AAPL\"] |> nrow"
   ]
  },
  {
   "cell_type": "markdown",
   "id": "d3b64e6f-3662-48fe-bcec-ba6da19f60f9",
   "metadata": {},
   "source": [
    "Now, lets iterate through our data and collect only those tickers that have `maximum_number_trading_days` records. Save that data in the `dataset::Dict{String,DataFrame}` variable:"
   ]
  },
  {
   "cell_type": "code",
   "execution_count": null,
   "id": "9b263c2a-7cb2-42ef-a700-b857aeb22f8e",
   "metadata": {
    "tags": []
   },
   "outputs": [],
   "source": [
    "dataset = Dict{String,DataFrame}();\n",
    "for (ticker,data) ∈ original_dataset\n",
    "    if (nrow(data) == maximum_number_trading_days)\n",
    "        dataset[ticker] = data;\n",
    "    end\n",
    "end\n",
    "dataset"
   ]
  },
  {
   "cell_type": "markdown",
   "id": "5ffb1bec-88c3-4648-b7e9-9b1300504b4a",
   "metadata": {},
   "source": [
    "Let's get a list of firms that we have in cleaned up `dataset`, and save it in the `all_tickers` array:"
   ]
  },
  {
   "cell_type": "code",
   "execution_count": null,
   "id": "93f5fc90-048c-4e23-83da-8a362b297f77",
   "metadata": {
    "tags": []
   },
   "outputs": [],
   "source": [
    "all_tickers = keys(dataset) |> collect |> sort;\n",
    "K = length(all_tickers)"
   ]
  },
  {
   "cell_type": "markdown",
   "id": "1266557c-c5ce-4c67-9f93-7dcdb3038e26",
   "metadata": {},
   "source": [
    "### Get the 2023 `SPY` data"
   ]
  },
  {
   "cell_type": "code",
   "execution_count": null,
   "id": "b700d807-61d8-4d3c-8c78-0908bcd81855",
   "metadata": {
    "tags": []
   },
   "outputs": [],
   "source": [
    "startdate = Date(2023,01,03);\n",
    "SPY_dataset = dataset[\"SPY\"];\n",
    "SPY_df = filter(:timestamp => x-> x >= startdate, SPY_dataset);"
   ]
  },
  {
   "cell_type": "markdown",
   "id": "9d07c6db-65c2-424b-878e-652936db2032",
   "metadata": {},
   "source": [
    "### Compute the expected return for all firms in the dataset\n",
    "The expected return $\\mathbb{E}(r_{i})$ and covariance matrix $\\Sigma$ will be used in our calculations, so we'll provide values for both of these items for the entire data set (all `N = 459` tickers), and then you can pick out which tickers you are interested in. \n",
    "\n",
    "* First, we compute the expected (annualized) log return by passing the `dataset` and the entire list of firms we have in the dataset (held in the $N\\times{1}$ `all_array` array) to the `log_return_matrix(...)` method. The result is stored in the `all_firms_return_matrix` variable, a $T-1\\times{N}$ array of log return values. Each row of `all_firms_return_matrix` corresponds to a time-value, while each column corresponds to a firm:"
   ]
  },
  {
   "cell_type": "code",
   "execution_count": null,
   "id": "870a7ff9-d78c-4313-8e75-92cc67dc0858",
   "metadata": {
    "tags": []
   },
   "outputs": [],
   "source": [
    "all_firms_return_matrix = log_return_matrix(dataset, all_tickers, \n",
    "    Δt = (1.0/252.0), risk_free_rate = 0.0);"
   ]
  },
  {
   "cell_type": "markdown",
   "id": "2347705b-730c-44c2-ab83-4be788669bd9",
   "metadata": {},
   "source": [
    "## Your project starts here ...."
   ]
  },
  {
   "cell_type": "markdown",
   "id": "715b71b0",
   "metadata": {},
   "source": [
    "Selected Portfolio Tickers: \"NVDA\", \"MDT\", \"AMD\", \"PG\", \"MO\", \"PLD\""
   ]
  },
  {
   "cell_type": "markdown",
   "id": "01e616b0",
   "metadata": {},
   "source": [
    "### Statement of Assumptions:\n",
    "\n",
    "Similar to Lab 15b, we need to make assumptions to simplify our financial model. These assumptions are not completely realistic but greatly simplify the underlying math. \n",
    "\n",
    "1: The covariance matrix is constant over the period from 01-03-2023 to 12-01-2023. \n",
    "\n",
    "2: We are not taking into account short term capital gains tax, long term capital gains tax, restrictions on day trading and portfolio reallocation, or other market friction \n",
    "\n",
    "3: We are not taking into account real-world events and their impact on market volatility. "
   ]
  },
  {
   "cell_type": "markdown",
   "id": "b484bcfe",
   "metadata": {},
   "source": [
    "\n",
    "\n",
    "\n",
    "These files are prerequisites for portfolio optimization. "
   ]
  },
  {
   "cell_type": "code",
   "execution_count": null,
   "id": "06422071",
   "metadata": {},
   "outputs": [],
   "source": [
    "budget= 46731855; #initial grant size"
   ]
  },
  {
   "cell_type": "code",
   "execution_count": null,
   "id": "f25da994",
   "metadata": {},
   "outputs": [],
   "source": [
    "capital_allocation= load(joinpath(_PATH_TO_DATA,\n",
    "\"CapitalAllocationLine-cesteam-PD1-CHEME-5660-Fall-2023.jld2\")) |> x-> x[\"dataset\"];\n",
    "SIMs=load(joinpath(_PATH_TO_DATA, \n",
    "        \"SIMs-cesteam-PD1-CHEME-5660-Fall-2023.jld2\"))|> x-> x[\"sims\"]; "
   ]
  },
  {
   "cell_type": "code",
   "execution_count": null,
   "id": "35884a91",
   "metadata": {},
   "outputs": [],
   "source": [
    "μ=mean(all_firms_return_matrix, dims=1)|> vec\n",
    "spy_index=findfirst(e->e==\"SPY\",all_tickers)\n",
    "r_spy=μ[spy_index]\n",
    "sigma_m=std(all_firms_return_matrix[:,spy_index])\n",
    "\n",
    "μ"
   ]
  },
  {
   "cell_type": "code",
   "execution_count": null,
   "id": "b6fedad8",
   "metadata": {},
   "outputs": [],
   "source": [
    "print(spy_index)"
   ]
  },
  {
   "cell_type": "code",
   "execution_count": null,
   "id": "5c6de309",
   "metadata": {},
   "outputs": [],
   "source": [
    "print(r_spy)"
   ]
  },
  {
   "cell_type": "code",
   "execution_count": null,
   "id": "0b6613d5",
   "metadata": {},
   "outputs": [],
   "source": [
    "# Σ_sim from Lab15b, covariance array between tickers \n",
    "Σ_empty=Array{Float64,2}(undef, length(μ), length(μ));\n",
    "for item in eachindex(all_tickers)\n",
    "    outers=all_tickers[item];\n",
    "    simulate_outside=SIMs[outers];\n",
    "\n",
    "    for j in eachindex(all_tickers)\n",
    "        inners=all_tickers[j];\n",
    "        simulate_inside=SIMs[inners];\n",
    "\n",
    "        if (item==j) \n",
    "            beta=simulate_outside.β\n",
    "            eta=simulate_outside.ϵ\n",
    "            sigma_e=params(eta)[2]; #Adapted direct from 15b\n",
    "            Σ_empty[item,j]=((beta)^2)*((sigma_m)^2)+(sigma_e)^2\n",
    "        else\n",
    "            beta_i= simulate_outside.β\n",
    "            beta_j= simulate_inside.β\n",
    "            Σ_empty[item,j]= (beta_i)*(beta_j)*(sigma_m)^2\n",
    "        end\n",
    "    end        \n",
    "end\n",
    "\n",
    "Σ_sim=Σ_empty |> x -> x*(1/252)"
   ]
  },
  {
   "cell_type": "markdown",
   "id": "972ea748",
   "metadata": {},
   "source": [
    "### Task One: Initial Allocation"
   ]
  },
  {
   "cell_type": "code",
   "execution_count": null,
   "id": "9a35d237",
   "metadata": {},
   "outputs": [],
   "source": [
    "efficient_frontier = load(joinpath(_PATH_TO_DATA,\n",
    "        \"EfficientFrontier-cesteam-PD1-CHEME-5660-Fall-2023.jld2\")) |> x->x[\"dataset\"]"
   ]
  },
  {
   "cell_type": "code",
   "execution_count": null,
   "id": "7d160162",
   "metadata": {},
   "outputs": [],
   "source": [
    "#Find the portfolio with the maximum expected excess returns\n",
    "\n",
    "findmax(efficient_frontier[!,\"expected_excess_return\"])"
   ]
  },
  {
   "cell_type": "markdown",
   "id": "d555e38d",
   "metadata": {},
   "source": [
    "We will use Portfolio 64. Using results from Lab 15b, we can find what is in this portfolio by sampling the array generated above "
   ]
  },
  {
   "cell_type": "code",
   "execution_count": null,
   "id": "db2eb8eb",
   "metadata": {},
   "outputs": [],
   "source": [
    "portfolio=64;\n",
    "expected_excess_return=efficient_frontier[portfolio, :expected_excess_return]\n",
    "risk=efficient_frontier[portfolio, :risk]\n",
    "tickers=efficient_frontier[portfolio, :tickers]\n",
    "w=efficient_frontier[portfolio, :w]\n",
    "risk_free_rate=efficient_frontier[portfolio, :risk_free_rate]\n",
    "\n",
    "println(\"Portfolio #$(portfolio) has an exected excess return of $(expected_excess_return) with risk = $(risk). \n",
    "The risk free rate is $(risk_free_rate)%.\")"
   ]
  },
  {
   "cell_type": "code",
   "execution_count": null,
   "id": "91e5c537",
   "metadata": {},
   "outputs": [],
   "source": [
    "q=0\n",
    "for item in efficient_frontier[portfolio, :tickers]\n",
    "    q+=1\n",
    "    if w[q]<0.00001\n",
    "        weight=0 \n",
    "    else\n",
    "        weight=w[q]*100\n",
    "    end\n",
    "    println(\"$item forms $weight% of our portfolio\")\n",
    "end\n",
    "\n",
    "#Now put into dataframe form, similar to Lab15b. Adjust values that are low (aribtary) to 0% allocation\n",
    "\n",
    "new_df=DataFrame();\n",
    "for element in eachindex(w)\n",
    "    weight_element=w[element]\n",
    "    row_df=(\n",
    "        tick=tickers[element],\n",
    "        alloc=weight_element\n",
    "    )\n",
    "    push!(new_df, row_df)\n",
    "end\n",
    "\n",
    "\n",
    "new_df"
   ]
  },
  {
   "cell_type": "markdown",
   "id": "0c17aa64",
   "metadata": {},
   "source": [
    "We now need to know how many shares we purchased of each stock:"
   ]
  },
  {
   "cell_type": "code",
   "execution_count": null,
   "id": "73aa9f94",
   "metadata": {},
   "outputs": [],
   "source": [
    "# From Lab15b\n",
    "price_initial=Array{Float64,1}();\n",
    "for stock in tickers\n",
    "    price_df=dataset[stock]\n",
    "    price=filter(:timestamp=> y-> y>= startdate, price_df) |> y-> y[1,:close]\n",
    "    push!(price_initial, price)\n",
    "end\n",
    "\n",
    "price_initial"
   ]
  },
  {
   "cell_type": "code",
   "execution_count": null,
   "id": "efc332f4",
   "metadata": {},
   "outputs": [],
   "source": [
    "q=0\n",
    "weight_initial=Array{Float64,1}();\n",
    "for item in efficient_frontier[portfolio, :tickers]\n",
    "    q+=1\n",
    "    if w[q]<0.00001\n",
    "        weight=0 \n",
    "        push!(weight_initial, weight)\n",
    "    else\n",
    "        weight=w[q]\n",
    "    push!(weight_initial, weight)\n",
    "    end\n",
    "end\n",
    "\n",
    "weight_initial"
   ]
  },
  {
   "cell_type": "code",
   "execution_count": null,
   "id": "b1849e56",
   "metadata": {},
   "outputs": [],
   "source": [
    "tickers_df = efficient_frontier[portfolio, :tickers];\n",
    "m=0\n",
    "for i in efficient_frontier[portfolio, :tickers]\n",
    "    m+=1\n",
    "    allocate=budget*weight_initial[m]\n",
    "    shares=allocate/price_initial[m]\n",
    "    println(\"For ticker $i, we will allocate $allocate to purchase $shares shares\")\n",
    "end\n",
    "\n",
    "shares_initial=Array{Float64, 1}()\n",
    "for element in eachindex(w) \n",
    "    w_naught=w[element]\n",
    "    if w_naught<0.0001\n",
    "        n_naught=0.0\n",
    "    else\n",
    "        n_naught=(w_naught*budget)/price_initial[element]\n",
    "    end\n",
    "    push!(shares_initial,n_naught)\n",
    "end\n",
    "\n",
    "shares_initial"
   ]
  },
  {
   "cell_type": "code",
   "execution_count": null,
   "id": "bfb21c02",
   "metadata": {},
   "outputs": [],
   "source": [
    "new_df"
   ]
  },
  {
   "cell_type": "markdown",
   "id": "089e2be2",
   "metadata": {},
   "source": [
    "### Task Two: Ongoing Reallocation & Visualization"
   ]
  },
  {
   "cell_type": "code",
   "execution_count": null,
   "id": "8e71c061",
   "metadata": {},
   "outputs": [],
   "source": [
    "trading_days= 252 # Difference between Jan 3 and Dec 1 of 2023.\n",
    "learning_rate= 0.01\n",
    "μ = mean(all_firms_return_matrix, dims=1) |> vec;"
   ]
  },
  {
   "cell_type": "code",
   "execution_count": null,
   "id": "edcba7d9",
   "metadata": {},
   "outputs": [],
   "source": [
    "# Vital parameters for model, adapted from Do Not Edit block in lab15b\n",
    "\n",
    "firm_ids=Array{Int64, 1}();\n",
    "for item in tickers\n",
    "    firm_index = findfirst(e->e==item,all_tickers);\n",
    "    push!(firm_ids,firm_index)\n",
    "end\n",
    "\n",
    "μ̂=Array{Float64, 1}();\n",
    "for index in firm_ids\n",
    "    push!(μ̂, μ[index])\n",
    "end\n",
    "\n",
    "firms_l=length(firm_ids)\n",
    "Σ̂=Array{Float64, 2}(undef, firms_l, firms_l)\n",
    "for element in eachindex(firm_ids)\n",
    "    row_ele=firm_ids[element]\n",
    "    for j in eachindex(firm_ids)\n",
    "        col_ele=firm_ids[element]\n",
    "        Σ̂[element,j]=Σ_sim[row_ele, col_ele]\n",
    "    end\n",
    "end"
   ]
  },
  {
   "cell_type": "code",
   "execution_count": null,
   "id": "91ecf2a4",
   "metadata": {},
   "outputs": [],
   "source": [
    "firms_picked=length(tickers)\n",
    "bounds=zeros(firms_picked,2)\n",
    "bounds[:,2].=1.0;#direct from 15b\n",
    "\n",
    "sim_initial=build(MyMarkowitzRiskyAssetOnlyPortfiolioChoiceProblem, (\n",
    "    Σ = Σ̂,\n",
    "    μ = μ̂,\n",
    "    bounds = bounds,\n",
    "    initial=w,\n",
    "    R=0.0\n",
    "))\n"
   ]
  },
  {
   "cell_type": "code",
   "execution_count": null,
   "metadata": {},
   "outputs": [],
   "source": [
    "2:(trading_days+1)"
   ]
  },
  {
   "cell_type": "code",
   "execution_count": null,
   "id": "1985d697",
   "metadata": {},
   "outputs": [],
   "source": [
    "#Lab 15b instructs us to make a Queue data structure\n",
    "next_close=Queue{Vector{Float64}}();\n",
    "range=2:(trading_days+1);\n",
    "for element in range\n",
    "    price_arr=Array{Float64, 1}();\n",
    "    for ticker in tickers\n",
    "        price=dataset[ticker]\n",
    "        start=filter(:timestamp => x-> x >= startdate, price)|>x->x[i,:close] #direct 15b\n",
    "        push!(price_arr, start)\n",
    "    end \n",
    "\n",
    "    enqueue!(next_close, price_arr)\n",
    "end\n",
    "\n",
    "next_close"
   ]
  },
  {
   "cell_type": "code",
   "execution_count": null,
   "id": "d866ec34",
   "metadata": {},
   "outputs": [],
   "source": [
    "min_return_goal=4*μ[spy_index]"
   ]
  },
  {
   "cell_type": "code",
   "execution_count": null,
   "id": "8bdee2cb",
   "metadata": {},
   "outputs": [],
   "source": [
    "#Simulation, adapted directly from 15b\n",
    "prev_price_arr=price_initial\n",
    "μ̂_naught=μ̂\n",
    "N_naught=shares_initial\n",
    "Δt = (1/252)\n",
    "results= DataFrame();\n",
    "\n",
    "while(isempty(next_close)==false)\n",
    "\n",
    "    current_pr=dequeue!(next_close)\n",
    "\n",
    "    assets_return = Array{Float64, 1}();\n",
    "    for element in eachindex(tickers)\n",
    "        m = (1/Δt)*log(current_pr[element]/prev_price_arr[element])\n",
    "        push!(assets_return, m)\n",
    "    end\n",
    "\n",
    "    μ̂_update=μ̂_naught .+ learning_rate .* (assets_return .- μ̂_naught)\n",
    "\n",
    "    sim_initial.μ=μ̂_update;\n",
    "    sim_initial.R=min_return_goal;\n",
    "\n",
    "    sol=solve(sim_initial)\n",
    "\n",
    "    #conversion check from 15b\n",
    "\n",
    "    new_weight=w;\n",
    "    risk_new=risk;\n",
    "    status=sol[\"status\"]\n",
    "    if (status==MathOptInterface.LOCALLY_SOLVED)\n",
    "        new_weight=sol[\"argmax\"]\n",
    "        risk_new=sqrt(sol[\"objective_value\"])\n",
    "    end\n",
    "\n",
    "    liq_value = dot(N_naught, current_pr)\n",
    "\n",
    "    new_shares=Array{Float64,1}()\n",
    "    for element in eachindex(new_weight)\n",
    "        w_element=new_weight[element]\n",
    "        nshare=(w_element*liq_value)/(current_pr[element])\n",
    "    push!(new_shares, nshare)\n",
    "    end\n",
    "    \n",
    "    results_t=(\n",
    "        N_updated=new_shares,\n",
    "        N_previous=N_naught,\n",
    "        w_previous=w,\n",
    "        w_updated=new_weight,\n",
    "        μ_previous=μ̂,\n",
    "        μ_updated= μ̂_update,\n",
    "        previous_close=prev_price_arr,\n",
    "        updated_close=current_pr,\n",
    "        liq_value=liq_value,\n",
    "        risk=risk_new,\n",
    "    );\n",
    "    push!(results,results_t)\n",
    "\n",
    "\n",
    "    μ_previous= μ̂_update\n",
    "    prev_price_arr=current_pr\n",
    "    N_previous=new_shares\n",
    "end\n",
    "\n",
    "results\n"
   ]
  },
  {
   "cell_type": "code",
   "execution_count": null,
   "id": "c15c3ce2",
   "metadata": {},
   "outputs": [],
   "source": [
    "# DELETE\n",
    "\n",
    "previous_price_array = Sₒ\n",
    "μ̂_previous = μ̂\n",
    "N_previous = Nₒ\n",
    "Δt = (1/252);\n",
    "my_results_df = DataFrame();\n",
    "while (isempty(next_market_day_close_queue) == false)\n",
    "    \n",
    "    # what was the market vwap\n",
    "    current_price_array = dequeue!(next_market_day_close_queue); # holds the close price at the end of the trading day\n",
    "    \n",
    "    # compute the return -\n",
    "    asset_return_array = Array{Float64,1}();\n",
    "    for j ∈ eachindex(my_list_of_tickers)\n",
    "        tmp = (1/Δt)*log(current_price_array[j]/previous_price_array[j]);\n",
    "        push!(asset_return_array,tmp);\n",
    "    end\n",
    "    \n",
    "    # update the average return for each asset -\n",
    "    μ̂_new = μ̂_previous .+ α*(asset_return_array .- μ̂_previous);\n",
    "    \n",
    "    # compute new allocation -\n",
    "    problem_risk_sim.μ = μ̂_new;\n",
    "    problem_risk_sim.R = minimum_desired_return;\n",
    "    \n",
    "    # compute -\n",
    "    solution_sim = solve(problem_risk_sim)\n",
    "\n",
    "    # check: did this converge?\n",
    "    w_new = w; # initialize to orginal portfolio -\n",
    "    risk_new = risk; # initialize to orginal portfolio -\n",
    "    status_flag = solution_sim[\"status\"];    \n",
    "    if (status_flag == MathOptInterface.LOCALLY_SOLVED)\n",
    "        w_new = solution_sim[\"argmax\"];\n",
    "        risk_new = sqrt(solution_sim[\"objective_value\"]);\n",
    "    end\n",
    "    \n",
    "    # liqudation value of the portfolio at the close of trading day i\n",
    "    liquidation_value_of_porfolio = dot(N_previous, current_price_array);\n",
    "    \n",
    "    # compute the number of shares for the new allocation -\n",
    "    N_new = Array{Float64,1}()\n",
    "    for i ∈ eachindex(w_new)\n",
    "        wᵢ = w_new[i]\n",
    "        nᵢ = (wᵢ*liquidation_value_of_porfolio)/current_price_array[i];\n",
    "        push!(N_new,nᵢ)\n",
    "    end\n",
    "    \n",
    "    # store data -\n",
    "    results_tuple = (\n",
    "        N_new = N_new,\n",
    "        N_old = N_previous,\n",
    "        w_old = w,\n",
    "        w_new = w_new,\n",
    "        μ_previous = μ̂_previous,\n",
    "        μ_new = μ̂_new,\n",
    "        previous_close = previous_price_array,\n",
    "        current_close = current_price_array,\n",
    "        liquidation_value_of_porfolio = liquidation_value_of_porfolio,\n",
    "        risk = risk_new\n",
    "    );\n",
    "    push!(my_results_df,results_tuple)\n",
    "    \n",
    "    # update values -\n",
    "    μ̂_previous = μ̂_new;\n",
    "    previous_price_array = current_price_array;\n",
    "    N_previous = N_new;\n",
    "end\n",
    "my_results_df"
   ]
  },
  {
   "cell_type": "code",
   "execution_count": null,
   "id": "fe78da31",
   "metadata": {},
   "outputs": [],
   "source": [
    "portfolio_performance_initial=Array{Float64,2}(undef, trading_days, length(w)+2)\n",
    "for element in eachindex(tickers)\n",
    "    ticker=tickers[element]\n",
    "    price=dataset[ticker]\n",
    "    ticker_data=filter(:timestamp => x-> x >= startdate, price)\n",
    "    n_new=N_naught[element]\n",
    "\n",
    "    for j in 1:trading_days\n",
    "        portfolio_performance_initial[j,element]=n_new*ticker_data[j+1,:close] #Lab 15b\n",
    "    end\n",
    "end\n",
    "\n",
    "for element in 1:trading_days\n",
    "    portfolio_performance_initial[element,end]=sum(portfolio_performance_initial[element,1:end-2])\n",
    "end\n",
    "\n",
    "for element in 1:trading_days\n",
    "    data=portfolio_performance_initial[element,1:end-2]\n",
    "    tot=portfolio_performance_initial[element,end]\n",
    "    w=(1/tot)*data\n",
    "    portfolio_performance_initial[element,end-1]=transpose(w)*Σ̂*w |> sqrt\n",
    "end"
   ]
  },
  {
   "cell_type": "code",
   "execution_count": null,
   "id": "7bc60b1a",
   "metadata": {},
   "outputs": [],
   "source": [
    "tickers"
   ]
  },
  {
   "cell_type": "code",
   "execution_count": null,
   "id": "7c4b8649",
   "metadata": {},
   "outputs": [],
   "source": [
    "table_data=Array{Float64, 2}(undef, trading_days, length(w)+3)\n",
    "for element in 1:trading_days\n",
    "    table_data[element,1]=element\n",
    "    for j in eachindex(tickers)\n",
    "        table_data[element,j+1]=portfolio_performance_initial[element,j]\n",
    "    end\n",
    "    table_data[element,end-1]=portfolio_performance_initial[element, end-1]\n",
    "    table_data[element,end]=portfolio_performance_initial[element,end]\n",
    "end\n",
    "\n",
    "pretty_table(table_data, header=[\"index\", tickers..., \"risk (sqrt)\", \"total value\"])\n"
   ]
  },
  {
   "cell_type": "code",
   "execution_count": null,
   "id": "f49ea2a2",
   "metadata": {},
   "outputs": [],
   "source": [
    "reallocated_portfolio=Array{Float64, 2}(undef, trading_days, length(w)+2)\n",
    "\n",
    "for element in 1:trading_days\n",
    "    risk_new=results[element,:risk]\n",
    "    N_updated=results[element,:N_updated]\n",
    "    price_new=results[element,:updated_close]\n",
    "\n",
    "    for j in eachindex(tickers)\n",
    "        reallocated_portfolio[element,j]=N_updated[j]*price_new[j]|> x -> round(x,digits=3)|> abs\n",
    "    end\n",
    "\n",
    "    reallocated_portfolio[element,end-1]=risk_new\n",
    "end\n",
    "\n",
    "for e in 1:trading_days\n",
    "    reallocated_portfolio[e,end]=sum(reallocated_portfolio[e,1:end-2])\n",
    "end\n",
    "\n",
    "tot=reallocated_portfolio[1,end]\n",
    "data=reallocated_portfolio[1,1:end-2]\n",
    "w=(1/tot)*data\n",
    "reallocated_portfolio[1,end-1]=transpose(w)*Σ̂*w |> sqrt\n",
    "\n",
    "reallocated_portfolio"
   ]
  },
  {
   "cell_type": "code",
   "execution_count": null,
   "id": "307ea0bb",
   "metadata": {},
   "outputs": [],
   "source": [
    "reallocate_data=Array{Float64, 2}(undef, trading_days, length(w)+3)\n",
    "for element in 1:trading_days\n",
    "    reallocate_data[element,1]=element\n",
    "    for j in eachindex(tickers)\n",
    "        reallocate_data[element,j+1]=reallocated_portfolio[element,j]\n",
    "    end\n",
    "    reallocate_data[element,end-1]=reallocated_portfolio[element, end-1]\n",
    "    reallocate_data[element,end]=reallocated_portfolio[element,end]\n",
    "end\n",
    "\n",
    "pretty_table(reallocate_data, header=[\"index\", tickers..., \"risk (sqrt)\", \"total value\"])\n"
   ]
  },
  {
   "cell_type": "code",
   "execution_count": null,
   "id": "3f01fe50",
   "metadata": {},
   "outputs": [],
   "source": [
    "plot((1/table_data[1,end]).*table_data[:,end],\n",
    "    lw=3, c=:purple, label=\"Chosen Portfolio Initial\")\n",
    "plot!((1/SPY_df[1,:volume_weighted_average_price]).*SPY_df[1:trading_days,:volume_weighted_average_price],\n",
    "    lw=3, c=:blue, label=\"SPY\")\n",
    "plot!((1/reallocated_portfolio[1,end]).*reallocated_portfolio[:,end], \n",
    "    lw=3, c=:red, label=\"Reallocated Portfolio\")\n",
    "\n",
    "xlabel!(\"Trading Day (2023)\", fontsize=18)\n",
    "ylabel!(\"Wealth (USD)\", fontsize=18)"
   ]
  },
  {
   "cell_type": "code",
   "execution_count": null,
   "id": "d8d681d2",
   "metadata": {},
   "outputs": [],
   "source": [
    "shares_array=Array{Float64, 2}(undef, trading_days+1, length(w)+1)\n",
    "shares_array[1,1]=0\n",
    "for element in eachindex(tickers)\n",
    "    shares_array[1,element+1]=N_naught[element]\n",
    "end\n",
    "\n",
    "for element in 1:222\n",
    "    n_vector=results[element,:N_updated]\n",
    "    shares_array[element+1,1]=element\n",
    "    for j in eachindex(n_vector)\n",
    "        shares_array[element+1,j+1]=n_vector[j] |> x -> round(x,digits=3)|> abs\n",
    "    end\n",
    "end\n",
    "\n",
    "header_dt=Array{String,1}()\n",
    "push!(header_dt,\"index\")\n",
    "[push!(header_dt, ticker) for ticker in tickers]\n",
    "pretty_table(shares_array, header=header_dt)"
   ]
  },
  {
   "cell_type": "markdown",
   "id": "b3b5cd21-bb87-4bb0-b2e3-29391ba3859f",
   "metadata": {},
   "source": [
    "## Disclaimer and Risks\n",
    "__This content is offered solely for training and  informational purposes__. No offer or solicitation to buy or sell securities or derivative products, or any investment or trading advice or strategy,  is made, given, or endorsed by the teaching team. \n",
    "\n",
    "__Trading involves risk__. Carefully review your financial situation before investing in securities, futures contracts, options, or commodity interests. Past performance, whether actual or indicated by historical tests of strategies, is no guarantee of future performance or success. Trading is generally inappropriate for someone with limited resources, investment or trading experience, or a low-risk tolerance.  Only risk capital that is not required for living expenses.\n",
    "\n",
    "__You are fully responsible for any investment or trading decisions you make__. Such decisions should be based solely on your evaluation of your financial circumstances, investment or trading objectives, risk tolerance, and liquidity needs."
   ]
  }
 ],
 "metadata": {
  "kernelspec": {
   "display_name": "Julia 1.9.2",
   "language": "julia",
   "name": "julia-1.9"
  },
  "language_info": {
   "file_extension": ".jl",
   "mimetype": "application/julia",
   "name": "julia",
   "version": "1.9.2"
  }
 },
 "nbformat": 4,
 "nbformat_minor": 5
}
