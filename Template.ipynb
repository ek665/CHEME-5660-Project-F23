{
 "cells": [
  {
   "cell_type": "markdown",
   "id": "80ae6a55-e35b-401a-9fd2-353207a8b340",
   "metadata": {},
   "source": [
    "### Analyzing Investment Portfolios for Ugandan Health Clinics Endownment\n",
    "Investment Portfolio Project, ChemE 5660\n",
    "\n",
    "Chike Murray, Sonny Vo , Erik Kirakosyan"
   ]
  },
  {
   "cell_type": "markdown",
   "id": "cac5eb3a-be19-4274-8400-09af3e83ff21",
   "metadata": {
    "jp-MarkdownHeadingCollapsed": true,
    "tags": []
   },
   "source": [
    "## Setup"
   ]
  },
  {
   "cell_type": "code",
   "execution_count": 1,
   "id": "c428c856-064a-4a35-97bc-800cc0d49a58",
   "metadata": {
    "tags": []
   },
   "outputs": [
    {
     "name": "stderr",
     "output_type": "stream",
     "text": [
      "\u001b[32m\u001b[1m    Updating\u001b[22m\u001b[39m git-repo `https://github.com/varnerlab/VLQuantitativeFinancePackage.jl.git`\n"
     ]
    },
    {
     "name": "stderr",
     "output_type": "stream",
     "text": [
      "\u001b[32m\u001b[1m   Resolving\u001b[22m\u001b[39m package versions...\n"
     ]
    },
    {
     "name": "stderr",
     "output_type": "stream",
     "text": [
      "\u001b[32m\u001b[1m  No Changes\u001b[22m\u001b[39m to `~/Desktop/CHEME-5660-Project-Template-F23/Project.toml`\n",
      "\u001b[32m\u001b[1m  No Changes\u001b[22m\u001b[39m to `~/Desktop/CHEME-5660-Project-Template-F23/Manifest.toml`\n"
     ]
    },
    {
     "name": "stderr",
     "output_type": "stream",
     "text": [
      "\u001b[32m\u001b[1m  Activating\u001b[22m\u001b[39m project at `~/Desktop/CHEME-5660-Project-Template-F23`\n"
     ]
    },
    {
     "name": "stderr",
     "output_type": "stream",
     "text": [
      "\u001b[32m\u001b[1m  No Changes\u001b[22m\u001b[39m to `~/Desktop/CHEME-5660-Project-Template-F23/Project.toml`\n",
      "\u001b[32m\u001b[1m  No Changes\u001b[22m\u001b[39m to `~/Desktop/CHEME-5660-Project-Template-F23/Manifest.toml`\n"
     ]
    },
    {
     "name": "stderr",
     "output_type": "stream",
     "text": [
      "\u001b[32m\u001b[1m    Updating\u001b[22m\u001b[39m registry at `~/.julia/registries/General.toml`\n",
      "\u001b[32m\u001b[1m    Updating\u001b[22m\u001b[39m git-repo `https://github.com/varnerlab/VLQuantitativeFinancePackage.jl.git`\n"
     ]
    },
    {
     "name": "stderr",
     "output_type": "stream",
     "text": [
      "\u001b[32m\u001b[1m  No Changes\u001b[22m\u001b[39m to `~/Desktop/CHEME-5660-Project-Template-F23/Project.toml`\n",
      "\u001b[32m\u001b[1m  No Changes\u001b[22m\u001b[39m to `~/Desktop/CHEME-5660-Project-Template-F23/Manifest.toml`\n"
     ]
    }
   ],
   "source": [
    "include(\"Include.jl\");"
   ]
  },
  {
   "cell_type": "markdown",
   "id": "21519cf1-3079-4a5a-8859-fd21f48bce94",
   "metadata": {
    "jp-MarkdownHeadingCollapsed": true,
    "tags": []
   },
   "source": [
    "## Prerequisites: Load historical dataset, compute expected returns and get 2023 `SPY` data\n",
    "We gathered a daily open-high-low-close `dataset` for each firm in the [S&P500](https://en.wikipedia.org/wiki/S%26P_500) since `01-03-2018` until `12-01-2023`, along with data for a few exchange traded funds and volatility products during that time. "
   ]
  },
  {
   "cell_type": "code",
   "execution_count": 79,
   "id": "79aa4361-4713-47c5-9892-8d822e7aac68",
   "metadata": {
    "tags": []
   },
   "outputs": [],
   "source": [
    "original_dataset = load(joinpath(_PATH_TO_DATA, \n",
    "        \"SP500-Daily-OHLC-1-3-2018-to-12-01-2023.jld2\")) |> x-> x[\"dataset\"];"
   ]
  },
  {
   "cell_type": "markdown",
   "id": "d5567fb5-3688-4fe7-8cc9-201119de77f5",
   "metadata": {},
   "source": [
    "### Clean the data\n",
    "Not all of the tickers in our dataset have the maximum number of trading days for various reasons, e.g., acquistion or de-listing events. Let's collect only those tickers with the maximum number of trading days.\n",
    "\n",
    "* First, let's compute the number of records for a company that we know has a maximim value, e.g., `AAPL` and save that value in the `maximum_number_trading_days` variable:"
   ]
  },
  {
   "cell_type": "code",
   "execution_count": 80,
   "id": "5e88a72f-9231-459a-99bc-f0fdccc6e42d",
   "metadata": {
    "tags": []
   },
   "outputs": [
    {
     "data": {
      "text/plain": [
       "1489"
      ]
     },
     "metadata": {},
     "output_type": "display_data"
    }
   ],
   "source": [
    "maximum_number_trading_days = original_dataset[\"AAPL\"] |> nrow"
   ]
  },
  {
   "cell_type": "markdown",
   "id": "d3b64e6f-3662-48fe-bcec-ba6da19f60f9",
   "metadata": {},
   "source": [
    "Now, lets iterate through our data and collect only those tickers that have `maximum_number_trading_days` records. Save that data in the `dataset::Dict{String,DataFrame}` variable:"
   ]
  },
  {
   "cell_type": "code",
   "execution_count": 81,
   "id": "9b263c2a-7cb2-42ef-a700-b857aeb22f8e",
   "metadata": {
    "tags": []
   },
   "outputs": [
    {
     "data": {
      "text/plain": [
       "Dict{String, DataFrame} with 459 entries:\n",
       "  \"NI\"   => \u001b[1m1489×8 DataFrame\u001b[0m\u001b[0m…\n",
       "  \"EMR\"  => \u001b[1m1489×8 DataFrame\u001b[0m\u001b[0m…\n",
       "  \"CTAS\" => \u001b[1m1489×8 DataFrame\u001b[0m\u001b[0m…\n",
       "  \"HSIC\" => \u001b[1m1489×8 DataFrame\u001b[0m\u001b[0m…\n",
       "  \"KIM\"  => \u001b[1m1489×8 DataFrame\u001b[0m\u001b[0m…\n",
       "  \"PLD\"  => \u001b[1m1489×8 DataFrame\u001b[0m\u001b[0m…\n",
       "  \"IEX\"  => \u001b[1m1489×8 DataFrame\u001b[0m\u001b[0m…\n",
       "  \"BAC\"  => \u001b[1m1489×8 DataFrame\u001b[0m\u001b[0m…\n",
       "  \"CBOE\" => \u001b[1m1489×8 DataFrame\u001b[0m\u001b[0m…\n",
       "  \"EXR\"  => \u001b[1m1489×8 DataFrame\u001b[0m\u001b[0m…\n",
       "  \"NCLH\" => \u001b[1m1489×8 DataFrame\u001b[0m\u001b[0m…\n",
       "  \"CVS\"  => \u001b[1m1489×8 DataFrame\u001b[0m\u001b[0m…\n",
       "  \"DRI\"  => \u001b[1m1489×8 DataFrame\u001b[0m\u001b[0m…\n",
       "  \"DTE\"  => \u001b[1m1489×8 DataFrame\u001b[0m\u001b[0m…\n",
       "  \"ZION\" => \u001b[1m1489×8 DataFrame\u001b[0m\u001b[0m…\n",
       "  \"AVY\"  => \u001b[1m1489×8 DataFrame\u001b[0m\u001b[0m…\n",
       "  \"EW\"   => \u001b[1m1489×8 DataFrame\u001b[0m\u001b[0m…\n",
       "  \"EA\"   => \u001b[1m1489×8 DataFrame\u001b[0m\u001b[0m…\n",
       "  \"NWSA\" => \u001b[1m1489×8 DataFrame\u001b[0m\u001b[0m…\n",
       "  ⋮      => ⋮"
      ]
     },
     "metadata": {},
     "output_type": "display_data"
    }
   ],
   "source": [
    "dataset = Dict{String,DataFrame}();\n",
    "for (ticker,data) ∈ original_dataset\n",
    "    if (nrow(data) == maximum_number_trading_days)\n",
    "        dataset[ticker] = data;\n",
    "    end\n",
    "end\n",
    "dataset"
   ]
  },
  {
   "cell_type": "markdown",
   "id": "5ffb1bec-88c3-4648-b7e9-9b1300504b4a",
   "metadata": {},
   "source": [
    "Let's get a list of firms that we have in cleaned up `dataset`, and save it in the `all_tickers` array:"
   ]
  },
  {
   "cell_type": "code",
   "execution_count": 82,
   "id": "93f5fc90-048c-4e23-83da-8a362b297f77",
   "metadata": {
    "tags": []
   },
   "outputs": [
    {
     "data": {
      "text/plain": [
       "459"
      ]
     },
     "metadata": {},
     "output_type": "display_data"
    }
   ],
   "source": [
    "all_tickers = keys(dataset) |> collect |> sort;\n",
    "K = length(all_tickers)"
   ]
  },
  {
   "cell_type": "markdown",
   "id": "1266557c-c5ce-4c67-9f93-7dcdb3038e26",
   "metadata": {},
   "source": [
    "### Get the 2023 `SPY` data"
   ]
  },
  {
   "cell_type": "code",
   "execution_count": 83,
   "id": "b700d807-61d8-4d3c-8c78-0908bcd81855",
   "metadata": {
    "tags": []
   },
   "outputs": [],
   "source": [
    "startdate = Date(2023,01,03);\n",
    "SPY_dataset = dataset[\"SPY\"];\n",
    "SPY_df = filter(:timestamp => x-> x >= startdate, SPY_dataset);"
   ]
  },
  {
   "cell_type": "markdown",
   "id": "9d07c6db-65c2-424b-878e-652936db2032",
   "metadata": {},
   "source": [
    "### Compute the expected return for all firms in the dataset\n",
    "The expected return $\\mathbb{E}(r_{i})$ and covariance matrix $\\Sigma$ will be used in our calculations, so we'll provide values for both of these items for the entire data set (all `N = 459` tickers), and then you can pick out which tickers you are interested in. \n",
    "\n",
    "* First, we compute the expected (annualized) log return by passing the `dataset` and the entire list of firms we have in the dataset (held in the $N\\times{1}$ `all_array` array) to the `log_return_matrix(...)` method. The result is stored in the `all_firms_return_matrix` variable, a $T-1\\times{N}$ array of log return values. Each row of `all_firms_return_matrix` corresponds to a time-value, while each column corresponds to a firm:"
   ]
  },
  {
   "cell_type": "code",
   "execution_count": 84,
   "id": "870a7ff9-d78c-4313-8e75-92cc67dc0858",
   "metadata": {
    "tags": []
   },
   "outputs": [],
   "source": [
    "all_firms_return_matrix = log_return_matrix(dataset, all_tickers, \n",
    "    Δt = (1.0/252.0), risk_free_rate = 0.0);"
   ]
  },
  {
   "cell_type": "markdown",
   "id": "2347705b-730c-44c2-ab83-4be788669bd9",
   "metadata": {},
   "source": [
    "## Your project starts here ...."
   ]
  },
  {
   "cell_type": "markdown",
   "id": "715b71b0",
   "metadata": {},
   "source": [
    "Selected Portfolio Tickers: \"NVDA\", \"MDT\", \"AMD\", \"PG\", \"MO\", \"PLD\""
   ]
  },
  {
   "cell_type": "markdown",
   "id": "01e616b0",
   "metadata": {},
   "source": [
    "### Statement of Assumptions:\n",
    "\n",
    "Similar to Lab 15b, we need to make assumptions to simplify our financial model. These assumptions are not completely realistic but greatly simplify the underlying math. \n",
    "\n",
    "1: The covariance matrix is constant over the period from 01-03-2023 to 12-01-2023. \n",
    "\n",
    "2: We are not taking into account short term capital gains tax, long term capital gains tax, restrictions on day trading and portfolio reallocation, or other market friction \n",
    "\n",
    "3: We are not taking into account real-world events and their impact on market volatility. "
   ]
  },
  {
   "cell_type": "markdown",
   "id": "b484bcfe",
   "metadata": {},
   "source": [
    "\n",
    "\n",
    "\n",
    "These files are prerequisites for portfolio optimization. "
   ]
  },
  {
   "cell_type": "code",
   "execution_count": 85,
   "id": "06422071",
   "metadata": {},
   "outputs": [],
   "source": [
    "budget= 46731855; #initial grant size"
   ]
  },
  {
   "cell_type": "code",
   "execution_count": 86,
   "id": "f25da994",
   "metadata": {},
   "outputs": [],
   "source": [
    "capital_allocation= load(joinpath(_PATH_TO_DATA,\n",
    "\"CapitalAllocationLine-cesteam-PD1-CHEME-5660-Fall-2023.jld2\")) |> x-> x[\"dataset\"];\n",
    "SIMs=load(joinpath(_PATH_TO_DATA, \n",
    "        \"SIMs-cesteam-PD1-CHEME-5660-Fall-2023.jld2\"))|> x-> x[\"sims\"]; "
   ]
  },
  {
   "cell_type": "code",
   "execution_count": 87,
   "id": "35884a91",
   "metadata": {},
   "outputs": [
    {
     "data": {
      "text/plain": [
       "459-element Vector{Float64}:\n",
       "  0.10477118518531324\n",
       " -0.23792329291831046\n",
       " -0.11878362723945897\n",
       "  0.2513056879829063\n",
       "  0.061629149643394616\n",
       "  0.09753407212245467\n",
       "  0.13203999046355291\n",
       "  0.20619167164588217\n",
       "  0.11801068299041015\n",
       "  0.10682284992313293\n",
       "  ⋮\n",
       "  0.04204955516729051\n",
       "  0.030591034311174593\n",
       " -0.12295460438087435\n",
       "  0.07345290303676875\n",
       "  0.07472583421657154\n",
       " -0.010338970697217531\n",
       "  0.13979487846925515\n",
       " -0.04846036175653938\n",
       "  0.1537728141463931"
      ]
     },
     "metadata": {},
     "output_type": "display_data"
    }
   ],
   "source": [
    "μ=mean(all_firms_return_matrix, dims=1)|> vec\n",
    "spy_index=findfirst(e->e==\"SPY\",all_tickers)\n",
    "r_spy=μ[spy_index]\n",
    "sigma_m=std(all_firms_return_matrix[:,spy_index])\n",
    "\n",
    "μ"
   ]
  },
  {
   "cell_type": "code",
   "execution_count": 88,
   "id": "b6fedad8",
   "metadata": {},
   "outputs": [
    {
     "name": "stdout",
     "output_type": "stream",
     "text": [
      "376"
     ]
    }
   ],
   "source": [
    "print(spy_index)"
   ]
  },
  {
   "cell_type": "code",
   "execution_count": 89,
   "id": "5c6de309",
   "metadata": {},
   "outputs": [
    {
     "name": "stdout",
     "output_type": "stream",
     "text": [
      "0.08947352945602302"
     ]
    }
   ],
   "source": [
    "print(r_spy)"
   ]
  },
  {
   "cell_type": "code",
   "execution_count": 90,
   "id": "0b6613d5",
   "metadata": {},
   "outputs": [
    {
     "data": {
      "text/plain": [
       "459×459 Matrix{Float64}:\n",
       " 0.0690878  0.0532252  0.0291122  …  0.0413213  0.0374101  0.0315147\n",
       " 0.0532252  0.341146   0.0481642     0.0683632  0.0618924  0.052139\n",
       " 0.0291122  0.0481642  0.101103      0.0373922  0.0338529  0.0285181\n",
       " 0.037463   0.06198    0.0339008     0.048118   0.0435635  0.0366985\n",
       " 0.0227963  0.0377149  0.0206286     0.0292798  0.0265084  0.022331\n",
       " 0.0256625  0.0424568  0.0232223  …  0.0329612  0.0298414  0.0251387\n",
       " 0.0365369  0.0604478  0.0330627     0.0469285  0.0424866  0.0357912\n",
       " 0.0365971  0.0605474  0.0331172     0.0470059  0.0425566  0.0358502\n",
       " 0.0371794  0.0615109  0.0336442     0.0477538  0.0432338  0.0364207\n",
       " 0.0253311  0.0419086  0.0229225     0.0325357  0.0294561  0.0248142\n",
       " ⋮                                ⋱                        \n",
       " 0.0170051  0.0281339  0.0153882  …  0.0218417  0.0197743  0.0166581\n",
       " 0.0314715  0.0520675  0.028479      0.0404225  0.0365964  0.0308293\n",
       " 0.029547   0.0488835  0.0267375     0.0379506  0.0343585  0.028944\n",
       " 0.0352487  0.0583166  0.031897      0.0452739  0.0409886  0.0345293\n",
       " 0.0272791  0.0451314  0.0246852     0.0350377  0.0317213  0.0267224\n",
       " 0.0360402  0.0596261  0.0326133  …  0.0462906  0.0419091  0.0353047\n",
       " 0.0413213  0.0683632  0.0373922     0.131936   0.04805    0.040478\n",
       " 0.0374101  0.0618924  0.0338529     0.04805    0.126861   0.0366466\n",
       " 0.0315147  0.052139   0.0285181     0.040478   0.0366466  0.0645851"
      ]
     },
     "metadata": {},
     "output_type": "display_data"
    }
   ],
   "source": [
    "# Σ_sim from Lab15b, covariance array between tickers \n",
    "Σ_empty=Array{Float64,2}(undef, length(μ), length(μ));\n",
    "for item in eachindex(all_tickers)\n",
    "    outers=all_tickers[item];\n",
    "    simulate_outside=SIMs[outers];\n",
    "\n",
    "    for j in eachindex(all_tickers)\n",
    "        inners=all_tickers[j];\n",
    "        simulate_inside=SIMs[inners];\n",
    "\n",
    "        if (item==j) \n",
    "            beta=simulate_outside.β\n",
    "            eta=simulate_outside.ϵ\n",
    "            sigma_e=params(eta)[2]; #Adapted direct from 15b\n",
    "            Σ_empty[item,j]=((beta)^2)*((sigma_m)^2)+(sigma_e)^2\n",
    "        else\n",
    "            beta_i= simulate_outside.β\n",
    "            beta_j= simulate_inside.β\n",
    "            Σ_empty[item,j]= (beta_i)*(beta_j)*(sigma_m)^2\n",
    "        end\n",
    "    end        \n",
    "end\n",
    "\n",
    "Σ_sim=Σ_empty |> x -> x*(1/229)"
   ]
  },
  {
   "cell_type": "markdown",
   "id": "972ea748",
   "metadata": {},
   "source": [
    "### Task One: Initial Allocation"
   ]
  },
  {
   "cell_type": "code",
   "execution_count": 91,
   "id": "9a35d237",
   "metadata": {},
   "outputs": [
    {
     "data": {
      "text/html": [
       "<div><div style = \"float: left;\"><span>64×5 DataFrame</span></div><div style = \"float: right;\"><span style = \"font-style: italic;\">39 rows omitted</span></div><div style = \"clear: both;\"></div></div><div class = \"data-frame\" style = \"overflow-x: scroll;\"><table class = \"data-frame\" style = \"margin-bottom: 6px;\"><thead><tr class = \"header\"><th class = \"rowNumber\" style = \"font-weight: bold; text-align: right;\">Row</th><th style = \"text-align: left;\">expected_excess_return</th><th style = \"text-align: left;\">risk</th><th style = \"text-align: left;\">tickers</th><th style = \"text-align: left;\">w</th><th style = \"text-align: left;\">risk_free_rate</th></tr><tr class = \"subheader headerLastRow\"><th class = \"rowNumber\" style = \"font-weight: bold; text-align: right;\"></th><th title = \"Float64\" style = \"text-align: left;\">Float64</th><th title = \"Float64\" style = \"text-align: left;\">Float64</th><th title = \"Vector{String}\" style = \"text-align: left;\">Array…</th><th title = \"Vector{Float64}\" style = \"text-align: left;\">Array…</th><th title = \"Float64\" style = \"text-align: left;\">Float64</th></tr></thead><tbody><tr><td class = \"rowNumber\" style = \"font-weight: bold; text-align: right;\">1</td><td style = \"text-align: right;\">1.43946e-7</td><td style = \"text-align: right;\">0.15205</td><td style = \"text-align: left;\">[&quot;NVDA&quot;, &quot;MDT&quot;, &quot;AMD&quot;, &quot;PG&quot;, &quot;MO&quot;, &quot;PLD&quot;]</td><td style = \"text-align: left;\">[1.25973e-7, 0.163492, 2.041e-7, 0.526952, 0.182744, 0.126812]</td><td style = \"text-align: right;\">0.05</td></tr><tr><td class = \"rowNumber\" style = \"font-weight: bold; text-align: right;\">2</td><td style = \"text-align: right;\">0.00454553</td><td style = \"text-align: right;\">0.152389</td><td style = \"text-align: left;\">[&quot;NVDA&quot;, &quot;MDT&quot;, &quot;AMD&quot;, &quot;PG&quot;, &quot;MO&quot;, &quot;PLD&quot;]</td><td style = \"text-align: left;\">[1.43311e-7, 0.152205, 3.11878e-7, 0.541592, 0.166631, 0.139571]</td><td style = \"text-align: right;\">0.05</td></tr><tr><td class = \"rowNumber\" style = \"font-weight: bold; text-align: right;\">3</td><td style = \"text-align: right;\">0.0090909</td><td style = \"text-align: right;\">0.152906</td><td style = \"text-align: left;\">[&quot;NVDA&quot;, &quot;MDT&quot;, &quot;AMD&quot;, &quot;PG&quot;, &quot;MO&quot;, &quot;PLD&quot;]</td><td style = \"text-align: left;\">[-3.00804e-9, 0.140918, 1.50331e-8, 0.556233, 0.150519, 0.15233]</td><td style = \"text-align: right;\">0.05</td></tr><tr><td class = \"rowNumber\" style = \"font-weight: bold; text-align: right;\">4</td><td style = \"text-align: right;\">0.0136364</td><td style = \"text-align: right;\">0.153602</td><td style = \"text-align: left;\">[&quot;NVDA&quot;, &quot;MDT&quot;, &quot;AMD&quot;, &quot;PG&quot;, &quot;MO&quot;, &quot;PLD&quot;]</td><td style = \"text-align: left;\">[-1.79631e-9, 0.129631, 4.45449e-7, 0.570874, 0.134406, 0.165089]</td><td style = \"text-align: right;\">0.05</td></tr><tr><td class = \"rowNumber\" style = \"font-weight: bold; text-align: right;\">5</td><td style = \"text-align: right;\">0.0181818</td><td style = \"text-align: right;\">0.154445</td><td style = \"text-align: left;\">[&quot;NVDA&quot;, &quot;MDT&quot;, &quot;AMD&quot;, &quot;PG&quot;, &quot;MO&quot;, &quot;PLD&quot;]</td><td style = \"text-align: left;\">[2.12656e-7, 0.120293, 0.00527865, 0.579719, 0.123312, 0.171397]</td><td style = \"text-align: right;\">0.05</td></tr><tr><td class = \"rowNumber\" style = \"font-weight: bold; text-align: right;\">6</td><td style = \"text-align: right;\">0.0227273</td><td style = \"text-align: right;\">0.155387</td><td style = \"text-align: left;\">[&quot;NVDA&quot;, &quot;MDT&quot;, &quot;AMD&quot;, &quot;PG&quot;, &quot;MO&quot;, &quot;PLD&quot;]</td><td style = \"text-align: left;\">[2.38957e-7, 0.111319, 0.0115415, 0.587484, 0.113155, 0.176501]</td><td style = \"text-align: right;\">0.05</td></tr><tr><td class = \"rowNumber\" style = \"font-weight: bold; text-align: right;\">7</td><td style = \"text-align: right;\">0.0272728</td><td style = \"text-align: right;\">0.156426</td><td style = \"text-align: left;\">[&quot;NVDA&quot;, &quot;MDT&quot;, &quot;AMD&quot;, &quot;PG&quot;, &quot;MO&quot;, &quot;PLD&quot;]</td><td style = \"text-align: left;\">[2.55663e-7, 0.102345, 0.0178048, 0.595248, 0.102998, 0.181604]</td><td style = \"text-align: right;\">0.05</td></tr><tr><td class = \"rowNumber\" style = \"font-weight: bold; text-align: right;\">8</td><td style = \"text-align: right;\">0.0318182</td><td style = \"text-align: right;\">0.157558</td><td style = \"text-align: left;\">[&quot;NVDA&quot;, &quot;MDT&quot;, &quot;AMD&quot;, &quot;PG&quot;, &quot;MO&quot;, &quot;PLD&quot;]</td><td style = \"text-align: left;\">[2.86795e-7, 0.0933715, 0.024068, 0.603012, 0.0928404, 0.186708]</td><td style = \"text-align: right;\">0.05</td></tr><tr><td class = \"rowNumber\" style = \"font-weight: bold; text-align: right;\">9</td><td style = \"text-align: right;\">0.0363637</td><td style = \"text-align: right;\">0.158782</td><td style = \"text-align: left;\">[&quot;NVDA&quot;, &quot;MDT&quot;, &quot;AMD&quot;, &quot;PG&quot;, &quot;MO&quot;, &quot;PLD&quot;]</td><td style = \"text-align: left;\">[3.39804e-7, 0.0843978, 0.0303313, 0.610776, 0.0826833, 0.191812]</td><td style = \"text-align: right;\">0.05</td></tr><tr><td class = \"rowNumber\" style = \"font-weight: bold; text-align: right;\">10</td><td style = \"text-align: right;\">0.0409091</td><td style = \"text-align: right;\">0.160096</td><td style = \"text-align: left;\">[&quot;NVDA&quot;, &quot;MDT&quot;, &quot;AMD&quot;, &quot;PG&quot;, &quot;MO&quot;, &quot;PLD&quot;]</td><td style = \"text-align: left;\">[4.54293e-7, 0.0754241, 0.0365946, 0.61854, 0.0725263, 0.196915]</td><td style = \"text-align: right;\">0.05</td></tr><tr><td class = \"rowNumber\" style = \"font-weight: bold; text-align: right;\">11</td><td style = \"text-align: right;\">0.0454546</td><td style = \"text-align: right;\">0.161498</td><td style = \"text-align: left;\">[&quot;NVDA&quot;, &quot;MDT&quot;, &quot;AMD&quot;, &quot;PG&quot;, &quot;MO&quot;, &quot;PLD&quot;]</td><td style = \"text-align: left;\">[7.6666e-7, 0.0664504, 0.0428579, 0.626303, 0.0623692, 0.202018]</td><td style = \"text-align: right;\">0.05</td></tr><tr><td class = \"rowNumber\" style = \"font-weight: bold; text-align: right;\">12</td><td style = \"text-align: right;\">0.05</td><td style = \"text-align: right;\">0.162985</td><td style = \"text-align: left;\">[&quot;NVDA&quot;, &quot;MDT&quot;, &quot;AMD&quot;, &quot;PG&quot;, &quot;MO&quot;, &quot;PLD&quot;]</td><td style = \"text-align: left;\">[1.74786e-6, 0.0574766, 0.0491209, 0.634067, 0.0522123, 0.207121]</td><td style = \"text-align: right;\">0.05</td></tr><tr><td class = \"rowNumber\" style = \"font-weight: bold; text-align: right;\">13</td><td style = \"text-align: right;\">0.0545454</td><td style = \"text-align: right;\">0.164556</td><td style = \"text-align: left;\">[&quot;NVDA&quot;, &quot;MDT&quot;, &quot;AMD&quot;, &quot;PG&quot;, &quot;MO&quot;, &quot;PLD&quot;]</td><td style = \"text-align: left;\">[1.27204e-8, 0.0485029, 0.0553847, 0.641832, 0.0420549, 0.212226]</td><td style = \"text-align: right;\">0.05</td></tr><tr><td style = \"text-align: right;\">&vellip;</td><td style = \"text-align: right;\">&vellip;</td><td style = \"text-align: right;\">&vellip;</td><td style = \"text-align: right;\">&vellip;</td><td style = \"text-align: right;\">&vellip;</td><td style = \"text-align: right;\">&vellip;</td></tr><tr><td class = \"rowNumber\" style = \"font-weight: bold; text-align: right;\">53</td><td style = \"text-align: right;\">0.236364</td><td style = \"text-align: right;\">0.371574</td><td style = \"text-align: left;\">[&quot;NVDA&quot;, &quot;MDT&quot;, &quot;AMD&quot;, &quot;PG&quot;, &quot;MO&quot;, &quot;PLD&quot;]</td><td style = \"text-align: left;\">[0.141533, 6.81412e-9, 0.711405, 0.147061, 1.90065e-9, 2.74445e-7]</td><td style = \"text-align: right;\">0.05</td></tr><tr><td class = \"rowNumber\" style = \"font-weight: bold; text-align: right;\">54</td><td style = \"text-align: right;\">0.240909</td><td style = \"text-align: right;\">0.379082</td><td style = \"text-align: left;\">[&quot;NVDA&quot;, &quot;MDT&quot;, &quot;AMD&quot;, &quot;PG&quot;, &quot;MO&quot;, &quot;PLD&quot;]</td><td style = \"text-align: left;\">[0.14443, 6.5487e-9, 0.729281, 0.126289, 1.69116e-9, 3.09402e-7]</td><td style = \"text-align: right;\">0.05</td></tr><tr><td class = \"rowNumber\" style = \"font-weight: bold; text-align: right;\">55</td><td style = \"text-align: right;\">0.245455</td><td style = \"text-align: right;\">0.386634</td><td style = \"text-align: left;\">[&quot;NVDA&quot;, &quot;MDT&quot;, &quot;AMD&quot;, &quot;PG&quot;, &quot;MO&quot;, &quot;PLD&quot;]</td><td style = \"text-align: left;\">[0.147326, 6.09845e-9, 0.747157, 0.105517, 1.39385e-9, 2.52377e-7]</td><td style = \"text-align: right;\">0.05</td></tr><tr><td class = \"rowNumber\" style = \"font-weight: bold; text-align: right;\">56</td><td style = \"text-align: right;\">0.25</td><td style = \"text-align: right;\">0.394228</td><td style = \"text-align: left;\">[&quot;NVDA&quot;, &quot;MDT&quot;, &quot;AMD&quot;, &quot;PG&quot;, &quot;MO&quot;, &quot;PLD&quot;]</td><td style = \"text-align: left;\">[0.150222, 5.82177e-9, 0.765032, 0.0847452, 1.19816e-9, 2.21852e-7]</td><td style = \"text-align: right;\">0.05</td></tr><tr><td class = \"rowNumber\" style = \"font-weight: bold; text-align: right;\">57</td><td style = \"text-align: right;\">0.254545</td><td style = \"text-align: right;\">0.401862</td><td style = \"text-align: left;\">[&quot;NVDA&quot;, &quot;MDT&quot;, &quot;AMD&quot;, &quot;PG&quot;, &quot;MO&quot;, &quot;PLD&quot;]</td><td style = \"text-align: left;\">[0.153118, -9.48432e-9, 0.782908, 0.0639735, -9.62802e-9, -5.86389e-9]</td><td style = \"text-align: right;\">0.05</td></tr><tr><td class = \"rowNumber\" style = \"font-weight: bold; text-align: right;\">58</td><td style = \"text-align: right;\">0.259091</td><td style = \"text-align: right;\">0.409532</td><td style = \"text-align: left;\">[&quot;NVDA&quot;, &quot;MDT&quot;, &quot;AMD&quot;, &quot;PG&quot;, &quot;MO&quot;, &quot;PLD&quot;]</td><td style = \"text-align: left;\">[0.156015, 2.56889e-9, 0.800784, 0.0432014, -9.29485e-10, 8.82012e-8]</td><td style = \"text-align: right;\">0.05</td></tr><tr><td class = \"rowNumber\" style = \"font-weight: bold; text-align: right;\">59</td><td style = \"text-align: right;\">0.263636</td><td style = \"text-align: right;\">0.417238</td><td style = \"text-align: left;\">[&quot;NVDA&quot;, &quot;MDT&quot;, &quot;AMD&quot;, &quot;PG&quot;, &quot;MO&quot;, &quot;PLD&quot;]</td><td style = \"text-align: left;\">[0.158911, 2.23432e-9, 0.81866, 0.0224295, -1.16713e-9, 8.33052e-8]</td><td style = \"text-align: right;\">0.05</td></tr><tr><td class = \"rowNumber\" style = \"font-weight: bold; text-align: right;\">60</td><td style = \"text-align: right;\">0.268182</td><td style = \"text-align: right;\">0.424977</td><td style = \"text-align: left;\">[&quot;NVDA&quot;, &quot;MDT&quot;, &quot;AMD&quot;, &quot;PG&quot;, &quot;MO&quot;, &quot;PLD&quot;]</td><td style = \"text-align: left;\">[0.161799, 1.91677e-9, 0.836539, 0.00166229, -1.39287e-9, 7.88702e-8]</td><td style = \"text-align: right;\">0.05</td></tr><tr><td class = \"rowNumber\" style = \"font-weight: bold; text-align: right;\">61</td><td style = \"text-align: right;\">0.272727</td><td style = \"text-align: right;\">0.432934</td><td style = \"text-align: left;\">[&quot;NVDA&quot;, &quot;MDT&quot;, &quot;AMD&quot;, &quot;PG&quot;, &quot;MO&quot;, &quot;PLD&quot;]</td><td style = \"text-align: left;\">[0.131613, 4.35546e-10, 0.868387, 1.54063e-7, -2.3775e-9, 4.73857e-8]</td><td style = \"text-align: right;\">0.05</td></tr><tr><td class = \"rowNumber\" style = \"font-weight: bold; text-align: right;\">62</td><td style = \"text-align: right;\">0.277273</td><td style = \"text-align: right;\">0.441343</td><td style = \"text-align: left;\">[&quot;NVDA&quot;, &quot;MDT&quot;, &quot;AMD&quot;, &quot;PG&quot;, &quot;MO&quot;, &quot;PLD&quot;]</td><td style = \"text-align: left;\">[0.098549, -7.05763e-10, 0.901451, 1.20094e-7, -3.16073e-9, 3.73751e-8]</td><td style = \"text-align: right;\">0.05</td></tr><tr><td class = \"rowNumber\" style = \"font-weight: bold; text-align: right;\">63</td><td style = \"text-align: right;\">0.281818</td><td style = \"text-align: right;\">0.450181</td><td style = \"text-align: left;\">[&quot;NVDA&quot;, &quot;MDT&quot;, &quot;AMD&quot;, &quot;PG&quot;, &quot;MO&quot;, &quot;PLD&quot;]</td><td style = \"text-align: left;\">[0.0654855, -1.74746e-9, 0.934514, 4.04102e-8, -3.86976e-9, 2.29039e-8]</td><td style = \"text-align: right;\">0.05</td></tr><tr><td class = \"rowNumber\" style = \"font-weight: bold; text-align: right;\">64</td><td style = \"text-align: right;\">0.286364</td><td style = \"text-align: right;\">0.459423</td><td style = \"text-align: left;\">[&quot;NVDA&quot;, &quot;MDT&quot;, &quot;AMD&quot;, &quot;PG&quot;, &quot;MO&quot;, &quot;PLD&quot;]</td><td style = \"text-align: left;\">[0.0324218, -2.49946e-9, 0.967578, 2.916e-8, -4.39824e-9, 1.76938e-8]</td><td style = \"text-align: right;\">0.05</td></tr></tbody></table></div>"
      ],
      "text/latex": [
       "\\begin{tabular}{r|ccccc}\n",
       "\t& expected\\_excess\\_return & risk & tickers & w & \\\\\n",
       "\t\\hline\n",
       "\t& Float64 & Float64 & Array… & Array… & \\\\\n",
       "\t\\hline\n",
       "\t1 & 1.43946e-7 & 0.15205 & [\"NVDA\", \"MDT\", \"AMD\", \"PG\", \"MO\", \"PLD\"] & [1.25973e-7, 0.163492, 2.041e-7, 0.526952, 0.182744, 0.126812] & $\\dots$ \\\\\n",
       "\t2 & 0.00454553 & 0.152389 & [\"NVDA\", \"MDT\", \"AMD\", \"PG\", \"MO\", \"PLD\"] & [1.43311e-7, 0.152205, 3.11878e-7, 0.541592, 0.166631, 0.139571] & $\\dots$ \\\\\n",
       "\t3 & 0.0090909 & 0.152906 & [\"NVDA\", \"MDT\", \"AMD\", \"PG\", \"MO\", \"PLD\"] & [-3.00804e-9, 0.140918, 1.50331e-8, 0.556233, 0.150519, 0.15233] & $\\dots$ \\\\\n",
       "\t4 & 0.0136364 & 0.153602 & [\"NVDA\", \"MDT\", \"AMD\", \"PG\", \"MO\", \"PLD\"] & [-1.79631e-9, 0.129631, 4.45449e-7, 0.570874, 0.134406, 0.165089] & $\\dots$ \\\\\n",
       "\t5 & 0.0181818 & 0.154445 & [\"NVDA\", \"MDT\", \"AMD\", \"PG\", \"MO\", \"PLD\"] & [2.12656e-7, 0.120293, 0.00527865, 0.579719, 0.123312, 0.171397] & $\\dots$ \\\\\n",
       "\t6 & 0.0227273 & 0.155387 & [\"NVDA\", \"MDT\", \"AMD\", \"PG\", \"MO\", \"PLD\"] & [2.38957e-7, 0.111319, 0.0115415, 0.587484, 0.113155, 0.176501] & $\\dots$ \\\\\n",
       "\t7 & 0.0272728 & 0.156426 & [\"NVDA\", \"MDT\", \"AMD\", \"PG\", \"MO\", \"PLD\"] & [2.55663e-7, 0.102345, 0.0178048, 0.595248, 0.102998, 0.181604] & $\\dots$ \\\\\n",
       "\t8 & 0.0318182 & 0.157558 & [\"NVDA\", \"MDT\", \"AMD\", \"PG\", \"MO\", \"PLD\"] & [2.86795e-7, 0.0933715, 0.024068, 0.603012, 0.0928404, 0.186708] & $\\dots$ \\\\\n",
       "\t9 & 0.0363637 & 0.158782 & [\"NVDA\", \"MDT\", \"AMD\", \"PG\", \"MO\", \"PLD\"] & [3.39804e-7, 0.0843978, 0.0303313, 0.610776, 0.0826833, 0.191812] & $\\dots$ \\\\\n",
       "\t10 & 0.0409091 & 0.160096 & [\"NVDA\", \"MDT\", \"AMD\", \"PG\", \"MO\", \"PLD\"] & [4.54293e-7, 0.0754241, 0.0365946, 0.61854, 0.0725263, 0.196915] & $\\dots$ \\\\\n",
       "\t11 & 0.0454546 & 0.161498 & [\"NVDA\", \"MDT\", \"AMD\", \"PG\", \"MO\", \"PLD\"] & [7.6666e-7, 0.0664504, 0.0428579, 0.626303, 0.0623692, 0.202018] & $\\dots$ \\\\\n",
       "\t12 & 0.05 & 0.162985 & [\"NVDA\", \"MDT\", \"AMD\", \"PG\", \"MO\", \"PLD\"] & [1.74786e-6, 0.0574766, 0.0491209, 0.634067, 0.0522123, 0.207121] & $\\dots$ \\\\\n",
       "\t13 & 0.0545454 & 0.164556 & [\"NVDA\", \"MDT\", \"AMD\", \"PG\", \"MO\", \"PLD\"] & [1.27204e-8, 0.0485029, 0.0553847, 0.641832, 0.0420549, 0.212226] & $\\dots$ \\\\\n",
       "\t14 & 0.0590909 & 0.166207 & [\"NVDA\", \"MDT\", \"AMD\", \"PG\", \"MO\", \"PLD\"] & [6.52009e-7, 0.0395293, 0.061648, 0.649595, 0.031898, 0.217329] & $\\dots$ \\\\\n",
       "\t15 & 0.0636364 & 0.167937 & [\"NVDA\", \"MDT\", \"AMD\", \"PG\", \"MO\", \"PLD\"] & [1.033e-6, 0.0305555, 0.0679113, 0.657359, 0.021741, 0.222432] & $\\dots$ \\\\\n",
       "\t16 & 0.0681818 & 0.169742 & [\"NVDA\", \"MDT\", \"AMD\", \"PG\", \"MO\", \"PLD\"] & [4.31921e-6, 0.0215812, 0.0741738, 0.665122, 0.0115848, 0.227534] & $\\dots$ \\\\\n",
       "\t17 & 0.0727273 & 0.171621 & [\"NVDA\", \"MDT\", \"AMD\", \"PG\", \"MO\", \"PLD\"] & [5.86539e-8, 0.0126047, 0.0804391, 0.672887, 0.0014299, 0.232639] & $\\dots$ \\\\\n",
       "\t18 & 0.0772727 & 0.173601 & [\"NVDA\", \"MDT\", \"AMD\", \"PG\", \"MO\", \"PLD\"] & [2.52499e-5, 2.01983e-6, 0.0920459, 0.674612, 8.68283e-7, 0.233314] & $\\dots$ \\\\\n",
       "\t19 & 0.0818182 & 0.17588 & [\"NVDA\", \"MDT\", \"AMD\", \"PG\", \"MO\", \"PLD\"] & [0.00379627, 4.26132e-7, 0.110041, 0.663569, 2.62799e-7, 0.222593] & $\\dots$ \\\\\n",
       "\t20 & 0.0863636 & 0.178501 & [\"NVDA\", \"MDT\", \"AMD\", \"PG\", \"MO\", \"PLD\"] & [0.00866003, 2.34602e-7, 0.127596, 0.652313, 1.51928e-7, 0.211431] & $\\dots$ \\\\\n",
       "\t21 & 0.0909091 & 0.181448 & [\"NVDA\", \"MDT\", \"AMD\", \"PG\", \"MO\", \"PLD\"] & [0.0135231, 1.59962e-7, 0.145151, 0.641057, 1.05135e-7, 0.200269] & $\\dots$ \\\\\n",
       "\t22 & 0.0954545 & 0.184706 & [\"NVDA\", \"MDT\", \"AMD\", \"PG\", \"MO\", \"PLD\"] & [0.018388, -4.8032e-9, 0.162705, 0.629801, -6.43572e-9, 0.189106] & $\\dots$ \\\\\n",
       "\t23 & 0.1 & 0.188258 & [\"NVDA\", \"MDT\", \"AMD\", \"PG\", \"MO\", \"PLD\"] & [0.0232545, 9.55432e-8, 0.180259, 0.618544, 6.29675e-8, 0.177943] & $\\dots$ \\\\\n",
       "\t24 & 0.104545 & 0.192089 & [\"NVDA\", \"MDT\", \"AMD\", \"PG\", \"MO\", \"PLD\"] & [0.0281196, 7.8731e-8, 0.197813, 0.607287, 5.1671e-8, 0.16678] & $\\dots$ \\\\\n",
       "\t$\\dots$ & $\\dots$ & $\\dots$ & $\\dots$ & $\\dots$ &  \\\\\n",
       "\\end{tabular}\n"
      ],
      "text/plain": [
       "\u001b[1m64×5 DataFrame\u001b[0m\n",
       "\u001b[1m Row \u001b[0m│\u001b[1m expected_excess_return \u001b[0m\u001b[1m risk     \u001b[0m\u001b[1m tickers                           \u001b[0m\u001b[1m w \u001b[0m ⋯\n",
       "     │\u001b[90m Float64                \u001b[0m\u001b[90m Float64  \u001b[0m\u001b[90m Array…                            \u001b[0m\u001b[90m Ar\u001b[0m ⋯\n",
       "─────┼──────────────────────────────────────────────────────────────────────────\n",
       "   1 │             1.43946e-7  0.15205   [\"NVDA\", \"MDT\", \"AMD\", \"PG\", \"MO…  [1 ⋯\n",
       "   2 │             0.00454553  0.152389  [\"NVDA\", \"MDT\", \"AMD\", \"PG\", \"MO…  [1\n",
       "   3 │             0.0090909   0.152906  [\"NVDA\", \"MDT\", \"AMD\", \"PG\", \"MO…  [-\n",
       "   4 │             0.0136364   0.153602  [\"NVDA\", \"MDT\", \"AMD\", \"PG\", \"MO…  [-\n",
       "   5 │             0.0181818   0.154445  [\"NVDA\", \"MDT\", \"AMD\", \"PG\", \"MO…  [2 ⋯\n",
       "   6 │             0.0227273   0.155387  [\"NVDA\", \"MDT\", \"AMD\", \"PG\", \"MO…  [2\n",
       "   7 │             0.0272728   0.156426  [\"NVDA\", \"MDT\", \"AMD\", \"PG\", \"MO…  [2\n",
       "   8 │             0.0318182   0.157558  [\"NVDA\", \"MDT\", \"AMD\", \"PG\", \"MO…  [2\n",
       "  ⋮  │           ⋮                ⋮                      ⋮                     ⋱\n",
       "  58 │             0.259091    0.409532  [\"NVDA\", \"MDT\", \"AMD\", \"PG\", \"MO…  [0 ⋯\n",
       "  59 │             0.263636    0.417238  [\"NVDA\", \"MDT\", \"AMD\", \"PG\", \"MO…  [0\n",
       "  60 │             0.268182    0.424977  [\"NVDA\", \"MDT\", \"AMD\", \"PG\", \"MO…  [0\n",
       "  61 │             0.272727    0.432934  [\"NVDA\", \"MDT\", \"AMD\", \"PG\", \"MO…  [0\n",
       "  62 │             0.277273    0.441343  [\"NVDA\", \"MDT\", \"AMD\", \"PG\", \"MO…  [0 ⋯\n",
       "  63 │             0.281818    0.450181  [\"NVDA\", \"MDT\", \"AMD\", \"PG\", \"MO…  [0\n",
       "  64 │             0.286364    0.459423  [\"NVDA\", \"MDT\", \"AMD\", \"PG\", \"MO…  [0\n",
       "\u001b[36m                                                   2 columns and 49 rows omitted\u001b[0m"
      ]
     },
     "metadata": {},
     "output_type": "display_data"
    }
   ],
   "source": [
    "efficient_frontier = load(joinpath(_PATH_TO_DATA,\n",
    "        \"EfficientFrontier-cesteam-PD1-CHEME-5660-Fall-2023.jld2\")) |> x->x[\"dataset\"]"
   ]
  },
  {
   "cell_type": "code",
   "execution_count": 92,
   "id": "7d160162",
   "metadata": {},
   "outputs": [
    {
     "data": {
      "text/plain": [
       "(0.2863636276792971, 64)"
      ]
     },
     "metadata": {},
     "output_type": "display_data"
    }
   ],
   "source": [
    "#Find the portfolio with the maximum expected excess returns\n",
    "\n",
    "findmax(efficient_frontier[!,\"expected_excess_return\"])"
   ]
  },
  {
   "cell_type": "markdown",
   "id": "d555e38d",
   "metadata": {},
   "source": [
    "We will use Portfolio 64. Using results from Lab 15b, we can find what is in this portfolio by sampling the array generated above "
   ]
  },
  {
   "cell_type": "code",
   "execution_count": 93,
   "id": "db2eb8eb",
   "metadata": {},
   "outputs": [
    {
     "name": "stdout",
     "output_type": "stream",
     "text": [
      "Portfolio #64 has an exected excess return of 0.2863636276792971 with risk = 0.4594230792505488. \n",
      "The risk free rate is 0.05%.\n"
     ]
    }
   ],
   "source": [
    "portfolio=64;\n",
    "expected_excess_return=efficient_frontier[portfolio, :expected_excess_return]\n",
    "risk=efficient_frontier[portfolio, :risk]\n",
    "tickers=efficient_frontier[portfolio, :tickers]\n",
    "w=efficient_frontier[portfolio, :w]\n",
    "risk_free_rate=efficient_frontier[portfolio, :risk_free_rate]\n",
    "\n",
    "println(\"Portfolio #$(portfolio) has an exected excess return of $(expected_excess_return) with risk = $(risk). \n",
    "The risk free rate is $(risk_free_rate)%.\")"
   ]
  },
  {
   "cell_type": "code",
   "execution_count": 95,
   "id": "91e5c537",
   "metadata": {},
   "outputs": [
    {
     "name": "stdout",
     "output_type": "stream",
     "text": [
      "NVDA forms 3.2421779736775127% of our portfolio\n",
      "MDT forms 0% of our portfolio\n",
      "AMD forms 96.75781803071864% of our portfolio\n",
      "PG forms 0% of our portfolio\n",
      "MO forms 0% of our portfolio\n",
      "PLD forms 0% of our portfolio\n"
     ]
    },
    {
     "data": {
      "text/html": [
       "<div><div style = \"float: left;\"><span>6×2 DataFrame</span></div><div style = \"clear: both;\"></div></div><div class = \"data-frame\" style = \"overflow-x: scroll;\"><table class = \"data-frame\" style = \"margin-bottom: 6px;\"><thead><tr class = \"header\"><th class = \"rowNumber\" style = \"font-weight: bold; text-align: right;\">Row</th><th style = \"text-align: left;\">tick</th><th style = \"text-align: left;\">alloc</th></tr><tr class = \"subheader headerLastRow\"><th class = \"rowNumber\" style = \"font-weight: bold; text-align: right;\"></th><th title = \"String\" style = \"text-align: left;\">String</th><th title = \"Float64\" style = \"text-align: left;\">Float64</th></tr></thead><tbody><tr><td class = \"rowNumber\" style = \"font-weight: bold; text-align: right;\">1</td><td style = \"text-align: left;\">NVDA</td><td style = \"text-align: right;\">0.0324218</td></tr><tr><td class = \"rowNumber\" style = \"font-weight: bold; text-align: right;\">2</td><td style = \"text-align: left;\">MDT</td><td style = \"text-align: right;\">-2.49946e-9</td></tr><tr><td class = \"rowNumber\" style = \"font-weight: bold; text-align: right;\">3</td><td style = \"text-align: left;\">AMD</td><td style = \"text-align: right;\">0.967578</td></tr><tr><td class = \"rowNumber\" style = \"font-weight: bold; text-align: right;\">4</td><td style = \"text-align: left;\">PG</td><td style = \"text-align: right;\">2.916e-8</td></tr><tr><td class = \"rowNumber\" style = \"font-weight: bold; text-align: right;\">5</td><td style = \"text-align: left;\">MO</td><td style = \"text-align: right;\">-4.39824e-9</td></tr><tr><td class = \"rowNumber\" style = \"font-weight: bold; text-align: right;\">6</td><td style = \"text-align: left;\">PLD</td><td style = \"text-align: right;\">1.76938e-8</td></tr></tbody></table></div>"
      ],
      "text/latex": [
       "\\begin{tabular}{r|cc}\n",
       "\t& tick & alloc\\\\\n",
       "\t\\hline\n",
       "\t& String & Float64\\\\\n",
       "\t\\hline\n",
       "\t1 & NVDA & 0.0324218 \\\\\n",
       "\t2 & MDT & -2.49946e-9 \\\\\n",
       "\t3 & AMD & 0.967578 \\\\\n",
       "\t4 & PG & 2.916e-8 \\\\\n",
       "\t5 & MO & -4.39824e-9 \\\\\n",
       "\t6 & PLD & 1.76938e-8 \\\\\n",
       "\\end{tabular}\n"
      ],
      "text/plain": [
       "\u001b[1m6×2 DataFrame\u001b[0m\n",
       "\u001b[1m Row \u001b[0m│\u001b[1m tick   \u001b[0m\u001b[1m alloc       \u001b[0m\n",
       "     │\u001b[90m String \u001b[0m\u001b[90m Float64     \u001b[0m\n",
       "─────┼─────────────────────\n",
       "   1 │ NVDA     0.0324218\n",
       "   2 │ MDT     -2.49946e-9\n",
       "   3 │ AMD      0.967578\n",
       "   4 │ PG       2.916e-8\n",
       "   5 │ MO      -4.39824e-9\n",
       "   6 │ PLD      1.76938e-8"
      ]
     },
     "metadata": {},
     "output_type": "display_data"
    }
   ],
   "source": [
    "q=0\n",
    "for item in efficient_frontier[portfolio, :tickers]\n",
    "    q+=1\n",
    "    if w[q]<0.00001\n",
    "        weight=0 \n",
    "    else\n",
    "        weight=w[q]*100\n",
    "    end\n",
    "    println(\"$item forms $weight% of our portfolio\")\n",
    "end\n",
    "\n",
    "#Now put into dataframe form, similar to Lab15b. Adjust values that are low (aribtary) to 0% allocation\n",
    "\n",
    "new_df=DataFrame();\n",
    "for element in eachindex(w)\n",
    "    weight_element=w[element]\n",
    "    row_df=(\n",
    "        tick=tickers[element],\n",
    "        alloc=weight_element\n",
    "    )\n",
    "    push!(new_df, row_df)\n",
    "end\n",
    "\n",
    "\n",
    "new_df"
   ]
  },
  {
   "cell_type": "markdown",
   "id": "0c17aa64",
   "metadata": {},
   "source": [
    "We now need to know how many shares we purchased of each stock:"
   ]
  },
  {
   "cell_type": "code",
   "execution_count": 97,
   "id": "73aa9f94",
   "metadata": {},
   "outputs": [
    {
     "data": {
      "text/plain": [
       "6-element Vector{Float64}:\n",
       " 143.15\n",
       "  78.26\n",
       "  64.02\n",
       " 151.57\n",
       "  45.52\n",
       " 112.69"
      ]
     },
     "metadata": {},
     "output_type": "display_data"
    }
   ],
   "source": [
    "# From Lab15b\n",
    "price_initial=Array{Float64,1}();\n",
    "for stock in tickers\n",
    "    price_df=dataset[stock]\n",
    "    price=filter(:timestamp=> y-> y>= startdate, price_df) |> y-> y[1,:close]\n",
    "    push!(price_initial, price)\n",
    "end\n",
    "\n",
    "price_initial"
   ]
  },
  {
   "cell_type": "code",
   "execution_count": 103,
   "id": "efc332f4",
   "metadata": {},
   "outputs": [
    {
     "data": {
      "text/plain": [
       "6-element Vector{Float64}:\n",
       " 0.032421779736775125\n",
       " 0.0\n",
       " 0.9675781803071863\n",
       " 0.0\n",
       " 0.0\n",
       " 0.0"
      ]
     },
     "metadata": {},
     "output_type": "display_data"
    }
   ],
   "source": [
    "q=0\n",
    "weight_initial=Array{Float64,1}();\n",
    "for item in efficient_frontier[portfolio, :tickers]\n",
    "    q+=1\n",
    "    if w[q]<0.00001\n",
    "        weight=0 \n",
    "        push!(weight_initial, weight)\n",
    "    else\n",
    "        weight=w[q]\n",
    "    push!(weight_initial, weight)\n",
    "    end\n",
    "end\n",
    "\n",
    "weight_initial"
   ]
  },
  {
   "cell_type": "code",
   "execution_count": 104,
   "id": "b1849e56",
   "metadata": {},
   "outputs": [
    {
     "name": "stdout",
     "output_type": "stream",
     "text": [
      "For ticker NVDA, we will allocate 1.5151299095009132e6 to purchase 10584.21173245486 shares\n",
      "For ticker MDT, we will allocate 0.0 to purchase 0.0 shares\n",
      "For ticker AMD, we will allocate 4.521672322327929e7 to purchase 706290.5845560652 shares\n",
      "For ticker PG, we will allocate 0.0 to purchase 0.0 shares\n",
      "For ticker MO, we will allocate 0.0 to purchase 0.0 shares\n",
      "For ticker PLD, we will allocate 0.0 to purchase 0.0 shares\n"
     ]
    },
    {
     "data": {
      "text/plain": [
       "6-element Vector{Float64}:\n",
       "  10584.21173245486\n",
       "      0.0\n",
       " 706290.5845560652\n",
       "      0.0\n",
       "      0.0\n",
       "      0.0"
      ]
     },
     "metadata": {},
     "output_type": "display_data"
    }
   ],
   "source": [
    "tickers_df = efficient_frontier[portfolio, :tickers];\n",
    "m=0\n",
    "for i in efficient_frontier[portfolio, :tickers]\n",
    "    m+=1\n",
    "    allocate=budget*weight_initial[m]\n",
    "    shares=allocate/price_initial[m]\n",
    "    println(\"For ticker $i, we will allocate $allocate to purchase $shares shares\")\n",
    "end\n",
    "\n",
    "shares_initial=Array{Float64, 1}()\n",
    "for element in eachindex(w) \n",
    "    w_naught=w[element]\n",
    "    if w_naught<0.0001\n",
    "        n_naught=0.0\n",
    "    else\n",
    "        n_naught=(w_naught*budget)/price_initial[element]\n",
    "    end\n",
    "    push!(shares_initial,n_naught)\n",
    "end\n",
    "\n",
    "shares_initial"
   ]
  },
  {
   "cell_type": "code",
   "execution_count": 105,
   "id": "bfb21c02",
   "metadata": {},
   "outputs": [
    {
     "data": {
      "text/html": [
       "<div><div style = \"float: left;\"><span>6×2 DataFrame</span></div><div style = \"clear: both;\"></div></div><div class = \"data-frame\" style = \"overflow-x: scroll;\"><table class = \"data-frame\" style = \"margin-bottom: 6px;\"><thead><tr class = \"header\"><th class = \"rowNumber\" style = \"font-weight: bold; text-align: right;\">Row</th><th style = \"text-align: left;\">tick</th><th style = \"text-align: left;\">alloc</th></tr><tr class = \"subheader headerLastRow\"><th class = \"rowNumber\" style = \"font-weight: bold; text-align: right;\"></th><th title = \"String\" style = \"text-align: left;\">String</th><th title = \"Float64\" style = \"text-align: left;\">Float64</th></tr></thead><tbody><tr><td class = \"rowNumber\" style = \"font-weight: bold; text-align: right;\">1</td><td style = \"text-align: left;\">NVDA</td><td style = \"text-align: right;\">0.0324218</td></tr><tr><td class = \"rowNumber\" style = \"font-weight: bold; text-align: right;\">2</td><td style = \"text-align: left;\">MDT</td><td style = \"text-align: right;\">-2.49946e-9</td></tr><tr><td class = \"rowNumber\" style = \"font-weight: bold; text-align: right;\">3</td><td style = \"text-align: left;\">AMD</td><td style = \"text-align: right;\">0.967578</td></tr><tr><td class = \"rowNumber\" style = \"font-weight: bold; text-align: right;\">4</td><td style = \"text-align: left;\">PG</td><td style = \"text-align: right;\">2.916e-8</td></tr><tr><td class = \"rowNumber\" style = \"font-weight: bold; text-align: right;\">5</td><td style = \"text-align: left;\">MO</td><td style = \"text-align: right;\">-4.39824e-9</td></tr><tr><td class = \"rowNumber\" style = \"font-weight: bold; text-align: right;\">6</td><td style = \"text-align: left;\">PLD</td><td style = \"text-align: right;\">1.76938e-8</td></tr></tbody></table></div>"
      ],
      "text/latex": [
       "\\begin{tabular}{r|cc}\n",
       "\t& tick & alloc\\\\\n",
       "\t\\hline\n",
       "\t& String & Float64\\\\\n",
       "\t\\hline\n",
       "\t1 & NVDA & 0.0324218 \\\\\n",
       "\t2 & MDT & -2.49946e-9 \\\\\n",
       "\t3 & AMD & 0.967578 \\\\\n",
       "\t4 & PG & 2.916e-8 \\\\\n",
       "\t5 & MO & -4.39824e-9 \\\\\n",
       "\t6 & PLD & 1.76938e-8 \\\\\n",
       "\\end{tabular}\n"
      ],
      "text/plain": [
       "\u001b[1m6×2 DataFrame\u001b[0m\n",
       "\u001b[1m Row \u001b[0m│\u001b[1m tick   \u001b[0m\u001b[1m alloc       \u001b[0m\n",
       "     │\u001b[90m String \u001b[0m\u001b[90m Float64     \u001b[0m\n",
       "─────┼─────────────────────\n",
       "   1 │ NVDA     0.0324218\n",
       "   2 │ MDT     -2.49946e-9\n",
       "   3 │ AMD      0.967578\n",
       "   4 │ PG       2.916e-8\n",
       "   5 │ MO      -4.39824e-9\n",
       "   6 │ PLD      1.76938e-8"
      ]
     },
     "metadata": {},
     "output_type": "display_data"
    }
   ],
   "source": [
    "new_df"
   ]
  },
  {
   "cell_type": "markdown",
   "id": "089e2be2",
   "metadata": {},
   "source": [
    "### Task Two: Ongoing Reallocation & Visualization"
   ]
  },
  {
   "cell_type": "code",
   "execution_count": 106,
   "id": "8e71c061",
   "metadata": {},
   "outputs": [],
   "source": [
    "trading_days= 229 # Difference between Jan 3 and Dec 1 of 2023, with weekends and holidays removed\n",
    "learning_rate= 0.01\n",
    "μ = mean(all_firms_return_matrix, dims=1) |> vec;"
   ]
  },
  {
   "cell_type": "code",
   "execution_count": 107,
   "id": "c40e7a69",
   "metadata": {},
   "outputs": [],
   "source": [
    "return_all= log_return_matrix(dataset, all_tickers, \n",
    "    Δt = (1.0/229));"
   ]
  },
  {
   "cell_type": "code",
   "execution_count": 108,
   "id": "edcba7d9",
   "metadata": {},
   "outputs": [],
   "source": [
    "# Vital parameters for model, adapted from Do Not Edit block in lab15b\n",
    "\n",
    "firm_ids=Array{Int64, 1}();\n",
    "for item in tickers\n",
    "    firm_index = findfirst(e->e==item,all_tickers);\n",
    "    push!(firm_ids,firm_index)\n",
    "end\n",
    "\n",
    "μ̂=Array{Float64, 1}();\n",
    "for index in firm_ids\n",
    "    push!(μ̂, μ[index])\n",
    "end\n",
    "\n",
    "firms_l=length(firm_ids)\n",
    "Σ̂=Array{Float64, 2}(undef, firms_l, firms_l)\n",
    "for element in eachindex(firm_ids)\n",
    "    row_ele=firm_ids[element]\n",
    "    for j in eachindex(firm_ids)\n",
    "        col_ele=firm_ids[element]\n",
    "        Σ̂[element,j]=Σ_sim[row_ele, col_ele]\n",
    "    end\n",
    "end"
   ]
  },
  {
   "cell_type": "code",
   "execution_count": 109,
   "id": "91ecf2a4",
   "metadata": {},
   "outputs": [
    {
     "data": {
      "text/plain": [
       "MyMarkowitzRiskyAssetOnlyPortfiolioChoiceProblem([0.19326497300902687 0.19326497300902687 … 0.19326497300902687 0.19326497300902687; 0.05664232021858108 0.05664232021858108 … 0.05664232021858108 0.05664232021858108; … ; 0.06603368309507902 0.06603368309507902 … 0.06603368309507902 0.06603368309507902; 0.06759084426302178 0.06759084426302178 … 0.06759084426302178 0.06759084426302178], [0.37063630470249115, -0.008698840120772067, 0.39484424394730505, 0.08830332442862965, -0.08589290022954695, 0.10327032988027825], [0.0 1.0; 0.0 1.0; … ; 0.0 1.0; 0.0 1.0], 0.0, [0.032421779736775125, -2.4994641898163153e-9, 0.9675781803071863, 2.9159955151633482e-8, -4.398235672337897e-9, 1.769378326886674e-8])"
      ]
     },
     "metadata": {},
     "output_type": "display_data"
    }
   ],
   "source": [
    "firms_picked=length(tickers)\n",
    "bounds=zeros(firms_picked,2)\n",
    "bounds[:,2].=1.0;#direct from 15b\n",
    "\n",
    "sim_initial=build(MyMarkowitzRiskyAssetOnlyPortfiolioChoiceProblem, (\n",
    "    Σ = Σ̂,\n",
    "    μ = μ̂,\n",
    "    bounds = bounds,\n",
    "    initial=w,\n",
    "    R=0.0\n",
    "))\n"
   ]
  },
  {
   "cell_type": "code",
   "execution_count": 110,
   "metadata": {},
   "outputs": [
    {
     "data": {
      "text/plain": [
       "2:230"
      ]
     },
     "metadata": {},
     "output_type": "display_data"
    }
   ],
   "source": [
    "2:(trading_days+1)"
   ]
  },
  {
   "cell_type": "code",
   "execution_count": 111,
   "id": "1985d697",
   "metadata": {},
   "outputs": [
    {
     "data": {
      "text/plain": [
       "Queue{Vector{Float64}}(Deque [[[159.09, 78.89, 68.05, 151.89, 45.99, 116.05], [159.09, 78.89, 68.05, 151.89, 45.99, 116.05], [159.09, 78.89, 68.05, 151.89, 45.99, 116.05], [159.09, 78.89, 68.05, 151.89, 45.99, 116.05], [159.09, 78.89, 68.05, 151.89, 45.99, 116.05], [159.09, 78.89, 68.05, 151.89, 45.99, 116.05], [159.09, 78.89, 68.05, 151.89, 45.99, 116.05], [159.09, 78.89, 68.05, 151.89, 45.99, 116.05], [159.09, 78.89, 68.05, 151.89, 45.99, 116.05], [159.09, 78.89, 68.05, 151.89, 45.99, 116.05], [159.09, 78.89, 68.05, 151.89, 45.99, 116.05], [159.09, 78.89, 68.05, 151.89, 45.99, 116.05], [159.09, 78.89, 68.05, 151.89, 45.99, 116.05], [159.09, 78.89, 68.05, 151.89, 45.99, 116.05], [159.09, 78.89, 68.05, 151.89, 45.99, 116.05], [159.09, 78.89, 68.05, 151.89, 45.99, 116.05], [159.09, 78.89, 68.05, 151.89, 45.99, 116.05], [159.09, 78.89, 68.05, 151.89, 45.99, 116.05], [159.09, 78.89, 68.05, 151.89, 45.99, 116.05], [159.09, 78.89, 68.05, 151.89, 45.99, 116.05], [159.09, 78.89, 68.05, 151.89, 45.99, 116.05], [159.09, 78.89, 68.05, 151.89, 45.99, 116.05], [159.09, 78.89, 68.05, 151.89, 45.99, 116.05], [159.09, 78.89, 68.05, 151.89, 45.99, 116.05], [159.09, 78.89, 68.05, 151.89, 45.99, 116.05], [159.09, 78.89, 68.05, 151.89, 45.99, 116.05], [159.09, 78.89, 68.05, 151.89, 45.99, 116.05], [159.09, 78.89, 68.05, 151.89, 45.99, 116.05], [159.09, 78.89, 68.05, 151.89, 45.99, 116.05], [159.09, 78.89, 68.05, 151.89, 45.99, 116.05], [159.09, 78.89, 68.05, 151.89, 45.99, 116.05], [159.09, 78.89, 68.05, 151.89, 45.99, 116.05], [159.09, 78.89, 68.05, 151.89, 45.99, 116.05], [159.09, 78.89, 68.05, 151.89, 45.99, 116.05], [159.09, 78.89, 68.05, 151.89, 45.99, 116.05], [159.09, 78.89, 68.05, 151.89, 45.99, 116.05], [159.09, 78.89, 68.05, 151.89, 45.99, 116.05], [159.09, 78.89, 68.05, 151.89, 45.99, 116.05], [159.09, 78.89, 68.05, 151.89, 45.99, 116.05], [159.09, 78.89, 68.05, 151.89, 45.99, 116.05], [159.09, 78.89, 68.05, 151.89, 45.99, 116.05], [159.09, 78.89, 68.05, 151.89, 45.99, 116.05], [159.09, 78.89, 68.05, 151.89, 45.99, 116.05], [159.09, 78.89, 68.05, 151.89, 45.99, 116.05], [159.09, 78.89, 68.05, 151.89, 45.99, 116.05], [159.09, 78.89, 68.05, 151.89, 45.99, 116.05], [159.09, 78.89, 68.05, 151.89, 45.99, 116.05], [159.09, 78.89, 68.05, 151.89, 45.99, 116.05], [159.09, 78.89, 68.05, 151.89, 45.99, 116.05], [159.09, 78.89, 68.05, 151.89, 45.99, 116.05], [159.09, 78.89, 68.05, 151.89, 45.99, 116.05], [159.09, 78.89, 68.05, 151.89, 45.99, 116.05], [159.09, 78.89, 68.05, 151.89, 45.99, 116.05], [159.09, 78.89, 68.05, 151.89, 45.99, 116.05], [159.09, 78.89, 68.05, 151.89, 45.99, 116.05], [159.09, 78.89, 68.05, 151.89, 45.99, 116.05], [159.09, 78.89, 68.05, 151.89, 45.99, 116.05], [159.09, 78.89, 68.05, 151.89, 45.99, 116.05], [159.09, 78.89, 68.05, 151.89, 45.99, 116.05], [159.09, 78.89, 68.05, 151.89, 45.99, 116.05], [159.09, 78.89, 68.05, 151.89, 45.99, 116.05], [159.09, 78.89, 68.05, 151.89, 45.99, 116.05], [159.09, 78.89, 68.05, 151.89, 45.99, 116.05], [159.09, 78.89, 68.05, 151.89, 45.99, 116.05], [159.09, 78.89, 68.05, 151.89, 45.99, 116.05], [159.09, 78.89, 68.05, 151.89, 45.99, 116.05], [159.09, 78.89, 68.05, 151.89, 45.99, 116.05], [159.09, 78.89, 68.05, 151.89, 45.99, 116.05], [159.09, 78.89, 68.05, 151.89, 45.99, 116.05], [159.09, 78.89, 68.05, 151.89, 45.99, 116.05], [159.09, 78.89, 68.05, 151.89, 45.99, 116.05], [159.09, 78.89, 68.05, 151.89, 45.99, 116.05], [159.09, 78.89, 68.05, 151.89, 45.99, 116.05], [159.09, 78.89, 68.05, 151.89, 45.99, 116.05], [159.09, 78.89, 68.05, 151.89, 45.99, 116.05], [159.09, 78.89, 68.05, 151.89, 45.99, 116.05], [159.09, 78.89, 68.05, 151.89, 45.99, 116.05], [159.09, 78.89, 68.05, 151.89, 45.99, 116.05], [159.09, 78.89, 68.05, 151.89, 45.99, 116.05], [159.09, 78.89, 68.05, 151.89, 45.99, 116.05], [159.09, 78.89, 68.05, 151.89, 45.99, 116.05], [159.09, 78.89, 68.05, 151.89, 45.99, 116.05], [159.09, 78.89, 68.05, 151.89, 45.99, 116.05], [159.09, 78.89, 68.05, 151.89, 45.99, 116.05], [159.09, 78.89, 68.05, 151.89, 45.99, 116.05], [159.09, 78.89, 68.05, 151.89, 45.99, 116.05], [159.09, 78.89, 68.05, 151.89, 45.99, 116.05], [159.09, 78.89, 68.05, 151.89, 45.99, 116.05], [159.09, 78.89, 68.05, 151.89, 45.99, 116.05], [159.09, 78.89, 68.05, 151.89, 45.99, 116.05], [159.09, 78.89, 68.05, 151.89, 45.99, 116.05], [159.09, 78.89, 68.05, 151.89, 45.99, 116.05], [159.09, 78.89, 68.05, 151.89, 45.99, 116.05], [159.09, 78.89, 68.05, 151.89, 45.99, 116.05], [159.09, 78.89, 68.05, 151.89, 45.99, 116.05], [159.09, 78.89, 68.05, 151.89, 45.99, 116.05], [159.09, 78.89, 68.05, 151.89, 45.99, 116.05], [159.09, 78.89, 68.05, 151.89, 45.99, 116.05], [159.09, 78.89, 68.05, 151.89, 45.99, 116.05], [159.09, 78.89, 68.05, 151.89, 45.99, 116.05], [159.09, 78.89, 68.05, 151.89, 45.99, 116.05], [159.09, 78.89, 68.05, 151.89, 45.99, 116.05], [159.09, 78.89, 68.05, 151.89, 45.99, 116.05], [159.09, 78.89, 68.05, 151.89, 45.99, 116.05], [159.09, 78.89, 68.05, 151.89, 45.99, 116.05], [159.09, 78.89, 68.05, 151.89, 45.99, 116.05], [159.09, 78.89, 68.05, 151.89, 45.99, 116.05], [159.09, 78.89, 68.05, 151.89, 45.99, 116.05], [159.09, 78.89, 68.05, 151.89, 45.99, 116.05], [159.09, 78.89, 68.05, 151.89, 45.99, 116.05], [159.09, 78.89, 68.05, 151.89, 45.99, 116.05], [159.09, 78.89, 68.05, 151.89, 45.99, 116.05], [159.09, 78.89, 68.05, 151.89, 45.99, 116.05], [159.09, 78.89, 68.05, 151.89, 45.99, 116.05], [159.09, 78.89, 68.05, 151.89, 45.99, 116.05], [159.09, 78.89, 68.05, 151.89, 45.99, 116.05], [159.09, 78.89, 68.05, 151.89, 45.99, 116.05], [159.09, 78.89, 68.05, 151.89, 45.99, 116.05], [159.09, 78.89, 68.05, 151.89, 45.99, 116.05], [159.09, 78.89, 68.05, 151.89, 45.99, 116.05], [159.09, 78.89, 68.05, 151.89, 45.99, 116.05], [159.09, 78.89, 68.05, 151.89, 45.99, 116.05], [159.09, 78.89, 68.05, 151.89, 45.99, 116.05], [159.09, 78.89, 68.05, 151.89, 45.99, 116.05], [159.09, 78.89, 68.05, 151.89, 45.99, 116.05], [159.09, 78.89, 68.05, 151.89, 45.99, 116.05], [159.09, 78.89, 68.05, 151.89, 45.99, 116.05], [159.09, 78.89, 68.05, 151.89, 45.99, 116.05], [159.09, 78.89, 68.05, 151.89, 45.99, 116.05], [159.09, 78.89, 68.05, 151.89, 45.99, 116.05], [159.09, 78.89, 68.05, 151.89, 45.99, 116.05], [159.09, 78.89, 68.05, 151.89, 45.99, 116.05], [159.09, 78.89, 68.05, 151.89, 45.99, 116.05], [159.09, 78.89, 68.05, 151.89, 45.99, 116.05], [159.09, 78.89, 68.05, 151.89, 45.99, 116.05], [159.09, 78.89, 68.05, 151.89, 45.99, 116.05], [159.09, 78.89, 68.05, 151.89, 45.99, 116.05], [159.09, 78.89, 68.05, 151.89, 45.99, 116.05], [159.09, 78.89, 68.05, 151.89, 45.99, 116.05], [159.09, 78.89, 68.05, 151.89, 45.99, 116.05], [159.09, 78.89, 68.05, 151.89, 45.99, 116.05], [159.09, 78.89, 68.05, 151.89, 45.99, 116.05], [159.09, 78.89, 68.05, 151.89, 45.99, 116.05], [159.09, 78.89, 68.05, 151.89, 45.99, 116.05], [159.09, 78.89, 68.05, 151.89, 45.99, 116.05], [159.09, 78.89, 68.05, 151.89, 45.99, 116.05], [159.09, 78.89, 68.05, 151.89, 45.99, 116.05], [159.09, 78.89, 68.05, 151.89, 45.99, 116.05], [159.09, 78.89, 68.05, 151.89, 45.99, 116.05], [159.09, 78.89, 68.05, 151.89, 45.99, 116.05], [159.09, 78.89, 68.05, 151.89, 45.99, 116.05], [159.09, 78.89, 68.05, 151.89, 45.99, 116.05], [159.09, 78.89, 68.05, 151.89, 45.99, 116.05], [159.09, 78.89, 68.05, 151.89, 45.99, 116.05], [159.09, 78.89, 68.05, 151.89, 45.99, 116.05], [159.09, 78.89, 68.05, 151.89, 45.99, 116.05], [159.09, 78.89, 68.05, 151.89, 45.99, 116.05], [159.09, 78.89, 68.05, 151.89, 45.99, 116.05], [159.09, 78.89, 68.05, 151.89, 45.99, 116.05], [159.09, 78.89, 68.05, 151.89, 45.99, 116.05], [159.09, 78.89, 68.05, 151.89, 45.99, 116.05], [159.09, 78.89, 68.05, 151.89, 45.99, 116.05], [159.09, 78.89, 68.05, 151.89, 45.99, 116.05], [159.09, 78.89, 68.05, 151.89, 45.99, 116.05], [159.09, 78.89, 68.05, 151.89, 45.99, 116.05], [159.09, 78.89, 68.05, 151.89, 45.99, 116.05], [159.09, 78.89, 68.05, 151.89, 45.99, 116.05], [159.09, 78.89, 68.05, 151.89, 45.99, 116.05], [159.09, 78.89, 68.05, 151.89, 45.99, 116.05], [159.09, 78.89, 68.05, 151.89, 45.99, 116.05], [159.09, 78.89, 68.05, 151.89, 45.99, 116.05], [159.09, 78.89, 68.05, 151.89, 45.99, 116.05], [159.09, 78.89, 68.05, 151.89, 45.99, 116.05], [159.09, 78.89, 68.05, 151.89, 45.99, 116.05], [159.09, 78.89, 68.05, 151.89, 45.99, 116.05], [159.09, 78.89, 68.05, 151.89, 45.99, 116.05], [159.09, 78.89, 68.05, 151.89, 45.99, 116.05], [159.09, 78.89, 68.05, 151.89, 45.99, 116.05], [159.09, 78.89, 68.05, 151.89, 45.99, 116.05], [159.09, 78.89, 68.05, 151.89, 45.99, 116.05], [159.09, 78.89, 68.05, 151.89, 45.99, 116.05], [159.09, 78.89, 68.05, 151.89, 45.99, 116.05], [159.09, 78.89, 68.05, 151.89, 45.99, 116.05], [159.09, 78.89, 68.05, 151.89, 45.99, 116.05], [159.09, 78.89, 68.05, 151.89, 45.99, 116.05], [159.09, 78.89, 68.05, 151.89, 45.99, 116.05], [159.09, 78.89, 68.05, 151.89, 45.99, 116.05], [159.09, 78.89, 68.05, 151.89, 45.99, 116.05], [159.09, 78.89, 68.05, 151.89, 45.99, 116.05], [159.09, 78.89, 68.05, 151.89, 45.99, 116.05], [159.09, 78.89, 68.05, 151.89, 45.99, 116.05], [159.09, 78.89, 68.05, 151.89, 45.99, 116.05], [159.09, 78.89, 68.05, 151.89, 45.99, 116.05], [159.09, 78.89, 68.05, 151.89, 45.99, 116.05], [159.09, 78.89, 68.05, 151.89, 45.99, 116.05], [159.09, 78.89, 68.05, 151.89, 45.99, 116.05], [159.09, 78.89, 68.05, 151.89, 45.99, 116.05], [159.09, 78.89, 68.05, 151.89, 45.99, 116.05], [159.09, 78.89, 68.05, 151.89, 45.99, 116.05], [159.09, 78.89, 68.05, 151.89, 45.99, 116.05], [159.09, 78.89, 68.05, 151.89, 45.99, 116.05], [159.09, 78.89, 68.05, 151.89, 45.99, 116.05], [159.09, 78.89, 68.05, 151.89, 45.99, 116.05], [159.09, 78.89, 68.05, 151.89, 45.99, 116.05], [159.09, 78.89, 68.05, 151.89, 45.99, 116.05], [159.09, 78.89, 68.05, 151.89, 45.99, 116.05], [159.09, 78.89, 68.05, 151.89, 45.99, 116.05], [159.09, 78.89, 68.05, 151.89, 45.99, 116.05], [159.09, 78.89, 68.05, 151.89, 45.99, 116.05], [159.09, 78.89, 68.05, 151.89, 45.99, 116.05], [159.09, 78.89, 68.05, 151.89, 45.99, 116.05], [159.09, 78.89, 68.05, 151.89, 45.99, 116.05], [159.09, 78.89, 68.05, 151.89, 45.99, 116.05], [159.09, 78.89, 68.05, 151.89, 45.99, 116.05], [159.09, 78.89, 68.05, 151.89, 45.99, 116.05], [159.09, 78.89, 68.05, 151.89, 45.99, 116.05], [159.09, 78.89, 68.05, 151.89, 45.99, 116.05], [159.09, 78.89, 68.05, 151.89, 45.99, 116.05], [159.09, 78.89, 68.05, 151.89, 45.99, 116.05], [159.09, 78.89, 68.05, 151.89, 45.99, 116.05], [159.09, 78.89, 68.05, 151.89, 45.99, 116.05], [159.09, 78.89, 68.05, 151.89, 45.99, 116.05], [159.09, 78.89, 68.05, 151.89, 45.99, 116.05], [159.09, 78.89, 68.05, 151.89, 45.99, 116.05], [159.09, 78.89, 68.05, 151.89, 45.99, 116.05], [159.09, 78.89, 68.05, 151.89, 45.99, 116.05], [159.09, 78.89, 68.05, 151.89, 45.99, 116.05], [159.09, 78.89, 68.05, 151.89, 45.99, 116.05], [159.09, 78.89, 68.05, 151.89, 45.99, 116.05]]])"
      ]
     },
     "metadata": {},
     "output_type": "display_data"
    }
   ],
   "source": [
    "#Lab 15b instructs us to make a Queue data structure\n",
    "next_close=Queue{Vector{Float64}}();\n",
    "range=2:(trading_days+1);\n",
    "for element in range\n",
    "    price_arr=Array{Float64, 1}();\n",
    "    for ticker in tickers\n",
    "        price=dataset[ticker]\n",
    "        start=filter(:timestamp => x-> x >= startdate, price)|>x->x[i,:close] #direct 15b\n",
    "        push!(price_arr, start)\n",
    "    end \n",
    "\n",
    "    enqueue!(next_close, price_arr)\n",
    "end\n",
    "\n",
    "next_close"
   ]
  },
  {
   "cell_type": "code",
   "execution_count": 112,
   "id": "d866ec34",
   "metadata": {},
   "outputs": [
    {
     "data": {
      "text/plain": [
       "0.3578941178240921"
      ]
     },
     "metadata": {},
     "output_type": "display_data"
    }
   ],
   "source": [
    "min_return_goal=4*μ[spy_index]"
   ]
  },
  {
   "cell_type": "code",
   "execution_count": 113,
   "id": "8bdee2cb",
   "metadata": {},
   "outputs": [
    {
     "name": "stdout",
     "output_type": "stream",
     "text": [
      "0.113186281209304240.18818095754898120.18818095754898120.18818095754898120.18818095754898120.18818095754898120.18818095754898120.18818095754898120.18818095754898120.18818095754898120.18818095754898120.18818095754898120.18818095754898120.18818095754898120.18818095754898120.18818095754898120.18818095754898120.18818095754898120.18818095754898120.18818095754898120.18818095754898120.18818095754898120.18818095754898120.18818095754898120.18818095754898120.18818095754898120.18818095754898120.18818095754898120.18818095754898120.18818095754898120.18818095754898120.18818095754898120.18818095754898120.18818095754898120.18818095754898120.18818095754898120.18818095754898120.18818095754898120.18818095754898120.18818095754898120.18818095754898120.18818095754898120.18818095754898120.18818095754898120.18818095754898120.18818095754898120.18818095754898120.18818095754898120.18818095754898120.18818095754898120.18818095754898120.18818095754898120.18818095754898120.18818095754898120.18818095754898120.18818095754898120.18818095754898120.18818095754898120.18818095754898120.1881809575489812"
     ]
    },
    {
     "name": "stdout",
     "output_type": "stream",
     "text": [
      "0.18818095754898120.18818095754898120.18818095754898120.18818095754898120.18818095754898120.18818095754898120.18818095754898120.18818095754898120.18818095754898120.18818095754898120.18818095754898120.18818095754898120.18818095754898120.18818095754898120.18818095754898120.18818095754898120.18818095754898120.18818095754898120.18818095754898120.18818095754898120.18818095754898120.18818095754898120.18818095754898120.18818095754898120.18818095754898120.18818095754898120.18818095754898120.18818095754898120.18818095754898120.18818095754898120.18818095754898120.18818095754898120.18818095754898120.18818095754898120.18818095754898120.18818095754898120.18818095754898120.18818095754898120.18818095754898120.18818095754898120.18818095754898120.18818095754898120.18818095754898120.18818095754898120.18818095754898120.18818095754898120.18818095754898120.18818095754898120.18818095754898120.18818095754898120.18818095754898120.18818095754898120.18818095754898120.18818095754898120.18818095754898120.18818095754898120.18818095754898120.18818095754898120.18818095754898120.18818095754898120.18818095754898120.18818095754898120.18818095754898120.18818095754898120.18818095754898120.18818095754898120.18818095754898120.18818095754898120.18818095754898120.18818095754898120.18818095754898120.18818095754898120.18818095754898120.18818095754898120.18818095754898120.18818095754898120.18818095754898120.18818095754898120.18818095754898120.18818095754898120.18818095754898120.18818095754898120.18818095754898120.18818095754898120.18818095754898120.18818095754898120.18818095754898120.1881809575489812"
     ]
    },
    {
     "name": "stdout",
     "output_type": "stream",
     "text": [
      "0.18818095754898120.18818095754898120.18818095754898120.18818095754898120.18818095754898120.18818095754898120.18818095754898120.18818095754898120.18818095754898120.18818095754898120.18818095754898120.18818095754898120.18818095754898120.18818095754898120.18818095754898120.18818095754898120.18818095754898120.18818095754898120.18818095754898120.18818095754898120.18818095754898120.18818095754898120.18818095754898120.18818095754898120.18818095754898120.18818095754898120.18818095754898120.18818095754898120.18818095754898120.18818095754898120.18818095754898120.18818095754898120.18818095754898120.18818095754898120.18818095754898120.18818095754898120.18818095754898120.18818095754898120.18818095754898120.18818095754898120.18818095754898120.18818095754898120.18818095754898120.18818095754898120.18818095754898120.18818095754898120.18818095754898120.18818095754898120.18818095754898120.18818095754898120.18818095754898120.18818095754898120.18818095754898120.18818095754898120.18818095754898120.18818095754898120.18818095754898120.18818095754898120.18818095754898120.18818095754898120.18818095754898120.18818095754898120.18818095754898120.18818095754898120.18818095754898120.18818095754898120.18818095754898120.18818095754898120.18818095754898120.18818095754898120.18818095754898120.18818095754898120.18818095754898120.18818095754898120.18818095754898120.18818095754898120.18818095754898120.18818095754898120.18818095754898120.18818095754898120.1881809575489812"
     ]
    },
    {
     "data": {
      "text/html": [
       "<div><div style = \"float: left;\"><span>229×10 DataFrame</span></div><div style = \"float: right;\"><span style = \"font-style: italic;\">204 rows omitted</span></div><div style = \"clear: both;\"></div></div><div class = \"data-frame\" style = \"overflow-x: scroll;\"><table class = \"data-frame\" style = \"margin-bottom: 6px;\"><thead><tr class = \"header\"><th class = \"rowNumber\" style = \"font-weight: bold; text-align: right;\">Row</th><th style = \"text-align: left;\">N_updated</th><th style = \"text-align: left;\">N_previous</th><th style = \"text-align: left;\">w_previous</th><th style = \"text-align: left;\">w_updated</th><th style = \"text-align: left;\">μ_previous</th><th style = \"text-align: left;\">μ_updated</th><th style = \"text-align: left;\">previous_close</th><th style = \"text-align: left;\">updated_close</th><th style = \"text-align: left;\">liq_value</th><th style = \"text-align: left;\">risk</th></tr><tr class = \"subheader headerLastRow\"><th class = \"rowNumber\" style = \"font-weight: bold; text-align: right;\"></th><th title = \"Vector{Float64}\" style = \"text-align: left;\">Array…</th><th title = \"Vector{Float64}\" style = \"text-align: left;\">Array…</th><th title = \"Vector{Float64}\" style = \"text-align: left;\">Array…</th><th title = \"Vector{Float64}\" style = \"text-align: left;\">Array…</th><th title = \"Vector{Float64}\" style = \"text-align: left;\">Array…</th><th title = \"Vector{Float64}\" style = \"text-align: left;\">Array…</th><th title = \"Vector{Float64}\" style = \"text-align: left;\">Array…</th><th title = \"Vector{Float64}\" style = \"text-align: left;\">Array…</th><th title = \"Float64\" style = \"text-align: left;\">Float64</th><th title = \"Float64\" style = \"text-align: left;\">Float64</th></tr></thead><tbody><tr><td class = \"rowNumber\" style = \"font-weight: bold; text-align: right;\">1</td><td style = \"text-align: left;\">[1.53474e5, 0.029393, 0.0199795, 1.6677e5, 0.0256904, 0.143401]</td><td style = \"text-align: left;\">[10584.2, 0.0, 7.06291e5, 0.0, 0.0, 0.0]</td><td style = \"text-align: left;\">[0.0324218, -2.49946e-9, 0.967578, 2.916e-8, -4.39824e-9, 1.76938e-8]</td><td style = \"text-align: left;\">[0.490809, 4.66123e-8, 2.73304e-8, 0.509191, 2.37502e-8, 3.34526e-7]</td><td style = \"text-align: left;\">[0.370636, -0.00869884, 0.394844, 0.0883033, -0.0858929, 0.10327]</td><td style = \"text-align: left;\">[0.632984, 0.0115932, 0.544735, 0.092735, -0.059148, 0.176276]</td><td style = \"text-align: left;\">[143.15, 78.26, 64.02, 151.57, 45.52, 112.69]</td><td style = \"text-align: left;\">[159.09, 78.89, 68.05, 151.89, 45.99, 116.05]</td><td style = \"text-align: right;\">4.97469e7</td><td style = \"text-align: right;\">0.336432</td></tr><tr><td class = \"rowNumber\" style = \"font-weight: bold; text-align: right;\">2</td><td style = \"text-align: left;\">[302588.0, 0.0148545, 0.0582236, 10587.8, 0.0105152, 0.0419043]</td><td style = \"text-align: left;\">[10584.2, 0.0, 7.06291e5, 0.0, 0.0, 0.0]</td><td style = \"text-align: left;\">[0.0324218, -2.49946e-9, 0.967578, 2.916e-8, -4.39824e-9, 1.76938e-8]</td><td style = \"text-align: left;\">[0.967672, 2.35567e-8, 7.96454e-8, 0.0323273, 9.72111e-9, 9.77547e-8]</td><td style = \"text-align: left;\">[0.370636, -0.00869884, 0.394844, 0.0883033, -0.0858929, 0.10327]</td><td style = \"text-align: left;\">[0.36693, -0.00861185, 0.390896, 0.0874203, -0.085034, 0.102238]</td><td style = \"text-align: left;\">[159.09, 78.89, 68.05, 151.89, 45.99, 116.05]</td><td style = \"text-align: left;\">[159.09, 78.89, 68.05, 151.89, 45.99, 116.05]</td><td style = \"text-align: right;\">4.97469e7</td><td style = \"text-align: right;\">0.433798</td></tr><tr><td class = \"rowNumber\" style = \"font-weight: bold; text-align: right;\">3</td><td style = \"text-align: left;\">[302588.0, 0.0148545, 0.0582236, 10587.8, 0.0105152, 0.0419043]</td><td style = \"text-align: left;\">[10584.2, 0.0, 7.06291e5, 0.0, 0.0, 0.0]</td><td style = \"text-align: left;\">[0.0324218, -2.49946e-9, 0.967578, 2.916e-8, -4.39824e-9, 1.76938e-8]</td><td style = \"text-align: left;\">[0.967672, 2.35567e-8, 7.96454e-8, 0.0323273, 9.72111e-9, 9.77547e-8]</td><td style = \"text-align: left;\">[0.370636, -0.00869884, 0.394844, 0.0883033, -0.0858929, 0.10327]</td><td style = \"text-align: left;\">[0.36693, -0.00861185, 0.390896, 0.0874203, -0.085034, 0.102238]</td><td style = \"text-align: left;\">[159.09, 78.89, 68.05, 151.89, 45.99, 116.05]</td><td style = \"text-align: left;\">[159.09, 78.89, 68.05, 151.89, 45.99, 116.05]</td><td style = \"text-align: right;\">4.97469e7</td><td style = \"text-align: right;\">0.433798</td></tr><tr><td class = \"rowNumber\" style = \"font-weight: bold; text-align: right;\">4</td><td style = \"text-align: left;\">[302588.0, 0.0148545, 0.0582236, 10587.8, 0.0105152, 0.0419043]</td><td style = \"text-align: left;\">[10584.2, 0.0, 7.06291e5, 0.0, 0.0, 0.0]</td><td style = \"text-align: left;\">[0.0324218, -2.49946e-9, 0.967578, 2.916e-8, -4.39824e-9, 1.76938e-8]</td><td style = \"text-align: left;\">[0.967672, 2.35567e-8, 7.96454e-8, 0.0323273, 9.72111e-9, 9.77547e-8]</td><td style = \"text-align: left;\">[0.370636, -0.00869884, 0.394844, 0.0883033, -0.0858929, 0.10327]</td><td style = \"text-align: left;\">[0.36693, -0.00861185, 0.390896, 0.0874203, -0.085034, 0.102238]</td><td style = \"text-align: left;\">[159.09, 78.89, 68.05, 151.89, 45.99, 116.05]</td><td style = \"text-align: left;\">[159.09, 78.89, 68.05, 151.89, 45.99, 116.05]</td><td style = \"text-align: right;\">4.97469e7</td><td style = \"text-align: right;\">0.433798</td></tr><tr><td class = \"rowNumber\" style = \"font-weight: bold; text-align: right;\">5</td><td style = \"text-align: left;\">[302588.0, 0.0148545, 0.0582236, 10587.8, 0.0105152, 0.0419043]</td><td style = \"text-align: left;\">[10584.2, 0.0, 7.06291e5, 0.0, 0.0, 0.0]</td><td style = \"text-align: left;\">[0.0324218, -2.49946e-9, 0.967578, 2.916e-8, -4.39824e-9, 1.76938e-8]</td><td style = \"text-align: left;\">[0.967672, 2.35567e-8, 7.96454e-8, 0.0323273, 9.72111e-9, 9.77547e-8]</td><td style = \"text-align: left;\">[0.370636, -0.00869884, 0.394844, 0.0883033, -0.0858929, 0.10327]</td><td style = \"text-align: left;\">[0.36693, -0.00861185, 0.390896, 0.0874203, -0.085034, 0.102238]</td><td style = \"text-align: left;\">[159.09, 78.89, 68.05, 151.89, 45.99, 116.05]</td><td style = \"text-align: left;\">[159.09, 78.89, 68.05, 151.89, 45.99, 116.05]</td><td style = \"text-align: right;\">4.97469e7</td><td style = \"text-align: right;\">0.433798</td></tr><tr><td class = \"rowNumber\" style = \"font-weight: bold; text-align: right;\">6</td><td style = \"text-align: left;\">[302588.0, 0.0148545, 0.0582236, 10587.8, 0.0105152, 0.0419043]</td><td style = \"text-align: left;\">[10584.2, 0.0, 7.06291e5, 0.0, 0.0, 0.0]</td><td style = \"text-align: left;\">[0.0324218, -2.49946e-9, 0.967578, 2.916e-8, -4.39824e-9, 1.76938e-8]</td><td style = \"text-align: left;\">[0.967672, 2.35567e-8, 7.96454e-8, 0.0323273, 9.72111e-9, 9.77547e-8]</td><td style = \"text-align: left;\">[0.370636, -0.00869884, 0.394844, 0.0883033, -0.0858929, 0.10327]</td><td style = \"text-align: left;\">[0.36693, -0.00861185, 0.390896, 0.0874203, -0.085034, 0.102238]</td><td style = \"text-align: left;\">[159.09, 78.89, 68.05, 151.89, 45.99, 116.05]</td><td style = \"text-align: left;\">[159.09, 78.89, 68.05, 151.89, 45.99, 116.05]</td><td style = \"text-align: right;\">4.97469e7</td><td style = \"text-align: right;\">0.433798</td></tr><tr><td class = \"rowNumber\" style = \"font-weight: bold; text-align: right;\">7</td><td style = \"text-align: left;\">[302588.0, 0.0148545, 0.0582236, 10587.8, 0.0105152, 0.0419043]</td><td style = \"text-align: left;\">[10584.2, 0.0, 7.06291e5, 0.0, 0.0, 0.0]</td><td style = \"text-align: left;\">[0.0324218, -2.49946e-9, 0.967578, 2.916e-8, -4.39824e-9, 1.76938e-8]</td><td style = \"text-align: left;\">[0.967672, 2.35567e-8, 7.96454e-8, 0.0323273, 9.72111e-9, 9.77547e-8]</td><td style = \"text-align: left;\">[0.370636, -0.00869884, 0.394844, 0.0883033, -0.0858929, 0.10327]</td><td style = \"text-align: left;\">[0.36693, -0.00861185, 0.390896, 0.0874203, -0.085034, 0.102238]</td><td style = \"text-align: left;\">[159.09, 78.89, 68.05, 151.89, 45.99, 116.05]</td><td style = \"text-align: left;\">[159.09, 78.89, 68.05, 151.89, 45.99, 116.05]</td><td style = \"text-align: right;\">4.97469e7</td><td style = \"text-align: right;\">0.433798</td></tr><tr><td class = \"rowNumber\" style = \"font-weight: bold; text-align: right;\">8</td><td style = \"text-align: left;\">[302588.0, 0.0148545, 0.0582236, 10587.8, 0.0105152, 0.0419043]</td><td style = \"text-align: left;\">[10584.2, 0.0, 7.06291e5, 0.0, 0.0, 0.0]</td><td style = \"text-align: left;\">[0.0324218, -2.49946e-9, 0.967578, 2.916e-8, -4.39824e-9, 1.76938e-8]</td><td style = \"text-align: left;\">[0.967672, 2.35567e-8, 7.96454e-8, 0.0323273, 9.72111e-9, 9.77547e-8]</td><td style = \"text-align: left;\">[0.370636, -0.00869884, 0.394844, 0.0883033, -0.0858929, 0.10327]</td><td style = \"text-align: left;\">[0.36693, -0.00861185, 0.390896, 0.0874203, -0.085034, 0.102238]</td><td style = \"text-align: left;\">[159.09, 78.89, 68.05, 151.89, 45.99, 116.05]</td><td style = \"text-align: left;\">[159.09, 78.89, 68.05, 151.89, 45.99, 116.05]</td><td style = \"text-align: right;\">4.97469e7</td><td style = \"text-align: right;\">0.433798</td></tr><tr><td class = \"rowNumber\" style = \"font-weight: bold; text-align: right;\">9</td><td style = \"text-align: left;\">[302588.0, 0.0148545, 0.0582236, 10587.8, 0.0105152, 0.0419043]</td><td style = \"text-align: left;\">[10584.2, 0.0, 7.06291e5, 0.0, 0.0, 0.0]</td><td style = \"text-align: left;\">[0.0324218, -2.49946e-9, 0.967578, 2.916e-8, -4.39824e-9, 1.76938e-8]</td><td style = \"text-align: left;\">[0.967672, 2.35567e-8, 7.96454e-8, 0.0323273, 9.72111e-9, 9.77547e-8]</td><td style = \"text-align: left;\">[0.370636, -0.00869884, 0.394844, 0.0883033, -0.0858929, 0.10327]</td><td style = \"text-align: left;\">[0.36693, -0.00861185, 0.390896, 0.0874203, -0.085034, 0.102238]</td><td style = \"text-align: left;\">[159.09, 78.89, 68.05, 151.89, 45.99, 116.05]</td><td style = \"text-align: left;\">[159.09, 78.89, 68.05, 151.89, 45.99, 116.05]</td><td style = \"text-align: right;\">4.97469e7</td><td style = \"text-align: right;\">0.433798</td></tr><tr><td class = \"rowNumber\" style = \"font-weight: bold; text-align: right;\">10</td><td style = \"text-align: left;\">[302588.0, 0.0148545, 0.0582236, 10587.8, 0.0105152, 0.0419043]</td><td style = \"text-align: left;\">[10584.2, 0.0, 7.06291e5, 0.0, 0.0, 0.0]</td><td style = \"text-align: left;\">[0.0324218, -2.49946e-9, 0.967578, 2.916e-8, -4.39824e-9, 1.76938e-8]</td><td style = \"text-align: left;\">[0.967672, 2.35567e-8, 7.96454e-8, 0.0323273, 9.72111e-9, 9.77547e-8]</td><td style = \"text-align: left;\">[0.370636, -0.00869884, 0.394844, 0.0883033, -0.0858929, 0.10327]</td><td style = \"text-align: left;\">[0.36693, -0.00861185, 0.390896, 0.0874203, -0.085034, 0.102238]</td><td style = \"text-align: left;\">[159.09, 78.89, 68.05, 151.89, 45.99, 116.05]</td><td style = \"text-align: left;\">[159.09, 78.89, 68.05, 151.89, 45.99, 116.05]</td><td style = \"text-align: right;\">4.97469e7</td><td style = \"text-align: right;\">0.433798</td></tr><tr><td class = \"rowNumber\" style = \"font-weight: bold; text-align: right;\">11</td><td style = \"text-align: left;\">[302588.0, 0.0148545, 0.0582236, 10587.8, 0.0105152, 0.0419043]</td><td style = \"text-align: left;\">[10584.2, 0.0, 7.06291e5, 0.0, 0.0, 0.0]</td><td style = \"text-align: left;\">[0.0324218, -2.49946e-9, 0.967578, 2.916e-8, -4.39824e-9, 1.76938e-8]</td><td style = \"text-align: left;\">[0.967672, 2.35567e-8, 7.96454e-8, 0.0323273, 9.72111e-9, 9.77547e-8]</td><td style = \"text-align: left;\">[0.370636, -0.00869884, 0.394844, 0.0883033, -0.0858929, 0.10327]</td><td style = \"text-align: left;\">[0.36693, -0.00861185, 0.390896, 0.0874203, -0.085034, 0.102238]</td><td style = \"text-align: left;\">[159.09, 78.89, 68.05, 151.89, 45.99, 116.05]</td><td style = \"text-align: left;\">[159.09, 78.89, 68.05, 151.89, 45.99, 116.05]</td><td style = \"text-align: right;\">4.97469e7</td><td style = \"text-align: right;\">0.433798</td></tr><tr><td class = \"rowNumber\" style = \"font-weight: bold; text-align: right;\">12</td><td style = \"text-align: left;\">[302588.0, 0.0148545, 0.0582236, 10587.8, 0.0105152, 0.0419043]</td><td style = \"text-align: left;\">[10584.2, 0.0, 7.06291e5, 0.0, 0.0, 0.0]</td><td style = \"text-align: left;\">[0.0324218, -2.49946e-9, 0.967578, 2.916e-8, -4.39824e-9, 1.76938e-8]</td><td style = \"text-align: left;\">[0.967672, 2.35567e-8, 7.96454e-8, 0.0323273, 9.72111e-9, 9.77547e-8]</td><td style = \"text-align: left;\">[0.370636, -0.00869884, 0.394844, 0.0883033, -0.0858929, 0.10327]</td><td style = \"text-align: left;\">[0.36693, -0.00861185, 0.390896, 0.0874203, -0.085034, 0.102238]</td><td style = \"text-align: left;\">[159.09, 78.89, 68.05, 151.89, 45.99, 116.05]</td><td style = \"text-align: left;\">[159.09, 78.89, 68.05, 151.89, 45.99, 116.05]</td><td style = \"text-align: right;\">4.97469e7</td><td style = \"text-align: right;\">0.433798</td></tr><tr><td class = \"rowNumber\" style = \"font-weight: bold; text-align: right;\">13</td><td style = \"text-align: left;\">[302588.0, 0.0148545, 0.0582236, 10587.8, 0.0105152, 0.0419043]</td><td style = \"text-align: left;\">[10584.2, 0.0, 7.06291e5, 0.0, 0.0, 0.0]</td><td style = \"text-align: left;\">[0.0324218, -2.49946e-9, 0.967578, 2.916e-8, -4.39824e-9, 1.76938e-8]</td><td style = \"text-align: left;\">[0.967672, 2.35567e-8, 7.96454e-8, 0.0323273, 9.72111e-9, 9.77547e-8]</td><td style = \"text-align: left;\">[0.370636, -0.00869884, 0.394844, 0.0883033, -0.0858929, 0.10327]</td><td style = \"text-align: left;\">[0.36693, -0.00861185, 0.390896, 0.0874203, -0.085034, 0.102238]</td><td style = \"text-align: left;\">[159.09, 78.89, 68.05, 151.89, 45.99, 116.05]</td><td style = \"text-align: left;\">[159.09, 78.89, 68.05, 151.89, 45.99, 116.05]</td><td style = \"text-align: right;\">4.97469e7</td><td style = \"text-align: right;\">0.433798</td></tr><tr><td style = \"text-align: right;\">&vellip;</td><td style = \"text-align: right;\">&vellip;</td><td style = \"text-align: right;\">&vellip;</td><td style = \"text-align: right;\">&vellip;</td><td style = \"text-align: right;\">&vellip;</td><td style = \"text-align: right;\">&vellip;</td><td style = \"text-align: right;\">&vellip;</td><td style = \"text-align: right;\">&vellip;</td><td style = \"text-align: right;\">&vellip;</td><td style = \"text-align: right;\">&vellip;</td><td style = \"text-align: right;\">&vellip;</td></tr><tr><td class = \"rowNumber\" style = \"font-weight: bold; text-align: right;\">218</td><td style = \"text-align: left;\">[302588.0, 0.0148545, 0.0582236, 10587.8, 0.0105152, 0.0419043]</td><td style = \"text-align: left;\">[10584.2, 0.0, 7.06291e5, 0.0, 0.0, 0.0]</td><td style = \"text-align: left;\">[0.0324218, -2.49946e-9, 0.967578, 2.916e-8, -4.39824e-9, 1.76938e-8]</td><td style = \"text-align: left;\">[0.967672, 2.35567e-8, 7.96454e-8, 0.0323273, 9.72111e-9, 9.77547e-8]</td><td style = \"text-align: left;\">[0.370636, -0.00869884, 0.394844, 0.0883033, -0.0858929, 0.10327]</td><td style = \"text-align: left;\">[0.36693, -0.00861185, 0.390896, 0.0874203, -0.085034, 0.102238]</td><td style = \"text-align: left;\">[159.09, 78.89, 68.05, 151.89, 45.99, 116.05]</td><td style = \"text-align: left;\">[159.09, 78.89, 68.05, 151.89, 45.99, 116.05]</td><td style = \"text-align: right;\">4.97469e7</td><td style = \"text-align: right;\">0.433798</td></tr><tr><td class = \"rowNumber\" style = \"font-weight: bold; text-align: right;\">219</td><td style = \"text-align: left;\">[302588.0, 0.0148545, 0.0582236, 10587.8, 0.0105152, 0.0419043]</td><td style = \"text-align: left;\">[10584.2, 0.0, 7.06291e5, 0.0, 0.0, 0.0]</td><td style = \"text-align: left;\">[0.0324218, -2.49946e-9, 0.967578, 2.916e-8, -4.39824e-9, 1.76938e-8]</td><td style = \"text-align: left;\">[0.967672, 2.35567e-8, 7.96454e-8, 0.0323273, 9.72111e-9, 9.77547e-8]</td><td style = \"text-align: left;\">[0.370636, -0.00869884, 0.394844, 0.0883033, -0.0858929, 0.10327]</td><td style = \"text-align: left;\">[0.36693, -0.00861185, 0.390896, 0.0874203, -0.085034, 0.102238]</td><td style = \"text-align: left;\">[159.09, 78.89, 68.05, 151.89, 45.99, 116.05]</td><td style = \"text-align: left;\">[159.09, 78.89, 68.05, 151.89, 45.99, 116.05]</td><td style = \"text-align: right;\">4.97469e7</td><td style = \"text-align: right;\">0.433798</td></tr><tr><td class = \"rowNumber\" style = \"font-weight: bold; text-align: right;\">220</td><td style = \"text-align: left;\">[302588.0, 0.0148545, 0.0582236, 10587.8, 0.0105152, 0.0419043]</td><td style = \"text-align: left;\">[10584.2, 0.0, 7.06291e5, 0.0, 0.0, 0.0]</td><td style = \"text-align: left;\">[0.0324218, -2.49946e-9, 0.967578, 2.916e-8, -4.39824e-9, 1.76938e-8]</td><td style = \"text-align: left;\">[0.967672, 2.35567e-8, 7.96454e-8, 0.0323273, 9.72111e-9, 9.77547e-8]</td><td style = \"text-align: left;\">[0.370636, -0.00869884, 0.394844, 0.0883033, -0.0858929, 0.10327]</td><td style = \"text-align: left;\">[0.36693, -0.00861185, 0.390896, 0.0874203, -0.085034, 0.102238]</td><td style = \"text-align: left;\">[159.09, 78.89, 68.05, 151.89, 45.99, 116.05]</td><td style = \"text-align: left;\">[159.09, 78.89, 68.05, 151.89, 45.99, 116.05]</td><td style = \"text-align: right;\">4.97469e7</td><td style = \"text-align: right;\">0.433798</td></tr><tr><td class = \"rowNumber\" style = \"font-weight: bold; text-align: right;\">221</td><td style = \"text-align: left;\">[302588.0, 0.0148545, 0.0582236, 10587.8, 0.0105152, 0.0419043]</td><td style = \"text-align: left;\">[10584.2, 0.0, 7.06291e5, 0.0, 0.0, 0.0]</td><td style = \"text-align: left;\">[0.0324218, -2.49946e-9, 0.967578, 2.916e-8, -4.39824e-9, 1.76938e-8]</td><td style = \"text-align: left;\">[0.967672, 2.35567e-8, 7.96454e-8, 0.0323273, 9.72111e-9, 9.77547e-8]</td><td style = \"text-align: left;\">[0.370636, -0.00869884, 0.394844, 0.0883033, -0.0858929, 0.10327]</td><td style = \"text-align: left;\">[0.36693, -0.00861185, 0.390896, 0.0874203, -0.085034, 0.102238]</td><td style = \"text-align: left;\">[159.09, 78.89, 68.05, 151.89, 45.99, 116.05]</td><td style = \"text-align: left;\">[159.09, 78.89, 68.05, 151.89, 45.99, 116.05]</td><td style = \"text-align: right;\">4.97469e7</td><td style = \"text-align: right;\">0.433798</td></tr><tr><td class = \"rowNumber\" style = \"font-weight: bold; text-align: right;\">222</td><td style = \"text-align: left;\">[302588.0, 0.0148545, 0.0582236, 10587.8, 0.0105152, 0.0419043]</td><td style = \"text-align: left;\">[10584.2, 0.0, 7.06291e5, 0.0, 0.0, 0.0]</td><td style = \"text-align: left;\">[0.0324218, -2.49946e-9, 0.967578, 2.916e-8, -4.39824e-9, 1.76938e-8]</td><td style = \"text-align: left;\">[0.967672, 2.35567e-8, 7.96454e-8, 0.0323273, 9.72111e-9, 9.77547e-8]</td><td style = \"text-align: left;\">[0.370636, -0.00869884, 0.394844, 0.0883033, -0.0858929, 0.10327]</td><td style = \"text-align: left;\">[0.36693, -0.00861185, 0.390896, 0.0874203, -0.085034, 0.102238]</td><td style = \"text-align: left;\">[159.09, 78.89, 68.05, 151.89, 45.99, 116.05]</td><td style = \"text-align: left;\">[159.09, 78.89, 68.05, 151.89, 45.99, 116.05]</td><td style = \"text-align: right;\">4.97469e7</td><td style = \"text-align: right;\">0.433798</td></tr><tr><td class = \"rowNumber\" style = \"font-weight: bold; text-align: right;\">223</td><td style = \"text-align: left;\">[302588.0, 0.0148545, 0.0582236, 10587.8, 0.0105152, 0.0419043]</td><td style = \"text-align: left;\">[10584.2, 0.0, 7.06291e5, 0.0, 0.0, 0.0]</td><td style = \"text-align: left;\">[0.0324218, -2.49946e-9, 0.967578, 2.916e-8, -4.39824e-9, 1.76938e-8]</td><td style = \"text-align: left;\">[0.967672, 2.35567e-8, 7.96454e-8, 0.0323273, 9.72111e-9, 9.77547e-8]</td><td style = \"text-align: left;\">[0.370636, -0.00869884, 0.394844, 0.0883033, -0.0858929, 0.10327]</td><td style = \"text-align: left;\">[0.36693, -0.00861185, 0.390896, 0.0874203, -0.085034, 0.102238]</td><td style = \"text-align: left;\">[159.09, 78.89, 68.05, 151.89, 45.99, 116.05]</td><td style = \"text-align: left;\">[159.09, 78.89, 68.05, 151.89, 45.99, 116.05]</td><td style = \"text-align: right;\">4.97469e7</td><td style = \"text-align: right;\">0.433798</td></tr><tr><td class = \"rowNumber\" style = \"font-weight: bold; text-align: right;\">224</td><td style = \"text-align: left;\">[302588.0, 0.0148545, 0.0582236, 10587.8, 0.0105152, 0.0419043]</td><td style = \"text-align: left;\">[10584.2, 0.0, 7.06291e5, 0.0, 0.0, 0.0]</td><td style = \"text-align: left;\">[0.0324218, -2.49946e-9, 0.967578, 2.916e-8, -4.39824e-9, 1.76938e-8]</td><td style = \"text-align: left;\">[0.967672, 2.35567e-8, 7.96454e-8, 0.0323273, 9.72111e-9, 9.77547e-8]</td><td style = \"text-align: left;\">[0.370636, -0.00869884, 0.394844, 0.0883033, -0.0858929, 0.10327]</td><td style = \"text-align: left;\">[0.36693, -0.00861185, 0.390896, 0.0874203, -0.085034, 0.102238]</td><td style = \"text-align: left;\">[159.09, 78.89, 68.05, 151.89, 45.99, 116.05]</td><td style = \"text-align: left;\">[159.09, 78.89, 68.05, 151.89, 45.99, 116.05]</td><td style = \"text-align: right;\">4.97469e7</td><td style = \"text-align: right;\">0.433798</td></tr><tr><td class = \"rowNumber\" style = \"font-weight: bold; text-align: right;\">225</td><td style = \"text-align: left;\">[302588.0, 0.0148545, 0.0582236, 10587.8, 0.0105152, 0.0419043]</td><td style = \"text-align: left;\">[10584.2, 0.0, 7.06291e5, 0.0, 0.0, 0.0]</td><td style = \"text-align: left;\">[0.0324218, -2.49946e-9, 0.967578, 2.916e-8, -4.39824e-9, 1.76938e-8]</td><td style = \"text-align: left;\">[0.967672, 2.35567e-8, 7.96454e-8, 0.0323273, 9.72111e-9, 9.77547e-8]</td><td style = \"text-align: left;\">[0.370636, -0.00869884, 0.394844, 0.0883033, -0.0858929, 0.10327]</td><td style = \"text-align: left;\">[0.36693, -0.00861185, 0.390896, 0.0874203, -0.085034, 0.102238]</td><td style = \"text-align: left;\">[159.09, 78.89, 68.05, 151.89, 45.99, 116.05]</td><td style = \"text-align: left;\">[159.09, 78.89, 68.05, 151.89, 45.99, 116.05]</td><td style = \"text-align: right;\">4.97469e7</td><td style = \"text-align: right;\">0.433798</td></tr><tr><td class = \"rowNumber\" style = \"font-weight: bold; text-align: right;\">226</td><td style = \"text-align: left;\">[302588.0, 0.0148545, 0.0582236, 10587.8, 0.0105152, 0.0419043]</td><td style = \"text-align: left;\">[10584.2, 0.0, 7.06291e5, 0.0, 0.0, 0.0]</td><td style = \"text-align: left;\">[0.0324218, -2.49946e-9, 0.967578, 2.916e-8, -4.39824e-9, 1.76938e-8]</td><td style = \"text-align: left;\">[0.967672, 2.35567e-8, 7.96454e-8, 0.0323273, 9.72111e-9, 9.77547e-8]</td><td style = \"text-align: left;\">[0.370636, -0.00869884, 0.394844, 0.0883033, -0.0858929, 0.10327]</td><td style = \"text-align: left;\">[0.36693, -0.00861185, 0.390896, 0.0874203, -0.085034, 0.102238]</td><td style = \"text-align: left;\">[159.09, 78.89, 68.05, 151.89, 45.99, 116.05]</td><td style = \"text-align: left;\">[159.09, 78.89, 68.05, 151.89, 45.99, 116.05]</td><td style = \"text-align: right;\">4.97469e7</td><td style = \"text-align: right;\">0.433798</td></tr><tr><td class = \"rowNumber\" style = \"font-weight: bold; text-align: right;\">227</td><td style = \"text-align: left;\">[302588.0, 0.0148545, 0.0582236, 10587.8, 0.0105152, 0.0419043]</td><td style = \"text-align: left;\">[10584.2, 0.0, 7.06291e5, 0.0, 0.0, 0.0]</td><td style = \"text-align: left;\">[0.0324218, -2.49946e-9, 0.967578, 2.916e-8, -4.39824e-9, 1.76938e-8]</td><td style = \"text-align: left;\">[0.967672, 2.35567e-8, 7.96454e-8, 0.0323273, 9.72111e-9, 9.77547e-8]</td><td style = \"text-align: left;\">[0.370636, -0.00869884, 0.394844, 0.0883033, -0.0858929, 0.10327]</td><td style = \"text-align: left;\">[0.36693, -0.00861185, 0.390896, 0.0874203, -0.085034, 0.102238]</td><td style = \"text-align: left;\">[159.09, 78.89, 68.05, 151.89, 45.99, 116.05]</td><td style = \"text-align: left;\">[159.09, 78.89, 68.05, 151.89, 45.99, 116.05]</td><td style = \"text-align: right;\">4.97469e7</td><td style = \"text-align: right;\">0.433798</td></tr><tr><td class = \"rowNumber\" style = \"font-weight: bold; text-align: right;\">228</td><td style = \"text-align: left;\">[302588.0, 0.0148545, 0.0582236, 10587.8, 0.0105152, 0.0419043]</td><td style = \"text-align: left;\">[10584.2, 0.0, 7.06291e5, 0.0, 0.0, 0.0]</td><td style = \"text-align: left;\">[0.0324218, -2.49946e-9, 0.967578, 2.916e-8, -4.39824e-9, 1.76938e-8]</td><td style = \"text-align: left;\">[0.967672, 2.35567e-8, 7.96454e-8, 0.0323273, 9.72111e-9, 9.77547e-8]</td><td style = \"text-align: left;\">[0.370636, -0.00869884, 0.394844, 0.0883033, -0.0858929, 0.10327]</td><td style = \"text-align: left;\">[0.36693, -0.00861185, 0.390896, 0.0874203, -0.085034, 0.102238]</td><td style = \"text-align: left;\">[159.09, 78.89, 68.05, 151.89, 45.99, 116.05]</td><td style = \"text-align: left;\">[159.09, 78.89, 68.05, 151.89, 45.99, 116.05]</td><td style = \"text-align: right;\">4.97469e7</td><td style = \"text-align: right;\">0.433798</td></tr><tr><td class = \"rowNumber\" style = \"font-weight: bold; text-align: right;\">229</td><td style = \"text-align: left;\">[302588.0, 0.0148545, 0.0582236, 10587.8, 0.0105152, 0.0419043]</td><td style = \"text-align: left;\">[10584.2, 0.0, 7.06291e5, 0.0, 0.0, 0.0]</td><td style = \"text-align: left;\">[0.0324218, -2.49946e-9, 0.967578, 2.916e-8, -4.39824e-9, 1.76938e-8]</td><td style = \"text-align: left;\">[0.967672, 2.35567e-8, 7.96454e-8, 0.0323273, 9.72111e-9, 9.77547e-8]</td><td style = \"text-align: left;\">[0.370636, -0.00869884, 0.394844, 0.0883033, -0.0858929, 0.10327]</td><td style = \"text-align: left;\">[0.36693, -0.00861185, 0.390896, 0.0874203, -0.085034, 0.102238]</td><td style = \"text-align: left;\">[159.09, 78.89, 68.05, 151.89, 45.99, 116.05]</td><td style = \"text-align: left;\">[159.09, 78.89, 68.05, 151.89, 45.99, 116.05]</td><td style = \"text-align: right;\">4.97469e7</td><td style = \"text-align: right;\">0.433798</td></tr></tbody></table></div>"
      ],
      "text/latex": [
       "\\begin{tabular}{r|ccc}\n",
       "\t& N\\_updated & N\\_previous & \\\\\n",
       "\t\\hline\n",
       "\t& Array… & Array… & \\\\\n",
       "\t\\hline\n",
       "\t1 & [1.53474e5, 0.029393, 0.0199795, 1.6677e5, 0.0256904, 0.143401] & [10584.2, 0.0, 7.06291e5, 0.0, 0.0, 0.0] & $\\dots$ \\\\\n",
       "\t2 & [302588.0, 0.0148545, 0.0582236, 10587.8, 0.0105152, 0.0419043] & [10584.2, 0.0, 7.06291e5, 0.0, 0.0, 0.0] & $\\dots$ \\\\\n",
       "\t3 & [302588.0, 0.0148545, 0.0582236, 10587.8, 0.0105152, 0.0419043] & [10584.2, 0.0, 7.06291e5, 0.0, 0.0, 0.0] & $\\dots$ \\\\\n",
       "\t4 & [302588.0, 0.0148545, 0.0582236, 10587.8, 0.0105152, 0.0419043] & [10584.2, 0.0, 7.06291e5, 0.0, 0.0, 0.0] & $\\dots$ \\\\\n",
       "\t5 & [302588.0, 0.0148545, 0.0582236, 10587.8, 0.0105152, 0.0419043] & [10584.2, 0.0, 7.06291e5, 0.0, 0.0, 0.0] & $\\dots$ \\\\\n",
       "\t6 & [302588.0, 0.0148545, 0.0582236, 10587.8, 0.0105152, 0.0419043] & [10584.2, 0.0, 7.06291e5, 0.0, 0.0, 0.0] & $\\dots$ \\\\\n",
       "\t7 & [302588.0, 0.0148545, 0.0582236, 10587.8, 0.0105152, 0.0419043] & [10584.2, 0.0, 7.06291e5, 0.0, 0.0, 0.0] & $\\dots$ \\\\\n",
       "\t8 & [302588.0, 0.0148545, 0.0582236, 10587.8, 0.0105152, 0.0419043] & [10584.2, 0.0, 7.06291e5, 0.0, 0.0, 0.0] & $\\dots$ \\\\\n",
       "\t9 & [302588.0, 0.0148545, 0.0582236, 10587.8, 0.0105152, 0.0419043] & [10584.2, 0.0, 7.06291e5, 0.0, 0.0, 0.0] & $\\dots$ \\\\\n",
       "\t10 & [302588.0, 0.0148545, 0.0582236, 10587.8, 0.0105152, 0.0419043] & [10584.2, 0.0, 7.06291e5, 0.0, 0.0, 0.0] & $\\dots$ \\\\\n",
       "\t11 & [302588.0, 0.0148545, 0.0582236, 10587.8, 0.0105152, 0.0419043] & [10584.2, 0.0, 7.06291e5, 0.0, 0.0, 0.0] & $\\dots$ \\\\\n",
       "\t12 & [302588.0, 0.0148545, 0.0582236, 10587.8, 0.0105152, 0.0419043] & [10584.2, 0.0, 7.06291e5, 0.0, 0.0, 0.0] & $\\dots$ \\\\\n",
       "\t13 & [302588.0, 0.0148545, 0.0582236, 10587.8, 0.0105152, 0.0419043] & [10584.2, 0.0, 7.06291e5, 0.0, 0.0, 0.0] & $\\dots$ \\\\\n",
       "\t14 & [302588.0, 0.0148545, 0.0582236, 10587.8, 0.0105152, 0.0419043] & [10584.2, 0.0, 7.06291e5, 0.0, 0.0, 0.0] & $\\dots$ \\\\\n",
       "\t15 & [302588.0, 0.0148545, 0.0582236, 10587.8, 0.0105152, 0.0419043] & [10584.2, 0.0, 7.06291e5, 0.0, 0.0, 0.0] & $\\dots$ \\\\\n",
       "\t16 & [302588.0, 0.0148545, 0.0582236, 10587.8, 0.0105152, 0.0419043] & [10584.2, 0.0, 7.06291e5, 0.0, 0.0, 0.0] & $\\dots$ \\\\\n",
       "\t17 & [302588.0, 0.0148545, 0.0582236, 10587.8, 0.0105152, 0.0419043] & [10584.2, 0.0, 7.06291e5, 0.0, 0.0, 0.0] & $\\dots$ \\\\\n",
       "\t18 & [302588.0, 0.0148545, 0.0582236, 10587.8, 0.0105152, 0.0419043] & [10584.2, 0.0, 7.06291e5, 0.0, 0.0, 0.0] & $\\dots$ \\\\\n",
       "\t19 & [302588.0, 0.0148545, 0.0582236, 10587.8, 0.0105152, 0.0419043] & [10584.2, 0.0, 7.06291e5, 0.0, 0.0, 0.0] & $\\dots$ \\\\\n",
       "\t20 & [302588.0, 0.0148545, 0.0582236, 10587.8, 0.0105152, 0.0419043] & [10584.2, 0.0, 7.06291e5, 0.0, 0.0, 0.0] & $\\dots$ \\\\\n",
       "\t21 & [302588.0, 0.0148545, 0.0582236, 10587.8, 0.0105152, 0.0419043] & [10584.2, 0.0, 7.06291e5, 0.0, 0.0, 0.0] & $\\dots$ \\\\\n",
       "\t22 & [302588.0, 0.0148545, 0.0582236, 10587.8, 0.0105152, 0.0419043] & [10584.2, 0.0, 7.06291e5, 0.0, 0.0, 0.0] & $\\dots$ \\\\\n",
       "\t23 & [302588.0, 0.0148545, 0.0582236, 10587.8, 0.0105152, 0.0419043] & [10584.2, 0.0, 7.06291e5, 0.0, 0.0, 0.0] & $\\dots$ \\\\\n",
       "\t24 & [302588.0, 0.0148545, 0.0582236, 10587.8, 0.0105152, 0.0419043] & [10584.2, 0.0, 7.06291e5, 0.0, 0.0, 0.0] & $\\dots$ \\\\\n",
       "\t$\\dots$ & $\\dots$ & $\\dots$ &  \\\\\n",
       "\\end{tabular}\n"
      ],
      "text/plain": [
       "\u001b[1m229×10 DataFrame\u001b[0m\n",
       "\u001b[1m Row \u001b[0m│\u001b[1m N_updated                         \u001b[0m\u001b[1m N_previous                        \u001b[0m\u001b[1m w\u001b[0m ⋯\n",
       "     │\u001b[90m Array…                            \u001b[0m\u001b[90m Array…                            \u001b[0m\u001b[90m A\u001b[0m ⋯\n",
       "─────┼──────────────────────────────────────────────────────────────────────────\n",
       "   1 │ [1.53474e5, 0.029393, 0.0199795,…  [10584.2, 0.0, 7.06291e5, 0.0, 0…  [ ⋯\n",
       "   2 │ [302588.0, 0.0148545, 0.0582236,…  [10584.2, 0.0, 7.06291e5, 0.0, 0…  [\n",
       "   3 │ [302588.0, 0.0148545, 0.0582236,…  [10584.2, 0.0, 7.06291e5, 0.0, 0…  [\n",
       "   4 │ [302588.0, 0.0148545, 0.0582236,…  [10584.2, 0.0, 7.06291e5, 0.0, 0…  [\n",
       "   5 │ [302588.0, 0.0148545, 0.0582236,…  [10584.2, 0.0, 7.06291e5, 0.0, 0…  [ ⋯\n",
       "   6 │ [302588.0, 0.0148545, 0.0582236,…  [10584.2, 0.0, 7.06291e5, 0.0, 0…  [\n",
       "   7 │ [302588.0, 0.0148545, 0.0582236,…  [10584.2, 0.0, 7.06291e5, 0.0, 0…  [\n",
       "   8 │ [302588.0, 0.0148545, 0.0582236,…  [10584.2, 0.0, 7.06291e5, 0.0, 0…  [\n",
       "  ⋮  │                 ⋮                                  ⋮                    ⋱\n",
       " 223 │ [302588.0, 0.0148545, 0.0582236,…  [10584.2, 0.0, 7.06291e5, 0.0, 0…  [ ⋯\n",
       " 224 │ [302588.0, 0.0148545, 0.0582236,…  [10584.2, 0.0, 7.06291e5, 0.0, 0…  [\n",
       " 225 │ [302588.0, 0.0148545, 0.0582236,…  [10584.2, 0.0, 7.06291e5, 0.0, 0…  [\n",
       " 226 │ [302588.0, 0.0148545, 0.0582236,…  [10584.2, 0.0, 7.06291e5, 0.0, 0…  [\n",
       " 227 │ [302588.0, 0.0148545, 0.0582236,…  [10584.2, 0.0, 7.06291e5, 0.0, 0…  [ ⋯\n",
       " 228 │ [302588.0, 0.0148545, 0.0582236,…  [10584.2, 0.0, 7.06291e5, 0.0, 0…  [\n",
       " 229 │ [302588.0, 0.0148545, 0.0582236,…  [10584.2, 0.0, 7.06291e5, 0.0, 0…  [\n",
       "\u001b[36m                                                  8 columns and 214 rows omitted\u001b[0m"
      ]
     },
     "metadata": {},
     "output_type": "display_data"
    }
   ],
   "source": [
    "#Simulation, adapted directly from 15b\n",
    "prev_price_arr=price_initial\n",
    "μ̂_naught=μ̂\n",
    "N_naught=shares_initial\n",
    "Δt = (1/252)\n",
    "results= DataFrame();\n",
    "\n",
    "while(isempty(next_close)==false)\n",
    "\n",
    "    current_pr=dequeue!(next_close)\n",
    "\n",
    "    assets_return = Array{Float64, 1}();\n",
    "    for element in eachindex(tickers)\n",
    "        m = (1/Δt)*log(current_pr[element]/prev_price_arr[element])\n",
    "        push!(assets_return, m)\n",
    "    end\n",
    "\n",
    "    μ̂_update=μ̂_naught+ learning_rate*(assets_return-μ̂_naught)\n",
    "\n",
    "    sim_initial.μ=μ̂_update;\n",
    "    sim_initial.R=min_return_goal;\n",
    "\n",
    "    sol=solve(sim_initial)\n",
    "\n",
    "    #conversion check from 15b\n",
    "\n",
    "    new_weight=w;\n",
    "    risk_new=risk;\n",
    "    status=sol[\"status\"]\n",
    "    if (status==MathOptInterface.LOCALLY_SOLVED)\n",
    "        new_weight=sol[\"argmax\"]\n",
    "        print(sol[\"objective_value\"])\n",
    "        risk_new=sqrt(sol[\"objective_value\"])\n",
    "    end\n",
    "\n",
    "    liq_value = dot(N_naught, current_pr)\n",
    "\n",
    "    new_shares=Array{Float64,1}()\n",
    "    for element in eachindex(new_weight)\n",
    "        w_element=new_weight[element]\n",
    "        nshare=(w_element*liq_value)/(current_pr[element])\n",
    "    push!(new_shares, nshare)\n",
    "    end\n",
    "    \n",
    "    results_t=(\n",
    "        N_updated=new_shares,\n",
    "        N_previous=N_naught,\n",
    "        w_previous=w,\n",
    "        w_updated=new_weight,\n",
    "        μ_previous=μ̂,\n",
    "        μ_updated= μ̂_update,\n",
    "        previous_close=prev_price_arr,\n",
    "        updated_close=current_pr,\n",
    "        liq_value=liq_value,\n",
    "        risk=risk_new,\n",
    "    );\n",
    "    push!(results,results_t)\n",
    "\n",
    "\n",
    "    μ_previous= μ̂_update\n",
    "    prev_price_arr=current_pr\n",
    "    N_previous=new_shares\n",
    "end\n",
    "\n",
    "results\n"
   ]
  },
  {
   "cell_type": "code",
   "execution_count": 115,
   "id": "fe78da31",
   "metadata": {},
   "outputs": [],
   "source": [
    "portfolio_performance_initial=Array{Float64,2}(undef, trading_days, length(w)+2)\n",
    "for element in eachindex(tickers)\n",
    "    ticker=tickers[element]\n",
    "    price=dataset[ticker]\n",
    "    ticker_data=filter(:timestamp => x-> x >= startdate, price)\n",
    "    n_new=N_naught[element]\n",
    "\n",
    "    for j in 1:trading_days\n",
    "        portfolio_performance_initial[j,element]=n_new*ticker_data[j+1,:close] #Lab 15b\n",
    "    end\n",
    "end\n",
    "\n",
    "for element in 1:trading_days\n",
    "    portfolio_performance_initial[element,end]=sum(portfolio_performance_initial[element,1:end-2])\n",
    "end\n",
    "\n",
    "for element in 1:trading_days\n",
    "    data=portfolio_performance_initial[element,1:end-2]\n",
    "    tot=portfolio_performance_initial[element,end]\n",
    "    w=(1/tot)*data\n",
    "    portfolio_performance_initial[element,end-1]=transpose(w)*Σ̂*w |> sqrt\n",
    "end"
   ]
  },
  {
   "cell_type": "code",
   "execution_count": 116,
   "id": "7bc60b1a",
   "metadata": {},
   "outputs": [
    {
     "data": {
      "text/plain": [
       "6-element Vector{String}:\n",
       " \"NVDA\"\n",
       " \"MDT\"\n",
       " \"AMD\"\n",
       " \"PG\"\n",
       " \"MO\"\n",
       " \"PLD\""
      ]
     },
     "metadata": {},
     "output_type": "display_data"
    }
   ],
   "source": [
    "tickers"
   ]
  },
  {
   "cell_type": "code",
   "execution_count": 118,
   "id": "7c4b8649",
   "metadata": {},
   "outputs": [
    {
     "name": "stdout",
     "output_type": "stream",
     "text": [
      "┌───────┬───────────┬─────┬───────────┬─────┬─────┬─────┬─────────────┬─────────────┐\n",
      "│\u001b[1m index \u001b[0m│\u001b[1m      NVDA \u001b[0m│\u001b[1m MDT \u001b[0m│\u001b[1m       AMD \u001b[0m│\u001b[1m  PG \u001b[0m│\u001b[1m  MO \u001b[0m│\u001b[1m PLD \u001b[0m│\u001b[1m risk (sqrt) \u001b[0m│\u001b[1m total value \u001b[0m│\n",
      "├───────┼───────────┼─────┼───────────┼─────┼─────┼─────┼─────────────┼─────────────┤\n",
      "│   1.0 │ 1.56107e6 │ 0.0 │ 4.56687e7 │ 0.0 │ 0.0 │ 0.0 │    0.483046 │   4.72298e7 │\n",
      "│   2.0 │ 1.50984e6 │ 0.0 │ 4.40231e7 │ 0.0 │ 0.0 │ 0.0 │    0.483042 │   4.55329e7 │\n",
      "│   3.0 │ 1.57271e6 │ 0.0 │ 4.51743e7 │ 0.0 │ 0.0 │ 0.0 │    0.483021 │   4.67471e7 │\n",
      "│   4.0 │  1.6541e6 │ 0.0 │  4.7491e7 │ 0.0 │ 0.0 │ 0.0 │     0.48302 │   4.91451e7 │\n",
      "│   5.0 │ 1.68384e6 │ 0.0 │ 4.80631e7 │ 0.0 │ 0.0 │ 0.0 │    0.483012 │   4.97469e7 │\n",
      "│   6.0 │ 1.69358e6 │ 0.0 │ 4.87764e7 │ 0.0 │ 0.0 │ 0.0 │    0.483025 │     5.047e7 │\n",
      "│   7.0 │ 1.74756e6 │ 0.0 │ 5.00054e7 │ 0.0 │ 0.0 │ 0.0 │    0.483015 │   5.17529e7 │\n",
      "│   8.0 │ 1.78863e6 │ 0.0 │ 5.01466e7 │ 0.0 │ 0.0 │ 0.0 │    0.482987 │   5.19353e7 │\n",
      "│   9.0 │ 1.87362e6 │ 0.0 │ 5.05633e7 │ 0.0 │ 0.0 │ 0.0 │    0.482931 │    5.2437e7 │\n",
      "│  10.0 │ 1.83922e6 │ 0.0 │ 4.98147e7 │ 0.0 │ 0.0 │ 0.0 │    0.482937 │   5.16539e7 │\n",
      "│  11.0 │ 1.77444e6 │ 0.0 │ 4.78229e7 │ 0.0 │ 0.0 │ 0.0 │    0.482929 │   4.95974e7 │\n",
      "│  12.0 │ 1.88812e6 │ 0.0 │ 4.94898e7 │ 0.0 │ 0.0 │ 0.0 │    0.482888 │   5.13779e7 │\n",
      "│  13.0 │ 2.03143e6 │ 0.0 │ 5.40524e7 │ 0.0 │ 0.0 │ 0.0 │     0.48291 │   5.60838e7 │\n",
      "│  14.0 │ 2.03905e6 │ 0.0 │ 5.27599e7 │ 0.0 │ 0.0 │ 0.0 │    0.482868 │    5.4799e7 │\n",
      "│  15.0 │ 2.04519e6 │ 0.0 │ 5.29082e7 │ 0.0 │ 0.0 │ 0.0 │    0.482867 │   5.49534e7 │\n",
      "│  16.0 │ 2.09589e6 │ 0.0 │ 5.30848e7 │ 0.0 │ 0.0 │ 0.0 │    0.482835 │   5.51807e7 │\n",
      "│  17.0 │ 2.15547e6 │ 0.0 │ 5.32543e7 │ 0.0 │ 0.0 │ 0.0 │    0.482795 │   5.54098e7 │\n",
      "│  18.0 │ 2.02815e6 │ 0.0 │ 5.11708e7 │ 0.0 │ 0.0 │ 0.0 │    0.482829 │   5.31989e7 │\n",
      "│  19.0 │ 2.06784e6 │ 0.0 │ 5.30777e7 │ 0.0 │ 0.0 │ 0.0 │    0.482855 │   5.51456e7 │\n",
      "│  20.0 │ 2.21665e6 │ 0.0 │ 5.97804e7 │ 0.0 │ 0.0 │ 0.0 │     0.48293 │   6.19971e7 │\n",
      "│  21.0 │ 2.29773e6 │ 0.0 │ 6.23725e7 │ 0.0 │ 0.0 │ 0.0 │     0.48294 │   6.46702e7 │\n",
      "│  22.0 │ 2.23327e6 │ 0.0 │ 6.08046e7 │ 0.0 │ 0.0 │ 0.0 │    0.482944 │   6.30378e7 │\n",
      "│  23.0 │  2.2321e6 │ 0.0 │ 5.91024e7 │ 0.0 │ 0.0 │ 0.0 │    0.482903 │   6.13345e7 │\n",
      "│  24.0 │ 2.34684e6 │ 0.0 │ 6.06774e7 │ 0.0 │ 0.0 │ 0.0 │    0.482867 │   6.30243e7 │\n",
      "│  25.0 │ 2.35022e6 │ 0.0 │ 5.98157e7 │ 0.0 │ 0.0 │ 0.0 │    0.482842 │    6.2166e7 │\n",
      "│  26.0 │  2.3642e6 │ 0.0 │ 5.87704e7 │ 0.0 │ 0.0 │ 0.0 │    0.482805 │   6.11346e7 │\n",
      "│  27.0 │ 2.25073e6 │ 0.0 │ 5.75486e7 │ 0.0 │ 0.0 │ 0.0 │    0.482849 │   5.97993e7 │\n",
      "│  28.0 │ 2.30609e6 │ 0.0 │ 5.87139e7 │ 0.0 │ 0.0 │ 0.0 │    0.482843 │     6.102e7 │\n",
      "│  29.0 │  2.4313e6 │ 0.0 │ 6.07057e7 │ 0.0 │ 0.0 │ 0.0 │    0.482812 │    6.3137e7 │\n",
      "│  30.0 │ 2.40939e6 │ 0.0 │ 6.01618e7 │ 0.0 │ 0.0 │ 0.0 │    0.482812 │   6.25712e7 │\n",
      "│  31.0 │ 2.32874e6 │ 0.0 │ 5.65598e7 │ 0.0 │ 0.0 │ 0.0 │    0.482768 │   5.88885e7 │\n",
      "│  32.0 │ 2.26375e6 │ 0.0 │ 5.54438e7 │ 0.0 │ 0.0 │ 0.0 │    0.482781 │   5.77076e7 │\n",
      "│  33.0 │ 2.18617e6 │ 0.0 │ 5.42219e7 │ 0.0 │ 0.0 │ 0.0 │    0.482801 │   5.64081e7 │\n",
      "│  34.0 │ 2.19665e6 │ 0.0 │ 5.41089e7 │ 0.0 │ 0.0 │ 0.0 │     0.48279 │   5.63056e7 │\n",
      "│  35.0 │ 2.50465e6 │ 0.0 │ 5.63267e7 │ 0.0 │ 0.0 │ 0.0 │    0.482638 │   5.88313e7 │\n",
      "│  36.0 │ 2.46464e6 │ 0.0 │ 5.51542e7 │ 0.0 │ 0.0 │ 0.0 │    0.482629 │   5.76189e7 │\n",
      "│  37.0 │  2.4874e6 │ 0.0 │ 5.56345e7 │ 0.0 │ 0.0 │ 0.0 │    0.482628 │   5.81219e7 │\n",
      "│  38.0 │ 2.45723e6 │ 0.0 │ 5.55003e7 │ 0.0 │ 0.0 │ 0.0 │    0.482645 │   5.79575e7 │\n",
      "│  39.0 │  2.4024e6 │ 0.0 │ 5.52955e7 │ 0.0 │ 0.0 │ 0.0 │    0.482678 │   5.76979e7 │\n",
      "│  40.0 │  2.4676e6 │ 0.0 │  5.6814e7 │ 0.0 │ 0.0 │ 0.0 │    0.482678 │   5.92816e7 │\n",
      "│  41.0 │ 2.52857e6 │ 0.0 │ 5.75768e7 │ 0.0 │ 0.0 │ 0.0 │    0.482659 │   6.01054e7 │\n",
      "│  42.0 │ 2.49301e6 │ 0.0 │ 5.73225e7 │ 0.0 │ 0.0 │ 0.0 │    0.482676 │   5.98155e7 │\n",
      "│  43.0 │ 2.46485e6 │ 0.0 │ 5.79935e7 │ 0.0 │ 0.0 │ 0.0 │    0.482715 │   6.04584e7 │\n",
      "│  44.0 │ 2.55937e6 │ 0.0 │  6.0296e7 │ 0.0 │ 0.0 │ 0.0 │    0.482717 │   6.28554e7 │\n",
      "│  45.0 │ 2.48052e6 │ 0.0 │ 5.93496e7 │ 0.0 │ 0.0 │ 0.0 │    0.482743 │   6.18301e7 │\n",
      "│  46.0 │ 2.43066e6 │ 0.0 │  5.8389e7 │ 0.0 │ 0.0 │ 0.0 │     0.48275 │   6.08197e7 │\n",
      "│  47.0 │ 2.43077e6 │ 0.0 │ 5.79229e7 │ 0.0 │ 0.0 │ 0.0 │    0.482736 │   6.03537e7 │\n",
      "│  48.0 │ 2.54688e6 │ 0.0 │ 6.17651e7 │ 0.0 │ 0.0 │ 0.0 │    0.482765 │    6.4312e7 │\n",
      "│  49.0 │ 2.56434e6 │ 0.0 │ 6.33401e7 │ 0.0 │ 0.0 │ 0.0 │    0.482795 │   6.59045e7 │\n",
      "│  50.0 │ 2.70331e6 │ 0.0 │ 6.82277e7 │ 0.0 │ 0.0 │ 0.0 │    0.482829 │    7.0931e7 │\n",
      "│  51.0 │ 2.72279e6 │ 0.0 │ 6.91035e7 │ 0.0 │ 0.0 │ 0.0 │    0.482838 │   7.18263e7 │\n",
      "│  52.0 │ 2.74131e6 │ 0.0 │  6.8376e7 │ 0.0 │ 0.0 │ 0.0 │     0.48281 │   7.11173e7 │\n",
      "│  53.0 │ 2.77296e6 │ 0.0 │ 6.77545e7 │ 0.0 │ 0.0 │ 0.0 │    0.482777 │   7.05274e7 │\n",
      "│  54.0 │ 2.80143e6 │ 0.0 │ 6.89198e7 │ 0.0 │ 0.0 │ 0.0 │    0.482788 │   7.17213e7 │\n",
      "│  55.0 │ 2.87795e6 │ 0.0 │ 7.08268e7 │ 0.0 │ 0.0 │ 0.0 │    0.482789 │   7.37048e7 │\n",
      "│  56.0 │ 2.83435e6 │ 0.0 │ 6.91812e7 │ 0.0 │ 0.0 │ 0.0 │    0.482776 │   7.20155e7 │\n",
      "│  57.0 │  2.8081e6 │ 0.0 │ 6.82347e7 │ 0.0 │ 0.0 │ 0.0 │    0.482768 │   7.10428e7 │\n",
      "│  58.0 │ 2.79529e6 │ 0.0 │ 6.67868e7 │ 0.0 │ 0.0 │ 0.0 │    0.482741 │   6.95821e7 │\n",
      "│  59.0 │ 2.85604e6 │ 0.0 │ 6.78675e7 │ 0.0 │ 0.0 │ 0.0 │    0.482732 │   7.07235e7 │\n",
      "│  60.0 │ 2.89827e6 │ 0.0 │ 6.91317e7 │ 0.0 │ 0.0 │ 0.0 │    0.482738 │     7.203e7 │\n",
      "│  61.0 │ 2.93998e6 │ 0.0 │ 6.92235e7 │ 0.0 │ 0.0 │ 0.0 │    0.482716 │   7.21635e7 │\n",
      "│  62.0 │ 2.95987e6 │ 0.0 │ 6.81994e7 │ 0.0 │ 0.0 │ 0.0 │     0.48268 │   7.11593e7 │\n",
      "│  63.0 │ 2.90568e6 │ 0.0 │ 6.77121e7 │ 0.0 │ 0.0 │ 0.0 │    0.482699 │   7.06178e7 │\n",
      "│  64.0 │ 2.84514e6 │ 0.0 │ 6.53743e7 │ 0.0 │ 0.0 │ 0.0 │    0.482675 │   6.82194e7 │\n",
      "│  65.0 │ 2.86165e6 │ 0.0 │ 6.53107e7 │ 0.0 │ 0.0 │ 0.0 │    0.482663 │   6.81723e7 │\n",
      "│  66.0 │ 2.91902e6 │ 0.0 │ 6.74366e7 │ 0.0 │ 0.0 │ 0.0 │    0.482684 │   7.03556e7 │\n",
      "│  67.0 │ 2.87562e6 │ 0.0 │ 6.64125e7 │ 0.0 │ 0.0 │ 0.0 │    0.482684 │   6.92881e7 │\n",
      "│  68.0 │ 2.80429e6 │ 0.0 │ 6.52118e7 │ 0.0 │ 0.0 │ 0.0 │    0.482695 │   6.80161e7 │\n",
      "│  69.0 │  2.8009e6 │ 0.0 │ 6.50423e7 │ 0.0 │ 0.0 │ 0.0 │    0.482693 │   6.78432e7 │\n",
      "│  70.0 │ 2.83212e6 │ 0.0 │ 6.48022e7 │ 0.0 │ 0.0 │ 0.0 │    0.482668 │   6.76343e7 │\n",
      "│  71.0 │ 2.85795e6 │ 0.0 │ 6.34743e7 │ 0.0 │ 0.0 │ 0.0 │    0.482616 │   6.63323e7 │\n",
      "│  72.0 │ 2.92833e6 │ 0.0 │ 6.34108e7 │ 0.0 │ 0.0 │ 0.0 │     0.48257 │   6.63391e7 │\n",
      "│  73.0 │ 2.95628e6 │ 0.0 │ 6.35238e7 │ 0.0 │ 0.0 │ 0.0 │    0.482556 │   6.64801e7 │\n",
      "│  74.0 │ 2.86874e6 │ 0.0 │ 6.36438e7 │ 0.0 │ 0.0 │ 0.0 │    0.482614 │   6.65126e7 │\n",
      "│  75.0 │ 2.87033e6 │ 0.0 │ 6.24573e7 │ 0.0 │ 0.0 │ 0.0 │    0.482579 │   6.53276e7 │\n",
      "│  76.0 │ 2.86218e6 │ 0.0 │ 6.18499e7 │ 0.0 │ 0.0 │ 0.0 │    0.482566 │    6.4712e7 │\n",
      "│  77.0 │  2.7774e6 │ 0.0 │ 5.91872e7 │ 0.0 │ 0.0 │ 0.0 │    0.482541 │   6.19646e7 │\n",
      "│  78.0 │ 2.85308e6 │ 0.0 │ 6.06986e7 │ 0.0 │ 0.0 │ 0.0 │    0.482538 │   6.35517e7 │\n",
      "│  79.0 │ 2.88166e6 │ 0.0 │  6.1758e7 │ 0.0 │ 0.0 │ 0.0 │    0.482551 │   6.46397e7 │\n",
      "│  80.0 │ 2.93701e6 │ 0.0 │ 6.31212e7 │ 0.0 │ 0.0 │ 0.0 │    0.482557 │   6.60582e7 │\n",
      "│  81.0 │  3.0599e6 │ 0.0 │ 6.33472e7 │ 0.0 │ 0.0 │ 0.0 │    0.482487 │   6.64071e7 │\n",
      "│  82.0 │ 2.98581e6 │ 0.0 │ 6.35026e7 │ 0.0 │ 0.0 │ 0.0 │    0.482537 │   6.64884e7 │\n",
      "│  83.0 │ 2.94262e6 │ 0.0 │ 5.76474e7 │ 0.0 │ 0.0 │ 0.0 │     0.48238 │   6.05901e7 │\n",
      "│  84.0 │ 2.91722e6 │ 0.0 │ 6.11718e7 │ 0.0 │ 0.0 │ 0.0 │    0.482511 │    6.4089e7 │\n",
      "│  85.0 │ 3.03555e6 │ 0.0 │ 6.34531e7 │ 0.0 │ 0.0 │ 0.0 │    0.482505 │   6.64887e7 │\n",
      "│  86.0 │  3.0854e6 │ 0.0 │ 6.71259e7 │ 0.0 │ 0.0 │ 0.0 │    0.482579 │   7.02113e7 │\n",
      "│  87.0 │ 3.02402e6 │ 0.0 │   6.714e7 │ 0.0 │ 0.0 │ 0.0 │    0.482615 │    7.0164e7 │\n",
      "│  88.0 │ 3.05725e6 │ 0.0 │ 6.85243e7 │ 0.0 │ 0.0 │ 0.0 │    0.482632 │   7.15816e7 │\n",
      "│  89.0 │ 3.02476e6 │ 0.0 │ 6.85808e7 │ 0.0 │ 0.0 │ 0.0 │    0.482652 │   7.16056e7 │\n",
      "│  90.0 │ 2.99957e6 │ 0.0 │ 6.72812e7 │ 0.0 │ 0.0 │ 0.0 │    0.482633 │   7.02808e7 │\n",
      "│  91.0 │ 3.06445e6 │ 0.0 │ 6.87927e7 │ 0.0 │ 0.0 │ 0.0 │    0.482634 │   7.18571e7 │\n",
      "│  92.0 │ 3.09197e6 │ 0.0 │ 7.16744e7 │ 0.0 │ 0.0 │ 0.0 │     0.48269 │   7.47663e7 │\n",
      "│  93.0 │  3.1941e6 │ 0.0 │ 7.32776e7 │ 0.0 │ 0.0 │ 0.0 │    0.482672 │   7.64718e7 │\n",
      "│  94.0 │ 3.35287e6 │ 0.0 │ 7.62299e7 │ 0.0 │ 0.0 │ 0.0 │    0.482657 │   7.95828e7 │\n",
      "│  95.0 │ 3.30905e6 │ 0.0 │ 7.47397e7 │ 0.0 │ 0.0 │ 0.0 │    0.482645 │   7.80487e7 │\n",
      "│  96.0 │ 3.29973e6 │ 0.0 │ 7.62794e7 │ 0.0 │ 0.0 │ 0.0 │    0.482685 │   7.95791e7 │\n",
      "│  97.0 │ 3.24808e6 │ 0.0 │ 7.63641e7 │ 0.0 │ 0.0 │ 0.0 │    0.482714 │   7.96122e7 │\n",
      "│  98.0 │ 3.23221e6 │ 0.0 │ 7.64701e7 │ 0.0 │ 0.0 │ 0.0 │    0.482724 │   7.97023e7 │\n",
      "│  99.0 │ 4.01988e6 │ 0.0 │ 8.50021e7 │ 0.0 │ 0.0 │ 0.0 │    0.482527 │    8.9022e7 │\n",
      "│ 100.0 │ 4.12213e6 │ 0.0 │ 8.97201e7 │ 0.0 │ 0.0 │ 0.0 │    0.482579 │   9.38422e7 │\n",
      "│ 101.0 │ 4.24543e6 │ 0.0 │  8.8477e7 │ 0.0 │ 0.0 │ 0.0 │      0.4825 │   9.27225e7 │\n",
      "│ 102.0 │ 4.00443e6 │ 0.0 │ 8.34906e7 │ 0.0 │ 0.0 │ 0.0 │      0.4825 │    8.7495e7 │\n",
      "│ 103.0 │ 4.20934e6 │ 0.0 │ 8.43805e7 │ 0.0 │ 0.0 │ 0.0 │    0.482425 │   8.85899e7 │\n",
      "│ 104.0 │ 4.16245e6 │ 0.0 │ 8.32434e7 │ 0.0 │ 0.0 │ 0.0 │    0.482421 │   8.74059e7 │\n",
      "│ 105.0 │ 4.14594e6 │ 0.0 │ 8.32928e7 │ 0.0 │ 0.0 │ 0.0 │     0.48243 │   8.74388e7 │\n",
      "│ 106.0 │ 4.09122e6 │ 0.0 │ 8.77425e7 │ 0.0 │ 0.0 │ 0.0 │    0.482553 │   9.18337e7 │\n",
      "│ 107.0 │ 3.96643e6 │ 0.0 │ 8.32222e7 │ 0.0 │ 0.0 │ 0.0 │    0.482512 │   8.71887e7 │\n",
      "│ 108.0 │ 4.07598e6 │ 0.0 │ 8.54965e7 │ 0.0 │ 0.0 │ 0.0 │    0.482512 │   8.95725e7 │\n",
      "│ 109.0 │  4.1035e6 │ 0.0 │ 8.82298e7 │ 0.0 │ 0.0 │ 0.0 │    0.482557 │   9.23333e7 │\n",
      "│ 110.0 │ 4.17886e6 │ 0.0 │ 9.12457e7 │ 0.0 │ 0.0 │ 0.0 │    0.482585 │   9.54245e7 │\n",
      "│ 111.0 │ 4.34186e6 │ 0.0 │ 8.79544e7 │ 0.0 │ 0.0 │ 0.0 │    0.482446 │   9.22962e7 │\n",
      "│ 112.0 │ 4.55089e6 │ 0.0 │  8.9932e7 │ 0.0 │ 0.0 │ 0.0 │    0.482397 │   9.44829e7 │\n",
      "│ 113.0 │ 4.51448e6 │ 0.0 │ 8.77495e7 │ 0.0 │ 0.0 │ 0.0 │    0.482365 │    9.2264e7 │\n",
      "│ 114.0 │ 4.51861e6 │ 0.0 │ 8.48114e7 │ 0.0 │ 0.0 │ 0.0 │    0.482294 │     8.933e7 │\n",
      "│ 115.0 │ 4.63673e6 │ 0.0 │ 8.39991e7 │ 0.0 │ 0.0 │ 0.0 │    0.482219 │   8.86359e7 │\n",
      "│ 116.0 │ 4.55597e6 │ 0.0 │ 7.91822e7 │ 0.0 │ 0.0 │ 0.0 │    0.482129 │   8.37382e7 │\n",
      "│ 117.0 │ 4.55386e6 │ 0.0 │ 7.81864e7 │ 0.0 │ 0.0 │ 0.0 │    0.482102 │   8.27402e7 │\n",
      "│ 118.0 │ 4.46749e6 │ 0.0 │  7.7699e7 │ 0.0 │ 0.0 │ 0.0 │    0.482131 │   8.21665e7 │\n",
      "│ 119.0 │ 4.30058e6 │ 0.0 │ 7.59333e7 │ 0.0 │ 0.0 │ 0.0 │    0.482164 │   8.02339e7 │\n",
      "│ 120.0 │ 4.43224e6 │ 0.0 │ 7.79674e7 │ 0.0 │ 0.0 │ 0.0 │    0.482156 │   8.23997e7 │\n",
      "│ 121.0 │ 4.35191e6 │ 0.0 │  7.7812e7 │ 0.0 │ 0.0 │ 0.0 │    0.482191 │   8.21639e7 │\n",
      "│ 122.0 │ 4.32069e6 │ 0.0 │ 7.85678e7 │ 0.0 │ 0.0 │ 0.0 │    0.482227 │   8.28885e7 │\n",
      "│ 123.0 │ 4.47733e6 │ 0.0 │ 8.04536e7 │ 0.0 │ 0.0 │ 0.0 │    0.482202 │   8.49309e7 │\n",
      "│ 124.0 │ 4.48908e6 │ 0.0 │ 8.18026e7 │ 0.0 │ 0.0 │ 0.0 │    0.482232 │   8.62917e7 │\n",
      "│ 125.0 │ 4.47892e6 │ 0.0 │ 8.04818e7 │ 0.0 │ 0.0 │ 0.0 │    0.482202 │   8.49607e7 │\n",
      "│ 126.0 │ 4.45627e6 │ 0.0 │ 8.01499e7 │ 0.0 │ 0.0 │ 0.0 │    0.482204 │   8.46061e7 │\n",
      "│ 127.0 │ 4.49861e6 │ 0.0 │ 7.99309e7 │ 0.0 │ 0.0 │ 0.0 │    0.482178 │   8.44295e7 │\n",
      "│ 128.0 │ 4.46442e6 │ 0.0 │ 8.02205e7 │ 0.0 │ 0.0 │ 0.0 │    0.482202 │   8.46849e7 │\n",
      "│ 129.0 │ 4.48823e6 │ 0.0 │ 7.86243e7 │ 0.0 │ 0.0 │ 0.0 │    0.482147 │   8.31125e7 │\n",
      "│ 130.0 │ 4.64668e6 │ 0.0 │ 8.09268e7 │ 0.0 │ 0.0 │ 0.0 │    0.482134 │   8.55735e7 │\n",
      "│ 131.0 │  4.8663e6 │ 0.0 │ 8.18732e7 │ 0.0 │ 0.0 │ 0.0 │    0.482056 │   8.67395e7 │\n",
      "│ 132.0 │ 4.81254e6 │ 0.0 │ 8.18873e7 │ 0.0 │ 0.0 │ 0.0 │    0.482082 │   8.66999e7 │\n",
      "│ 133.0 │ 4.91753e6 │ 0.0 │ 8.35683e7 │ 0.0 │ 0.0 │ 0.0 │    0.482079 │   8.84858e7 │\n",
      "│ 134.0 │ 5.02687e6 │ 0.0 │ 8.32928e7 │ 0.0 │ 0.0 │ 0.0 │    0.482021 │   8.83197e7 │\n",
      "│ 135.0 │ 4.98273e6 │ 0.0 │ 8.22334e7 │ 0.0 │ 0.0 │ 0.0 │    0.482012 │   8.72161e7 │\n",
      "│ 136.0 │ 4.81793e6 │ 0.0 │ 7.78685e7 │ 0.0 │ 0.0 │ 0.0 │    0.481963 │   8.26865e7 │\n",
      "│ 137.0 │ 4.68976e6 │ 0.0 │ 7.83629e7 │ 0.0 │ 0.0 │ 0.0 │    0.482041 │   8.30527e7 │\n",
      "│ 138.0 │ 4.72183e6 │ 0.0 │ 7.81228e7 │ 0.0 │ 0.0 │ 0.0 │    0.482018 │   8.28446e7 │\n",
      "│ 139.0 │ 4.83476e6 │ 0.0 │ 7.98108e7 │ 0.0 │ 0.0 │ 0.0 │    0.482013 │   8.46456e7 │\n",
      "│ 140.0 │ 4.81074e6 │ 0.0 │ 7.77555e7 │ 0.0 │ 0.0 │ 0.0 │    0.481963 │   8.25663e7 │\n",
      "│ 141.0 │ 4.85815e6 │ 0.0 │ 7.84689e7 │ 0.0 │ 0.0 │ 0.0 │    0.481962 │    8.3327e7 │\n",
      "│ 142.0 │ 4.94812e6 │ 0.0 │ 7.97826e7 │ 0.0 │ 0.0 │ 0.0 │    0.481958 │   8.47307e7 │\n",
      "│ 143.0 │  4.9459e6 │ 0.0 │ 8.07996e7 │ 0.0 │ 0.0 │ 0.0 │    0.481989 │   8.57455e7 │\n",
      "│ 144.0 │  4.9224e6 │ 0.0 │ 8.30598e7 │ 0.0 │ 0.0 │ 0.0 │    0.482063 │   8.79822e7 │\n",
      "│ 145.0 │ 4.68552e6 │ 0.0 │ 7.72329e7 │ 0.0 │ 0.0 │ 0.0 │    0.482009 │   8.19184e7 │\n",
      "│ 146.0 │ 4.71156e6 │ 0.0 │ 7.99168e7 │ 0.0 │ 0.0 │ 0.0 │    0.482075 │   8.46283e7 │\n",
      "│ 147.0 │ 4.72903e6 │ 0.0 │ 8.18026e7 │ 0.0 │ 0.0 │ 0.0 │    0.482119 │   8.65316e7 │\n",
      "│ 148.0 │ 4.80698e6 │ 0.0 │ 8.25018e7 │ 0.0 │ 0.0 │ 0.0 │    0.482101 │   8.73088e7 │\n",
      "│ 149.0 │ 4.72733e6 │ 0.0 │ 7.99733e7 │ 0.0 │ 0.0 │ 0.0 │    0.482069 │   8.47006e7 │\n",
      "│ 150.0 │ 4.50401e6 │ 0.0 │ 7.80239e7 │ 0.0 │ 0.0 │ 0.0 │    0.482122 │   8.25279e7 │\n",
      "│ 151.0 │ 4.48644e6 │ 0.0 │ 7.78544e7 │ 0.0 │ 0.0 │ 0.0 │    0.482126 │   8.23408e7 │\n",
      "│ 152.0 │ 4.32418e6 │ 0.0 │ 7.59757e7 │ 0.0 │ 0.0 │ 0.0 │    0.482153 │   8.02999e7 │\n",
      "│ 153.0 │ 4.63091e6 │ 0.0 │ 7.90904e7 │ 0.0 │ 0.0 │ 0.0 │     0.48209 │   8.37213e7 │\n",
      "│ 154.0 │  4.6507e6 │ 0.0 │ 7.86455e7 │ 0.0 │ 0.0 │ 0.0 │    0.482068 │   8.32962e7 │\n",
      "│ 155.0 │ 4.60265e6 │ 0.0 │ 7.57073e7 │ 0.0 │ 0.0 │ 0.0 │    0.482004 │   8.03099e7 │\n",
      "│ 156.0 │ 4.58757e6 │ 0.0 │  7.3765e7 │ 0.0 │ 0.0 │ 0.0 │    0.481951 │   7.83526e7 │\n",
      "│ 157.0 │ 4.58286e6 │ 0.0 │ 7.44783e7 │ 0.0 │ 0.0 │ 0.0 │    0.481976 │   7.90612e7 │\n",
      "│ 158.0 │ 4.97109e6 │ 0.0 │ 7.64348e7 │ 0.0 │ 0.0 │ 0.0 │    0.481843 │   8.14059e7 │\n",
      "│ 159.0 │  4.8336e6 │ 0.0 │ 7.46267e7 │ 0.0 │ 0.0 │ 0.0 │    0.481853 │   7.94603e7 │\n",
      "│ 160.0 │ 4.98686e6 │ 0.0 │ 7.72894e7 │ 0.0 │ 0.0 │ 0.0 │    0.481863 │   8.22762e7 │\n",
      "│ 161.0 │ 4.99183e6 │ 0.0 │ 7.19004e7 │ 0.0 │ 0.0 │ 0.0 │    0.481677 │   7.68922e7 │\n",
      "│ 162.0 │ 4.87064e6 │ 0.0 │ 7.22182e7 │ 0.0 │ 0.0 │ 0.0 │    0.481752 │   7.70889e7 │\n",
      "│ 163.0 │ 4.95712e6 │ 0.0 │ 7.24725e7 │ 0.0 │ 0.0 │ 0.0 │    0.481716 │   7.74296e7 │\n",
      "│ 164.0 │  5.1634e6 │ 0.0 │ 7.48103e7 │ 0.0 │ 0.0 │ 0.0 │    0.481693 │   7.99737e7 │\n",
      "│ 165.0 │ 5.21421e6 │ 0.0 │ 7.52835e7 │ 0.0 │ 0.0 │ 0.0 │    0.481684 │   8.04977e7 │\n",
      "│ 166.0 │ 5.22384e6 │ 0.0 │  7.4669e7 │ 0.0 │ 0.0 │ 0.0 │    0.481657 │   7.98929e7 │\n",
      "│ 167.0 │  5.1343e6 │ 0.0 │ 7.73035e7 │ 0.0 │ 0.0 │ 0.0 │    0.481791 │   8.24378e7 │\n",
      "│ 168.0 │ 5.13842e6 │ 0.0 │ 7.82429e7 │ 0.0 │ 0.0 │ 0.0 │    0.481819 │   8.33813e7 │\n",
      "│ 169.0 │ 4.98104e6 │ 0.0 │ 7.71834e7 │ 0.0 │ 0.0 │ 0.0 │    0.481862 │   8.21645e7 │\n",
      "│ 170.0 │ 4.89425e6 │ 0.0 │ 7.52835e7 │ 0.0 │ 0.0 │ 0.0 │    0.481844 │   8.01778e7 │\n",
      "│ 171.0 │ 4.82344e6 │ 0.0 │ 7.49304e7 │ 0.0 │ 0.0 │ 0.0 │    0.481868 │   7.97538e7 │\n",
      "│ 172.0 │ 4.78174e6 │ 0.0 │ 7.43865e7 │ 0.0 │ 0.0 │ 0.0 │    0.481872 │   7.91683e7 │\n",
      "│ 173.0 │ 4.74914e6 │ 0.0 │ 7.43795e7 │ 0.0 │ 0.0 │ 0.0 │    0.481888 │   7.91286e7 │\n",
      "│ 174.0 │ 4.81423e6 │ 0.0 │ 7.60746e7 │ 0.0 │ 0.0 │ 0.0 │     0.48191 │   8.08888e7 │\n",
      "│ 175.0 │ 4.82439e6 │ 0.0 │ 7.53118e7 │ 0.0 │ 0.0 │ 0.0 │     0.48188 │   8.01362e7 │\n",
      "│ 176.0 │ 4.64647e6 │ 0.0 │ 7.16814e7 │ 0.0 │ 0.0 │ 0.0 │    0.481851 │   7.63279e7 │\n",
      "│ 177.0 │ 4.65345e6 │ 0.0 │  7.2303e7 │ 0.0 │ 0.0 │ 0.0 │    0.481869 │   7.69564e7 │\n",
      "│ 178.0 │ 4.60625e6 │ 0.0 │ 7.17662e7 │ 0.0 │ 0.0 │ 0.0 │    0.481875 │   7.63724e7 │\n",
      "│ 179.0 │ 4.47067e6 │ 0.0 │ 7.08692e7 │ 0.0 │ 0.0 │ 0.0 │    0.481917 │   7.53399e7 │\n",
      "│ 180.0 │ 4.34133e6 │ 0.0 │ 6.78816e7 │ 0.0 │ 0.0 │ 0.0 │    0.481884 │   7.22229e7 │\n",
      "│ 181.0 │ 4.40409e6 │ 0.0 │ 6.79452e7 │ 0.0 │ 0.0 │ 0.0 │    0.481851 │   7.23492e7 │\n",
      "│ 182.0 │ 4.46887e6 │ 0.0 │ 6.87786e7 │ 0.0 │ 0.0 │ 0.0 │    0.481845 │   7.32474e7 │\n",
      "│ 183.0 │ 4.43595e6 │ 0.0 │ 6.77756e7 │ 0.0 │ 0.0 │ 0.0 │    0.481827 │   7.22116e7 │\n",
      "│ 184.0 │  4.4949e6 │ 0.0 │ 6.92659e7 │ 0.0 │ 0.0 │ 0.0 │    0.481849 │   7.37608e7 │\n",
      "│ 185.0 │ 4.56063e6 │ 0.0 │ 7.25784e7 │ 0.0 │ 0.0 │ 0.0 │    0.481927 │   7.71391e7 │\n",
      "│ 186.0 │ 4.60403e6 │ 0.0 │ 7.26208e7 │ 0.0 │ 0.0 │ 0.0 │    0.481905 │   7.72248e7 │\n",
      "│ 187.0 │ 4.73982e6 │ 0.0 │ 7.29386e7 │ 0.0 │ 0.0 │ 0.0 │    0.481845 │   7.76785e7 │\n",
      "│ 188.0 │ 4.60593e6 │ 0.0 │ 7.06856e7 │ 0.0 │ 0.0 │ 0.0 │    0.481838 │   7.52915e7 │\n",
      "│ 189.0 │ 4.66139e6 │ 0.0 │ 7.35037e7 │ 0.0 │ 0.0 │ 0.0 │    0.481905 │   7.81651e7 │\n",
      "│ 190.0 │ 4.72987e6 │ 0.0 │ 7.26844e7 │ 0.0 │ 0.0 │ 0.0 │    0.481842 │   7.74142e7 │\n",
      "│ 191.0 │ 4.84355e6 │ 0.0 │ 7.57426e7 │ 0.0 │ 0.0 │ 0.0 │    0.481884 │   8.05861e7 │\n",
      "│ 192.0 │ 4.79179e6 │ 0.0 │ 7.55519e7 │ 0.0 │ 0.0 │ 0.0 │    0.481904 │   8.03437e7 │\n",
      "│ 193.0 │ 4.84736e6 │ 0.0 │ 7.69927e7 │ 0.0 │ 0.0 │ 0.0 │    0.481922 │   8.18401e7 │\n",
      "│ 194.0 │ 4.95405e6 │ 0.0 │ 7.64983e7 │ 0.0 │ 0.0 │ 0.0 │    0.481854 │   8.14524e7 │\n",
      "│ 195.0 │ 4.96876e6 │ 0.0 │ 7.68374e7 │ 0.0 │ 0.0 │ 0.0 │    0.481857 │   8.18061e7 │\n",
      "│ 196.0 │ 4.81169e6 │ 0.0 │ 7.42241e7 │ 0.0 │ 0.0 │ 0.0 │    0.481851 │   7.90358e7 │\n",
      "│ 197.0 │ 4.87879e6 │ 0.0 │ 7.51917e7 │ 0.0 │ 0.0 │ 0.0 │    0.481849 │   8.00705e7 │\n",
      "│ 198.0 │ 4.65049e6 │ 0.0 │ 7.42594e7 │ 0.0 │ 0.0 │ 0.0 │    0.481935 │   7.89099e7 │\n",
      "│ 199.0 │ 4.46611e6 │ 0.0 │ 7.21617e7 │ 0.0 │ 0.0 │ 0.0 │    0.481963 │   7.66278e7 │\n",
      "│ 200.0 │ 4.45606e6 │ 0.0 │ 7.23242e7 │ 0.0 │ 0.0 │ 0.0 │    0.481973 │   7.67802e7 │\n",
      "│ 201.0 │ 4.38049e6 │ 0.0 │ 7.19074e7 │ 0.0 │ 0.0 │ 0.0 │       0.482 │   7.62879e7 │\n",
      "│ 202.0 │ 4.54856e6 │ 0.0 │ 7.06361e7 │ 0.0 │ 0.0 │ 0.0 │    0.481867 │   7.51847e7 │\n",
      "│ 203.0 │ 4.62138e6 │ 0.0 │ 7.18086e7 │ 0.0 │ 0.0 │ 0.0 │    0.481869 │   7.64299e7 │\n",
      "│ 204.0 │ 4.42198e6 │ 0.0 │ 6.78427e7 │ 0.0 │ 0.0 │ 0.0 │    0.481838 │   7.22647e7 │\n",
      "│ 205.0 │ 4.26819e6 │ 0.0 │ 6.61582e7 │ 0.0 │ 0.0 │ 0.0 │    0.481863 │   7.04264e7 │\n",
      "│ 206.0 │ 4.28661e6 │ 0.0 │ 6.81076e7 │ 0.0 │ 0.0 │ 0.0 │    0.481923 │   7.23942e7 │\n",
      "│ 207.0 │ 4.35657e6 │ 0.0 │  6.7931e7 │ 0.0 │ 0.0 │ 0.0 │    0.481877 │   7.22876e7 │\n",
      "│ 208.0 │ 4.31624e6 │ 0.0 │ 6.95696e7 │ 0.0 │ 0.0 │ 0.0 │    0.481957 │   7.38859e7 │\n",
      "│ 209.0 │ 4.47977e6 │ 0.0 │ 7.63076e7 │ 0.0 │ 0.0 │ 0.0 │    0.482084 │   8.07874e7 │\n",
      "│ 210.0 │ 4.60477e6 │ 0.0 │ 7.61593e7 │ 0.0 │ 0.0 │ 0.0 │    0.482017 │   8.07641e7 │\n",
      "│ 211.0 │ 4.76342e6 │ 0.0 │ 7.92811e7 │ 0.0 │ 0.0 │ 0.0 │    0.482032 │   8.40445e7 │\n",
      "│ 212.0 │ 4.84238e6 │ 0.0 │  7.8928e7 │ 0.0 │ 0.0 │ 0.0 │    0.481983 │   8.37704e7 │\n",
      "│ 213.0 │ 4.86397e6 │ 0.0 │ 8.01287e7 │ 0.0 │ 0.0 │ 0.0 │    0.482008 │   8.49926e7 │\n",
      "│ 214.0 │ 4.92949e6 │ 0.0 │ 8.02275e7 │ 0.0 │ 0.0 │ 0.0 │     0.48198 │    8.5157e7 │\n",
      "│ 215.0 │ 4.96929e6 │ 0.0 │ 8.01569e7 │ 0.0 │ 0.0 │ 0.0 │    0.481959 │   8.51262e7 │\n",
      "│ 216.0 │ 5.11588e6 │ 0.0 │  8.3759e7 │ 0.0 │ 0.0 │ 0.0 │    0.481994 │   8.88749e7 │\n",
      "│ 217.0 │ 5.14604e6 │ 0.0 │ 8.24877e7 │ 0.0 │ 0.0 │ 0.0 │    0.481944 │   8.76337e7 │\n",
      "│ 218.0 │  5.2557e6 │ 0.0 │ 8.46701e7 │ 0.0 │ 0.0 │ 0.0 │    0.481956 │   8.99258e7 │\n",
      "│ 219.0 │ 5.17441e6 │ 0.0 │ 8.33423e7 │ 0.0 │ 0.0 │ 0.0 │    0.481955 │   8.85167e7 │\n",
      "│ 220.0 │ 5.23707e6 │ 0.0 │ 8.46348e7 │ 0.0 │ 0.0 │ 0.0 │    0.481963 │   8.98719e7 │\n",
      "│ 221.0 │  5.2178e6 │ 0.0 │ 8.51928e7 │ 0.0 │ 0.0 │ 0.0 │    0.481987 │   9.04106e7 │\n",
      "│ 222.0 │  5.3354e6 │ 0.0 │ 8.58355e7 │ 0.0 │ 0.0 │ 0.0 │    0.481952 │   9.11709e7 │\n",
      "│ 223.0 │ 5.28618e6 │ 0.0 │ 8.41616e7 │ 0.0 │ 0.0 │ 0.0 │    0.481928 │   8.94478e7 │\n",
      "│ 224.0 │  5.1562e6 │ 0.0 │ 8.65277e7 │ 0.0 │ 0.0 │ 0.0 │    0.482051 │   9.16839e7 │\n",
      "│ 225.0 │ 5.05671e6 │ 0.0 │ 8.63864e7 │ 0.0 │ 0.0 │ 0.0 │    0.482091 │   9.14431e7 │\n",
      "│ 226.0 │ 5.10604e6 │ 0.0 │ 8.66265e7 │ 0.0 │ 0.0 │ 0.0 │    0.482075 │   9.17326e7 │\n",
      "│ 227.0 │ 5.06148e6 │ 0.0 │ 8.61745e7 │ 0.0 │ 0.0 │ 0.0 │    0.482083 │    9.1236e7 │\n",
      "│ 228.0 │ 5.09524e6 │ 0.0 │ 8.74741e7 │ 0.0 │ 0.0 │ 0.0 │    0.482102 │   9.25693e7 │\n",
      "│ 229.0 │ 4.95024e6 │ 0.0 │ 8.55742e7 │ 0.0 │ 0.0 │ 0.0 │    0.482117 │   9.05244e7 │\n",
      "└───────┴───────────┴─────┴───────────┴─────┴─────┴─────┴─────────────┴─────────────┘\n"
     ]
    }
   ],
   "source": [
    "table_data=Array{Float64, 2}(undef, trading_days, length(w)+3)\n",
    "for element in 1:trading_days\n",
    "    table_data[element,1]=element\n",
    "    for j in eachindex(tickers)\n",
    "        table_data[element,j+1]=portfolio_performance_initial[element,j]\n",
    "    end\n",
    "    table_data[element,end-1]=portfolio_performance_initial[element, end-1]\n",
    "    table_data[element,end]=portfolio_performance_initial[element,end]\n",
    "end\n",
    "\n",
    "pretty_table(table_data, header=[\"index\", tickers..., \"risk (sqrt)\", \"total value\"])\n"
   ]
  },
  {
   "cell_type": "code",
   "execution_count": 119,
   "id": "f49ea2a2",
   "metadata": {},
   "outputs": [
    {
     "data": {
      "text/plain": [
       "229×8 Matrix{Float64}:\n",
       " 2.44162e7  2.319  1.36   2.53307e7  1.182  16.642  0.336432  4.97469e7\n",
       " 4.81387e7  1.172  3.962  1.60818e6  0.484   4.863  0.433798  4.97469e7\n",
       " 4.81387e7  1.172  3.962  1.60818e6  0.484   4.863  0.433798  4.97469e7\n",
       " 4.81387e7  1.172  3.962  1.60818e6  0.484   4.863  0.433798  4.97469e7\n",
       " 4.81387e7  1.172  3.962  1.60818e6  0.484   4.863  0.433798  4.97469e7\n",
       " 4.81387e7  1.172  3.962  1.60818e6  0.484   4.863  0.433798  4.97469e7\n",
       " 4.81387e7  1.172  3.962  1.60818e6  0.484   4.863  0.433798  4.97469e7\n",
       " 4.81387e7  1.172  3.962  1.60818e6  0.484   4.863  0.433798  4.97469e7\n",
       " 4.81387e7  1.172  3.962  1.60818e6  0.484   4.863  0.433798  4.97469e7\n",
       " 4.81387e7  1.172  3.962  1.60818e6  0.484   4.863  0.433798  4.97469e7\n",
       " ⋮                                           ⋮                \n",
       " 4.81387e7  1.172  3.962  1.60818e6  0.484   4.863  0.433798  4.97469e7\n",
       " 4.81387e7  1.172  3.962  1.60818e6  0.484   4.863  0.433798  4.97469e7\n",
       " 4.81387e7  1.172  3.962  1.60818e6  0.484   4.863  0.433798  4.97469e7\n",
       " 4.81387e7  1.172  3.962  1.60818e6  0.484   4.863  0.433798  4.97469e7\n",
       " 4.81387e7  1.172  3.962  1.60818e6  0.484   4.863  0.433798  4.97469e7\n",
       " 4.81387e7  1.172  3.962  1.60818e6  0.484   4.863  0.433798  4.97469e7\n",
       " 4.81387e7  1.172  3.962  1.60818e6  0.484   4.863  0.433798  4.97469e7\n",
       " 4.81387e7  1.172  3.962  1.60818e6  0.484   4.863  0.433798  4.97469e7\n",
       " 4.81387e7  1.172  3.962  1.60818e6  0.484   4.863  0.433798  4.97469e7"
      ]
     },
     "metadata": {},
     "output_type": "display_data"
    }
   ],
   "source": [
    "reallocated_portfolio=Array{Float64, 2}(undef, trading_days, length(w)+2)\n",
    "\n",
    "for element in 1:trading_days\n",
    "    risk_new=results[element,:risk]\n",
    "    n_new=results[element,:N_updated]\n",
    "    price_new=results[element,:updated_close]\n",
    "\n",
    "    for j in eachindex(tickers)\n",
    "        reallocated_portfolio[element,j]=n_new[j]*price_new[j]|> x -> round(x,digits=3)|> abs\n",
    "    end\n",
    "\n",
    "    reallocated_portfolio[element,end-1]=risk_new\n",
    "end\n",
    "\n",
    "for element in 1:trading_days\n",
    "    reallocated_portfolio[element,end]=sum(reallocated_portfolio[i,1:end-2])\n",
    "end\n",
    "\n",
    "tot=reallocated_portfolio[1,end]\n",
    "data=reallocated_portfolio[1,1:end-2]\n",
    "w=(1/tot)*data\n",
    "reallocated_portfolio[1,end-1]=transpose(w)*Σ̂*w |> sqrt\n",
    "\n",
    "reallocated_portfolio"
   ]
  },
  {
   "cell_type": "code",
   "execution_count": 120,
   "id": "307ea0bb",
   "metadata": {},
   "outputs": [
    {
     "name": "stdout",
     "output_type": "stream",
     "text": [
      "┌───────┬───────────┬───────┬───────┬───────────┬───────┬────────┬─────────────┬─────────────┐\n",
      "│\u001b[1m index \u001b[0m│\u001b[1m      NVDA \u001b[0m│\u001b[1m   MDT \u001b[0m│\u001b[1m   AMD \u001b[0m│\u001b[1m        PG \u001b[0m│\u001b[1m    MO \u001b[0m│\u001b[1m    PLD \u001b[0m│\u001b[1m risk (sqrt) \u001b[0m│\u001b[1m total value \u001b[0m│\n",
      "├───────┼───────────┼───────┼───────┼───────────┼───────┼────────┼─────────────┼─────────────┤\n",
      "│   1.0 │ 2.44162e7 │ 2.319 │  1.36 │ 2.53307e7 │ 1.182 │ 16.642 │    0.336432 │   4.97469e7 │\n",
      "│   2.0 │ 4.81387e7 │ 1.172 │ 3.962 │ 1.60818e6 │ 0.484 │  4.863 │    0.433798 │   4.97469e7 │\n",
      "│   3.0 │ 4.81387e7 │ 1.172 │ 3.962 │ 1.60818e6 │ 0.484 │  4.863 │    0.433798 │   4.97469e7 │\n",
      "│   4.0 │ 4.81387e7 │ 1.172 │ 3.962 │ 1.60818e6 │ 0.484 │  4.863 │    0.433798 │   4.97469e7 │\n",
      "│   5.0 │ 4.81387e7 │ 1.172 │ 3.962 │ 1.60818e6 │ 0.484 │  4.863 │    0.433798 │   4.97469e7 │\n",
      "│   6.0 │ 4.81387e7 │ 1.172 │ 3.962 │ 1.60818e6 │ 0.484 │  4.863 │    0.433798 │   4.97469e7 │\n",
      "│   7.0 │ 4.81387e7 │ 1.172 │ 3.962 │ 1.60818e6 │ 0.484 │  4.863 │    0.433798 │   4.97469e7 │\n",
      "│   8.0 │ 4.81387e7 │ 1.172 │ 3.962 │ 1.60818e6 │ 0.484 │  4.863 │    0.433798 │   4.97469e7 │\n",
      "│   9.0 │ 4.81387e7 │ 1.172 │ 3.962 │ 1.60818e6 │ 0.484 │  4.863 │    0.433798 │   4.97469e7 │\n",
      "│  10.0 │ 4.81387e7 │ 1.172 │ 3.962 │ 1.60818e6 │ 0.484 │  4.863 │    0.433798 │   4.97469e7 │\n",
      "│  11.0 │ 4.81387e7 │ 1.172 │ 3.962 │ 1.60818e6 │ 0.484 │  4.863 │    0.433798 │   4.97469e7 │\n",
      "│  12.0 │ 4.81387e7 │ 1.172 │ 3.962 │ 1.60818e6 │ 0.484 │  4.863 │    0.433798 │   4.97469e7 │\n",
      "│  13.0 │ 4.81387e7 │ 1.172 │ 3.962 │ 1.60818e6 │ 0.484 │  4.863 │    0.433798 │   4.97469e7 │\n",
      "│  14.0 │ 4.81387e7 │ 1.172 │ 3.962 │ 1.60818e6 │ 0.484 │  4.863 │    0.433798 │   4.97469e7 │\n",
      "│  15.0 │ 4.81387e7 │ 1.172 │ 3.962 │ 1.60818e6 │ 0.484 │  4.863 │    0.433798 │   4.97469e7 │\n",
      "│  16.0 │ 4.81387e7 │ 1.172 │ 3.962 │ 1.60818e6 │ 0.484 │  4.863 │    0.433798 │   4.97469e7 │\n",
      "│  17.0 │ 4.81387e7 │ 1.172 │ 3.962 │ 1.60818e6 │ 0.484 │  4.863 │    0.433798 │   4.97469e7 │\n",
      "│  18.0 │ 4.81387e7 │ 1.172 │ 3.962 │ 1.60818e6 │ 0.484 │  4.863 │    0.433798 │   4.97469e7 │\n",
      "│  19.0 │ 4.81387e7 │ 1.172 │ 3.962 │ 1.60818e6 │ 0.484 │  4.863 │    0.433798 │   4.97469e7 │\n",
      "│  20.0 │ 4.81387e7 │ 1.172 │ 3.962 │ 1.60818e6 │ 0.484 │  4.863 │    0.433798 │   4.97469e7 │\n",
      "│  21.0 │ 4.81387e7 │ 1.172 │ 3.962 │ 1.60818e6 │ 0.484 │  4.863 │    0.433798 │   4.97469e7 │\n",
      "│  22.0 │ 4.81387e7 │ 1.172 │ 3.962 │ 1.60818e6 │ 0.484 │  4.863 │    0.433798 │   4.97469e7 │\n",
      "│  23.0 │ 4.81387e7 │ 1.172 │ 3.962 │ 1.60818e6 │ 0.484 │  4.863 │    0.433798 │   4.97469e7 │\n",
      "│  24.0 │ 4.81387e7 │ 1.172 │ 3.962 │ 1.60818e6 │ 0.484 │  4.863 │    0.433798 │   4.97469e7 │\n",
      "│  25.0 │ 4.81387e7 │ 1.172 │ 3.962 │ 1.60818e6 │ 0.484 │  4.863 │    0.433798 │   4.97469e7 │\n",
      "│  26.0 │ 4.81387e7 │ 1.172 │ 3.962 │ 1.60818e6 │ 0.484 │  4.863 │    0.433798 │   4.97469e7 │\n",
      "│  27.0 │ 4.81387e7 │ 1.172 │ 3.962 │ 1.60818e6 │ 0.484 │  4.863 │    0.433798 │   4.97469e7 │\n",
      "│  28.0 │ 4.81387e7 │ 1.172 │ 3.962 │ 1.60818e6 │ 0.484 │  4.863 │    0.433798 │   4.97469e7 │\n",
      "│  29.0 │ 4.81387e7 │ 1.172 │ 3.962 │ 1.60818e6 │ 0.484 │  4.863 │    0.433798 │   4.97469e7 │\n",
      "│  30.0 │ 4.81387e7 │ 1.172 │ 3.962 │ 1.60818e6 │ 0.484 │  4.863 │    0.433798 │   4.97469e7 │\n",
      "│  31.0 │ 4.81387e7 │ 1.172 │ 3.962 │ 1.60818e6 │ 0.484 │  4.863 │    0.433798 │   4.97469e7 │\n",
      "│  32.0 │ 4.81387e7 │ 1.172 │ 3.962 │ 1.60818e6 │ 0.484 │  4.863 │    0.433798 │   4.97469e7 │\n",
      "│  33.0 │ 4.81387e7 │ 1.172 │ 3.962 │ 1.60818e6 │ 0.484 │  4.863 │    0.433798 │   4.97469e7 │\n",
      "│  34.0 │ 4.81387e7 │ 1.172 │ 3.962 │ 1.60818e6 │ 0.484 │  4.863 │    0.433798 │   4.97469e7 │\n",
      "│  35.0 │ 4.81387e7 │ 1.172 │ 3.962 │ 1.60818e6 │ 0.484 │  4.863 │    0.433798 │   4.97469e7 │\n",
      "│  36.0 │ 4.81387e7 │ 1.172 │ 3.962 │ 1.60818e6 │ 0.484 │  4.863 │    0.433798 │   4.97469e7 │\n",
      "│  37.0 │ 4.81387e7 │ 1.172 │ 3.962 │ 1.60818e6 │ 0.484 │  4.863 │    0.433798 │   4.97469e7 │\n",
      "│  38.0 │ 4.81387e7 │ 1.172 │ 3.962 │ 1.60818e6 │ 0.484 │  4.863 │    0.433798 │   4.97469e7 │\n",
      "│  39.0 │ 4.81387e7 │ 1.172 │ 3.962 │ 1.60818e6 │ 0.484 │  4.863 │    0.433798 │   4.97469e7 │\n",
      "│  40.0 │ 4.81387e7 │ 1.172 │ 3.962 │ 1.60818e6 │ 0.484 │  4.863 │    0.433798 │   4.97469e7 │\n",
      "│  41.0 │ 4.81387e7 │ 1.172 │ 3.962 │ 1.60818e6 │ 0.484 │  4.863 │    0.433798 │   4.97469e7 │\n",
      "│  42.0 │ 4.81387e7 │ 1.172 │ 3.962 │ 1.60818e6 │ 0.484 │  4.863 │    0.433798 │   4.97469e7 │\n",
      "│  43.0 │ 4.81387e7 │ 1.172 │ 3.962 │ 1.60818e6 │ 0.484 │  4.863 │    0.433798 │   4.97469e7 │\n",
      "│  44.0 │ 4.81387e7 │ 1.172 │ 3.962 │ 1.60818e6 │ 0.484 │  4.863 │    0.433798 │   4.97469e7 │\n",
      "│  45.0 │ 4.81387e7 │ 1.172 │ 3.962 │ 1.60818e6 │ 0.484 │  4.863 │    0.433798 │   4.97469e7 │\n",
      "│  46.0 │ 4.81387e7 │ 1.172 │ 3.962 │ 1.60818e6 │ 0.484 │  4.863 │    0.433798 │   4.97469e7 │\n",
      "│  47.0 │ 4.81387e7 │ 1.172 │ 3.962 │ 1.60818e6 │ 0.484 │  4.863 │    0.433798 │   4.97469e7 │\n",
      "│  48.0 │ 4.81387e7 │ 1.172 │ 3.962 │ 1.60818e6 │ 0.484 │  4.863 │    0.433798 │   4.97469e7 │\n",
      "│  49.0 │ 4.81387e7 │ 1.172 │ 3.962 │ 1.60818e6 │ 0.484 │  4.863 │    0.433798 │   4.97469e7 │\n",
      "│  50.0 │ 4.81387e7 │ 1.172 │ 3.962 │ 1.60818e6 │ 0.484 │  4.863 │    0.433798 │   4.97469e7 │\n",
      "│  51.0 │ 4.81387e7 │ 1.172 │ 3.962 │ 1.60818e6 │ 0.484 │  4.863 │    0.433798 │   4.97469e7 │\n",
      "│  52.0 │ 4.81387e7 │ 1.172 │ 3.962 │ 1.60818e6 │ 0.484 │  4.863 │    0.433798 │   4.97469e7 │\n",
      "│  53.0 │ 4.81387e7 │ 1.172 │ 3.962 │ 1.60818e6 │ 0.484 │  4.863 │    0.433798 │   4.97469e7 │\n",
      "│  54.0 │ 4.81387e7 │ 1.172 │ 3.962 │ 1.60818e6 │ 0.484 │  4.863 │    0.433798 │   4.97469e7 │\n",
      "│  55.0 │ 4.81387e7 │ 1.172 │ 3.962 │ 1.60818e6 │ 0.484 │  4.863 │    0.433798 │   4.97469e7 │\n",
      "│  56.0 │ 4.81387e7 │ 1.172 │ 3.962 │ 1.60818e6 │ 0.484 │  4.863 │    0.433798 │   4.97469e7 │\n",
      "│  57.0 │ 4.81387e7 │ 1.172 │ 3.962 │ 1.60818e6 │ 0.484 │  4.863 │    0.433798 │   4.97469e7 │\n",
      "│  58.0 │ 4.81387e7 │ 1.172 │ 3.962 │ 1.60818e6 │ 0.484 │  4.863 │    0.433798 │   4.97469e7 │\n",
      "│  59.0 │ 4.81387e7 │ 1.172 │ 3.962 │ 1.60818e6 │ 0.484 │  4.863 │    0.433798 │   4.97469e7 │\n",
      "│  60.0 │ 4.81387e7 │ 1.172 │ 3.962 │ 1.60818e6 │ 0.484 │  4.863 │    0.433798 │   4.97469e7 │\n",
      "│  61.0 │ 4.81387e7 │ 1.172 │ 3.962 │ 1.60818e6 │ 0.484 │  4.863 │    0.433798 │   4.97469e7 │\n",
      "│  62.0 │ 4.81387e7 │ 1.172 │ 3.962 │ 1.60818e6 │ 0.484 │  4.863 │    0.433798 │   4.97469e7 │\n",
      "│  63.0 │ 4.81387e7 │ 1.172 │ 3.962 │ 1.60818e6 │ 0.484 │  4.863 │    0.433798 │   4.97469e7 │\n",
      "│  64.0 │ 4.81387e7 │ 1.172 │ 3.962 │ 1.60818e6 │ 0.484 │  4.863 │    0.433798 │   4.97469e7 │\n",
      "│  65.0 │ 4.81387e7 │ 1.172 │ 3.962 │ 1.60818e6 │ 0.484 │  4.863 │    0.433798 │   4.97469e7 │\n",
      "│  66.0 │ 4.81387e7 │ 1.172 │ 3.962 │ 1.60818e6 │ 0.484 │  4.863 │    0.433798 │   4.97469e7 │\n",
      "│  67.0 │ 4.81387e7 │ 1.172 │ 3.962 │ 1.60818e6 │ 0.484 │  4.863 │    0.433798 │   4.97469e7 │\n",
      "│  68.0 │ 4.81387e7 │ 1.172 │ 3.962 │ 1.60818e6 │ 0.484 │  4.863 │    0.433798 │   4.97469e7 │\n",
      "│  69.0 │ 4.81387e7 │ 1.172 │ 3.962 │ 1.60818e6 │ 0.484 │  4.863 │    0.433798 │   4.97469e7 │\n",
      "│  70.0 │ 4.81387e7 │ 1.172 │ 3.962 │ 1.60818e6 │ 0.484 │  4.863 │    0.433798 │   4.97469e7 │\n",
      "│  71.0 │ 4.81387e7 │ 1.172 │ 3.962 │ 1.60818e6 │ 0.484 │  4.863 │    0.433798 │   4.97469e7 │\n",
      "│  72.0 │ 4.81387e7 │ 1.172 │ 3.962 │ 1.60818e6 │ 0.484 │  4.863 │    0.433798 │   4.97469e7 │\n",
      "│  73.0 │ 4.81387e7 │ 1.172 │ 3.962 │ 1.60818e6 │ 0.484 │  4.863 │    0.433798 │   4.97469e7 │\n",
      "│  74.0 │ 4.81387e7 │ 1.172 │ 3.962 │ 1.60818e6 │ 0.484 │  4.863 │    0.433798 │   4.97469e7 │\n",
      "│  75.0 │ 4.81387e7 │ 1.172 │ 3.962 │ 1.60818e6 │ 0.484 │  4.863 │    0.433798 │   4.97469e7 │\n",
      "│  76.0 │ 4.81387e7 │ 1.172 │ 3.962 │ 1.60818e6 │ 0.484 │  4.863 │    0.433798 │   4.97469e7 │\n",
      "│  77.0 │ 4.81387e7 │ 1.172 │ 3.962 │ 1.60818e6 │ 0.484 │  4.863 │    0.433798 │   4.97469e7 │\n",
      "│  78.0 │ 4.81387e7 │ 1.172 │ 3.962 │ 1.60818e6 │ 0.484 │  4.863 │    0.433798 │   4.97469e7 │\n",
      "│  79.0 │ 4.81387e7 │ 1.172 │ 3.962 │ 1.60818e6 │ 0.484 │  4.863 │    0.433798 │   4.97469e7 │\n",
      "│  80.0 │ 4.81387e7 │ 1.172 │ 3.962 │ 1.60818e6 │ 0.484 │  4.863 │    0.433798 │   4.97469e7 │\n",
      "│  81.0 │ 4.81387e7 │ 1.172 │ 3.962 │ 1.60818e6 │ 0.484 │  4.863 │    0.433798 │   4.97469e7 │\n",
      "│  82.0 │ 4.81387e7 │ 1.172 │ 3.962 │ 1.60818e6 │ 0.484 │  4.863 │    0.433798 │   4.97469e7 │\n",
      "│  83.0 │ 4.81387e7 │ 1.172 │ 3.962 │ 1.60818e6 │ 0.484 │  4.863 │    0.433798 │   4.97469e7 │\n",
      "│  84.0 │ 4.81387e7 │ 1.172 │ 3.962 │ 1.60818e6 │ 0.484 │  4.863 │    0.433798 │   4.97469e7 │\n",
      "│  85.0 │ 4.81387e7 │ 1.172 │ 3.962 │ 1.60818e6 │ 0.484 │  4.863 │    0.433798 │   4.97469e7 │\n",
      "│  86.0 │ 4.81387e7 │ 1.172 │ 3.962 │ 1.60818e6 │ 0.484 │  4.863 │    0.433798 │   4.97469e7 │\n",
      "│  87.0 │ 4.81387e7 │ 1.172 │ 3.962 │ 1.60818e6 │ 0.484 │  4.863 │    0.433798 │   4.97469e7 │\n",
      "│  88.0 │ 4.81387e7 │ 1.172 │ 3.962 │ 1.60818e6 │ 0.484 │  4.863 │    0.433798 │   4.97469e7 │\n",
      "│  89.0 │ 4.81387e7 │ 1.172 │ 3.962 │ 1.60818e6 │ 0.484 │  4.863 │    0.433798 │   4.97469e7 │\n",
      "│  90.0 │ 4.81387e7 │ 1.172 │ 3.962 │ 1.60818e6 │ 0.484 │  4.863 │    0.433798 │   4.97469e7 │\n",
      "│  91.0 │ 4.81387e7 │ 1.172 │ 3.962 │ 1.60818e6 │ 0.484 │  4.863 │    0.433798 │   4.97469e7 │\n",
      "│  92.0 │ 4.81387e7 │ 1.172 │ 3.962 │ 1.60818e6 │ 0.484 │  4.863 │    0.433798 │   4.97469e7 │\n",
      "│  93.0 │ 4.81387e7 │ 1.172 │ 3.962 │ 1.60818e6 │ 0.484 │  4.863 │    0.433798 │   4.97469e7 │\n",
      "│  94.0 │ 4.81387e7 │ 1.172 │ 3.962 │ 1.60818e6 │ 0.484 │  4.863 │    0.433798 │   4.97469e7 │\n",
      "│  95.0 │ 4.81387e7 │ 1.172 │ 3.962 │ 1.60818e6 │ 0.484 │  4.863 │    0.433798 │   4.97469e7 │\n",
      "│  96.0 │ 4.81387e7 │ 1.172 │ 3.962 │ 1.60818e6 │ 0.484 │  4.863 │    0.433798 │   4.97469e7 │\n",
      "│  97.0 │ 4.81387e7 │ 1.172 │ 3.962 │ 1.60818e6 │ 0.484 │  4.863 │    0.433798 │   4.97469e7 │\n",
      "│  98.0 │ 4.81387e7 │ 1.172 │ 3.962 │ 1.60818e6 │ 0.484 │  4.863 │    0.433798 │   4.97469e7 │\n",
      "│  99.0 │ 4.81387e7 │ 1.172 │ 3.962 │ 1.60818e6 │ 0.484 │  4.863 │    0.433798 │   4.97469e7 │\n",
      "│ 100.0 │ 4.81387e7 │ 1.172 │ 3.962 │ 1.60818e6 │ 0.484 │  4.863 │    0.433798 │   4.97469e7 │\n",
      "│ 101.0 │ 4.81387e7 │ 1.172 │ 3.962 │ 1.60818e6 │ 0.484 │  4.863 │    0.433798 │   4.97469e7 │\n",
      "│ 102.0 │ 4.81387e7 │ 1.172 │ 3.962 │ 1.60818e6 │ 0.484 │  4.863 │    0.433798 │   4.97469e7 │\n",
      "│ 103.0 │ 4.81387e7 │ 1.172 │ 3.962 │ 1.60818e6 │ 0.484 │  4.863 │    0.433798 │   4.97469e7 │\n",
      "│ 104.0 │ 4.81387e7 │ 1.172 │ 3.962 │ 1.60818e6 │ 0.484 │  4.863 │    0.433798 │   4.97469e7 │\n",
      "│ 105.0 │ 4.81387e7 │ 1.172 │ 3.962 │ 1.60818e6 │ 0.484 │  4.863 │    0.433798 │   4.97469e7 │\n",
      "│ 106.0 │ 4.81387e7 │ 1.172 │ 3.962 │ 1.60818e6 │ 0.484 │  4.863 │    0.433798 │   4.97469e7 │\n",
      "│ 107.0 │ 4.81387e7 │ 1.172 │ 3.962 │ 1.60818e6 │ 0.484 │  4.863 │    0.433798 │   4.97469e7 │\n",
      "│ 108.0 │ 4.81387e7 │ 1.172 │ 3.962 │ 1.60818e6 │ 0.484 │  4.863 │    0.433798 │   4.97469e7 │\n",
      "│ 109.0 │ 4.81387e7 │ 1.172 │ 3.962 │ 1.60818e6 │ 0.484 │  4.863 │    0.433798 │   4.97469e7 │\n",
      "│ 110.0 │ 4.81387e7 │ 1.172 │ 3.962 │ 1.60818e6 │ 0.484 │  4.863 │    0.433798 │   4.97469e7 │\n",
      "│ 111.0 │ 4.81387e7 │ 1.172 │ 3.962 │ 1.60818e6 │ 0.484 │  4.863 │    0.433798 │   4.97469e7 │\n",
      "│ 112.0 │ 4.81387e7 │ 1.172 │ 3.962 │ 1.60818e6 │ 0.484 │  4.863 │    0.433798 │   4.97469e7 │\n",
      "│ 113.0 │ 4.81387e7 │ 1.172 │ 3.962 │ 1.60818e6 │ 0.484 │  4.863 │    0.433798 │   4.97469e7 │\n",
      "│ 114.0 │ 4.81387e7 │ 1.172 │ 3.962 │ 1.60818e6 │ 0.484 │  4.863 │    0.433798 │   4.97469e7 │\n",
      "│ 115.0 │ 4.81387e7 │ 1.172 │ 3.962 │ 1.60818e6 │ 0.484 │  4.863 │    0.433798 │   4.97469e7 │\n",
      "│ 116.0 │ 4.81387e7 │ 1.172 │ 3.962 │ 1.60818e6 │ 0.484 │  4.863 │    0.433798 │   4.97469e7 │\n",
      "│ 117.0 │ 4.81387e7 │ 1.172 │ 3.962 │ 1.60818e6 │ 0.484 │  4.863 │    0.433798 │   4.97469e7 │\n",
      "│ 118.0 │ 4.81387e7 │ 1.172 │ 3.962 │ 1.60818e6 │ 0.484 │  4.863 │    0.433798 │   4.97469e7 │\n",
      "│ 119.0 │ 4.81387e7 │ 1.172 │ 3.962 │ 1.60818e6 │ 0.484 │  4.863 │    0.433798 │   4.97469e7 │\n",
      "│ 120.0 │ 4.81387e7 │ 1.172 │ 3.962 │ 1.60818e6 │ 0.484 │  4.863 │    0.433798 │   4.97469e7 │\n",
      "│ 121.0 │ 4.81387e7 │ 1.172 │ 3.962 │ 1.60818e6 │ 0.484 │  4.863 │    0.433798 │   4.97469e7 │\n",
      "│ 122.0 │ 4.81387e7 │ 1.172 │ 3.962 │ 1.60818e6 │ 0.484 │  4.863 │    0.433798 │   4.97469e7 │\n",
      "│ 123.0 │ 4.81387e7 │ 1.172 │ 3.962 │ 1.60818e6 │ 0.484 │  4.863 │    0.433798 │   4.97469e7 │\n",
      "│ 124.0 │ 4.81387e7 │ 1.172 │ 3.962 │ 1.60818e6 │ 0.484 │  4.863 │    0.433798 │   4.97469e7 │\n",
      "│ 125.0 │ 4.81387e7 │ 1.172 │ 3.962 │ 1.60818e6 │ 0.484 │  4.863 │    0.433798 │   4.97469e7 │\n",
      "│ 126.0 │ 4.81387e7 │ 1.172 │ 3.962 │ 1.60818e6 │ 0.484 │  4.863 │    0.433798 │   4.97469e7 │\n",
      "│ 127.0 │ 4.81387e7 │ 1.172 │ 3.962 │ 1.60818e6 │ 0.484 │  4.863 │    0.433798 │   4.97469e7 │\n",
      "│ 128.0 │ 4.81387e7 │ 1.172 │ 3.962 │ 1.60818e6 │ 0.484 │  4.863 │    0.433798 │   4.97469e7 │\n",
      "│ 129.0 │ 4.81387e7 │ 1.172 │ 3.962 │ 1.60818e6 │ 0.484 │  4.863 │    0.433798 │   4.97469e7 │\n",
      "│ 130.0 │ 4.81387e7 │ 1.172 │ 3.962 │ 1.60818e6 │ 0.484 │  4.863 │    0.433798 │   4.97469e7 │\n",
      "│ 131.0 │ 4.81387e7 │ 1.172 │ 3.962 │ 1.60818e6 │ 0.484 │  4.863 │    0.433798 │   4.97469e7 │\n",
      "│ 132.0 │ 4.81387e7 │ 1.172 │ 3.962 │ 1.60818e6 │ 0.484 │  4.863 │    0.433798 │   4.97469e7 │\n",
      "│ 133.0 │ 4.81387e7 │ 1.172 │ 3.962 │ 1.60818e6 │ 0.484 │  4.863 │    0.433798 │   4.97469e7 │\n",
      "│ 134.0 │ 4.81387e7 │ 1.172 │ 3.962 │ 1.60818e6 │ 0.484 │  4.863 │    0.433798 │   4.97469e7 │\n",
      "│ 135.0 │ 4.81387e7 │ 1.172 │ 3.962 │ 1.60818e6 │ 0.484 │  4.863 │    0.433798 │   4.97469e7 │\n",
      "│ 136.0 │ 4.81387e7 │ 1.172 │ 3.962 │ 1.60818e6 │ 0.484 │  4.863 │    0.433798 │   4.97469e7 │\n",
      "│ 137.0 │ 4.81387e7 │ 1.172 │ 3.962 │ 1.60818e6 │ 0.484 │  4.863 │    0.433798 │   4.97469e7 │\n",
      "│ 138.0 │ 4.81387e7 │ 1.172 │ 3.962 │ 1.60818e6 │ 0.484 │  4.863 │    0.433798 │   4.97469e7 │\n",
      "│ 139.0 │ 4.81387e7 │ 1.172 │ 3.962 │ 1.60818e6 │ 0.484 │  4.863 │    0.433798 │   4.97469e7 │\n",
      "│ 140.0 │ 4.81387e7 │ 1.172 │ 3.962 │ 1.60818e6 │ 0.484 │  4.863 │    0.433798 │   4.97469e7 │\n",
      "│ 141.0 │ 4.81387e7 │ 1.172 │ 3.962 │ 1.60818e6 │ 0.484 │  4.863 │    0.433798 │   4.97469e7 │\n",
      "│ 142.0 │ 4.81387e7 │ 1.172 │ 3.962 │ 1.60818e6 │ 0.484 │  4.863 │    0.433798 │   4.97469e7 │\n",
      "│ 143.0 │ 4.81387e7 │ 1.172 │ 3.962 │ 1.60818e6 │ 0.484 │  4.863 │    0.433798 │   4.97469e7 │\n",
      "│ 144.0 │ 4.81387e7 │ 1.172 │ 3.962 │ 1.60818e6 │ 0.484 │  4.863 │    0.433798 │   4.97469e7 │\n",
      "│ 145.0 │ 4.81387e7 │ 1.172 │ 3.962 │ 1.60818e6 │ 0.484 │  4.863 │    0.433798 │   4.97469e7 │\n",
      "│ 146.0 │ 4.81387e7 │ 1.172 │ 3.962 │ 1.60818e6 │ 0.484 │  4.863 │    0.433798 │   4.97469e7 │\n",
      "│ 147.0 │ 4.81387e7 │ 1.172 │ 3.962 │ 1.60818e6 │ 0.484 │  4.863 │    0.433798 │   4.97469e7 │\n",
      "│ 148.0 │ 4.81387e7 │ 1.172 │ 3.962 │ 1.60818e6 │ 0.484 │  4.863 │    0.433798 │   4.97469e7 │\n",
      "│ 149.0 │ 4.81387e7 │ 1.172 │ 3.962 │ 1.60818e6 │ 0.484 │  4.863 │    0.433798 │   4.97469e7 │\n",
      "│ 150.0 │ 4.81387e7 │ 1.172 │ 3.962 │ 1.60818e6 │ 0.484 │  4.863 │    0.433798 │   4.97469e7 │\n",
      "│ 151.0 │ 4.81387e7 │ 1.172 │ 3.962 │ 1.60818e6 │ 0.484 │  4.863 │    0.433798 │   4.97469e7 │\n",
      "│ 152.0 │ 4.81387e7 │ 1.172 │ 3.962 │ 1.60818e6 │ 0.484 │  4.863 │    0.433798 │   4.97469e7 │\n",
      "│ 153.0 │ 4.81387e7 │ 1.172 │ 3.962 │ 1.60818e6 │ 0.484 │  4.863 │    0.433798 │   4.97469e7 │\n",
      "│ 154.0 │ 4.81387e7 │ 1.172 │ 3.962 │ 1.60818e6 │ 0.484 │  4.863 │    0.433798 │   4.97469e7 │\n",
      "│ 155.0 │ 4.81387e7 │ 1.172 │ 3.962 │ 1.60818e6 │ 0.484 │  4.863 │    0.433798 │   4.97469e7 │\n",
      "│ 156.0 │ 4.81387e7 │ 1.172 │ 3.962 │ 1.60818e6 │ 0.484 │  4.863 │    0.433798 │   4.97469e7 │\n",
      "│ 157.0 │ 4.81387e7 │ 1.172 │ 3.962 │ 1.60818e6 │ 0.484 │  4.863 │    0.433798 │   4.97469e7 │\n",
      "│ 158.0 │ 4.81387e7 │ 1.172 │ 3.962 │ 1.60818e6 │ 0.484 │  4.863 │    0.433798 │   4.97469e7 │\n",
      "│ 159.0 │ 4.81387e7 │ 1.172 │ 3.962 │ 1.60818e6 │ 0.484 │  4.863 │    0.433798 │   4.97469e7 │\n",
      "│ 160.0 │ 4.81387e7 │ 1.172 │ 3.962 │ 1.60818e6 │ 0.484 │  4.863 │    0.433798 │   4.97469e7 │\n",
      "│ 161.0 │ 4.81387e7 │ 1.172 │ 3.962 │ 1.60818e6 │ 0.484 │  4.863 │    0.433798 │   4.97469e7 │\n",
      "│ 162.0 │ 4.81387e7 │ 1.172 │ 3.962 │ 1.60818e6 │ 0.484 │  4.863 │    0.433798 │   4.97469e7 │\n",
      "│ 163.0 │ 4.81387e7 │ 1.172 │ 3.962 │ 1.60818e6 │ 0.484 │  4.863 │    0.433798 │   4.97469e7 │\n",
      "│ 164.0 │ 4.81387e7 │ 1.172 │ 3.962 │ 1.60818e6 │ 0.484 │  4.863 │    0.433798 │   4.97469e7 │\n",
      "│ 165.0 │ 4.81387e7 │ 1.172 │ 3.962 │ 1.60818e6 │ 0.484 │  4.863 │    0.433798 │   4.97469e7 │\n",
      "│ 166.0 │ 4.81387e7 │ 1.172 │ 3.962 │ 1.60818e6 │ 0.484 │  4.863 │    0.433798 │   4.97469e7 │\n",
      "│ 167.0 │ 4.81387e7 │ 1.172 │ 3.962 │ 1.60818e6 │ 0.484 │  4.863 │    0.433798 │   4.97469e7 │\n",
      "│ 168.0 │ 4.81387e7 │ 1.172 │ 3.962 │ 1.60818e6 │ 0.484 │  4.863 │    0.433798 │   4.97469e7 │\n",
      "│ 169.0 │ 4.81387e7 │ 1.172 │ 3.962 │ 1.60818e6 │ 0.484 │  4.863 │    0.433798 │   4.97469e7 │\n",
      "│ 170.0 │ 4.81387e7 │ 1.172 │ 3.962 │ 1.60818e6 │ 0.484 │  4.863 │    0.433798 │   4.97469e7 │\n",
      "│ 171.0 │ 4.81387e7 │ 1.172 │ 3.962 │ 1.60818e6 │ 0.484 │  4.863 │    0.433798 │   4.97469e7 │\n",
      "│ 172.0 │ 4.81387e7 │ 1.172 │ 3.962 │ 1.60818e6 │ 0.484 │  4.863 │    0.433798 │   4.97469e7 │\n",
      "│ 173.0 │ 4.81387e7 │ 1.172 │ 3.962 │ 1.60818e6 │ 0.484 │  4.863 │    0.433798 │   4.97469e7 │\n",
      "│ 174.0 │ 4.81387e7 │ 1.172 │ 3.962 │ 1.60818e6 │ 0.484 │  4.863 │    0.433798 │   4.97469e7 │\n",
      "│ 175.0 │ 4.81387e7 │ 1.172 │ 3.962 │ 1.60818e6 │ 0.484 │  4.863 │    0.433798 │   4.97469e7 │\n",
      "│ 176.0 │ 4.81387e7 │ 1.172 │ 3.962 │ 1.60818e6 │ 0.484 │  4.863 │    0.433798 │   4.97469e7 │\n",
      "│ 177.0 │ 4.81387e7 │ 1.172 │ 3.962 │ 1.60818e6 │ 0.484 │  4.863 │    0.433798 │   4.97469e7 │\n",
      "│ 178.0 │ 4.81387e7 │ 1.172 │ 3.962 │ 1.60818e6 │ 0.484 │  4.863 │    0.433798 │   4.97469e7 │\n",
      "│ 179.0 │ 4.81387e7 │ 1.172 │ 3.962 │ 1.60818e6 │ 0.484 │  4.863 │    0.433798 │   4.97469e7 │\n",
      "│ 180.0 │ 4.81387e7 │ 1.172 │ 3.962 │ 1.60818e6 │ 0.484 │  4.863 │    0.433798 │   4.97469e7 │\n",
      "│ 181.0 │ 4.81387e7 │ 1.172 │ 3.962 │ 1.60818e6 │ 0.484 │  4.863 │    0.433798 │   4.97469e7 │\n",
      "│ 182.0 │ 4.81387e7 │ 1.172 │ 3.962 │ 1.60818e6 │ 0.484 │  4.863 │    0.433798 │   4.97469e7 │\n",
      "│ 183.0 │ 4.81387e7 │ 1.172 │ 3.962 │ 1.60818e6 │ 0.484 │  4.863 │    0.433798 │   4.97469e7 │\n",
      "│ 184.0 │ 4.81387e7 │ 1.172 │ 3.962 │ 1.60818e6 │ 0.484 │  4.863 │    0.433798 │   4.97469e7 │\n",
      "│ 185.0 │ 4.81387e7 │ 1.172 │ 3.962 │ 1.60818e6 │ 0.484 │  4.863 │    0.433798 │   4.97469e7 │\n",
      "│ 186.0 │ 4.81387e7 │ 1.172 │ 3.962 │ 1.60818e6 │ 0.484 │  4.863 │    0.433798 │   4.97469e7 │\n",
      "│ 187.0 │ 4.81387e7 │ 1.172 │ 3.962 │ 1.60818e6 │ 0.484 │  4.863 │    0.433798 │   4.97469e7 │\n",
      "│ 188.0 │ 4.81387e7 │ 1.172 │ 3.962 │ 1.60818e6 │ 0.484 │  4.863 │    0.433798 │   4.97469e7 │\n",
      "│ 189.0 │ 4.81387e7 │ 1.172 │ 3.962 │ 1.60818e6 │ 0.484 │  4.863 │    0.433798 │   4.97469e7 │\n",
      "│ 190.0 │ 4.81387e7 │ 1.172 │ 3.962 │ 1.60818e6 │ 0.484 │  4.863 │    0.433798 │   4.97469e7 │\n",
      "│ 191.0 │ 4.81387e7 │ 1.172 │ 3.962 │ 1.60818e6 │ 0.484 │  4.863 │    0.433798 │   4.97469e7 │\n",
      "│ 192.0 │ 4.81387e7 │ 1.172 │ 3.962 │ 1.60818e6 │ 0.484 │  4.863 │    0.433798 │   4.97469e7 │\n",
      "│ 193.0 │ 4.81387e7 │ 1.172 │ 3.962 │ 1.60818e6 │ 0.484 │  4.863 │    0.433798 │   4.97469e7 │\n",
      "│ 194.0 │ 4.81387e7 │ 1.172 │ 3.962 │ 1.60818e6 │ 0.484 │  4.863 │    0.433798 │   4.97469e7 │\n",
      "│ 195.0 │ 4.81387e7 │ 1.172 │ 3.962 │ 1.60818e6 │ 0.484 │  4.863 │    0.433798 │   4.97469e7 │\n",
      "│ 196.0 │ 4.81387e7 │ 1.172 │ 3.962 │ 1.60818e6 │ 0.484 │  4.863 │    0.433798 │   4.97469e7 │\n",
      "│ 197.0 │ 4.81387e7 │ 1.172 │ 3.962 │ 1.60818e6 │ 0.484 │  4.863 │    0.433798 │   4.97469e7 │\n",
      "│ 198.0 │ 4.81387e7 │ 1.172 │ 3.962 │ 1.60818e6 │ 0.484 │  4.863 │    0.433798 │   4.97469e7 │\n",
      "│ 199.0 │ 4.81387e7 │ 1.172 │ 3.962 │ 1.60818e6 │ 0.484 │  4.863 │    0.433798 │   4.97469e7 │\n",
      "│ 200.0 │ 4.81387e7 │ 1.172 │ 3.962 │ 1.60818e6 │ 0.484 │  4.863 │    0.433798 │   4.97469e7 │\n",
      "│ 201.0 │ 4.81387e7 │ 1.172 │ 3.962 │ 1.60818e6 │ 0.484 │  4.863 │    0.433798 │   4.97469e7 │\n",
      "│ 202.0 │ 4.81387e7 │ 1.172 │ 3.962 │ 1.60818e6 │ 0.484 │  4.863 │    0.433798 │   4.97469e7 │\n",
      "│ 203.0 │ 4.81387e7 │ 1.172 │ 3.962 │ 1.60818e6 │ 0.484 │  4.863 │    0.433798 │   4.97469e7 │\n",
      "│ 204.0 │ 4.81387e7 │ 1.172 │ 3.962 │ 1.60818e6 │ 0.484 │  4.863 │    0.433798 │   4.97469e7 │\n",
      "│ 205.0 │ 4.81387e7 │ 1.172 │ 3.962 │ 1.60818e6 │ 0.484 │  4.863 │    0.433798 │   4.97469e7 │\n",
      "│ 206.0 │ 4.81387e7 │ 1.172 │ 3.962 │ 1.60818e6 │ 0.484 │  4.863 │    0.433798 │   4.97469e7 │\n",
      "│ 207.0 │ 4.81387e7 │ 1.172 │ 3.962 │ 1.60818e6 │ 0.484 │  4.863 │    0.433798 │   4.97469e7 │\n",
      "│ 208.0 │ 4.81387e7 │ 1.172 │ 3.962 │ 1.60818e6 │ 0.484 │  4.863 │    0.433798 │   4.97469e7 │\n",
      "│ 209.0 │ 4.81387e7 │ 1.172 │ 3.962 │ 1.60818e6 │ 0.484 │  4.863 │    0.433798 │   4.97469e7 │\n",
      "│ 210.0 │ 4.81387e7 │ 1.172 │ 3.962 │ 1.60818e6 │ 0.484 │  4.863 │    0.433798 │   4.97469e7 │\n",
      "│ 211.0 │ 4.81387e7 │ 1.172 │ 3.962 │ 1.60818e6 │ 0.484 │  4.863 │    0.433798 │   4.97469e7 │\n",
      "│ 212.0 │ 4.81387e7 │ 1.172 │ 3.962 │ 1.60818e6 │ 0.484 │  4.863 │    0.433798 │   4.97469e7 │\n",
      "│ 213.0 │ 4.81387e7 │ 1.172 │ 3.962 │ 1.60818e6 │ 0.484 │  4.863 │    0.433798 │   4.97469e7 │\n",
      "│ 214.0 │ 4.81387e7 │ 1.172 │ 3.962 │ 1.60818e6 │ 0.484 │  4.863 │    0.433798 │   4.97469e7 │\n",
      "│ 215.0 │ 4.81387e7 │ 1.172 │ 3.962 │ 1.60818e6 │ 0.484 │  4.863 │    0.433798 │   4.97469e7 │\n",
      "│ 216.0 │ 4.81387e7 │ 1.172 │ 3.962 │ 1.60818e6 │ 0.484 │  4.863 │    0.433798 │   4.97469e7 │\n",
      "│ 217.0 │ 4.81387e7 │ 1.172 │ 3.962 │ 1.60818e6 │ 0.484 │  4.863 │    0.433798 │   4.97469e7 │\n",
      "│ 218.0 │ 4.81387e7 │ 1.172 │ 3.962 │ 1.60818e6 │ 0.484 │  4.863 │    0.433798 │   4.97469e7 │\n",
      "│ 219.0 │ 4.81387e7 │ 1.172 │ 3.962 │ 1.60818e6 │ 0.484 │  4.863 │    0.433798 │   4.97469e7 │\n",
      "│ 220.0 │ 4.81387e7 │ 1.172 │ 3.962 │ 1.60818e6 │ 0.484 │  4.863 │    0.433798 │   4.97469e7 │\n",
      "│ 221.0 │ 4.81387e7 │ 1.172 │ 3.962 │ 1.60818e6 │ 0.484 │  4.863 │    0.433798 │   4.97469e7 │\n",
      "│ 222.0 │ 4.81387e7 │ 1.172 │ 3.962 │ 1.60818e6 │ 0.484 │  4.863 │    0.433798 │   4.97469e7 │\n",
      "│ 223.0 │ 4.81387e7 │ 1.172 │ 3.962 │ 1.60818e6 │ 0.484 │  4.863 │    0.433798 │   4.97469e7 │\n",
      "│ 224.0 │ 4.81387e7 │ 1.172 │ 3.962 │ 1.60818e6 │ 0.484 │  4.863 │    0.433798 │   4.97469e7 │\n",
      "│ 225.0 │ 4.81387e7 │ 1.172 │ 3.962 │ 1.60818e6 │ 0.484 │  4.863 │    0.433798 │   4.97469e7 │\n",
      "│ 226.0 │ 4.81387e7 │ 1.172 │ 3.962 │ 1.60818e6 │ 0.484 │  4.863 │    0.433798 │   4.97469e7 │\n",
      "│ 227.0 │ 4.81387e7 │ 1.172 │ 3.962 │ 1.60818e6 │ 0.484 │  4.863 │    0.433798 │   4.97469e7 │\n",
      "│ 228.0 │ 4.81387e7 │ 1.172 │ 3.962 │ 1.60818e6 │ 0.484 │  4.863 │    0.433798 │   4.97469e7 │\n",
      "│ 229.0 │ 4.81387e7 │ 1.172 │ 3.962 │ 1.60818e6 │ 0.484 │  4.863 │    0.433798 │   4.97469e7 │\n",
      "└───────┴───────────┴───────┴───────┴───────────┴───────┴────────┴─────────────┴─────────────┘\n"
     ]
    }
   ],
   "source": [
    "reallocate_data=Array{Float64, 2}(undef, trading_days, length(w)+3)\n",
    "for element in 1:trading_days\n",
    "    reallocate_data[element,1]=element\n",
    "    for j in eachindex(tickers)\n",
    "        reallocate_data[element,j+1]=reallocated_portfolio[element,j]\n",
    "    end\n",
    "    reallocate_data[element,end-1]=reallocated_portfolio[element, end-1]\n",
    "    reallocate_data[element,end]=reallocated_portfolio[element,end]\n",
    "end\n",
    "\n",
    "pretty_table(reallocate_data, header=[\"index\", tickers..., \"risk (sqrt)\", \"total value\"])\n"
   ]
  },
  {
   "cell_type": "code",
   "execution_count": 121,
   "id": "3f01fe50",
   "metadata": {},
   "outputs": [
    {
     "data": {
      "image/png": "[encoded data removed]",
      "image/svg+xml": [
       "<?xml version=\"1.0\" encoding=\"utf-8\"?>\n",
       "<svg xmlns=\"http://www.w3.org/2000/svg\" xmlns:xlink=\"http://www.w3.org/1999/xlink\" width=\"600\" height=\"400\" viewBox=\"0 0 2400 1600\">\n",
       "<defs>\n",
       "  <clipPath id=\"clip270\">\n",
       "    <rect x=\"0\" y=\"0\" width=\"2400\" height=\"1600\"/>\n",
       "  </clipPath>\n",
       "</defs>\n",
       "<path clip-path=\"url(#clip270)\" d=\"M0 1600 L2400 1600 L2400 0 L0 0  Z\" fill=\"#ffffff\" fill-rule=\"evenodd\" fill-opacity=\"1\"/>\n",
       "<defs>\n",
       "  <clipPath id=\"clip271\">\n",
       "    <rect x=\"480\" y=\"0\" width=\"1681\" height=\"1600\"/>\n",
       "  </clipPath>\n",
       "</defs>\n",
       "<path clip-path=\"url(#clip270)\" d=\"M219.033 1423.18 L2352.76 1423.18 L2352.76 47.2441 L219.033 47.2441  Z\" fill=\"#ffffff\" fill-rule=\"evenodd\" fill-opacity=\"1\"/>\n",
       "<defs>\n",
       "  <clipPath id=\"clip272\">\n",
       "    <rect x=\"219\" y=\"47\" width=\"2135\" height=\"1377\"/>\n",
       "  </clipPath>\n",
       "</defs>\n",
       "<polyline clip-path=\"url(#clip272)\" style=\"stroke:#000000; stroke-linecap:round; stroke-linejoin:round; stroke-width:2; stroke-opacity:0.1; fill:none\" points=\"270.593,1423.18 270.593,47.2441 \"/>\n",
       "<polyline clip-path=\"url(#clip272)\" style=\"stroke:#000000; stroke-linecap:round; stroke-linejoin:round; stroke-width:2; stroke-opacity:0.1; fill:none\" points=\"712.028,1423.18 712.028,47.2441 \"/>\n",
       "<polyline clip-path=\"url(#clip272)\" style=\"stroke:#000000; stroke-linecap:round; stroke-linejoin:round; stroke-width:2; stroke-opacity:0.1; fill:none\" points=\"1153.46,1423.18 1153.46,47.2441 \"/>\n",
       "<polyline clip-path=\"url(#clip272)\" style=\"stroke:#000000; stroke-linecap:round; stroke-linejoin:round; stroke-width:2; stroke-opacity:0.1; fill:none\" points=\"1594.9,1423.18 1594.9,47.2441 \"/>\n",
       "<polyline clip-path=\"url(#clip272)\" style=\"stroke:#000000; stroke-linecap:round; stroke-linejoin:round; stroke-width:2; stroke-opacity:0.1; fill:none\" points=\"2036.33,1423.18 2036.33,47.2441 \"/>\n",
       "<polyline clip-path=\"url(#clip270)\" style=\"stroke:#000000; stroke-linecap:round; stroke-linejoin:round; stroke-width:4; stroke-opacity:1; fill:none\" points=\"219.033,1423.18 2352.76,1423.18 \"/>\n",
       "<polyline clip-path=\"url(#clip270)\" style=\"stroke:#000000; stroke-linecap:round; stroke-linejoin:round; stroke-width:4; stroke-opacity:1; fill:none\" points=\"270.593,1423.18 270.593,1404.28 \"/>\n",
       "<polyline clip-path=\"url(#clip270)\" style=\"stroke:#000000; stroke-linecap:round; stroke-linejoin:round; stroke-width:4; stroke-opacity:1; fill:none\" points=\"712.028,1423.18 712.028,1404.28 \"/>\n",
       "<polyline clip-path=\"url(#clip270)\" style=\"stroke:#000000; stroke-linecap:round; stroke-linejoin:round; stroke-width:4; stroke-opacity:1; fill:none\" points=\"1153.46,1423.18 1153.46,1404.28 \"/>\n",
       "<polyline clip-path=\"url(#clip270)\" style=\"stroke:#000000; stroke-linecap:round; stroke-linejoin:round; stroke-width:4; stroke-opacity:1; fill:none\" points=\"1594.9,1423.18 1594.9,1404.28 \"/>\n",
       "<polyline clip-path=\"url(#clip270)\" style=\"stroke:#000000; stroke-linecap:round; stroke-linejoin:round; stroke-width:4; stroke-opacity:1; fill:none\" points=\"2036.33,1423.18 2036.33,1404.28 \"/>\n",
       "<path clip-path=\"url(#clip270)\" d=\"M270.593 1454.1 Q266.982 1454.1 265.153 1457.66 Q263.347 1461.2 263.347 1468.33 Q263.347 1475.44 265.153 1479.01 Q266.982 1482.55 270.593 1482.55 Q274.227 1482.55 276.032 1479.01 Q277.861 1475.44 277.861 1468.33 Q277.861 1461.2 276.032 1457.66 Q274.227 1454.1 270.593 1454.1 M270.593 1450.39 Q276.403 1450.39 279.458 1455 Q282.537 1459.58 282.537 1468.33 Q282.537 1477.06 279.458 1481.67 Q276.403 1486.25 270.593 1486.25 Q264.782 1486.25 261.704 1481.67 Q258.648 1477.06 258.648 1468.33 Q258.648 1459.58 261.704 1455 Q264.782 1450.39 270.593 1450.39 Z\" fill=\"#000000\" fill-rule=\"nonzero\" fill-opacity=\"1\" /><path clip-path=\"url(#clip270)\" d=\"M686.727 1451.02 L705.084 1451.02 L705.084 1454.96 L691.01 1454.96 L691.01 1463.43 Q692.028 1463.08 693.047 1462.92 Q694.065 1462.73 695.084 1462.73 Q700.871 1462.73 704.25 1465.9 Q707.63 1469.08 707.63 1474.49 Q707.63 1480.07 704.158 1483.17 Q700.686 1486.25 694.366 1486.25 Q692.19 1486.25 689.922 1485.88 Q687.676 1485.51 685.269 1484.77 L685.269 1480.07 Q687.352 1481.2 689.575 1481.76 Q691.797 1482.32 694.274 1482.32 Q698.278 1482.32 700.616 1480.21 Q702.954 1478.1 702.954 1474.49 Q702.954 1470.88 700.616 1468.77 Q698.278 1466.67 694.274 1466.67 Q692.399 1466.67 690.524 1467.08 Q688.672 1467.5 686.727 1468.38 L686.727 1451.02 Z\" fill=\"#000000\" fill-rule=\"nonzero\" fill-opacity=\"1\" /><path clip-path=\"url(#clip270)\" d=\"M726.843 1454.1 Q723.232 1454.1 721.403 1457.66 Q719.598 1461.2 719.598 1468.33 Q719.598 1475.44 721.403 1479.01 Q723.232 1482.55 726.843 1482.55 Q730.477 1482.55 732.283 1479.01 Q734.111 1475.44 734.111 1468.33 Q734.111 1461.2 732.283 1457.66 Q730.477 1454.1 726.843 1454.1 M726.843 1450.39 Q732.653 1450.39 735.709 1455 Q738.787 1459.58 738.787 1468.33 Q738.787 1477.06 735.709 1481.67 Q732.653 1486.25 726.843 1486.25 Q721.033 1486.25 717.954 1481.67 Q714.899 1477.06 714.899 1468.33 Q714.899 1459.58 717.954 1455 Q721.033 1450.39 726.843 1450.39 Z\" fill=\"#000000\" fill-rule=\"nonzero\" fill-opacity=\"1\" /><path clip-path=\"url(#clip270)\" d=\"M1113.07 1481.64 L1120.71 1481.64 L1120.71 1455.28 L1112.4 1456.95 L1112.4 1452.69 L1120.66 1451.02 L1125.34 1451.02 L1125.34 1481.64 L1132.98 1481.64 L1132.98 1485.58 L1113.07 1485.58 L1113.07 1481.64 Z\" fill=\"#000000\" fill-rule=\"nonzero\" fill-opacity=\"1\" /><path clip-path=\"url(#clip270)\" d=\"M1152.42 1454.1 Q1148.81 1454.1 1146.98 1457.66 Q1145.18 1461.2 1145.18 1468.33 Q1145.18 1475.44 1146.98 1479.01 Q1148.81 1482.55 1152.42 1482.55 Q1156.06 1482.55 1157.86 1479.01 Q1159.69 1475.44 1159.69 1468.33 Q1159.69 1461.2 1157.86 1457.66 Q1156.06 1454.1 1152.42 1454.1 M1152.42 1450.39 Q1158.23 1450.39 1161.29 1455 Q1164.37 1459.58 1164.37 1468.33 Q1164.37 1477.06 1161.29 1481.67 Q1158.23 1486.25 1152.42 1486.25 Q1146.61 1486.25 1143.53 1481.67 Q1140.48 1477.06 1140.48 1468.33 Q1140.48 1459.58 1143.53 1455 Q1146.61 1450.39 1152.42 1450.39 Z\" fill=\"#000000\" fill-rule=\"nonzero\" fill-opacity=\"1\" /><path clip-path=\"url(#clip270)\" d=\"M1182.58 1454.1 Q1178.97 1454.1 1177.14 1457.66 Q1175.34 1461.2 1175.34 1468.33 Q1175.34 1475.44 1177.14 1479.01 Q1178.97 1482.55 1182.58 1482.55 Q1186.22 1482.55 1188.02 1479.01 Q1189.85 1475.44 1189.85 1468.33 Q1189.85 1461.2 1188.02 1457.66 Q1186.22 1454.1 1182.58 1454.1 M1182.58 1450.39 Q1188.39 1450.39 1191.45 1455 Q1194.53 1459.58 1194.53 1468.33 Q1194.53 1477.06 1191.45 1481.67 Q1188.39 1486.25 1182.58 1486.25 Q1176.77 1486.25 1173.7 1481.67 Q1170.64 1477.06 1170.64 1468.33 Q1170.64 1459.58 1173.7 1455 Q1176.77 1450.39 1182.58 1450.39 Z\" fill=\"#000000\" fill-rule=\"nonzero\" fill-opacity=\"1\" /><path clip-path=\"url(#clip270)\" d=\"M1554.51 1481.64 L1562.14 1481.64 L1562.14 1455.28 L1553.83 1456.95 L1553.83 1452.69 L1562.1 1451.02 L1566.77 1451.02 L1566.77 1481.64 L1574.41 1481.64 L1574.41 1485.58 L1554.51 1485.58 L1554.51 1481.64 Z\" fill=\"#000000\" fill-rule=\"nonzero\" fill-opacity=\"1\" /><path clip-path=\"url(#clip270)\" d=\"M1583.9 1451.02 L1602.26 1451.02 L1602.26 1454.96 L1588.19 1454.96 L1588.19 1463.43 Q1589.2 1463.08 1590.22 1462.92 Q1591.24 1462.73 1592.26 1462.73 Q1598.05 1462.73 1601.43 1465.9 Q1604.81 1469.08 1604.81 1474.49 Q1604.81 1480.07 1601.33 1483.17 Q1597.86 1486.25 1591.54 1486.25 Q1589.37 1486.25 1587.1 1485.88 Q1584.85 1485.51 1582.45 1484.77 L1582.45 1480.07 Q1584.53 1481.2 1586.75 1481.76 Q1588.97 1482.32 1591.45 1482.32 Q1595.45 1482.32 1597.79 1480.21 Q1600.13 1478.1 1600.13 1474.49 Q1600.13 1470.88 1597.79 1468.77 Q1595.45 1466.67 1591.45 1466.67 Q1589.58 1466.67 1587.7 1467.08 Q1585.85 1467.5 1583.9 1468.38 L1583.9 1451.02 Z\" fill=\"#000000\" fill-rule=\"nonzero\" fill-opacity=\"1\" /><path clip-path=\"url(#clip270)\" d=\"M1624.02 1454.1 Q1620.41 1454.1 1618.58 1457.66 Q1616.77 1461.2 1616.77 1468.33 Q1616.77 1475.44 1618.58 1479.01 Q1620.41 1482.55 1624.02 1482.55 Q1627.65 1482.55 1629.46 1479.01 Q1631.29 1475.44 1631.29 1468.33 Q1631.29 1461.2 1629.46 1457.66 Q1627.65 1454.1 1624.02 1454.1 M1624.02 1450.39 Q1629.83 1450.39 1632.89 1455 Q1635.96 1459.58 1635.96 1468.33 Q1635.96 1477.06 1632.89 1481.67 Q1629.83 1486.25 1624.02 1486.25 Q1618.21 1486.25 1615.13 1481.67 Q1612.08 1477.06 1612.08 1468.33 Q1612.08 1459.58 1615.13 1455 Q1618.21 1450.39 1624.02 1450.39 Z\" fill=\"#000000\" fill-rule=\"nonzero\" fill-opacity=\"1\" /><path clip-path=\"url(#clip270)\" d=\"M2000.03 1481.64 L2016.35 1481.64 L2016.35 1485.58 L1994.4 1485.58 L1994.4 1481.64 Q1997.06 1478.89 2001.65 1474.26 Q2006.25 1469.61 2007.43 1468.27 Q2009.68 1465.74 2010.56 1464.01 Q2011.46 1462.25 2011.46 1460.56 Q2011.46 1457.8 2009.52 1456.07 Q2007.6 1454.33 2004.49 1454.33 Q2002.3 1454.33 1999.84 1455.09 Q1997.41 1455.86 1994.63 1457.41 L1994.63 1452.69 Q1997.46 1451.55 1999.91 1450.97 Q2002.37 1450.39 2004.4 1450.39 Q2009.77 1450.39 2012.97 1453.08 Q2016.16 1455.77 2016.16 1460.26 Q2016.16 1462.39 2015.35 1464.31 Q2014.56 1466.2 2012.46 1468.8 Q2011.88 1469.47 2008.78 1472.69 Q2005.68 1475.88 2000.03 1481.64 Z\" fill=\"#000000\" fill-rule=\"nonzero\" fill-opacity=\"1\" /><path clip-path=\"url(#clip270)\" d=\"M2036.16 1454.1 Q2032.55 1454.1 2030.72 1457.66 Q2028.92 1461.2 2028.92 1468.33 Q2028.92 1475.44 2030.72 1479.01 Q2032.55 1482.55 2036.16 1482.55 Q2039.8 1482.55 2041.6 1479.01 Q2043.43 1475.44 2043.43 1468.33 Q2043.43 1461.2 2041.6 1457.66 Q2039.8 1454.1 2036.16 1454.1 M2036.16 1450.39 Q2041.97 1450.39 2045.03 1455 Q2048.11 1459.58 2048.11 1468.33 Q2048.11 1477.06 2045.03 1481.67 Q2041.97 1486.25 2036.16 1486.25 Q2030.35 1486.25 2027.27 1481.67 Q2024.22 1477.06 2024.22 1468.33 Q2024.22 1459.58 2027.27 1455 Q2030.35 1450.39 2036.16 1450.39 Z\" fill=\"#000000\" fill-rule=\"nonzero\" fill-opacity=\"1\" /><path clip-path=\"url(#clip270)\" d=\"M2066.32 1454.1 Q2062.71 1454.1 2060.88 1457.66 Q2059.08 1461.2 2059.08 1468.33 Q2059.08 1475.44 2060.88 1479.01 Q2062.71 1482.55 2066.32 1482.55 Q2069.96 1482.55 2071.76 1479.01 Q2073.59 1475.44 2073.59 1468.33 Q2073.59 1461.2 2071.76 1457.66 Q2069.96 1454.1 2066.32 1454.1 M2066.32 1450.39 Q2072.13 1450.39 2075.19 1455 Q2078.27 1459.58 2078.27 1468.33 Q2078.27 1477.06 2075.19 1481.67 Q2072.13 1486.25 2066.32 1486.25 Q2060.51 1486.25 2057.43 1481.67 Q2054.38 1477.06 2054.38 1468.33 Q2054.38 1459.58 2057.43 1455 Q2060.51 1450.39 2066.32 1450.39 Z\" fill=\"#000000\" fill-rule=\"nonzero\" fill-opacity=\"1\" /><path clip-path=\"url(#clip270)\" d=\"M975.566 1520.52 L1015.77 1520.52 L1015.77 1525.93 L998.897 1525.93 L998.897 1568.04 L992.435 1568.04 L992.435 1525.93 L975.566 1525.93 L975.566 1520.52 Z\" fill=\"#000000\" fill-rule=\"nonzero\" fill-opacity=\"1\" /><path clip-path=\"url(#clip270)\" d=\"M1032.79 1537.87 Q1031.81 1537.3 1030.63 1537.04 Q1029.48 1536.76 1028.08 1536.76 Q1023.12 1536.76 1020.44 1540 Q1017.8 1543.22 1017.8 1549.27 L1017.8 1568.04 L1011.91 1568.04 L1011.91 1532.4 L1017.8 1532.4 L1017.8 1537.93 Q1019.65 1534.69 1022.61 1533.13 Q1025.57 1531.54 1029.8 1531.54 Q1030.41 1531.54 1031.14 1531.63 Q1031.87 1531.7 1032.76 1531.85 L1032.79 1537.87 Z\" fill=\"#000000\" fill-rule=\"nonzero\" fill-opacity=\"1\" /><path clip-path=\"url(#clip270)\" d=\"M1055.14 1550.12 Q1048.04 1550.12 1045.3 1551.75 Q1042.57 1553.37 1042.57 1557.29 Q1042.57 1560.4 1044.6 1562.25 Q1046.67 1564.07 1050.2 1564.07 Q1055.07 1564.07 1058 1560.63 Q1060.96 1557.16 1060.96 1551.43 L1060.96 1550.12 L1055.14 1550.12 M1066.82 1547.71 L1066.82 1568.04 L1060.96 1568.04 L1060.96 1562.63 Q1058.96 1565.88 1055.97 1567.44 Q1052.97 1568.97 1048.64 1568.97 Q1043.17 1568.97 1039.92 1565.91 Q1036.71 1562.82 1036.71 1557.67 Q1036.71 1551.65 1040.72 1548.6 Q1044.76 1545.54 1052.75 1545.54 L1060.96 1545.54 L1060.96 1544.97 Q1060.96 1540.93 1058.29 1538.73 Q1055.65 1536.5 1050.84 1536.5 Q1047.79 1536.5 1044.89 1537.23 Q1041.99 1537.97 1039.32 1539.43 L1039.32 1534.02 Q1042.53 1532.78 1045.56 1532.17 Q1048.58 1531.54 1051.45 1531.54 Q1059.18 1531.54 1063 1535.55 Q1066.82 1539.56 1066.82 1547.71 Z\" fill=\"#000000\" fill-rule=\"nonzero\" fill-opacity=\"1\" /><path clip-path=\"url(#clip270)\" d=\"M1102.34 1537.81 L1102.34 1518.52 L1108.2 1518.52 L1108.2 1568.04 L1102.34 1568.04 L1102.34 1562.7 Q1100.49 1565.88 1097.66 1567.44 Q1094.86 1568.97 1090.91 1568.97 Q1084.45 1568.97 1080.38 1563.81 Q1076.34 1558.65 1076.34 1550.25 Q1076.34 1541.85 1080.38 1536.69 Q1084.45 1531.54 1090.91 1531.54 Q1094.86 1531.54 1097.66 1533.1 Q1100.49 1534.62 1102.34 1537.81 M1082.38 1550.25 Q1082.38 1556.71 1085.02 1560.4 Q1087.7 1564.07 1092.35 1564.07 Q1096.99 1564.07 1099.67 1560.4 Q1102.34 1556.71 1102.34 1550.25 Q1102.34 1543.79 1099.67 1540.13 Q1096.99 1536.44 1092.35 1536.44 Q1087.7 1536.44 1085.02 1540.13 Q1082.38 1543.79 1082.38 1550.25 Z\" fill=\"#000000\" fill-rule=\"nonzero\" fill-opacity=\"1\" /><path clip-path=\"url(#clip270)\" d=\"M1120.26 1532.4 L1126.12 1532.4 L1126.12 1568.04 L1120.26 1568.04 L1120.26 1532.4 M1120.26 1518.52 L1126.12 1518.52 L1126.12 1525.93 L1120.26 1525.93 L1120.26 1518.52 Z\" fill=\"#000000\" fill-rule=\"nonzero\" fill-opacity=\"1\" /><path clip-path=\"url(#clip270)\" d=\"M1168 1546.53 L1168 1568.04 L1162.15 1568.04 L1162.15 1546.72 Q1162.15 1541.66 1160.17 1539.14 Q1158.2 1536.63 1154.25 1536.63 Q1149.51 1536.63 1146.77 1539.65 Q1144.03 1542.68 1144.03 1547.9 L1144.03 1568.04 L1138.15 1568.04 L1138.15 1532.4 L1144.03 1532.4 L1144.03 1537.93 Q1146.14 1534.72 1148.97 1533.13 Q1151.83 1531.54 1155.56 1531.54 Q1161.7 1531.54 1164.85 1535.36 Q1168 1539.14 1168 1546.53 Z\" fill=\"#000000\" fill-rule=\"nonzero\" fill-opacity=\"1\" /><path clip-path=\"url(#clip270)\" d=\"M1203.14 1549.81 Q1203.14 1543.44 1200.5 1539.94 Q1197.89 1536.44 1193.15 1536.44 Q1188.44 1536.44 1185.79 1539.94 Q1183.18 1543.44 1183.18 1549.81 Q1183.18 1556.14 1185.79 1559.64 Q1188.44 1563.14 1193.15 1563.14 Q1197.89 1563.14 1200.5 1559.64 Q1203.14 1556.14 1203.14 1549.81 M1209 1563.62 Q1209 1572.72 1204.95 1577.15 Q1200.91 1581.6 1192.57 1581.6 Q1189.49 1581.6 1186.75 1581.13 Q1184.01 1580.68 1181.43 1579.72 L1181.43 1574.03 Q1184.01 1575.43 1186.53 1576.1 Q1189.04 1576.76 1191.65 1576.76 Q1197.41 1576.76 1200.28 1573.74 Q1203.14 1570.75 1203.14 1564.67 L1203.14 1561.77 Q1201.33 1564.92 1198.49 1566.48 Q1195.66 1568.04 1191.71 1568.04 Q1185.16 1568.04 1181.15 1563.05 Q1177.14 1558.05 1177.14 1549.81 Q1177.14 1541.53 1181.15 1536.53 Q1185.16 1531.54 1191.71 1531.54 Q1195.66 1531.54 1198.49 1533.1 Q1201.33 1534.66 1203.14 1537.81 L1203.14 1532.4 L1209 1532.4 L1209 1563.62 Z\" fill=\"#000000\" fill-rule=\"nonzero\" fill-opacity=\"1\" /><path clip-path=\"url(#clip270)\" d=\"M1248.46 1525.81 L1248.46 1562.76 L1256.23 1562.76 Q1266.07 1562.76 1270.62 1558.3 Q1275.2 1553.85 1275.2 1544.24 Q1275.2 1534.69 1270.62 1530.26 Q1266.07 1525.81 1256.23 1525.81 L1248.46 1525.81 M1242.03 1520.52 L1255.24 1520.52 Q1269.06 1520.52 1275.52 1526.28 Q1281.98 1532.01 1281.98 1544.24 Q1281.98 1556.52 1275.49 1562.28 Q1268.99 1568.04 1255.24 1568.04 L1242.03 1568.04 L1242.03 1520.52 Z\" fill=\"#000000\" fill-rule=\"nonzero\" fill-opacity=\"1\" /><path clip-path=\"url(#clip270)\" d=\"M1308.17 1550.12 Q1301.08 1550.12 1298.34 1551.75 Q1295.6 1553.37 1295.6 1557.29 Q1295.6 1560.4 1297.64 1562.25 Q1299.71 1564.07 1303.24 1564.07 Q1308.11 1564.07 1311.04 1560.63 Q1314 1557.16 1314 1551.43 L1314 1550.12 L1308.17 1550.12 M1319.86 1547.71 L1319.86 1568.04 L1314 1568.04 L1314 1562.63 Q1311.99 1565.88 1309 1567.44 Q1306.01 1568.97 1301.68 1568.97 Q1296.21 1568.97 1292.96 1565.91 Q1289.75 1562.82 1289.75 1557.67 Q1289.75 1551.65 1293.76 1548.6 Q1297.8 1545.54 1305.79 1545.54 L1314 1545.54 L1314 1544.97 Q1314 1540.93 1311.33 1538.73 Q1308.68 1536.5 1303.88 1536.5 Q1300.82 1536.5 1297.93 1537.23 Q1295.03 1537.97 1292.36 1539.43 L1292.36 1534.02 Q1295.57 1532.78 1298.59 1532.17 Q1301.62 1531.54 1304.48 1531.54 Q1312.22 1531.54 1316.04 1535.55 Q1319.86 1539.56 1319.86 1547.71 Z\" fill=\"#000000\" fill-rule=\"nonzero\" fill-opacity=\"1\" /><path clip-path=\"url(#clip270)\" d=\"M1346.75 1571.35 Q1344.27 1577.72 1341.91 1579.66 Q1339.56 1581.6 1335.61 1581.6 L1330.93 1581.6 L1330.93 1576.7 L1334.37 1576.7 Q1336.79 1576.7 1338.13 1575.56 Q1339.46 1574.41 1341.09 1570.14 L1342.14 1567.47 L1327.72 1532.4 L1333.92 1532.4 L1345.06 1560.28 L1356.2 1532.4 L1362.41 1532.4 L1346.75 1571.35 Z\" fill=\"#000000\" fill-rule=\"nonzero\" fill-opacity=\"1\" /><path clip-path=\"url(#clip270)\" d=\"M1405.28 1518.58 Q1401.02 1525.9 1398.95 1533.06 Q1396.88 1540.23 1396.88 1547.58 Q1396.88 1554.93 1398.95 1562.16 Q1401.05 1569.35 1405.28 1576.64 L1400.19 1576.64 Q1395.42 1569.16 1393.03 1561.93 Q1390.67 1554.71 1390.67 1547.58 Q1390.67 1540.48 1393.03 1533.29 Q1395.38 1526.09 1400.19 1518.58 L1405.28 1518.58 Z\" fill=\"#000000\" fill-rule=\"nonzero\" fill-opacity=\"1\" /><path clip-path=\"url(#clip270)\" d=\"M1423.01 1562.63 L1445.45 1562.63 L1445.45 1568.04 L1415.28 1568.04 L1415.28 1562.63 Q1418.94 1558.85 1425.24 1552.48 Q1431.57 1546.08 1433.2 1544.24 Q1436.28 1540.77 1437.49 1538.38 Q1438.74 1535.96 1438.74 1533.64 Q1438.74 1529.85 1436.06 1527.46 Q1433.42 1525.08 1429.15 1525.08 Q1426.13 1525.08 1422.76 1526.13 Q1419.42 1527.18 1415.6 1529.31 L1415.6 1522.82 Q1419.48 1521.26 1422.85 1520.46 Q1426.23 1519.66 1429.03 1519.66 Q1436.41 1519.66 1440.8 1523.36 Q1445.2 1527.05 1445.2 1533.22 Q1445.2 1536.15 1444.08 1538.79 Q1443 1541.4 1440.1 1544.97 Q1439.31 1545.89 1435.04 1550.32 Q1430.78 1554.71 1423.01 1562.63 Z\" fill=\"#000000\" fill-rule=\"nonzero\" fill-opacity=\"1\" /><path clip-path=\"url(#clip270)\" d=\"M1472.7 1524.76 Q1467.73 1524.76 1465.22 1529.66 Q1462.73 1534.53 1462.73 1544.33 Q1462.73 1554.1 1465.22 1559 Q1467.73 1563.87 1472.7 1563.87 Q1477.69 1563.87 1480.18 1559 Q1482.69 1554.1 1482.69 1544.33 Q1482.69 1534.53 1480.18 1529.66 Q1477.69 1524.76 1472.7 1524.76 M1472.7 1519.66 Q1480.69 1519.66 1484.89 1526 Q1489.12 1532.3 1489.12 1544.33 Q1489.12 1556.33 1484.89 1562.66 Q1480.69 1568.97 1472.7 1568.97 Q1464.71 1568.97 1460.47 1562.66 Q1456.27 1556.33 1456.27 1544.33 Q1456.27 1532.3 1460.47 1526 Q1464.71 1519.66 1472.7 1519.66 Z\" fill=\"#000000\" fill-rule=\"nonzero\" fill-opacity=\"1\" /><path clip-path=\"url(#clip270)\" d=\"M1505.96 1562.63 L1528.4 1562.63 L1528.4 1568.04 L1498.22 1568.04 L1498.22 1562.63 Q1501.88 1558.85 1508.18 1552.48 Q1514.52 1546.08 1516.14 1544.24 Q1519.23 1540.77 1520.44 1538.38 Q1521.68 1535.96 1521.68 1533.64 Q1521.68 1529.85 1519.01 1527.46 Q1516.36 1525.08 1512.1 1525.08 Q1509.08 1525.08 1505.7 1526.13 Q1502.36 1527.18 1498.54 1529.31 L1498.54 1522.82 Q1502.42 1521.26 1505.8 1520.46 Q1509.17 1519.66 1511.97 1519.66 Q1519.36 1519.66 1523.75 1523.36 Q1528.14 1527.05 1528.14 1533.22 Q1528.14 1536.15 1527.03 1538.79 Q1525.95 1541.4 1523.05 1544.97 Q1522.25 1545.89 1517.99 1550.32 Q1513.72 1554.71 1505.96 1562.63 Z\" fill=\"#000000\" fill-rule=\"nonzero\" fill-opacity=\"1\" /><path clip-path=\"url(#clip270)\" d=\"M1561.37 1542.42 Q1565.99 1543.41 1568.56 1546.53 Q1571.17 1549.65 1571.17 1554.23 Q1571.17 1561.26 1566.34 1565.12 Q1561.5 1568.97 1552.59 1568.97 Q1549.59 1568.97 1546.41 1568.36 Q1543.26 1567.79 1539.89 1566.61 L1539.89 1560.4 Q1542.56 1561.96 1545.74 1562.76 Q1548.93 1563.56 1552.39 1563.56 Q1558.44 1563.56 1561.59 1561.17 Q1564.78 1558.78 1564.78 1554.23 Q1564.78 1550.03 1561.82 1547.67 Q1558.89 1545.29 1553.64 1545.29 L1548.1 1545.29 L1548.1 1540 L1553.89 1540 Q1558.63 1540 1561.15 1538.13 Q1563.66 1536.22 1563.66 1532.65 Q1563.66 1528.99 1561.05 1527.05 Q1558.47 1525.08 1553.64 1525.08 Q1550.99 1525.08 1547.97 1525.65 Q1544.95 1526.22 1541.32 1527.43 L1541.32 1521.7 Q1544.98 1520.68 1548.16 1520.17 Q1551.38 1519.66 1554.21 1519.66 Q1561.53 1519.66 1565.79 1523.01 Q1570.06 1526.32 1570.06 1531.98 Q1570.06 1535.93 1567.8 1538.67 Q1565.54 1541.37 1561.37 1542.42 Z\" fill=\"#000000\" fill-rule=\"nonzero\" fill-opacity=\"1\" /><path clip-path=\"url(#clip270)\" d=\"M1581.61 1518.58 L1586.71 1518.58 Q1591.48 1526.09 1593.84 1533.29 Q1596.22 1540.48 1596.22 1547.58 Q1596.22 1554.71 1593.84 1561.93 Q1591.48 1569.16 1586.71 1576.64 L1581.61 1576.64 Q1585.85 1569.35 1587.92 1562.16 Q1590.02 1554.93 1590.02 1547.58 Q1590.02 1540.23 1587.92 1533.06 Q1585.85 1525.9 1581.61 1518.58 Z\" fill=\"#000000\" fill-rule=\"nonzero\" fill-opacity=\"1\" /><polyline clip-path=\"url(#clip272)\" style=\"stroke:#000000; stroke-linecap:round; stroke-linejoin:round; stroke-width:2; stroke-opacity:0.1; fill:none\" points=\"219.033,1340.09 2352.76,1340.09 \"/>\n",
       "<polyline clip-path=\"url(#clip272)\" style=\"stroke:#000000; stroke-linecap:round; stroke-linejoin:round; stroke-width:2; stroke-opacity:0.1; fill:none\" points=\"219.033,1094.33 2352.76,1094.33 \"/>\n",
       "<polyline clip-path=\"url(#clip272)\" style=\"stroke:#000000; stroke-linecap:round; stroke-linejoin:round; stroke-width:2; stroke-opacity:0.1; fill:none\" points=\"219.033,848.57 2352.76,848.57 \"/>\n",
       "<polyline clip-path=\"url(#clip272)\" style=\"stroke:#000000; stroke-linecap:round; stroke-linejoin:round; stroke-width:2; stroke-opacity:0.1; fill:none\" points=\"219.033,602.81 2352.76,602.81 \"/>\n",
       "<polyline clip-path=\"url(#clip272)\" style=\"stroke:#000000; stroke-linecap:round; stroke-linejoin:round; stroke-width:2; stroke-opacity:0.1; fill:none\" points=\"219.033,357.05 2352.76,357.05 \"/>\n",
       "<polyline clip-path=\"url(#clip272)\" style=\"stroke:#000000; stroke-linecap:round; stroke-linejoin:round; stroke-width:2; stroke-opacity:0.1; fill:none\" points=\"219.033,111.29 2352.76,111.29 \"/>\n",
       "<polyline clip-path=\"url(#clip270)\" style=\"stroke:#000000; stroke-linecap:round; stroke-linejoin:round; stroke-width:4; stroke-opacity:1; fill:none\" points=\"219.033,1423.18 219.033,47.2441 \"/>\n",
       "<polyline clip-path=\"url(#clip270)\" style=\"stroke:#000000; stroke-linecap:round; stroke-linejoin:round; stroke-width:4; stroke-opacity:1; fill:none\" points=\"219.033,1340.09 237.931,1340.09 \"/>\n",
       "<polyline clip-path=\"url(#clip270)\" style=\"stroke:#000000; stroke-linecap:round; stroke-linejoin:round; stroke-width:4; stroke-opacity:1; fill:none\" points=\"219.033,1094.33 237.931,1094.33 \"/>\n",
       "<polyline clip-path=\"url(#clip270)\" style=\"stroke:#000000; stroke-linecap:round; stroke-linejoin:round; stroke-width:4; stroke-opacity:1; fill:none\" points=\"219.033,848.57 237.931,848.57 \"/>\n",
       "<polyline clip-path=\"url(#clip270)\" style=\"stroke:#000000; stroke-linecap:round; stroke-linejoin:round; stroke-width:4; stroke-opacity:1; fill:none\" points=\"219.033,602.81 237.931,602.81 \"/>\n",
       "<polyline clip-path=\"url(#clip270)\" style=\"stroke:#000000; stroke-linecap:round; stroke-linejoin:round; stroke-width:4; stroke-opacity:1; fill:none\" points=\"219.033,357.05 237.931,357.05 \"/>\n",
       "<polyline clip-path=\"url(#clip270)\" style=\"stroke:#000000; stroke-linecap:round; stroke-linejoin:round; stroke-width:4; stroke-opacity:1; fill:none\" points=\"219.033,111.29 237.931,111.29 \"/>\n",
       "<path clip-path=\"url(#clip270)\" d=\"M116.668 1353.43 L124.306 1353.43 L124.306 1327.07 L115.996 1328.74 L115.996 1324.48 L124.26 1322.81 L128.936 1322.81 L128.936 1353.43 L136.575 1353.43 L136.575 1357.37 L116.668 1357.37 L116.668 1353.43 Z\" fill=\"#000000\" fill-rule=\"nonzero\" fill-opacity=\"1\" /><path clip-path=\"url(#clip270)\" d=\"M146.019 1351.49 L150.903 1351.49 L150.903 1357.37 L146.019 1357.37 L146.019 1351.49 Z\" fill=\"#000000\" fill-rule=\"nonzero\" fill-opacity=\"1\" /><path clip-path=\"url(#clip270)\" d=\"M171.089 1325.89 Q167.477 1325.89 165.649 1329.45 Q163.843 1332.99 163.843 1340.12 Q163.843 1347.23 165.649 1350.8 Q167.477 1354.34 171.089 1354.34 Q174.723 1354.34 176.528 1350.8 Q178.357 1347.23 178.357 1340.12 Q178.357 1332.99 176.528 1329.45 Q174.723 1325.89 171.089 1325.89 M171.089 1322.18 Q176.899 1322.18 179.954 1326.79 Q183.033 1331.37 183.033 1340.12 Q183.033 1348.85 179.954 1353.46 Q176.899 1358.04 171.089 1358.04 Q165.278 1358.04 162.2 1353.46 Q159.144 1348.85 159.144 1340.12 Q159.144 1331.37 162.2 1326.79 Q165.278 1322.18 171.089 1322.18 Z\" fill=\"#000000\" fill-rule=\"nonzero\" fill-opacity=\"1\" /><path clip-path=\"url(#clip270)\" d=\"M118.265 1107.67 L125.904 1107.67 L125.904 1081.31 L117.593 1082.98 L117.593 1078.72 L125.857 1077.05 L130.533 1077.05 L130.533 1107.67 L138.172 1107.67 L138.172 1111.61 L118.265 1111.61 L118.265 1107.67 Z\" fill=\"#000000\" fill-rule=\"nonzero\" fill-opacity=\"1\" /><path clip-path=\"url(#clip270)\" d=\"M147.616 1105.73 L152.501 1105.73 L152.501 1111.61 L147.616 1111.61 L147.616 1105.73 Z\" fill=\"#000000\" fill-rule=\"nonzero\" fill-opacity=\"1\" /><path clip-path=\"url(#clip270)\" d=\"M166.714 1107.67 L183.033 1107.67 L183.033 1111.61 L161.089 1111.61 L161.089 1107.67 Q163.751 1104.92 168.334 1100.29 Q172.94 1095.64 174.121 1094.3 Q176.366 1091.77 177.246 1090.04 Q178.149 1088.28 178.149 1086.59 Q178.149 1083.83 176.204 1082.1 Q174.283 1080.36 171.181 1080.36 Q168.982 1080.36 166.528 1081.12 Q164.098 1081.89 161.32 1083.44 L161.32 1078.72 Q164.144 1077.58 166.598 1077 Q169.052 1076.42 171.089 1076.42 Q176.459 1076.42 179.653 1079.11 Q182.848 1081.8 182.848 1086.29 Q182.848 1088.42 182.038 1090.34 Q181.251 1092.23 179.144 1094.83 Q178.565 1095.5 175.464 1098.72 Q172.362 1101.91 166.714 1107.67 Z\" fill=\"#000000\" fill-rule=\"nonzero\" fill-opacity=\"1\" /><path clip-path=\"url(#clip270)\" d=\"M116.181 861.915 L123.82 861.915 L123.82 835.549 L115.51 837.216 L115.51 832.957 L123.774 831.29 L128.45 831.29 L128.45 861.915 L136.089 861.915 L136.089 865.85 L116.181 865.85 L116.181 861.915 Z\" fill=\"#000000\" fill-rule=\"nonzero\" fill-opacity=\"1\" /><path clip-path=\"url(#clip270)\" d=\"M145.533 859.97 L150.417 859.97 L150.417 865.85 L145.533 865.85 L145.533 859.97 Z\" fill=\"#000000\" fill-rule=\"nonzero\" fill-opacity=\"1\" /><path clip-path=\"url(#clip270)\" d=\"M173.45 835.364 L161.644 853.813 L173.45 853.813 L173.45 835.364 M172.223 831.29 L178.102 831.29 L178.102 853.813 L183.033 853.813 L183.033 857.702 L178.102 857.702 L178.102 865.85 L173.45 865.85 L173.45 857.702 L157.848 857.702 L157.848 853.188 L172.223 831.29 Z\" fill=\"#000000\" fill-rule=\"nonzero\" fill-opacity=\"1\" /><path clip-path=\"url(#clip270)\" d=\"M116.506 616.155 L124.144 616.155 L124.144 589.789 L115.834 591.456 L115.834 587.197 L124.098 585.53 L128.774 585.53 L128.774 616.155 L136.413 616.155 L136.413 620.09 L116.506 620.09 L116.506 616.155 Z\" fill=\"#000000\" fill-rule=\"nonzero\" fill-opacity=\"1\" /><path clip-path=\"url(#clip270)\" d=\"M145.857 614.21 L150.741 614.21 L150.741 620.09 L145.857 620.09 L145.857 614.21 Z\" fill=\"#000000\" fill-rule=\"nonzero\" fill-opacity=\"1\" /><path clip-path=\"url(#clip270)\" d=\"M171.505 600.947 Q168.357 600.947 166.505 603.099 Q164.677 605.252 164.677 609.002 Q164.677 612.729 166.505 614.905 Q168.357 617.058 171.505 617.058 Q174.653 617.058 176.482 614.905 Q178.334 612.729 178.334 609.002 Q178.334 605.252 176.482 603.099 Q174.653 600.947 171.505 600.947 M180.788 586.294 L180.788 590.553 Q179.028 589.72 177.223 589.28 Q175.44 588.84 173.681 588.84 Q169.052 588.84 166.598 591.965 Q164.167 595.09 163.82 601.41 Q165.186 599.396 167.246 598.331 Q169.306 597.243 171.783 597.243 Q176.991 597.243 180.001 600.414 Q183.033 603.562 183.033 609.002 Q183.033 614.326 179.885 617.544 Q176.737 620.761 171.505 620.761 Q165.51 620.761 162.339 616.178 Q159.167 611.571 159.167 602.845 Q159.167 594.65 163.056 589.789 Q166.945 584.905 173.496 584.905 Q175.255 584.905 177.038 585.252 Q178.843 585.599 180.788 586.294 Z\" fill=\"#000000\" fill-rule=\"nonzero\" fill-opacity=\"1\" /><path clip-path=\"url(#clip270)\" d=\"M116.76 370.395 L124.399 370.395 L124.399 344.029 L116.089 345.696 L116.089 341.437 L124.353 339.77 L129.029 339.77 L129.029 370.395 L136.667 370.395 L136.667 374.33 L116.76 374.33 L116.76 370.395 Z\" fill=\"#000000\" fill-rule=\"nonzero\" fill-opacity=\"1\" /><path clip-path=\"url(#clip270)\" d=\"M146.112 368.45 L150.996 368.45 L150.996 374.33 L146.112 374.33 L146.112 368.45 Z\" fill=\"#000000\" fill-rule=\"nonzero\" fill-opacity=\"1\" /><path clip-path=\"url(#clip270)\" d=\"M171.181 357.918 Q167.848 357.918 165.927 359.701 Q164.028 361.483 164.028 364.608 Q164.028 367.733 165.927 369.515 Q167.848 371.298 171.181 371.298 Q174.514 371.298 176.436 369.515 Q178.357 367.71 178.357 364.608 Q178.357 361.483 176.436 359.701 Q174.538 357.918 171.181 357.918 M166.505 355.927 Q163.496 355.187 161.806 353.126 Q160.14 351.066 160.14 348.103 Q160.14 343.96 163.079 341.552 Q166.042 339.145 171.181 339.145 Q176.343 339.145 179.283 341.552 Q182.223 343.96 182.223 348.103 Q182.223 351.066 180.533 353.126 Q178.866 355.187 175.88 355.927 Q179.26 356.714 181.135 359.006 Q183.033 361.298 183.033 364.608 Q183.033 369.631 179.954 372.316 Q176.899 375.001 171.181 375.001 Q165.464 375.001 162.385 372.316 Q159.329 369.631 159.329 364.608 Q159.329 361.298 161.227 359.006 Q163.126 356.714 166.505 355.927 M164.792 348.543 Q164.792 351.228 166.459 352.733 Q168.149 354.238 171.181 354.238 Q174.19 354.238 175.88 352.733 Q177.593 351.228 177.593 348.543 Q177.593 345.858 175.88 344.353 Q174.19 342.849 171.181 342.849 Q168.149 342.849 166.459 344.353 Q164.792 345.858 164.792 348.543 Z\" fill=\"#000000\" fill-rule=\"nonzero\" fill-opacity=\"1\" /><path clip-path=\"url(#clip270)\" d=\"M119.885 124.635 L136.204 124.635 L136.204 128.57 L114.26 128.57 L114.26 124.635 Q116.922 121.88 121.505 117.251 Q126.112 112.598 127.292 111.255 Q129.538 108.732 130.417 106.996 Q131.32 105.237 131.32 103.547 Q131.32 100.793 129.376 99.0564 Q127.455 97.3203 124.353 97.3203 Q122.154 97.3203 119.7 98.0842 Q117.269 98.8481 114.492 100.399 L114.492 95.6768 Q117.316 94.5426 119.769 93.9639 Q122.223 93.3852 124.26 93.3852 Q129.63 93.3852 132.825 96.0703 Q136.019 98.7555 136.019 103.246 Q136.019 105.376 135.209 107.297 Q134.422 109.195 132.316 111.788 Q131.737 112.459 128.635 115.677 Q125.533 118.871 119.885 124.635 Z\" fill=\"#000000\" fill-rule=\"nonzero\" fill-opacity=\"1\" /><path clip-path=\"url(#clip270)\" d=\"M146.019 122.691 L150.903 122.691 L150.903 128.57 L146.019 128.57 L146.019 122.691 Z\" fill=\"#000000\" fill-rule=\"nonzero\" fill-opacity=\"1\" /><path clip-path=\"url(#clip270)\" d=\"M171.089 97.0889 Q167.477 97.0889 165.649 100.654 Q163.843 104.195 163.843 111.325 Q163.843 118.431 165.649 121.996 Q167.477 125.538 171.089 125.538 Q174.723 125.538 176.528 121.996 Q178.357 118.431 178.357 111.325 Q178.357 104.195 176.528 100.654 Q174.723 97.0889 171.089 97.0889 M171.089 93.3852 Q176.899 93.3852 179.954 97.9916 Q183.033 102.575 183.033 111.325 Q183.033 120.052 179.954 124.658 Q176.899 129.241 171.089 129.241 Q165.278 129.241 162.2 124.658 Q159.144 120.052 159.144 111.325 Q159.144 102.575 162.2 97.9916 Q165.278 93.3852 171.089 93.3852 Z\" fill=\"#000000\" fill-rule=\"nonzero\" fill-opacity=\"1\" /><path clip-path=\"url(#clip270)\" d=\"M16.4842 949.593 L16.4842 943.1 L56.6518 933.106 L16.4842 923.144 L16.4842 915.918 L56.6518 905.924 L16.4842 895.962 L16.4842 889.437 L64.0042 901.373 L64.0042 909.457 L22.7544 919.483 L64.0042 929.605 L64.0042 937.689 L16.4842 949.593 Z\" fill=\"#000000\" fill-rule=\"nonzero\" fill-opacity=\"1\" /><path clip-path=\"url(#clip270)\" d=\"M44.7161 854.489 L47.5806 854.489 L47.5806 881.416 Q53.6281 881.034 56.8109 877.788 Q59.9619 874.51 59.9619 868.685 Q59.9619 865.311 59.1344 862.16 Q58.3069 858.977 56.6518 855.858 L62.1899 855.858 Q63.5267 859.009 64.227 862.319 Q64.9272 865.629 64.9272 869.035 Q64.9272 877.565 59.9619 882.562 Q54.9967 887.527 46.5303 887.527 Q37.7774 887.527 32.6531 882.817 Q27.4968 878.074 27.4968 870.054 Q27.4968 862.86 32.1438 858.691 Q36.7589 854.489 44.7161 854.489 M42.9973 860.346 Q38.1912 860.41 35.3266 863.051 Q32.4621 865.661 32.4621 869.99 Q32.4621 874.891 35.2312 877.852 Q38.0002 880.78 43.0292 881.225 L42.9973 860.346 Z\" fill=\"#000000\" fill-rule=\"nonzero\" fill-opacity=\"1\" /><path clip-path=\"url(#clip270)\" d=\"M46.0847 828.676 Q46.0847 835.774 47.7079 838.511 Q49.3312 841.249 53.2461 841.249 Q56.3653 841.249 58.2114 839.212 Q60.0256 837.143 60.0256 833.61 Q60.0256 828.74 56.5881 825.812 Q53.1188 822.852 47.3897 822.852 L46.0847 822.852 L46.0847 828.676 M43.6657 816.995 L64.0042 816.995 L64.0042 822.852 L58.5933 822.852 Q61.8398 824.857 63.3994 827.849 Q64.9272 830.841 64.9272 835.169 Q64.9272 840.644 61.8716 843.89 Q58.7843 847.105 53.6281 847.105 Q47.6125 847.105 44.5569 843.095 Q41.5014 839.053 41.5014 831.064 L41.5014 822.852 L40.9285 822.852 Q36.8862 822.852 34.6901 825.525 Q32.4621 828.167 32.4621 832.973 Q32.4621 836.029 33.1941 838.925 Q33.9262 841.822 35.3903 844.495 L29.9795 844.495 Q28.7381 841.281 28.1334 838.257 Q27.4968 835.233 27.4968 832.369 Q27.4968 824.634 31.5072 820.815 Q35.5176 816.995 43.6657 816.995 Z\" fill=\"#000000\" fill-rule=\"nonzero\" fill-opacity=\"1\" /><path clip-path=\"url(#clip270)\" d=\"M14.479 804.932 L14.479 799.076 L64.0042 799.076 L64.0042 804.932 L14.479 804.932 Z\" fill=\"#000000\" fill-rule=\"nonzero\" fill-opacity=\"1\" /><path clip-path=\"url(#clip270)\" d=\"M18.2347 781.029 L28.3562 781.029 L28.3562 768.966 L32.9077 768.966 L32.9077 781.029 L52.2594 781.029 Q56.6199 781.029 57.8613 779.851 Q59.1026 778.642 59.1026 774.982 L59.1026 768.966 L64.0042 768.966 L64.0042 774.982 Q64.0042 781.761 61.4897 784.339 Q58.9434 786.917 52.2594 786.917 L32.9077 786.917 L32.9077 791.214 L28.3562 791.214 L28.3562 786.917 L18.2347 786.917 L18.2347 781.029 Z\" fill=\"#000000\" fill-rule=\"nonzero\" fill-opacity=\"1\" /><path clip-path=\"url(#clip270)\" d=\"M42.4881 731.631 L64.0042 731.631 L64.0042 737.488 L42.679 737.488 Q37.6183 737.488 35.1038 739.461 Q32.5894 741.434 32.5894 745.381 Q32.5894 750.124 35.6131 752.861 Q38.6368 755.598 43.8567 755.598 L64.0042 755.598 L64.0042 761.486 L14.479 761.486 L14.479 755.598 L33.8944 755.598 Q30.6797 753.497 29.0883 750.665 Q27.4968 747.8 27.4968 744.076 Q27.4968 737.933 31.3163 734.782 Q35.1038 731.631 42.4881 731.631 Z\" fill=\"#000000\" fill-rule=\"nonzero\" fill-opacity=\"1\" /><path clip-path=\"url(#clip270)\" d=\"M14.5426 685.162 Q21.8632 689.427 29.0246 691.495 Q36.186 693.564 43.5384 693.564 Q50.8908 693.564 58.1159 691.495 Q65.3091 689.395 72.5979 685.162 L72.5979 690.254 Q65.1182 695.028 57.8931 697.416 Q50.668 699.771 43.5384 699.771 Q36.4406 699.771 29.2474 697.416 Q22.0542 695.06 14.5426 690.254 L14.5426 685.162 Z\" fill=\"#000000\" fill-rule=\"nonzero\" fill-opacity=\"1\" /><path clip-path=\"url(#clip270)\" d=\"M16.4842 674.276 L16.4842 667.815 L45.3526 667.815 Q52.9915 667.815 56.3653 665.046 Q59.7073 662.277 59.7073 656.07 Q59.7073 649.896 56.3653 647.127 Q52.9915 644.357 45.3526 644.357 L16.4842 644.357 L16.4842 637.896 L46.1484 637.896 Q55.4423 637.896 60.1847 642.511 Q64.9272 647.095 64.9272 656.07 Q64.9272 665.078 60.1847 669.693 Q55.4423 674.276 46.1484 674.276 L16.4842 674.276 Z\" fill=\"#000000\" fill-rule=\"nonzero\" fill-opacity=\"1\" /><path clip-path=\"url(#clip270)\" d=\"M18.0438 597.347 L24.314 597.347 Q22.5634 601.007 21.704 604.253 Q20.8447 607.5 20.8447 610.524 Q20.8447 615.775 22.8817 618.64 Q24.9187 621.473 28.6745 621.473 Q31.8255 621.473 33.4488 619.595 Q35.0402 617.685 36.0269 612.402 L36.8226 608.518 Q38.1912 601.325 41.6605 597.92 Q45.098 594.482 50.8908 594.482 Q57.7976 594.482 61.3624 599.129 Q64.9272 603.744 64.9272 612.688 Q64.9272 616.062 64.1633 619.881 Q63.3994 623.669 61.9035 627.743 L55.2831 627.743 Q57.4793 623.828 58.5933 620.072 Q59.7073 616.316 59.7073 612.688 Q59.7073 607.182 57.543 604.19 Q55.3786 601.198 51.3682 601.198 Q47.8671 601.198 45.8937 603.362 Q43.9204 605.495 42.9337 610.396 L42.1698 614.311 Q40.7375 621.505 37.682 624.719 Q34.6264 627.934 29.1837 627.934 Q22.8817 627.934 19.2532 623.51 Q15.6248 619.054 15.6248 611.256 Q15.6248 607.914 16.2295 604.444 Q16.8343 600.975 18.0438 597.347 Z\" fill=\"#000000\" fill-rule=\"nonzero\" fill-opacity=\"1\" /><path clip-path=\"url(#clip270)\" d=\"M21.7677 578.027 L58.7206 578.027 L58.7206 570.261 Q58.7206 560.426 54.2646 555.874 Q49.8086 551.291 40.1964 551.291 Q30.6479 551.291 26.2237 555.874 Q21.7677 560.426 21.7677 570.261 L21.7677 578.027 M16.4842 584.456 L16.4842 571.247 Q16.4842 557.434 22.2451 550.973 Q27.9743 544.511 40.1964 544.511 Q52.4822 544.511 58.2432 551.004 Q64.0042 557.497 64.0042 571.247 L64.0042 584.456 L16.4842 584.456 Z\" fill=\"#000000\" fill-rule=\"nonzero\" fill-opacity=\"1\" /><path clip-path=\"url(#clip270)\" d=\"M14.5426 535.44 L14.5426 530.348 Q22.0542 525.573 29.2474 523.218 Q36.4406 520.831 43.5384 520.831 Q50.668 520.831 57.8931 523.218 Q65.1182 525.573 72.5979 530.348 L72.5979 535.44 Q65.3091 531.207 58.1159 529.138 Q50.8908 527.037 43.5384 527.037 Q36.186 527.037 29.0246 529.138 Q21.8632 531.207 14.5426 535.44 Z\" fill=\"#000000\" fill-rule=\"nonzero\" fill-opacity=\"1\" /><polyline clip-path=\"url(#clip272)\" style=\"stroke:#800080; stroke-linecap:round; stroke-linejoin:round; stroke-width:16; stroke-opacity:1; fill:none\" points=\"279.421,1340.09 288.25,1384.24 297.079,1352.65 305.907,1290.26 314.736,1274.6 323.565,1255.79 332.394,1222.41 341.222,1217.67 350.051,1204.61 358.88,1224.99 367.708,1278.49 376.537,1232.17 385.366,1109.73 394.195,1143.16 403.023,1139.14 411.852,1133.23 420.681,1127.27 429.509,1184.79 438.338,1134.14 447.167,955.883 455.996,886.334 464.824,928.805 473.653,973.122 482.482,929.158 491.31,951.489 500.139,978.322 508.968,1013.06 517.797,981.304 526.625,926.226 535.454,940.945 544.283,1036.76 553.111,1067.49 561.94,1101.29 570.769,1103.96 579.598,1038.25 588.426,1069.79 597.255,1056.71 606.084,1060.98 614.912,1067.74 623.741,1026.53 632.57,1005.1 641.398,1012.64 650.227,995.916 659.056,933.552 667.885,960.227 676.713,986.515 685.542,998.641 694.371,895.655 703.199,854.222 712.028,723.446 720.857,700.153 729.686,718.598 738.514,733.945 747.343,702.885 756.172,651.279 765,695.229 773.829,720.536 782.658,758.539 791.487,728.844 800.315,694.852 809.144,691.378 817.973,717.506 826.801,731.595 835.63,793.994 844.459,795.218 853.288,738.414 862.116,766.189 870.945,799.284 879.774,803.782 888.602,809.217 897.431,843.092 906.26,842.915 915.089,839.248 923.917,838.401 932.746,869.231 941.575,885.246 950.403,956.729 959.232,915.436 968.061,887.129 976.89,850.223 985.718,841.146 994.547,839.031 1003.38,992.49 1012.2,901.455 1021.03,839.023 1029.86,742.171 1038.69,743.401 1047.52,706.519 1056.35,705.895 1065.18,740.362 1074.01,699.349 1082.83,623.66 1091.66,579.289 1100.49,498.347 1109.32,538.26 1118.15,498.443 1126.98,497.582 1135.81,495.239 1144.64,252.765 1153.46,127.354 1162.29,156.487 1171.12,292.491 1179.95,264.006 1188.78,294.811 1197.61,293.955 1206.44,179.61 1215.26,300.462 1224.09,238.442 1232.92,166.611 1241.75,86.1857 1250.58,167.577 1259.41,110.685 1268.24,168.414 1277.07,244.75 1285.89,262.81 1294.72,390.234 1303.55,416.199 1312.38,431.126 1321.21,481.408 1330.04,425.06 1338.87,431.193 1347.7,412.343 1356.52,359.204 1365.35,323.8 1374.18,358.427 1383.01,367.653 1391.84,372.248 1400.67,365.604 1409.5,406.513 1418.33,342.486 1427.15,312.148 1435.98,313.179 1444.81,266.713 1453.64,271.035 1462.47,299.747 1471.3,417.598 1480.13,408.069 1488.95,413.483 1497.78,366.626 1506.61,420.725 1515.44,400.932 1524.27,364.412 1533.1,338.009 1541.93,279.817 1550.76,437.581 1559.58,367.075 1568.41,317.557 1577.24,297.337 1586.07,365.195 1594.9,421.723 1603.73,426.59 1612.56,479.691 1621.39,390.673 1630.21,401.735 1639.04,479.429 1647.87,530.355 1656.7,511.918 1665.53,450.916 1674.36,501.536 1683.19,428.271 1692.02,568.35 1700.84,563.233 1709.67,554.368 1718.5,488.177 1727.33,474.543 1736.16,490.28 1744.99,424.068 1753.82,399.52 1762.64,431.179 1771.47,482.868 1780.3,493.898 1789.13,509.133 1797.96,510.165 1806.79,464.369 1815.62,483.95 1824.45,583.032 1833.27,566.679 1842.1,581.873 1850.93,608.738 1859.76,689.833 1868.59,686.546 1877.42,663.177 1886.25,690.127 1895.08,649.82 1903.9,561.927 1912.73,559.696 1921.56,547.894 1930.39,609.996 1939.22,535.234 1948.05,554.768 1956.88,472.243 1965.71,478.551 1974.53,439.618 1983.36,449.706 1992.19,440.502 2001.02,512.58 2009.85,485.659 2018.68,515.855 2027.51,575.228 2036.33,571.264 2045.16,584.071 2053.99,612.775 2062.82,580.377 2071.65,688.745 2080.48,736.573 2089.31,685.376 2098.14,688.15 2106.96,646.567 2115.79,467.007 2124.62,467.613 2133.45,382.264 2142.28,389.398 2151.11,357.597 2159.94,353.32 2168.77,354.122 2177.59,256.591 2186.42,288.883 2195.25,229.249 2204.08,265.91 2212.91,230.652 2221.74,216.636 2230.57,196.855 2239.4,241.686 2248.22,183.509 2257.05,189.772 2265.88,182.241 2274.71,195.161 2283.54,160.471 2292.37,213.675 \"/>\n",
       "<polyline clip-path=\"url(#clip272)\" style=\"stroke:#0000ff; stroke-linecap:round; stroke-linejoin:round; stroke-width:12; stroke-opacity:1; fill:none\" points=\"279.421,1340.09 288.25,1333.02 297.079,1342.33 305.907,1326.26 314.736,1309.75 323.565,1313.88 332.394,1300.28 341.222,1290.56 350.051,1288.87 358.88,1284.48 367.708,1296.23 376.537,1313.29 385.366,1302.57 394.195,1279.41 403.023,1278.87 411.852,1285.59 420.681,1270.24 429.509,1259.99 438.338,1271.48 447.167,1265.25 455.996,1253.3 464.824,1228.6 473.653,1234.25 482.482,1246.44 491.31,1239.99 500.139,1240.2 508.968,1247.07 517.797,1256.06 526.625,1241.94 535.454,1239.56 544.283,1239.12 553.111,1245.38 561.94,1258.88 570.769,1274.98 579.598,1282.18 588.426,1279.89 597.255,1292.19 606.084,1283.09 614.912,1286.99 623.741,1294.35 632.57,1293.42 641.398,1272.03 650.227,1261.16 659.056,1277.44 667.885,1284.28 676.713,1293.41 685.542,1316.38 694.371,1323.54 703.199,1310.22 712.028,1320.08 720.857,1301.28 729.686,1306.99 738.514,1303.33 747.343,1288.03 756.172,1286.4 765,1296.17 773.829,1300.89 782.658,1288.55 791.487,1293.96 800.315,1279.07 809.144,1268.26 817.973,1255.24 826.801,1246.28 835.63,1249.01 844.459,1255.03 853.288,1252.53 862.116,1252.6 870.945,1246.35 879.774,1247.36 888.602,1240.87 897.431,1239.12 906.26,1238.06 915.089,1233.27 923.917,1234.6 932.746,1239.91 941.575,1240.73 950.403,1239.7 959.232,1251.93 968.061,1260.61 976.89,1246.08 985.718,1232.22 994.547,1226.39 1003.38,1242.95 1012.2,1244.51 1021.03,1260.96 1029.86,1242.43 1038.69,1238.31 1047.52,1242.04 1056.35,1240.07 1065.18,1241.49 1074.01,1242.68 1082.83,1239.57 1091.66,1241.97 1100.49,1235.35 1109.32,1223.24 1118.15,1217.31 1126.98,1217.26 1135.81,1227.4 1144.64,1242.45 1153.46,1233.8 1162.29,1217.67 1171.12,1212.72 1179.95,1220.56 1188.78,1212.65 1197.61,1192.09 1206.44,1188.38 1215.26,1189.69 1224.09,1190.48 1232.92,1187.4 1241.75,1181.16 1250.58,1175.59 1259.41,1162.54 1268.24,1160.21 1277.07,1147.37 1285.89,1146.5 1294.72,1158.85 1303.55,1163.95 1312.38,1164.32 1321.21,1169.47 1330.04,1173.79 1338.87,1166.69 1347.7,1163.38 1356.52,1158.47 1365.35,1140.79 1374.18,1138.27 1383.01,1138.96 1391.84,1152.41 1400.67,1149.87 1409.5,1153.23 1418.33,1145.69 1427.15,1131.39 1435.98,1121.93 1444.81,1117.97 1453.64,1115.89 1462.47,1107.05 1471.3,1100.13 1480.13,1106.74 1488.95,1107.92 1497.78,1104.74 1506.61,1099.99 1515.44,1101.28 1524.27,1100.21 1533.1,1097.19 1541.93,1094.24 1550.76,1096.49 1559.58,1112.73 1568.41,1119.95 1577.24,1120.36 1586.07,1118.78 1594.9,1125.33 1603.73,1127.17 1612.56,1125.3 1621.39,1132.63 1630.21,1127.95 1639.04,1135.9 1647.87,1144.4 1656.7,1155.01 1665.53,1163.88 1674.36,1156.19 1683.19,1153.36 1692.02,1143.49 1700.84,1149.18 1709.67,1153.59 1718.5,1143.12 1727.33,1126.56 1736.16,1115.4 1744.99,1113.08 1753.82,1113.35 1762.64,1117.24 1771.47,1130.16 1780.3,1134.94 1789.13,1131.29 1797.96,1124.34 1806.79,1127.83 1815.62,1128.57 1824.45,1119.21 1833.27,1133.84 1842.1,1137.87 1850.93,1143.32 1859.76,1145.03 1868.59,1169.94 1877.42,1176.3 1886.25,1178.99 1895.08,1191.09 1903.9,1196.68 1912.73,1188.82 1921.56,1186.71 1930.39,1193.67 1939.22,1206.73 1948.05,1204.08 1956.88,1202.57 1965.71,1191.72 1974.53,1180.87 1983.36,1165.7 1992.19,1165.26 2001.02,1167.44 2009.85,1174.34 2018.68,1163.69 2027.51,1164.53 2036.33,1175.02 2045.16,1185.27 2053.99,1202.92 2062.82,1209.61 2071.65,1204.31 2080.48,1216.97 2089.31,1232.95 2098.14,1241.32 2106.96,1232.43 2115.79,1224.16 2124.62,1211.34 2133.45,1185.74 2142.28,1167.53 2151.11,1165.61 2159.94,1160.84 2168.77,1159.92 2177.59,1163.74 2186.42,1156.13 2195.25,1149.34 2204.08,1124.26 2212.91,1117.33 2221.74,1119.08 2230.57,1115.68 2239.4,1106.76 2248.22,1107.62 2257.05,1101.15 2265.88,1100.95 2274.71,1101.81 2283.54,1102.16 2292.37,1098.62 \"/>\n",
       "<polyline clip-path=\"url(#clip272)\" style=\"stroke:#ff0000; stroke-linecap:round; stroke-linejoin:round; stroke-width:24; stroke-opacity:1; fill:none\" points=\"279.421,1340.09 288.25,1340.09 297.079,1340.09 305.907,1340.09 314.736,1340.09 323.565,1340.09 332.394,1340.09 341.222,1340.09 350.051,1340.09 358.88,1340.09 367.708,1340.09 376.537,1340.09 385.366,1340.09 394.195,1340.09 403.023,1340.09 411.852,1340.09 420.681,1340.09 429.509,1340.09 438.338,1340.09 447.167,1340.09 455.996,1340.09 464.824,1340.09 473.653,1340.09 482.482,1340.09 491.31,1340.09 500.139,1340.09 508.968,1340.09 517.797,1340.09 526.625,1340.09 535.454,1340.09 544.283,1340.09 553.111,1340.09 561.94,1340.09 570.769,1340.09 579.598,1340.09 588.426,1340.09 597.255,1340.09 606.084,1340.09 614.912,1340.09 623.741,1340.09 632.57,1340.09 641.398,1340.09 650.227,1340.09 659.056,1340.09 667.885,1340.09 676.713,1340.09 685.542,1340.09 694.371,1340.09 703.199,1340.09 712.028,1340.09 720.857,1340.09 729.686,1340.09 738.514,1340.09 747.343,1340.09 756.172,1340.09 765,1340.09 773.829,1340.09 782.658,1340.09 791.487,1340.09 800.315,1340.09 809.144,1340.09 817.973,1340.09 826.801,1340.09 835.63,1340.09 844.459,1340.09 853.288,1340.09 862.116,1340.09 870.945,1340.09 879.774,1340.09 888.602,1340.09 897.431,1340.09 906.26,1340.09 915.089,1340.09 923.917,1340.09 932.746,1340.09 941.575,1340.09 950.403,1340.09 959.232,1340.09 968.061,1340.09 976.89,1340.09 985.718,1340.09 994.547,1340.09 1003.38,1340.09 1012.2,1340.09 1021.03,1340.09 1029.86,1340.09 1038.69,1340.09 1047.52,1340.09 1056.35,1340.09 1065.18,1340.09 1074.01,1340.09 1082.83,1340.09 1091.66,1340.09 1100.49,1340.09 1109.32,1340.09 1118.15,1340.09 1126.98,1340.09 1135.81,1340.09 1144.64,1340.09 1153.46,1340.09 1162.29,1340.09 1171.12,1340.09 1179.95,1340.09 1188.78,1340.09 1197.61,1340.09 1206.44,1340.09 1215.26,1340.09 1224.09,1340.09 1232.92,1340.09 1241.75,1340.09 1250.58,1340.09 1259.41,1340.09 1268.24,1340.09 1277.07,1340.09 1285.89,1340.09 1294.72,1340.09 1303.55,1340.09 1312.38,1340.09 1321.21,1340.09 1330.04,1340.09 1338.87,1340.09 1347.7,1340.09 1356.52,1340.09 1365.35,1340.09 1374.18,1340.09 1383.01,1340.09 1391.84,1340.09 1400.67,1340.09 1409.5,1340.09 1418.33,1340.09 1427.15,1340.09 1435.98,1340.09 1444.81,1340.09 1453.64,1340.09 1462.47,1340.09 1471.3,1340.09 1480.13,1340.09 1488.95,1340.09 1497.78,1340.09 1506.61,1340.09 1515.44,1340.09 1524.27,1340.09 1533.1,1340.09 1541.93,1340.09 1550.76,1340.09 1559.58,1340.09 1568.41,1340.09 1577.24,1340.09 1586.07,1340.09 1594.9,1340.09 1603.73,1340.09 1612.56,1340.09 1621.39,1340.09 1630.21,1340.09 1639.04,1340.09 1647.87,1340.09 1656.7,1340.09 1665.53,1340.09 1674.36,1340.09 1683.19,1340.09 1692.02,1340.09 1700.84,1340.09 1709.67,1340.09 1718.5,1340.09 1727.33,1340.09 1736.16,1340.09 1744.99,1340.09 1753.82,1340.09 1762.64,1340.09 1771.47,1340.09 1780.3,1340.09 1789.13,1340.09 1797.96,1340.09 1806.79,1340.09 1815.62,1340.09 1824.45,1340.09 1833.27,1340.09 1842.1,1340.09 1850.93,1340.09 1859.76,1340.09 1868.59,1340.09 1877.42,1340.09 1886.25,1340.09 1895.08,1340.09 1903.9,1340.09 1912.73,1340.09 1921.56,1340.09 1930.39,1340.09 1939.22,1340.09 1948.05,1340.09 1956.88,1340.09 1965.71,1340.09 1974.53,1340.09 1983.36,1340.09 1992.19,1340.09 2001.02,1340.09 2009.85,1340.09 2018.68,1340.09 2027.51,1340.09 2036.33,1340.09 2045.16,1340.09 2053.99,1340.09 2062.82,1340.09 2071.65,1340.09 2080.48,1340.09 2089.31,1340.09 2098.14,1340.09 2106.96,1340.09 2115.79,1340.09 2124.62,1340.09 2133.45,1340.09 2142.28,1340.09 2151.11,1340.09 2159.94,1340.09 2168.77,1340.09 2177.59,1340.09 2186.42,1340.09 2195.25,1340.09 2204.08,1340.09 2212.91,1340.09 2221.74,1340.09 2230.57,1340.09 2239.4,1340.09 2248.22,1340.09 2257.05,1340.09 2265.88,1340.09 2274.71,1340.09 2283.54,1340.09 2292.37,1340.09 \"/>\n",
       "<path clip-path=\"url(#clip270)\" d=\"M290.157 300.469 L1028.83 300.469 L1028.83 93.1086 L290.157 93.1086  Z\" fill=\"#ffffff\" fill-rule=\"evenodd\" fill-opacity=\"1\"/>\n",
       "<polyline clip-path=\"url(#clip270)\" style=\"stroke:#000000; stroke-linecap:round; stroke-linejoin:round; stroke-width:4; stroke-opacity:1; fill:none\" points=\"290.157,300.469 1028.83,300.469 1028.83,93.1086 290.157,93.1086 290.157,300.469 \"/>\n",
       "<polyline clip-path=\"url(#clip270)\" style=\"stroke:#800080; stroke-linecap:round; stroke-linejoin:round; stroke-width:16; stroke-opacity:1; fill:none\" points=\"313.865,144.949 456.113,144.949 \"/>\n",
       "<path clip-path=\"url(#clip270)\" d=\"M507.692 130.331 L507.692 135.261 Q505.33 133.062 502.645 131.974 Q499.983 130.886 496.974 130.886 Q491.048 130.886 487.9 134.52 Q484.752 138.132 484.752 144.983 Q484.752 151.812 487.9 155.446 Q491.048 159.057 496.974 159.057 Q499.983 159.057 502.645 157.969 Q505.33 156.881 507.692 154.682 L507.692 159.567 Q505.238 161.233 502.483 162.067 Q499.752 162.9 496.696 162.9 Q488.849 162.9 484.335 158.108 Q479.821 153.293 479.821 144.983 Q479.821 136.65 484.335 131.858 Q488.849 127.044 496.696 127.044 Q499.798 127.044 502.53 127.877 Q505.284 128.687 507.692 130.331 Z\" fill=\"#000000\" fill-rule=\"nonzero\" fill-opacity=\"1\" /><path clip-path=\"url(#clip270)\" d=\"M536.279 146.581 L536.279 162.229 L532.02 162.229 L532.02 146.719 Q532.02 143.039 530.585 141.21 Q529.15 139.382 526.279 139.382 Q522.83 139.382 520.84 141.581 Q518.849 143.78 518.849 147.576 L518.849 162.229 L514.566 162.229 L514.566 126.21 L518.849 126.21 L518.849 140.331 Q520.377 137.993 522.437 136.835 Q524.52 135.678 527.228 135.678 Q531.696 135.678 533.988 138.456 Q536.279 141.21 536.279 146.581 Z\" fill=\"#000000\" fill-rule=\"nonzero\" fill-opacity=\"1\" /><path clip-path=\"url(#clip270)\" d=\"M554.821 139.289 Q551.395 139.289 549.404 141.974 Q547.414 144.636 547.414 149.289 Q547.414 153.942 549.381 156.627 Q551.372 159.289 554.821 159.289 Q558.224 159.289 560.214 156.604 Q562.205 153.918 562.205 149.289 Q562.205 144.682 560.214 141.997 Q558.224 139.289 554.821 139.289 M554.821 135.678 Q560.376 135.678 563.548 139.289 Q566.719 142.9 566.719 149.289 Q566.719 155.655 563.548 159.289 Q560.376 162.9 554.821 162.9 Q549.242 162.9 546.071 159.289 Q542.923 155.655 542.923 149.289 Q542.923 142.9 546.071 139.289 Q549.242 135.678 554.821 135.678 Z\" fill=\"#000000\" fill-rule=\"nonzero\" fill-opacity=\"1\" /><path clip-path=\"url(#clip270)\" d=\"M590.307 137.067 L590.307 141.094 Q588.501 140.169 586.557 139.706 Q584.612 139.243 582.529 139.243 Q579.358 139.243 577.761 140.215 Q576.187 141.187 576.187 143.131 Q576.187 144.613 577.321 145.469 Q578.455 146.303 581.881 147.067 L583.339 147.391 Q587.876 148.363 589.774 150.145 Q591.696 151.905 591.696 155.076 Q591.696 158.687 588.825 160.793 Q585.978 162.9 580.978 162.9 Q578.895 162.9 576.626 162.483 Q574.381 162.09 571.881 161.28 L571.881 156.881 Q574.242 158.108 576.534 158.733 Q578.825 159.335 581.071 159.335 Q584.08 159.335 585.7 158.317 Q587.321 157.275 587.321 155.4 Q587.321 153.664 586.14 152.738 Q584.983 151.812 581.024 150.956 L579.543 150.608 Q575.585 149.775 573.825 148.062 Q572.066 146.326 572.066 143.317 Q572.066 139.659 574.659 137.669 Q577.251 135.678 582.02 135.678 Q584.381 135.678 586.464 136.025 Q588.548 136.372 590.307 137.067 Z\" fill=\"#000000\" fill-rule=\"nonzero\" fill-opacity=\"1\" /><path clip-path=\"url(#clip270)\" d=\"M620.654 148.201 L620.654 150.284 L601.071 150.284 Q601.348 154.682 603.71 156.997 Q606.094 159.289 610.33 159.289 Q612.784 159.289 615.075 158.687 Q617.39 158.085 619.659 156.881 L619.659 160.909 Q617.367 161.881 614.959 162.391 Q612.552 162.9 610.075 162.9 Q603.872 162.9 600.237 159.289 Q596.626 155.678 596.626 149.52 Q596.626 143.155 600.052 139.428 Q603.501 135.678 609.334 135.678 Q614.566 135.678 617.598 139.057 Q620.654 142.414 620.654 148.201 M616.395 146.951 Q616.348 143.456 614.427 141.372 Q612.529 139.289 609.381 139.289 Q605.816 139.289 603.663 141.303 Q601.534 143.317 601.21 146.974 L616.395 146.951 Z\" fill=\"#000000\" fill-rule=\"nonzero\" fill-opacity=\"1\" /><path clip-path=\"url(#clip270)\" d=\"M649.195 146.581 L649.195 162.229 L644.936 162.229 L644.936 146.719 Q644.936 143.039 643.501 141.21 Q642.066 139.382 639.195 139.382 Q635.746 139.382 633.756 141.581 Q631.765 143.78 631.765 147.576 L631.765 162.229 L627.483 162.229 L627.483 136.303 L631.765 136.303 L631.765 140.331 Q633.293 137.993 635.353 136.835 Q637.436 135.678 640.145 135.678 Q644.612 135.678 646.904 138.456 Q649.195 141.21 649.195 146.581 Z\" fill=\"#000000\" fill-rule=\"nonzero\" fill-opacity=\"1\" /><path clip-path=\"url(#clip270)\" d=\"M677.621 131.511 L677.621 144.497 L683.501 144.497 Q686.765 144.497 688.547 142.807 Q690.329 141.118 690.329 137.993 Q690.329 134.891 688.547 133.201 Q686.765 131.511 683.501 131.511 L677.621 131.511 M672.945 127.669 L683.501 127.669 Q689.311 127.669 692.274 130.307 Q695.26 132.923 695.26 137.993 Q695.26 143.108 692.274 145.724 Q689.311 148.34 683.501 148.34 L677.621 148.34 L677.621 162.229 L672.945 162.229 L672.945 127.669 Z\" fill=\"#000000\" fill-rule=\"nonzero\" fill-opacity=\"1\" /><path clip-path=\"url(#clip270)\" d=\"M709.704 139.289 Q706.278 139.289 704.288 141.974 Q702.297 144.636 702.297 149.289 Q702.297 153.942 704.265 156.627 Q706.255 159.289 709.704 159.289 Q713.107 159.289 715.098 156.604 Q717.089 153.918 717.089 149.289 Q717.089 144.682 715.098 141.997 Q713.107 139.289 709.704 139.289 M709.704 135.678 Q715.26 135.678 718.431 139.289 Q721.602 142.9 721.602 149.289 Q721.602 155.655 718.431 159.289 Q715.26 162.9 709.704 162.9 Q704.126 162.9 700.954 159.289 Q697.806 155.655 697.806 149.289 Q697.806 142.9 700.954 139.289 Q704.126 135.678 709.704 135.678 Z\" fill=\"#000000\" fill-rule=\"nonzero\" fill-opacity=\"1\" /><path clip-path=\"url(#clip270)\" d=\"M743.686 140.284 Q742.968 139.868 742.112 139.682 Q741.278 139.474 740.26 139.474 Q736.649 139.474 734.704 141.835 Q732.783 144.173 732.783 148.571 L732.783 162.229 L728.501 162.229 L728.501 136.303 L732.783 136.303 L732.783 140.331 Q734.125 137.969 736.278 136.835 Q738.431 135.678 741.51 135.678 Q741.95 135.678 742.482 135.747 Q743.014 135.794 743.662 135.909 L743.686 140.284 Z\" fill=\"#000000\" fill-rule=\"nonzero\" fill-opacity=\"1\" /><path clip-path=\"url(#clip270)\" d=\"M752.366 128.942 L752.366 136.303 L761.139 136.303 L761.139 139.613 L752.366 139.613 L752.366 153.687 Q752.366 156.858 753.223 157.761 Q754.102 158.664 756.764 158.664 L761.139 158.664 L761.139 162.229 L756.764 162.229 Q751.834 162.229 749.959 160.4 Q748.084 158.548 748.084 153.687 L748.084 139.613 L744.959 139.613 L744.959 136.303 L748.084 136.303 L748.084 128.942 L752.366 128.942 Z\" fill=\"#000000\" fill-rule=\"nonzero\" fill-opacity=\"1\" /><path clip-path=\"url(#clip270)\" d=\"M779.866 126.21 L779.866 129.752 L775.792 129.752 Q773.5 129.752 772.598 130.678 Q771.718 131.604 771.718 134.011 L771.718 136.303 L778.732 136.303 L778.732 139.613 L771.718 139.613 L771.718 162.229 L767.435 162.229 L767.435 139.613 L763.361 139.613 L763.361 136.303 L767.435 136.303 L767.435 134.497 Q767.435 130.169 769.449 128.201 Q771.463 126.21 775.838 126.21 L779.866 126.21 Z\" fill=\"#000000\" fill-rule=\"nonzero\" fill-opacity=\"1\" /><path clip-path=\"url(#clip270)\" d=\"M793.477 139.289 Q790.051 139.289 788.06 141.974 Q786.07 144.636 786.07 149.289 Q786.07 153.942 788.037 156.627 Q790.028 159.289 793.477 159.289 Q796.88 159.289 798.871 156.604 Q800.861 153.918 800.861 149.289 Q800.861 144.682 798.871 141.997 Q796.88 139.289 793.477 139.289 M793.477 135.678 Q799.033 135.678 802.204 139.289 Q805.375 142.9 805.375 149.289 Q805.375 155.655 802.204 159.289 Q799.033 162.9 793.477 162.9 Q787.898 162.9 784.727 159.289 Q781.579 155.655 781.579 149.289 Q781.579 142.9 784.727 139.289 Q787.898 135.678 793.477 135.678 Z\" fill=\"#000000\" fill-rule=\"nonzero\" fill-opacity=\"1\" /><path clip-path=\"url(#clip270)\" d=\"M812.435 126.21 L816.694 126.21 L816.694 162.229 L812.435 162.229 L812.435 126.21 Z\" fill=\"#000000\" fill-rule=\"nonzero\" fill-opacity=\"1\" /><path clip-path=\"url(#clip270)\" d=\"M825.606 136.303 L829.866 136.303 L829.866 162.229 L825.606 162.229 L825.606 136.303 M825.606 126.21 L829.866 126.21 L829.866 131.604 L825.606 131.604 L825.606 126.21 Z\" fill=\"#000000\" fill-rule=\"nonzero\" fill-opacity=\"1\" /><path clip-path=\"url(#clip270)\" d=\"M848.824 139.289 Q845.398 139.289 843.407 141.974 Q841.417 144.636 841.417 149.289 Q841.417 153.942 843.384 156.627 Q845.375 159.289 848.824 159.289 Q852.227 159.289 854.217 156.604 Q856.208 153.918 856.208 149.289 Q856.208 144.682 854.217 141.997 Q852.227 139.289 848.824 139.289 M848.824 135.678 Q854.379 135.678 857.551 139.289 Q860.722 142.9 860.722 149.289 Q860.722 155.655 857.551 159.289 Q854.379 162.9 848.824 162.9 Q843.245 162.9 840.074 159.289 Q836.926 155.655 836.926 149.289 Q836.926 142.9 840.074 139.289 Q843.245 135.678 848.824 135.678 Z\" fill=\"#000000\" fill-rule=\"nonzero\" fill-opacity=\"1\" /><path clip-path=\"url(#clip270)\" d=\"M883.037 127.669 L887.713 127.669 L887.713 162.229 L883.037 162.229 L883.037 127.669 Z\" fill=\"#000000\" fill-rule=\"nonzero\" fill-opacity=\"1\" /><path clip-path=\"url(#clip270)\" d=\"M918.384 146.581 L918.384 162.229 L914.125 162.229 L914.125 146.719 Q914.125 143.039 912.689 141.21 Q911.254 139.382 908.384 139.382 Q904.935 139.382 902.944 141.581 Q900.953 143.78 900.953 147.576 L900.953 162.229 L896.671 162.229 L896.671 136.303 L900.953 136.303 L900.953 140.331 Q902.481 137.993 904.541 136.835 Q906.625 135.678 909.333 135.678 Q913.8 135.678 916.092 138.456 Q918.384 141.21 918.384 146.581 Z\" fill=\"#000000\" fill-rule=\"nonzero\" fill-opacity=\"1\" /><path clip-path=\"url(#clip270)\" d=\"M926.879 136.303 L931.138 136.303 L931.138 162.229 L926.879 162.229 L926.879 136.303 M926.879 126.21 L931.138 126.21 L931.138 131.604 L926.879 131.604 L926.879 126.21 Z\" fill=\"#000000\" fill-rule=\"nonzero\" fill-opacity=\"1\" /><path clip-path=\"url(#clip270)\" d=\"M944.263 128.942 L944.263 136.303 L953.036 136.303 L953.036 139.613 L944.263 139.613 L944.263 153.687 Q944.263 156.858 945.12 157.761 Q945.999 158.664 948.661 158.664 L953.036 158.664 L953.036 162.229 L948.661 162.229 Q943.731 162.229 941.856 160.4 Q939.981 158.548 939.981 153.687 L939.981 139.613 L936.856 139.613 L936.856 136.303 L939.981 136.303 L939.981 128.942 L944.263 128.942 Z\" fill=\"#000000\" fill-rule=\"nonzero\" fill-opacity=\"1\" /><path clip-path=\"url(#clip270)\" d=\"M958.638 136.303 L962.897 136.303 L962.897 162.229 L958.638 162.229 L958.638 136.303 M958.638 126.21 L962.897 126.21 L962.897 131.604 L958.638 131.604 L958.638 126.21 Z\" fill=\"#000000\" fill-rule=\"nonzero\" fill-opacity=\"1\" /><path clip-path=\"url(#clip270)\" d=\"M983.592 149.196 Q978.43 149.196 976.439 150.377 Q974.448 151.557 974.448 154.405 Q974.448 156.673 975.93 158.016 Q977.434 159.335 980.004 159.335 Q983.545 159.335 985.675 156.835 Q987.828 154.312 987.828 150.145 L987.828 149.196 L983.592 149.196 M992.087 147.437 L992.087 162.229 L987.828 162.229 L987.828 158.293 Q986.37 160.655 984.194 161.789 Q982.018 162.9 978.87 162.9 Q974.888 162.9 972.527 160.678 Q970.189 158.432 970.189 154.682 Q970.189 150.307 973.106 148.085 Q976.045 145.863 981.856 145.863 L987.828 145.863 L987.828 145.446 Q987.828 142.507 985.883 140.909 Q983.962 139.289 980.467 139.289 Q978.245 139.289 976.138 139.821 Q974.032 140.354 972.087 141.419 L972.087 137.483 Q974.425 136.581 976.624 136.141 Q978.823 135.678 980.907 135.678 Q986.532 135.678 989.309 138.594 Q992.087 141.511 992.087 147.437 Z\" fill=\"#000000\" fill-rule=\"nonzero\" fill-opacity=\"1\" /><path clip-path=\"url(#clip270)\" d=\"M1000.86 126.21 L1005.12 126.21 L1005.12 162.229 L1000.86 162.229 L1000.86 126.21 Z\" fill=\"#000000\" fill-rule=\"nonzero\" fill-opacity=\"1\" /><polyline clip-path=\"url(#clip270)\" style=\"stroke:#0000ff; stroke-linecap:round; stroke-linejoin:round; stroke-width:12; stroke-opacity:1; fill:none\" points=\"313.865,196.789 456.113,196.789 \"/>\n",
       "<path clip-path=\"url(#clip270)\" d=\"M502.067 180.643 L502.067 185.203 Q499.405 183.93 497.043 183.305 Q494.682 182.68 492.483 182.68 Q488.664 182.68 486.581 184.161 Q484.52 185.643 484.52 188.374 Q484.52 190.666 485.886 191.847 Q487.275 193.004 491.118 193.722 L493.942 194.3 Q499.173 195.296 501.65 197.819 Q504.15 200.319 504.15 204.532 Q504.15 209.555 500.77 212.147 Q497.414 214.74 490.909 214.74 Q488.456 214.74 485.678 214.184 Q482.923 213.629 479.96 212.541 L479.96 207.726 Q482.807 209.323 485.539 210.133 Q488.27 210.944 490.909 210.944 Q494.914 210.944 497.09 209.37 Q499.266 207.796 499.266 204.879 Q499.266 202.333 497.692 200.897 Q496.141 199.462 492.576 198.745 L489.729 198.189 Q484.497 197.147 482.159 194.925 Q479.821 192.703 479.821 188.745 Q479.821 184.161 483.039 181.522 Q486.28 178.884 491.951 178.884 Q494.381 178.884 496.905 179.323 Q499.428 179.763 502.067 180.643 Z\" fill=\"#000000\" fill-rule=\"nonzero\" fill-opacity=\"1\" /><path clip-path=\"url(#clip270)\" d=\"M516.117 183.351 L516.117 196.337 L521.997 196.337 Q525.261 196.337 527.043 194.647 Q528.826 192.958 528.826 189.833 Q528.826 186.731 527.043 185.041 Q525.261 183.351 521.997 183.351 L516.117 183.351 M511.442 179.509 L521.997 179.509 Q527.807 179.509 530.77 182.147 Q533.756 184.763 533.756 189.833 Q533.756 194.948 530.77 197.564 Q527.807 200.18 521.997 200.18 L516.117 200.18 L516.117 214.069 L511.442 214.069 L511.442 179.509 Z\" fill=\"#000000\" fill-rule=\"nonzero\" fill-opacity=\"1\" /><path clip-path=\"url(#clip270)\" d=\"M534.242 179.509 L539.265 179.509 L548.849 193.722 L558.363 179.509 L563.386 179.509 L551.164 197.61 L551.164 214.069 L546.464 214.069 L546.464 197.61 L534.242 179.509 Z\" fill=\"#000000\" fill-rule=\"nonzero\" fill-opacity=\"1\" /><polyline clip-path=\"url(#clip270)\" style=\"stroke:#ff0000; stroke-linecap:round; stroke-linejoin:round; stroke-width:20; stroke-opacity:1; fill:none\" points=\"313.865,248.629 456.113,248.629 \"/>\n",
       "<path clip-path=\"url(#clip270)\" d=\"M496.21 249.705 Q497.715 250.214 499.127 251.881 Q500.562 253.548 501.997 256.464 L506.742 265.909 L501.719 265.909 L497.298 257.043 Q495.585 253.571 493.965 252.436 Q492.368 251.302 489.59 251.302 L484.497 251.302 L484.497 265.909 L479.821 265.909 L479.821 231.349 L490.377 231.349 Q496.303 231.349 499.219 233.825 Q502.136 236.302 502.136 241.302 Q502.136 244.566 500.608 246.719 Q499.104 248.872 496.21 249.705 M484.497 235.191 L484.497 247.46 L490.377 247.46 Q493.756 247.46 495.469 245.909 Q497.205 244.335 497.205 241.302 Q497.205 238.27 495.469 236.742 Q493.756 235.191 490.377 235.191 L484.497 235.191 Z\" fill=\"#000000\" fill-rule=\"nonzero\" fill-opacity=\"1\" /><path clip-path=\"url(#clip270)\" d=\"M532.622 251.881 L532.622 253.964 L513.039 253.964 Q513.316 258.362 515.678 260.677 Q518.062 262.969 522.298 262.969 Q524.752 262.969 527.043 262.367 Q529.358 261.765 531.627 260.561 L531.627 264.589 Q529.335 265.561 526.928 266.071 Q524.52 266.58 522.043 266.58 Q515.84 266.58 512.205 262.969 Q508.594 259.358 508.594 253.2 Q508.594 246.835 512.02 243.108 Q515.469 239.358 521.303 239.358 Q526.534 239.358 529.566 242.737 Q532.622 246.094 532.622 251.881 M528.363 250.631 Q528.316 247.136 526.395 245.052 Q524.497 242.969 521.349 242.969 Q517.784 242.969 515.631 244.983 Q513.502 246.997 513.178 250.654 L528.363 250.631 Z\" fill=\"#000000\" fill-rule=\"nonzero\" fill-opacity=\"1\" /><path clip-path=\"url(#clip270)\" d=\"M551.395 252.876 Q546.233 252.876 544.242 254.057 Q542.252 255.237 542.252 258.085 Q542.252 260.353 543.733 261.696 Q545.238 263.015 547.807 263.015 Q551.349 263.015 553.478 260.515 Q555.631 257.992 555.631 253.825 L555.631 252.876 L551.395 252.876 M559.89 251.117 L559.89 265.909 L555.631 265.909 L555.631 261.973 Q554.173 264.335 551.997 265.469 Q549.821 266.58 546.673 266.58 Q542.691 266.58 540.33 264.358 Q537.992 262.112 537.992 258.362 Q537.992 253.987 540.909 251.765 Q543.849 249.543 549.659 249.543 L555.631 249.543 L555.631 249.126 Q555.631 246.187 553.687 244.589 Q551.765 242.969 548.27 242.969 Q546.048 242.969 543.941 243.501 Q541.835 244.034 539.89 245.099 L539.89 241.163 Q542.228 240.261 544.427 239.821 Q546.626 239.358 548.71 239.358 Q554.335 239.358 557.113 242.274 Q559.89 245.191 559.89 251.117 Z\" fill=\"#000000\" fill-rule=\"nonzero\" fill-opacity=\"1\" /><path clip-path=\"url(#clip270)\" d=\"M568.663 229.89 L572.923 229.89 L572.923 265.909 L568.663 265.909 L568.663 229.89 Z\" fill=\"#000000\" fill-rule=\"nonzero\" fill-opacity=\"1\" /><path clip-path=\"url(#clip270)\" d=\"M581.835 229.89 L586.094 229.89 L586.094 265.909 L581.835 265.909 L581.835 229.89 Z\" fill=\"#000000\" fill-rule=\"nonzero\" fill-opacity=\"1\" /><path clip-path=\"url(#clip270)\" d=\"M605.052 242.969 Q601.626 242.969 599.635 245.654 Q597.645 248.316 597.645 252.969 Q597.645 257.622 599.612 260.307 Q601.603 262.969 605.052 262.969 Q608.455 262.969 610.446 260.284 Q612.436 257.598 612.436 252.969 Q612.436 248.362 610.446 245.677 Q608.455 242.969 605.052 242.969 M605.052 239.358 Q610.608 239.358 613.779 242.969 Q616.95 246.58 616.95 252.969 Q616.95 259.335 613.779 262.969 Q610.608 266.58 605.052 266.58 Q599.473 266.58 596.302 262.969 Q593.154 259.335 593.154 252.969 Q593.154 246.58 596.302 242.969 Q599.473 239.358 605.052 239.358 Z\" fill=\"#000000\" fill-rule=\"nonzero\" fill-opacity=\"1\" /><path clip-path=\"url(#clip270)\" d=\"M642.668 240.978 L642.668 244.96 Q640.862 243.964 639.033 243.478 Q637.228 242.969 635.376 242.969 Q631.233 242.969 628.941 245.608 Q626.649 248.224 626.649 252.969 Q626.649 257.714 628.941 260.353 Q631.233 262.969 635.376 262.969 Q637.228 262.969 639.033 262.483 Q640.862 261.973 642.668 260.978 L642.668 264.913 Q640.885 265.747 638.964 266.163 Q637.066 266.58 634.913 266.58 Q629.057 266.58 625.608 262.899 Q622.159 259.219 622.159 252.969 Q622.159 246.626 625.631 242.992 Q629.126 239.358 635.191 239.358 Q637.158 239.358 639.033 239.775 Q640.908 240.168 642.668 240.978 Z\" fill=\"#000000\" fill-rule=\"nonzero\" fill-opacity=\"1\" /><path clip-path=\"url(#clip270)\" d=\"M661.857 252.876 Q656.695 252.876 654.705 254.057 Q652.714 255.237 652.714 258.085 Q652.714 260.353 654.195 261.696 Q655.7 263.015 658.269 263.015 Q661.811 263.015 663.941 260.515 Q666.093 257.992 666.093 253.825 L666.093 252.876 L661.857 252.876 M670.353 251.117 L670.353 265.909 L666.093 265.909 L666.093 261.973 Q664.635 264.335 662.459 265.469 Q660.283 266.58 657.135 266.58 Q653.154 266.58 650.793 264.358 Q648.455 262.112 648.455 258.362 Q648.455 253.987 651.371 251.765 Q654.311 249.543 660.121 249.543 L666.093 249.543 L666.093 249.126 Q666.093 246.187 664.149 244.589 Q662.228 242.969 658.732 242.969 Q656.51 242.969 654.404 243.501 Q652.297 244.034 650.353 245.099 L650.353 241.163 Q652.691 240.261 654.89 239.821 Q657.089 239.358 659.172 239.358 Q664.797 239.358 667.575 242.274 Q670.353 245.191 670.353 251.117 Z\" fill=\"#000000\" fill-rule=\"nonzero\" fill-opacity=\"1\" /><path clip-path=\"url(#clip270)\" d=\"M683.339 232.622 L683.339 239.983 L692.112 239.983 L692.112 243.293 L683.339 243.293 L683.339 257.367 Q683.339 260.538 684.195 261.441 Q685.075 262.344 687.737 262.344 L692.112 262.344 L692.112 265.909 L687.737 265.909 Q682.806 265.909 680.931 264.08 Q679.056 262.228 679.056 257.367 L679.056 243.293 L675.931 243.293 L675.931 239.983 L679.056 239.983 L679.056 232.622 L683.339 232.622 Z\" fill=\"#000000\" fill-rule=\"nonzero\" fill-opacity=\"1\" /><path clip-path=\"url(#clip270)\" d=\"M719.889 251.881 L719.889 253.964 L700.306 253.964 Q700.584 258.362 702.945 260.677 Q705.329 262.969 709.565 262.969 Q712.019 262.969 714.311 262.367 Q716.626 261.765 718.894 260.561 L718.894 264.589 Q716.602 265.561 714.195 266.071 Q711.788 266.58 709.311 266.58 Q703.107 266.58 699.473 262.969 Q695.862 259.358 695.862 253.2 Q695.862 246.835 699.288 243.108 Q702.737 239.358 708.57 239.358 Q713.802 239.358 716.834 242.737 Q719.889 246.094 719.889 251.881 M715.63 250.631 Q715.584 247.136 713.663 245.052 Q711.765 242.969 708.616 242.969 Q705.052 242.969 702.899 244.983 Q700.769 246.997 700.445 250.654 L715.63 250.631 Z\" fill=\"#000000\" fill-rule=\"nonzero\" fill-opacity=\"1\" /><path clip-path=\"url(#clip270)\" d=\"M743.94 243.918 L743.94 229.89 L748.199 229.89 L748.199 265.909 L743.94 265.909 L743.94 262.02 Q742.598 264.335 740.537 265.469 Q738.5 266.58 735.63 266.58 Q730.931 266.58 727.968 262.83 Q725.028 259.08 725.028 252.969 Q725.028 246.858 727.968 243.108 Q730.931 239.358 735.63 239.358 Q738.5 239.358 740.537 240.492 Q742.598 241.603 743.94 243.918 M729.426 252.969 Q729.426 257.668 731.348 260.353 Q733.292 263.015 736.672 263.015 Q740.051 263.015 741.996 260.353 Q743.94 257.668 743.94 252.969 Q743.94 248.27 741.996 245.608 Q740.051 242.923 736.672 242.923 Q733.292 242.923 731.348 245.608 Q729.426 248.27 729.426 252.969 Z\" fill=\"#000000\" fill-rule=\"nonzero\" fill-opacity=\"1\" /><path clip-path=\"url(#clip270)\" d=\"M776.903 235.191 L776.903 248.177 L782.783 248.177 Q786.047 248.177 787.829 246.487 Q789.611 244.798 789.611 241.673 Q789.611 238.571 787.829 236.881 Q786.047 235.191 782.783 235.191 L776.903 235.191 M772.227 231.349 L782.783 231.349 Q788.593 231.349 791.556 233.987 Q794.542 236.603 794.542 241.673 Q794.542 246.788 791.556 249.404 Q788.593 252.02 782.783 252.02 L776.903 252.02 L776.903 265.909 L772.227 265.909 L772.227 231.349 Z\" fill=\"#000000\" fill-rule=\"nonzero\" fill-opacity=\"1\" /><path clip-path=\"url(#clip270)\" d=\"M808.986 242.969 Q805.56 242.969 803.57 245.654 Q801.579 248.316 801.579 252.969 Q801.579 257.622 803.546 260.307 Q805.537 262.969 808.986 262.969 Q812.389 262.969 814.38 260.284 Q816.37 257.598 816.37 252.969 Q816.37 248.362 814.38 245.677 Q812.389 242.969 808.986 242.969 M808.986 239.358 Q814.542 239.358 817.713 242.969 Q820.884 246.58 820.884 252.969 Q820.884 259.335 817.713 262.969 Q814.542 266.58 808.986 266.58 Q803.408 266.58 800.236 262.969 Q797.088 259.335 797.088 252.969 Q797.088 246.58 800.236 242.969 Q803.408 239.358 808.986 239.358 Z\" fill=\"#000000\" fill-rule=\"nonzero\" fill-opacity=\"1\" /><path clip-path=\"url(#clip270)\" d=\"M842.968 243.964 Q842.25 243.548 841.393 243.362 Q840.56 243.154 839.542 243.154 Q835.931 243.154 833.986 245.515 Q832.065 247.853 832.065 252.251 L832.065 265.909 L827.782 265.909 L827.782 239.983 L832.065 239.983 L832.065 244.011 Q833.407 241.649 835.56 240.515 Q837.713 239.358 840.792 239.358 Q841.231 239.358 841.764 239.427 Q842.296 239.474 842.944 239.589 L842.968 243.964 Z\" fill=\"#000000\" fill-rule=\"nonzero\" fill-opacity=\"1\" /><path clip-path=\"url(#clip270)\" d=\"M851.648 232.622 L851.648 239.983 L860.421 239.983 L860.421 243.293 L851.648 243.293 L851.648 257.367 Q851.648 260.538 852.504 261.441 Q853.384 262.344 856.046 262.344 L860.421 262.344 L860.421 265.909 L856.046 265.909 Q851.116 265.909 849.241 264.08 Q847.366 262.228 847.366 257.367 L847.366 243.293 L844.241 243.293 L844.241 239.983 L847.366 239.983 L847.366 232.622 L851.648 232.622 Z\" fill=\"#000000\" fill-rule=\"nonzero\" fill-opacity=\"1\" /><path clip-path=\"url(#clip270)\" d=\"M879.148 229.89 L879.148 233.432 L875.074 233.432 Q872.782 233.432 871.879 234.358 Q871 235.284 871 237.691 L871 239.983 L878.014 239.983 L878.014 243.293 L871 243.293 L871 265.909 L866.717 265.909 L866.717 243.293 L862.643 243.293 L862.643 239.983 L866.717 239.983 L866.717 238.177 Q866.717 233.849 868.731 231.881 Q870.745 229.89 875.12 229.89 L879.148 229.89 Z\" fill=\"#000000\" fill-rule=\"nonzero\" fill-opacity=\"1\" /><path clip-path=\"url(#clip270)\" d=\"M892.759 242.969 Q889.333 242.969 887.342 245.654 Q885.352 248.316 885.352 252.969 Q885.352 257.622 887.319 260.307 Q889.31 262.969 892.759 262.969 Q896.162 262.969 898.152 260.284 Q900.143 257.598 900.143 252.969 Q900.143 248.362 898.152 245.677 Q896.162 242.969 892.759 242.969 M892.759 239.358 Q898.314 239.358 901.486 242.969 Q904.657 246.58 904.657 252.969 Q904.657 259.335 901.486 262.969 Q898.314 266.58 892.759 266.58 Q887.18 266.58 884.009 262.969 Q880.861 259.335 880.861 252.969 Q880.861 246.58 884.009 242.969 Q887.18 239.358 892.759 239.358 Z\" fill=\"#000000\" fill-rule=\"nonzero\" fill-opacity=\"1\" /><path clip-path=\"url(#clip270)\" d=\"M911.717 229.89 L915.976 229.89 L915.976 265.909 L911.717 265.909 L911.717 229.89 Z\" fill=\"#000000\" fill-rule=\"nonzero\" fill-opacity=\"1\" /><path clip-path=\"url(#clip270)\" d=\"M924.888 239.983 L929.148 239.983 L929.148 265.909 L924.888 265.909 L924.888 239.983 M924.888 229.89 L929.148 229.89 L929.148 235.284 L924.888 235.284 L924.888 229.89 Z\" fill=\"#000000\" fill-rule=\"nonzero\" fill-opacity=\"1\" /><path clip-path=\"url(#clip270)\" d=\"M948.106 242.969 Q944.68 242.969 942.689 245.654 Q940.698 248.316 940.698 252.969 Q940.698 257.622 942.666 260.307 Q944.657 262.969 948.106 262.969 Q951.509 262.969 953.499 260.284 Q955.49 257.598 955.49 252.969 Q955.49 248.362 953.499 245.677 Q951.509 242.969 948.106 242.969 M948.106 239.358 Q953.661 239.358 956.833 242.969 Q960.004 246.58 960.004 252.969 Q960.004 259.335 956.833 262.969 Q953.661 266.58 948.106 266.58 Q942.527 266.58 939.356 262.969 Q936.208 259.335 936.208 252.969 Q936.208 246.58 939.356 242.969 Q942.527 239.358 948.106 239.358 Z\" fill=\"#000000\" fill-rule=\"nonzero\" fill-opacity=\"1\" /></svg>\n"
      ],
      "text/html": [
       "<?xml version=\"1.0\" encoding=\"utf-8\"?>\n",
       "<svg xmlns=\"http://www.w3.org/2000/svg\" xmlns:xlink=\"http://www.w3.org/1999/xlink\" width=\"600\" height=\"400\" viewBox=\"0 0 2400 1600\">\n",
       "<defs>\n",
       "  <clipPath id=\"clip320\">\n",
       "    <rect x=\"0\" y=\"0\" width=\"2400\" height=\"1600\"/>\n",
       "  </clipPath>\n",
       "</defs>\n",
       "<path clip-path=\"url(#clip320)\" d=\"M0 1600 L2400 1600 L2400 0 L0 0  Z\" fill=\"#ffffff\" fill-rule=\"evenodd\" fill-opacity=\"1\"/>\n",
       "<defs>\n",
       "  <clipPath id=\"clip321\">\n",
       "    <rect x=\"480\" y=\"0\" width=\"1681\" height=\"1600\"/>\n",
       "  </clipPath>\n",
       "</defs>\n",
       "<path clip-path=\"url(#clip320)\" d=\"M219.033 1423.18 L2352.76 1423.18 L2352.76 47.2441 L219.033 47.2441  Z\" fill=\"#ffffff\" fill-rule=\"evenodd\" fill-opacity=\"1\"/>\n",
       "<defs>\n",
       "  <clipPath id=\"clip322\">\n",
       "    <rect x=\"219\" y=\"47\" width=\"2135\" height=\"1377\"/>\n",
       "  </clipPath>\n",
       "</defs>\n",
       "<polyline clip-path=\"url(#clip322)\" style=\"stroke:#000000; stroke-linecap:round; stroke-linejoin:round; stroke-width:2; stroke-opacity:0.1; fill:none\" points=\"270.593,1423.18 270.593,47.2441 \"/>\n",
       "<polyline clip-path=\"url(#clip322)\" style=\"stroke:#000000; stroke-linecap:round; stroke-linejoin:round; stroke-width:2; stroke-opacity:0.1; fill:none\" points=\"712.028,1423.18 712.028,47.2441 \"/>\n",
       "<polyline clip-path=\"url(#clip322)\" style=\"stroke:#000000; stroke-linecap:round; stroke-linejoin:round; stroke-width:2; stroke-opacity:0.1; fill:none\" points=\"1153.46,1423.18 1153.46,47.2441 \"/>\n",
       "<polyline clip-path=\"url(#clip322)\" style=\"stroke:#000000; stroke-linecap:round; stroke-linejoin:round; stroke-width:2; stroke-opacity:0.1; fill:none\" points=\"1594.9,1423.18 1594.9,47.2441 \"/>\n",
       "<polyline clip-path=\"url(#clip322)\" style=\"stroke:#000000; stroke-linecap:round; stroke-linejoin:round; stroke-width:2; stroke-opacity:0.1; fill:none\" points=\"2036.33,1423.18 2036.33,47.2441 \"/>\n",
       "<polyline clip-path=\"url(#clip320)\" style=\"stroke:#000000; stroke-linecap:round; stroke-linejoin:round; stroke-width:4; stroke-opacity:1; fill:none\" points=\"219.033,1423.18 2352.76,1423.18 \"/>\n",
       "<polyline clip-path=\"url(#clip320)\" style=\"stroke:#000000; stroke-linecap:round; stroke-linejoin:round; stroke-width:4; stroke-opacity:1; fill:none\" points=\"270.593,1423.18 270.593,1404.28 \"/>\n",
       "<polyline clip-path=\"url(#clip320)\" style=\"stroke:#000000; stroke-linecap:round; stroke-linejoin:round; stroke-width:4; stroke-opacity:1; fill:none\" points=\"712.028,1423.18 712.028,1404.28 \"/>\n",
       "<polyline clip-path=\"url(#clip320)\" style=\"stroke:#000000; stroke-linecap:round; stroke-linejoin:round; stroke-width:4; stroke-opacity:1; fill:none\" points=\"1153.46,1423.18 1153.46,1404.28 \"/>\n",
       "<polyline clip-path=\"url(#clip320)\" style=\"stroke:#000000; stroke-linecap:round; stroke-linejoin:round; stroke-width:4; stroke-opacity:1; fill:none\" points=\"1594.9,1423.18 1594.9,1404.28 \"/>\n",
       "<polyline clip-path=\"url(#clip320)\" style=\"stroke:#000000; stroke-linecap:round; stroke-linejoin:round; stroke-width:4; stroke-opacity:1; fill:none\" points=\"2036.33,1423.18 2036.33,1404.28 \"/>\n",
       "<path clip-path=\"url(#clip320)\" d=\"M270.593 1454.1 Q266.982 1454.1 265.153 1457.66 Q263.347 1461.2 263.347 1468.33 Q263.347 1475.44 265.153 1479.01 Q266.982 1482.55 270.593 1482.55 Q274.227 1482.55 276.032 1479.01 Q277.861 1475.44 277.861 1468.33 Q277.861 1461.2 276.032 1457.66 Q274.227 1454.1 270.593 1454.1 M270.593 1450.39 Q276.403 1450.39 279.458 1455 Q282.537 1459.58 282.537 1468.33 Q282.537 1477.06 279.458 1481.67 Q276.403 1486.25 270.593 1486.25 Q264.782 1486.25 261.704 1481.67 Q258.648 1477.06 258.648 1468.33 Q258.648 1459.58 261.704 1455 Q264.782 1450.39 270.593 1450.39 Z\" fill=\"#000000\" fill-rule=\"nonzero\" fill-opacity=\"1\" /><path clip-path=\"url(#clip320)\" d=\"M686.727 1451.02 L705.084 1451.02 L705.084 1454.96 L691.01 1454.96 L691.01 1463.43 Q692.028 1463.08 693.047 1462.92 Q694.065 1462.73 695.084 1462.73 Q700.871 1462.73 704.25 1465.9 Q707.63 1469.08 707.63 1474.49 Q707.63 1480.07 704.158 1483.17 Q700.686 1486.25 694.366 1486.25 Q692.19 1486.25 689.922 1485.88 Q687.676 1485.51 685.269 1484.77 L685.269 1480.07 Q687.352 1481.2 689.575 1481.76 Q691.797 1482.32 694.274 1482.32 Q698.278 1482.32 700.616 1480.21 Q702.954 1478.1 702.954 1474.49 Q702.954 1470.88 700.616 1468.77 Q698.278 1466.67 694.274 1466.67 Q692.399 1466.67 690.524 1467.08 Q688.672 1467.5 686.727 1468.38 L686.727 1451.02 Z\" fill=\"#000000\" fill-rule=\"nonzero\" fill-opacity=\"1\" /><path clip-path=\"url(#clip320)\" d=\"M726.843 1454.1 Q723.232 1454.1 721.403 1457.66 Q719.598 1461.2 719.598 1468.33 Q719.598 1475.44 721.403 1479.01 Q723.232 1482.55 726.843 1482.55 Q730.477 1482.55 732.283 1479.01 Q734.111 1475.44 734.111 1468.33 Q734.111 1461.2 732.283 1457.66 Q730.477 1454.1 726.843 1454.1 M726.843 1450.39 Q732.653 1450.39 735.709 1455 Q738.787 1459.58 738.787 1468.33 Q738.787 1477.06 735.709 1481.67 Q732.653 1486.25 726.843 1486.25 Q721.033 1486.25 717.954 1481.67 Q714.899 1477.06 714.899 1468.33 Q714.899 1459.58 717.954 1455 Q721.033 1450.39 726.843 1450.39 Z\" fill=\"#000000\" fill-rule=\"nonzero\" fill-opacity=\"1\" /><path clip-path=\"url(#clip320)\" d=\"M1113.07 1481.64 L1120.71 1481.64 L1120.71 1455.28 L1112.4 1456.95 L1112.4 1452.69 L1120.66 1451.02 L1125.34 1451.02 L1125.34 1481.64 L1132.98 1481.64 L1132.98 1485.58 L1113.07 1485.58 L1113.07 1481.64 Z\" fill=\"#000000\" fill-rule=\"nonzero\" fill-opacity=\"1\" /><path clip-path=\"url(#clip320)\" d=\"M1152.42 1454.1 Q1148.81 1454.1 1146.98 1457.66 Q1145.18 1461.2 1145.18 1468.33 Q1145.18 1475.44 1146.98 1479.01 Q1148.81 1482.55 1152.42 1482.55 Q1156.06 1482.55 1157.86 1479.01 Q1159.69 1475.44 1159.69 1468.33 Q1159.69 1461.2 1157.86 1457.66 Q1156.06 1454.1 1152.42 1454.1 M1152.42 1450.39 Q1158.23 1450.39 1161.29 1455 Q1164.37 1459.58 1164.37 1468.33 Q1164.37 1477.06 1161.29 1481.67 Q1158.23 1486.25 1152.42 1486.25 Q1146.61 1486.25 1143.53 1481.67 Q1140.48 1477.06 1140.48 1468.33 Q1140.48 1459.58 1143.53 1455 Q1146.61 1450.39 1152.42 1450.39 Z\" fill=\"#000000\" fill-rule=\"nonzero\" fill-opacity=\"1\" /><path clip-path=\"url(#clip320)\" d=\"M1182.58 1454.1 Q1178.97 1454.1 1177.14 1457.66 Q1175.34 1461.2 1175.34 1468.33 Q1175.34 1475.44 1177.14 1479.01 Q1178.97 1482.55 1182.58 1482.55 Q1186.22 1482.55 1188.02 1479.01 Q1189.85 1475.44 1189.85 1468.33 Q1189.85 1461.2 1188.02 1457.66 Q1186.22 1454.1 1182.58 1454.1 M1182.58 1450.39 Q1188.39 1450.39 1191.45 1455 Q1194.53 1459.58 1194.53 1468.33 Q1194.53 1477.06 1191.45 1481.67 Q1188.39 1486.25 1182.58 1486.25 Q1176.77 1486.25 1173.7 1481.67 Q1170.64 1477.06 1170.64 1468.33 Q1170.64 1459.58 1173.7 1455 Q1176.77 1450.39 1182.58 1450.39 Z\" fill=\"#000000\" fill-rule=\"nonzero\" fill-opacity=\"1\" /><path clip-path=\"url(#clip320)\" d=\"M1554.51 1481.64 L1562.14 1481.64 L1562.14 1455.28 L1553.83 1456.95 L1553.83 1452.69 L1562.1 1451.02 L1566.77 1451.02 L1566.77 1481.64 L1574.41 1481.64 L1574.41 1485.58 L1554.51 1485.58 L1554.51 1481.64 Z\" fill=\"#000000\" fill-rule=\"nonzero\" fill-opacity=\"1\" /><path clip-path=\"url(#clip320)\" d=\"M1583.9 1451.02 L1602.26 1451.02 L1602.26 1454.96 L1588.19 1454.96 L1588.19 1463.43 Q1589.2 1463.08 1590.22 1462.92 Q1591.24 1462.73 1592.26 1462.73 Q1598.05 1462.73 1601.43 1465.9 Q1604.81 1469.08 1604.81 1474.49 Q1604.81 1480.07 1601.33 1483.17 Q1597.86 1486.25 1591.54 1486.25 Q1589.37 1486.25 1587.1 1485.88 Q1584.85 1485.51 1582.45 1484.77 L1582.45 1480.07 Q1584.53 1481.2 1586.75 1481.76 Q1588.97 1482.32 1591.45 1482.32 Q1595.45 1482.32 1597.79 1480.21 Q1600.13 1478.1 1600.13 1474.49 Q1600.13 1470.88 1597.79 1468.77 Q1595.45 1466.67 1591.45 1466.67 Q1589.58 1466.67 1587.7 1467.08 Q1585.85 1467.5 1583.9 1468.38 L1583.9 1451.02 Z\" fill=\"#000000\" fill-rule=\"nonzero\" fill-opacity=\"1\" /><path clip-path=\"url(#clip320)\" d=\"M1624.02 1454.1 Q1620.41 1454.1 1618.58 1457.66 Q1616.77 1461.2 1616.77 1468.33 Q1616.77 1475.44 1618.58 1479.01 Q1620.41 1482.55 1624.02 1482.55 Q1627.65 1482.55 1629.46 1479.01 Q1631.29 1475.44 1631.29 1468.33 Q1631.29 1461.2 1629.46 1457.66 Q1627.65 1454.1 1624.02 1454.1 M1624.02 1450.39 Q1629.83 1450.39 1632.89 1455 Q1635.96 1459.58 1635.96 1468.33 Q1635.96 1477.06 1632.89 1481.67 Q1629.83 1486.25 1624.02 1486.25 Q1618.21 1486.25 1615.13 1481.67 Q1612.08 1477.06 1612.08 1468.33 Q1612.08 1459.58 1615.13 1455 Q1618.21 1450.39 1624.02 1450.39 Z\" fill=\"#000000\" fill-rule=\"nonzero\" fill-opacity=\"1\" /><path clip-path=\"url(#clip320)\" d=\"M2000.03 1481.64 L2016.35 1481.64 L2016.35 1485.58 L1994.4 1485.58 L1994.4 1481.64 Q1997.06 1478.89 2001.65 1474.26 Q2006.25 1469.61 2007.43 1468.27 Q2009.68 1465.74 2010.56 1464.01 Q2011.46 1462.25 2011.46 1460.56 Q2011.46 1457.8 2009.52 1456.07 Q2007.6 1454.33 2004.49 1454.33 Q2002.3 1454.33 1999.84 1455.09 Q1997.41 1455.86 1994.63 1457.41 L1994.63 1452.69 Q1997.46 1451.55 1999.91 1450.97 Q2002.37 1450.39 2004.4 1450.39 Q2009.77 1450.39 2012.97 1453.08 Q2016.16 1455.77 2016.16 1460.26 Q2016.16 1462.39 2015.35 1464.31 Q2014.56 1466.2 2012.46 1468.8 Q2011.88 1469.47 2008.78 1472.69 Q2005.68 1475.88 2000.03 1481.64 Z\" fill=\"#000000\" fill-rule=\"nonzero\" fill-opacity=\"1\" /><path clip-path=\"url(#clip320)\" d=\"M2036.16 1454.1 Q2032.55 1454.1 2030.72 1457.66 Q2028.92 1461.2 2028.92 1468.33 Q2028.92 1475.44 2030.72 1479.01 Q2032.55 1482.55 2036.16 1482.55 Q2039.8 1482.55 2041.6 1479.01 Q2043.43 1475.44 2043.43 1468.33 Q2043.43 1461.2 2041.6 1457.66 Q2039.8 1454.1 2036.16 1454.1 M2036.16 1450.39 Q2041.97 1450.39 2045.03 1455 Q2048.11 1459.58 2048.11 1468.33 Q2048.11 1477.06 2045.03 1481.67 Q2041.97 1486.25 2036.16 1486.25 Q2030.35 1486.25 2027.27 1481.67 Q2024.22 1477.06 2024.22 1468.33 Q2024.22 1459.58 2027.27 1455 Q2030.35 1450.39 2036.16 1450.39 Z\" fill=\"#000000\" fill-rule=\"nonzero\" fill-opacity=\"1\" /><path clip-path=\"url(#clip320)\" d=\"M2066.32 1454.1 Q2062.71 1454.1 2060.88 1457.66 Q2059.08 1461.2 2059.08 1468.33 Q2059.08 1475.44 2060.88 1479.01 Q2062.71 1482.55 2066.32 1482.55 Q2069.96 1482.55 2071.76 1479.01 Q2073.59 1475.44 2073.59 1468.33 Q2073.59 1461.2 2071.76 1457.66 Q2069.96 1454.1 2066.32 1454.1 M2066.32 1450.39 Q2072.13 1450.39 2075.19 1455 Q2078.27 1459.58 2078.27 1468.33 Q2078.27 1477.06 2075.19 1481.67 Q2072.13 1486.25 2066.32 1486.25 Q2060.51 1486.25 2057.43 1481.67 Q2054.38 1477.06 2054.38 1468.33 Q2054.38 1459.58 2057.43 1455 Q2060.51 1450.39 2066.32 1450.39 Z\" fill=\"#000000\" fill-rule=\"nonzero\" fill-opacity=\"1\" /><path clip-path=\"url(#clip320)\" d=\"M975.566 1520.52 L1015.77 1520.52 L1015.77 1525.93 L998.897 1525.93 L998.897 1568.04 L992.435 1568.04 L992.435 1525.93 L975.566 1525.93 L975.566 1520.52 Z\" fill=\"#000000\" fill-rule=\"nonzero\" fill-opacity=\"1\" /><path clip-path=\"url(#clip320)\" d=\"M1032.79 1537.87 Q1031.81 1537.3 1030.63 1537.04 Q1029.48 1536.76 1028.08 1536.76 Q1023.12 1536.76 1020.44 1540 Q1017.8 1543.22 1017.8 1549.27 L1017.8 1568.04 L1011.91 1568.04 L1011.91 1532.4 L1017.8 1532.4 L1017.8 1537.93 Q1019.65 1534.69 1022.61 1533.13 Q1025.57 1531.54 1029.8 1531.54 Q1030.41 1531.54 1031.14 1531.63 Q1031.87 1531.7 1032.76 1531.85 L1032.79 1537.87 Z\" fill=\"#000000\" fill-rule=\"nonzero\" fill-opacity=\"1\" /><path clip-path=\"url(#clip320)\" d=\"M1055.14 1550.12 Q1048.04 1550.12 1045.3 1551.75 Q1042.57 1553.37 1042.57 1557.29 Q1042.57 1560.4 1044.6 1562.25 Q1046.67 1564.07 1050.2 1564.07 Q1055.07 1564.07 1058 1560.63 Q1060.96 1557.16 1060.96 1551.43 L1060.96 1550.12 L1055.14 1550.12 M1066.82 1547.71 L1066.82 1568.04 L1060.96 1568.04 L1060.96 1562.63 Q1058.96 1565.88 1055.97 1567.44 Q1052.97 1568.97 1048.64 1568.97 Q1043.17 1568.97 1039.92 1565.91 Q1036.71 1562.82 1036.71 1557.67 Q1036.71 1551.65 1040.72 1548.6 Q1044.76 1545.54 1052.75 1545.54 L1060.96 1545.54 L1060.96 1544.97 Q1060.96 1540.93 1058.29 1538.73 Q1055.65 1536.5 1050.84 1536.5 Q1047.79 1536.5 1044.89 1537.23 Q1041.99 1537.97 1039.32 1539.43 L1039.32 1534.02 Q1042.53 1532.78 1045.56 1532.17 Q1048.58 1531.54 1051.45 1531.54 Q1059.18 1531.54 1063 1535.55 Q1066.82 1539.56 1066.82 1547.71 Z\" fill=\"#000000\" fill-rule=\"nonzero\" fill-opacity=\"1\" /><path clip-path=\"url(#clip320)\" d=\"M1102.34 1537.81 L1102.34 1518.52 L1108.2 1518.52 L1108.2 1568.04 L1102.34 1568.04 L1102.34 1562.7 Q1100.49 1565.88 1097.66 1567.44 Q1094.86 1568.97 1090.91 1568.97 Q1084.45 1568.97 1080.38 1563.81 Q1076.34 1558.65 1076.34 1550.25 Q1076.34 1541.85 1080.38 1536.69 Q1084.45 1531.54 1090.91 1531.54 Q1094.86 1531.54 1097.66 1533.1 Q1100.49 1534.62 1102.34 1537.81 M1082.38 1550.25 Q1082.38 1556.71 1085.02 1560.4 Q1087.7 1564.07 1092.35 1564.07 Q1096.99 1564.07 1099.67 1560.4 Q1102.34 1556.71 1102.34 1550.25 Q1102.34 1543.79 1099.67 1540.13 Q1096.99 1536.44 1092.35 1536.44 Q1087.7 1536.44 1085.02 1540.13 Q1082.38 1543.79 1082.38 1550.25 Z\" fill=\"#000000\" fill-rule=\"nonzero\" fill-opacity=\"1\" /><path clip-path=\"url(#clip320)\" d=\"M1120.26 1532.4 L1126.12 1532.4 L1126.12 1568.04 L1120.26 1568.04 L1120.26 1532.4 M1120.26 1518.52 L1126.12 1518.52 L1126.12 1525.93 L1120.26 1525.93 L1120.26 1518.52 Z\" fill=\"#000000\" fill-rule=\"nonzero\" fill-opacity=\"1\" /><path clip-path=\"url(#clip320)\" d=\"M1168 1546.53 L1168 1568.04 L1162.15 1568.04 L1162.15 1546.72 Q1162.15 1541.66 1160.17 1539.14 Q1158.2 1536.63 1154.25 1536.63 Q1149.51 1536.63 1146.77 1539.65 Q1144.03 1542.68 1144.03 1547.9 L1144.03 1568.04 L1138.15 1568.04 L1138.15 1532.4 L1144.03 1532.4 L1144.03 1537.93 Q1146.14 1534.72 1148.97 1533.13 Q1151.83 1531.54 1155.56 1531.54 Q1161.7 1531.54 1164.85 1535.36 Q1168 1539.14 1168 1546.53 Z\" fill=\"#000000\" fill-rule=\"nonzero\" fill-opacity=\"1\" /><path clip-path=\"url(#clip320)\" d=\"M1203.14 1549.81 Q1203.14 1543.44 1200.5 1539.94 Q1197.89 1536.44 1193.15 1536.44 Q1188.44 1536.44 1185.79 1539.94 Q1183.18 1543.44 1183.18 1549.81 Q1183.18 1556.14 1185.79 1559.64 Q1188.44 1563.14 1193.15 1563.14 Q1197.89 1563.14 1200.5 1559.64 Q1203.14 1556.14 1203.14 1549.81 M1209 1563.62 Q1209 1572.72 1204.95 1577.15 Q1200.91 1581.6 1192.57 1581.6 Q1189.49 1581.6 1186.75 1581.13 Q1184.01 1580.68 1181.43 1579.72 L1181.43 1574.03 Q1184.01 1575.43 1186.53 1576.1 Q1189.04 1576.76 1191.65 1576.76 Q1197.41 1576.76 1200.28 1573.74 Q1203.14 1570.75 1203.14 1564.67 L1203.14 1561.77 Q1201.33 1564.92 1198.49 1566.48 Q1195.66 1568.04 1191.71 1568.04 Q1185.16 1568.04 1181.15 1563.05 Q1177.14 1558.05 1177.14 1549.81 Q1177.14 1541.53 1181.15 1536.53 Q1185.16 1531.54 1191.71 1531.54 Q1195.66 1531.54 1198.49 1533.1 Q1201.33 1534.66 1203.14 1537.81 L1203.14 1532.4 L1209 1532.4 L1209 1563.62 Z\" fill=\"#000000\" fill-rule=\"nonzero\" fill-opacity=\"1\" /><path clip-path=\"url(#clip320)\" d=\"M1248.46 1525.81 L1248.46 1562.76 L1256.23 1562.76 Q1266.07 1562.76 1270.62 1558.3 Q1275.2 1553.85 1275.2 1544.24 Q1275.2 1534.69 1270.62 1530.26 Q1266.07 1525.81 1256.23 1525.81 L1248.46 1525.81 M1242.03 1520.52 L1255.24 1520.52 Q1269.06 1520.52 1275.52 1526.28 Q1281.98 1532.01 1281.98 1544.24 Q1281.98 1556.52 1275.49 1562.28 Q1268.99 1568.04 1255.24 1568.04 L1242.03 1568.04 L1242.03 1520.52 Z\" fill=\"#000000\" fill-rule=\"nonzero\" fill-opacity=\"1\" /><path clip-path=\"url(#clip320)\" d=\"M1308.17 1550.12 Q1301.08 1550.12 1298.34 1551.75 Q1295.6 1553.37 1295.6 1557.29 Q1295.6 1560.4 1297.64 1562.25 Q1299.71 1564.07 1303.24 1564.07 Q1308.11 1564.07 1311.04 1560.63 Q1314 1557.16 1314 1551.43 L1314 1550.12 L1308.17 1550.12 M1319.86 1547.71 L1319.86 1568.04 L1314 1568.04 L1314 1562.63 Q1311.99 1565.88 1309 1567.44 Q1306.01 1568.97 1301.68 1568.97 Q1296.21 1568.97 1292.96 1565.91 Q1289.75 1562.82 1289.75 1557.67 Q1289.75 1551.65 1293.76 1548.6 Q1297.8 1545.54 1305.79 1545.54 L1314 1545.54 L1314 1544.97 Q1314 1540.93 1311.33 1538.73 Q1308.68 1536.5 1303.88 1536.5 Q1300.82 1536.5 1297.93 1537.23 Q1295.03 1537.97 1292.36 1539.43 L1292.36 1534.02 Q1295.57 1532.78 1298.59 1532.17 Q1301.62 1531.54 1304.48 1531.54 Q1312.22 1531.54 1316.04 1535.55 Q1319.86 1539.56 1319.86 1547.71 Z\" fill=\"#000000\" fill-rule=\"nonzero\" fill-opacity=\"1\" /><path clip-path=\"url(#clip320)\" d=\"M1346.75 1571.35 Q1344.27 1577.72 1341.91 1579.66 Q1339.56 1581.6 1335.61 1581.6 L1330.93 1581.6 L1330.93 1576.7 L1334.37 1576.7 Q1336.79 1576.7 1338.13 1575.56 Q1339.46 1574.41 1341.09 1570.14 L1342.14 1567.47 L1327.72 1532.4 L1333.92 1532.4 L1345.06 1560.28 L1356.2 1532.4 L1362.41 1532.4 L1346.75 1571.35 Z\" fill=\"#000000\" fill-rule=\"nonzero\" fill-opacity=\"1\" /><path clip-path=\"url(#clip320)\" d=\"M1405.28 1518.58 Q1401.02 1525.9 1398.95 1533.06 Q1396.88 1540.23 1396.88 1547.58 Q1396.88 1554.93 1398.95 1562.16 Q1401.05 1569.35 1405.28 1576.64 L1400.19 1576.64 Q1395.42 1569.16 1393.03 1561.93 Q1390.67 1554.71 1390.67 1547.58 Q1390.67 1540.48 1393.03 1533.29 Q1395.38 1526.09 1400.19 1518.58 L1405.28 1518.58 Z\" fill=\"#000000\" fill-rule=\"nonzero\" fill-opacity=\"1\" /><path clip-path=\"url(#clip320)\" d=\"M1423.01 1562.63 L1445.45 1562.63 L1445.45 1568.04 L1415.28 1568.04 L1415.28 1562.63 Q1418.94 1558.85 1425.24 1552.48 Q1431.57 1546.08 1433.2 1544.24 Q1436.28 1540.77 1437.49 1538.38 Q1438.74 1535.96 1438.74 1533.64 Q1438.74 1529.85 1436.06 1527.46 Q1433.42 1525.08 1429.15 1525.08 Q1426.13 1525.08 1422.76 1526.13 Q1419.42 1527.18 1415.6 1529.31 L1415.6 1522.82 Q1419.48 1521.26 1422.85 1520.46 Q1426.23 1519.66 1429.03 1519.66 Q1436.41 1519.66 1440.8 1523.36 Q1445.2 1527.05 1445.2 1533.22 Q1445.2 1536.15 1444.08 1538.79 Q1443 1541.4 1440.1 1544.97 Q1439.31 1545.89 1435.04 1550.32 Q1430.78 1554.71 1423.01 1562.63 Z\" fill=\"#000000\" fill-rule=\"nonzero\" fill-opacity=\"1\" /><path clip-path=\"url(#clip320)\" d=\"M1472.7 1524.76 Q1467.73 1524.76 1465.22 1529.66 Q1462.73 1534.53 1462.73 1544.33 Q1462.73 1554.1 1465.22 1559 Q1467.73 1563.87 1472.7 1563.87 Q1477.69 1563.87 1480.18 1559 Q1482.69 1554.1 1482.69 1544.33 Q1482.69 1534.53 1480.18 1529.66 Q1477.69 1524.76 1472.7 1524.76 M1472.7 1519.66 Q1480.69 1519.66 1484.89 1526 Q1489.12 1532.3 1489.12 1544.33 Q1489.12 1556.33 1484.89 1562.66 Q1480.69 1568.97 1472.7 1568.97 Q1464.71 1568.97 1460.47 1562.66 Q1456.27 1556.33 1456.27 1544.33 Q1456.27 1532.3 1460.47 1526 Q1464.71 1519.66 1472.7 1519.66 Z\" fill=\"#000000\" fill-rule=\"nonzero\" fill-opacity=\"1\" /><path clip-path=\"url(#clip320)\" d=\"M1505.96 1562.63 L1528.4 1562.63 L1528.4 1568.04 L1498.22 1568.04 L1498.22 1562.63 Q1501.88 1558.85 1508.18 1552.48 Q1514.52 1546.08 1516.14 1544.24 Q1519.23 1540.77 1520.44 1538.38 Q1521.68 1535.96 1521.68 1533.64 Q1521.68 1529.85 1519.01 1527.46 Q1516.36 1525.08 1512.1 1525.08 Q1509.08 1525.08 1505.7 1526.13 Q1502.36 1527.18 1498.54 1529.31 L1498.54 1522.82 Q1502.42 1521.26 1505.8 1520.46 Q1509.17 1519.66 1511.97 1519.66 Q1519.36 1519.66 1523.75 1523.36 Q1528.14 1527.05 1528.14 1533.22 Q1528.14 1536.15 1527.03 1538.79 Q1525.95 1541.4 1523.05 1544.97 Q1522.25 1545.89 1517.99 1550.32 Q1513.72 1554.71 1505.96 1562.63 Z\" fill=\"#000000\" fill-rule=\"nonzero\" fill-opacity=\"1\" /><path clip-path=\"url(#clip320)\" d=\"M1561.37 1542.42 Q1565.99 1543.41 1568.56 1546.53 Q1571.17 1549.65 1571.17 1554.23 Q1571.17 1561.26 1566.34 1565.12 Q1561.5 1568.97 1552.59 1568.97 Q1549.59 1568.97 1546.41 1568.36 Q1543.26 1567.79 1539.89 1566.61 L1539.89 1560.4 Q1542.56 1561.96 1545.74 1562.76 Q1548.93 1563.56 1552.39 1563.56 Q1558.44 1563.56 1561.59 1561.17 Q1564.78 1558.78 1564.78 1554.23 Q1564.78 1550.03 1561.82 1547.67 Q1558.89 1545.29 1553.64 1545.29 L1548.1 1545.29 L1548.1 1540 L1553.89 1540 Q1558.63 1540 1561.15 1538.13 Q1563.66 1536.22 1563.66 1532.65 Q1563.66 1528.99 1561.05 1527.05 Q1558.47 1525.08 1553.64 1525.08 Q1550.99 1525.08 1547.97 1525.65 Q1544.95 1526.22 1541.32 1527.43 L1541.32 1521.7 Q1544.98 1520.68 1548.16 1520.17 Q1551.38 1519.66 1554.21 1519.66 Q1561.53 1519.66 1565.79 1523.01 Q1570.06 1526.32 1570.06 1531.98 Q1570.06 1535.93 1567.8 1538.67 Q1565.54 1541.37 1561.37 1542.42 Z\" fill=\"#000000\" fill-rule=\"nonzero\" fill-opacity=\"1\" /><path clip-path=\"url(#clip320)\" d=\"M1581.61 1518.58 L1586.71 1518.58 Q1591.48 1526.09 1593.84 1533.29 Q1596.22 1540.48 1596.22 1547.58 Q1596.22 1554.71 1593.84 1561.93 Q1591.48 1569.16 1586.71 1576.64 L1581.61 1576.64 Q1585.85 1569.35 1587.92 1562.16 Q1590.02 1554.93 1590.02 1547.58 Q1590.02 1540.23 1587.92 1533.06 Q1585.85 1525.9 1581.61 1518.58 Z\" fill=\"#000000\" fill-rule=\"nonzero\" fill-opacity=\"1\" /><polyline clip-path=\"url(#clip322)\" style=\"stroke:#000000; stroke-linecap:round; stroke-linejoin:round; stroke-width:2; stroke-opacity:0.1; fill:none\" points=\"219.033,1340.09 2352.76,1340.09 \"/>\n",
       "<polyline clip-path=\"url(#clip322)\" style=\"stroke:#000000; stroke-linecap:round; stroke-linejoin:round; stroke-width:2; stroke-opacity:0.1; fill:none\" points=\"219.033,1094.33 2352.76,1094.33 \"/>\n",
       "<polyline clip-path=\"url(#clip322)\" style=\"stroke:#000000; stroke-linecap:round; stroke-linejoin:round; stroke-width:2; stroke-opacity:0.1; fill:none\" points=\"219.033,848.57 2352.76,848.57 \"/>\n",
       "<polyline clip-path=\"url(#clip322)\" style=\"stroke:#000000; stroke-linecap:round; stroke-linejoin:round; stroke-width:2; stroke-opacity:0.1; fill:none\" points=\"219.033,602.81 2352.76,602.81 \"/>\n",
       "<polyline clip-path=\"url(#clip322)\" style=\"stroke:#000000; stroke-linecap:round; stroke-linejoin:round; stroke-width:2; stroke-opacity:0.1; fill:none\" points=\"219.033,357.05 2352.76,357.05 \"/>\n",
       "<polyline clip-path=\"url(#clip322)\" style=\"stroke:#000000; stroke-linecap:round; stroke-linejoin:round; stroke-width:2; stroke-opacity:0.1; fill:none\" points=\"219.033,111.29 2352.76,111.29 \"/>\n",
       "<polyline clip-path=\"url(#clip320)\" style=\"stroke:#000000; stroke-linecap:round; stroke-linejoin:round; stroke-width:4; stroke-opacity:1; fill:none\" points=\"219.033,1423.18 219.033,47.2441 \"/>\n",
       "<polyline clip-path=\"url(#clip320)\" style=\"stroke:#000000; stroke-linecap:round; stroke-linejoin:round; stroke-width:4; stroke-opacity:1; fill:none\" points=\"219.033,1340.09 237.931,1340.09 \"/>\n",
       "<polyline clip-path=\"url(#clip320)\" style=\"stroke:#000000; stroke-linecap:round; stroke-linejoin:round; stroke-width:4; stroke-opacity:1; fill:none\" points=\"219.033,1094.33 237.931,1094.33 \"/>\n",
       "<polyline clip-path=\"url(#clip320)\" style=\"stroke:#000000; stroke-linecap:round; stroke-linejoin:round; stroke-width:4; stroke-opacity:1; fill:none\" points=\"219.033,848.57 237.931,848.57 \"/>\n",
       "<polyline clip-path=\"url(#clip320)\" style=\"stroke:#000000; stroke-linecap:round; stroke-linejoin:round; stroke-width:4; stroke-opacity:1; fill:none\" points=\"219.033,602.81 237.931,602.81 \"/>\n",
       "<polyline clip-path=\"url(#clip320)\" style=\"stroke:#000000; stroke-linecap:round; stroke-linejoin:round; stroke-width:4; stroke-opacity:1; fill:none\" points=\"219.033,357.05 237.931,357.05 \"/>\n",
       "<polyline clip-path=\"url(#clip320)\" style=\"stroke:#000000; stroke-linecap:round; stroke-linejoin:round; stroke-width:4; stroke-opacity:1; fill:none\" points=\"219.033,111.29 237.931,111.29 \"/>\n",
       "<path clip-path=\"url(#clip320)\" d=\"M116.668 1353.43 L124.306 1353.43 L124.306 1327.07 L115.996 1328.74 L115.996 1324.48 L124.26 1322.81 L128.936 1322.81 L128.936 1353.43 L136.575 1353.43 L136.575 1357.37 L116.668 1357.37 L116.668 1353.43 Z\" fill=\"#000000\" fill-rule=\"nonzero\" fill-opacity=\"1\" /><path clip-path=\"url(#clip320)\" d=\"M146.019 1351.49 L150.903 1351.49 L150.903 1357.37 L146.019 1357.37 L146.019 1351.49 Z\" fill=\"#000000\" fill-rule=\"nonzero\" fill-opacity=\"1\" /><path clip-path=\"url(#clip320)\" d=\"M171.089 1325.89 Q167.477 1325.89 165.649 1329.45 Q163.843 1332.99 163.843 1340.12 Q163.843 1347.23 165.649 1350.8 Q167.477 1354.34 171.089 1354.34 Q174.723 1354.34 176.528 1350.8 Q178.357 1347.23 178.357 1340.12 Q178.357 1332.99 176.528 1329.45 Q174.723 1325.89 171.089 1325.89 M171.089 1322.18 Q176.899 1322.18 179.954 1326.79 Q183.033 1331.37 183.033 1340.12 Q183.033 1348.85 179.954 1353.46 Q176.899 1358.04 171.089 1358.04 Q165.278 1358.04 162.2 1353.46 Q159.144 1348.85 159.144 1340.12 Q159.144 1331.37 162.2 1326.79 Q165.278 1322.18 171.089 1322.18 Z\" fill=\"#000000\" fill-rule=\"nonzero\" fill-opacity=\"1\" /><path clip-path=\"url(#clip320)\" d=\"M118.265 1107.67 L125.904 1107.67 L125.904 1081.31 L117.593 1082.98 L117.593 1078.72 L125.857 1077.05 L130.533 1077.05 L130.533 1107.67 L138.172 1107.67 L138.172 1111.61 L118.265 1111.61 L118.265 1107.67 Z\" fill=\"#000000\" fill-rule=\"nonzero\" fill-opacity=\"1\" /><path clip-path=\"url(#clip320)\" d=\"M147.616 1105.73 L152.501 1105.73 L152.501 1111.61 L147.616 1111.61 L147.616 1105.73 Z\" fill=\"#000000\" fill-rule=\"nonzero\" fill-opacity=\"1\" /><path clip-path=\"url(#clip320)\" d=\"M166.714 1107.67 L183.033 1107.67 L183.033 1111.61 L161.089 1111.61 L161.089 1107.67 Q163.751 1104.92 168.334 1100.29 Q172.94 1095.64 174.121 1094.3 Q176.366 1091.77 177.246 1090.04 Q178.149 1088.28 178.149 1086.59 Q178.149 1083.83 176.204 1082.1 Q174.283 1080.36 171.181 1080.36 Q168.982 1080.36 166.528 1081.12 Q164.098 1081.89 161.32 1083.44 L161.32 1078.72 Q164.144 1077.58 166.598 1077 Q169.052 1076.42 171.089 1076.42 Q176.459 1076.42 179.653 1079.11 Q182.848 1081.8 182.848 1086.29 Q182.848 1088.42 182.038 1090.34 Q181.251 1092.23 179.144 1094.83 Q178.565 1095.5 175.464 1098.72 Q172.362 1101.91 166.714 1107.67 Z\" fill=\"#000000\" fill-rule=\"nonzero\" fill-opacity=\"1\" /><path clip-path=\"url(#clip320)\" d=\"M116.181 861.915 L123.82 861.915 L123.82 835.549 L115.51 837.216 L115.51 832.957 L123.774 831.29 L128.45 831.29 L128.45 861.915 L136.089 861.915 L136.089 865.85 L116.181 865.85 L116.181 861.915 Z\" fill=\"#000000\" fill-rule=\"nonzero\" fill-opacity=\"1\" /><path clip-path=\"url(#clip320)\" d=\"M145.533 859.97 L150.417 859.97 L150.417 865.85 L145.533 865.85 L145.533 859.97 Z\" fill=\"#000000\" fill-rule=\"nonzero\" fill-opacity=\"1\" /><path clip-path=\"url(#clip320)\" d=\"M173.45 835.364 L161.644 853.813 L173.45 853.813 L173.45 835.364 M172.223 831.29 L178.102 831.29 L178.102 853.813 L183.033 853.813 L183.033 857.702 L178.102 857.702 L178.102 865.85 L173.45 865.85 L173.45 857.702 L157.848 857.702 L157.848 853.188 L172.223 831.29 Z\" fill=\"#000000\" fill-rule=\"nonzero\" fill-opacity=\"1\" /><path clip-path=\"url(#clip320)\" d=\"M116.506 616.155 L124.144 616.155 L124.144 589.789 L115.834 591.456 L115.834 587.197 L124.098 585.53 L128.774 585.53 L128.774 616.155 L136.413 616.155 L136.413 620.09 L116.506 620.09 L116.506 616.155 Z\" fill=\"#000000\" fill-rule=\"nonzero\" fill-opacity=\"1\" /><path clip-path=\"url(#clip320)\" d=\"M145.857 614.21 L150.741 614.21 L150.741 620.09 L145.857 620.09 L145.857 614.21 Z\" fill=\"#000000\" fill-rule=\"nonzero\" fill-opacity=\"1\" /><path clip-path=\"url(#clip320)\" d=\"M171.505 600.947 Q168.357 600.947 166.505 603.099 Q164.677 605.252 164.677 609.002 Q164.677 612.729 166.505 614.905 Q168.357 617.058 171.505 617.058 Q174.653 617.058 176.482 614.905 Q178.334 612.729 178.334 609.002 Q178.334 605.252 176.482 603.099 Q174.653 600.947 171.505 600.947 M180.788 586.294 L180.788 590.553 Q179.028 589.72 177.223 589.28 Q175.44 588.84 173.681 588.84 Q169.052 588.84 166.598 591.965 Q164.167 595.09 163.82 601.41 Q165.186 599.396 167.246 598.331 Q169.306 597.243 171.783 597.243 Q176.991 597.243 180.001 600.414 Q183.033 603.562 183.033 609.002 Q183.033 614.326 179.885 617.544 Q176.737 620.761 171.505 620.761 Q165.51 620.761 162.339 616.178 Q159.167 611.571 159.167 602.845 Q159.167 594.65 163.056 589.789 Q166.945 584.905 173.496 584.905 Q175.255 584.905 177.038 585.252 Q178.843 585.599 180.788 586.294 Z\" fill=\"#000000\" fill-rule=\"nonzero\" fill-opacity=\"1\" /><path clip-path=\"url(#clip320)\" d=\"M116.76 370.395 L124.399 370.395 L124.399 344.029 L116.089 345.696 L116.089 341.437 L124.353 339.77 L129.029 339.77 L129.029 370.395 L136.667 370.395 L136.667 374.33 L116.76 374.33 L116.76 370.395 Z\" fill=\"#000000\" fill-rule=\"nonzero\" fill-opacity=\"1\" /><path clip-path=\"url(#clip320)\" d=\"M146.112 368.45 L150.996 368.45 L150.996 374.33 L146.112 374.33 L146.112 368.45 Z\" fill=\"#000000\" fill-rule=\"nonzero\" fill-opacity=\"1\" /><path clip-path=\"url(#clip320)\" d=\"M171.181 357.918 Q167.848 357.918 165.927 359.701 Q164.028 361.483 164.028 364.608 Q164.028 367.733 165.927 369.515 Q167.848 371.298 171.181 371.298 Q174.514 371.298 176.436 369.515 Q178.357 367.71 178.357 364.608 Q178.357 361.483 176.436 359.701 Q174.538 357.918 171.181 357.918 M166.505 355.927 Q163.496 355.187 161.806 353.126 Q160.14 351.066 160.14 348.103 Q160.14 343.96 163.079 341.552 Q166.042 339.145 171.181 339.145 Q176.343 339.145 179.283 341.552 Q182.223 343.96 182.223 348.103 Q182.223 351.066 180.533 353.126 Q178.866 355.187 175.88 355.927 Q179.26 356.714 181.135 359.006 Q183.033 361.298 183.033 364.608 Q183.033 369.631 179.954 372.316 Q176.899 375.001 171.181 375.001 Q165.464 375.001 162.385 372.316 Q159.329 369.631 159.329 364.608 Q159.329 361.298 161.227 359.006 Q163.126 356.714 166.505 355.927 M164.792 348.543 Q164.792 351.228 166.459 352.733 Q168.149 354.238 171.181 354.238 Q174.19 354.238 175.88 352.733 Q177.593 351.228 177.593 348.543 Q177.593 345.858 175.88 344.353 Q174.19 342.849 171.181 342.849 Q168.149 342.849 166.459 344.353 Q164.792 345.858 164.792 348.543 Z\" fill=\"#000000\" fill-rule=\"nonzero\" fill-opacity=\"1\" /><path clip-path=\"url(#clip320)\" d=\"M119.885 124.635 L136.204 124.635 L136.204 128.57 L114.26 128.57 L114.26 124.635 Q116.922 121.88 121.505 117.251 Q126.112 112.598 127.292 111.255 Q129.538 108.732 130.417 106.996 Q131.32 105.237 131.32 103.547 Q131.32 100.793 129.376 99.0564 Q127.455 97.3203 124.353 97.3203 Q122.154 97.3203 119.7 98.0842 Q117.269 98.8481 114.492 100.399 L114.492 95.6768 Q117.316 94.5426 119.769 93.9639 Q122.223 93.3852 124.26 93.3852 Q129.63 93.3852 132.825 96.0703 Q136.019 98.7555 136.019 103.246 Q136.019 105.376 135.209 107.297 Q134.422 109.195 132.316 111.788 Q131.737 112.459 128.635 115.677 Q125.533 118.871 119.885 124.635 Z\" fill=\"#000000\" fill-rule=\"nonzero\" fill-opacity=\"1\" /><path clip-path=\"url(#clip320)\" d=\"M146.019 122.691 L150.903 122.691 L150.903 128.57 L146.019 128.57 L146.019 122.691 Z\" fill=\"#000000\" fill-rule=\"nonzero\" fill-opacity=\"1\" /><path clip-path=\"url(#clip320)\" d=\"M171.089 97.0889 Q167.477 97.0889 165.649 100.654 Q163.843 104.195 163.843 111.325 Q163.843 118.431 165.649 121.996 Q167.477 125.538 171.089 125.538 Q174.723 125.538 176.528 121.996 Q178.357 118.431 178.357 111.325 Q178.357 104.195 176.528 100.654 Q174.723 97.0889 171.089 97.0889 M171.089 93.3852 Q176.899 93.3852 179.954 97.9916 Q183.033 102.575 183.033 111.325 Q183.033 120.052 179.954 124.658 Q176.899 129.241 171.089 129.241 Q165.278 129.241 162.2 124.658 Q159.144 120.052 159.144 111.325 Q159.144 102.575 162.2 97.9916 Q165.278 93.3852 171.089 93.3852 Z\" fill=\"#000000\" fill-rule=\"nonzero\" fill-opacity=\"1\" /><path clip-path=\"url(#clip320)\" d=\"M16.4842 949.593 L16.4842 943.1 L56.6518 933.106 L16.4842 923.144 L16.4842 915.918 L56.6518 905.924 L16.4842 895.962 L16.4842 889.437 L64.0042 901.373 L64.0042 909.457 L22.7544 919.483 L64.0042 929.605 L64.0042 937.689 L16.4842 949.593 Z\" fill=\"#000000\" fill-rule=\"nonzero\" fill-opacity=\"1\" /><path clip-path=\"url(#clip320)\" d=\"M44.7161 854.489 L47.5806 854.489 L47.5806 881.416 Q53.6281 881.034 56.8109 877.788 Q59.9619 874.51 59.9619 868.685 Q59.9619 865.311 59.1344 862.16 Q58.3069 858.977 56.6518 855.858 L62.1899 855.858 Q63.5267 859.009 64.227 862.319 Q64.9272 865.629 64.9272 869.035 Q64.9272 877.565 59.9619 882.562 Q54.9967 887.527 46.5303 887.527 Q37.7774 887.527 32.6531 882.817 Q27.4968 878.074 27.4968 870.054 Q27.4968 862.86 32.1438 858.691 Q36.7589 854.489 44.7161 854.489 M42.9973 860.346 Q38.1912 860.41 35.3266 863.051 Q32.4621 865.661 32.4621 869.99 Q32.4621 874.891 35.2312 877.852 Q38.0002 880.78 43.0292 881.225 L42.9973 860.346 Z\" fill=\"#000000\" fill-rule=\"nonzero\" fill-opacity=\"1\" /><path clip-path=\"url(#clip320)\" d=\"M46.0847 828.676 Q46.0847 835.774 47.7079 838.511 Q49.3312 841.249 53.2461 841.249 Q56.3653 841.249 58.2114 839.212 Q60.0256 837.143 60.0256 833.61 Q60.0256 828.74 56.5881 825.812 Q53.1188 822.852 47.3897 822.852 L46.0847 822.852 L46.0847 828.676 M43.6657 816.995 L64.0042 816.995 L64.0042 822.852 L58.5933 822.852 Q61.8398 824.857 63.3994 827.849 Q64.9272 830.841 64.9272 835.169 Q64.9272 840.644 61.8716 843.89 Q58.7843 847.105 53.6281 847.105 Q47.6125 847.105 44.5569 843.095 Q41.5014 839.053 41.5014 831.064 L41.5014 822.852 L40.9285 822.852 Q36.8862 822.852 34.6901 825.525 Q32.4621 828.167 32.4621 832.973 Q32.4621 836.029 33.1941 838.925 Q33.9262 841.822 35.3903 844.495 L29.9795 844.495 Q28.7381 841.281 28.1334 838.257 Q27.4968 835.233 27.4968 832.369 Q27.4968 824.634 31.5072 820.815 Q35.5176 816.995 43.6657 816.995 Z\" fill=\"#000000\" fill-rule=\"nonzero\" fill-opacity=\"1\" /><path clip-path=\"url(#clip320)\" d=\"M14.479 804.932 L14.479 799.076 L64.0042 799.076 L64.0042 804.932 L14.479 804.932 Z\" fill=\"#000000\" fill-rule=\"nonzero\" fill-opacity=\"1\" /><path clip-path=\"url(#clip320)\" d=\"M18.2347 781.029 L28.3562 781.029 L28.3562 768.966 L32.9077 768.966 L32.9077 781.029 L52.2594 781.029 Q56.6199 781.029 57.8613 779.851 Q59.1026 778.642 59.1026 774.982 L59.1026 768.966 L64.0042 768.966 L64.0042 774.982 Q64.0042 781.761 61.4897 784.339 Q58.9434 786.917 52.2594 786.917 L32.9077 786.917 L32.9077 791.214 L28.3562 791.214 L28.3562 786.917 L18.2347 786.917 L18.2347 781.029 Z\" fill=\"#000000\" fill-rule=\"nonzero\" fill-opacity=\"1\" /><path clip-path=\"url(#clip320)\" d=\"M42.4881 731.631 L64.0042 731.631 L64.0042 737.488 L42.679 737.488 Q37.6183 737.488 35.1038 739.461 Q32.5894 741.434 32.5894 745.381 Q32.5894 750.124 35.6131 752.861 Q38.6368 755.598 43.8567 755.598 L64.0042 755.598 L64.0042 761.486 L14.479 761.486 L14.479 755.598 L33.8944 755.598 Q30.6797 753.497 29.0883 750.665 Q27.4968 747.8 27.4968 744.076 Q27.4968 737.933 31.3163 734.782 Q35.1038 731.631 42.4881 731.631 Z\" fill=\"#000000\" fill-rule=\"nonzero\" fill-opacity=\"1\" /><path clip-path=\"url(#clip320)\" d=\"M14.5426 685.162 Q21.8632 689.427 29.0246 691.495 Q36.186 693.564 43.5384 693.564 Q50.8908 693.564 58.1159 691.495 Q65.3091 689.395 72.5979 685.162 L72.5979 690.254 Q65.1182 695.028 57.8931 697.416 Q50.668 699.771 43.5384 699.771 Q36.4406 699.771 29.2474 697.416 Q22.0542 695.06 14.5426 690.254 L14.5426 685.162 Z\" fill=\"#000000\" fill-rule=\"nonzero\" fill-opacity=\"1\" /><path clip-path=\"url(#clip320)\" d=\"M16.4842 674.276 L16.4842 667.815 L45.3526 667.815 Q52.9915 667.815 56.3653 665.046 Q59.7073 662.277 59.7073 656.07 Q59.7073 649.896 56.3653 647.127 Q52.9915 644.357 45.3526 644.357 L16.4842 644.357 L16.4842 637.896 L46.1484 637.896 Q55.4423 637.896 60.1847 642.511 Q64.9272 647.095 64.9272 656.07 Q64.9272 665.078 60.1847 669.693 Q55.4423 674.276 46.1484 674.276 L16.4842 674.276 Z\" fill=\"#000000\" fill-rule=\"nonzero\" fill-opacity=\"1\" /><path clip-path=\"url(#clip320)\" d=\"M18.0438 597.347 L24.314 597.347 Q22.5634 601.007 21.704 604.253 Q20.8447 607.5 20.8447 610.524 Q20.8447 615.775 22.8817 618.64 Q24.9187 621.473 28.6745 621.473 Q31.8255 621.473 33.4488 619.595 Q35.0402 617.685 36.0269 612.402 L36.8226 608.518 Q38.1912 601.325 41.6605 597.92 Q45.098 594.482 50.8908 594.482 Q57.7976 594.482 61.3624 599.129 Q64.9272 603.744 64.9272 612.688 Q64.9272 616.062 64.1633 619.881 Q63.3994 623.669 61.9035 627.743 L55.2831 627.743 Q57.4793 623.828 58.5933 620.072 Q59.7073 616.316 59.7073 612.688 Q59.7073 607.182 57.543 604.19 Q55.3786 601.198 51.3682 601.198 Q47.8671 601.198 45.8937 603.362 Q43.9204 605.495 42.9337 610.396 L42.1698 614.311 Q40.7375 621.505 37.682 624.719 Q34.6264 627.934 29.1837 627.934 Q22.8817 627.934 19.2532 623.51 Q15.6248 619.054 15.6248 611.256 Q15.6248 607.914 16.2295 604.444 Q16.8343 600.975 18.0438 597.347 Z\" fill=\"#000000\" fill-rule=\"nonzero\" fill-opacity=\"1\" /><path clip-path=\"url(#clip320)\" d=\"M21.7677 578.027 L58.7206 578.027 L58.7206 570.261 Q58.7206 560.426 54.2646 555.874 Q49.8086 551.291 40.1964 551.291 Q30.6479 551.291 26.2237 555.874 Q21.7677 560.426 21.7677 570.261 L21.7677 578.027 M16.4842 584.456 L16.4842 571.247 Q16.4842 557.434 22.2451 550.973 Q27.9743 544.511 40.1964 544.511 Q52.4822 544.511 58.2432 551.004 Q64.0042 557.497 64.0042 571.247 L64.0042 584.456 L16.4842 584.456 Z\" fill=\"#000000\" fill-rule=\"nonzero\" fill-opacity=\"1\" /><path clip-path=\"url(#clip320)\" d=\"M14.5426 535.44 L14.5426 530.348 Q22.0542 525.573 29.2474 523.218 Q36.4406 520.831 43.5384 520.831 Q50.668 520.831 57.8931 523.218 Q65.1182 525.573 72.5979 530.348 L72.5979 535.44 Q65.3091 531.207 58.1159 529.138 Q50.8908 527.037 43.5384 527.037 Q36.186 527.037 29.0246 529.138 Q21.8632 531.207 14.5426 535.44 Z\" fill=\"#000000\" fill-rule=\"nonzero\" fill-opacity=\"1\" /><polyline clip-path=\"url(#clip322)\" style=\"stroke:#800080; stroke-linecap:round; stroke-linejoin:round; stroke-width:16; stroke-opacity:1; fill:none\" points=\"279.421,1340.09 288.25,1384.24 297.079,1352.65 305.907,1290.26 314.736,1274.6 323.565,1255.79 332.394,1222.41 341.222,1217.67 350.051,1204.61 358.88,1224.99 367.708,1278.49 376.537,1232.17 385.366,1109.73 394.195,1143.16 403.023,1139.14 411.852,1133.23 420.681,1127.27 429.509,1184.79 438.338,1134.14 447.167,955.883 455.996,886.334 464.824,928.805 473.653,973.122 482.482,929.158 491.31,951.489 500.139,978.322 508.968,1013.06 517.797,981.304 526.625,926.226 535.454,940.945 544.283,1036.76 553.111,1067.49 561.94,1101.29 570.769,1103.96 579.598,1038.25 588.426,1069.79 597.255,1056.71 606.084,1060.98 614.912,1067.74 623.741,1026.53 632.57,1005.1 641.398,1012.64 650.227,995.916 659.056,933.552 667.885,960.227 676.713,986.515 685.542,998.641 694.371,895.655 703.199,854.222 712.028,723.446 720.857,700.153 729.686,718.598 738.514,733.945 747.343,702.885 756.172,651.279 765,695.229 773.829,720.536 782.658,758.539 791.487,728.844 800.315,694.852 809.144,691.378 817.973,717.506 826.801,731.595 835.63,793.994 844.459,795.218 853.288,738.414 862.116,766.189 870.945,799.284 879.774,803.782 888.602,809.217 897.431,843.092 906.26,842.915 915.089,839.248 923.917,838.401 932.746,869.231 941.575,885.246 950.403,956.729 959.232,915.436 968.061,887.129 976.89,850.223 985.718,841.146 994.547,839.031 1003.38,992.49 1012.2,901.455 1021.03,839.023 1029.86,742.171 1038.69,743.401 1047.52,706.519 1056.35,705.895 1065.18,740.362 1074.01,699.349 1082.83,623.66 1091.66,579.289 1100.49,498.347 1109.32,538.26 1118.15,498.443 1126.98,497.582 1135.81,495.239 1144.64,252.765 1153.46,127.354 1162.29,156.487 1171.12,292.491 1179.95,264.006 1188.78,294.811 1197.61,293.955 1206.44,179.61 1215.26,300.462 1224.09,238.442 1232.92,166.611 1241.75,86.1857 1250.58,167.577 1259.41,110.685 1268.24,168.414 1277.07,244.75 1285.89,262.81 1294.72,390.234 1303.55,416.199 1312.38,431.126 1321.21,481.408 1330.04,425.06 1338.87,431.193 1347.7,412.343 1356.52,359.204 1365.35,323.8 1374.18,358.427 1383.01,367.653 1391.84,372.248 1400.67,365.604 1409.5,406.513 1418.33,342.486 1427.15,312.148 1435.98,313.179 1444.81,266.713 1453.64,271.035 1462.47,299.747 1471.3,417.598 1480.13,408.069 1488.95,413.483 1497.78,366.626 1506.61,420.725 1515.44,400.932 1524.27,364.412 1533.1,338.009 1541.93,279.817 1550.76,437.581 1559.58,367.075 1568.41,317.557 1577.24,297.337 1586.07,365.195 1594.9,421.723 1603.73,426.59 1612.56,479.691 1621.39,390.673 1630.21,401.735 1639.04,479.429 1647.87,530.355 1656.7,511.918 1665.53,450.916 1674.36,501.536 1683.19,428.271 1692.02,568.35 1700.84,563.233 1709.67,554.368 1718.5,488.177 1727.33,474.543 1736.16,490.28 1744.99,424.068 1753.82,399.52 1762.64,431.179 1771.47,482.868 1780.3,493.898 1789.13,509.133 1797.96,510.165 1806.79,464.369 1815.62,483.95 1824.45,583.032 1833.27,566.679 1842.1,581.873 1850.93,608.738 1859.76,689.833 1868.59,686.546 1877.42,663.177 1886.25,690.127 1895.08,649.82 1903.9,561.927 1912.73,559.696 1921.56,547.894 1930.39,609.996 1939.22,535.234 1948.05,554.768 1956.88,472.243 1965.71,478.551 1974.53,439.618 1983.36,449.706 1992.19,440.502 2001.02,512.58 2009.85,485.659 2018.68,515.855 2027.51,575.228 2036.33,571.264 2045.16,584.071 2053.99,612.775 2062.82,580.377 2071.65,688.745 2080.48,736.573 2089.31,685.376 2098.14,688.15 2106.96,646.567 2115.79,467.007 2124.62,467.613 2133.45,382.264 2142.28,389.398 2151.11,357.597 2159.94,353.32 2168.77,354.122 2177.59,256.591 2186.42,288.883 2195.25,229.249 2204.08,265.91 2212.91,230.652 2221.74,216.636 2230.57,196.855 2239.4,241.686 2248.22,183.509 2257.05,189.772 2265.88,182.241 2274.71,195.161 2283.54,160.471 2292.37,213.675 \"/>\n",
       "<polyline clip-path=\"url(#clip322)\" style=\"stroke:#0000ff; stroke-linecap:round; stroke-linejoin:round; stroke-width:12; stroke-opacity:1; fill:none\" points=\"279.421,1340.09 288.25,1333.02 297.079,1342.33 305.907,1326.26 314.736,1309.75 323.565,1313.88 332.394,1300.28 341.222,1290.56 350.051,1288.87 358.88,1284.48 367.708,1296.23 376.537,1313.29 385.366,1302.57 394.195,1279.41 403.023,1278.87 411.852,1285.59 420.681,1270.24 429.509,1259.99 438.338,1271.48 447.167,1265.25 455.996,1253.3 464.824,1228.6 473.653,1234.25 482.482,1246.44 491.31,1239.99 500.139,1240.2 508.968,1247.07 517.797,1256.06 526.625,1241.94 535.454,1239.56 544.283,1239.12 553.111,1245.38 561.94,1258.88 570.769,1274.98 579.598,1282.18 588.426,1279.89 597.255,1292.19 606.084,1283.09 614.912,1286.99 623.741,1294.35 632.57,1293.42 641.398,1272.03 650.227,1261.16 659.056,1277.44 667.885,1284.28 676.713,1293.41 685.542,1316.38 694.371,1323.54 703.199,1310.22 712.028,1320.08 720.857,1301.28 729.686,1306.99 738.514,1303.33 747.343,1288.03 756.172,1286.4 765,1296.17 773.829,1300.89 782.658,1288.55 791.487,1293.96 800.315,1279.07 809.144,1268.26 817.973,1255.24 826.801,1246.28 835.63,1249.01 844.459,1255.03 853.288,1252.53 862.116,1252.6 870.945,1246.35 879.774,1247.36 888.602,1240.87 897.431,1239.12 906.26,1238.06 915.089,1233.27 923.917,1234.6 932.746,1239.91 941.575,1240.73 950.403,1239.7 959.232,1251.93 968.061,1260.61 976.89,1246.08 985.718,1232.22 994.547,1226.39 1003.38,1242.95 1012.2,1244.51 1021.03,1260.96 1029.86,1242.43 1038.69,1238.31 1047.52,1242.04 1056.35,1240.07 1065.18,1241.49 1074.01,1242.68 1082.83,1239.57 1091.66,1241.97 1100.49,1235.35 1109.32,1223.24 1118.15,1217.31 1126.98,1217.26 1135.81,1227.4 1144.64,1242.45 1153.46,1233.8 1162.29,1217.67 1171.12,1212.72 1179.95,1220.56 1188.78,1212.65 1197.61,1192.09 1206.44,1188.38 1215.26,1189.69 1224.09,1190.48 1232.92,1187.4 1241.75,1181.16 1250.58,1175.59 1259.41,1162.54 1268.24,1160.21 1277.07,1147.37 1285.89,1146.5 1294.72,1158.85 1303.55,1163.95 1312.38,1164.32 1321.21,1169.47 1330.04,1173.79 1338.87,1166.69 1347.7,1163.38 1356.52,1158.47 1365.35,1140.79 1374.18,1138.27 1383.01,1138.96 1391.84,1152.41 1400.67,1149.87 1409.5,1153.23 1418.33,1145.69 1427.15,1131.39 1435.98,1121.93 1444.81,1117.97 1453.64,1115.89 1462.47,1107.05 1471.3,1100.13 1480.13,1106.74 1488.95,1107.92 1497.78,1104.74 1506.61,1099.99 1515.44,1101.28 1524.27,1100.21 1533.1,1097.19 1541.93,1094.24 1550.76,1096.49 1559.58,1112.73 1568.41,1119.95 1577.24,1120.36 1586.07,1118.78 1594.9,1125.33 1603.73,1127.17 1612.56,1125.3 1621.39,1132.63 1630.21,1127.95 1639.04,1135.9 1647.87,1144.4 1656.7,1155.01 1665.53,1163.88 1674.36,1156.19 1683.19,1153.36 1692.02,1143.49 1700.84,1149.18 1709.67,1153.59 1718.5,1143.12 1727.33,1126.56 1736.16,1115.4 1744.99,1113.08 1753.82,1113.35 1762.64,1117.24 1771.47,1130.16 1780.3,1134.94 1789.13,1131.29 1797.96,1124.34 1806.79,1127.83 1815.62,1128.57 1824.45,1119.21 1833.27,1133.84 1842.1,1137.87 1850.93,1143.32 1859.76,1145.03 1868.59,1169.94 1877.42,1176.3 1886.25,1178.99 1895.08,1191.09 1903.9,1196.68 1912.73,1188.82 1921.56,1186.71 1930.39,1193.67 1939.22,1206.73 1948.05,1204.08 1956.88,1202.57 1965.71,1191.72 1974.53,1180.87 1983.36,1165.7 1992.19,1165.26 2001.02,1167.44 2009.85,1174.34 2018.68,1163.69 2027.51,1164.53 2036.33,1175.02 2045.16,1185.27 2053.99,1202.92 2062.82,1209.61 2071.65,1204.31 2080.48,1216.97 2089.31,1232.95 2098.14,1241.32 2106.96,1232.43 2115.79,1224.16 2124.62,1211.34 2133.45,1185.74 2142.28,1167.53 2151.11,1165.61 2159.94,1160.84 2168.77,1159.92 2177.59,1163.74 2186.42,1156.13 2195.25,1149.34 2204.08,1124.26 2212.91,1117.33 2221.74,1119.08 2230.57,1115.68 2239.4,1106.76 2248.22,1107.62 2257.05,1101.15 2265.88,1100.95 2274.71,1101.81 2283.54,1102.16 2292.37,1098.62 \"/>\n",
       "<polyline clip-path=\"url(#clip322)\" style=\"stroke:#ff0000; stroke-linecap:round; stroke-linejoin:round; stroke-width:24; stroke-opacity:1; fill:none\" points=\"279.421,1340.09 288.25,1340.09 297.079,1340.09 305.907,1340.09 314.736,1340.09 323.565,1340.09 332.394,1340.09 341.222,1340.09 350.051,1340.09 358.88,1340.09 367.708,1340.09 376.537,1340.09 385.366,1340.09 394.195,1340.09 403.023,1340.09 411.852,1340.09 420.681,1340.09 429.509,1340.09 438.338,1340.09 447.167,1340.09 455.996,1340.09 464.824,1340.09 473.653,1340.09 482.482,1340.09 491.31,1340.09 500.139,1340.09 508.968,1340.09 517.797,1340.09 526.625,1340.09 535.454,1340.09 544.283,1340.09 553.111,1340.09 561.94,1340.09 570.769,1340.09 579.598,1340.09 588.426,1340.09 597.255,1340.09 606.084,1340.09 614.912,1340.09 623.741,1340.09 632.57,1340.09 641.398,1340.09 650.227,1340.09 659.056,1340.09 667.885,1340.09 676.713,1340.09 685.542,1340.09 694.371,1340.09 703.199,1340.09 712.028,1340.09 720.857,1340.09 729.686,1340.09 738.514,1340.09 747.343,1340.09 756.172,1340.09 765,1340.09 773.829,1340.09 782.658,1340.09 791.487,1340.09 800.315,1340.09 809.144,1340.09 817.973,1340.09 826.801,1340.09 835.63,1340.09 844.459,1340.09 853.288,1340.09 862.116,1340.09 870.945,1340.09 879.774,1340.09 888.602,1340.09 897.431,1340.09 906.26,1340.09 915.089,1340.09 923.917,1340.09 932.746,1340.09 941.575,1340.09 950.403,1340.09 959.232,1340.09 968.061,1340.09 976.89,1340.09 985.718,1340.09 994.547,1340.09 1003.38,1340.09 1012.2,1340.09 1021.03,1340.09 1029.86,1340.09 1038.69,1340.09 1047.52,1340.09 1056.35,1340.09 1065.18,1340.09 1074.01,1340.09 1082.83,1340.09 1091.66,1340.09 1100.49,1340.09 1109.32,1340.09 1118.15,1340.09 1126.98,1340.09 1135.81,1340.09 1144.64,1340.09 1153.46,1340.09 1162.29,1340.09 1171.12,1340.09 1179.95,1340.09 1188.78,1340.09 1197.61,1340.09 1206.44,1340.09 1215.26,1340.09 1224.09,1340.09 1232.92,1340.09 1241.75,1340.09 1250.58,1340.09 1259.41,1340.09 1268.24,1340.09 1277.07,1340.09 1285.89,1340.09 1294.72,1340.09 1303.55,1340.09 1312.38,1340.09 1321.21,1340.09 1330.04,1340.09 1338.87,1340.09 1347.7,1340.09 1356.52,1340.09 1365.35,1340.09 1374.18,1340.09 1383.01,1340.09 1391.84,1340.09 1400.67,1340.09 1409.5,1340.09 1418.33,1340.09 1427.15,1340.09 1435.98,1340.09 1444.81,1340.09 1453.64,1340.09 1462.47,1340.09 1471.3,1340.09 1480.13,1340.09 1488.95,1340.09 1497.78,1340.09 1506.61,1340.09 1515.44,1340.09 1524.27,1340.09 1533.1,1340.09 1541.93,1340.09 1550.76,1340.09 1559.58,1340.09 1568.41,1340.09 1577.24,1340.09 1586.07,1340.09 1594.9,1340.09 1603.73,1340.09 1612.56,1340.09 1621.39,1340.09 1630.21,1340.09 1639.04,1340.09 1647.87,1340.09 1656.7,1340.09 1665.53,1340.09 1674.36,1340.09 1683.19,1340.09 1692.02,1340.09 1700.84,1340.09 1709.67,1340.09 1718.5,1340.09 1727.33,1340.09 1736.16,1340.09 1744.99,1340.09 1753.82,1340.09 1762.64,1340.09 1771.47,1340.09 1780.3,1340.09 1789.13,1340.09 1797.96,1340.09 1806.79,1340.09 1815.62,1340.09 1824.45,1340.09 1833.27,1340.09 1842.1,1340.09 1850.93,1340.09 1859.76,1340.09 1868.59,1340.09 1877.42,1340.09 1886.25,1340.09 1895.08,1340.09 1903.9,1340.09 1912.73,1340.09 1921.56,1340.09 1930.39,1340.09 1939.22,1340.09 1948.05,1340.09 1956.88,1340.09 1965.71,1340.09 1974.53,1340.09 1983.36,1340.09 1992.19,1340.09 2001.02,1340.09 2009.85,1340.09 2018.68,1340.09 2027.51,1340.09 2036.33,1340.09 2045.16,1340.09 2053.99,1340.09 2062.82,1340.09 2071.65,1340.09 2080.48,1340.09 2089.31,1340.09 2098.14,1340.09 2106.96,1340.09 2115.79,1340.09 2124.62,1340.09 2133.45,1340.09 2142.28,1340.09 2151.11,1340.09 2159.94,1340.09 2168.77,1340.09 2177.59,1340.09 2186.42,1340.09 2195.25,1340.09 2204.08,1340.09 2212.91,1340.09 2221.74,1340.09 2230.57,1340.09 2239.4,1340.09 2248.22,1340.09 2257.05,1340.09 2265.88,1340.09 2274.71,1340.09 2283.54,1340.09 2292.37,1340.09 \"/>\n",
       "<path clip-path=\"url(#clip320)\" d=\"M290.157 300.469 L1028.83 300.469 L1028.83 93.1086 L290.157 93.1086  Z\" fill=\"#ffffff\" fill-rule=\"evenodd\" fill-opacity=\"1\"/>\n",
       "<polyline clip-path=\"url(#clip320)\" style=\"stroke:#000000; stroke-linecap:round; stroke-linejoin:round; stroke-width:4; stroke-opacity:1; fill:none\" points=\"290.157,300.469 1028.83,300.469 1028.83,93.1086 290.157,93.1086 290.157,300.469 \"/>\n",
       "<polyline clip-path=\"url(#clip320)\" style=\"stroke:#800080; stroke-linecap:round; stroke-linejoin:round; stroke-width:16; stroke-opacity:1; fill:none\" points=\"313.865,144.949 456.113,144.949 \"/>\n",
       "<path clip-path=\"url(#clip320)\" d=\"M507.692 130.331 L507.692 135.261 Q505.33 133.062 502.645 131.974 Q499.983 130.886 496.974 130.886 Q491.048 130.886 487.9 134.52 Q484.752 138.132 484.752 144.983 Q484.752 151.812 487.9 155.446 Q491.048 159.057 496.974 159.057 Q499.983 159.057 502.645 157.969 Q505.33 156.881 507.692 154.682 L507.692 159.567 Q505.238 161.233 502.483 162.067 Q499.752 162.9 496.696 162.9 Q488.849 162.9 484.335 158.108 Q479.821 153.293 479.821 144.983 Q479.821 136.65 484.335 131.858 Q488.849 127.044 496.696 127.044 Q499.798 127.044 502.53 127.877 Q505.284 128.687 507.692 130.331 Z\" fill=\"#000000\" fill-rule=\"nonzero\" fill-opacity=\"1\" /><path clip-path=\"url(#clip320)\" d=\"M536.279 146.581 L536.279 162.229 L532.02 162.229 L532.02 146.719 Q532.02 143.039 530.585 141.21 Q529.15 139.382 526.279 139.382 Q522.83 139.382 520.84 141.581 Q518.849 143.78 518.849 147.576 L518.849 162.229 L514.566 162.229 L514.566 126.21 L518.849 126.21 L518.849 140.331 Q520.377 137.993 522.437 136.835 Q524.52 135.678 527.228 135.678 Q531.696 135.678 533.988 138.456 Q536.279 141.21 536.279 146.581 Z\" fill=\"#000000\" fill-rule=\"nonzero\" fill-opacity=\"1\" /><path clip-path=\"url(#clip320)\" d=\"M554.821 139.289 Q551.395 139.289 549.404 141.974 Q547.414 144.636 547.414 149.289 Q547.414 153.942 549.381 156.627 Q551.372 159.289 554.821 159.289 Q558.224 159.289 560.214 156.604 Q562.205 153.918 562.205 149.289 Q562.205 144.682 560.214 141.997 Q558.224 139.289 554.821 139.289 M554.821 135.678 Q560.376 135.678 563.548 139.289 Q566.719 142.9 566.719 149.289 Q566.719 155.655 563.548 159.289 Q560.376 162.9 554.821 162.9 Q549.242 162.9 546.071 159.289 Q542.923 155.655 542.923 149.289 Q542.923 142.9 546.071 139.289 Q549.242 135.678 554.821 135.678 Z\" fill=\"#000000\" fill-rule=\"nonzero\" fill-opacity=\"1\" /><path clip-path=\"url(#clip320)\" d=\"M590.307 137.067 L590.307 141.094 Q588.501 140.169 586.557 139.706 Q584.612 139.243 582.529 139.243 Q579.358 139.243 577.761 140.215 Q576.187 141.187 576.187 143.131 Q576.187 144.613 577.321 145.469 Q578.455 146.303 581.881 147.067 L583.339 147.391 Q587.876 148.363 589.774 150.145 Q591.696 151.905 591.696 155.076 Q591.696 158.687 588.825 160.793 Q585.978 162.9 580.978 162.9 Q578.895 162.9 576.626 162.483 Q574.381 162.09 571.881 161.28 L571.881 156.881 Q574.242 158.108 576.534 158.733 Q578.825 159.335 581.071 159.335 Q584.08 159.335 585.7 158.317 Q587.321 157.275 587.321 155.4 Q587.321 153.664 586.14 152.738 Q584.983 151.812 581.024 150.956 L579.543 150.608 Q575.585 149.775 573.825 148.062 Q572.066 146.326 572.066 143.317 Q572.066 139.659 574.659 137.669 Q577.251 135.678 582.02 135.678 Q584.381 135.678 586.464 136.025 Q588.548 136.372 590.307 137.067 Z\" fill=\"#000000\" fill-rule=\"nonzero\" fill-opacity=\"1\" /><path clip-path=\"url(#clip320)\" d=\"M620.654 148.201 L620.654 150.284 L601.071 150.284 Q601.348 154.682 603.71 156.997 Q606.094 159.289 610.33 159.289 Q612.784 159.289 615.075 158.687 Q617.39 158.085 619.659 156.881 L619.659 160.909 Q617.367 161.881 614.959 162.391 Q612.552 162.9 610.075 162.9 Q603.872 162.9 600.237 159.289 Q596.626 155.678 596.626 149.52 Q596.626 143.155 600.052 139.428 Q603.501 135.678 609.334 135.678 Q614.566 135.678 617.598 139.057 Q620.654 142.414 620.654 148.201 M616.395 146.951 Q616.348 143.456 614.427 141.372 Q612.529 139.289 609.381 139.289 Q605.816 139.289 603.663 141.303 Q601.534 143.317 601.21 146.974 L616.395 146.951 Z\" fill=\"#000000\" fill-rule=\"nonzero\" fill-opacity=\"1\" /><path clip-path=\"url(#clip320)\" d=\"M649.195 146.581 L649.195 162.229 L644.936 162.229 L644.936 146.719 Q644.936 143.039 643.501 141.21 Q642.066 139.382 639.195 139.382 Q635.746 139.382 633.756 141.581 Q631.765 143.78 631.765 147.576 L631.765 162.229 L627.483 162.229 L627.483 136.303 L631.765 136.303 L631.765 140.331 Q633.293 137.993 635.353 136.835 Q637.436 135.678 640.145 135.678 Q644.612 135.678 646.904 138.456 Q649.195 141.21 649.195 146.581 Z\" fill=\"#000000\" fill-rule=\"nonzero\" fill-opacity=\"1\" /><path clip-path=\"url(#clip320)\" d=\"M677.621 131.511 L677.621 144.497 L683.501 144.497 Q686.765 144.497 688.547 142.807 Q690.329 141.118 690.329 137.993 Q690.329 134.891 688.547 133.201 Q686.765 131.511 683.501 131.511 L677.621 131.511 M672.945 127.669 L683.501 127.669 Q689.311 127.669 692.274 130.307 Q695.26 132.923 695.26 137.993 Q695.26 143.108 692.274 145.724 Q689.311 148.34 683.501 148.34 L677.621 148.34 L677.621 162.229 L672.945 162.229 L672.945 127.669 Z\" fill=\"#000000\" fill-rule=\"nonzero\" fill-opacity=\"1\" /><path clip-path=\"url(#clip320)\" d=\"M709.704 139.289 Q706.278 139.289 704.288 141.974 Q702.297 144.636 702.297 149.289 Q702.297 153.942 704.265 156.627 Q706.255 159.289 709.704 159.289 Q713.107 159.289 715.098 156.604 Q717.089 153.918 717.089 149.289 Q717.089 144.682 715.098 141.997 Q713.107 139.289 709.704 139.289 M709.704 135.678 Q715.26 135.678 718.431 139.289 Q721.602 142.9 721.602 149.289 Q721.602 155.655 718.431 159.289 Q715.26 162.9 709.704 162.9 Q704.126 162.9 700.954 159.289 Q697.806 155.655 697.806 149.289 Q697.806 142.9 700.954 139.289 Q704.126 135.678 709.704 135.678 Z\" fill=\"#000000\" fill-rule=\"nonzero\" fill-opacity=\"1\" /><path clip-path=\"url(#clip320)\" d=\"M743.686 140.284 Q742.968 139.868 742.112 139.682 Q741.278 139.474 740.26 139.474 Q736.649 139.474 734.704 141.835 Q732.783 144.173 732.783 148.571 L732.783 162.229 L728.501 162.229 L728.501 136.303 L732.783 136.303 L732.783 140.331 Q734.125 137.969 736.278 136.835 Q738.431 135.678 741.51 135.678 Q741.95 135.678 742.482 135.747 Q743.014 135.794 743.662 135.909 L743.686 140.284 Z\" fill=\"#000000\" fill-rule=\"nonzero\" fill-opacity=\"1\" /><path clip-path=\"url(#clip320)\" d=\"M752.366 128.942 L752.366 136.303 L761.139 136.303 L761.139 139.613 L752.366 139.613 L752.366 153.687 Q752.366 156.858 753.223 157.761 Q754.102 158.664 756.764 158.664 L761.139 158.664 L761.139 162.229 L756.764 162.229 Q751.834 162.229 749.959 160.4 Q748.084 158.548 748.084 153.687 L748.084 139.613 L744.959 139.613 L744.959 136.303 L748.084 136.303 L748.084 128.942 L752.366 128.942 Z\" fill=\"#000000\" fill-rule=\"nonzero\" fill-opacity=\"1\" /><path clip-path=\"url(#clip320)\" d=\"M779.866 126.21 L779.866 129.752 L775.792 129.752 Q773.5 129.752 772.598 130.678 Q771.718 131.604 771.718 134.011 L771.718 136.303 L778.732 136.303 L778.732 139.613 L771.718 139.613 L771.718 162.229 L767.435 162.229 L767.435 139.613 L763.361 139.613 L763.361 136.303 L767.435 136.303 L767.435 134.497 Q767.435 130.169 769.449 128.201 Q771.463 126.21 775.838 126.21 L779.866 126.21 Z\" fill=\"#000000\" fill-rule=\"nonzero\" fill-opacity=\"1\" /><path clip-path=\"url(#clip320)\" d=\"M793.477 139.289 Q790.051 139.289 788.06 141.974 Q786.07 144.636 786.07 149.289 Q786.07 153.942 788.037 156.627 Q790.028 159.289 793.477 159.289 Q796.88 159.289 798.871 156.604 Q800.861 153.918 800.861 149.289 Q800.861 144.682 798.871 141.997 Q796.88 139.289 793.477 139.289 M793.477 135.678 Q799.033 135.678 802.204 139.289 Q805.375 142.9 805.375 149.289 Q805.375 155.655 802.204 159.289 Q799.033 162.9 793.477 162.9 Q787.898 162.9 784.727 159.289 Q781.579 155.655 781.579 149.289 Q781.579 142.9 784.727 139.289 Q787.898 135.678 793.477 135.678 Z\" fill=\"#000000\" fill-rule=\"nonzero\" fill-opacity=\"1\" /><path clip-path=\"url(#clip320)\" d=\"M812.435 126.21 L816.694 126.21 L816.694 162.229 L812.435 162.229 L812.435 126.21 Z\" fill=\"#000000\" fill-rule=\"nonzero\" fill-opacity=\"1\" /><path clip-path=\"url(#clip320)\" d=\"M825.606 136.303 L829.866 136.303 L829.866 162.229 L825.606 162.229 L825.606 136.303 M825.606 126.21 L829.866 126.21 L829.866 131.604 L825.606 131.604 L825.606 126.21 Z\" fill=\"#000000\" fill-rule=\"nonzero\" fill-opacity=\"1\" /><path clip-path=\"url(#clip320)\" d=\"M848.824 139.289 Q845.398 139.289 843.407 141.974 Q841.417 144.636 841.417 149.289 Q841.417 153.942 843.384 156.627 Q845.375 159.289 848.824 159.289 Q852.227 159.289 854.217 156.604 Q856.208 153.918 856.208 149.289 Q856.208 144.682 854.217 141.997 Q852.227 139.289 848.824 139.289 M848.824 135.678 Q854.379 135.678 857.551 139.289 Q860.722 142.9 860.722 149.289 Q860.722 155.655 857.551 159.289 Q854.379 162.9 848.824 162.9 Q843.245 162.9 840.074 159.289 Q836.926 155.655 836.926 149.289 Q836.926 142.9 840.074 139.289 Q843.245 135.678 848.824 135.678 Z\" fill=\"#000000\" fill-rule=\"nonzero\" fill-opacity=\"1\" /><path clip-path=\"url(#clip320)\" d=\"M883.037 127.669 L887.713 127.669 L887.713 162.229 L883.037 162.229 L883.037 127.669 Z\" fill=\"#000000\" fill-rule=\"nonzero\" fill-opacity=\"1\" /><path clip-path=\"url(#clip320)\" d=\"M918.384 146.581 L918.384 162.229 L914.125 162.229 L914.125 146.719 Q914.125 143.039 912.689 141.21 Q911.254 139.382 908.384 139.382 Q904.935 139.382 902.944 141.581 Q900.953 143.78 900.953 147.576 L900.953 162.229 L896.671 162.229 L896.671 136.303 L900.953 136.303 L900.953 140.331 Q902.481 137.993 904.541 136.835 Q906.625 135.678 909.333 135.678 Q913.8 135.678 916.092 138.456 Q918.384 141.21 918.384 146.581 Z\" fill=\"#000000\" fill-rule=\"nonzero\" fill-opacity=\"1\" /><path clip-path=\"url(#clip320)\" d=\"M926.879 136.303 L931.138 136.303 L931.138 162.229 L926.879 162.229 L926.879 136.303 M926.879 126.21 L931.138 126.21 L931.138 131.604 L926.879 131.604 L926.879 126.21 Z\" fill=\"#000000\" fill-rule=\"nonzero\" fill-opacity=\"1\" /><path clip-path=\"url(#clip320)\" d=\"M944.263 128.942 L944.263 136.303 L953.036 136.303 L953.036 139.613 L944.263 139.613 L944.263 153.687 Q944.263 156.858 945.12 157.761 Q945.999 158.664 948.661 158.664 L953.036 158.664 L953.036 162.229 L948.661 162.229 Q943.731 162.229 941.856 160.4 Q939.981 158.548 939.981 153.687 L939.981 139.613 L936.856 139.613 L936.856 136.303 L939.981 136.303 L939.981 128.942 L944.263 128.942 Z\" fill=\"#000000\" fill-rule=\"nonzero\" fill-opacity=\"1\" /><path clip-path=\"url(#clip320)\" d=\"M958.638 136.303 L962.897 136.303 L962.897 162.229 L958.638 162.229 L958.638 136.303 M958.638 126.21 L962.897 126.21 L962.897 131.604 L958.638 131.604 L958.638 126.21 Z\" fill=\"#000000\" fill-rule=\"nonzero\" fill-opacity=\"1\" /><path clip-path=\"url(#clip320)\" d=\"M983.592 149.196 Q978.43 149.196 976.439 150.377 Q974.448 151.557 974.448 154.405 Q974.448 156.673 975.93 158.016 Q977.434 159.335 980.004 159.335 Q983.545 159.335 985.675 156.835 Q987.828 154.312 987.828 150.145 L987.828 149.196 L983.592 149.196 M992.087 147.437 L992.087 162.229 L987.828 162.229 L987.828 158.293 Q986.37 160.655 984.194 161.789 Q982.018 162.9 978.87 162.9 Q974.888 162.9 972.527 160.678 Q970.189 158.432 970.189 154.682 Q970.189 150.307 973.106 148.085 Q976.045 145.863 981.856 145.863 L987.828 145.863 L987.828 145.446 Q987.828 142.507 985.883 140.909 Q983.962 139.289 980.467 139.289 Q978.245 139.289 976.138 139.821 Q974.032 140.354 972.087 141.419 L972.087 137.483 Q974.425 136.581 976.624 136.141 Q978.823 135.678 980.907 135.678 Q986.532 135.678 989.309 138.594 Q992.087 141.511 992.087 147.437 Z\" fill=\"#000000\" fill-rule=\"nonzero\" fill-opacity=\"1\" /><path clip-path=\"url(#clip320)\" d=\"M1000.86 126.21 L1005.12 126.21 L1005.12 162.229 L1000.86 162.229 L1000.86 126.21 Z\" fill=\"#000000\" fill-rule=\"nonzero\" fill-opacity=\"1\" /><polyline clip-path=\"url(#clip320)\" style=\"stroke:#0000ff; stroke-linecap:round; stroke-linejoin:round; stroke-width:12; stroke-opacity:1; fill:none\" points=\"313.865,196.789 456.113,196.789 \"/>\n",
       "<path clip-path=\"url(#clip320)\" d=\"M502.067 180.643 L502.067 185.203 Q499.405 183.93 497.043 183.305 Q494.682 182.68 492.483 182.68 Q488.664 182.68 486.581 184.161 Q484.52 185.643 484.52 188.374 Q484.52 190.666 485.886 191.847 Q487.275 193.004 491.118 193.722 L493.942 194.3 Q499.173 195.296 501.65 197.819 Q504.15 200.319 504.15 204.532 Q504.15 209.555 500.77 212.147 Q497.414 214.74 490.909 214.74 Q488.456 214.74 485.678 214.184 Q482.923 213.629 479.96 212.541 L479.96 207.726 Q482.807 209.323 485.539 210.133 Q488.27 210.944 490.909 210.944 Q494.914 210.944 497.09 209.37 Q499.266 207.796 499.266 204.879 Q499.266 202.333 497.692 200.897 Q496.141 199.462 492.576 198.745 L489.729 198.189 Q484.497 197.147 482.159 194.925 Q479.821 192.703 479.821 188.745 Q479.821 184.161 483.039 181.522 Q486.28 178.884 491.951 178.884 Q494.381 178.884 496.905 179.323 Q499.428 179.763 502.067 180.643 Z\" fill=\"#000000\" fill-rule=\"nonzero\" fill-opacity=\"1\" /><path clip-path=\"url(#clip320)\" d=\"M516.117 183.351 L516.117 196.337 L521.997 196.337 Q525.261 196.337 527.043 194.647 Q528.826 192.958 528.826 189.833 Q528.826 186.731 527.043 185.041 Q525.261 183.351 521.997 183.351 L516.117 183.351 M511.442 179.509 L521.997 179.509 Q527.807 179.509 530.77 182.147 Q533.756 184.763 533.756 189.833 Q533.756 194.948 530.77 197.564 Q527.807 200.18 521.997 200.18 L516.117 200.18 L516.117 214.069 L511.442 214.069 L511.442 179.509 Z\" fill=\"#000000\" fill-rule=\"nonzero\" fill-opacity=\"1\" /><path clip-path=\"url(#clip320)\" d=\"M534.242 179.509 L539.265 179.509 L548.849 193.722 L558.363 179.509 L563.386 179.509 L551.164 197.61 L551.164 214.069 L546.464 214.069 L546.464 197.61 L534.242 179.509 Z\" fill=\"#000000\" fill-rule=\"nonzero\" fill-opacity=\"1\" /><polyline clip-path=\"url(#clip320)\" style=\"stroke:#ff0000; stroke-linecap:round; stroke-linejoin:round; stroke-width:20; stroke-opacity:1; fill:none\" points=\"313.865,248.629 456.113,248.629 \"/>\n",
       "<path clip-path=\"url(#clip320)\" d=\"M496.21 249.705 Q497.715 250.214 499.127 251.881 Q500.562 253.548 501.997 256.464 L506.742 265.909 L501.719 265.909 L497.298 257.043 Q495.585 253.571 493.965 252.436 Q492.368 251.302 489.59 251.302 L484.497 251.302 L484.497 265.909 L479.821 265.909 L479.821 231.349 L490.377 231.349 Q496.303 231.349 499.219 233.825 Q502.136 236.302 502.136 241.302 Q502.136 244.566 500.608 246.719 Q499.104 248.872 496.21 249.705 M484.497 235.191 L484.497 247.46 L490.377 247.46 Q493.756 247.46 495.469 245.909 Q497.205 244.335 497.205 241.302 Q497.205 238.27 495.469 236.742 Q493.756 235.191 490.377 235.191 L484.497 235.191 Z\" fill=\"#000000\" fill-rule=\"nonzero\" fill-opacity=\"1\" /><path clip-path=\"url(#clip320)\" d=\"M532.622 251.881 L532.622 253.964 L513.039 253.964 Q513.316 258.362 515.678 260.677 Q518.062 262.969 522.298 262.969 Q524.752 262.969 527.043 262.367 Q529.358 261.765 531.627 260.561 L531.627 264.589 Q529.335 265.561 526.928 266.071 Q524.52 266.58 522.043 266.58 Q515.84 266.58 512.205 262.969 Q508.594 259.358 508.594 253.2 Q508.594 246.835 512.02 243.108 Q515.469 239.358 521.303 239.358 Q526.534 239.358 529.566 242.737 Q532.622 246.094 532.622 251.881 M528.363 250.631 Q528.316 247.136 526.395 245.052 Q524.497 242.969 521.349 242.969 Q517.784 242.969 515.631 244.983 Q513.502 246.997 513.178 250.654 L528.363 250.631 Z\" fill=\"#000000\" fill-rule=\"nonzero\" fill-opacity=\"1\" /><path clip-path=\"url(#clip320)\" d=\"M551.395 252.876 Q546.233 252.876 544.242 254.057 Q542.252 255.237 542.252 258.085 Q542.252 260.353 543.733 261.696 Q545.238 263.015 547.807 263.015 Q551.349 263.015 553.478 260.515 Q555.631 257.992 555.631 253.825 L555.631 252.876 L551.395 252.876 M559.89 251.117 L559.89 265.909 L555.631 265.909 L555.631 261.973 Q554.173 264.335 551.997 265.469 Q549.821 266.58 546.673 266.58 Q542.691 266.58 540.33 264.358 Q537.992 262.112 537.992 258.362 Q537.992 253.987 540.909 251.765 Q543.849 249.543 549.659 249.543 L555.631 249.543 L555.631 249.126 Q555.631 246.187 553.687 244.589 Q551.765 242.969 548.27 242.969 Q546.048 242.969 543.941 243.501 Q541.835 244.034 539.89 245.099 L539.89 241.163 Q542.228 240.261 544.427 239.821 Q546.626 239.358 548.71 239.358 Q554.335 239.358 557.113 242.274 Q559.89 245.191 559.89 251.117 Z\" fill=\"#000000\" fill-rule=\"nonzero\" fill-opacity=\"1\" /><path clip-path=\"url(#clip320)\" d=\"M568.663 229.89 L572.923 229.89 L572.923 265.909 L568.663 265.909 L568.663 229.89 Z\" fill=\"#000000\" fill-rule=\"nonzero\" fill-opacity=\"1\" /><path clip-path=\"url(#clip320)\" d=\"M581.835 229.89 L586.094 229.89 L586.094 265.909 L581.835 265.909 L581.835 229.89 Z\" fill=\"#000000\" fill-rule=\"nonzero\" fill-opacity=\"1\" /><path clip-path=\"url(#clip320)\" d=\"M605.052 242.969 Q601.626 242.969 599.635 245.654 Q597.645 248.316 597.645 252.969 Q597.645 257.622 599.612 260.307 Q601.603 262.969 605.052 262.969 Q608.455 262.969 610.446 260.284 Q612.436 257.598 612.436 252.969 Q612.436 248.362 610.446 245.677 Q608.455 242.969 605.052 242.969 M605.052 239.358 Q610.608 239.358 613.779 242.969 Q616.95 246.58 616.95 252.969 Q616.95 259.335 613.779 262.969 Q610.608 266.58 605.052 266.58 Q599.473 266.58 596.302 262.969 Q593.154 259.335 593.154 252.969 Q593.154 246.58 596.302 242.969 Q599.473 239.358 605.052 239.358 Z\" fill=\"#000000\" fill-rule=\"nonzero\" fill-opacity=\"1\" /><path clip-path=\"url(#clip320)\" d=\"M642.668 240.978 L642.668 244.96 Q640.862 243.964 639.033 243.478 Q637.228 242.969 635.376 242.969 Q631.233 242.969 628.941 245.608 Q626.649 248.224 626.649 252.969 Q626.649 257.714 628.941 260.353 Q631.233 262.969 635.376 262.969 Q637.228 262.969 639.033 262.483 Q640.862 261.973 642.668 260.978 L642.668 264.913 Q640.885 265.747 638.964 266.163 Q637.066 266.58 634.913 266.58 Q629.057 266.58 625.608 262.899 Q622.159 259.219 622.159 252.969 Q622.159 246.626 625.631 242.992 Q629.126 239.358 635.191 239.358 Q637.158 239.358 639.033 239.775 Q640.908 240.168 642.668 240.978 Z\" fill=\"#000000\" fill-rule=\"nonzero\" fill-opacity=\"1\" /><path clip-path=\"url(#clip320)\" d=\"M661.857 252.876 Q656.695 252.876 654.705 254.057 Q652.714 255.237 652.714 258.085 Q652.714 260.353 654.195 261.696 Q655.7 263.015 658.269 263.015 Q661.811 263.015 663.941 260.515 Q666.093 257.992 666.093 253.825 L666.093 252.876 L661.857 252.876 M670.353 251.117 L670.353 265.909 L666.093 265.909 L666.093 261.973 Q664.635 264.335 662.459 265.469 Q660.283 266.58 657.135 266.58 Q653.154 266.58 650.793 264.358 Q648.455 262.112 648.455 258.362 Q648.455 253.987 651.371 251.765 Q654.311 249.543 660.121 249.543 L666.093 249.543 L666.093 249.126 Q666.093 246.187 664.149 244.589 Q662.228 242.969 658.732 242.969 Q656.51 242.969 654.404 243.501 Q652.297 244.034 650.353 245.099 L650.353 241.163 Q652.691 240.261 654.89 239.821 Q657.089 239.358 659.172 239.358 Q664.797 239.358 667.575 242.274 Q670.353 245.191 670.353 251.117 Z\" fill=\"#000000\" fill-rule=\"nonzero\" fill-opacity=\"1\" /><path clip-path=\"url(#clip320)\" d=\"M683.339 232.622 L683.339 239.983 L692.112 239.983 L692.112 243.293 L683.339 243.293 L683.339 257.367 Q683.339 260.538 684.195 261.441 Q685.075 262.344 687.737 262.344 L692.112 262.344 L692.112 265.909 L687.737 265.909 Q682.806 265.909 680.931 264.08 Q679.056 262.228 679.056 257.367 L679.056 243.293 L675.931 243.293 L675.931 239.983 L679.056 239.983 L679.056 232.622 L683.339 232.622 Z\" fill=\"#000000\" fill-rule=\"nonzero\" fill-opacity=\"1\" /><path clip-path=\"url(#clip320)\" d=\"M719.889 251.881 L719.889 253.964 L700.306 253.964 Q700.584 258.362 702.945 260.677 Q705.329 262.969 709.565 262.969 Q712.019 262.969 714.311 262.367 Q716.626 261.765 718.894 260.561 L718.894 264.589 Q716.602 265.561 714.195 266.071 Q711.788 266.58 709.311 266.58 Q703.107 266.58 699.473 262.969 Q695.862 259.358 695.862 253.2 Q695.862 246.835 699.288 243.108 Q702.737 239.358 708.57 239.358 Q713.802 239.358 716.834 242.737 Q719.889 246.094 719.889 251.881 M715.63 250.631 Q715.584 247.136 713.663 245.052 Q711.765 242.969 708.616 242.969 Q705.052 242.969 702.899 244.983 Q700.769 246.997 700.445 250.654 L715.63 250.631 Z\" fill=\"#000000\" fill-rule=\"nonzero\" fill-opacity=\"1\" /><path clip-path=\"url(#clip320)\" d=\"M743.94 243.918 L743.94 229.89 L748.199 229.89 L748.199 265.909 L743.94 265.909 L743.94 262.02 Q742.598 264.335 740.537 265.469 Q738.5 266.58 735.63 266.58 Q730.931 266.58 727.968 262.83 Q725.028 259.08 725.028 252.969 Q725.028 246.858 727.968 243.108 Q730.931 239.358 735.63 239.358 Q738.5 239.358 740.537 240.492 Q742.598 241.603 743.94 243.918 M729.426 252.969 Q729.426 257.668 731.348 260.353 Q733.292 263.015 736.672 263.015 Q740.051 263.015 741.996 260.353 Q743.94 257.668 743.94 252.969 Q743.94 248.27 741.996 245.608 Q740.051 242.923 736.672 242.923 Q733.292 242.923 731.348 245.608 Q729.426 248.27 729.426 252.969 Z\" fill=\"#000000\" fill-rule=\"nonzero\" fill-opacity=\"1\" /><path clip-path=\"url(#clip320)\" d=\"M776.903 235.191 L776.903 248.177 L782.783 248.177 Q786.047 248.177 787.829 246.487 Q789.611 244.798 789.611 241.673 Q789.611 238.571 787.829 236.881 Q786.047 235.191 782.783 235.191 L776.903 235.191 M772.227 231.349 L782.783 231.349 Q788.593 231.349 791.556 233.987 Q794.542 236.603 794.542 241.673 Q794.542 246.788 791.556 249.404 Q788.593 252.02 782.783 252.02 L776.903 252.02 L776.903 265.909 L772.227 265.909 L772.227 231.349 Z\" fill=\"#000000\" fill-rule=\"nonzero\" fill-opacity=\"1\" /><path clip-path=\"url(#clip320)\" d=\"M808.986 242.969 Q805.56 242.969 803.57 245.654 Q801.579 248.316 801.579 252.969 Q801.579 257.622 803.546 260.307 Q805.537 262.969 808.986 262.969 Q812.389 262.969 814.38 260.284 Q816.37 257.598 816.37 252.969 Q816.37 248.362 814.38 245.677 Q812.389 242.969 808.986 242.969 M808.986 239.358 Q814.542 239.358 817.713 242.969 Q820.884 246.58 820.884 252.969 Q820.884 259.335 817.713 262.969 Q814.542 266.58 808.986 266.58 Q803.408 266.58 800.236 262.969 Q797.088 259.335 797.088 252.969 Q797.088 246.58 800.236 242.969 Q803.408 239.358 808.986 239.358 Z\" fill=\"#000000\" fill-rule=\"nonzero\" fill-opacity=\"1\" /><path clip-path=\"url(#clip320)\" d=\"M842.968 243.964 Q842.25 243.548 841.393 243.362 Q840.56 243.154 839.542 243.154 Q835.931 243.154 833.986 245.515 Q832.065 247.853 832.065 252.251 L832.065 265.909 L827.782 265.909 L827.782 239.983 L832.065 239.983 L832.065 244.011 Q833.407 241.649 835.56 240.515 Q837.713 239.358 840.792 239.358 Q841.231 239.358 841.764 239.427 Q842.296 239.474 842.944 239.589 L842.968 243.964 Z\" fill=\"#000000\" fill-rule=\"nonzero\" fill-opacity=\"1\" /><path clip-path=\"url(#clip320)\" d=\"M851.648 232.622 L851.648 239.983 L860.421 239.983 L860.421 243.293 L851.648 243.293 L851.648 257.367 Q851.648 260.538 852.504 261.441 Q853.384 262.344 856.046 262.344 L860.421 262.344 L860.421 265.909 L856.046 265.909 Q851.116 265.909 849.241 264.08 Q847.366 262.228 847.366 257.367 L847.366 243.293 L844.241 243.293 L844.241 239.983 L847.366 239.983 L847.366 232.622 L851.648 232.622 Z\" fill=\"#000000\" fill-rule=\"nonzero\" fill-opacity=\"1\" /><path clip-path=\"url(#clip320)\" d=\"M879.148 229.89 L879.148 233.432 L875.074 233.432 Q872.782 233.432 871.879 234.358 Q871 235.284 871 237.691 L871 239.983 L878.014 239.983 L878.014 243.293 L871 243.293 L871 265.909 L866.717 265.909 L866.717 243.293 L862.643 243.293 L862.643 239.983 L866.717 239.983 L866.717 238.177 Q866.717 233.849 868.731 231.881 Q870.745 229.89 875.12 229.89 L879.148 229.89 Z\" fill=\"#000000\" fill-rule=\"nonzero\" fill-opacity=\"1\" /><path clip-path=\"url(#clip320)\" d=\"M892.759 242.969 Q889.333 242.969 887.342 245.654 Q885.352 248.316 885.352 252.969 Q885.352 257.622 887.319 260.307 Q889.31 262.969 892.759 262.969 Q896.162 262.969 898.152 260.284 Q900.143 257.598 900.143 252.969 Q900.143 248.362 898.152 245.677 Q896.162 242.969 892.759 242.969 M892.759 239.358 Q898.314 239.358 901.486 242.969 Q904.657 246.58 904.657 252.969 Q904.657 259.335 901.486 262.969 Q898.314 266.58 892.759 266.58 Q887.18 266.58 884.009 262.969 Q880.861 259.335 880.861 252.969 Q880.861 246.58 884.009 242.969 Q887.18 239.358 892.759 239.358 Z\" fill=\"#000000\" fill-rule=\"nonzero\" fill-opacity=\"1\" /><path clip-path=\"url(#clip320)\" d=\"M911.717 229.89 L915.976 229.89 L915.976 265.909 L911.717 265.909 L911.717 229.89 Z\" fill=\"#000000\" fill-rule=\"nonzero\" fill-opacity=\"1\" /><path clip-path=\"url(#clip320)\" d=\"M924.888 239.983 L929.148 239.983 L929.148 265.909 L924.888 265.909 L924.888 239.983 M924.888 229.89 L929.148 229.89 L929.148 235.284 L924.888 235.284 L924.888 229.89 Z\" fill=\"#000000\" fill-rule=\"nonzero\" fill-opacity=\"1\" /><path clip-path=\"url(#clip320)\" d=\"M948.106 242.969 Q944.68 242.969 942.689 245.654 Q940.698 248.316 940.698 252.969 Q940.698 257.622 942.666 260.307 Q944.657 262.969 948.106 262.969 Q951.509 262.969 953.499 260.284 Q955.49 257.598 955.49 252.969 Q955.49 248.362 953.499 245.677 Q951.509 242.969 948.106 242.969 M948.106 239.358 Q953.661 239.358 956.833 242.969 Q960.004 246.58 960.004 252.969 Q960.004 259.335 956.833 262.969 Q953.661 266.58 948.106 266.58 Q942.527 266.58 939.356 262.969 Q936.208 259.335 936.208 252.969 Q936.208 246.58 939.356 242.969 Q942.527 239.358 948.106 239.358 Z\" fill=\"#000000\" fill-rule=\"nonzero\" fill-opacity=\"1\" /></svg>\n"
      ]
     },
     "metadata": {},
     "output_type": "display_data"
    }
   ],
   "source": [
    "plot((1/table_data[1,end]).*table_data[:,end],\n",
    "    lw=4, c=:purple, label=\"Chosen Portfolio Initial\")\n",
    "plot!((1/SPY_df[1,:volume_weighted_average_price]).*SPY_df[1:trading_days,:volume_weighted_average_price],\n",
    "    lw=3, c=:blue, label=\"SPY\")\n",
    "plot!((1/reallocated_portfolio[1,end]).*reallocated_portfolio[:,end], \n",
    "    lw=6, c=:red, label=\"Reallocated Portfolio\")\n",
    "\n",
    "xlabel!(\"Trading Day (2023)\", fontsize=18)\n",
    "ylabel!(\"Wealth (USD)\", fontsize=18)"
   ]
  },
  {
   "cell_type": "code",
   "execution_count": 122,
   "id": "d8d681d2",
   "metadata": {},
   "outputs": [
    {
     "name": "stdout",
     "output_type": "stream",
     "text": [
      "┌──────────────┬──────────────┬──────────────┬─────────────┬──────────────┬─────────────┬──────────────┐\n",
      "│\u001b[1m        index \u001b[0m│\u001b[1m         NVDA \u001b[0m│\u001b[1m          MDT \u001b[0m│\u001b[1m         AMD \u001b[0m│\u001b[1m           PG \u001b[0m│\u001b[1m          MO \u001b[0m│\u001b[1m          PLD \u001b[0m│\n",
      "├──────────────┼──────────────┼──────────────┼─────────────┼──────────────┼─────────────┼──────────────┤\n",
      "│          0.0 │      10584.2 │          0.0 │   7.06291e5 │          0.0 │         0.0 │          0.0 │\n",
      "│          1.0 │    1.53474e5 │        0.029 │        0.02 │     1.6677e5 │       0.026 │        0.143 │\n",
      "│          2.0 │     302588.0 │        0.015 │       0.058 │      10587.8 │       0.011 │        0.042 │\n",
      "│          3.0 │     302588.0 │        0.015 │       0.058 │      10587.8 │       0.011 │        0.042 │\n",
      "│          4.0 │     302588.0 │        0.015 │       0.058 │      10587.8 │       0.011 │        0.042 │\n",
      "│          5.0 │     302588.0 │        0.015 │       0.058 │      10587.8 │       0.011 │        0.042 │\n",
      "│          6.0 │     302588.0 │        0.015 │       0.058 │      10587.8 │       0.011 │        0.042 │\n",
      "│          7.0 │     302588.0 │        0.015 │       0.058 │      10587.8 │       0.011 │        0.042 │\n",
      "│          8.0 │     302588.0 │        0.015 │       0.058 │      10587.8 │       0.011 │        0.042 │\n",
      "│          9.0 │     302588.0 │        0.015 │       0.058 │      10587.8 │       0.011 │        0.042 │\n",
      "│         10.0 │     302588.0 │        0.015 │       0.058 │      10587.8 │       0.011 │        0.042 │\n",
      "│         11.0 │     302588.0 │        0.015 │       0.058 │      10587.8 │       0.011 │        0.042 │\n",
      "│         12.0 │     302588.0 │        0.015 │       0.058 │      10587.8 │       0.011 │        0.042 │\n",
      "│         13.0 │     302588.0 │        0.015 │       0.058 │      10587.8 │       0.011 │        0.042 │\n",
      "│         14.0 │     302588.0 │        0.015 │       0.058 │      10587.8 │       0.011 │        0.042 │\n",
      "│         15.0 │     302588.0 │        0.015 │       0.058 │      10587.8 │       0.011 │        0.042 │\n",
      "│         16.0 │     302588.0 │        0.015 │       0.058 │      10587.8 │       0.011 │        0.042 │\n",
      "│         17.0 │     302588.0 │        0.015 │       0.058 │      10587.8 │       0.011 │        0.042 │\n",
      "│         18.0 │     302588.0 │        0.015 │       0.058 │      10587.8 │       0.011 │        0.042 │\n",
      "│         19.0 │     302588.0 │        0.015 │       0.058 │      10587.8 │       0.011 │        0.042 │\n",
      "│         20.0 │     302588.0 │        0.015 │       0.058 │      10587.8 │       0.011 │        0.042 │\n",
      "│         21.0 │     302588.0 │        0.015 │       0.058 │      10587.8 │       0.011 │        0.042 │\n",
      "│         22.0 │     302588.0 │        0.015 │       0.058 │      10587.8 │       0.011 │        0.042 │\n",
      "│         23.0 │     302588.0 │        0.015 │       0.058 │      10587.8 │       0.011 │        0.042 │\n",
      "│         24.0 │     302588.0 │        0.015 │       0.058 │      10587.8 │       0.011 │        0.042 │\n",
      "│         25.0 │     302588.0 │        0.015 │       0.058 │      10587.8 │       0.011 │        0.042 │\n",
      "│         26.0 │     302588.0 │        0.015 │       0.058 │      10587.8 │       0.011 │        0.042 │\n",
      "│         27.0 │     302588.0 │        0.015 │       0.058 │      10587.8 │       0.011 │        0.042 │\n",
      "│         28.0 │     302588.0 │        0.015 │       0.058 │      10587.8 │       0.011 │        0.042 │\n",
      "│         29.0 │     302588.0 │        0.015 │       0.058 │      10587.8 │       0.011 │        0.042 │\n",
      "│         30.0 │     302588.0 │        0.015 │       0.058 │      10587.8 │       0.011 │        0.042 │\n",
      "│         31.0 │     302588.0 │        0.015 │       0.058 │      10587.8 │       0.011 │        0.042 │\n",
      "│         32.0 │     302588.0 │        0.015 │       0.058 │      10587.8 │       0.011 │        0.042 │\n",
      "│         33.0 │     302588.0 │        0.015 │       0.058 │      10587.8 │       0.011 │        0.042 │\n",
      "│         34.0 │     302588.0 │        0.015 │       0.058 │      10587.8 │       0.011 │        0.042 │\n",
      "│         35.0 │     302588.0 │        0.015 │       0.058 │      10587.8 │       0.011 │        0.042 │\n",
      "│         36.0 │     302588.0 │        0.015 │       0.058 │      10587.8 │       0.011 │        0.042 │\n",
      "│         37.0 │     302588.0 │        0.015 │       0.058 │      10587.8 │       0.011 │        0.042 │\n",
      "│         38.0 │     302588.0 │        0.015 │       0.058 │      10587.8 │       0.011 │        0.042 │\n",
      "│         39.0 │     302588.0 │        0.015 │       0.058 │      10587.8 │       0.011 │        0.042 │\n",
      "│         40.0 │     302588.0 │        0.015 │       0.058 │      10587.8 │       0.011 │        0.042 │\n",
      "│         41.0 │     302588.0 │        0.015 │       0.058 │      10587.8 │       0.011 │        0.042 │\n",
      "│         42.0 │     302588.0 │        0.015 │       0.058 │      10587.8 │       0.011 │        0.042 │\n",
      "│         43.0 │     302588.0 │        0.015 │       0.058 │      10587.8 │       0.011 │        0.042 │\n",
      "│         44.0 │     302588.0 │        0.015 │       0.058 │      10587.8 │       0.011 │        0.042 │\n",
      "│         45.0 │     302588.0 │        0.015 │       0.058 │      10587.8 │       0.011 │        0.042 │\n",
      "│         46.0 │     302588.0 │        0.015 │       0.058 │      10587.8 │       0.011 │        0.042 │\n",
      "│         47.0 │     302588.0 │        0.015 │       0.058 │      10587.8 │       0.011 │        0.042 │\n",
      "│         48.0 │     302588.0 │        0.015 │       0.058 │      10587.8 │       0.011 │        0.042 │\n",
      "│         49.0 │     302588.0 │        0.015 │       0.058 │      10587.8 │       0.011 │        0.042 │\n",
      "│         50.0 │     302588.0 │        0.015 │       0.058 │      10587.8 │       0.011 │        0.042 │\n",
      "│         51.0 │     302588.0 │        0.015 │       0.058 │      10587.8 │       0.011 │        0.042 │\n",
      "│         52.0 │     302588.0 │        0.015 │       0.058 │      10587.8 │       0.011 │        0.042 │\n",
      "│         53.0 │     302588.0 │        0.015 │       0.058 │      10587.8 │       0.011 │        0.042 │\n",
      "│         54.0 │     302588.0 │        0.015 │       0.058 │      10587.8 │       0.011 │        0.042 │\n",
      "│         55.0 │     302588.0 │        0.015 │       0.058 │      10587.8 │       0.011 │        0.042 │\n",
      "│         56.0 │     302588.0 │        0.015 │       0.058 │      10587.8 │       0.011 │        0.042 │\n",
      "│         57.0 │     302588.0 │        0.015 │       0.058 │      10587.8 │       0.011 │        0.042 │\n",
      "│         58.0 │     302588.0 │        0.015 │       0.058 │      10587.8 │       0.011 │        0.042 │\n",
      "│         59.0 │     302588.0 │        0.015 │       0.058 │      10587.8 │       0.011 │        0.042 │\n",
      "│         60.0 │     302588.0 │        0.015 │       0.058 │      10587.8 │       0.011 │        0.042 │\n",
      "│         61.0 │     302588.0 │        0.015 │       0.058 │      10587.8 │       0.011 │        0.042 │\n",
      "│         62.0 │     302588.0 │        0.015 │       0.058 │      10587.8 │       0.011 │        0.042 │\n",
      "│         63.0 │     302588.0 │        0.015 │       0.058 │      10587.8 │       0.011 │        0.042 │\n",
      "│         64.0 │     302588.0 │        0.015 │       0.058 │      10587.8 │       0.011 │        0.042 │\n",
      "│         65.0 │     302588.0 │        0.015 │       0.058 │      10587.8 │       0.011 │        0.042 │\n",
      "│         66.0 │     302588.0 │        0.015 │       0.058 │      10587.8 │       0.011 │        0.042 │\n",
      "│         67.0 │     302588.0 │        0.015 │       0.058 │      10587.8 │       0.011 │        0.042 │\n",
      "│         68.0 │     302588.0 │        0.015 │       0.058 │      10587.8 │       0.011 │        0.042 │\n",
      "│         69.0 │     302588.0 │        0.015 │       0.058 │      10587.8 │       0.011 │        0.042 │\n",
      "│         70.0 │     302588.0 │        0.015 │       0.058 │      10587.8 │       0.011 │        0.042 │\n",
      "│         71.0 │     302588.0 │        0.015 │       0.058 │      10587.8 │       0.011 │        0.042 │\n",
      "│         72.0 │     302588.0 │        0.015 │       0.058 │      10587.8 │       0.011 │        0.042 │\n",
      "│         73.0 │     302588.0 │        0.015 │       0.058 │      10587.8 │       0.011 │        0.042 │\n",
      "│         74.0 │     302588.0 │        0.015 │       0.058 │      10587.8 │       0.011 │        0.042 │\n",
      "│         75.0 │     302588.0 │        0.015 │       0.058 │      10587.8 │       0.011 │        0.042 │\n",
      "│         76.0 │     302588.0 │        0.015 │       0.058 │      10587.8 │       0.011 │        0.042 │\n",
      "│         77.0 │     302588.0 │        0.015 │       0.058 │      10587.8 │       0.011 │        0.042 │\n",
      "│         78.0 │     302588.0 │        0.015 │       0.058 │      10587.8 │       0.011 │        0.042 │\n",
      "│         79.0 │     302588.0 │        0.015 │       0.058 │      10587.8 │       0.011 │        0.042 │\n",
      "│         80.0 │     302588.0 │        0.015 │       0.058 │      10587.8 │       0.011 │        0.042 │\n",
      "│         81.0 │     302588.0 │        0.015 │       0.058 │      10587.8 │       0.011 │        0.042 │\n",
      "│         82.0 │     302588.0 │        0.015 │       0.058 │      10587.8 │       0.011 │        0.042 │\n",
      "│         83.0 │     302588.0 │        0.015 │       0.058 │      10587.8 │       0.011 │        0.042 │\n",
      "│         84.0 │     302588.0 │        0.015 │       0.058 │      10587.8 │       0.011 │        0.042 │\n",
      "│         85.0 │     302588.0 │        0.015 │       0.058 │      10587.8 │       0.011 │        0.042 │\n",
      "│         86.0 │     302588.0 │        0.015 │       0.058 │      10587.8 │       0.011 │        0.042 │\n",
      "│         87.0 │     302588.0 │        0.015 │       0.058 │      10587.8 │       0.011 │        0.042 │\n",
      "│         88.0 │     302588.0 │        0.015 │       0.058 │      10587.8 │       0.011 │        0.042 │\n",
      "│         89.0 │     302588.0 │        0.015 │       0.058 │      10587.8 │       0.011 │        0.042 │\n",
      "│         90.0 │     302588.0 │        0.015 │       0.058 │      10587.8 │       0.011 │        0.042 │\n",
      "│         91.0 │     302588.0 │        0.015 │       0.058 │      10587.8 │       0.011 │        0.042 │\n",
      "│         92.0 │     302588.0 │        0.015 │       0.058 │      10587.8 │       0.011 │        0.042 │\n",
      "│         93.0 │     302588.0 │        0.015 │       0.058 │      10587.8 │       0.011 │        0.042 │\n",
      "│         94.0 │     302588.0 │        0.015 │       0.058 │      10587.8 │       0.011 │        0.042 │\n",
      "│         95.0 │     302588.0 │        0.015 │       0.058 │      10587.8 │       0.011 │        0.042 │\n",
      "│         96.0 │     302588.0 │        0.015 │       0.058 │      10587.8 │       0.011 │        0.042 │\n",
      "│         97.0 │     302588.0 │        0.015 │       0.058 │      10587.8 │       0.011 │        0.042 │\n",
      "│         98.0 │     302588.0 │        0.015 │       0.058 │      10587.8 │       0.011 │        0.042 │\n",
      "│         99.0 │     302588.0 │        0.015 │       0.058 │      10587.8 │       0.011 │        0.042 │\n",
      "│        100.0 │     302588.0 │        0.015 │       0.058 │      10587.8 │       0.011 │        0.042 │\n",
      "│        101.0 │     302588.0 │        0.015 │       0.058 │      10587.8 │       0.011 │        0.042 │\n",
      "│        102.0 │     302588.0 │        0.015 │       0.058 │      10587.8 │       0.011 │        0.042 │\n",
      "│        103.0 │     302588.0 │        0.015 │       0.058 │      10587.8 │       0.011 │        0.042 │\n",
      "│        104.0 │     302588.0 │        0.015 │       0.058 │      10587.8 │       0.011 │        0.042 │\n",
      "│        105.0 │     302588.0 │        0.015 │       0.058 │      10587.8 │       0.011 │        0.042 │\n",
      "│        106.0 │     302588.0 │        0.015 │       0.058 │      10587.8 │       0.011 │        0.042 │\n",
      "│        107.0 │     302588.0 │        0.015 │       0.058 │      10587.8 │       0.011 │        0.042 │\n",
      "│        108.0 │     302588.0 │        0.015 │       0.058 │      10587.8 │       0.011 │        0.042 │\n",
      "│        109.0 │     302588.0 │        0.015 │       0.058 │      10587.8 │       0.011 │        0.042 │\n",
      "│        110.0 │     302588.0 │        0.015 │       0.058 │      10587.8 │       0.011 │        0.042 │\n",
      "│        111.0 │     302588.0 │        0.015 │       0.058 │      10587.8 │       0.011 │        0.042 │\n",
      "│        112.0 │     302588.0 │        0.015 │       0.058 │      10587.8 │       0.011 │        0.042 │\n",
      "│        113.0 │     302588.0 │        0.015 │       0.058 │      10587.8 │       0.011 │        0.042 │\n",
      "│        114.0 │     302588.0 │        0.015 │       0.058 │      10587.8 │       0.011 │        0.042 │\n",
      "│        115.0 │     302588.0 │        0.015 │       0.058 │      10587.8 │       0.011 │        0.042 │\n",
      "│        116.0 │     302588.0 │        0.015 │       0.058 │      10587.8 │       0.011 │        0.042 │\n",
      "│        117.0 │     302588.0 │        0.015 │       0.058 │      10587.8 │       0.011 │        0.042 │\n",
      "│        118.0 │     302588.0 │        0.015 │       0.058 │      10587.8 │       0.011 │        0.042 │\n",
      "│        119.0 │     302588.0 │        0.015 │       0.058 │      10587.8 │       0.011 │        0.042 │\n",
      "│        120.0 │     302588.0 │        0.015 │       0.058 │      10587.8 │       0.011 │        0.042 │\n",
      "│        121.0 │     302588.0 │        0.015 │       0.058 │      10587.8 │       0.011 │        0.042 │\n",
      "│        122.0 │     302588.0 │        0.015 │       0.058 │      10587.8 │       0.011 │        0.042 │\n",
      "│        123.0 │     302588.0 │        0.015 │       0.058 │      10587.8 │       0.011 │        0.042 │\n",
      "│        124.0 │     302588.0 │        0.015 │       0.058 │      10587.8 │       0.011 │        0.042 │\n",
      "│        125.0 │     302588.0 │        0.015 │       0.058 │      10587.8 │       0.011 │        0.042 │\n",
      "│        126.0 │     302588.0 │        0.015 │       0.058 │      10587.8 │       0.011 │        0.042 │\n",
      "│        127.0 │     302588.0 │        0.015 │       0.058 │      10587.8 │       0.011 │        0.042 │\n",
      "│        128.0 │     302588.0 │        0.015 │       0.058 │      10587.8 │       0.011 │        0.042 │\n",
      "│        129.0 │     302588.0 │        0.015 │       0.058 │      10587.8 │       0.011 │        0.042 │\n",
      "│        130.0 │     302588.0 │        0.015 │       0.058 │      10587.8 │       0.011 │        0.042 │\n",
      "│        131.0 │     302588.0 │        0.015 │       0.058 │      10587.8 │       0.011 │        0.042 │\n",
      "│        132.0 │     302588.0 │        0.015 │       0.058 │      10587.8 │       0.011 │        0.042 │\n",
      "│        133.0 │     302588.0 │        0.015 │       0.058 │      10587.8 │       0.011 │        0.042 │\n",
      "│        134.0 │     302588.0 │        0.015 │       0.058 │      10587.8 │       0.011 │        0.042 │\n",
      "│        135.0 │     302588.0 │        0.015 │       0.058 │      10587.8 │       0.011 │        0.042 │\n",
      "│        136.0 │     302588.0 │        0.015 │       0.058 │      10587.8 │       0.011 │        0.042 │\n",
      "│        137.0 │     302588.0 │        0.015 │       0.058 │      10587.8 │       0.011 │        0.042 │\n",
      "│        138.0 │     302588.0 │        0.015 │       0.058 │      10587.8 │       0.011 │        0.042 │\n",
      "│        139.0 │     302588.0 │        0.015 │       0.058 │      10587.8 │       0.011 │        0.042 │\n",
      "│        140.0 │     302588.0 │        0.015 │       0.058 │      10587.8 │       0.011 │        0.042 │\n",
      "│        141.0 │     302588.0 │        0.015 │       0.058 │      10587.8 │       0.011 │        0.042 │\n",
      "│        142.0 │     302588.0 │        0.015 │       0.058 │      10587.8 │       0.011 │        0.042 │\n",
      "│        143.0 │     302588.0 │        0.015 │       0.058 │      10587.8 │       0.011 │        0.042 │\n",
      "│        144.0 │     302588.0 │        0.015 │       0.058 │      10587.8 │       0.011 │        0.042 │\n",
      "│        145.0 │     302588.0 │        0.015 │       0.058 │      10587.8 │       0.011 │        0.042 │\n",
      "│        146.0 │     302588.0 │        0.015 │       0.058 │      10587.8 │       0.011 │        0.042 │\n",
      "│        147.0 │     302588.0 │        0.015 │       0.058 │      10587.8 │       0.011 │        0.042 │\n",
      "│        148.0 │     302588.0 │        0.015 │       0.058 │      10587.8 │       0.011 │        0.042 │\n",
      "│        149.0 │     302588.0 │        0.015 │       0.058 │      10587.8 │       0.011 │        0.042 │\n",
      "│        150.0 │     302588.0 │        0.015 │       0.058 │      10587.8 │       0.011 │        0.042 │\n",
      "│        151.0 │     302588.0 │        0.015 │       0.058 │      10587.8 │       0.011 │        0.042 │\n",
      "│        152.0 │     302588.0 │        0.015 │       0.058 │      10587.8 │       0.011 │        0.042 │\n",
      "│        153.0 │     302588.0 │        0.015 │       0.058 │      10587.8 │       0.011 │        0.042 │\n",
      "│        154.0 │     302588.0 │        0.015 │       0.058 │      10587.8 │       0.011 │        0.042 │\n",
      "│        155.0 │     302588.0 │        0.015 │       0.058 │      10587.8 │       0.011 │        0.042 │\n",
      "│        156.0 │     302588.0 │        0.015 │       0.058 │      10587.8 │       0.011 │        0.042 │\n",
      "│        157.0 │     302588.0 │        0.015 │       0.058 │      10587.8 │       0.011 │        0.042 │\n",
      "│        158.0 │     302588.0 │        0.015 │       0.058 │      10587.8 │       0.011 │        0.042 │\n",
      "│        159.0 │     302588.0 │        0.015 │       0.058 │      10587.8 │       0.011 │        0.042 │\n",
      "│        160.0 │     302588.0 │        0.015 │       0.058 │      10587.8 │       0.011 │        0.042 │\n",
      "│        161.0 │     302588.0 │        0.015 │       0.058 │      10587.8 │       0.011 │        0.042 │\n",
      "│        162.0 │     302588.0 │        0.015 │       0.058 │      10587.8 │       0.011 │        0.042 │\n",
      "│        163.0 │     302588.0 │        0.015 │       0.058 │      10587.8 │       0.011 │        0.042 │\n",
      "│        164.0 │     302588.0 │        0.015 │       0.058 │      10587.8 │       0.011 │        0.042 │\n",
      "│        165.0 │     302588.0 │        0.015 │       0.058 │      10587.8 │       0.011 │        0.042 │\n",
      "│        166.0 │     302588.0 │        0.015 │       0.058 │      10587.8 │       0.011 │        0.042 │\n",
      "│        167.0 │     302588.0 │        0.015 │       0.058 │      10587.8 │       0.011 │        0.042 │\n",
      "│        168.0 │     302588.0 │        0.015 │       0.058 │      10587.8 │       0.011 │        0.042 │\n",
      "│        169.0 │     302588.0 │        0.015 │       0.058 │      10587.8 │       0.011 │        0.042 │\n",
      "│        170.0 │     302588.0 │        0.015 │       0.058 │      10587.8 │       0.011 │        0.042 │\n",
      "│        171.0 │     302588.0 │        0.015 │       0.058 │      10587.8 │       0.011 │        0.042 │\n",
      "│        172.0 │     302588.0 │        0.015 │       0.058 │      10587.8 │       0.011 │        0.042 │\n",
      "│        173.0 │     302588.0 │        0.015 │       0.058 │      10587.8 │       0.011 │        0.042 │\n",
      "│        174.0 │     302588.0 │        0.015 │       0.058 │      10587.8 │       0.011 │        0.042 │\n",
      "│        175.0 │     302588.0 │        0.015 │       0.058 │      10587.8 │       0.011 │        0.042 │\n",
      "│        176.0 │     302588.0 │        0.015 │       0.058 │      10587.8 │       0.011 │        0.042 │\n",
      "│        177.0 │     302588.0 │        0.015 │       0.058 │      10587.8 │       0.011 │        0.042 │\n",
      "│        178.0 │     302588.0 │        0.015 │       0.058 │      10587.8 │       0.011 │        0.042 │\n",
      "│        179.0 │     302588.0 │        0.015 │       0.058 │      10587.8 │       0.011 │        0.042 │\n",
      "│        180.0 │     302588.0 │        0.015 │       0.058 │      10587.8 │       0.011 │        0.042 │\n",
      "│        181.0 │     302588.0 │        0.015 │       0.058 │      10587.8 │       0.011 │        0.042 │\n",
      "│        182.0 │     302588.0 │        0.015 │       0.058 │      10587.8 │       0.011 │        0.042 │\n",
      "│        183.0 │     302588.0 │        0.015 │       0.058 │      10587.8 │       0.011 │        0.042 │\n",
      "│        184.0 │     302588.0 │        0.015 │       0.058 │      10587.8 │       0.011 │        0.042 │\n",
      "│        185.0 │     302588.0 │        0.015 │       0.058 │      10587.8 │       0.011 │        0.042 │\n",
      "│        186.0 │     302588.0 │        0.015 │       0.058 │      10587.8 │       0.011 │        0.042 │\n",
      "│        187.0 │     302588.0 │        0.015 │       0.058 │      10587.8 │       0.011 │        0.042 │\n",
      "│        188.0 │     302588.0 │        0.015 │       0.058 │      10587.8 │       0.011 │        0.042 │\n",
      "│        189.0 │     302588.0 │        0.015 │       0.058 │      10587.8 │       0.011 │        0.042 │\n",
      "│        190.0 │     302588.0 │        0.015 │       0.058 │      10587.8 │       0.011 │        0.042 │\n",
      "│        191.0 │     302588.0 │        0.015 │       0.058 │      10587.8 │       0.011 │        0.042 │\n",
      "│        192.0 │     302588.0 │        0.015 │       0.058 │      10587.8 │       0.011 │        0.042 │\n",
      "│        193.0 │     302588.0 │        0.015 │       0.058 │      10587.8 │       0.011 │        0.042 │\n",
      "│        194.0 │     302588.0 │        0.015 │       0.058 │      10587.8 │       0.011 │        0.042 │\n",
      "│        195.0 │     302588.0 │        0.015 │       0.058 │      10587.8 │       0.011 │        0.042 │\n",
      "│        196.0 │     302588.0 │        0.015 │       0.058 │      10587.8 │       0.011 │        0.042 │\n",
      "│        197.0 │     302588.0 │        0.015 │       0.058 │      10587.8 │       0.011 │        0.042 │\n",
      "│        198.0 │     302588.0 │        0.015 │       0.058 │      10587.8 │       0.011 │        0.042 │\n",
      "│        199.0 │     302588.0 │        0.015 │       0.058 │      10587.8 │       0.011 │        0.042 │\n",
      "│        200.0 │     302588.0 │        0.015 │       0.058 │      10587.8 │       0.011 │        0.042 │\n",
      "│        201.0 │     302588.0 │        0.015 │       0.058 │      10587.8 │       0.011 │        0.042 │\n",
      "│        202.0 │     302588.0 │        0.015 │       0.058 │      10587.8 │       0.011 │        0.042 │\n",
      "│        203.0 │     302588.0 │        0.015 │       0.058 │      10587.8 │       0.011 │        0.042 │\n",
      "│        204.0 │     302588.0 │        0.015 │       0.058 │      10587.8 │       0.011 │        0.042 │\n",
      "│        205.0 │     302588.0 │        0.015 │       0.058 │      10587.8 │       0.011 │        0.042 │\n",
      "│        206.0 │     302588.0 │        0.015 │       0.058 │      10587.8 │       0.011 │        0.042 │\n",
      "│        207.0 │     302588.0 │        0.015 │       0.058 │      10587.8 │       0.011 │        0.042 │\n",
      "│        208.0 │     302588.0 │        0.015 │       0.058 │      10587.8 │       0.011 │        0.042 │\n",
      "│        209.0 │     302588.0 │        0.015 │       0.058 │      10587.8 │       0.011 │        0.042 │\n",
      "│        210.0 │     302588.0 │        0.015 │       0.058 │      10587.8 │       0.011 │        0.042 │\n",
      "│        211.0 │     302588.0 │        0.015 │       0.058 │      10587.8 │       0.011 │        0.042 │\n",
      "│        212.0 │     302588.0 │        0.015 │       0.058 │      10587.8 │       0.011 │        0.042 │\n",
      "│        213.0 │     302588.0 │        0.015 │       0.058 │      10587.8 │       0.011 │        0.042 │\n",
      "│        214.0 │     302588.0 │        0.015 │       0.058 │      10587.8 │       0.011 │        0.042 │\n",
      "│        215.0 │     302588.0 │        0.015 │       0.058 │      10587.8 │       0.011 │        0.042 │\n",
      "│        216.0 │     302588.0 │        0.015 │       0.058 │      10587.8 │       0.011 │        0.042 │\n",
      "│        217.0 │     302588.0 │        0.015 │       0.058 │      10587.8 │       0.011 │        0.042 │\n",
      "│        218.0 │     302588.0 │        0.015 │       0.058 │      10587.8 │       0.011 │        0.042 │\n",
      "│        219.0 │     302588.0 │        0.015 │       0.058 │      10587.8 │       0.011 │        0.042 │\n",
      "│        220.0 │     302588.0 │        0.015 │       0.058 │      10587.8 │       0.011 │        0.042 │\n",
      "│        221.0 │     302588.0 │        0.015 │       0.058 │      10587.8 │       0.011 │        0.042 │\n",
      "│        222.0 │     302588.0 │        0.015 │       0.058 │      10587.8 │       0.011 │        0.042 │\n",
      "│  1.78802e-52 │  4.58998e-72 │  4.26753e-86 │ 5.64351e-38 │ 5.77577e-114 │ 5.00252e228 │ 1.27874e-152 │\n",
      "│  3.29692e-71 │  4.58442e-72 │  3.67061e-62 │ 4.66915e-62 │  1.57186e-76 │  6.0267e175 │  3.99529e252 │\n",
      "│  4.58335e-72 │  3.18374e-71 │  1.03345e-47 │ 4.90856e-62 │  3.29782e-71 │ 3.55761e180 │ 2.56367e-139 │\n",
      "│   5.08202e58 │  4.58442e-72 │  3.50144e-33 │ 7.86051e-67 │  4.58886e-72 │ 9.79528e-67 │ 2.69384e-110 │\n",
      "│ 1.35887e-153 │   5.08566e58 │  1.03345e-47 │ 4.90838e-62 │   6.14525e82 │ 3.55761e180 │  6.08899e-13 │\n",
      "│ 1.50571e-153 │ 1.58058e-153 │ 1.50512e-153 │ 7.86051e-67 │ 1.88124e-153 │ 1.13072e277 │  2.16283e-27 │\n",
      "│  1.72291e-47 │ 1.50571e-153 │ 1.50745e-153 │ 2.75874e-57 │ 1.28312e-153 │ 5.29259e199 │  1.33906e-23 │\n",
      "└──────────────┴──────────────┴──────────────┴─────────────┴──────────────┴─────────────┴──────────────┘\n"
     ]
    }
   ],
   "source": [
    "shares_array=Array{Float64, 2}(undef, trading_days+1, length(w)+1)\n",
    "shares_array[1,1]=0\n",
    "for element in eachindex(tickers)\n",
    "    shares_array[1,element+1]=N_naught[element]\n",
    "end\n",
    "\n",
    "for element in 1:222\n",
    "    n_vector=results[element,:N_updated]\n",
    "    shares_array[element+1,1]=element\n",
    "    for j in eachindex(n_vector)\n",
    "        shares_array[element+1,j+1]=n_vector[j] |> x -> round(x,digits=3)|> abs\n",
    "    end\n",
    "end\n",
    "\n",
    "header_dt=Array{String,1}()\n",
    "push!(header_dt,\"index\")\n",
    "[push!(header_dt, ticker) for ticker in tickers]\n",
    "pretty_table(shares_array, header=header_dt)"
   ]
  },
  {
   "cell_type": "markdown",
   "id": "b3b5cd21-bb87-4bb0-b2e3-29391ba3859f",
   "metadata": {},
   "source": [
    "## Disclaimer and Risks\n",
    "__This content is offered solely for training and  informational purposes__. No offer or solicitation to buy or sell securities or derivative products, or any investment or trading advice or strategy,  is made, given, or endorsed by the teaching team. \n",
    "\n",
    "__Trading involves risk__. Carefully review your financial situation before investing in securities, futures contracts, options, or commodity interests. Past performance, whether actual or indicated by historical tests of strategies, is no guarantee of future performance or success. Trading is generally inappropriate for someone with limited resources, investment or trading experience, or a low-risk tolerance.  Only risk capital that is not required for living expenses.\n",
    "\n",
    "__You are fully responsible for any investment or trading decisions you make__. Such decisions should be based solely on your evaluation of your financial circumstances, investment or trading objectives, risk tolerance, and liquidity needs."
   ]
  }
 ],
 "metadata": {
  "kernelspec": {
   "display_name": "Julia 1.9.2",
   "language": "julia",
   "name": "julia-1.9"
  },
  "language_info": {
   "file_extension": ".jl",
   "mimetype": "application/julia",
   "name": "julia",
   "version": "1.9.2"
  }
 },
 "nbformat": 4,
 "nbformat_minor": 5
}
