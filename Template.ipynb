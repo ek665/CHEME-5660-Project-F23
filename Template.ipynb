{
 "cells": [
  {
   "cell_type": "markdown",
   "id": "80ae6a55-e35b-401a-9fd2-353207a8b340",
   "metadata": {},
   "source": [
    "### Analyzing Investment Portfolios for Ugandan Health Clinics Endownment\n",
    "Investment Portfolio Project, ChemE 5660\n",
    "\n",
    "Chike Murray, Sonny Vo , Erik Kirakosyan"
   ]
  },
  {
   "cell_type": "markdown",
   "id": "cac5eb3a-be19-4274-8400-09af3e83ff21",
   "metadata": {
    "jp-MarkdownHeadingCollapsed": true,
    "tags": []
   },
   "source": [
    "## Setup"
   ]
  },
  {
   "cell_type": "code",
   "execution_count": 2,
   "id": "c428c856-064a-4a35-97bc-800cc0d49a58",
   "metadata": {
    "tags": []
   },
   "outputs": [
    {
     "name": "stderr",
     "output_type": "stream",
     "text": [
      "\u001b[32m\u001b[1m    Updating\u001b[22m\u001b[39m git-repo `https://github.com/varnerlab/VLQuantitativeFinancePackage.jl.git`\n"
     ]
    },
    {
     "name": "stderr",
     "output_type": "stream",
     "text": [
      "\u001b[32m\u001b[1m   Resolving\u001b[22m\u001b[39m package versions...\n"
     ]
    },
    {
     "name": "stderr",
     "output_type": "stream",
     "text": [
      "\u001b[32m\u001b[1m  No Changes\u001b[22m\u001b[39m to `~/Desktop/CHEME-5660-Project-Template-F23/Project.toml`\n",
      "\u001b[32m\u001b[1m  No Changes\u001b[22m\u001b[39m to `~/Desktop/CHEME-5660-Project-Template-F23/Manifest.toml`\n"
     ]
    },
    {
     "name": "stderr",
     "output_type": "stream",
     "text": [
      "\u001b[32m\u001b[1m  Activating\u001b[22m\u001b[39m project at `~/Desktop/CHEME-5660-Project-Template-F23`\n"
     ]
    },
    {
     "name": "stderr",
     "output_type": "stream",
     "text": [
      "\u001b[32m\u001b[1m  No Changes\u001b[22m\u001b[39m to `~/Desktop/CHEME-5660-Project-Template-F23/Project.toml`\n",
      "\u001b[32m\u001b[1m  No Changes\u001b[22m\u001b[39m to `~/Desktop/CHEME-5660-Project-Template-F23/Manifest.toml`\n"
     ]
    },
    {
     "name": "stderr",
     "output_type": "stream",
     "text": [
      "\u001b[32m\u001b[1m    Updating\u001b[22m\u001b[39m registry at `~/.julia/registries/General.toml`\n",
      "\u001b[32m\u001b[1m    Updating\u001b[22m\u001b[39m git-repo `https://github.com/varnerlab/VLQuantitativeFinancePackage.jl.git`\n"
     ]
    },
    {
     "name": "stderr",
     "output_type": "stream",
     "text": [
      "\u001b[32m\u001b[1m  No Changes\u001b[22m\u001b[39m to `~/Desktop/CHEME-5660-Project-Template-F23/Project.toml`\n",
      "\u001b[32m\u001b[1m  No Changes\u001b[22m\u001b[39m to `~/Desktop/CHEME-5660-Project-Template-F23/Manifest.toml`\n"
     ]
    }
   ],
   "source": [
    "include(\"Include.jl\");"
   ]
  },
  {
   "cell_type": "markdown",
   "id": "21519cf1-3079-4a5a-8859-fd21f48bce94",
   "metadata": {
    "jp-MarkdownHeadingCollapsed": true,
    "tags": []
   },
   "source": [
    "## Prerequisites: Load historical dataset, compute expected returns and get 2023 `SPY` data\n",
    "We gathered a daily open-high-low-close `dataset` for each firm in the [S&P500](https://en.wikipedia.org/wiki/S%26P_500) since `01-03-2018` until `12-01-2023`, along with data for a few exchange traded funds and volatility products during that time. "
   ]
  },
  {
   "cell_type": "code",
   "execution_count": 107,
   "id": "79aa4361-4713-47c5-9892-8d822e7aac68",
   "metadata": {
    "tags": []
   },
   "outputs": [],
   "source": [
    "original_dataset = load(joinpath(_PATH_TO_DATA, \n",
    "        \"SP500-Daily-OHLC-1-3-2018-to-12-01-2023.jld2\")) |> x-> x[\"dataset\"];"
   ]
  },
  {
   "cell_type": "markdown",
   "id": "d5567fb5-3688-4fe7-8cc9-201119de77f5",
   "metadata": {},
   "source": [
    "### Clean the data\n",
    "Not all of the tickers in our dataset have the maximum number of trading days for various reasons, e.g., acquistion or de-listing events. Let's collect only those tickers with the maximum number of trading days.\n",
    "\n",
    "* First, let's compute the number of records for a company that we know has a maximim value, e.g., `AAPL` and save that value in the `maximum_number_trading_days` variable:"
   ]
  },
  {
   "cell_type": "code",
   "execution_count": 108,
   "id": "5e88a72f-9231-459a-99bc-f0fdccc6e42d",
   "metadata": {
    "tags": []
   },
   "outputs": [
    {
     "data": {
      "text/plain": [
       "1489"
      ]
     },
     "metadata": {},
     "output_type": "display_data"
    }
   ],
   "source": [
    "maximum_number_trading_days = original_dataset[\"AAPL\"] |> nrow"
   ]
  },
  {
   "cell_type": "markdown",
   "id": "d3b64e6f-3662-48fe-bcec-ba6da19f60f9",
   "metadata": {},
   "source": [
    "Now, lets iterate through our data and collect only those tickers that have `maximum_number_trading_days` records. Save that data in the `dataset::Dict{String,DataFrame}` variable:"
   ]
  },
  {
   "cell_type": "code",
   "execution_count": 109,
   "id": "9b263c2a-7cb2-42ef-a700-b857aeb22f8e",
   "metadata": {
    "tags": []
   },
   "outputs": [
    {
     "data": {
      "text/plain": [
       "Dict{String, DataFrame} with 459 entries:\n",
       "  \"NI\"   => \u001b[1m1489×8 DataFrame\u001b[0m\u001b[0m…\n",
       "  \"EMR\"  => \u001b[1m1489×8 DataFrame\u001b[0m\u001b[0m…\n",
       "  \"CTAS\" => \u001b[1m1489×8 DataFrame\u001b[0m\u001b[0m…\n",
       "  \"HSIC\" => \u001b[1m1489×8 DataFrame\u001b[0m\u001b[0m…\n",
       "  \"KIM\"  => \u001b[1m1489×8 DataFrame\u001b[0m\u001b[0m…\n",
       "  \"PLD\"  => \u001b[1m1489×8 DataFrame\u001b[0m\u001b[0m…\n",
       "  \"IEX\"  => \u001b[1m1489×8 DataFrame\u001b[0m\u001b[0m…\n",
       "  \"BAC\"  => \u001b[1m1489×8 DataFrame\u001b[0m\u001b[0m…\n",
       "  \"CBOE\" => \u001b[1m1489×8 DataFrame\u001b[0m\u001b[0m…\n",
       "  \"EXR\"  => \u001b[1m1489×8 DataFrame\u001b[0m\u001b[0m…\n",
       "  \"NCLH\" => \u001b[1m1489×8 DataFrame\u001b[0m\u001b[0m…\n",
       "  \"CVS\"  => \u001b[1m1489×8 DataFrame\u001b[0m\u001b[0m…\n",
       "  \"DRI\"  => \u001b[1m1489×8 DataFrame\u001b[0m\u001b[0m…\n",
       "  \"DTE\"  => \u001b[1m1489×8 DataFrame\u001b[0m\u001b[0m…\n",
       "  \"ZION\" => \u001b[1m1489×8 DataFrame\u001b[0m\u001b[0m…\n",
       "  \"AVY\"  => \u001b[1m1489×8 DataFrame\u001b[0m\u001b[0m…\n",
       "  \"EW\"   => \u001b[1m1489×8 DataFrame\u001b[0m\u001b[0m…\n",
       "  \"EA\"   => \u001b[1m1489×8 DataFrame\u001b[0m\u001b[0m…\n",
       "  \"NWSA\" => \u001b[1m1489×8 DataFrame\u001b[0m\u001b[0m…\n",
       "  ⋮      => ⋮"
      ]
     },
     "metadata": {},
     "output_type": "display_data"
    }
   ],
   "source": [
    "dataset = Dict{String,DataFrame}();\n",
    "for (ticker,data) ∈ original_dataset\n",
    "    if (nrow(data) == maximum_number_trading_days)\n",
    "        dataset[ticker] = data;\n",
    "    end\n",
    "end\n",
    "dataset"
   ]
  },
  {
   "cell_type": "markdown",
   "id": "5ffb1bec-88c3-4648-b7e9-9b1300504b4a",
   "metadata": {},
   "source": [
    "Let's get a list of firms that we have in cleaned up `dataset`, and save it in the `all_tickers` array:"
   ]
  },
  {
   "cell_type": "code",
   "execution_count": 110,
   "id": "93f5fc90-048c-4e23-83da-8a362b297f77",
   "metadata": {
    "tags": []
   },
   "outputs": [],
   "source": [
    "all_tickers = keys(dataset) |> collect |> sort;\n",
    "K = length(all_tickers);"
   ]
  },
  {
   "cell_type": "markdown",
   "id": "1266557c-c5ce-4c67-9f93-7dcdb3038e26",
   "metadata": {},
   "source": [
    "### Get the 2023 `SPY` data"
   ]
  },
  {
   "cell_type": "code",
   "execution_count": 171,
   "id": "b700d807-61d8-4d3c-8c78-0908bcd81855",
   "metadata": {
    "tags": []
   },
   "outputs": [],
   "source": [
    "startdate = Date(2023,01,03);\n",
    "SPY_dataset = dataset[\"SPY\"];\n",
    "SPY_df = filter(:timestamp => x-> x >= startdate, SPY_dataset);"
   ]
  },
  {
   "cell_type": "markdown",
   "id": "9d07c6db-65c2-424b-878e-652936db2032",
   "metadata": {},
   "source": [
    "### Compute the expected return for all firms in the dataset\n",
    "The expected return $\\mathbb{E}(r_{i})$ and covariance matrix $\\Sigma$ will be used in our calculations, so we'll provide values for both of these items for the entire data set (all `N = 459` tickers), and then you can pick out which tickers you are interested in. \n",
    "\n",
    "* First, we compute the expected (annualized) log return by passing the `dataset` and the entire list of firms we have in the dataset (held in the $N\\times{1}$ `all_array` array) to the `log_return_matrix(...)` method. The result is stored in the `all_firms_return_matrix` variable, a $T-1\\times{N}$ array of log return values. Each row of `all_firms_return_matrix` corresponds to a time-value, while each column corresponds to a firm:"
   ]
  },
  {
   "cell_type": "code",
   "execution_count": 112,
   "id": "870a7ff9-d78c-4313-8e75-92cc67dc0858",
   "metadata": {
    "tags": []
   },
   "outputs": [],
   "source": [
    "all_firms_return_matrix = log_return_matrix(dataset, all_tickers, \n",
    "    Δt = (1.0/252.0), risk_free_rate = 0.0);"
   ]
  },
  {
   "cell_type": "markdown",
   "id": "2347705b-730c-44c2-ab83-4be788669bd9",
   "metadata": {},
   "source": [
    "## Your project starts here ...."
   ]
  },
  {
   "cell_type": "markdown",
   "id": "715b71b0",
   "metadata": {},
   "source": [
    "Selected Portfolio Tickers: \"NVDA\", \"MDT\", \"AMD\", \"PG\", \"MO\", \"PLD\""
   ]
  },
  {
   "cell_type": "markdown",
   "id": "01e616b0",
   "metadata": {},
   "source": [
    "### Statement of Assumptions:\n",
    "\n",
    "Similar to Lab 15b, we need to make assumptions to simplify our financial model. These assumptions are not completely realistic but greatly simplify the underlying math. \n",
    "\n",
    "1: The covariance matrix is constant over the period from 01-03-2018 to 12-01-2023. \n",
    "\n",
    "2: We are not taking into account short term capital gains tax, long term capital gains tax, restrictions on day trading and portfolio reallocation, or other market friction \n",
    "\n",
    "3: We are not taking into account real-world events and their impact on market volatility. "
   ]
  },
  {
   "cell_type": "markdown",
   "id": "b484bcfe",
   "metadata": {},
   "source": [
    "\n",
    "\n",
    "\n",
    "These files are prerequisites for portfolio optimization. "
   ]
  },
  {
   "cell_type": "code",
   "execution_count": 113,
   "id": "06422071",
   "metadata": {},
   "outputs": [
    {
     "data": {
      "text/plain": [
       "1000"
      ]
     },
     "metadata": {},
     "output_type": "display_data"
    }
   ],
   "source": [
    "budget= 1000; #initial grant size\n",
    "#REPLACE"
   ]
  },
  {
   "cell_type": "code",
   "execution_count": 114,
   "id": "f25da994",
   "metadata": {},
   "outputs": [],
   "source": [
    "capital_allocation= load(joinpath(_PATH_TO_DATA,\n",
    "        \"CapitalAllocationLine-cesteam-PD1-CHEME-5660-Fall-2023.jld2\")) |> x-> x[\"dataset\"];\n",
    "             \n",
    "SIMs=load(joinpath(_PATH_TO_DATA, \n",
    "        \"SIMs-cesteam-PD1-CHEME-5660-Fall-2023.jld2\"))|> x-> x[\"sims\"]; "
   ]
  },
  {
   "cell_type": "code",
   "execution_count": 115,
   "id": "eb7b4da1",
   "metadata": {},
   "outputs": [
    {
     "data": {
      "text/html": [
       "<div><div style = \"float: left;\"><span>64×5 DataFrame</span></div><div style = \"float: right;\"><span style = \"font-style: italic;\">39 rows omitted</span></div><div style = \"clear: both;\"></div></div><div class = \"data-frame\" style = \"overflow-x: scroll;\"><table class = \"data-frame\" style = \"margin-bottom: 6px;\"><thead><tr class = \"header\"><th class = \"rowNumber\" style = \"font-weight: bold; text-align: right;\">Row</th><th style = \"text-align: left;\">expected_excess_return</th><th style = \"text-align: left;\">risk</th><th style = \"text-align: left;\">tickers</th><th style = \"text-align: left;\">w</th><th style = \"text-align: left;\">risk_free_rate</th></tr><tr class = \"subheader headerLastRow\"><th class = \"rowNumber\" style = \"font-weight: bold; text-align: right;\"></th><th title = \"Float64\" style = \"text-align: left;\">Float64</th><th title = \"Float64\" style = \"text-align: left;\">Float64</th><th title = \"Vector{String}\" style = \"text-align: left;\">Array…</th><th title = \"Vector{Float64}\" style = \"text-align: left;\">Array…</th><th title = \"Float64\" style = \"text-align: left;\">Float64</th></tr></thead><tbody><tr><td class = \"rowNumber\" style = \"font-weight: bold; text-align: right;\">1</td><td style = \"text-align: right;\">1.43946e-7</td><td style = \"text-align: right;\">0.15205</td><td style = \"text-align: left;\">[&quot;NVDA&quot;, &quot;MDT&quot;, &quot;AMD&quot;, &quot;PG&quot;, &quot;MO&quot;, &quot;PLD&quot;]</td><td style = \"text-align: left;\">[1.25973e-7, 0.163492, 2.041e-7, 0.526952, 0.182744, 0.126812]</td><td style = \"text-align: right;\">0.05</td></tr><tr><td class = \"rowNumber\" style = \"font-weight: bold; text-align: right;\">2</td><td style = \"text-align: right;\">0.00454553</td><td style = \"text-align: right;\">0.152389</td><td style = \"text-align: left;\">[&quot;NVDA&quot;, &quot;MDT&quot;, &quot;AMD&quot;, &quot;PG&quot;, &quot;MO&quot;, &quot;PLD&quot;]</td><td style = \"text-align: left;\">[1.43311e-7, 0.152205, 3.11878e-7, 0.541592, 0.166631, 0.139571]</td><td style = \"text-align: right;\">0.05</td></tr><tr><td class = \"rowNumber\" style = \"font-weight: bold; text-align: right;\">3</td><td style = \"text-align: right;\">0.0090909</td><td style = \"text-align: right;\">0.152906</td><td style = \"text-align: left;\">[&quot;NVDA&quot;, &quot;MDT&quot;, &quot;AMD&quot;, &quot;PG&quot;, &quot;MO&quot;, &quot;PLD&quot;]</td><td style = \"text-align: left;\">[-3.00804e-9, 0.140918, 1.50331e-8, 0.556233, 0.150519, 0.15233]</td><td style = \"text-align: right;\">0.05</td></tr><tr><td class = \"rowNumber\" style = \"font-weight: bold; text-align: right;\">4</td><td style = \"text-align: right;\">0.0136364</td><td style = \"text-align: right;\">0.153602</td><td style = \"text-align: left;\">[&quot;NVDA&quot;, &quot;MDT&quot;, &quot;AMD&quot;, &quot;PG&quot;, &quot;MO&quot;, &quot;PLD&quot;]</td><td style = \"text-align: left;\">[-1.79631e-9, 0.129631, 4.45449e-7, 0.570874, 0.134406, 0.165089]</td><td style = \"text-align: right;\">0.05</td></tr><tr><td class = \"rowNumber\" style = \"font-weight: bold; text-align: right;\">5</td><td style = \"text-align: right;\">0.0181818</td><td style = \"text-align: right;\">0.154445</td><td style = \"text-align: left;\">[&quot;NVDA&quot;, &quot;MDT&quot;, &quot;AMD&quot;, &quot;PG&quot;, &quot;MO&quot;, &quot;PLD&quot;]</td><td style = \"text-align: left;\">[2.12656e-7, 0.120293, 0.00527865, 0.579719, 0.123312, 0.171397]</td><td style = \"text-align: right;\">0.05</td></tr><tr><td class = \"rowNumber\" style = \"font-weight: bold; text-align: right;\">6</td><td style = \"text-align: right;\">0.0227273</td><td style = \"text-align: right;\">0.155387</td><td style = \"text-align: left;\">[&quot;NVDA&quot;, &quot;MDT&quot;, &quot;AMD&quot;, &quot;PG&quot;, &quot;MO&quot;, &quot;PLD&quot;]</td><td style = \"text-align: left;\">[2.38957e-7, 0.111319, 0.0115415, 0.587484, 0.113155, 0.176501]</td><td style = \"text-align: right;\">0.05</td></tr><tr><td class = \"rowNumber\" style = \"font-weight: bold; text-align: right;\">7</td><td style = \"text-align: right;\">0.0272728</td><td style = \"text-align: right;\">0.156426</td><td style = \"text-align: left;\">[&quot;NVDA&quot;, &quot;MDT&quot;, &quot;AMD&quot;, &quot;PG&quot;, &quot;MO&quot;, &quot;PLD&quot;]</td><td style = \"text-align: left;\">[2.55663e-7, 0.102345, 0.0178048, 0.595248, 0.102998, 0.181604]</td><td style = \"text-align: right;\">0.05</td></tr><tr><td class = \"rowNumber\" style = \"font-weight: bold; text-align: right;\">8</td><td style = \"text-align: right;\">0.0318182</td><td style = \"text-align: right;\">0.157558</td><td style = \"text-align: left;\">[&quot;NVDA&quot;, &quot;MDT&quot;, &quot;AMD&quot;, &quot;PG&quot;, &quot;MO&quot;, &quot;PLD&quot;]</td><td style = \"text-align: left;\">[2.86795e-7, 0.0933715, 0.024068, 0.603012, 0.0928404, 0.186708]</td><td style = \"text-align: right;\">0.05</td></tr><tr><td class = \"rowNumber\" style = \"font-weight: bold; text-align: right;\">9</td><td style = \"text-align: right;\">0.0363637</td><td style = \"text-align: right;\">0.158782</td><td style = \"text-align: left;\">[&quot;NVDA&quot;, &quot;MDT&quot;, &quot;AMD&quot;, &quot;PG&quot;, &quot;MO&quot;, &quot;PLD&quot;]</td><td style = \"text-align: left;\">[3.39804e-7, 0.0843978, 0.0303313, 0.610776, 0.0826833, 0.191812]</td><td style = \"text-align: right;\">0.05</td></tr><tr><td class = \"rowNumber\" style = \"font-weight: bold; text-align: right;\">10</td><td style = \"text-align: right;\">0.0409091</td><td style = \"text-align: right;\">0.160096</td><td style = \"text-align: left;\">[&quot;NVDA&quot;, &quot;MDT&quot;, &quot;AMD&quot;, &quot;PG&quot;, &quot;MO&quot;, &quot;PLD&quot;]</td><td style = \"text-align: left;\">[4.54293e-7, 0.0754241, 0.0365946, 0.61854, 0.0725263, 0.196915]</td><td style = \"text-align: right;\">0.05</td></tr><tr><td class = \"rowNumber\" style = \"font-weight: bold; text-align: right;\">11</td><td style = \"text-align: right;\">0.0454546</td><td style = \"text-align: right;\">0.161498</td><td style = \"text-align: left;\">[&quot;NVDA&quot;, &quot;MDT&quot;, &quot;AMD&quot;, &quot;PG&quot;, &quot;MO&quot;, &quot;PLD&quot;]</td><td style = \"text-align: left;\">[7.6666e-7, 0.0664504, 0.0428579, 0.626303, 0.0623692, 0.202018]</td><td style = \"text-align: right;\">0.05</td></tr><tr><td class = \"rowNumber\" style = \"font-weight: bold; text-align: right;\">12</td><td style = \"text-align: right;\">0.05</td><td style = \"text-align: right;\">0.162985</td><td style = \"text-align: left;\">[&quot;NVDA&quot;, &quot;MDT&quot;, &quot;AMD&quot;, &quot;PG&quot;, &quot;MO&quot;, &quot;PLD&quot;]</td><td style = \"text-align: left;\">[1.74786e-6, 0.0574766, 0.0491209, 0.634067, 0.0522123, 0.207121]</td><td style = \"text-align: right;\">0.05</td></tr><tr><td class = \"rowNumber\" style = \"font-weight: bold; text-align: right;\">13</td><td style = \"text-align: right;\">0.0545454</td><td style = \"text-align: right;\">0.164556</td><td style = \"text-align: left;\">[&quot;NVDA&quot;, &quot;MDT&quot;, &quot;AMD&quot;, &quot;PG&quot;, &quot;MO&quot;, &quot;PLD&quot;]</td><td style = \"text-align: left;\">[1.27204e-8, 0.0485029, 0.0553847, 0.641832, 0.0420549, 0.212226]</td><td style = \"text-align: right;\">0.05</td></tr><tr><td style = \"text-align: right;\">&vellip;</td><td style = \"text-align: right;\">&vellip;</td><td style = \"text-align: right;\">&vellip;</td><td style = \"text-align: right;\">&vellip;</td><td style = \"text-align: right;\">&vellip;</td><td style = \"text-align: right;\">&vellip;</td></tr><tr><td class = \"rowNumber\" style = \"font-weight: bold; text-align: right;\">53</td><td style = \"text-align: right;\">0.236364</td><td style = \"text-align: right;\">0.371574</td><td style = \"text-align: left;\">[&quot;NVDA&quot;, &quot;MDT&quot;, &quot;AMD&quot;, &quot;PG&quot;, &quot;MO&quot;, &quot;PLD&quot;]</td><td style = \"text-align: left;\">[0.141533, 6.81412e-9, 0.711405, 0.147061, 1.90065e-9, 2.74445e-7]</td><td style = \"text-align: right;\">0.05</td></tr><tr><td class = \"rowNumber\" style = \"font-weight: bold; text-align: right;\">54</td><td style = \"text-align: right;\">0.240909</td><td style = \"text-align: right;\">0.379082</td><td style = \"text-align: left;\">[&quot;NVDA&quot;, &quot;MDT&quot;, &quot;AMD&quot;, &quot;PG&quot;, &quot;MO&quot;, &quot;PLD&quot;]</td><td style = \"text-align: left;\">[0.14443, 6.5487e-9, 0.729281, 0.126289, 1.69116e-9, 3.09402e-7]</td><td style = \"text-align: right;\">0.05</td></tr><tr><td class = \"rowNumber\" style = \"font-weight: bold; text-align: right;\">55</td><td style = \"text-align: right;\">0.245455</td><td style = \"text-align: right;\">0.386634</td><td style = \"text-align: left;\">[&quot;NVDA&quot;, &quot;MDT&quot;, &quot;AMD&quot;, &quot;PG&quot;, &quot;MO&quot;, &quot;PLD&quot;]</td><td style = \"text-align: left;\">[0.147326, 6.09845e-9, 0.747157, 0.105517, 1.39385e-9, 2.52377e-7]</td><td style = \"text-align: right;\">0.05</td></tr><tr><td class = \"rowNumber\" style = \"font-weight: bold; text-align: right;\">56</td><td style = \"text-align: right;\">0.25</td><td style = \"text-align: right;\">0.394228</td><td style = \"text-align: left;\">[&quot;NVDA&quot;, &quot;MDT&quot;, &quot;AMD&quot;, &quot;PG&quot;, &quot;MO&quot;, &quot;PLD&quot;]</td><td style = \"text-align: left;\">[0.150222, 5.82177e-9, 0.765032, 0.0847452, 1.19816e-9, 2.21852e-7]</td><td style = \"text-align: right;\">0.05</td></tr><tr><td class = \"rowNumber\" style = \"font-weight: bold; text-align: right;\">57</td><td style = \"text-align: right;\">0.254545</td><td style = \"text-align: right;\">0.401862</td><td style = \"text-align: left;\">[&quot;NVDA&quot;, &quot;MDT&quot;, &quot;AMD&quot;, &quot;PG&quot;, &quot;MO&quot;, &quot;PLD&quot;]</td><td style = \"text-align: left;\">[0.153118, -9.48432e-9, 0.782908, 0.0639735, -9.62802e-9, -5.86389e-9]</td><td style = \"text-align: right;\">0.05</td></tr><tr><td class = \"rowNumber\" style = \"font-weight: bold; text-align: right;\">58</td><td style = \"text-align: right;\">0.259091</td><td style = \"text-align: right;\">0.409532</td><td style = \"text-align: left;\">[&quot;NVDA&quot;, &quot;MDT&quot;, &quot;AMD&quot;, &quot;PG&quot;, &quot;MO&quot;, &quot;PLD&quot;]</td><td style = \"text-align: left;\">[0.156015, 2.56889e-9, 0.800784, 0.0432014, -9.29485e-10, 8.82012e-8]</td><td style = \"text-align: right;\">0.05</td></tr><tr><td class = \"rowNumber\" style = \"font-weight: bold; text-align: right;\">59</td><td style = \"text-align: right;\">0.263636</td><td style = \"text-align: right;\">0.417238</td><td style = \"text-align: left;\">[&quot;NVDA&quot;, &quot;MDT&quot;, &quot;AMD&quot;, &quot;PG&quot;, &quot;MO&quot;, &quot;PLD&quot;]</td><td style = \"text-align: left;\">[0.158911, 2.23432e-9, 0.81866, 0.0224295, -1.16713e-9, 8.33052e-8]</td><td style = \"text-align: right;\">0.05</td></tr><tr><td class = \"rowNumber\" style = \"font-weight: bold; text-align: right;\">60</td><td style = \"text-align: right;\">0.268182</td><td style = \"text-align: right;\">0.424977</td><td style = \"text-align: left;\">[&quot;NVDA&quot;, &quot;MDT&quot;, &quot;AMD&quot;, &quot;PG&quot;, &quot;MO&quot;, &quot;PLD&quot;]</td><td style = \"text-align: left;\">[0.161799, 1.91677e-9, 0.836539, 0.00166229, -1.39287e-9, 7.88702e-8]</td><td style = \"text-align: right;\">0.05</td></tr><tr><td class = \"rowNumber\" style = \"font-weight: bold; text-align: right;\">61</td><td style = \"text-align: right;\">0.272727</td><td style = \"text-align: right;\">0.432934</td><td style = \"text-align: left;\">[&quot;NVDA&quot;, &quot;MDT&quot;, &quot;AMD&quot;, &quot;PG&quot;, &quot;MO&quot;, &quot;PLD&quot;]</td><td style = \"text-align: left;\">[0.131613, 4.35546e-10, 0.868387, 1.54063e-7, -2.3775e-9, 4.73857e-8]</td><td style = \"text-align: right;\">0.05</td></tr><tr><td class = \"rowNumber\" style = \"font-weight: bold; text-align: right;\">62</td><td style = \"text-align: right;\">0.277273</td><td style = \"text-align: right;\">0.441343</td><td style = \"text-align: left;\">[&quot;NVDA&quot;, &quot;MDT&quot;, &quot;AMD&quot;, &quot;PG&quot;, &quot;MO&quot;, &quot;PLD&quot;]</td><td style = \"text-align: left;\">[0.098549, -7.05763e-10, 0.901451, 1.20094e-7, -3.16073e-9, 3.73751e-8]</td><td style = \"text-align: right;\">0.05</td></tr><tr><td class = \"rowNumber\" style = \"font-weight: bold; text-align: right;\">63</td><td style = \"text-align: right;\">0.281818</td><td style = \"text-align: right;\">0.450181</td><td style = \"text-align: left;\">[&quot;NVDA&quot;, &quot;MDT&quot;, &quot;AMD&quot;, &quot;PG&quot;, &quot;MO&quot;, &quot;PLD&quot;]</td><td style = \"text-align: left;\">[0.0654855, -1.74746e-9, 0.934514, 4.04102e-8, -3.86976e-9, 2.29039e-8]</td><td style = \"text-align: right;\">0.05</td></tr><tr><td class = \"rowNumber\" style = \"font-weight: bold; text-align: right;\">64</td><td style = \"text-align: right;\">0.286364</td><td style = \"text-align: right;\">0.459423</td><td style = \"text-align: left;\">[&quot;NVDA&quot;, &quot;MDT&quot;, &quot;AMD&quot;, &quot;PG&quot;, &quot;MO&quot;, &quot;PLD&quot;]</td><td style = \"text-align: left;\">[0.0324218, -2.49946e-9, 0.967578, 2.916e-8, -4.39824e-9, 1.76938e-8]</td><td style = \"text-align: right;\">0.05</td></tr></tbody></table></div>"
      ],
      "text/latex": [
       "\\begin{tabular}{r|ccccc}\n",
       "\t& expected\\_excess\\_return & risk & tickers & w & \\\\\n",
       "\t\\hline\n",
       "\t& Float64 & Float64 & Array… & Array… & \\\\\n",
       "\t\\hline\n",
       "\t1 & 1.43946e-7 & 0.15205 & [\"NVDA\", \"MDT\", \"AMD\", \"PG\", \"MO\", \"PLD\"] & [1.25973e-7, 0.163492, 2.041e-7, 0.526952, 0.182744, 0.126812] & $\\dots$ \\\\\n",
       "\t2 & 0.00454553 & 0.152389 & [\"NVDA\", \"MDT\", \"AMD\", \"PG\", \"MO\", \"PLD\"] & [1.43311e-7, 0.152205, 3.11878e-7, 0.541592, 0.166631, 0.139571] & $\\dots$ \\\\\n",
       "\t3 & 0.0090909 & 0.152906 & [\"NVDA\", \"MDT\", \"AMD\", \"PG\", \"MO\", \"PLD\"] & [-3.00804e-9, 0.140918, 1.50331e-8, 0.556233, 0.150519, 0.15233] & $\\dots$ \\\\\n",
       "\t4 & 0.0136364 & 0.153602 & [\"NVDA\", \"MDT\", \"AMD\", \"PG\", \"MO\", \"PLD\"] & [-1.79631e-9, 0.129631, 4.45449e-7, 0.570874, 0.134406, 0.165089] & $\\dots$ \\\\\n",
       "\t5 & 0.0181818 & 0.154445 & [\"NVDA\", \"MDT\", \"AMD\", \"PG\", \"MO\", \"PLD\"] & [2.12656e-7, 0.120293, 0.00527865, 0.579719, 0.123312, 0.171397] & $\\dots$ \\\\\n",
       "\t6 & 0.0227273 & 0.155387 & [\"NVDA\", \"MDT\", \"AMD\", \"PG\", \"MO\", \"PLD\"] & [2.38957e-7, 0.111319, 0.0115415, 0.587484, 0.113155, 0.176501] & $\\dots$ \\\\\n",
       "\t7 & 0.0272728 & 0.156426 & [\"NVDA\", \"MDT\", \"AMD\", \"PG\", \"MO\", \"PLD\"] & [2.55663e-7, 0.102345, 0.0178048, 0.595248, 0.102998, 0.181604] & $\\dots$ \\\\\n",
       "\t8 & 0.0318182 & 0.157558 & [\"NVDA\", \"MDT\", \"AMD\", \"PG\", \"MO\", \"PLD\"] & [2.86795e-7, 0.0933715, 0.024068, 0.603012, 0.0928404, 0.186708] & $\\dots$ \\\\\n",
       "\t9 & 0.0363637 & 0.158782 & [\"NVDA\", \"MDT\", \"AMD\", \"PG\", \"MO\", \"PLD\"] & [3.39804e-7, 0.0843978, 0.0303313, 0.610776, 0.0826833, 0.191812] & $\\dots$ \\\\\n",
       "\t10 & 0.0409091 & 0.160096 & [\"NVDA\", \"MDT\", \"AMD\", \"PG\", \"MO\", \"PLD\"] & [4.54293e-7, 0.0754241, 0.0365946, 0.61854, 0.0725263, 0.196915] & $\\dots$ \\\\\n",
       "\t11 & 0.0454546 & 0.161498 & [\"NVDA\", \"MDT\", \"AMD\", \"PG\", \"MO\", \"PLD\"] & [7.6666e-7, 0.0664504, 0.0428579, 0.626303, 0.0623692, 0.202018] & $\\dots$ \\\\\n",
       "\t12 & 0.05 & 0.162985 & [\"NVDA\", \"MDT\", \"AMD\", \"PG\", \"MO\", \"PLD\"] & [1.74786e-6, 0.0574766, 0.0491209, 0.634067, 0.0522123, 0.207121] & $\\dots$ \\\\\n",
       "\t13 & 0.0545454 & 0.164556 & [\"NVDA\", \"MDT\", \"AMD\", \"PG\", \"MO\", \"PLD\"] & [1.27204e-8, 0.0485029, 0.0553847, 0.641832, 0.0420549, 0.212226] & $\\dots$ \\\\\n",
       "\t14 & 0.0590909 & 0.166207 & [\"NVDA\", \"MDT\", \"AMD\", \"PG\", \"MO\", \"PLD\"] & [6.52009e-7, 0.0395293, 0.061648, 0.649595, 0.031898, 0.217329] & $\\dots$ \\\\\n",
       "\t15 & 0.0636364 & 0.167937 & [\"NVDA\", \"MDT\", \"AMD\", \"PG\", \"MO\", \"PLD\"] & [1.033e-6, 0.0305555, 0.0679113, 0.657359, 0.021741, 0.222432] & $\\dots$ \\\\\n",
       "\t16 & 0.0681818 & 0.169742 & [\"NVDA\", \"MDT\", \"AMD\", \"PG\", \"MO\", \"PLD\"] & [4.31921e-6, 0.0215812, 0.0741738, 0.665122, 0.0115848, 0.227534] & $\\dots$ \\\\\n",
       "\t17 & 0.0727273 & 0.171621 & [\"NVDA\", \"MDT\", \"AMD\", \"PG\", \"MO\", \"PLD\"] & [5.86539e-8, 0.0126047, 0.0804391, 0.672887, 0.0014299, 0.232639] & $\\dots$ \\\\\n",
       "\t18 & 0.0772727 & 0.173601 & [\"NVDA\", \"MDT\", \"AMD\", \"PG\", \"MO\", \"PLD\"] & [2.52499e-5, 2.01983e-6, 0.0920459, 0.674612, 8.68283e-7, 0.233314] & $\\dots$ \\\\\n",
       "\t19 & 0.0818182 & 0.17588 & [\"NVDA\", \"MDT\", \"AMD\", \"PG\", \"MO\", \"PLD\"] & [0.00379627, 4.26132e-7, 0.110041, 0.663569, 2.62799e-7, 0.222593] & $\\dots$ \\\\\n",
       "\t20 & 0.0863636 & 0.178501 & [\"NVDA\", \"MDT\", \"AMD\", \"PG\", \"MO\", \"PLD\"] & [0.00866003, 2.34602e-7, 0.127596, 0.652313, 1.51928e-7, 0.211431] & $\\dots$ \\\\\n",
       "\t21 & 0.0909091 & 0.181448 & [\"NVDA\", \"MDT\", \"AMD\", \"PG\", \"MO\", \"PLD\"] & [0.0135231, 1.59962e-7, 0.145151, 0.641057, 1.05135e-7, 0.200269] & $\\dots$ \\\\\n",
       "\t22 & 0.0954545 & 0.184706 & [\"NVDA\", \"MDT\", \"AMD\", \"PG\", \"MO\", \"PLD\"] & [0.018388, -4.8032e-9, 0.162705, 0.629801, -6.43572e-9, 0.189106] & $\\dots$ \\\\\n",
       "\t23 & 0.1 & 0.188258 & [\"NVDA\", \"MDT\", \"AMD\", \"PG\", \"MO\", \"PLD\"] & [0.0232545, 9.55432e-8, 0.180259, 0.618544, 6.29675e-8, 0.177943] & $\\dots$ \\\\\n",
       "\t24 & 0.104545 & 0.192089 & [\"NVDA\", \"MDT\", \"AMD\", \"PG\", \"MO\", \"PLD\"] & [0.0281196, 7.8731e-8, 0.197813, 0.607287, 5.1671e-8, 0.16678] & $\\dots$ \\\\\n",
       "\t$\\dots$ & $\\dots$ & $\\dots$ & $\\dots$ & $\\dots$ &  \\\\\n",
       "\\end{tabular}\n"
      ],
      "text/plain": [
       "\u001b[1m64×5 DataFrame\u001b[0m\n",
       "\u001b[1m Row \u001b[0m│\u001b[1m expected_excess_return \u001b[0m\u001b[1m risk     \u001b[0m\u001b[1m tickers                           \u001b[0m\u001b[1m w \u001b[0m ⋯\n",
       "     │\u001b[90m Float64                \u001b[0m\u001b[90m Float64  \u001b[0m\u001b[90m Array…                            \u001b[0m\u001b[90m Ar\u001b[0m ⋯\n",
       "─────┼──────────────────────────────────────────────────────────────────────────\n",
       "   1 │             1.43946e-7  0.15205   [\"NVDA\", \"MDT\", \"AMD\", \"PG\", \"MO…  [1 ⋯\n",
       "   2 │             0.00454553  0.152389  [\"NVDA\", \"MDT\", \"AMD\", \"PG\", \"MO…  [1\n",
       "   3 │             0.0090909   0.152906  [\"NVDA\", \"MDT\", \"AMD\", \"PG\", \"MO…  [-\n",
       "   4 │             0.0136364   0.153602  [\"NVDA\", \"MDT\", \"AMD\", \"PG\", \"MO…  [-\n",
       "   5 │             0.0181818   0.154445  [\"NVDA\", \"MDT\", \"AMD\", \"PG\", \"MO…  [2 ⋯\n",
       "   6 │             0.0227273   0.155387  [\"NVDA\", \"MDT\", \"AMD\", \"PG\", \"MO…  [2\n",
       "   7 │             0.0272728   0.156426  [\"NVDA\", \"MDT\", \"AMD\", \"PG\", \"MO…  [2\n",
       "   8 │             0.0318182   0.157558  [\"NVDA\", \"MDT\", \"AMD\", \"PG\", \"MO…  [2\n",
       "  ⋮  │           ⋮                ⋮                      ⋮                     ⋱\n",
       "  58 │             0.259091    0.409532  [\"NVDA\", \"MDT\", \"AMD\", \"PG\", \"MO…  [0 ⋯\n",
       "  59 │             0.263636    0.417238  [\"NVDA\", \"MDT\", \"AMD\", \"PG\", \"MO…  [0\n",
       "  60 │             0.268182    0.424977  [\"NVDA\", \"MDT\", \"AMD\", \"PG\", \"MO…  [0\n",
       "  61 │             0.272727    0.432934  [\"NVDA\", \"MDT\", \"AMD\", \"PG\", \"MO…  [0\n",
       "  62 │             0.277273    0.441343  [\"NVDA\", \"MDT\", \"AMD\", \"PG\", \"MO…  [0 ⋯\n",
       "  63 │             0.281818    0.450181  [\"NVDA\", \"MDT\", \"AMD\", \"PG\", \"MO…  [0\n",
       "  64 │             0.286364    0.459423  [\"NVDA\", \"MDT\", \"AMD\", \"PG\", \"MO…  [0\n",
       "\u001b[36m                                                   2 columns and 49 rows omitted\u001b[0m"
      ]
     },
     "metadata": {},
     "output_type": "display_data"
    }
   ],
   "source": [
    "efficient_frontier = load(joinpath(_PATH_TO_DATA,\n",
    "        \"EfficientFrontier-cesteam-PD1-CHEME-5660-Fall-2023.jld2\")) |> x->x[\"dataset\"]"
   ]
  },
  {
   "cell_type": "markdown",
   "id": "972ea748",
   "metadata": {},
   "source": [
    "### Task One: Initial Allocation"
   ]
  },
  {
   "cell_type": "code",
   "execution_count": 116,
   "id": "7d160162",
   "metadata": {},
   "outputs": [
    {
     "data": {
      "text/plain": [
       "(0.2863636276792971, 64)"
      ]
     },
     "metadata": {},
     "output_type": "display_data"
    }
   ],
   "source": [
    "#Find the portfolio with the maximum expected excess returns\n",
    "\n",
    "findmax(efficient_frontier[!,\"expected_excess_return\"])"
   ]
  },
  {
   "cell_type": "markdown",
   "id": "d555e38d",
   "metadata": {},
   "source": [
    "We will use Portfolio 64. Using results from Lab 15b, we can find what is in this portfolio by sampling the array generated above "
   ]
  },
  {
   "cell_type": "code",
   "execution_count": 117,
   "id": "db2eb8eb",
   "metadata": {},
   "outputs": [
    {
     "name": "stdout",
     "output_type": "stream",
     "text": [
      "Portfolio #64 has an exected excess return of 0.2863636276792971 with risk = 0.4594230792505488. \n",
      "The risk free rate is 0.05%.\n"
     ]
    }
   ],
   "source": [
    "portfolio=64;\n",
    "expected_excess_return=efficient_frontier[portfolio, :expected_excess_return]\n",
    "risk=efficient_frontier[portfolio, :risk]\n",
    "tickers=efficient_frontier[portfolio, :tickers]\n",
    "w=efficient_frontier[portfolio, :w]\n",
    "risk_free_rate=efficient_frontier[portfolio, :risk_free_rate]\n",
    "\n",
    "println(\"Portfolio #$(portfolio) has an exected excess return of $(expected_excess_return) with risk = $(risk). \n",
    "The risk free rate is $(risk_free_rate)%.\")"
   ]
  },
  {
   "cell_type": "code",
   "execution_count": 118,
   "id": "91e5c537",
   "metadata": {},
   "outputs": [
    {
     "name": "stdout",
     "output_type": "stream",
     "text": [
      "NVDA forms 3.2421779736775127% of our portfolio\n",
      "MDT forms 0% of our portfolio\n",
      "AMD forms 96.75781803071864% of our portfolio\n",
      "PG forms 0% of our portfolio\n",
      "MO forms 0% of our portfolio\n",
      "PLD forms 0% of our portfolio\n"
     ]
    },
    {
     "data": {
      "text/html": [
       "<div><div style = \"float: left;\"><span>6×2 DataFrame</span></div><div style = \"clear: both;\"></div></div><div class = \"data-frame\" style = \"overflow-x: scroll;\"><table class = \"data-frame\" style = \"margin-bottom: 6px;\"><thead><tr class = \"header\"><th class = \"rowNumber\" style = \"font-weight: bold; text-align: right;\">Row</th><th style = \"text-align: left;\">tick</th><th style = \"text-align: left;\">alloc</th></tr><tr class = \"subheader headerLastRow\"><th class = \"rowNumber\" style = \"font-weight: bold; text-align: right;\"></th><th title = \"String\" style = \"text-align: left;\">String</th><th title = \"Float64\" style = \"text-align: left;\">Float64</th></tr></thead><tbody><tr><td class = \"rowNumber\" style = \"font-weight: bold; text-align: right;\">1</td><td style = \"text-align: left;\">NVDA</td><td style = \"text-align: right;\">0.0324218</td></tr><tr><td class = \"rowNumber\" style = \"font-weight: bold; text-align: right;\">2</td><td style = \"text-align: left;\">MDT</td><td style = \"text-align: right;\">-2.49946e-9</td></tr><tr><td class = \"rowNumber\" style = \"font-weight: bold; text-align: right;\">3</td><td style = \"text-align: left;\">AMD</td><td style = \"text-align: right;\">0.967578</td></tr><tr><td class = \"rowNumber\" style = \"font-weight: bold; text-align: right;\">4</td><td style = \"text-align: left;\">PG</td><td style = \"text-align: right;\">2.916e-8</td></tr><tr><td class = \"rowNumber\" style = \"font-weight: bold; text-align: right;\">5</td><td style = \"text-align: left;\">MO</td><td style = \"text-align: right;\">-4.39824e-9</td></tr><tr><td class = \"rowNumber\" style = \"font-weight: bold; text-align: right;\">6</td><td style = \"text-align: left;\">PLD</td><td style = \"text-align: right;\">1.76938e-8</td></tr></tbody></table></div>"
      ],
      "text/latex": [
       "\\begin{tabular}{r|cc}\n",
       "\t& tick & alloc\\\\\n",
       "\t\\hline\n",
       "\t& String & Float64\\\\\n",
       "\t\\hline\n",
       "\t1 & NVDA & 0.0324218 \\\\\n",
       "\t2 & MDT & -2.49946e-9 \\\\\n",
       "\t3 & AMD & 0.967578 \\\\\n",
       "\t4 & PG & 2.916e-8 \\\\\n",
       "\t5 & MO & -4.39824e-9 \\\\\n",
       "\t6 & PLD & 1.76938e-8 \\\\\n",
       "\\end{tabular}\n"
      ],
      "text/plain": [
       "\u001b[1m6×2 DataFrame\u001b[0m\n",
       "\u001b[1m Row \u001b[0m│\u001b[1m tick   \u001b[0m\u001b[1m alloc       \u001b[0m\n",
       "     │\u001b[90m String \u001b[0m\u001b[90m Float64     \u001b[0m\n",
       "─────┼─────────────────────\n",
       "   1 │ NVDA     0.0324218\n",
       "   2 │ MDT     -2.49946e-9\n",
       "   3 │ AMD      0.967578\n",
       "   4 │ PG       2.916e-8\n",
       "   5 │ MO      -4.39824e-9\n",
       "   6 │ PLD      1.76938e-8"
      ]
     },
     "metadata": {},
     "output_type": "display_data"
    }
   ],
   "source": [
    "i=0\n",
    "for item in efficient_frontier[portfolio, :tickers]\n",
    "    i+=1\n",
    "    if w[i]<0.00001\n",
    "        weight=0 \n",
    "    else\n",
    "        weight=w[i]*100\n",
    "    end\n",
    "    println(\"$item forms $weight% of our portfolio\")\n",
    "end\n",
    "\n",
    "#Now put into dataframe form, similar to Lab15b. Adjust values that are low (aribtary) to 0% allocation\n",
    "\n",
    "new_df=DataFrame();\n",
    "for element in eachindex(w)\n",
    "    weight_element=w[element]\n",
    "    row_df=(\n",
    "        tick=tickers[element],\n",
    "        alloc=weight_element\n",
    "    )\n",
    "    push!(new_df, row_df)\n",
    "end\n",
    "\n",
    "\n",
    "new_df"
   ]
  },
  {
   "cell_type": "markdown",
   "id": "0c17aa64",
   "metadata": {},
   "source": [
    "We now need to know how many shares we purchased of each stock:"
   ]
  },
  {
   "cell_type": "code",
   "execution_count": 119,
   "id": "73aa9f94",
   "metadata": {},
   "outputs": [
    {
     "data": {
      "text/plain": [
       "6-element Vector{Float64}:\n",
       " 143.15\n",
       "  78.26\n",
       "  64.02\n",
       " 151.57\n",
       "  45.52\n",
       " 112.69"
      ]
     },
     "metadata": {},
     "output_type": "display_data"
    }
   ],
   "source": [
    "# From Lab15b\n",
    "price_initial=Array{Float64,1}();\n",
    "for stock in tickers\n",
    "    price_df=dataset[stock]\n",
    "    price=filter(:timestamp=> y-> y>= startdate, price_df) |> y-> y[1,:close]\n",
    "    push!(price_initial, price)\n",
    "end\n",
    "\n",
    "price_initial"
   ]
  },
  {
   "cell_type": "code",
   "execution_count": 120,
   "id": "efc332f4",
   "metadata": {},
   "outputs": [],
   "source": [
    "i=0\n",
    "weight_initial=Array{Float64,1}();\n",
    "for item in efficient_frontier[portfolio, :tickers]\n",
    "    i+=1\n",
    "    if w[i]<0.00001\n",
    "        weight=0 \n",
    "        push!(weight_initial, weight)\n",
    "    else\n",
    "        weight=w[i]\n",
    "    push!(weight_initial, weight)\n",
    "    end\n",
    "end"
   ]
  },
  {
   "cell_type": "code",
   "execution_count": 121,
   "id": "b1849e56",
   "metadata": {},
   "outputs": [
    {
     "name": "stdout",
     "output_type": "stream",
     "text": [
      "For ticker NVDA, we will allocate 32.42177973677512 to purchase 0.22648815743468473 shares\n",
      "For ticker MDT, we will allocate 0.0 to purchase 0.0 shares\n",
      "For ticker AMD, we will allocate 967.5781803071864 to purchase 15.113686040412158 shares\n",
      "For ticker PG, we will allocate 0.0 to purchase 0.0 shares\n",
      "For ticker MO, we will allocate 0.0 to purchase 0.0 shares\n",
      "For ticker PLD, we will allocate 0.0 to purchase 0.0 shares\n"
     ]
    },
    {
     "data": {
      "text/plain": [
       "6-element Vector{Float64}:\n",
       "  0.22648815743468473\n",
       "  0.0\n",
       " 15.113686040412158\n",
       "  0.0\n",
       "  0.0\n",
       "  0.0"
      ]
     },
     "metadata": {},
     "output_type": "display_data"
    }
   ],
   "source": [
    "tickers_df = efficient_frontier[portfolio, :tickers];\n",
    "m=0\n",
    "for i in efficient_frontier[portfolio, :tickers]\n",
    "    m+=1\n",
    "    allocate=budget*weight_initial[m]\n",
    "    shares=allocate/price_initial[m]\n",
    "    println(\"For ticker $i, we will allocate $allocate to purchase $shares shares\")\n",
    "end\n",
    "\n",
    "shares_initial=Array{Float64, 1}()\n",
    "for element in eachindex(w) \n",
    "    w_naught=w[element]\n",
    "    if w_naught<0.0001\n",
    "        n_naught=0.0\n",
    "    else\n",
    "        n_naught=(w_naught*budget)/price_initial[element]\n",
    "    end\n",
    "    push!(shares_initial,n_naught)\n",
    "end\n",
    "\n",
    "shares_initial"
   ]
  },
  {
   "cell_type": "code",
   "execution_count": 122,
   "id": "bfb21c02",
   "metadata": {},
   "outputs": [
    {
     "data": {
      "text/html": [
       "<div><div style = \"float: left;\"><span>6×2 DataFrame</span></div><div style = \"clear: both;\"></div></div><div class = \"data-frame\" style = \"overflow-x: scroll;\"><table class = \"data-frame\" style = \"margin-bottom: 6px;\"><thead><tr class = \"header\"><th class = \"rowNumber\" style = \"font-weight: bold; text-align: right;\">Row</th><th style = \"text-align: left;\">tick</th><th style = \"text-align: left;\">alloc</th></tr><tr class = \"subheader headerLastRow\"><th class = \"rowNumber\" style = \"font-weight: bold; text-align: right;\"></th><th title = \"String\" style = \"text-align: left;\">String</th><th title = \"Float64\" style = \"text-align: left;\">Float64</th></tr></thead><tbody><tr><td class = \"rowNumber\" style = \"font-weight: bold; text-align: right;\">1</td><td style = \"text-align: left;\">NVDA</td><td style = \"text-align: right;\">0.0324218</td></tr><tr><td class = \"rowNumber\" style = \"font-weight: bold; text-align: right;\">2</td><td style = \"text-align: left;\">MDT</td><td style = \"text-align: right;\">-2.49946e-9</td></tr><tr><td class = \"rowNumber\" style = \"font-weight: bold; text-align: right;\">3</td><td style = \"text-align: left;\">AMD</td><td style = \"text-align: right;\">0.967578</td></tr><tr><td class = \"rowNumber\" style = \"font-weight: bold; text-align: right;\">4</td><td style = \"text-align: left;\">PG</td><td style = \"text-align: right;\">2.916e-8</td></tr><tr><td class = \"rowNumber\" style = \"font-weight: bold; text-align: right;\">5</td><td style = \"text-align: left;\">MO</td><td style = \"text-align: right;\">-4.39824e-9</td></tr><tr><td class = \"rowNumber\" style = \"font-weight: bold; text-align: right;\">6</td><td style = \"text-align: left;\">PLD</td><td style = \"text-align: right;\">1.76938e-8</td></tr></tbody></table></div>"
      ],
      "text/latex": [
       "\\begin{tabular}{r|cc}\n",
       "\t& tick & alloc\\\\\n",
       "\t\\hline\n",
       "\t& String & Float64\\\\\n",
       "\t\\hline\n",
       "\t1 & NVDA & 0.0324218 \\\\\n",
       "\t2 & MDT & -2.49946e-9 \\\\\n",
       "\t3 & AMD & 0.967578 \\\\\n",
       "\t4 & PG & 2.916e-8 \\\\\n",
       "\t5 & MO & -4.39824e-9 \\\\\n",
       "\t6 & PLD & 1.76938e-8 \\\\\n",
       "\\end{tabular}\n"
      ],
      "text/plain": [
       "\u001b[1m6×2 DataFrame\u001b[0m\n",
       "\u001b[1m Row \u001b[0m│\u001b[1m tick   \u001b[0m\u001b[1m alloc       \u001b[0m\n",
       "     │\u001b[90m String \u001b[0m\u001b[90m Float64     \u001b[0m\n",
       "─────┼─────────────────────\n",
       "   1 │ NVDA     0.0324218\n",
       "   2 │ MDT     -2.49946e-9\n",
       "   3 │ AMD      0.967578\n",
       "   4 │ PG       2.916e-8\n",
       "   5 │ MO      -4.39824e-9\n",
       "   6 │ PLD      1.76938e-8"
      ]
     },
     "metadata": {},
     "output_type": "display_data"
    }
   ],
   "source": [
    "new_df"
   ]
  },
  {
   "cell_type": "markdown",
   "id": "089e2be2",
   "metadata": {},
   "source": [
    "### Task Two: Ongoing Reallocation & Visualization"
   ]
  },
  {
   "cell_type": "code",
   "execution_count": 123,
   "id": "8e71c061",
   "metadata": {},
   "outputs": [],
   "source": [
    "trading_days= 229 # Difference between Jan 3 and Dec 1 of 2023, with weekends and holidays removed\n",
    "learning_rate= 0.02 \n",
    "μ = mean(all_firms_return_matrix, dims=1) |> vec;"
   ]
  },
  {
   "cell_type": "code",
   "execution_count": 124,
   "id": "c40e7a69",
   "metadata": {},
   "outputs": [
    {
     "data": {
      "text/plain": [
       "459-element Vector{Float64}:\n",
       "  0.09520873574379649\n",
       " -0.2162080717392586\n",
       " -0.10794226443585754\n",
       "  0.22836905773049826\n",
       "  0.056004266937846665\n",
       "  0.088632152841437\n",
       "  0.11998872149267306\n",
       "  0.18737259050359928\n",
       "  0.10723986668572992\n",
       "  0.09707314536665643\n",
       "  ⋮\n",
       "  0.038211698941704515\n",
       "  0.027798995465313416\n",
       " -0.11173255715563579\n",
       "  0.06674886823579393\n",
       "  0.06790561918886862\n",
       " -0.009395334482788936\n",
       "  0.12703582210102957\n",
       " -0.04403739223114084\n",
       "  0.13973799380763502"
      ]
     },
     "metadata": {},
     "output_type": "display_data"
    }
   ],
   "source": [
    "return_all= log_return_matrix(dataset, all_tickers, \n",
    "    Δt = (1.0/229));\n",
    "\n",
    "μ=mean(return_all, dims=1)|> vec"
   ]
  },
  {
   "cell_type": "code",
   "execution_count": 125,
   "id": "89eef7c1",
   "metadata": {},
   "outputs": [
    {
     "data": {
      "text/plain": [
       "459×459 Matrix{Float64}:\n",
       "   1.10188e-316    0.0           …  0.0        0.0        0.0\n",
       "   0.0             0.0              0.0        0.0        0.0\n",
       "   0.0             0.0              0.0        0.0        0.0\n",
       "   0.0             0.0              0.0        0.0        0.0\n",
       "   2.34434e-316    1.04465e-316     0.0        0.0        0.0\n",
       "   0.0260246       0.0430559     …  0.0334263  0.0302624  0.0254935\n",
       "   9.52399e-317    0.0              0.0        0.0        0.0\n",
       "   0.0             0.0              0.0        0.0        0.0\n",
       " NaN             NaN                0.0        0.0        0.0\n",
       "   1.10188e-316    2.41041e-316     0.0        0.0        0.0\n",
       "   ⋮                             ⋱                        \n",
       "   0.0             2.41039e-316  …  0.0        0.0        0.0\n",
       "   0.0             0.0              0.0        0.0        0.0\n",
       "   0.0             0.0              0.0        0.0        0.0\n",
       "   0.0             0.0              0.0        0.0        0.0\n",
       "   1.04465e-316    1.04465e-316     0.0        0.0        0.0\n",
       "   1.04464e-316    9.36873e-317  …  0.0        0.0        0.0\n",
       "   0.0             0.0              0.0        0.0        0.0\n",
       "   0.0             0.0              0.0        0.0        0.0\n",
       " NaN             NaN                0.0        0.0        0.0"
      ]
     },
     "metadata": {},
     "output_type": "display_data"
    }
   ],
   "source": [
    "# Σ_sim from Lab15b, covariance array between tickers \n",
    "spy_index=findfirst(e->e==\"SPY\",all_tickers)\n",
    "sigma_m=std(return_all[:,spy_index])\n",
    "Σ_empty=Array{Float64,2}(undef, length(μ), length(μ))\n",
    "for item in eachindex(all_tickers)\n",
    "    outers=all_tickers[item]\n",
    "    simulate_outside=SIMs[outers]\n",
    "\n",
    "    for j in eachindex(all_tickers)\n",
    "        inners=all_tickers[j]\n",
    "        simulate_inside=SIMs[inners]\n",
    "\n",
    "        if (i==j) \n",
    "            beta=simulate_outside.β\n",
    "            eta=simulate_outside.ϵ\n",
    "            sigma_e=params(eta)[2]; #Adapted direct from 15b\n",
    "            Σ_empty[i,j]=((beta)^2)*((sigma_m)^2)+(sigma_e)^2\n",
    "        else\n",
    "            beta_i= simulate_outside.β\n",
    "            beta_j= simulate_inside.β\n",
    "            Σ_empty[i,j]= (beta_i)*(beta_j)*(sigma_m)^2\n",
    "        end\n",
    "    end        \n",
    "end\n",
    "\n",
    "Σ_sim=Σ_empty |> x -> x*(1/229)"
   ]
  },
  {
   "cell_type": "code",
   "execution_count": 126,
   "id": "edcba7d9",
   "metadata": {},
   "outputs": [],
   "source": [
    "# Vital parameters for model, adapted from Do Not Edit block in lab15b\n",
    "\n",
    "firm_ids=Array{Int64, 1}();\n",
    "for item in tickers\n",
    "    firm_index = findfirst(e->e==item,all_tickers);\n",
    "    push!(firm_ids,firm_index)\n",
    "end\n",
    "\n",
    "μ̂=Array{Float64, 1}();\n",
    "for index in firm_ids\n",
    "    push!(μ̂, μ[index])\n",
    "end\n",
    "\n",
    "firms_l=length(firm_ids)\n",
    "Σ̂=Array{Float64, 2}(undef, firms_l, firms_l)\n",
    "for element in eachindex(firm_ids)\n",
    "    row_ele=firm_ids[i]\n",
    "    for j in eachindex(firm_ids)\n",
    "        col_ele=firm_ids[i]\n",
    "        Σ̂[i,j]=Σ_sim[row_ele, col_ele]\n",
    "    end\n",
    "end"
   ]
  },
  {
   "cell_type": "code",
   "execution_count": 127,
   "id": "91ecf2a4",
   "metadata": {},
   "outputs": [
    {
     "data": {
      "text/plain": [
       "MyMarkowitzRiskyAssetOnlyPortfiolioChoiceProblem([4.243991583e-314 1.273197474856e-312 … 2.3538627274e-314 2.3538627274e-314; 1.01855797985e-312 1.4641770961e-312 … 2.3538627274e-314 2.3538627274e-314; … ; 4.243991598e-314 6.36598741e-314 … 2.3538627274e-314 2.3538627274e-314; 0.0 0.0 … 0.0 0.0], [0.3368083880034543, -0.007904898363717482, 0.35880687247592413, 0.08024389402442934, -0.0780534688593898, 0.09384486326422115], [0.0 1.0; 0.0 1.0; … ; 0.0 1.0; 0.0 1.0], 0.0, [0.032421779736775125, -2.4994641898163153e-9, 0.9675781803071863, 2.9159955151633482e-8, -4.398235672337897e-9, 1.769378326886674e-8])"
      ]
     },
     "metadata": {},
     "output_type": "display_data"
    }
   ],
   "source": [
    "firms_picked=length(tickers)\n",
    "bounds=zeros(firms_picked,2)\n",
    "bounds[:,2].=1.0;#direct from 15b\n",
    "\n",
    "sim_initial=build(MyMarkowitzRiskyAssetOnlyPortfiolioChoiceProblem, (\n",
    "    Σ = Σ̂,\n",
    "    μ = μ̂,\n",
    "    bounds = bounds,\n",
    "    initial=w,\n",
    "    R=0.0\n",
    "))\n"
   ]
  },
  {
   "cell_type": "code",
   "execution_count": 128,
   "metadata": {},
   "outputs": [
    {
     "data": {
      "text/plain": [
       "2:230"
      ]
     },
     "metadata": {},
     "output_type": "display_data"
    }
   ],
   "source": [
    "2:(trading_days+1)"
   ]
  },
  {
   "cell_type": "code",
   "execution_count": 131,
   "id": "1985d697",
   "metadata": {},
   "outputs": [],
   "source": [
    "#Lab 15b instructs us to make a Queue data structure\n",
    "next_close=Queue{Vector{Float64}}();\n",
    "range=2:(trading_days+1);\n",
    "for element in range\n",
    "    price_arr=Array{Float64, 1}();\n",
    "    for ticker in tickers\n",
    "        price=dataset[ticker]\n",
    "        start=filter(:timestamp => x-> x >= startdate, price)|>x->x[i,:close] #direct 15b\n",
    "        push!(price_arr, start)\n",
    "    end \n",
    "\n",
    "    enqueue!(next_close, price_arr)\n",
    "end\n"
   ]
  },
  {
   "cell_type": "code",
   "execution_count": 132,
   "id": "d866ec34",
   "metadata": {},
   "outputs": [
    {
     "data": {
      "text/plain": [
       "0.32522917849887734"
      ]
     },
     "metadata": {},
     "output_type": "display_data"
    }
   ],
   "source": [
    "min_return_goal=4*μ[spy_index]"
   ]
  },
  {
   "cell_type": "code",
   "execution_count": 140,
   "id": "8bdee2cb",
   "metadata": {},
   "outputs": [
    {
     "data": {
      "text/html": [
       "<div><div style = \"float: left;\"><span>222×10 DataFrame</span></div><div style = \"float: right;\"><span style = \"font-style: italic;\">197 rows omitted</span></div><div style = \"clear: both;\"></div></div><div class = \"data-frame\" style = \"overflow-x: scroll;\"><table class = \"data-frame\" style = \"margin-bottom: 6px;\"><thead><tr class = \"header\"><th class = \"rowNumber\" style = \"font-weight: bold; text-align: right;\">Row</th><th style = \"text-align: left;\">N_updated</th><th style = \"text-align: left;\">N_previous</th><th style = \"text-align: left;\">w_previous</th><th style = \"text-align: left;\">w_updated</th><th style = \"text-align: left;\">μ_previous</th><th style = \"text-align: left;\">μ_updated</th><th style = \"text-align: left;\">previous_close</th><th style = \"text-align: left;\">updated_close</th><th style = \"text-align: left;\">liq_value</th><th style = \"text-align: left;\">risk</th></tr><tr class = \"subheader headerLastRow\"><th class = \"rowNumber\" style = \"font-weight: bold; text-align: right;\"></th><th title = \"Vector{Float64}\" style = \"text-align: left;\">Array…</th><th title = \"Vector{Float64}\" style = \"text-align: left;\">Array…</th><th title = \"Vector{Float64}\" style = \"text-align: left;\">Array…</th><th title = \"Vector{Float64}\" style = \"text-align: left;\">Array…</th><th title = \"Vector{Float64}\" style = \"text-align: left;\">Array…</th><th title = \"Vector{Float64}\" style = \"text-align: left;\">Array…</th><th title = \"Vector{Float64}\" style = \"text-align: left;\">Array…</th><th title = \"Vector{Float64}\" style = \"text-align: left;\">Array…</th><th title = \"Float64\" style = \"text-align: left;\">Float64</th><th title = \"Float64\" style = \"text-align: left;\">Float64</th></tr></thead><tbody><tr><td class = \"rowNumber\" style = \"font-weight: bold; text-align: right;\">1</td><td style = \"text-align: left;\">[0.992619, 0.910055, 8.97685, 0.487704, 1.51557, 0.690694]</td><td style = \"text-align: left;\">[0.226488, 0.0, 15.1137, 0.0, 0.0, 0.0]</td><td style = \"text-align: left;\">[0.0324218, -2.49946e-9, 0.967578, 2.916e-8, -4.39824e-9, 1.76938e-8]</td><td style = \"text-align: left;\">[0.148345, 0.0674429, 0.573851, 0.0695876, 0.0654768, 0.075297]</td><td style = \"text-align: left;\">[0.336808, -0.0079049, 0.358807, 0.0802439, -0.0780535, 0.0938449]</td><td style = \"text-align: left;\">[0.813615, 0.028975, 0.631227, 0.0882983, -0.0294458, 0.22653]</td><td style = \"text-align: left;\">[143.15, 78.26, 64.02, 151.57, 45.52, 112.69]</td><td style = \"text-align: left;\">[159.09, 78.89, 68.05, 151.89, 45.99, 116.05]</td><td style = \"text-align: right;\">1064.52</td><td style = \"text-align: right;\">5.90773e-157</td></tr><tr><td class = \"rowNumber\" style = \"font-weight: bold; text-align: right;\">2</td><td style = \"text-align: left;\">[1.67357, 0.160472, 10.879, 0.111639, 0.227689, 0.153953]</td><td style = \"text-align: left;\">[0.226488, 0.0, 15.1137, 0.0, 0.0, 0.0]</td><td style = \"text-align: left;\">[0.0324218, -2.49946e-9, 0.967578, 2.916e-8, -4.39824e-9, 1.76938e-8]</td><td style = \"text-align: left;\">[0.250112, 0.0118923, 0.695447, 0.0159291, 0.00983678, 0.0167834]</td><td style = \"text-align: left;\">[0.336808, -0.0079049, 0.358807, 0.0802439, -0.0780535, 0.0938449]</td><td style = \"text-align: left;\">[0.330072, -0.0077468, 0.351631, 0.078639, -0.0764924, 0.091968]</td><td style = \"text-align: left;\">[159.09, 78.89, 68.05, 151.89, 45.99, 116.05]</td><td style = \"text-align: left;\">[159.09, 78.89, 68.05, 151.89, 45.99, 116.05]</td><td style = \"text-align: right;\">1064.52</td><td style = \"text-align: right;\">5.44586e-157</td></tr><tr><td class = \"rowNumber\" style = \"font-weight: bold; text-align: right;\">3</td><td style = \"text-align: left;\">[1.67357, 0.160472, 10.879, 0.111639, 0.227689, 0.153953]</td><td style = \"text-align: left;\">[0.226488, 0.0, 15.1137, 0.0, 0.0, 0.0]</td><td style = \"text-align: left;\">[0.0324218, -2.49946e-9, 0.967578, 2.916e-8, -4.39824e-9, 1.76938e-8]</td><td style = \"text-align: left;\">[0.250112, 0.0118923, 0.695447, 0.0159291, 0.00983678, 0.0167834]</td><td style = \"text-align: left;\">[0.336808, -0.0079049, 0.358807, 0.0802439, -0.0780535, 0.0938449]</td><td style = \"text-align: left;\">[0.330072, -0.0077468, 0.351631, 0.078639, -0.0764924, 0.091968]</td><td style = \"text-align: left;\">[159.09, 78.89, 68.05, 151.89, 45.99, 116.05]</td><td style = \"text-align: left;\">[159.09, 78.89, 68.05, 151.89, 45.99, 116.05]</td><td style = \"text-align: right;\">1064.52</td><td style = \"text-align: right;\">5.44586e-157</td></tr><tr><td class = \"rowNumber\" style = \"font-weight: bold; text-align: right;\">4</td><td style = \"text-align: left;\">[1.67357, 0.160472, 10.879, 0.111639, 0.227689, 0.153953]</td><td style = \"text-align: left;\">[0.226488, 0.0, 15.1137, 0.0, 0.0, 0.0]</td><td style = \"text-align: left;\">[0.0324218, -2.49946e-9, 0.967578, 2.916e-8, -4.39824e-9, 1.76938e-8]</td><td style = \"text-align: left;\">[0.250112, 0.0118923, 0.695447, 0.0159291, 0.00983678, 0.0167834]</td><td style = \"text-align: left;\">[0.336808, -0.0079049, 0.358807, 0.0802439, -0.0780535, 0.0938449]</td><td style = \"text-align: left;\">[0.330072, -0.0077468, 0.351631, 0.078639, -0.0764924, 0.091968]</td><td style = \"text-align: left;\">[159.09, 78.89, 68.05, 151.89, 45.99, 116.05]</td><td style = \"text-align: left;\">[159.09, 78.89, 68.05, 151.89, 45.99, 116.05]</td><td style = \"text-align: right;\">1064.52</td><td style = \"text-align: right;\">5.44586e-157</td></tr><tr><td class = \"rowNumber\" style = \"font-weight: bold; text-align: right;\">5</td><td style = \"text-align: left;\">[1.67357, 0.160472, 10.879, 0.111639, 0.227689, 0.153953]</td><td style = \"text-align: left;\">[0.226488, 0.0, 15.1137, 0.0, 0.0, 0.0]</td><td style = \"text-align: left;\">[0.0324218, -2.49946e-9, 0.967578, 2.916e-8, -4.39824e-9, 1.76938e-8]</td><td style = \"text-align: left;\">[0.250112, 0.0118923, 0.695447, 0.0159291, 0.00983678, 0.0167834]</td><td style = \"text-align: left;\">[0.336808, -0.0079049, 0.358807, 0.0802439, -0.0780535, 0.0938449]</td><td style = \"text-align: left;\">[0.330072, -0.0077468, 0.351631, 0.078639, -0.0764924, 0.091968]</td><td style = \"text-align: left;\">[159.09, 78.89, 68.05, 151.89, 45.99, 116.05]</td><td style = \"text-align: left;\">[159.09, 78.89, 68.05, 151.89, 45.99, 116.05]</td><td style = \"text-align: right;\">1064.52</td><td style = \"text-align: right;\">5.44586e-157</td></tr><tr><td class = \"rowNumber\" style = \"font-weight: bold; text-align: right;\">6</td><td style = \"text-align: left;\">[1.67357, 0.160472, 10.879, 0.111639, 0.227689, 0.153953]</td><td style = \"text-align: left;\">[0.226488, 0.0, 15.1137, 0.0, 0.0, 0.0]</td><td style = \"text-align: left;\">[0.0324218, -2.49946e-9, 0.967578, 2.916e-8, -4.39824e-9, 1.76938e-8]</td><td style = \"text-align: left;\">[0.250112, 0.0118923, 0.695447, 0.0159291, 0.00983678, 0.0167834]</td><td style = \"text-align: left;\">[0.336808, -0.0079049, 0.358807, 0.0802439, -0.0780535, 0.0938449]</td><td style = \"text-align: left;\">[0.330072, -0.0077468, 0.351631, 0.078639, -0.0764924, 0.091968]</td><td style = \"text-align: left;\">[159.09, 78.89, 68.05, 151.89, 45.99, 116.05]</td><td style = \"text-align: left;\">[159.09, 78.89, 68.05, 151.89, 45.99, 116.05]</td><td style = \"text-align: right;\">1064.52</td><td style = \"text-align: right;\">5.44586e-157</td></tr><tr><td class = \"rowNumber\" style = \"font-weight: bold; text-align: right;\">7</td><td style = \"text-align: left;\">[1.67357, 0.160472, 10.879, 0.111639, 0.227689, 0.153953]</td><td style = \"text-align: left;\">[0.226488, 0.0, 15.1137, 0.0, 0.0, 0.0]</td><td style = \"text-align: left;\">[0.0324218, -2.49946e-9, 0.967578, 2.916e-8, -4.39824e-9, 1.76938e-8]</td><td style = \"text-align: left;\">[0.250112, 0.0118923, 0.695447, 0.0159291, 0.00983678, 0.0167834]</td><td style = \"text-align: left;\">[0.336808, -0.0079049, 0.358807, 0.0802439, -0.0780535, 0.0938449]</td><td style = \"text-align: left;\">[0.330072, -0.0077468, 0.351631, 0.078639, -0.0764924, 0.091968]</td><td style = \"text-align: left;\">[159.09, 78.89, 68.05, 151.89, 45.99, 116.05]</td><td style = \"text-align: left;\">[159.09, 78.89, 68.05, 151.89, 45.99, 116.05]</td><td style = \"text-align: right;\">1064.52</td><td style = \"text-align: right;\">5.44586e-157</td></tr><tr><td class = \"rowNumber\" style = \"font-weight: bold; text-align: right;\">8</td><td style = \"text-align: left;\">[1.67357, 0.160472, 10.879, 0.111639, 0.227689, 0.153953]</td><td style = \"text-align: left;\">[0.226488, 0.0, 15.1137, 0.0, 0.0, 0.0]</td><td style = \"text-align: left;\">[0.0324218, -2.49946e-9, 0.967578, 2.916e-8, -4.39824e-9, 1.76938e-8]</td><td style = \"text-align: left;\">[0.250112, 0.0118923, 0.695447, 0.0159291, 0.00983678, 0.0167834]</td><td style = \"text-align: left;\">[0.336808, -0.0079049, 0.358807, 0.0802439, -0.0780535, 0.0938449]</td><td style = \"text-align: left;\">[0.330072, -0.0077468, 0.351631, 0.078639, -0.0764924, 0.091968]</td><td style = \"text-align: left;\">[159.09, 78.89, 68.05, 151.89, 45.99, 116.05]</td><td style = \"text-align: left;\">[159.09, 78.89, 68.05, 151.89, 45.99, 116.05]</td><td style = \"text-align: right;\">1064.52</td><td style = \"text-align: right;\">5.44586e-157</td></tr><tr><td class = \"rowNumber\" style = \"font-weight: bold; text-align: right;\">9</td><td style = \"text-align: left;\">[1.67357, 0.160472, 10.879, 0.111639, 0.227689, 0.153953]</td><td style = \"text-align: left;\">[0.226488, 0.0, 15.1137, 0.0, 0.0, 0.0]</td><td style = \"text-align: left;\">[0.0324218, -2.49946e-9, 0.967578, 2.916e-8, -4.39824e-9, 1.76938e-8]</td><td style = \"text-align: left;\">[0.250112, 0.0118923, 0.695447, 0.0159291, 0.00983678, 0.0167834]</td><td style = \"text-align: left;\">[0.336808, -0.0079049, 0.358807, 0.0802439, -0.0780535, 0.0938449]</td><td style = \"text-align: left;\">[0.330072, -0.0077468, 0.351631, 0.078639, -0.0764924, 0.091968]</td><td style = \"text-align: left;\">[159.09, 78.89, 68.05, 151.89, 45.99, 116.05]</td><td style = \"text-align: left;\">[159.09, 78.89, 68.05, 151.89, 45.99, 116.05]</td><td style = \"text-align: right;\">1064.52</td><td style = \"text-align: right;\">5.44586e-157</td></tr><tr><td class = \"rowNumber\" style = \"font-weight: bold; text-align: right;\">10</td><td style = \"text-align: left;\">[1.67357, 0.160472, 10.879, 0.111639, 0.227689, 0.153953]</td><td style = \"text-align: left;\">[0.226488, 0.0, 15.1137, 0.0, 0.0, 0.0]</td><td style = \"text-align: left;\">[0.0324218, -2.49946e-9, 0.967578, 2.916e-8, -4.39824e-9, 1.76938e-8]</td><td style = \"text-align: left;\">[0.250112, 0.0118923, 0.695447, 0.0159291, 0.00983678, 0.0167834]</td><td style = \"text-align: left;\">[0.336808, -0.0079049, 0.358807, 0.0802439, -0.0780535, 0.0938449]</td><td style = \"text-align: left;\">[0.330072, -0.0077468, 0.351631, 0.078639, -0.0764924, 0.091968]</td><td style = \"text-align: left;\">[159.09, 78.89, 68.05, 151.89, 45.99, 116.05]</td><td style = \"text-align: left;\">[159.09, 78.89, 68.05, 151.89, 45.99, 116.05]</td><td style = \"text-align: right;\">1064.52</td><td style = \"text-align: right;\">5.44586e-157</td></tr><tr><td class = \"rowNumber\" style = \"font-weight: bold; text-align: right;\">11</td><td style = \"text-align: left;\">[1.67357, 0.160472, 10.879, 0.111639, 0.227689, 0.153953]</td><td style = \"text-align: left;\">[0.226488, 0.0, 15.1137, 0.0, 0.0, 0.0]</td><td style = \"text-align: left;\">[0.0324218, -2.49946e-9, 0.967578, 2.916e-8, -4.39824e-9, 1.76938e-8]</td><td style = \"text-align: left;\">[0.250112, 0.0118923, 0.695447, 0.0159291, 0.00983678, 0.0167834]</td><td style = \"text-align: left;\">[0.336808, -0.0079049, 0.358807, 0.0802439, -0.0780535, 0.0938449]</td><td style = \"text-align: left;\">[0.330072, -0.0077468, 0.351631, 0.078639, -0.0764924, 0.091968]</td><td style = \"text-align: left;\">[159.09, 78.89, 68.05, 151.89, 45.99, 116.05]</td><td style = \"text-align: left;\">[159.09, 78.89, 68.05, 151.89, 45.99, 116.05]</td><td style = \"text-align: right;\">1064.52</td><td style = \"text-align: right;\">5.44586e-157</td></tr><tr><td class = \"rowNumber\" style = \"font-weight: bold; text-align: right;\">12</td><td style = \"text-align: left;\">[1.67357, 0.160472, 10.879, 0.111639, 0.227689, 0.153953]</td><td style = \"text-align: left;\">[0.226488, 0.0, 15.1137, 0.0, 0.0, 0.0]</td><td style = \"text-align: left;\">[0.0324218, -2.49946e-9, 0.967578, 2.916e-8, -4.39824e-9, 1.76938e-8]</td><td style = \"text-align: left;\">[0.250112, 0.0118923, 0.695447, 0.0159291, 0.00983678, 0.0167834]</td><td style = \"text-align: left;\">[0.336808, -0.0079049, 0.358807, 0.0802439, -0.0780535, 0.0938449]</td><td style = \"text-align: left;\">[0.330072, -0.0077468, 0.351631, 0.078639, -0.0764924, 0.091968]</td><td style = \"text-align: left;\">[159.09, 78.89, 68.05, 151.89, 45.99, 116.05]</td><td style = \"text-align: left;\">[159.09, 78.89, 68.05, 151.89, 45.99, 116.05]</td><td style = \"text-align: right;\">1064.52</td><td style = \"text-align: right;\">5.44586e-157</td></tr><tr><td class = \"rowNumber\" style = \"font-weight: bold; text-align: right;\">13</td><td style = \"text-align: left;\">[1.67357, 0.160472, 10.879, 0.111639, 0.227689, 0.153953]</td><td style = \"text-align: left;\">[0.226488, 0.0, 15.1137, 0.0, 0.0, 0.0]</td><td style = \"text-align: left;\">[0.0324218, -2.49946e-9, 0.967578, 2.916e-8, -4.39824e-9, 1.76938e-8]</td><td style = \"text-align: left;\">[0.250112, 0.0118923, 0.695447, 0.0159291, 0.00983678, 0.0167834]</td><td style = \"text-align: left;\">[0.336808, -0.0079049, 0.358807, 0.0802439, -0.0780535, 0.0938449]</td><td style = \"text-align: left;\">[0.330072, -0.0077468, 0.351631, 0.078639, -0.0764924, 0.091968]</td><td style = \"text-align: left;\">[159.09, 78.89, 68.05, 151.89, 45.99, 116.05]</td><td style = \"text-align: left;\">[159.09, 78.89, 68.05, 151.89, 45.99, 116.05]</td><td style = \"text-align: right;\">1064.52</td><td style = \"text-align: right;\">5.44586e-157</td></tr><tr><td style = \"text-align: right;\">&vellip;</td><td style = \"text-align: right;\">&vellip;</td><td style = \"text-align: right;\">&vellip;</td><td style = \"text-align: right;\">&vellip;</td><td style = \"text-align: right;\">&vellip;</td><td style = \"text-align: right;\">&vellip;</td><td style = \"text-align: right;\">&vellip;</td><td style = \"text-align: right;\">&vellip;</td><td style = \"text-align: right;\">&vellip;</td><td style = \"text-align: right;\">&vellip;</td><td style = \"text-align: right;\">&vellip;</td></tr><tr><td class = \"rowNumber\" style = \"font-weight: bold; text-align: right;\">211</td><td style = \"text-align: left;\">[1.67357, 0.160472, 10.879, 0.111639, 0.227689, 0.153953]</td><td style = \"text-align: left;\">[0.226488, 0.0, 15.1137, 0.0, 0.0, 0.0]</td><td style = \"text-align: left;\">[0.0324218, -2.49946e-9, 0.967578, 2.916e-8, -4.39824e-9, 1.76938e-8]</td><td style = \"text-align: left;\">[0.250112, 0.0118923, 0.695447, 0.0159291, 0.00983678, 0.0167834]</td><td style = \"text-align: left;\">[0.336808, -0.0079049, 0.358807, 0.0802439, -0.0780535, 0.0938449]</td><td style = \"text-align: left;\">[0.330072, -0.0077468, 0.351631, 0.078639, -0.0764924, 0.091968]</td><td style = \"text-align: left;\">[159.09, 78.89, 68.05, 151.89, 45.99, 116.05]</td><td style = \"text-align: left;\">[159.09, 78.89, 68.05, 151.89, 45.99, 116.05]</td><td style = \"text-align: right;\">1064.52</td><td style = \"text-align: right;\">5.44586e-157</td></tr><tr><td class = \"rowNumber\" style = \"font-weight: bold; text-align: right;\">212</td><td style = \"text-align: left;\">[1.67357, 0.160472, 10.879, 0.111639, 0.227689, 0.153953]</td><td style = \"text-align: left;\">[0.226488, 0.0, 15.1137, 0.0, 0.0, 0.0]</td><td style = \"text-align: left;\">[0.0324218, -2.49946e-9, 0.967578, 2.916e-8, -4.39824e-9, 1.76938e-8]</td><td style = \"text-align: left;\">[0.250112, 0.0118923, 0.695447, 0.0159291, 0.00983678, 0.0167834]</td><td style = \"text-align: left;\">[0.336808, -0.0079049, 0.358807, 0.0802439, -0.0780535, 0.0938449]</td><td style = \"text-align: left;\">[0.330072, -0.0077468, 0.351631, 0.078639, -0.0764924, 0.091968]</td><td style = \"text-align: left;\">[159.09, 78.89, 68.05, 151.89, 45.99, 116.05]</td><td style = \"text-align: left;\">[159.09, 78.89, 68.05, 151.89, 45.99, 116.05]</td><td style = \"text-align: right;\">1064.52</td><td style = \"text-align: right;\">5.44586e-157</td></tr><tr><td class = \"rowNumber\" style = \"font-weight: bold; text-align: right;\">213</td><td style = \"text-align: left;\">[1.67357, 0.160472, 10.879, 0.111639, 0.227689, 0.153953]</td><td style = \"text-align: left;\">[0.226488, 0.0, 15.1137, 0.0, 0.0, 0.0]</td><td style = \"text-align: left;\">[0.0324218, -2.49946e-9, 0.967578, 2.916e-8, -4.39824e-9, 1.76938e-8]</td><td style = \"text-align: left;\">[0.250112, 0.0118923, 0.695447, 0.0159291, 0.00983678, 0.0167834]</td><td style = \"text-align: left;\">[0.336808, -0.0079049, 0.358807, 0.0802439, -0.0780535, 0.0938449]</td><td style = \"text-align: left;\">[0.330072, -0.0077468, 0.351631, 0.078639, -0.0764924, 0.091968]</td><td style = \"text-align: left;\">[159.09, 78.89, 68.05, 151.89, 45.99, 116.05]</td><td style = \"text-align: left;\">[159.09, 78.89, 68.05, 151.89, 45.99, 116.05]</td><td style = \"text-align: right;\">1064.52</td><td style = \"text-align: right;\">5.44586e-157</td></tr><tr><td class = \"rowNumber\" style = \"font-weight: bold; text-align: right;\">214</td><td style = \"text-align: left;\">[1.67357, 0.160472, 10.879, 0.111639, 0.227689, 0.153953]</td><td style = \"text-align: left;\">[0.226488, 0.0, 15.1137, 0.0, 0.0, 0.0]</td><td style = \"text-align: left;\">[0.0324218, -2.49946e-9, 0.967578, 2.916e-8, -4.39824e-9, 1.76938e-8]</td><td style = \"text-align: left;\">[0.250112, 0.0118923, 0.695447, 0.0159291, 0.00983678, 0.0167834]</td><td style = \"text-align: left;\">[0.336808, -0.0079049, 0.358807, 0.0802439, -0.0780535, 0.0938449]</td><td style = \"text-align: left;\">[0.330072, -0.0077468, 0.351631, 0.078639, -0.0764924, 0.091968]</td><td style = \"text-align: left;\">[159.09, 78.89, 68.05, 151.89, 45.99, 116.05]</td><td style = \"text-align: left;\">[159.09, 78.89, 68.05, 151.89, 45.99, 116.05]</td><td style = \"text-align: right;\">1064.52</td><td style = \"text-align: right;\">5.44586e-157</td></tr><tr><td class = \"rowNumber\" style = \"font-weight: bold; text-align: right;\">215</td><td style = \"text-align: left;\">[1.67357, 0.160472, 10.879, 0.111639, 0.227689, 0.153953]</td><td style = \"text-align: left;\">[0.226488, 0.0, 15.1137, 0.0, 0.0, 0.0]</td><td style = \"text-align: left;\">[0.0324218, -2.49946e-9, 0.967578, 2.916e-8, -4.39824e-9, 1.76938e-8]</td><td style = \"text-align: left;\">[0.250112, 0.0118923, 0.695447, 0.0159291, 0.00983678, 0.0167834]</td><td style = \"text-align: left;\">[0.336808, -0.0079049, 0.358807, 0.0802439, -0.0780535, 0.0938449]</td><td style = \"text-align: left;\">[0.330072, -0.0077468, 0.351631, 0.078639, -0.0764924, 0.091968]</td><td style = \"text-align: left;\">[159.09, 78.89, 68.05, 151.89, 45.99, 116.05]</td><td style = \"text-align: left;\">[159.09, 78.89, 68.05, 151.89, 45.99, 116.05]</td><td style = \"text-align: right;\">1064.52</td><td style = \"text-align: right;\">5.44586e-157</td></tr><tr><td class = \"rowNumber\" style = \"font-weight: bold; text-align: right;\">216</td><td style = \"text-align: left;\">[1.67357, 0.160472, 10.879, 0.111639, 0.227689, 0.153953]</td><td style = \"text-align: left;\">[0.226488, 0.0, 15.1137, 0.0, 0.0, 0.0]</td><td style = \"text-align: left;\">[0.0324218, -2.49946e-9, 0.967578, 2.916e-8, -4.39824e-9, 1.76938e-8]</td><td style = \"text-align: left;\">[0.250112, 0.0118923, 0.695447, 0.0159291, 0.00983678, 0.0167834]</td><td style = \"text-align: left;\">[0.336808, -0.0079049, 0.358807, 0.0802439, -0.0780535, 0.0938449]</td><td style = \"text-align: left;\">[0.330072, -0.0077468, 0.351631, 0.078639, -0.0764924, 0.091968]</td><td style = \"text-align: left;\">[159.09, 78.89, 68.05, 151.89, 45.99, 116.05]</td><td style = \"text-align: left;\">[159.09, 78.89, 68.05, 151.89, 45.99, 116.05]</td><td style = \"text-align: right;\">1064.52</td><td style = \"text-align: right;\">5.44586e-157</td></tr><tr><td class = \"rowNumber\" style = \"font-weight: bold; text-align: right;\">217</td><td style = \"text-align: left;\">[1.67357, 0.160472, 10.879, 0.111639, 0.227689, 0.153953]</td><td style = \"text-align: left;\">[0.226488, 0.0, 15.1137, 0.0, 0.0, 0.0]</td><td style = \"text-align: left;\">[0.0324218, -2.49946e-9, 0.967578, 2.916e-8, -4.39824e-9, 1.76938e-8]</td><td style = \"text-align: left;\">[0.250112, 0.0118923, 0.695447, 0.0159291, 0.00983678, 0.0167834]</td><td style = \"text-align: left;\">[0.336808, -0.0079049, 0.358807, 0.0802439, -0.0780535, 0.0938449]</td><td style = \"text-align: left;\">[0.330072, -0.0077468, 0.351631, 0.078639, -0.0764924, 0.091968]</td><td style = \"text-align: left;\">[159.09, 78.89, 68.05, 151.89, 45.99, 116.05]</td><td style = \"text-align: left;\">[159.09, 78.89, 68.05, 151.89, 45.99, 116.05]</td><td style = \"text-align: right;\">1064.52</td><td style = \"text-align: right;\">5.44586e-157</td></tr><tr><td class = \"rowNumber\" style = \"font-weight: bold; text-align: right;\">218</td><td style = \"text-align: left;\">[1.67357, 0.160472, 10.879, 0.111639, 0.227689, 0.153953]</td><td style = \"text-align: left;\">[0.226488, 0.0, 15.1137, 0.0, 0.0, 0.0]</td><td style = \"text-align: left;\">[0.0324218, -2.49946e-9, 0.967578, 2.916e-8, -4.39824e-9, 1.76938e-8]</td><td style = \"text-align: left;\">[0.250112, 0.0118923, 0.695447, 0.0159291, 0.00983678, 0.0167834]</td><td style = \"text-align: left;\">[0.336808, -0.0079049, 0.358807, 0.0802439, -0.0780535, 0.0938449]</td><td style = \"text-align: left;\">[0.330072, -0.0077468, 0.351631, 0.078639, -0.0764924, 0.091968]</td><td style = \"text-align: left;\">[159.09, 78.89, 68.05, 151.89, 45.99, 116.05]</td><td style = \"text-align: left;\">[159.09, 78.89, 68.05, 151.89, 45.99, 116.05]</td><td style = \"text-align: right;\">1064.52</td><td style = \"text-align: right;\">5.44586e-157</td></tr><tr><td class = \"rowNumber\" style = \"font-weight: bold; text-align: right;\">219</td><td style = \"text-align: left;\">[1.67357, 0.160472, 10.879, 0.111639, 0.227689, 0.153953]</td><td style = \"text-align: left;\">[0.226488, 0.0, 15.1137, 0.0, 0.0, 0.0]</td><td style = \"text-align: left;\">[0.0324218, -2.49946e-9, 0.967578, 2.916e-8, -4.39824e-9, 1.76938e-8]</td><td style = \"text-align: left;\">[0.250112, 0.0118923, 0.695447, 0.0159291, 0.00983678, 0.0167834]</td><td style = \"text-align: left;\">[0.336808, -0.0079049, 0.358807, 0.0802439, -0.0780535, 0.0938449]</td><td style = \"text-align: left;\">[0.330072, -0.0077468, 0.351631, 0.078639, -0.0764924, 0.091968]</td><td style = \"text-align: left;\">[159.09, 78.89, 68.05, 151.89, 45.99, 116.05]</td><td style = \"text-align: left;\">[159.09, 78.89, 68.05, 151.89, 45.99, 116.05]</td><td style = \"text-align: right;\">1064.52</td><td style = \"text-align: right;\">5.44586e-157</td></tr><tr><td class = \"rowNumber\" style = \"font-weight: bold; text-align: right;\">220</td><td style = \"text-align: left;\">[1.67357, 0.160472, 10.879, 0.111639, 0.227689, 0.153953]</td><td style = \"text-align: left;\">[0.226488, 0.0, 15.1137, 0.0, 0.0, 0.0]</td><td style = \"text-align: left;\">[0.0324218, -2.49946e-9, 0.967578, 2.916e-8, -4.39824e-9, 1.76938e-8]</td><td style = \"text-align: left;\">[0.250112, 0.0118923, 0.695447, 0.0159291, 0.00983678, 0.0167834]</td><td style = \"text-align: left;\">[0.336808, -0.0079049, 0.358807, 0.0802439, -0.0780535, 0.0938449]</td><td style = \"text-align: left;\">[0.330072, -0.0077468, 0.351631, 0.078639, -0.0764924, 0.091968]</td><td style = \"text-align: left;\">[159.09, 78.89, 68.05, 151.89, 45.99, 116.05]</td><td style = \"text-align: left;\">[159.09, 78.89, 68.05, 151.89, 45.99, 116.05]</td><td style = \"text-align: right;\">1064.52</td><td style = \"text-align: right;\">5.44586e-157</td></tr><tr><td class = \"rowNumber\" style = \"font-weight: bold; text-align: right;\">221</td><td style = \"text-align: left;\">[1.67357, 0.160472, 10.879, 0.111639, 0.227689, 0.153953]</td><td style = \"text-align: left;\">[0.226488, 0.0, 15.1137, 0.0, 0.0, 0.0]</td><td style = \"text-align: left;\">[0.0324218, -2.49946e-9, 0.967578, 2.916e-8, -4.39824e-9, 1.76938e-8]</td><td style = \"text-align: left;\">[0.250112, 0.0118923, 0.695447, 0.0159291, 0.00983678, 0.0167834]</td><td style = \"text-align: left;\">[0.336808, -0.0079049, 0.358807, 0.0802439, -0.0780535, 0.0938449]</td><td style = \"text-align: left;\">[0.330072, -0.0077468, 0.351631, 0.078639, -0.0764924, 0.091968]</td><td style = \"text-align: left;\">[159.09, 78.89, 68.05, 151.89, 45.99, 116.05]</td><td style = \"text-align: left;\">[159.09, 78.89, 68.05, 151.89, 45.99, 116.05]</td><td style = \"text-align: right;\">1064.52</td><td style = \"text-align: right;\">5.44586e-157</td></tr><tr><td class = \"rowNumber\" style = \"font-weight: bold; text-align: right;\">222</td><td style = \"text-align: left;\">[1.67357, 0.160472, 10.879, 0.111639, 0.227689, 0.153953]</td><td style = \"text-align: left;\">[0.226488, 0.0, 15.1137, 0.0, 0.0, 0.0]</td><td style = \"text-align: left;\">[0.0324218, -2.49946e-9, 0.967578, 2.916e-8, -4.39824e-9, 1.76938e-8]</td><td style = \"text-align: left;\">[0.250112, 0.0118923, 0.695447, 0.0159291, 0.00983678, 0.0167834]</td><td style = \"text-align: left;\">[0.336808, -0.0079049, 0.358807, 0.0802439, -0.0780535, 0.0938449]</td><td style = \"text-align: left;\">[0.330072, -0.0077468, 0.351631, 0.078639, -0.0764924, 0.091968]</td><td style = \"text-align: left;\">[159.09, 78.89, 68.05, 151.89, 45.99, 116.05]</td><td style = \"text-align: left;\">[159.09, 78.89, 68.05, 151.89, 45.99, 116.05]</td><td style = \"text-align: right;\">1064.52</td><td style = \"text-align: right;\">5.44586e-157</td></tr></tbody></table></div>"
      ],
      "text/latex": [
       "\\begin{tabular}{r|ccc}\n",
       "\t& N\\_updated & N\\_previous & \\\\\n",
       "\t\\hline\n",
       "\t& Array… & Array… & \\\\\n",
       "\t\\hline\n",
       "\t1 & [0.992619, 0.910055, 8.97685, 0.487704, 1.51557, 0.690694] & [0.226488, 0.0, 15.1137, 0.0, 0.0, 0.0] & $\\dots$ \\\\\n",
       "\t2 & [1.67357, 0.160472, 10.879, 0.111639, 0.227689, 0.153953] & [0.226488, 0.0, 15.1137, 0.0, 0.0, 0.0] & $\\dots$ \\\\\n",
       "\t3 & [1.67357, 0.160472, 10.879, 0.111639, 0.227689, 0.153953] & [0.226488, 0.0, 15.1137, 0.0, 0.0, 0.0] & $\\dots$ \\\\\n",
       "\t4 & [1.67357, 0.160472, 10.879, 0.111639, 0.227689, 0.153953] & [0.226488, 0.0, 15.1137, 0.0, 0.0, 0.0] & $\\dots$ \\\\\n",
       "\t5 & [1.67357, 0.160472, 10.879, 0.111639, 0.227689, 0.153953] & [0.226488, 0.0, 15.1137, 0.0, 0.0, 0.0] & $\\dots$ \\\\\n",
       "\t6 & [1.67357, 0.160472, 10.879, 0.111639, 0.227689, 0.153953] & [0.226488, 0.0, 15.1137, 0.0, 0.0, 0.0] & $\\dots$ \\\\\n",
       "\t7 & [1.67357, 0.160472, 10.879, 0.111639, 0.227689, 0.153953] & [0.226488, 0.0, 15.1137, 0.0, 0.0, 0.0] & $\\dots$ \\\\\n",
       "\t8 & [1.67357, 0.160472, 10.879, 0.111639, 0.227689, 0.153953] & [0.226488, 0.0, 15.1137, 0.0, 0.0, 0.0] & $\\dots$ \\\\\n",
       "\t9 & [1.67357, 0.160472, 10.879, 0.111639, 0.227689, 0.153953] & [0.226488, 0.0, 15.1137, 0.0, 0.0, 0.0] & $\\dots$ \\\\\n",
       "\t10 & [1.67357, 0.160472, 10.879, 0.111639, 0.227689, 0.153953] & [0.226488, 0.0, 15.1137, 0.0, 0.0, 0.0] & $\\dots$ \\\\\n",
       "\t11 & [1.67357, 0.160472, 10.879, 0.111639, 0.227689, 0.153953] & [0.226488, 0.0, 15.1137, 0.0, 0.0, 0.0] & $\\dots$ \\\\\n",
       "\t12 & [1.67357, 0.160472, 10.879, 0.111639, 0.227689, 0.153953] & [0.226488, 0.0, 15.1137, 0.0, 0.0, 0.0] & $\\dots$ \\\\\n",
       "\t13 & [1.67357, 0.160472, 10.879, 0.111639, 0.227689, 0.153953] & [0.226488, 0.0, 15.1137, 0.0, 0.0, 0.0] & $\\dots$ \\\\\n",
       "\t14 & [1.67357, 0.160472, 10.879, 0.111639, 0.227689, 0.153953] & [0.226488, 0.0, 15.1137, 0.0, 0.0, 0.0] & $\\dots$ \\\\\n",
       "\t15 & [1.67357, 0.160472, 10.879, 0.111639, 0.227689, 0.153953] & [0.226488, 0.0, 15.1137, 0.0, 0.0, 0.0] & $\\dots$ \\\\\n",
       "\t16 & [1.67357, 0.160472, 10.879, 0.111639, 0.227689, 0.153953] & [0.226488, 0.0, 15.1137, 0.0, 0.0, 0.0] & $\\dots$ \\\\\n",
       "\t17 & [1.67357, 0.160472, 10.879, 0.111639, 0.227689, 0.153953] & [0.226488, 0.0, 15.1137, 0.0, 0.0, 0.0] & $\\dots$ \\\\\n",
       "\t18 & [1.67357, 0.160472, 10.879, 0.111639, 0.227689, 0.153953] & [0.226488, 0.0, 15.1137, 0.0, 0.0, 0.0] & $\\dots$ \\\\\n",
       "\t19 & [1.67357, 0.160472, 10.879, 0.111639, 0.227689, 0.153953] & [0.226488, 0.0, 15.1137, 0.0, 0.0, 0.0] & $\\dots$ \\\\\n",
       "\t20 & [1.67357, 0.160472, 10.879, 0.111639, 0.227689, 0.153953] & [0.226488, 0.0, 15.1137, 0.0, 0.0, 0.0] & $\\dots$ \\\\\n",
       "\t21 & [1.67357, 0.160472, 10.879, 0.111639, 0.227689, 0.153953] & [0.226488, 0.0, 15.1137, 0.0, 0.0, 0.0] & $\\dots$ \\\\\n",
       "\t22 & [1.67357, 0.160472, 10.879, 0.111639, 0.227689, 0.153953] & [0.226488, 0.0, 15.1137, 0.0, 0.0, 0.0] & $\\dots$ \\\\\n",
       "\t23 & [1.67357, 0.160472, 10.879, 0.111639, 0.227689, 0.153953] & [0.226488, 0.0, 15.1137, 0.0, 0.0, 0.0] & $\\dots$ \\\\\n",
       "\t24 & [1.67357, 0.160472, 10.879, 0.111639, 0.227689, 0.153953] & [0.226488, 0.0, 15.1137, 0.0, 0.0, 0.0] & $\\dots$ \\\\\n",
       "\t$\\dots$ & $\\dots$ & $\\dots$ &  \\\\\n",
       "\\end{tabular}\n"
      ],
      "text/plain": [
       "\u001b[1m222×10 DataFrame\u001b[0m\n",
       "\u001b[1m Row \u001b[0m│\u001b[1m N_updated                         \u001b[0m\u001b[1m N_previous                        \u001b[0m\u001b[1m w\u001b[0m ⋯\n",
       "     │\u001b[90m Array…                            \u001b[0m\u001b[90m Array…                            \u001b[0m\u001b[90m A\u001b[0m ⋯\n",
       "─────┼──────────────────────────────────────────────────────────────────────────\n",
       "   1 │ [0.992619, 0.910055, 8.97685, 0.…  [0.226488, 0.0, 15.1137, 0.0, 0.…  [ ⋯\n",
       "   2 │ [1.67357, 0.160472, 10.879, 0.11…  [0.226488, 0.0, 15.1137, 0.0, 0.…  [\n",
       "   3 │ [1.67357, 0.160472, 10.879, 0.11…  [0.226488, 0.0, 15.1137, 0.0, 0.…  [\n",
       "   4 │ [1.67357, 0.160472, 10.879, 0.11…  [0.226488, 0.0, 15.1137, 0.0, 0.…  [\n",
       "   5 │ [1.67357, 0.160472, 10.879, 0.11…  [0.226488, 0.0, 15.1137, 0.0, 0.…  [ ⋯\n",
       "   6 │ [1.67357, 0.160472, 10.879, 0.11…  [0.226488, 0.0, 15.1137, 0.0, 0.…  [\n",
       "   7 │ [1.67357, 0.160472, 10.879, 0.11…  [0.226488, 0.0, 15.1137, 0.0, 0.…  [\n",
       "   8 │ [1.67357, 0.160472, 10.879, 0.11…  [0.226488, 0.0, 15.1137, 0.0, 0.…  [\n",
       "  ⋮  │                 ⋮                                  ⋮                    ⋱\n",
       " 216 │ [1.67357, 0.160472, 10.879, 0.11…  [0.226488, 0.0, 15.1137, 0.0, 0.…  [ ⋯\n",
       " 217 │ [1.67357, 0.160472, 10.879, 0.11…  [0.226488, 0.0, 15.1137, 0.0, 0.…  [\n",
       " 218 │ [1.67357, 0.160472, 10.879, 0.11…  [0.226488, 0.0, 15.1137, 0.0, 0.…  [\n",
       " 219 │ [1.67357, 0.160472, 10.879, 0.11…  [0.226488, 0.0, 15.1137, 0.0, 0.…  [\n",
       " 220 │ [1.67357, 0.160472, 10.879, 0.11…  [0.226488, 0.0, 15.1137, 0.0, 0.…  [ ⋯\n",
       " 221 │ [1.67357, 0.160472, 10.879, 0.11…  [0.226488, 0.0, 15.1137, 0.0, 0.…  [\n",
       " 222 │ [1.67357, 0.160472, 10.879, 0.11…  [0.226488, 0.0, 15.1137, 0.0, 0.…  [\n",
       "\u001b[36m                                                  8 columns and 207 rows omitted\u001b[0m"
      ]
     },
     "metadata": {},
     "output_type": "display_data"
    }
   ],
   "source": [
    "#Simulation, adapted directly from 15b\n",
    "prev_price_arr=price_initial\n",
    "μ̂_naught=μ̂\n",
    "N_naught=shares_initial\n",
    "Δt = (1/229)\n",
    "results= DataFrame();\n",
    "\n",
    "while(isempty(next_close)==false)\n",
    "\n",
    "    current_pr=dequeue!(next_close)\n",
    "\n",
    "    assets_return = Array{Float64, 1}();\n",
    "    for element in eachindex(tickers)\n",
    "        m = (1/Δt)*log(current_pr[element]/prev_price_arr[element])\n",
    "        push!(assets_return, m)\n",
    "    end\n",
    "\n",
    "    μ̂_update=μ̂_naught+ learning_rate*(assets_return-μ̂_naught)\n",
    "\n",
    "    sim_initial.μ=μ̂_update;\n",
    "    sim_initial.R=min_return_goal;\n",
    "\n",
    "    sol=solve(sim_initial)\n",
    "\n",
    "    #conversion check from 15b\n",
    "\n",
    "    new_weight=w;\n",
    "    risk_new=risk;\n",
    "    status=sol[\"status\"]\n",
    "    if (status==MathOptInterface.LOCALLY_SOLVED)\n",
    "        new_weight=sol[\"argmax\"]\n",
    "        risk_new=sqrt(sol[\"objective_value\"])\n",
    "    end\n",
    "\n",
    "    liq_value = dot(N_naught, current_pr)\n",
    "\n",
    "    new_shares=Array{Float64,1}()\n",
    "    for element in eachindex(new_weight)\n",
    "        w_element=new_weight[element]\n",
    "        nshare=(w_element*liq_value)/(current_pr[element])\n",
    "    push!(new_shares, nshare)\n",
    "    end\n",
    "    \n",
    "    results_t=(\n",
    "        N_updated=new_shares,\n",
    "        N_previous=N_naught,\n",
    "        w_previous=w,\n",
    "        w_updated=new_weight,\n",
    "        μ_previous=μ̂,\n",
    "        μ_updated= μ̂_update,\n",
    "        previous_close=prev_price_arr,\n",
    "        updated_close=current_pr,\n",
    "        liq_value=liq_value,\n",
    "        risk=risk_new,\n",
    "    );\n",
    "    push!(results,results_t)\n",
    "\n",
    "\n",
    "    μ_previous= μ̂_update\n",
    "    prev_price_arr=current_pr\n",
    "    N_previous=new_shares\n",
    "end\n",
    "results\n"
   ]
  },
  {
   "cell_type": "code",
   "execution_count": 146,
   "id": "fe78da31",
   "metadata": {},
   "outputs": [],
   "source": [
    "portfolio_performance_initial=Array{Float64,2}(undef, trading_days, length(w)+2)\n",
    "for element in eachindex(tickers)\n",
    "    ticker=tickers[element]\n",
    "    price=dataset[ticker]\n",
    "    ticker_data=filter(:timestamp => x-> x >= startdate, price)\n",
    "    n_new=N_naught[element]\n",
    "\n",
    "    for j in 1:trading_days\n",
    "        portfolio_performance_initial[j,i]=n_new*ticker_data[j+1,:close] #Lab 15b\n",
    "    end\n",
    "end\n",
    "\n",
    "for element in 1:trading_days\n",
    "    portfolio_performance_initial[i,end]=sum(portfolio_performance_initial[i,1:end-2])\n",
    "end\n",
    "\n",
    "for element in 1:trading_days\n",
    "    data=portfolio_performance_initial[i,1:end-2]\n",
    "    tot=portfolio_performance_initial[i,end]\n",
    "    w=(1/tot)*data\n",
    "    portfolio_performance_initial[i,end-1]=transpose(w)*Σ̂*w |> sqrt\n",
    "end"
   ]
  },
  {
   "cell_type": "code",
   "execution_count": 142,
   "id": "7bc60b1a",
   "metadata": {},
   "outputs": [
    {
     "data": {
      "text/plain": [
       "6-element Vector{String}:\n",
       " \"NVDA\"\n",
       " \"MDT\"\n",
       " \"AMD\"\n",
       " \"PG\"\n",
       " \"MO\"\n",
       " \"PLD\""
      ]
     },
     "metadata": {},
     "output_type": "display_data"
    }
   ],
   "source": [
    "tickers"
   ]
  },
  {
   "cell_type": "code",
   "execution_count": 147,
   "id": "7c4b8649",
   "metadata": {},
   "outputs": [
    {
     "name": "stdout",
     "output_type": "stream",
     "text": [
      "┌───────┬──────────────┬──────────────┬──────────────┬────────────┬───────────┬──────────────┬──────────────┬──────────────┐\n",
      "│\u001b[1m index \u001b[0m│\u001b[1m         NVDA \u001b[0m│\u001b[1m          MDT \u001b[0m│\u001b[1m          AMD \u001b[0m│\u001b[1m         PG \u001b[0m│\u001b[1m        MO \u001b[0m│\u001b[1m          PLD \u001b[0m│\u001b[1m  risk (sqrt) \u001b[0m│\u001b[1m  total value \u001b[0m│\n",
      "├───────┼──────────────┼──────────────┼──────────────┼────────────┼───────────┼──────────────┼──────────────┼──────────────┤\n",
      "│   1.0 │     5.0e-324 │          0.0 │          0.0 │        0.0 │  5.0e-324 │     5.0e-324 │ 5.34671e-314 │  2.2438e-314 │\n",
      "│   2.0 │     5.0e-324 │          0.0 │          0.0 │   5.0e-324 │       0.0 │          0.0 │ 2.15005e-314 │  2.2438e-314 │\n",
      "│   3.0 │          0.0 │          0.0 │     2.0e-323 │        0.0 │       0.0 │          0.0 │  5.3467e-314 │ 2.24381e-314 │\n",
      "│   4.0 │          0.0 │          0.0 │          0.0 │        0.0 │  5.0e-324 │     5.0e-324 │  5.3467e-314 │ 2.24391e-314 │\n",
      "│   5.0 │     5.0e-324 │     5.0e-324 │     5.0e-324 │        0.0 │  5.0e-324 │     5.0e-324 │  5.3467e-314 │ 2.24381e-314 │\n",
      "│   6.0 │ 2.15005e-314 │ 2.15006e-314 │ 2.15006e-314 │ 3.286e-321 │ 6.81e-321 │          0.0 │          NaN │ 6.45017e-314 │\n",
      "│   7.0 │          0.0 │     5.0e-324 │     5.0e-324 │   5.0e-324 │       0.0 │          0.0 │  5.3467e-314 │ 2.22933e-314 │\n",
      "│   8.0 │          0.0 │     5.0e-324 │     1.0e-323 │   5.0e-324 │  5.0e-324 │     5.0e-324 │  5.3467e-314 │ 2.24391e-314 │\n",
      "│   9.0 │     5.0e-324 │     5.0e-324 │     5.0e-324 │        0.0 │  5.0e-324 │     5.0e-324 │  5.3467e-314 │ 2.22933e-314 │\n",
      "│  10.0 │     5.0e-324 │          0.0 │     5.0e-324 │        0.0 │       0.0 │          0.0 │  5.3467e-314 │ 2.24381e-314 │\n",
      "│  11.0 │          0.0 │          0.0 │     5.0e-324 │   5.0e-324 │       0.0 │          0.0 │  5.3467e-314 │ 2.24381e-314 │\n",
      "│  12.0 │          0.0 │     5.0e-324 │     5.0e-324 │   5.0e-324 │       0.0 │     5.0e-324 │ 5.34671e-314 │ 2.24381e-314 │\n",
      "│  13.0 │     5.0e-324 │     5.0e-324 │     5.0e-324 │        0.0 │       0.0 │     5.0e-324 │ 2.67497e-314 │ 2.24381e-314 │\n",
      "│  14.0 │     5.0e-324 │     5.0e-324 │          0.0 │        0.0 │       0.0 │          0.0 │  5.3467e-314 │ 2.24381e-314 │\n",
      "│  15.0 │          0.0 │          0.0 │          0.0 │   5.0e-324 │       0.0 │          0.0 │ 2.67494e-314 │ 2.24381e-314 │\n",
      "│  16.0 │          0.0 │     5.0e-324 │          0.0 │   1.0e-323 │  5.0e-324 │     5.0e-324 │ 2.15004e-314 │ 2.24381e-314 │\n",
      "│  17.0 │     5.0e-324 │          0.0 │          0.0 │        0.0 │  2.0e-323 │     5.0e-324 │  5.3467e-314 │ 2.22933e-314 │\n",
      "│  18.0 │     5.0e-324 │          0.0 │          0.0 │        0.0 │       0.0 │          0.0 │  5.3467e-314 │ 2.22933e-314 │\n",
      "│  19.0 │          0.0 │          0.0 │     5.0e-324 │   5.0e-324 │       0.0 │          0.0 │ 2.15005e-314 │ 2.24381e-314 │\n",
      "│  20.0 │          0.0 │     5.0e-324 │     5.0e-324 │        0.0 │  5.0e-324 │     5.0e-324 │  5.3467e-314 │ 2.22933e-314 │\n",
      "│  21.0 │          0.0 │     5.0e-324 │     5.0e-324 │        0.0 │  5.0e-324 │     5.0e-324 │  5.3467e-314 │ 2.24381e-314 │\n",
      "│  22.0 │          0.0 │     5.0e-324 │     5.0e-324 │        0.0 │       0.0 │     5.0e-324 │  5.3467e-314 │ 2.22933e-314 │\n",
      "│  23.0 │          0.0 │     1.0e-323 │     5.0e-324 │        0.0 │  5.0e-324 │          0.0 │ 2.67497e-314 │ 2.22933e-314 │\n",
      "│  24.0 │          0.0 │     5.0e-324 │          0.0 │   5.0e-324 │  5.0e-324 │          0.0 │ 2.15004e-314 │ 2.24381e-314 │\n",
      "│  25.0 │     5.0e-324 │     5.0e-324 │          0.0 │   5.0e-324 │  5.0e-324 │          0.0 │ 5.34671e-314 │ 2.22933e-314 │\n",
      "│  26.0 │     5.0e-324 │     5.0e-324 │     5.0e-324 │        0.0 │  5.0e-324 │          0.0 │ 2.15005e-314 │ 2.24381e-314 │\n",
      "│  27.0 │          0.0 │     5.0e-324 │     5.0e-324 │        0.0 │  5.0e-324 │          0.0 │  5.3467e-314 │ 2.24381e-314 │\n",
      "│  28.0 │          0.0 │     5.0e-324 │     5.0e-324 │   5.0e-324 │  5.0e-324 │          0.0 │  5.3467e-314 │ 2.22933e-314 │\n",
      "│  29.0 │     5.0e-324 │          0.0 │          0.0 │   5.0e-324 │  5.0e-324 │     5.0e-324 │  5.3467e-314 │ 2.24381e-314 │\n",
      "│  30.0 │     5.0e-324 │          0.0 │     5.0e-324 │        0.0 │  5.0e-324 │     5.0e-324 │  5.3467e-314 │ 2.24391e-314 │\n",
      "│  31.0 │          0.0 │          0.0 │          0.0 │        0.0 │  5.0e-324 │          0.0 │  5.3467e-314 │ 2.24381e-314 │\n",
      "│  32.0 │          0.0 │          0.0 │          0.0 │   5.0e-324 │       0.0 │          0.0 │  5.3467e-314 │ 2.24381e-314 │\n",
      "│  33.0 │     5.0e-324 │          0.0 │          0.0 │   1.0e-323 │  5.0e-324 │     5.0e-324 │  5.3467e-314 │ 2.24391e-314 │\n",
      "│  34.0 │     5.0e-324 │     5.0e-324 │     5.0e-324 │        0.0 │  5.0e-324 │     5.0e-324 │  5.3467e-314 │ 2.15004e-314 │\n",
      "│  35.0 │          0.0 │     5.0e-324 │     5.0e-324 │        0.0 │       0.0 │          0.0 │  5.3467e-314 │ 2.24391e-314 │\n",
      "│  36.0 │          0.0 │     5.0e-324 │     5.0e-324 │   5.0e-324 │  5.0e-324 │          0.0 │ 5.34671e-314 │ 2.24381e-314 │\n",
      "│  37.0 │     5.0e-324 │     5.0e-324 │     1.0e-323 │        0.0 │  5.0e-324 │     5.0e-324 │ 2.67497e-314 │ 2.24391e-314 │\n",
      "│  38.0 │     5.0e-324 │          0.0 │     5.0e-324 │        0.0 │  5.0e-324 │     5.0e-324 │  5.3467e-314 │ 2.24381e-314 │\n",
      "│  39.0 │          0.0 │          0.0 │     5.0e-324 │        0.0 │  5.0e-324 │          0.0 │ 2.67494e-314 │ 2.24391e-314 │\n",
      "│  40.0 │          0.0 │     5.0e-324 │     5.0e-324 │        0.0 │  5.0e-324 │          0.0 │ 2.15004e-314 │ 2.24381e-314 │\n",
      "│  41.0 │          0.0 │          0.0 │     5.0e-324 │        0.0 │  5.0e-324 │     5.0e-324 │  5.3467e-314 │ 2.24381e-314 │\n",
      "│  42.0 │          0.0 │          0.0 │     5.0e-324 │   5.0e-324 │  5.0e-324 │     5.0e-324 │  5.3467e-314 │ 2.24381e-314 │\n",
      "│  43.0 │          0.0 │          0.0 │          0.0 │   5.0e-324 │  5.0e-324 │          0.0 │ 2.15005e-314 │ 2.24381e-314 │\n",
      "│  44.0 │          0.0 │          0.0 │          0.0 │        0.0 │  5.0e-324 │          0.0 │  5.3467e-314 │ 2.24391e-314 │\n",
      "│  45.0 │     5.0e-324 │     5.0e-324 │          0.0 │        0.0 │       0.0 │     5.0e-324 │  5.3467e-314 │ 2.22933e-314 │\n",
      "│  46.0 │     5.0e-323 │     5.0e-324 │          0.0 │   5.0e-324 │  5.0e-324 │     5.0e-324 │  5.3467e-314 │ 2.24381e-314 │\n",
      "│  47.0 │          0.0 │     1.0e-323 │          0.0 │   5.0e-324 │  5.0e-324 │          0.0 │ 2.67497e-314 │ 5.89283e-314 │\n",
      "│  48.0 │          0.0 │     5.0e-324 │     5.0e-324 │        0.0 │  1.0e-323 │          0.0 │ 5.34669e-314 │ 2.22933e-314 │\n",
      "│  49.0 │     5.0e-324 │     5.0e-324 │     5.0e-324 │        0.0 │  5.0e-324 │     5.0e-324 │ 5.34669e-314 │ 2.22933e-314 │\n",
      "│  50.0 │     5.0e-324 │     5.0e-324 │     5.0e-324 │   5.0e-324 │  5.0e-324 │     5.0e-324 │ 5.34671e-314 │ 2.24391e-314 │\n",
      "│  51.0 │          0.0 │     5.0e-324 │     5.0e-324 │   5.0e-324 │  5.0e-324 │     5.0e-324 │ 2.15004e-314 │ 2.24381e-314 │\n",
      "│  52.0 │          0.0 │          0.0 │          0.0 │        0.0 │  5.0e-324 │          0.0 │ 5.34671e-314 │ 2.24381e-314 │\n",
      "│  53.0 │     5.0e-324 │          0.0 │          0.0 │        0.0 │       0.0 │          0.0 │ 2.15005e-314 │ 2.24381e-314 │\n",
      "│  54.0 │     5.0e-324 │          0.0 │     5.0e-324 │   5.0e-324 │  5.0e-324 │          0.0 │  5.3467e-314 │ 2.24381e-314 │\n",
      "│  55.0 │          0.0 │          0.0 │          0.0 │   5.0e-324 │  5.0e-324 │          0.0 │  5.3467e-314 │ 2.24381e-314 │\n",
      "│  56.0 │          0.0 │          0.0 │          0.0 │        0.0 │       0.0 │          0.0 │  5.3467e-314 │ 2.24381e-314 │\n",
      "│  57.0 │     5.0e-324 │          0.0 │          0.0 │        0.0 │       0.0 │          0.0 │  5.3467e-314 │ 2.24391e-314 │\n",
      "│  58.0 │     5.0e-324 │          0.0 │          0.0 │   5.0e-324 │  5.0e-324 │     5.0e-324 │  5.3467e-314 │ 2.22933e-314 │\n",
      "│  59.0 │          0.0 │     5.0e-324 │     5.0e-324 │   5.0e-324 │  5.0e-324 │     5.0e-324 │  5.3467e-314 │ 2.24381e-314 │\n",
      "│  60.0 │          0.0 │     5.0e-323 │     5.0e-324 │   1.5e-323 │  5.0e-324 │          0.0 │  5.3467e-314 │ 2.24381e-314 │\n",
      "│  61.0 │     5.0e-324 │          0.0 │     1.0e-323 │        0.0 │       0.0 │          0.0 │  5.3467e-314 │ 2.34996e-314 │\n",
      "│  62.0 │     5.0e-324 │          0.0 │     5.0e-324 │        0.0 │  5.0e-324 │     5.0e-324 │  5.3467e-314 │ 2.15004e-314 │\n",
      "│  63.0 │          0.0 │     5.0e-324 │     5.0e-324 │   5.0e-324 │       0.0 │     5.0e-324 │ 5.34671e-314 │ 2.24381e-314 │\n",
      "│  64.0 │          0.0 │     5.0e-324 │     5.0e-324 │   5.0e-324 │  1.0e-323 │          0.0 │ 2.67497e-314 │ 2.24381e-314 │\n",
      "│  65.0 │          0.0 │          0.0 │     5.0e-324 │        0.0 │  1.5e-323 │          0.0 │  5.3467e-314 │ 2.24381e-314 │\n",
      "│  66.0 │          0.0 │          0.0 │          0.0 │        0.0 │  5.0e-324 │     5.0e-324 │ 2.67494e-314 │ 2.24381e-314 │\n",
      "│  67.0 │     5.0e-324 │     5.0e-324 │          0.0 │        0.0 │  5.0e-324 │     5.0e-324 │ 2.15004e-314 │ 2.24381e-314 │\n",
      "│  68.0 │     5.0e-324 │     5.0e-324 │          0.0 │   5.0e-324 │  5.0e-324 │          0.0 │  5.3467e-314 │ 2.24382e-314 │\n",
      "│  69.0 │     5.0e-324 │          0.0 │          0.0 │   5.0e-324 │       0.0 │          0.0 │  5.3467e-314 │ 2.24382e-314 │\n",
      "│  70.0 │          0.0 │          0.0 │          0.0 │        0.0 │       0.0 │     5.0e-324 │ 2.15005e-314 │ 2.24382e-314 │\n",
      "│  71.0 │          0.0 │     5.0e-324 │          0.0 │   5.0e-324 │  5.0e-324 │     5.0e-324 │  5.3467e-314 │ 2.24382e-314 │\n",
      "│  72.0 │          0.0 │     5.0e-324 │          0.0 │   1.0e-323 │       0.0 │          0.0 │  5.3467e-314 │ 2.22933e-314 │\n",
      "│  73.0 │          0.0 │          0.0 │     5.0e-324 │        0.0 │       0.0 │          0.0 │  5.3467e-314 │ 2.24391e-314 │\n",
      "│  74.0 │     5.0e-324 │          0.0 │     5.0e-324 │        0.0 │       0.0 │     5.0e-324 │ 2.67497e-314 │ 2.24382e-314 │\n",
      "│  75.0 │     5.0e-324 │     5.0e-324 │          0.0 │   5.0e-324 │  5.0e-324 │     5.0e-324 │ 2.15004e-314 │ 2.24382e-314 │\n",
      "│  76.0 │     5.0e-324 │     5.0e-324 │          0.0 │   5.0e-324 │  5.0e-324 │          0.0 │ 5.34671e-314 │ 2.24382e-314 │\n",
      "│  77.0 │          0.0 │          0.0 │     5.0e-324 │   5.0e-324 │  1.0e-323 │          0.0 │ 2.15005e-314 │ 2.24382e-314 │\n",
      "│  78.0 │          0.0 │          0.0 │     5.0e-324 │   5.0e-324 │  5.0e-324 │     5.0e-324 │  5.3467e-314 │ 2.24382e-314 │\n",
      "│  79.0 │     2.0e-323 │          0.0 │          0.0 │   5.0e-324 │  5.0e-324 │     5.0e-324 │  5.3467e-314 │ 2.24382e-314 │\n",
      "│  80.0 │     5.0e-324 │          0.0 │          0.0 │   5.0e-324 │  5.0e-324 │          0.0 │  5.3467e-314 │ 2.24382e-314 │\n",
      "│  81.0 │     5.0e-324 │     5.0e-324 │          0.0 │        0.0 │  5.0e-324 │          0.0 │  5.3467e-314 │ 2.24391e-314 │\n",
      "│  82.0 │     1.0e-323 │     5.0e-324 │     5.0e-324 │        0.0 │       0.0 │     5.0e-324 │  5.3467e-314 │ 2.22933e-314 │\n",
      "│  83.0 │     5.0e-324 │     5.0e-324 │     5.0e-324 │        0.0 │  5.0e-324 │     5.0e-324 │  5.3467e-314 │ 2.24382e-314 │\n",
      "│  84.0 │     4.0e-323 │          0.0 │          0.0 │        0.0 │  5.0e-324 │          0.0 │  5.3467e-314 │  2.2274e-314 │\n",
      "│  85.0 │     1.0e-323 │          0.0 │          0.0 │   5.0e-324 │       0.0 │          0.0 │  5.3467e-314 │ 2.15004e-314 │\n",
      "│  86.0 │     1.0e-323 │          0.0 │     5.0e-324 │   5.0e-324 │       0.0 │     5.0e-324 │  5.3467e-314 │ 2.24382e-314 │\n",
      "│  87.0 │     5.0e-324 │          0.0 │     5.0e-324 │        0.0 │  5.0e-324 │          0.0 │ 5.34671e-314 │ 2.24382e-314 │\n",
      "│  88.0 │     5.0e-324 │     5.0e-324 │          0.0 │        0.0 │  5.0e-324 │          0.0 │ 2.67497e-314 │ 2.24382e-314 │\n",
      "│  89.0 │     5.0e-324 │     5.0e-324 │          0.0 │   5.0e-324 │  5.0e-324 │          0.0 │  5.3467e-314 │ 2.24382e-314 │\n",
      "│  90.0 │     5.0e-324 │     5.0e-324 │          0.0 │   5.0e-324 │  5.0e-324 │          0.0 │ 2.67494e-314 │ 2.24382e-314 │\n",
      "│  91.0 │     1.0e-323 │          0.0 │     5.0e-324 │        0.0 │       0.0 │     5.0e-324 │ 2.15004e-314 │ 2.24382e-314 │\n",
      "│  92.0 │     5.0e-324 │          0.0 │     5.0e-324 │        0.0 │       0.0 │     5.0e-324 │  5.3467e-314 │ 2.24382e-314 │\n",
      "│  93.0 │     1.0e-323 │     2.0e-323 │     5.0e-324 │   2.5e-323 │       0.0 │          0.0 │  5.3467e-314 │ 2.24382e-314 │\n",
      "│  94.0 │     1.0e-323 │     5.0e-324 │          0.0 │   5.0e-324 │       0.0 │          0.0 │ 2.15005e-314 │ 2.24382e-314 │\n",
      "│  95.0 │          0.0 │     5.0e-324 │          0.0 │   5.0e-324 │       0.0 │     5.0e-324 │  5.3467e-314 │ 2.24382e-314 │\n",
      "│  96.0 │          0.0 │     1.0e-323 │          0.0 │   5.0e-324 │       0.0 │     5.0e-324 │  5.3467e-314 │ 2.24382e-314 │\n",
      "│  97.0 │     5.0e-324 │     5.0e-324 │     5.0e-324 │   5.0e-324 │       0.0 │          0.0 │  5.3467e-314 │ 2.24382e-314 │\n",
      "│  98.0 │          0.0 │     4.0e-323 │     5.0e-324 │   5.0e-324 │  5.0e-324 │          0.0 │ 2.67497e-314 │ 2.24382e-314 │\n",
      "│  99.0 │     5.0e-324 │     1.0e-323 │          0.0 │   5.0e-324 │       0.0 │     5.0e-324 │ 5.34669e-314 │ 2.24382e-314 │\n",
      "│ 100.0 │          0.0 │     1.0e-323 │          0.0 │   5.0e-324 │       0.0 │     5.0e-324 │ 5.34669e-314 │ 2.24382e-314 │\n",
      "│ 101.0 │          0.0 │     5.0e-324 │     5.0e-324 │        0.0 │       0.0 │          0.0 │ 5.34669e-314 │ 2.24382e-314 │\n",
      "│ 102.0 │     5.0e-324 │     5.0e-324 │     5.0e-324 │        0.0 │       0.0 │          0.0 │ 5.34669e-314 │ 2.24382e-314 │\n",
      "│ 103.0 │          0.0 │     5.0e-324 │          0.0 │   5.0e-324 │  5.0e-324 │          0.0 │ 2.15004e-314 │ 2.24382e-314 │\n",
      "│ 104.0 │          0.0 │     5.0e-324 │          0.0 │   1.0e-323 │  5.0e-324 │     5.0e-324 │ 5.34671e-314 │ 2.24382e-314 │\n",
      "│ 105.0 │          0.0 │     1.0e-323 │     5.0e-324 │   5.0e-324 │       0.0 │     5.0e-324 │ 2.15005e-314 │ 2.24382e-314 │\n",
      "│ 106.0 │     5.0e-324 │     5.0e-324 │     5.0e-324 │   5.0e-324 │       0.0 │          0.0 │  5.3467e-314 │ 2.24382e-314 │\n",
      "│ 107.0 │     5.0e-324 │     1.0e-323 │          0.0 │   5.0e-324 │  5.0e-324 │          0.0 │  5.3467e-314 │ 2.24382e-314 │\n",
      "│ 108.0 │     1.0e-323 │     1.0e-323 │          0.0 │        0.0 │  5.0e-324 │     5.0e-324 │  5.3467e-314 │ 2.24382e-314 │\n",
      "│ 109.0 │     5.0e-324 │          0.0 │          0.0 │        0.0 │       0.0 │     5.0e-324 │  5.3467e-314 │ 2.24382e-314 │\n",
      "│ 110.0 │     1.0e-323 │          0.0 │     5.0e-324 │        0.0 │       0.0 │          0.0 │  5.3467e-314 │ 2.24382e-314 │\n",
      "│ 111.0 │     1.0e-323 │     5.0e-324 │     5.0e-324 │        0.0 │  5.0e-324 │          0.0 │  5.3467e-314 │ 2.22933e-314 │\n",
      "│ 112.0 │          0.0 │          0.0 │          0.0 │   5.0e-324 │  5.0e-324 │     5.0e-324 │  5.3467e-314 │ 2.24382e-314 │\n",
      "│ 113.0 │          0.0 │     5.0e-324 │          0.0 │   5.0e-324 │       0.0 │     5.0e-324 │  5.3467e-314 │ 2.24382e-314 │\n",
      "│ 114.0 │     5.0e-324 │          0.0 │     5.0e-324 │        0.0 │       0.0 │          0.0 │  5.3467e-314 │ 2.22933e-314 │\n",
      "│ 115.0 │          0.0 │          0.0 │     5.0e-324 │   5.0e-324 │  5.0e-324 │     5.0e-324 │ 5.34671e-314 │ 2.15004e-314 │\n",
      "│ 116.0 │     5.0e-324 │     5.0e-324 │          0.0 │   1.0e-323 │  5.0e-324 │          0.0 │ 2.67497e-314 │ 2.22933e-314 │\n",
      "│ 117.0 │          0.0 │          0.0 │          0.0 │        0.0 │       0.0 │          0.0 │  5.3467e-314 │ 2.24382e-314 │\n",
      "│ 118.0 │          0.0 │          0.0 │          0.0 │        0.0 │       0.0 │          0.0 │ 2.67494e-314 │ 2.24382e-314 │\n",
      "│ 119.0 │     5.0e-324 │          0.0 │     5.0e-324 │        0.0 │       0.0 │          0.0 │ 2.15004e-314 │ 2.24382e-314 │\n",
      "│ 120.0 │          0.0 │     5.0e-324 │     5.0e-324 │   5.0e-324 │       0.0 │     5.0e-324 │  5.3467e-314 │ 2.24382e-314 │\n",
      "│ 121.0 │          0.0 │     5.0e-324 │          0.0 │        0.0 │       0.0 │     5.0e-324 │  5.3467e-314 │ 2.24382e-314 │\n",
      "│ 122.0 │          0.0 │     1.0e-323 │          0.0 │        0.0 │       0.0 │          0.0 │ 2.15005e-314 │ 2.24382e-314 │\n",
      "│ 123.0 │          0.0 │     5.0e-324 │     5.0e-324 │   5.0e-324 │  5.0e-324 │          0.0 │  5.3467e-314 │ 2.24382e-314 │\n",
      "│ 124.0 │          0.0 │     1.0e-323 │     5.0e-324 │        0.0 │  5.0e-324 │          0.0 │  5.3467e-314 │ 2.34996e-314 │\n",
      "│ 125.0 │     5.0e-324 │     1.0e-323 │          0.0 │        0.0 │       0.0 │     5.0e-324 │  5.3467e-314 │ 2.23015e-314 │\n",
      "│ 126.0 │     5.0e-324 │          0.0 │          0.0 │        0.0 │       0.0 │     5.0e-324 │          0.0 │ 2.24382e-314 │\n",
      "│ 127.0 │     1.0e-323 │          0.0 │     5.0e-324 │        0.0 │  5.0e-324 │          0.0 │  5.7394e-314 │ 2.24382e-314 │\n",
      "│ 128.0 │     5.0e-324 │     5.0e-324 │     5.0e-324 │   5.0e-324 │  5.0e-324 │          0.0 │ 5.79605e-314 │ 2.24382e-314 │\n",
      "│ 129.0 │     5.0e-324 │          0.0 │          0.0 │        0.0 │       0.0 │     5.0e-324 │ 2.67497e-314 │ 2.24382e-314 │\n",
      "│ 130.0 │     5.0e-324 │     5.0e-324 │          0.0 │        0.0 │       0.0 │     5.0e-324 │  5.3467e-314 │ 2.24382e-314 │\n",
      "│ 131.0 │     5.0e-324 │          0.0 │     5.0e-324 │        0.0 │  5.0e-324 │          0.0 │ 2.67497e-314 │ 2.24382e-314 │\n",
      "│ 132.0 │          0.0 │          0.0 │     5.0e-324 │   5.0e-324 │  5.0e-324 │          0.0 │ 2.67497e-314 │ 2.24382e-314 │\n",
      "│ 133.0 │          0.0 │     5.0e-324 │          0.0 │   5.0e-324 │       0.0 │          0.0 │ 2.39225e-314 │ 2.24382e-314 │\n",
      "│ 134.0 │          0.0 │          0.0 │          0.0 │        0.0 │       0.0 │     5.0e-324 │ 5.79285e-314 │ 2.24382e-314 │\n",
      "│ 135.0 │     5.0e-324 │          0.0 │          0.0 │   5.0e-324 │  5.0e-324 │     5.0e-324 │   2.885e-321 │ 2.24382e-314 │\n",
      "│ 136.0 │          0.0 │          0.0 │          0.0 │   1.0e-323 │  5.0e-324 │          0.0 │ 2.77248e-318 │ 2.24382e-314 │\n",
      "│ 137.0 │          0.0 │          0.0 │     5.0e-324 │        0.0 │       0.0 │          0.0 │   2.885e-321 │ 2.24382e-314 │\n",
      "│ 138.0 │     2.5e-323 │          0.0 │     5.0e-324 │        0.0 │       0.0 │     5.0e-324 │    3.13e-321 │ 2.24391e-314 │\n",
      "│ 139.0 │     5.0e-324 │     5.0e-324 │          0.0 │   5.0e-324 │  5.0e-324 │     5.0e-324 │ 5.34671e-314 │ 2.24382e-314 │\n",
      "│ 140.0 │          0.0 │     5.0e-324 │          0.0 │   5.0e-324 │  5.0e-324 │          0.0 │  5.3467e-314 │ 2.22933e-314 │\n",
      "│ 141.0 │          0.0 │     1.0e-323 │     5.0e-324 │   5.0e-324 │       0.0 │          0.0 │  5.3467e-314 │ 2.22933e-314 │\n",
      "│ 142.0 │     5.0e-324 │     5.0e-324 │     5.0e-324 │   5.0e-324 │       0.0 │     5.0e-324 │  2.2438e-314 │ 2.24391e-314 │\n",
      "│ 143.0 │          0.0 │     5.0e-324 │          0.0 │   5.0e-324 │       0.0 │     5.0e-324 │  2.2438e-314 │ 2.22933e-314 │\n",
      "│ 144.0 │     5.0e-324 │     5.0e-324 │          0.0 │   5.0e-324 │       0.0 │          0.0 │  2.2438e-314 │ 2.24382e-314 │\n",
      "│ 145.0 │          0.0 │     5.0e-324 │     5.0e-324 │        0.0 │  5.0e-324 │          0.0 │  2.2398e-314 │ 2.24382e-314 │\n",
      "│ 146.0 │          0.0 │          0.0 │     5.0e-324 │        0.0 │  5.0e-324 │     5.0e-324 │  2.2438e-314 │ 2.24382e-314 │\n",
      "│ 147.0 │     5.0e-324 │          0.0 │          0.0 │        0.0 │       0.0 │     5.0e-324 │  2.2438e-314 │ 2.24382e-314 │\n",
      "│ 148.0 │          0.0 │          0.0 │          0.0 │   5.0e-324 │       0.0 │          0.0 │  2.2438e-314 │ 2.24382e-314 │\n",
      "│ 149.0 │     3.0e-323 │     5.0e-324 │     5.0e-324 │   5.0e-324 │  5.0e-324 │          0.0 │  2.2438e-314 │ 2.24382e-314 │\n",
      "│ 150.0 │     5.0e-324 │          0.0 │     5.0e-324 │        0.0 │  5.0e-324 │     5.0e-324 │ 2.24391e-314 │ 2.24382e-314 │\n",
      "│ 151.0 │     5.0e-324 │          0.0 │          0.0 │   5.0e-324 │       0.0 │     5.0e-324 │ 2.22918e-314 │ 2.22933e-314 │\n",
      "│ 152.0 │     1.0e-323 │     2.5e-323 │          0.0 │   2.0e-323 │       0.0 │          0.0 │ 2.22918e-314 │ 2.24382e-314 │\n",
      "│ 153.0 │     5.0e-324 │     5.0e-324 │     5.0e-324 │        0.0 │  5.0e-324 │          0.0 │ 2.24391e-314 │ 2.22933e-314 │\n",
      "│ 154.0 │     5.0e-324 │          0.0 │     5.0e-324 │        0.0 │  5.0e-324 │     5.0e-324 │ 2.22918e-314 │ 2.24382e-314 │\n",
      "│ 155.0 │     5.0e-324 │          0.0 │          0.0 │   5.0e-324 │       0.0 │     5.0e-324 │ 2.24391e-314 │ 2.22933e-314 │\n",
      "│ 156.0 │     1.0e-323 │     5.0e-324 │          0.0 │   5.0e-324 │       0.0 │          0.0 │ 2.15004e-314 │ 2.24382e-314 │\n",
      "│ 157.0 │     5.0e-324 │          0.0 │     5.0e-324 │        0.0 │  5.0e-324 │          0.0 │ 2.15004e-314 │ 2.24382e-314 │\n",
      "│ 158.0 │     5.0e-324 │     5.0e-324 │     5.0e-324 │        0.0 │  5.0e-324 │     5.0e-324 │  2.2438e-314 │ 2.24382e-314 │\n",
      "│ 159.0 │          0.0 │          0.0 │          0.0 │   5.0e-324 │       0.0 │     5.0e-324 │  2.2438e-314 │ 2.24382e-314 │\n",
      "│ 160.0 │     5.0e-324 │          0.0 │          0.0 │   5.0e-324 │       0.0 │          0.0 │ 2.24391e-314 │ 2.24382e-314 │\n",
      "│ 161.0 │     1.0e-323 │     5.0e-324 │     5.0e-324 │        0.0 │  5.0e-324 │          0.0 │  2.2438e-314 │ 2.24382e-314 │\n",
      "│ 162.0 │     1.0e-323 │          0.0 │     5.0e-324 │        0.0 │  5.0e-324 │          0.0 │  2.2438e-314 │ 2.24382e-314 │\n",
      "│ 163.0 │     1.5e-323 │     3.0e-323 │          0.0 │   2.5e-323 │       0.0 │          0.0 │  2.2438e-314 │ 2.24382e-314 │\n",
      "│ 164.0 │     5.0e-324 │     5.0e-324 │          0.0 │   5.0e-324 │       0.0 │     5.0e-324 │  2.2438e-314 │ 2.24382e-314 │\n",
      "│ 165.0 │          0.0 │     5.0e-324 │     5.0e-324 │   5.0e-324 │  5.0e-324 │     5.0e-324 │  2.2438e-314 │ 2.24391e-314 │\n",
      "│ 166.0 │     5.0e-324 │     1.0e-323 │     5.0e-324 │   5.0e-324 │  5.0e-324 │          0.0 │  2.2438e-314 │ 2.24382e-314 │\n",
      "│ 167.0 │          0.0 │     5.0e-324 │          0.0 │   5.0e-324 │       0.0 │          0.0 │  2.2438e-314 │ 2.22933e-314 │\n",
      "│ 168.0 │          0.0 │     5.0e-324 │          0.0 │   5.0e-324 │       0.0 │     5.0e-324 │  2.2438e-314 │ 2.22933e-314 │\n",
      "│ 169.0 │     1.5e-323 │     5.0e-324 │     5.0e-324 │   5.0e-324 │  5.0e-324 │     5.0e-324 │ 2.24391e-314 │ 2.24391e-314 │\n",
      "│ 170.0 │          0.0 │     1.0e-323 │     5.0e-324 │   1.0e-323 │  5.0e-324 │          0.0 │ 2.22918e-314 │ 2.22933e-314 │\n",
      "│ 171.0 │     1.0e-323 │     5.0e-324 │          0.0 │        0.0 │       0.0 │          0.0 │ 2.22933e-314 │ 2.24382e-314 │\n",
      "│ 172.0 │     5.0e-324 │     5.0e-324 │          0.0 │   5.0e-324 │       0.0 │          0.0 │ 2.24391e-314 │ 2.24382e-314 │\n",
      "│ 173.0 │     5.0e-324 │          0.0 │     5.0e-324 │   5.0e-324 │       0.0 │     5.0e-324 │ 2.22933e-314 │ 2.24382e-314 │\n",
      "│ 174.0 │     5.0e-324 │     5.0e-324 │     5.0e-324 │        0.0 │       0.0 │     5.0e-324 │ 2.24391e-314 │ 2.24382e-314 │\n",
      "│ 175.0 │     1.0e-323 │     1.0e-323 │          0.0 │   5.0e-324 │  5.0e-324 │          0.0 │  2.2438e-314 │ 2.24382e-314 │\n",
      "│ 176.0 │     5.0e-324 │     1.0e-323 │          0.0 │        0.0 │  5.0e-324 │          0.0 │  2.2438e-314 │ 2.24382e-314 │\n",
      "│ 177.0 │     5.0e-324 │     1.5e-323 │     5.0e-324 │        0.0 │       0.0 │     5.0e-324 │  2.2438e-314 │ 2.24382e-314 │\n",
      "│ 178.0 │          0.0 │     5.0e-324 │     5.0e-324 │   5.0e-324 │       0.0 │     5.0e-324 │  2.2438e-314 │ 2.22933e-314 │\n",
      "│ 179.0 │          0.0 │          0.0 │          0.0 │        0.0 │  5.0e-324 │          0.0 │  2.2438e-314 │ 2.24382e-314 │\n",
      "│ 180.0 │     5.0e-324 │     5.0e-324 │          0.0 │   5.0e-324 │  5.0e-324 │          0.0 │  2.2438e-314 │ 2.24382e-314 │\n",
      "│ 181.0 │          0.0 │          0.0 │     5.0e-324 │   5.0e-324 │       0.0 │          0.0 │  2.2438e-314 │ 2.24382e-314 │\n",
      "│ 182.0 │     5.0e-324 │          0.0 │     5.0e-324 │   5.0e-324 │       0.0 │     5.0e-324 │  2.2438e-314 │ 2.24382e-314 │\n",
      "│ 183.0 │          0.0 │     1.5e-323 │          0.0 │        0.0 │  5.0e-324 │          0.0 │  2.2438e-314 │ 2.24382e-314 │\n",
      "│ 184.0 │          0.0 │          0.0 │          0.0 │        0.0 │  5.0e-324 │          0.0 │  2.2438e-314 │ 2.24382e-314 │\n",
      "│ 185.0 │     5.0e-324 │     1.0e-323 │     5.0e-324 │        0.0 │       0.0 │          0.0 │ 2.24391e-314 │ 2.24382e-314 │\n",
      "│ 186.0 │          0.0 │     5.0e-324 │     5.0e-324 │        0.0 │       0.0 │  5.3467e-314 │  2.2438e-314 │ 2.24391e-314 │\n",
      "│ 187.0 │     5.0e-324 │     5.0e-324 │          0.0 │        0.0 │  5.0e-324 │  5.3467e-314 │ 2.22933e-314 │ 2.24382e-314 │\n",
      "│ 188.0 │          0.0 │     5.0e-324 │          0.0 │        0.0 │  5.0e-324 │  5.3467e-314 │ 2.22933e-314 │ 2.22933e-314 │\n",
      "│ 189.0 │          0.0 │     1.0e-323 │     5.0e-324 │        0.0 │       0.0 │  5.3467e-314 │ 2.24391e-314 │ 2.22933e-314 │\n",
      "│ 190.0 │     5.0e-324 │     5.0e-324 │     5.0e-324 │        0.0 │       0.0 │ 5.34668e-314 │ 2.22933e-314 │ 2.24391e-314 │\n",
      "│ 191.0 │          0.0 │     5.0e-324 │          0.0 │        0.0 │  5.0e-324 │ 5.34671e-314 │  2.2438e-314 │ 2.22933e-314 │\n",
      "│ 192.0 │          0.0 │          0.0 │          0.0 │   5.0e-324 │  5.0e-324 │ 2.67497e-314 │  2.2438e-314 │ 2.24382e-314 │\n",
      "│ 193.0 │     1.5e-323 │          0.0 │     5.0e-324 │   5.0e-324 │  5.0e-324 │ 2.67497e-314 │  2.2438e-314 │ 2.24382e-314 │\n",
      "│ 194.0 │     5.0e-324 │     5.0e-324 │     5.0e-324 │        0.0 │       0.0 │ 5.34671e-314 │  2.2438e-314 │ 2.24382e-314 │\n",
      "│ 195.0 │          0.0 │          0.0 │     1.0e-323 │        0.0 │       0.0 │ 5.34668e-314 │  2.2438e-314 │ 2.24382e-314 │\n",
      "│ 196.0 │     6.0e-323 │     5.0e-324 │          0.0 │   5.0e-324 │  5.0e-324 │ 2.67497e-314 │  2.2438e-314 │ 2.24382e-314 │\n",
      "│ 197.0 │          0.0 │          0.0 │          0.0 │   3.5e-323 │  5.0e-324 │ 2.67497e-314 │  2.2438e-314 │ 2.24382e-314 │\n",
      "│ 198.0 │     5.0e-324 │          0.0 │     5.0e-324 │        0.0 │       0.0 │ 5.34671e-314 │ 2.22933e-314 │ 2.24382e-314 │\n",
      "│ 199.0 │     5.0e-324 │     5.0e-324 │     5.0e-324 │        0.0 │       0.0 │ 2.15004e-314 │  2.2438e-314 │ 2.22933e-314 │\n",
      "│ 200.0 │     5.0e-324 │          0.0 │          0.0 │   5.0e-324 │  5.0e-324 │ 5.34669e-314 │ 2.22933e-314 │ 2.22933e-314 │\n",
      "│ 201.0 │          0.0 │     5.0e-324 │          0.0 │   5.0e-324 │  5.0e-324 │ 5.34669e-314 │  2.2438e-314 │ 2.24382e-314 │\n",
      "│ 202.0 │          0.0 │          0.0 │     5.0e-324 │        0.0 │       0.0 │  5.3467e-314 │ 2.22933e-314 │ 2.22933e-314 │\n",
      "│ 203.0 │          0.0 │          0.0 │     5.0e-324 │        0.0 │       0.0 │ 5.34671e-314 │  2.2438e-314 │ 2.24382e-314 │\n",
      "│ 204.0 │          0.0 │     5.0e-324 │          0.0 │   5.0e-324 │  5.0e-324 │ 2.15004e-314 │  2.2438e-314 │ 2.22933e-314 │\n",
      "│ 205.0 │          0.0 │          0.0 │          0.0 │   5.0e-324 │  5.0e-324 │ 5.34671e-314 │  2.2438e-314 │ 2.22933e-314 │\n",
      "│ 206.0 │          0.0 │          0.0 │     5.0e-324 │        0.0 │       0.0 │ 5.34671e-314 │  2.2438e-314 │ 2.24382e-314 │\n",
      "│ 207.0 │          0.0 │     1.5e-323 │     5.0e-324 │        0.0 │       0.0 │  5.3467e-314 │  2.2438e-314 │ 2.22933e-314 │\n",
      "│ 208.0 │     5.0e-324 │     5.0e-324 │          0.0 │   5.0e-324 │  5.0e-324 │ 5.34671e-314 │  2.2438e-314 │ 2.24382e-314 │\n",
      "│ 209.0 │     5.0e-324 │          0.0 │          0.0 │   5.0e-324 │  5.0e-324 │  5.3467e-314 │  2.2438e-314 │ 2.24382e-314 │\n",
      "│ 210.0 │     5.0e-324 │     6.0e-323 │     5.0e-324 │        0.0 │  1.0e-323 │  5.3467e-314 │  2.2438e-314 │ 2.22933e-314 │\n",
      "│ 211.0 │     5.0e-324 │          0.0 │     5.0e-324 │        0.0 │       0.0 │  5.3467e-314 │  2.2438e-314 │ 2.24377e-314 │\n",
      "│ 212.0 │          0.0 │     5.0e-324 │          0.0 │   5.0e-324 │       0.0 │ 5.34671e-314 │ 2.24391e-314 │ 2.24382e-314 │\n",
      "│ 213.0 │          0.0 │     5.0e-324 │          0.0 │   5.0e-324 │  5.0e-324 │  5.3467e-314 │  2.2438e-314 │ 2.24382e-314 │\n",
      "│ 214.0 │     5.0e-324 │     5.0e-324 │          0.0 │        0.0 │  5.0e-324 │ 5.34671e-314 │ 2.22933e-314 │ 2.24382e-314 │\n",
      "│ 215.0 │          0.0 │          0.0 │     5.0e-324 │        0.0 │       0.0 │ 2.15004e-314 │ 2.22933e-314 │ 2.24382e-314 │\n",
      "│ 216.0 │          0.0 │          0.0 │     5.0e-324 │   5.0e-324 │       0.0 │  5.3467e-314 │ 2.24391e-314 │ 2.24391e-314 │\n",
      "│ 217.0 │          0.0 │          0.0 │          0.0 │   5.0e-324 │  5.0e-324 │ 5.34671e-314 │ 2.22933e-314 │ 2.22933e-314 │\n",
      "│ 218.0 │     2.0e-323 │          0.0 │          0.0 │        0.0 │  5.0e-324 │  5.3467e-314 │  2.2438e-314 │ 2.24382e-314 │\n",
      "│ 219.0 │          0.0 │          0.0 │     5.0e-324 │        0.0 │       0.0 │ 2.67497e-314 │  2.2438e-314 │ 2.24382e-314 │\n",
      "│ 220.0 │     5.0e-324 │          0.0 │     5.0e-324 │   5.0e-324 │       0.0 │ 2.67497e-314 │  2.2438e-314 │ 2.24382e-314 │\n",
      "│ 221.0 │     5.0e-324 │          0.0 │          0.0 │   5.0e-324 │       0.0 │ 2.67497e-314 │  2.2438e-314 │ 2.24382e-314 │\n",
      "│ 222.0 │     5.0e-324 │     5.0e-324 │          0.0 │   3.5e-323 │       0.0 │ 5.34671e-314 │  2.2438e-314 │ 2.24382e-314 │\n",
      "│ 223.0 │     1.0e-323 │     5.0e-324 │     5.0e-324 │        0.0 │       0.0 │ 5.34671e-314 │  2.2438e-314 │ 2.24382e-314 │\n",
      "│ 224.0 │     5.0e-324 │     5.0e-324 │     5.0e-324 │        0.0 │       0.0 │ 2.67497e-314 │  2.2438e-314 │ 2.24391e-314 │\n",
      "│ 225.0 │     5.0e-324 │     5.0e-324 │          0.0 │   5.0e-324 │  5.0e-324 │  5.3467e-314 │ 2.22933e-314 │ 2.22933e-314 │\n",
      "│ 226.0 │     5.0e-324 │          0.0 │          0.0 │   5.0e-324 │  5.0e-324 │ 2.34996e-314 │  2.2438e-314 │ 2.22933e-314 │\n",
      "│ 227.0 │     5.0e-324 │          0.0 │     5.0e-324 │        0.0 │       0.0 │ 2.67497e-314 │  2.2438e-314 │ 2.24391e-314 │\n",
      "│ 228.0 │     5.0e-324 │     5.0e-324 │     1.0e-323 │        0.0 │       0.0 │ 2.67497e-314 │  2.2438e-314 │ 2.24382e-314 │\n",
      "│ 229.0 │          0.0 │          0.0 │          0.0 │   5.0e-324 │  5.0e-324 │ 2.15004e-314 │  2.2438e-314 │ 2.22933e-314 │\n",
      "└───────┴──────────────┴──────────────┴──────────────┴────────────┴───────────┴──────────────┴──────────────┴──────────────┘\n"
     ]
    }
   ],
   "source": [
    "table_data=Array{Float64, 2}(undef, trading_days, length(w)+3)\n",
    "for element in 1:trading_days\n",
    "    table_data[element,1]=element\n",
    "    for j in eachindex(tickers)\n",
    "        table_data[i,j+1]=portfolio_performance_initial[i,j]\n",
    "    end\n",
    "    table_data[i,end-1]=portfolio_performance_initial[i, end-1]\n",
    "    table_data[i,end]=portfolio_performance_initial[i,end]\n",
    "end\n",
    "\n",
    "pretty_table(table_data, header=[\"index\", tickers..., \"risk (sqrt)\", \"total value\"])\n"
   ]
  },
  {
   "cell_type": "code",
   "execution_count": 153,
   "id": "f49ea2a2",
   "metadata": {},
   "outputs": [
    {
     "data": {
      "text/plain": [
       "NaN"
      ]
     },
     "metadata": {},
     "output_type": "display_data"
    }
   ],
   "source": [
    "reallocated_portfolio=Array{Float64, 2}(undef, trading_days, length(w)+2)\n",
    "\n",
    "for element in 1:trading_days\n",
    "    risk_new=results[i,:risk]\n",
    "    n_new=results[i,:N_updated]\n",
    "    price_new=results[i,:updated_close]\n",
    "\n",
    "    for j in eachindex(tickers)\n",
    "        reallocated_portfolio[i,j]=n_new[j]*price_new[j]|> x -> round(x,digits=3)|> abs\n",
    "    end\n",
    "\n",
    "    reallocated_portfolio[i,end-1]=risk_new\n",
    "end\n",
    "\n",
    "for element in 1:trading_days\n",
    "    reallocated_portfolio[i,end]=sum(reallocated_portfolio[i,1:end-2])\n",
    "end\n",
    "\n",
    "tot=reallocated_portfolio[1,end]\n",
    "data=reallocated_portfolio[1,1:end-2]\n",
    "w=(1/tot)*data\n",
    "reallocated_portfolio[1,end-1]=transpose(w)*Σ̂*w |> sqrt\n"
   ]
  },
  {
   "cell_type": "code",
   "execution_count": 154,
   "id": "307ea0bb",
   "metadata": {},
   "outputs": [
    {
     "name": "stdout",
     "output_type": "stream",
     "text": [
      "┌───────┬──────────────┬──────────────┬───────────────┬──────────────┬──────────────┬──────────────┬──────────────┬──────────────┐\n",
      "│\u001b[1m index \u001b[0m│\u001b[1m         NVDA \u001b[0m│\u001b[1m          MDT \u001b[0m│\u001b[1m           AMD \u001b[0m│\u001b[1m           PG \u001b[0m│\u001b[1m           MO \u001b[0m│\u001b[1m          PLD \u001b[0m│\u001b[1m  risk (sqrt) \u001b[0m│\u001b[1m  total value \u001b[0m│\n",
      "├───────┼──────────────┼──────────────┼───────────────┼──────────────┼──────────────┼──────────────┼──────────────┼──────────────┤\n",
      "│   1.0 │ 5.59864e-314 │          0.0 │  5.75992e-314 │          NaN │    3.33e-321 │ 2.20502e-314 │ 5.68413e-314 │ 5.68371e-314 │\n",
      "│   2.0 │          NaN │ 2.20395e-314 │  5.75999e-314 │ 5.59864e-314 │ 2.20496e-314 │     1.0e-323 │ 5.68394e-314 │          0.0 │\n",
      "│   3.0 │     4.0e-323 │          0.0 │  5.75999e-314 │          NaN │ 2.18432e-314 │          0.0 │   2.122e-314 │ 5.59868e-314 │\n",
      "│   4.0 │          NaN │ 6.32694e-310 │     5.76e-314 │     5.4e-323 │          0.0 │          NaN │ 4.24399e-314 │ 5.59865e-314 │\n",
      "│   5.0 │          0.0 │ 5.68404e-314 │     5.76e-314 │ 5.75993e-314 │ 5.59864e-314 │          0.0 │ 5.59711e-314 │ 4.24399e-314 │\n",
      "│   6.0 │      266.248 │        12.66 │       740.316 │       16.957 │       10.471 │       17.866 │ 5.44586e-157 │      1064.52 │\n",
      "│   7.0 │          0.0 │ 5.68404e-314 │  5.68416e-314 │ 5.59894e-314 │ 5.59864e-314 │ 2.20502e-314 │ 5.68376e-314 │          NaN │\n",
      "│   8.0 │          NaN │ 2.20622e-314 │  5.75998e-314 │ 5.68414e-314 │     1.6e-322 │          0.0 │ 5.59724e-314 │          NaN │\n",
      "│   9.0 │          0.0 │ 2.20395e-314 │  5.75998e-314 │ 5.75999e-314 │          0.0 │          0.0 │ 5.59865e-314 │          NaN │\n",
      "│  10.0 │          NaN │ 2.20395e-314 │  5.68415e-314 │ 5.75999e-314 │ 5.59717e-314 │          NaN │ 8.48798e-314 │ 5.59864e-314 │\n",
      "│  11.0 │ 5.59864e-314 │     5.0e-324 │  5.68415e-314 │          NaN │ 5.59718e-314 │          0.0 │ 5.59872e-314 │          NaN │\n",
      "│  12.0 │          NaN │          0.0 │  5.76002e-314 │          0.0 │ 5.59719e-314 │          0.0 │ 5.59865e-314 │ 5.59864e-314 │\n",
      "│  13.0 │ 5.68404e-314 │ 2.20395e-314 │  5.76002e-314 │ 5.75987e-314 │  5.5972e-314 │ 2.20502e-314 │ 8.48798e-314 │ 5.59868e-314 │\n",
      "│  14.0 │          NaN │          0.0 │           NaN │ 5.75987e-314 │ 5.59721e-314 │     1.0e-323 │ 5.59872e-314 │ 5.59865e-314 │\n",
      "│  15.0 │ 5.59864e-314 │  2.5573e-320 │  5.76002e-314 │  5.7602e-314 │ 5.59718e-314 │          0.0 │          0.0 │ 4.24399e-314 │\n",
      "│  16.0 │          NaN │ 5.68404e-314 │           NaN │  5.7602e-314 │ 5.59722e-314 │          NaN │ 5.68388e-314 │ 5.75995e-314 │\n",
      "│  17.0 │          0.0 │ 5.68404e-314 │  5.68408e-314 │ 5.75992e-314 │ 5.59722e-314 │          0.0 │ 5.59924e-314 │          NaN │\n",
      "│  18.0 │          NaN │ 5.68404e-314 │  5.76001e-314 │ 5.68399e-314 │          0.0 │          0.0 │ 5.68388e-314 │ 5.68391e-314 │\n",
      "│  19.0 │     1.5e-323 │ 2.20622e-314 │  5.76001e-314 │          NaN │   3.953e-321 │ 2.20502e-314 │ 5.68409e-314 │ 3.60739e-313 │\n",
      "│  20.0 │          NaN │ 2.20395e-314 │  5.75998e-314 │          0.0 │ 2.20502e-314 │     1.0e-323 │ 5.59924e-314 │          0.0 │\n",
      "│  21.0 │          0.0 │ 2.20395e-314 │  5.68414e-314 │          NaN │     1.0e-323 │          0.0 │ 5.59924e-314 │          NaN │\n",
      "│  22.0 │          NaN │     5.0e-324 │  5.68382e-314 │          0.0 │          0.0 │          NaN │          0.0 │          0.0 │\n",
      "│  23.0 │     5.0e-324 │          0.0 │  5.68382e-314 │ 5.59854e-314 │          NaN │          0.0 │ 5.68381e-314 │          NaN │\n",
      "│  24.0 │          NaN │ 2.20395e-314 │  5.68414e-314 │ 5.59854e-314 │          0.0 │          0.0 │ 5.68381e-314 │ 5.59864e-314 │\n",
      "│  25.0 │          0.0 │          0.0 │  5.68415e-314 │          NaN │          0.0 │ 2.20502e-314 │ 5.59924e-314 │          0.0 │\n",
      "│  26.0 │          NaN │ 4.58181e-310 │   5.6838e-314 │          0.0 │ 2.20502e-314 │ 5.75988e-314 │ 5.59924e-314 │          0.0 │\n",
      "│  27.0 │ 5.59864e-314 │ 5.68404e-314 │   5.6838e-314 │ 5.68397e-314 │     1.0e-323 │ 3.60739e-313 │ 5.59924e-314 │          0.0 │\n",
      "│  28.0 │          NaN │ 5.68404e-314 │  5.75989e-314 │ 5.68397e-314 │          0.0 │          NaN │ 5.59924e-314 │          NaN │\n",
      "│  29.0 │          NaN │ 5.68404e-314 │  5.59864e-314 │ 5.68413e-314 │          NaN │          0.0 │ 5.68388e-314 │          0.0 │\n",
      "│  30.0 │          NaN │ 2.20622e-314 │           NaN │ 5.68413e-314 │          0.0 │          0.0 │ 5.59924e-314 │          0.0 │\n",
      "│  31.0 │ 5.68413e-314 │ 2.20395e-314 │  5.75995e-314 │ 5.76002e-314 │   2.964e-321 │ 2.20502e-314 │ 5.68388e-314 │          0.0 │\n",
      "│  32.0 │          NaN │ 2.20395e-314 │  5.68371e-314 │ 5.59861e-314 │ 2.20502e-314 │     1.0e-323 │ 5.59924e-314 │          0.0 │\n",
      "│  33.0 │          NaN │     5.0e-324 │  5.68371e-314 │          NaN │     1.0e-323 │          0.0 │ 5.68388e-314 │          NaN │\n",
      "│  34.0 │          NaN │          0.0 │  5.59862e-314 │          0.0 │          0.0 │          NaN │ 5.59924e-314 │          0.0 │\n",
      "│  35.0 │          0.0 │ 2.20395e-314 │  5.59862e-314 │ 5.75994e-314 │          NaN │ 2.20494e-314 │ 5.68409e-314 │          0.0 │\n",
      "│  36.0 │          NaN │          0.0 │  5.75999e-314 │ 5.75994e-314 │          0.0 │ 5.68414e-314 │ 5.59924e-314 │          0.0 │\n",
      "│  37.0 │          NaN │  2.5593e-320 │  5.75999e-314 │ 5.75996e-314 │          0.0 │ 2.20632e-314 │ 5.59924e-314 │          0.0 │\n",
      "│  38.0 │          NaN │ 5.68404e-314 │  5.68398e-314 │ 5.75996e-314 │ 2.20502e-314 │     1.0e-323 │ 5.68388e-314 │ 5.59866e-314 │\n",
      "│  39.0 │          NaN │ 5.68404e-314 │  5.76017e-314 │ 5.75994e-314 │     1.0e-323 │ 5.59864e-314 │ 5.59924e-314 │ 5.59865e-314 │\n",
      "│  40.0 │          NaN │ 5.68404e-314 │  5.68378e-314 │ 5.75994e-314 │          0.0 │  1.2732e-313 │ 5.68388e-314 │ 4.24399e-314 │\n",
      "│  41.0 │          NaN │ 2.20622e-314 │  5.68379e-314 │ 5.68379e-314 │          NaN │          0.0 │ 5.59924e-314 │ 5.75995e-314 │\n",
      "│  42.0 │          NaN │ 2.20395e-314 │  5.68403e-314 │ 5.68379e-314 │ 2.20496e-314 │          0.0 │ 5.59924e-314 │          0.0 │\n",
      "│  43.0 │          NaN │ 2.20395e-314 │  5.68403e-314 │          NaN │ 5.59711e-314 │ 2.20502e-314 │ 5.59924e-314 │ 5.59867e-314 │\n",
      "│  44.0 │          NaN │     5.0e-324 │  5.76002e-314 │          0.0 │ 2.45971e-314 │     1.0e-323 │ 5.59924e-314 │   2.122e-314 │\n",
      "│  45.0 │          NaN │          0.0 │  5.68413e-314 │ 5.75989e-314 │ 2.45971e-314 │          0.0 │ 5.59924e-314 │ 4.24399e-314 │\n",
      "│  46.0 │          NaN │ 2.20395e-314 │  5.68392e-314 │ 5.75989e-314 │          0.0 │          NaN │ 5.59924e-314 │ 5.59711e-314 │\n",
      "│  47.0 │          NaN │          0.0 │  5.59864e-314 │ 5.68382e-314 │          NaN │     5.4e-323 │ 5.68388e-314 │ 5.68374e-314 │\n",
      "│  48.0 │          NaN │  2.5563e-320 │  5.75986e-314 │ 5.59894e-314 │ 5.59711e-314 │ 5.59864e-314 │ 5.59924e-314 │ 5.68376e-314 │\n",
      "│  49.0 │ 5.68406e-314 │ 5.68402e-314 │  5.75986e-314 │          NaN │ 2.45971e-314 │  1.2732e-313 │ 5.59924e-314 │ 5.59724e-314 │\n",
      "│  50.0 │          NaN │ 5.68402e-314 │  5.68421e-314 │          0.0 │ 2.20398e-314 │          0.0 │ 5.59924e-314 │ 5.59865e-314 │\n",
      "│  51.0 │          NaN │ 5.68402e-314 │  5.76017e-314 │ 5.68396e-314 │ 5.59661e-314 │          0.0 │ 5.68388e-314 │ 8.48798e-314 │\n",
      "│  52.0 │          NaN │ 2.20622e-314 │  5.76005e-314 │ 5.75999e-314 │    3.33e-321 │   2.122e-314 │ 5.59924e-314 │ 5.59872e-314 │\n",
      "│  53.0 │          NaN │ 2.20395e-314 │  5.68384e-314 │ 5.68385e-314 │    3.33e-321 │          0.0 │ 5.59924e-314 │ 5.59865e-314 │\n",
      "│  54.0 │          NaN │ 2.20395e-314 │           NaN │  5.7602e-314 │          0.0 │ 5.59711e-314 │ 5.59924e-314 │ 8.48798e-314 │\n",
      "│  55.0 │          NaN │     5.0e-324 │  5.76002e-314 │ 5.75992e-314 │ 5.68375e-314 │ 5.68374e-314 │ 5.59924e-314 │ 5.59872e-314 │\n",
      "│  56.0 │          NaN │          0.0 │           NaN │ 5.75992e-314 │ 2.75859e-313 │ 5.68376e-314 │ 5.68388e-314 │          0.0 │\n",
      "│  57.0 │          NaN │ 2.20395e-314 │  5.68384e-314 │   5.684e-314 │     1.0e-323 │ 5.59724e-314 │ 5.59924e-314 │          0.0 │\n",
      "│  58.0 │          NaN │          0.0 │  5.75993e-314 │   5.684e-314 │          0.0 │ 5.59864e-314 │ 5.59924e-314 │ 5.59868e-314 │\n",
      "│  59.0 │          NaN │          NaN │  5.75993e-314 │          NaN │          NaN │ 8.48798e-314 │ 5.59924e-314 │ 5.59865e-314 │\n",
      "│  60.0 │          NaN │ 5.68402e-314 │  5.59854e-314 │    2.37e-322 │          0.0 │ 5.59872e-314 │ 5.59924e-314 │ 4.24399e-314 │\n",
      "│  61.0 │          0.0 │ 5.68402e-314 │  5.68408e-314 │ 5.68414e-314 │          0.0 │ 5.59864e-314 │ 5.59924e-314 │ 5.75995e-314 │\n",
      "│  62.0 │          NaN │ 5.68402e-314 │  5.75996e-314 │ 5.68414e-314 │ 2.20502e-314 │ 8.48798e-314 │ 5.59924e-314 │          0.0 │\n",
      "│  63.0 │ 5.75989e-314 │ 2.20622e-314 │  5.68414e-314 │ 5.68371e-314 │    3.33e-321 │ 5.59872e-314 │ 5.59924e-314 │          0.0 │\n",
      "│  64.0 │          NaN │ 2.20395e-314 │  5.76011e-314 │ 5.68371e-314 │          0.0 │   2.122e-314 │ 5.59924e-314 │ 5.75987e-314 │\n",
      "│  65.0 │          NaN │ 2.20395e-314 │  5.76011e-314 │ 5.59866e-314 │ 2.20398e-314 │     5.4e-323 │ 5.59924e-314 │ 5.75987e-314 │\n",
      "│  66.0 │          NaN │     5.0e-324 │           NaN │ 5.68371e-314 │    3.33e-321 │ 5.59864e-314 │ 5.59924e-314 │          0.0 │\n",
      "│  67.0 │          NaN │          0.0 │  5.68408e-314 │ 5.76002e-314 │ 5.68374e-314 │ 6.79039e-313 │ 5.68417e-314 │          0.0 │\n",
      "│  68.0 │          NaN │ 2.20395e-314 │  5.75999e-314 │ 5.68371e-314 │ 5.76002e-314 │     1.0e-323 │ 3.60739e-313 │ 5.59866e-314 │\n",
      "│  69.0 │          0.0 │          0.0 │  5.75999e-314 │          NaN │ 5.59854e-314 │          0.0 │ 5.59924e-314 │ 5.59865e-314 │\n",
      "│  70.0 │          NaN │          NaN │   5.6841e-314 │          0.0 │ 5.68408e-314 │          NaN │ 5.59924e-314 │ 4.24399e-314 │\n",
      "│  71.0 │          NaN │ 5.68409e-314 │   5.6841e-314 │  5.6842e-314 │ 5.68384e-314 │     1.0e-323 │ 5.59924e-314 │ 5.75995e-314 │\n",
      "│  72.0 │          NaN │ 5.68409e-314 │           NaN │ 5.59862e-314 │  5.6841e-314 │ 5.76022e-314 │ 5.68413e-314 │          0.0 │\n",
      "│  73.0 │          NaN │ 5.68409e-314 │   -1.56145e94 │ 5.75995e-314 │ 5.68392e-314 │ 5.76022e-314 │ 5.59924e-314 │ 5.59869e-314 │\n",
      "│  74.0 │          NaN │ 2.20622e-314 │  5.68408e-314 │ 5.75995e-314 │ 5.76002e-314 │     1.0e-323 │ 5.68388e-314 │ 5.59865e-314 │\n",
      "│  75.0 │          NaN │ 2.20395e-314 │  5.68408e-314 │ 5.75994e-314 │ 5.68414e-314 │          0.0 │ 5.59924e-314 │ 4.24399e-314 │\n",
      "│  76.0 │          NaN │ 2.20395e-314 │  5.68391e-314 │    5.76e-314 │          0.0 │          NaN │ 5.59924e-314 │ 5.68404e-314 │\n",
      "│  77.0 │          NaN │     5.0e-324 │  5.75997e-314 │ 5.75989e-314 │ 5.59662e-314 │          0.0 │ 5.59924e-314 │          0.0 │\n",
      "│  78.0 │          NaN │          0.0 │  5.68407e-314 │ 5.75989e-314 │ 5.59662e-314 │          0.0 │ 5.59924e-314 │          NaN │\n",
      "│  79.0 │          NaN │ 2.20395e-314 │  5.75997e-314 │          NaN │ 5.59662e-314 │ 2.20502e-314 │ 5.59924e-314 │          0.0 │\n",
      "│  80.0 │          NaN │          0.0 │  5.59864e-314 │          0.0 │ 2.20502e-314 │     1.0e-323 │ 5.59924e-314 │          0.0 │\n",
      "│  81.0 │          NaN │          NaN │  5.59864e-314 │          NaN │          0.0 │          0.0 │ 5.59924e-314 │          0.0 │\n",
      "│  82.0 │          NaN │          NaN │  5.75998e-314 │          0.0 │ 5.59575e-314 │          NaN │ 5.68388e-314 │          0.0 │\n",
      "│  83.0 │          0.0 │          NaN │  5.75998e-314 │          NaN │ 8.12724e-312 │          0.0 │ 5.59924e-314 │ 5.59867e-314 │\n",
      "│  84.0 │          NaN │          NaN │           NaN │          0.0 │          0.0 │          0.0 │ 5.59924e-314 │ 5.59865e-314 │\n",
      "│  85.0 │          NaN │          NaN │ -1.28826e-231 │ 5.59862e-314 │          0.0 │ 2.20502e-314 │ 5.75986e-314 │ 4.24399e-314 │\n",
      "│  86.0 │          NaN │          NaN │           NaN │ 5.59894e-314 │     6.4e-323 │     1.0e-323 │ 5.59924e-314 │ 5.68371e-314 │\n",
      "│  87.0 │          0.0 │          NaN │    4.27305e96 │  5.6841e-314 │          0.0 │          0.0 │ 5.59924e-314 │          0.0 │\n",
      "│  88.0 │          NaN │          NaN │  5.75992e-314 │  5.6842e-314 │          0.0 │          NaN │ 5.75986e-314 │ 5.59868e-314 │\n",
      "│  89.0 │          0.0 │          NaN │  5.75992e-314 │ 5.68392e-314 │          NaN │          0.0 │ 5.59924e-314 │          0.0 │\n",
      "│  90.0 │          NaN │          NaN │  5.68409e-314 │ 5.68392e-314 │ 5.75989e-314 │ 5.68415e-314 │ 5.59924e-314 │ 5.75999e-314 │\n",
      "│  91.0 │ 5.75986e-314 │          NaN │   5.6842e-314 │ 5.75993e-314 │   2.122e-313 │ 2.20502e-314 │ 5.59924e-314 │ 5.59854e-314 │\n",
      "│  92.0 │ 5.59861e-314 │          NaN │   5.6841e-314 │ 5.68413e-314 │   2.122e-314 │     1.0e-323 │ 5.59924e-314 │     4.8e-322 │\n",
      "│  93.0 │          NaN │          NaN │   5.6841e-314 │          NaN │          0.0 │          0.0 │   2.122e-314 │ 5.59865e-314 │\n",
      "│  94.0 │ 5.59659e-314 │          NaN │  5.68393e-314 │          0.0 │          0.0 │          NaN │ 4.24399e-314 │  1.2732e-313 │\n",
      "│  95.0 │          NaN │          NaN │  5.68414e-314 │ 5.75997e-314 │ 2.45971e-314 │          0.0 │ 5.59711e-314 │     4.0e-323 │\n",
      "│  96.0 │          NaN │          NaN │  5.59854e-314 │ 5.68414e-314 │ 5.59871e-314 │          0.0 │ 5.68374e-314 │          0.0 │\n",
      "│  97.0 │          NaN │          NaN │  5.59861e-314 │ 5.68399e-314 │ 5.59711e-314 │ 2.20502e-314 │ 5.68376e-314 │          0.0 │\n",
      "│  98.0 │          NaN │          NaN │  5.68378e-314 │ 5.68399e-314 │ 5.68413e-314 │     1.0e-323 │ 5.59724e-314 │          NaN │\n",
      "│  99.0 │  5.6841e-314 │          NaN │  5.68378e-314 │    5.76e-314 │    3.33e-321 │          0.0 │ 5.59865e-314 │          0.0 │\n",
      "│ 100.0 │          NaN │          NaN │  5.68395e-314 │    5.76e-314 │    1.43e-322 │          NaN │ 8.48798e-314 │          0.0 │\n",
      "│ 101.0 │ 5.68416e-314 │          NaN │  5.68378e-314 │          NaN │ 2.97079e-313 │          0.0 │ 5.59872e-314 │     5.4e-323 │\n",
      "│ 102.0 │          NaN │          NaN │  5.68413e-314 │          0.0 │          0.0 │ 5.59857e-314 │ 5.59865e-314 │ 5.59865e-314 │\n",
      "│ 103.0 │          NaN │          NaN │  5.68413e-314 │ 5.68416e-314 │ 5.59711e-314 │ 2.20502e-314 │ 8.48798e-314 │  1.2732e-313 │\n",
      "│ 104.0 │          NaN │          NaN │           NaN │ 5.68416e-314 │ 5.68374e-314 │     1.0e-323 │ 5.59872e-314 │          0.0 │\n",
      "│ 105.0 │ 5.68404e-314 │          NaN │  -1.10861e276 │ 5.75995e-314 │ 5.68376e-314 │          0.0 │          0.0 │ 4.24399e-314 │\n",
      "│ 106.0 │          NaN │          NaN │  5.75997e-314 │  5.7602e-314 │ 5.59662e-314 │          NaN │ 5.59924e-314 │ 5.68371e-314 │\n",
      "│ 107.0 │          NaN │          NaN │  5.75997e-314 │ 5.75986e-314 │ 5.59864e-314 │          0.0 │ 5.59924e-314 │          0.0 │\n",
      "│ 108.0 │          NaN │          NaN │  5.76001e-314 │ 5.76017e-314 │ 8.48798e-314 │ 5.59857e-314 │ 5.68388e-314 │ 5.68401e-314 │\n",
      "│ 109.0 │          NaN │          NaN │  5.68371e-314 │ 5.76002e-314 │ 5.59872e-314 │ 2.20502e-314 │ 5.68409e-314 │ 3.60739e-313 │\n",
      "│ 110.0 │          NaN │          NaN │  5.68408e-314 │ 5.68384e-314 │ 5.59864e-314 │     1.0e-323 │ 5.68413e-314 │ 4.24399e-314 │\n",
      "│ 111.0 │          NaN │          NaN │  5.68408e-314 │ 5.76002e-314 │ 8.48798e-314 │          0.0 │ 5.59924e-314 │ 5.59865e-314 │\n",
      "│ 112.0 │          NaN │          NaN │  5.68421e-314 │ 5.76002e-314 │ 5.59872e-314 │          NaN │          0.0 │  1.2732e-313 │\n",
      "│ 113.0 │          NaN │          NaN │  5.68421e-314 │   5.684e-314 │  1.4854e-313 │          0.0 │ 5.68381e-314 │          0.0 │\n",
      "│ 114.0 │          NaN │ 5.59863e-314 │  5.76002e-314 │   5.684e-314 │ 5.59575e-314 │ 5.59857e-314 │ 5.68381e-314 │ 5.59865e-314 │\n",
      "│ 115.0 │          NaN │          NaN │  5.75994e-314 │          NaN │ 8.48798e-314 │ 2.20502e-314 │ 5.68409e-314 │ 4.24399e-314 │\n",
      "│ 116.0 │          NaN │          NaN │  5.68404e-314 │ 1.18832e-312 │ 2.20502e-314 │ 5.75988e-314 │ 5.59924e-314 │ 5.68404e-314 │\n",
      "│ 117.0 │          NaN │          NaN │  5.76017e-314 │ 5.68419e-314 │     1.0e-323 │ 3.60739e-313 │ 5.59924e-314 │          0.0 │\n",
      "│ 118.0 │          NaN │          NaN │  5.68399e-314 │ 5.59854e-314 │          0.0 │          NaN │ 5.59924e-314 │ 5.59868e-314 │\n",
      "│ 119.0 │          NaN │ 5.59861e-314 │  5.68399e-314 │ 5.75997e-314 │          NaN │          0.0 │ 5.59924e-314 │ 4.24399e-314 │\n",
      "│ 120.0 │ 5.68396e-314 │ 5.59861e-314 │           NaN │ 5.68392e-314 │     2.7e-322 │ 5.59858e-314 │ 5.59924e-314 │          0.0 │\n",
      "│ 121.0 │          NaN │ 5.68379e-314 │  -6.92642e274 │ 5.68407e-314 │ 5.75995e-314 │ 2.20502e-314 │ 5.59924e-314 │          0.0 │\n",
      "│ 122.0 │          NaN │ 5.59866e-314 │  5.68413e-314 │ 5.68407e-314 │ 5.75995e-314 │     1.0e-323 │ 5.59924e-314 │ 5.68413e-314 │\n",
      "│ 123.0 │          NaN │ 5.59854e-314 │  5.68413e-314 │ 5.68371e-314 │     1.0e-323 │          0.0 │ 5.59924e-314 │ 2.20494e-314 │\n",
      "│ 124.0 │          NaN │ 5.59854e-314 │  5.76002e-314 │ 5.68371e-314 │          0.0 │          NaN │ 5.59924e-314 │          0.0 │\n",
      "│ 125.0 │          NaN │ 5.68418e-314 │  5.76002e-314 │ 5.68408e-314 │          NaN │          0.0 │ 5.59924e-314 │ 2.20632e-314 │\n",
      "│ 126.0 │          NaN │ 5.59854e-314 │  5.59866e-314 │ 5.59854e-314 │          0.0 │ 5.59858e-314 │ 5.59924e-314 │ 4.24399e-314 │\n",
      "│ 127.0 │          NaN │ 5.68391e-314 │  5.68413e-314 │    5.76e-314 │          0.0 │ 2.20502e-314 │ 5.68413e-314 │ 5.59865e-314 │\n",
      "│ 128.0 │          NaN │ 5.68408e-314 │  5.59866e-314 │ 5.68384e-314 │ 2.20502e-314 │     1.0e-323 │ 5.59924e-314 │  1.2732e-313 │\n",
      "│ 129.0 │          NaN │          NaN │  5.59866e-314 │          NaN │     1.0e-323 │          0.0 │ 5.59924e-314 │          0.0 │\n",
      "│ 130.0 │          NaN │          NaN │           NaN │ 5.59662e-314 │          0.0 │          NaN │ 5.68374e-314 │ 4.24399e-314 │\n",
      "│ 131.0 │          NaN │ 5.76002e-314 │  -1.10819e276 │ 5.75986e-314 │          NaN │          0.0 │ 5.68388e-314 │ 5.68404e-314 │\n",
      "│ 132.0 │          NaN │ 5.75997e-314 │           NaN │ 5.75986e-314 │          0.0 │ 5.59858e-314 │ 5.59924e-314 │          0.0 │\n",
      "│ 133.0 │          NaN │          NaN │   -2.8443e107 │ 5.75996e-314 │          0.0 │ 2.20502e-314 │ 5.59924e-314 │ 5.59867e-314 │\n",
      "│ 134.0 │          NaN │          NaN │  5.68421e-314 │ 5.68414e-314 │ 2.20502e-314 │     1.0e-323 │ 5.68388e-314 │   2.122e-314 │\n",
      "│ 135.0 │          NaN │          NaN │  5.76017e-314 │          NaN │     1.0e-323 │          0.0 │ 5.68409e-314 │ 4.24399e-314 │\n",
      "│ 136.0 │          NaN │          NaN │           NaN │     4.0e-323 │          0.0 │          NaN │ 5.68413e-314 │ 5.59711e-314 │\n",
      "│ 137.0 │          NaN │ 5.68402e-314 │    2.54638e89 │ 5.68392e-314 │          NaN │          0.0 │ 5.59924e-314 │ 5.68374e-314 │\n",
      "│ 138.0 │          NaN │ 5.76017e-314 │  5.75997e-314 │ 5.68392e-314 │          0.0 │ 5.59861e-314 │ 5.59924e-314 │ 5.68376e-314 │\n",
      "│ 139.0 │          NaN │ 5.59855e-314 │  5.75997e-314 │  5.6841e-314 │          0.0 │ 2.20502e-314 │ 5.59924e-314 │ 5.59724e-314 │\n",
      "│ 140.0 │ 5.75997e-314 │ 5.59855e-314 │  5.68408e-314 │ 5.68399e-314 │ 2.20502e-314 │     1.0e-323 │ 5.59924e-314 │ 5.59865e-314 │\n",
      "│ 141.0 │          NaN │ 5.68419e-314 │  5.59861e-314 │ 5.75996e-314 │     1.0e-323 │          0.0 │ 5.59924e-314 │ 8.48798e-314 │\n",
      "│ 142.0 │          NaN │ 5.68419e-314 │           NaN │ 5.68413e-314 │          0.0 │   2.122e-314 │ 5.59924e-314 │ 5.59872e-314 │\n",
      "│ 143.0 │          NaN │ 5.68413e-314 │      5.0e-324 │ 5.75992e-314 │          NaN │          0.0 │ 5.59924e-314 │ 5.59865e-314 │\n",
      "│ 144.0 │          NaN │   5.684e-314 │           NaN │ 5.75992e-314 │          0.0 │ 5.59711e-314 │ 5.59924e-314 │ 8.48798e-314 │\n",
      "│ 145.0 │          NaN │          NaN │  1.57499e-240 │ 5.76002e-314 │          0.0 │ 5.68374e-314 │ 5.59924e-314 │ 5.59872e-314 │\n",
      "│ 146.0 │          NaN │    5.76e-314 │           NaN │ 5.76002e-314 │ 2.20502e-314 │ 5.68376e-314 │ 5.59924e-314 │          0.0 │\n",
      "│ 147.0 │          NaN │          NaN │  5.76001e-314 │ 5.59853e-314 │     1.0e-323 │ 5.59724e-314 │ 5.59924e-314 │          0.0 │\n",
      "│ 148.0 │          NaN │          NaN │           NaN │ 5.59855e-314 │          0.0 │ 5.59864e-314 │ 5.59924e-314 │          NaN │\n",
      "│ 149.0 │          NaN │          NaN │  7.32675e-186 │ 5.68414e-314 │          NaN │ 8.48798e-314 │          NaN │          0.0 │\n",
      "│ 150.0 │          NaN │          NaN │  5.75987e-314 │ 5.75992e-314 │          0.0 │ 5.59872e-314 │    9.44e-322 │          0.0 │\n",
      "│ 151.0 │          NaN │          NaN │  5.75997e-314 │ 5.68404e-314 │          0.0 │ 5.59864e-314 │   2.122e-314 │          0.0 │\n",
      "│ 152.0 │          NaN │          NaN │  5.68384e-314 │ 5.68414e-314 │ 2.20502e-314 │ 8.48798e-314 │          NaN │          0.0 │\n",
      "│ 153.0 │          NaN │   5.684e-314 │  5.68384e-314 │ 5.76002e-314 │     1.0e-323 │ 5.59872e-314 │   1.215e-321 │          0.0 │\n",
      "│ 154.0 │          NaN │ 5.75999e-314 │  5.75992e-314 │ 5.76002e-314 │          0.0 │          0.0 │   2.122e-314 │ 5.68401e-314 │\n",
      "│ 155.0 │          NaN │ 5.76002e-314 │  5.75992e-314 │ 5.68376e-314 │          NaN │          0.0 │          NaN │ 5.68401e-314 │\n",
      "│ 156.0 │  2.5257e-320 │ 5.59854e-314 │           NaN │ 5.75997e-314 │          0.0 │ 5.59861e-314 │ 4.24399e-314 │          0.0 │\n",
      "│ 157.0 │ 5.68404e-314 │ 5.75989e-314 │  2.64517e-303 │ 5.68385e-314 │ 5.68415e-314 │ 2.20502e-314 │ 5.68391e-314 │          0.0 │\n",
      "│ 158.0 │ 5.68404e-314 │ 5.75989e-314 │  5.75998e-314 │ 5.75999e-314 │ 2.20502e-314 │     1.0e-323 │ 3.60739e-313 │ 5.59866e-314 │\n",
      "│ 159.0 │ 5.68404e-314 │          NaN │  5.75998e-314 │ 5.68401e-314 │     1.0e-323 │          0.0 │ 4.24399e-314 │ 5.59865e-314 │\n",
      "│ 160.0 │ 2.20622e-314 │          NaN │  5.76002e-314 │ 5.68408e-314 │          0.0 │          NaN │   2.122e-314 │ 4.24399e-314 │\n",
      "│ 161.0 │ 2.20395e-314 │    5.76e-314 │  5.68371e-314 │ 5.68384e-314 │          NaN │          0.0 │          NaN │ 5.75995e-314 │\n",
      "│ 162.0 │ 2.20395e-314 │    5.76e-314 │  5.75999e-314 │ 5.75997e-314 │          0.0 │ 5.76022e-314 │ 4.24399e-314 │          0.0 │\n",
      "│ 163.0 │     5.0e-324 │          NaN │  5.75999e-314 │ 5.75993e-314 │          0.0 │ 5.76022e-314 │   2.122e-314 │ 5.59867e-314 │\n",
      "│ 164.0 │          0.0 │          NaN │  5.68379e-314 │ 5.75993e-314 │ 2.20502e-314 │ 5.59864e-314 │          NaN │ 5.59865e-314 │\n",
      "│ 165.0 │ 2.20395e-314 │ 5.76019e-314 │  5.76017e-314 │          NaN │ 5.68407e-314 │ 5.59864e-314 │    1.22e-321 │ 4.24399e-314 │\n",
      "│ 166.0 │          0.0 │ 5.76019e-314 │  5.68374e-314 │ 2.18601e-314 │ 3.60739e-313 │     1.6e-322 │   2.122e-314 │ 5.68371e-314 │\n",
      "│ 167.0 │  2.5286e-320 │          NaN │  5.68374e-314 │ 5.68384e-314 │          NaN │ 4.24399e-314 │          NaN │          0.0 │\n",
      "│ 168.0 │ 5.68393e-314 │          NaN │  5.75991e-314 │ 5.68384e-314 │          0.0 │ 5.68391e-314 │ 4.24399e-314 │ 5.59869e-314 │\n",
      "│ 169.0 │ 5.68393e-314 │ 5.59894e-314 │  5.75991e-314 │ 5.68376e-314 │          0.0 │ 5.68391e-314 │   2.122e-314 │ 5.59865e-314 │\n",
      "│ 170.0 │ 5.68393e-314 │ 5.59894e-314 │  5.76013e-314 │ 5.59854e-314 │ 2.20502e-314 │ 5.59864e-314 │ 5.68416e-314 │ 4.24399e-314 │\n",
      "│ 171.0 │ 2.20622e-314 │ 5.68379e-314 │   5.6842e-314 │ 5.68384e-314 │     1.0e-323 │ 5.59864e-314 │ 5.59855e-314 │ 5.75995e-314 │\n",
      "│ 172.0 │ 2.20395e-314 │ 5.68379e-314 │  5.68394e-314 │ 5.59854e-314 │          0.0 │     4.0e-323 │ 5.59855e-314 │ 5.68415e-314 │\n",
      "│ 173.0 │ 2.20395e-314 │ 5.68418e-314 │  5.75999e-314 │          0.0 │          NaN │          NaN │     4.0e-323 │ 5.59867e-314 │\n",
      "│ 174.0 │     5.0e-324 │ 5.59854e-314 │           NaN │ 5.75996e-314 │          0.0 │ 5.68371e-314 │ 4.24399e-314 │ 5.59865e-314 │\n",
      "│ 175.0 │          0.0 │          NaN │  5.59661e-314 │  5.5971e-314 │          0.0 │ 5.75991e-314 │ 5.68416e-314 │ 4.24399e-314 │\n",
      "│ 176.0 │ 2.20395e-314 │          NaN │  5.68416e-314 │ 3.39519e-313 │ 2.20502e-314 │          NaN │ 5.74294e-314 │ 5.68371e-314 │\n",
      "│ 177.0 │          0.0 │          NaN │  5.68379e-314 │ 5.59864e-314 │     1.0e-323 │          NaN │     2.8e-322 │          0.0 │\n",
      "│ 178.0 │  2.5267e-320 │          NaN │  5.75989e-314 │  1.2732e-313 │          0.0 │          NaN │   2.122e-314 │ 5.59865e-314 │\n",
      "│ 179.0 │ 5.68419e-314 │ 5.75998e-314 │  5.75989e-314 │     1.0e-323 │          NaN │          NaN │          NaN │ 5.59865e-314 │\n",
      "│ 180.0 │ 5.68419e-314 │ 5.75992e-314 │  5.75995e-314 │    2.61e-321 │          0.0 │          NaN │ 5.75988e-314 │ 4.24399e-314 │\n",
      "│ 181.0 │ 5.68419e-314 │ 5.75994e-314 │  5.75995e-314 │          0.0 │          0.0 │          NaN │   2.122e-314 │ 5.68371e-314 │\n",
      "│ 182.0 │ 2.20622e-314 │ 5.76017e-314 │  5.59866e-314 │ 5.59864e-314 │ 2.20502e-314 │          0.0 │          NaN │ 5.75995e-314 │\n",
      "│ 183.0 │ 2.20395e-314 │          NaN │  5.59866e-314 │ 5.59864e-314 │     1.0e-323 │ 5.68421e-314 │   2.122e-314 │ 5.59867e-314 │\n",
      "│ 184.0 │ 2.20395e-314 │ 5.68407e-314 │  5.59853e-314 │ 8.48798e-314 │          0.0 │ 5.68421e-314 │          0.0 │ 5.59865e-314 │\n",
      "│ 185.0 │     5.0e-324 │ 5.68406e-314 │  5.59853e-314 │     5.4e-323 │          NaN │ 5.68421e-314 │ 5.59711e-314 │ 4.24399e-314 │\n",
      "│ 186.0 │          0.0 │ 5.75997e-314 │  5.75999e-314 │ 5.59864e-314 │          0.0 │ 5.68409e-314 │ 5.68374e-314 │ 5.68371e-314 │\n",
      "│ 187.0 │ 2.20395e-314 │ 5.68381e-314 │  5.75999e-314 │  1.2732e-313 │          0.0 │ 5.68409e-314 │ 5.68376e-314 │          0.0 │\n",
      "│ 188.0 │          0.0 │ 5.68392e-314 │  5.68379e-314 │          0.0 │ 2.20502e-314 │ 5.68409e-314 │ 5.59724e-314 │ 5.59866e-314 │\n",
      "│ 189.0 │  2.5306e-320 │          NaN │  5.68379e-314 │ 5.59864e-314 │     1.0e-323 │ 5.59864e-314 │ 5.59865e-314 │ 5.59865e-314 │\n",
      "│ 190.0 │ 5.68414e-314 │ 5.75994e-314 │  5.68412e-314 │ 8.48798e-314 │          0.0 │ 5.76016e-314 │ 8.48798e-314 │ 4.24399e-314 │\n",
      "│ 191.0 │ 5.68414e-314 │          NaN │  5.75992e-314 │     5.0e-324 │ 6.36599e-314 │     1.6e-322 │ 5.59872e-314 │ 5.75995e-314 │\n",
      "│ 192.0 │ 5.68414e-314 │ 5.68399e-314 │  5.68409e-314 │          0.0 │          0.0 │          NaN │ 5.59865e-314 │          0.0 │\n",
      "│ 193.0 │ 2.20622e-314 │          NaN │  5.68409e-314 │          0.0 │ 5.59711e-314 │ 5.75998e-314 │ 8.48798e-314 │ 5.59868e-314 │\n",
      "│ 194.0 │ 2.20395e-314 │ 5.68373e-314 │           NaN │     5.4e-323 │ 5.68374e-314 │ 5.68412e-314 │ 5.59872e-314 │ 5.59865e-314 │\n",
      "│ 195.0 │ 2.20395e-314 │          NaN │           0.0 │ 5.59864e-314 │ 5.68376e-314 │ 5.75988e-314 │          0.0 │ 4.24399e-314 │\n",
      "│ 196.0 │     5.0e-324 │   5.684e-314 │  5.68374e-314 │  1.2732e-313 │ 5.59724e-314 │ 5.76019e-314 │          NaN │ 5.75995e-314 │\n",
      "│ 197.0 │          0.0 │ 5.75988e-314 │  5.59866e-314 │     5.0e-324 │ 5.59864e-314 │ 5.75999e-314 │          NaN │          0.0 │\n",
      "│ 198.0 │ 2.20395e-314 │ 5.59864e-314 │   5.6841e-314 │          0.0 │ 8.48798e-314 │ 5.75999e-314 │          NaN │ 5.68401e-314 │\n",
      "│ 199.0 │          0.0 │          NaN │  5.59864e-314 │          0.0 │ 5.59872e-314 │ 5.75991e-314 │          0.0 │ 3.60739e-313 │\n",
      "│ 200.0 │   2.122e-314 │ 5.59853e-314 │  5.59854e-314 │ 5.59864e-314 │ 5.59864e-314 │          0.0 │          NaN │     1.0e-323 │\n",
      "│ 201.0 │ 5.68419e-314 │          NaN │  5.59854e-314 │ 8.48798e-314 │ 8.48798e-314 │          0.0 │          0.0 │          0.0 │\n",
      "│ 202.0 │ 5.68419e-314 │ 5.68374e-314 │  5.75987e-314 │          0.0 │ 5.59872e-314 │          0.0 │          0.0 │          0.0 │\n",
      "│ 203.0 │ 5.68419e-314 │          NaN │  5.75987e-314 │ 4.24399e-314 │   2.122e-314 │          0.0 │ 5.68391e-314 │          NaN │\n",
      "│ 204.0 │ 2.20622e-314 │ 5.68373e-314 │           NaN │ 2.20496e-314 │ 5.59575e-314 │          0.0 │ 5.68391e-314 │          0.0 │\n",
      "│ 205.0 │ 2.20395e-314 │ 5.76015e-314 │  7.29113e-304 │ 2.45971e-314 │ 4.24399e-314 │ 5.68396e-314 │ 5.75995e-314 │          0.0 │\n",
      "│ 206.0 │ 2.20395e-314 │ 5.76002e-314 │           NaN │ 5.59711e-314 │ 2.20502e-314 │ 5.68417e-314 │          NaN │          0.0 │\n",
      "│ 207.0 │     5.0e-324 │          NaN │   1.6976e-313 │ 5.68384e-314 │     1.0e-323 │ 3.60739e-313 │ 5.59866e-314 │          0.0 │\n",
      "│ 208.0 │          0.0 │ 5.68406e-314 │  5.68414e-314 │ 5.68376e-314 │          0.0 │ 5.59864e-314 │ 5.59865e-314 │ 5.59867e-314 │\n",
      "│ 209.0 │ 2.20395e-314 │ 5.68382e-314 │  5.68414e-314 │ 5.75988e-314 │          NaN │ 5.59864e-314 │ 4.24399e-314 │ 5.59865e-314 │\n",
      "│ 210.0 │          0.0 │ 5.68382e-314 │  5.75987e-314 │          0.0 │ 4.24399e-314 │     4.0e-323 │ 5.68403e-314 │ 4.24399e-314 │\n",
      "│ 211.0 │ 4.24399e-314 │ 5.68385e-314 │  5.75987e-314 │     5.0e-324 │ 5.68413e-314 │          NaN │ 5.59864e-314 │ 5.68371e-314 │\n",
      "│ 212.0 │ 5.68398e-314 │  5.7602e-314 │           NaN │ 5.59711e-314 │ 5.68413e-314 │ 5.75995e-314 │          NaN │          0.0 │\n",
      "│ 213.0 │ 5.68398e-314 │ 5.68392e-314 │      3.7e-322 │ 2.45971e-314 │     1.0e-323 │ 5.68371e-314 │ 4.24399e-314 │          NaN │\n",
      "│ 214.0 │ 5.68398e-314 │ 5.68392e-314 │           NaN │ 2.20398e-314 │          0.0 │          NaN │          NaN │          0.0 │\n",
      "│ 215.0 │ 2.20622e-314 │          NaN │  5.59864e-314 │ 5.59661e-314 │          NaN │          NaN │          0.0 │          0.0 │\n",
      "│ 216.0 │ 2.20395e-314 │ 5.59854e-314 │  5.68373e-314 │    3.33e-321 │          0.0 │          NaN │          NaN │          0.0 │\n",
      "│ 217.0 │ 2.20395e-314 │ 5.75998e-314 │  5.68373e-314 │    3.33e-321 │          0.0 │          NaN │          NaN │          NaN │\n",
      "│ 218.0 │     5.0e-324 │ 5.68421e-314 │           NaN │          0.0 │ 2.20502e-314 │          NaN │          NaN │ 5.59867e-314 │\n",
      "│ 219.0 │          0.0 │ 5.76001e-314 │  5.59716e-314 │ 5.75989e-314 │     1.0e-323 │ 5.59869e-314 │          0.0 │          NaN │\n",
      "│ 220.0 │ 2.20395e-314 │ 5.59864e-314 │  5.68371e-314 │ 2.75859e-313 │          0.0 │          0.0 │          NaN │ 4.24399e-314 │\n",
      "│ 221.0 │          0.0 │ 5.75992e-314 │  5.68371e-314 │ 5.68383e-314 │          NaN │  5.6842e-314 │ 5.59864e-314 │          NaN │\n",
      "│ 222.0 │          NaN │ 5.75992e-314 │           NaN │     1.0e-323 │          0.0 │  5.6842e-314 │          NaN │ 5.75995e-314 │\n",
      "│ 223.0 │ 5.68385e-314 │ 5.68407e-314 │           0.0 │ 5.59863e-314 │          0.0 │  5.6842e-314 │ 5.59864e-314 │          NaN │\n",
      "│ 224.0 │ 5.68385e-314 │ 5.68407e-314 │  5.68371e-314 │ 4.24399e-314 │ 2.20502e-314 │ 5.68403e-314 │          NaN │   2.122e-314 │\n",
      "│ 225.0 │ 5.68385e-314 │          NaN │  5.68371e-314 │          0.0 │     1.0e-323 │ 5.68403e-314 │          0.0 │          NaN │\n",
      "│ 226.0 │ 2.20622e-314 │ 5.68412e-314 │  5.75997e-314 │          0.0 │          0.0 │ 5.68403e-314 │          NaN │ 5.59711e-314 │\n",
      "│ 227.0 │ 2.20395e-314 │ 5.68412e-314 │  5.68414e-314 │ 4.24399e-314 │          NaN │ 5.68413e-314 │ 5.59867e-314 │ 5.68374e-314 │\n",
      "│ 228.0 │ 2.20395e-314 │ 5.68414e-314 │  5.68378e-314 │          0.0 │          0.0 │ 5.75995e-314 │ 5.59865e-314 │ 5.68376e-314 │\n",
      "│ 229.0 │     5.0e-324 │ 5.75998e-314 │  5.59855e-314 │ 2.20398e-314 │          0.0 │ 5.68394e-314 │ 4.24399e-314 │ 5.59724e-314 │\n",
      "└───────┴──────────────┴──────────────┴───────────────┴──────────────┴──────────────┴──────────────┴──────────────┴──────────────┘\n"
     ]
    }
   ],
   "source": [
    "reallocate_data=Array{Float64, 2}(undef, trading_days, length(w)+3)\n",
    "for element in 1:trading_days\n",
    "    reallocate_data[element,1]=element\n",
    "    for j in eachindex(tickers)\n",
    "        reallocate_data[i,j+1]=reallocated_portfolio[i,j]\n",
    "    end\n",
    "    reallocate_data[i,end-1]=reallocated_portfolio[i, end-1]\n",
    "    reallocate_data[i,end]=reallocated_portfolio[i,end]\n",
    "end\n",
    "\n",
    "pretty_table(reallocate_data, header=[\"index\", tickers..., \"risk (sqrt)\", \"total value\"])\n"
   ]
  },
  {
   "cell_type": "code",
   "execution_count": 177,
   "id": "3f01fe50",
   "metadata": {},
   "outputs": [
    {
     "data": {
      "image/png": "[encoded data removed]",
      "image/svg+xml": [
       "<?xml version=\"1.0\" encoding=\"utf-8\"?>\n",
       "<svg xmlns=\"http://www.w3.org/2000/svg\" xmlns:xlink=\"http://www.w3.org/1999/xlink\" width=\"600\" height=\"400\" viewBox=\"0 0 2400 1600\">\n",
       "<defs>\n",
       "  <clipPath id=\"clip310\">\n",
       "    <rect x=\"0\" y=\"0\" width=\"2400\" height=\"1600\"/>\n",
       "  </clipPath>\n",
       "</defs>\n",
       "<path clip-path=\"url(#clip310)\" d=\"M0 1600 L2400 1600 L2400 0 L0 0  Z\" fill=\"#ffffff\" fill-rule=\"evenodd\" fill-opacity=\"1\"/>\n",
       "<defs>\n",
       "  <clipPath id=\"clip311\">\n",
       "    <rect x=\"480\" y=\"0\" width=\"1681\" height=\"1600\"/>\n",
       "  </clipPath>\n",
       "</defs>\n",
       "<path clip-path=\"url(#clip310)\" d=\"M247.459 1423.18 L2352.76 1423.18 L2352.76 47.2441 L247.459 47.2441  Z\" fill=\"#ffffff\" fill-rule=\"evenodd\" fill-opacity=\"1\"/>\n",
       "<defs>\n",
       "  <clipPath id=\"clip312\">\n",
       "    <rect x=\"247\" y=\"47\" width=\"2106\" height=\"1377\"/>\n",
       "  </clipPath>\n",
       "</defs>\n",
       "<polyline clip-path=\"url(#clip312)\" style=\"stroke:#000000; stroke-linecap:round; stroke-linejoin:round; stroke-width:2; stroke-opacity:0.1; fill:none\" points=\"298.331,1423.18 298.331,47.2441 \"/>\n",
       "<polyline clip-path=\"url(#clip312)\" style=\"stroke:#000000; stroke-linecap:round; stroke-linejoin:round; stroke-width:2; stroke-opacity:0.1; fill:none\" points=\"733.886,1423.18 733.886,47.2441 \"/>\n",
       "<polyline clip-path=\"url(#clip312)\" style=\"stroke:#000000; stroke-linecap:round; stroke-linejoin:round; stroke-width:2; stroke-opacity:0.1; fill:none\" points=\"1169.44,1423.18 1169.44,47.2441 \"/>\n",
       "<polyline clip-path=\"url(#clip312)\" style=\"stroke:#000000; stroke-linecap:round; stroke-linejoin:round; stroke-width:2; stroke-opacity:0.1; fill:none\" points=\"1605,1423.18 1605,47.2441 \"/>\n",
       "<polyline clip-path=\"url(#clip312)\" style=\"stroke:#000000; stroke-linecap:round; stroke-linejoin:round; stroke-width:2; stroke-opacity:0.1; fill:none\" points=\"2040.55,1423.18 2040.55,47.2441 \"/>\n",
       "<polyline clip-path=\"url(#clip310)\" style=\"stroke:#000000; stroke-linecap:round; stroke-linejoin:round; stroke-width:4; stroke-opacity:1; fill:none\" points=\"247.459,1423.18 2352.76,1423.18 \"/>\n",
       "<polyline clip-path=\"url(#clip310)\" style=\"stroke:#000000; stroke-linecap:round; stroke-linejoin:round; stroke-width:4; stroke-opacity:1; fill:none\" points=\"298.331,1423.18 298.331,1404.28 \"/>\n",
       "<polyline clip-path=\"url(#clip310)\" style=\"stroke:#000000; stroke-linecap:round; stroke-linejoin:round; stroke-width:4; stroke-opacity:1; fill:none\" points=\"733.886,1423.18 733.886,1404.28 \"/>\n",
       "<polyline clip-path=\"url(#clip310)\" style=\"stroke:#000000; stroke-linecap:round; stroke-linejoin:round; stroke-width:4; stroke-opacity:1; fill:none\" points=\"1169.44,1423.18 1169.44,1404.28 \"/>\n",
       "<polyline clip-path=\"url(#clip310)\" style=\"stroke:#000000; stroke-linecap:round; stroke-linejoin:round; stroke-width:4; stroke-opacity:1; fill:none\" points=\"1605,1423.18 1605,1404.28 \"/>\n",
       "<polyline clip-path=\"url(#clip310)\" style=\"stroke:#000000; stroke-linecap:round; stroke-linejoin:round; stroke-width:4; stroke-opacity:1; fill:none\" points=\"2040.55,1423.18 2040.55,1404.28 \"/>\n",
       "<path clip-path=\"url(#clip310)\" d=\"M298.331 1454.1 Q294.72 1454.1 292.892 1457.66 Q291.086 1461.2 291.086 1468.33 Q291.086 1475.44 292.892 1479.01 Q294.72 1482.55 298.331 1482.55 Q301.966 1482.55 303.771 1479.01 Q305.6 1475.44 305.6 1468.33 Q305.6 1461.2 303.771 1457.66 Q301.966 1454.1 298.331 1454.1 M298.331 1450.39 Q304.142 1450.39 307.197 1455 Q310.276 1459.58 310.276 1468.33 Q310.276 1477.06 307.197 1481.67 Q304.142 1486.25 298.331 1486.25 Q292.521 1486.25 289.443 1481.67 Q286.387 1477.06 286.387 1468.33 Q286.387 1459.58 289.443 1455 Q292.521 1450.39 298.331 1450.39 Z\" fill=\"#000000\" fill-rule=\"nonzero\" fill-opacity=\"1\" /><path clip-path=\"url(#clip310)\" d=\"M708.585 1451.02 L726.942 1451.02 L726.942 1454.96 L712.868 1454.96 L712.868 1463.43 Q713.886 1463.08 714.905 1462.92 Q715.923 1462.73 716.942 1462.73 Q722.729 1462.73 726.108 1465.9 Q729.488 1469.08 729.488 1474.49 Q729.488 1480.07 726.016 1483.17 Q722.544 1486.25 716.224 1486.25 Q714.048 1486.25 711.78 1485.88 Q709.534 1485.51 707.127 1484.77 L707.127 1480.07 Q709.21 1481.2 711.433 1481.76 Q713.655 1482.32 716.132 1482.32 Q720.136 1482.32 722.474 1480.21 Q724.812 1478.1 724.812 1474.49 Q724.812 1470.88 722.474 1468.77 Q720.136 1466.67 716.132 1466.67 Q714.257 1466.67 712.382 1467.08 Q710.53 1467.5 708.585 1468.38 L708.585 1451.02 Z\" fill=\"#000000\" fill-rule=\"nonzero\" fill-opacity=\"1\" /><path clip-path=\"url(#clip310)\" d=\"M748.701 1454.1 Q745.09 1454.1 743.261 1457.66 Q741.456 1461.2 741.456 1468.33 Q741.456 1475.44 743.261 1479.01 Q745.09 1482.55 748.701 1482.55 Q752.335 1482.55 754.141 1479.01 Q755.969 1475.44 755.969 1468.33 Q755.969 1461.2 754.141 1457.66 Q752.335 1454.1 748.701 1454.1 M748.701 1450.39 Q754.511 1450.39 757.567 1455 Q760.645 1459.58 760.645 1468.33 Q760.645 1477.06 757.567 1481.67 Q754.511 1486.25 748.701 1486.25 Q742.891 1486.25 739.812 1481.67 Q736.757 1477.06 736.757 1468.33 Q736.757 1459.58 739.812 1455 Q742.891 1450.39 748.701 1450.39 Z\" fill=\"#000000\" fill-rule=\"nonzero\" fill-opacity=\"1\" /><path clip-path=\"url(#clip310)\" d=\"M1129.05 1481.64 L1136.69 1481.64 L1136.69 1455.28 L1128.38 1456.95 L1128.38 1452.69 L1136.64 1451.02 L1141.32 1451.02 L1141.32 1481.64 L1148.95 1481.64 L1148.95 1485.58 L1129.05 1485.58 L1129.05 1481.64 Z\" fill=\"#000000\" fill-rule=\"nonzero\" fill-opacity=\"1\" /><path clip-path=\"url(#clip310)\" d=\"M1168.4 1454.1 Q1164.79 1454.1 1162.96 1457.66 Q1161.15 1461.2 1161.15 1468.33 Q1161.15 1475.44 1162.96 1479.01 Q1164.79 1482.55 1168.4 1482.55 Q1172.03 1482.55 1173.84 1479.01 Q1175.67 1475.44 1175.67 1468.33 Q1175.67 1461.2 1173.84 1457.66 Q1172.03 1454.1 1168.4 1454.1 M1168.4 1450.39 Q1174.21 1450.39 1177.26 1455 Q1180.34 1459.58 1180.34 1468.33 Q1180.34 1477.06 1177.26 1481.67 Q1174.21 1486.25 1168.4 1486.25 Q1162.59 1486.25 1159.51 1481.67 Q1156.45 1477.06 1156.45 1468.33 Q1156.45 1459.58 1159.51 1455 Q1162.59 1450.39 1168.4 1450.39 Z\" fill=\"#000000\" fill-rule=\"nonzero\" fill-opacity=\"1\" /><path clip-path=\"url(#clip310)\" d=\"M1198.56 1454.1 Q1194.95 1454.1 1193.12 1457.66 Q1191.32 1461.2 1191.32 1468.33 Q1191.32 1475.44 1193.12 1479.01 Q1194.95 1482.55 1198.56 1482.55 Q1202.2 1482.55 1204 1479.01 Q1205.83 1475.44 1205.83 1468.33 Q1205.83 1461.2 1204 1457.66 Q1202.2 1454.1 1198.56 1454.1 M1198.56 1450.39 Q1204.37 1450.39 1207.43 1455 Q1210.51 1459.58 1210.51 1468.33 Q1210.51 1477.06 1207.43 1481.67 Q1204.37 1486.25 1198.56 1486.25 Q1192.75 1486.25 1189.67 1481.67 Q1186.62 1477.06 1186.62 1468.33 Q1186.62 1459.58 1189.67 1455 Q1192.75 1450.39 1198.56 1450.39 Z\" fill=\"#000000\" fill-rule=\"nonzero\" fill-opacity=\"1\" /><path clip-path=\"url(#clip310)\" d=\"M1564.6 1481.64 L1572.24 1481.64 L1572.24 1455.28 L1563.93 1456.95 L1563.93 1452.69 L1572.19 1451.02 L1576.87 1451.02 L1576.87 1481.64 L1584.51 1481.64 L1584.51 1485.58 L1564.6 1485.58 L1564.6 1481.64 Z\" fill=\"#000000\" fill-rule=\"nonzero\" fill-opacity=\"1\" /><path clip-path=\"url(#clip310)\" d=\"M1594 1451.02 L1612.36 1451.02 L1612.36 1454.96 L1598.28 1454.96 L1598.28 1463.43 Q1599.3 1463.08 1600.32 1462.92 Q1601.34 1462.73 1602.36 1462.73 Q1608.14 1462.73 1611.52 1465.9 Q1614.9 1469.08 1614.9 1474.49 Q1614.9 1480.07 1611.43 1483.17 Q1607.96 1486.25 1601.64 1486.25 Q1599.46 1486.25 1597.19 1485.88 Q1594.95 1485.51 1592.54 1484.77 L1592.54 1480.07 Q1594.63 1481.2 1596.85 1481.76 Q1599.07 1482.32 1601.55 1482.32 Q1605.55 1482.32 1607.89 1480.21 Q1610.23 1478.1 1610.23 1474.49 Q1610.23 1470.88 1607.89 1468.77 Q1605.55 1466.67 1601.55 1466.67 Q1599.67 1466.67 1597.8 1467.08 Q1595.94 1467.5 1594 1468.38 L1594 1451.02 Z\" fill=\"#000000\" fill-rule=\"nonzero\" fill-opacity=\"1\" /><path clip-path=\"url(#clip310)\" d=\"M1634.12 1454.1 Q1630.5 1454.1 1628.68 1457.66 Q1626.87 1461.2 1626.87 1468.33 Q1626.87 1475.44 1628.68 1479.01 Q1630.5 1482.55 1634.12 1482.55 Q1637.75 1482.55 1639.56 1479.01 Q1641.38 1475.44 1641.38 1468.33 Q1641.38 1461.2 1639.56 1457.66 Q1637.75 1454.1 1634.12 1454.1 M1634.12 1450.39 Q1639.93 1450.39 1642.98 1455 Q1646.06 1459.58 1646.06 1468.33 Q1646.06 1477.06 1642.98 1481.67 Q1639.93 1486.25 1634.12 1486.25 Q1628.31 1486.25 1625.23 1481.67 Q1622.17 1477.06 1622.17 1468.33 Q1622.17 1459.58 1625.23 1455 Q1628.31 1450.39 1634.12 1450.39 Z\" fill=\"#000000\" fill-rule=\"nonzero\" fill-opacity=\"1\" /><path clip-path=\"url(#clip310)\" d=\"M2004.24 1481.64 L2020.56 1481.64 L2020.56 1485.58 L1998.62 1485.58 L1998.62 1481.64 Q2001.28 1478.89 2005.86 1474.26 Q2010.47 1469.61 2011.65 1468.27 Q2013.9 1465.74 2014.77 1464.01 Q2015.68 1462.25 2015.68 1460.56 Q2015.68 1457.8 2013.73 1456.07 Q2011.81 1454.33 2008.71 1454.33 Q2006.51 1454.33 2004.06 1455.09 Q2001.63 1455.86 1998.85 1457.41 L1998.85 1452.69 Q2001.67 1451.55 2004.13 1450.97 Q2006.58 1450.39 2008.62 1450.39 Q2013.99 1450.39 2017.18 1453.08 Q2020.38 1455.77 2020.38 1460.26 Q2020.38 1462.39 2019.57 1464.31 Q2018.78 1466.2 2016.67 1468.8 Q2016.09 1469.47 2012.99 1472.69 Q2009.89 1475.88 2004.24 1481.64 Z\" fill=\"#000000\" fill-rule=\"nonzero\" fill-opacity=\"1\" /><path clip-path=\"url(#clip310)\" d=\"M2040.38 1454.1 Q2036.77 1454.1 2034.94 1457.66 Q2033.13 1461.2 2033.13 1468.33 Q2033.13 1475.44 2034.94 1479.01 Q2036.77 1482.55 2040.38 1482.55 Q2044.01 1482.55 2045.82 1479.01 Q2047.65 1475.44 2047.65 1468.33 Q2047.65 1461.2 2045.82 1457.66 Q2044.01 1454.1 2040.38 1454.1 M2040.38 1450.39 Q2046.19 1450.39 2049.24 1455 Q2052.32 1459.58 2052.32 1468.33 Q2052.32 1477.06 2049.24 1481.67 Q2046.19 1486.25 2040.38 1486.25 Q2034.57 1486.25 2031.49 1481.67 Q2028.43 1477.06 2028.43 1468.33 Q2028.43 1459.58 2031.49 1455 Q2034.57 1450.39 2040.38 1450.39 Z\" fill=\"#000000\" fill-rule=\"nonzero\" fill-opacity=\"1\" /><path clip-path=\"url(#clip310)\" d=\"M2070.54 1454.1 Q2066.93 1454.1 2065.1 1457.66 Q2063.29 1461.2 2063.29 1468.33 Q2063.29 1475.44 2065.1 1479.01 Q2066.93 1482.55 2070.54 1482.55 Q2074.17 1482.55 2075.98 1479.01 Q2077.81 1475.44 2077.81 1468.33 Q2077.81 1461.2 2075.98 1457.66 Q2074.17 1454.1 2070.54 1454.1 M2070.54 1450.39 Q2076.35 1450.39 2079.4 1455 Q2082.48 1459.58 2082.48 1468.33 Q2082.48 1477.06 2079.4 1481.67 Q2076.35 1486.25 2070.54 1486.25 Q2064.73 1486.25 2061.65 1481.67 Q2058.59 1477.06 2058.59 1468.33 Q2058.59 1459.58 2061.65 1455 Q2064.73 1450.39 2070.54 1450.39 Z\" fill=\"#000000\" fill-rule=\"nonzero\" fill-opacity=\"1\" /><path clip-path=\"url(#clip310)\" d=\"M989.779 1520.52 L1029.98 1520.52 L1029.98 1525.93 L1013.11 1525.93 L1013.11 1568.04 L1006.65 1568.04 L1006.65 1525.93 L989.779 1525.93 L989.779 1520.52 Z\" fill=\"#000000\" fill-rule=\"nonzero\" fill-opacity=\"1\" /><path clip-path=\"url(#clip310)\" d=\"M1047.01 1537.87 Q1046.02 1537.3 1044.84 1537.04 Q1043.7 1536.76 1042.3 1536.76 Q1037.33 1536.76 1034.66 1540 Q1032.02 1543.22 1032.02 1549.27 L1032.02 1568.04 L1026.13 1568.04 L1026.13 1532.4 L1032.02 1532.4 L1032.02 1537.93 Q1033.86 1534.69 1036.82 1533.13 Q1039.78 1531.54 1044.01 1531.54 Q1044.62 1531.54 1045.35 1531.63 Q1046.08 1531.7 1046.97 1531.85 L1047.01 1537.87 Z\" fill=\"#000000\" fill-rule=\"nonzero\" fill-opacity=\"1\" /><path clip-path=\"url(#clip310)\" d=\"M1069.35 1550.12 Q1062.25 1550.12 1059.52 1551.75 Q1056.78 1553.37 1056.78 1557.29 Q1056.78 1560.4 1058.82 1562.25 Q1060.88 1564.07 1064.42 1564.07 Q1069.29 1564.07 1072.22 1560.63 Q1075.18 1557.16 1075.18 1551.43 L1075.18 1550.12 L1069.35 1550.12 M1081.03 1547.71 L1081.03 1568.04 L1075.18 1568.04 L1075.18 1562.63 Q1073.17 1565.88 1070.18 1567.44 Q1067.19 1568.97 1062.86 1568.97 Q1057.38 1568.97 1054.14 1565.91 Q1050.92 1562.82 1050.92 1557.67 Q1050.92 1551.65 1054.93 1548.6 Q1058.97 1545.54 1066.96 1545.54 L1075.18 1545.54 L1075.18 1544.97 Q1075.18 1540.93 1072.5 1538.73 Q1069.86 1536.5 1065.05 1536.5 Q1062 1536.5 1059.1 1537.23 Q1056.21 1537.97 1053.53 1539.43 L1053.53 1534.02 Q1056.75 1532.78 1059.77 1532.17 Q1062.79 1531.54 1065.66 1531.54 Q1073.39 1531.54 1077.21 1535.55 Q1081.03 1539.56 1081.03 1547.71 Z\" fill=\"#000000\" fill-rule=\"nonzero\" fill-opacity=\"1\" /><path clip-path=\"url(#clip310)\" d=\"M1116.55 1537.81 L1116.55 1518.52 L1122.41 1518.52 L1122.41 1568.04 L1116.55 1568.04 L1116.55 1562.7 Q1114.71 1565.88 1111.87 1567.44 Q1109.07 1568.97 1105.13 1568.97 Q1098.66 1568.97 1094.59 1563.81 Q1090.55 1558.65 1090.55 1550.25 Q1090.55 1541.85 1094.59 1536.69 Q1098.66 1531.54 1105.13 1531.54 Q1109.07 1531.54 1111.87 1533.1 Q1114.71 1534.62 1116.55 1537.81 M1096.6 1550.25 Q1096.6 1556.71 1099.24 1560.4 Q1101.91 1564.07 1106.56 1564.07 Q1111.2 1564.07 1113.88 1560.4 Q1116.55 1556.71 1116.55 1550.25 Q1116.55 1543.79 1113.88 1540.13 Q1111.2 1536.44 1106.56 1536.44 Q1101.91 1536.44 1099.24 1540.13 Q1096.6 1543.79 1096.6 1550.25 Z\" fill=\"#000000\" fill-rule=\"nonzero\" fill-opacity=\"1\" /><path clip-path=\"url(#clip310)\" d=\"M1134.47 1532.4 L1140.33 1532.4 L1140.33 1568.04 L1134.47 1568.04 L1134.47 1532.4 M1134.47 1518.52 L1140.33 1518.52 L1140.33 1525.93 L1134.47 1525.93 L1134.47 1518.52 Z\" fill=\"#000000\" fill-rule=\"nonzero\" fill-opacity=\"1\" /><path clip-path=\"url(#clip310)\" d=\"M1182.21 1546.53 L1182.21 1568.04 L1176.36 1568.04 L1176.36 1546.72 Q1176.36 1541.66 1174.38 1539.14 Q1172.41 1536.63 1168.46 1536.63 Q1163.72 1536.63 1160.98 1539.65 Q1158.25 1542.68 1158.25 1547.9 L1158.25 1568.04 L1152.36 1568.04 L1152.36 1532.4 L1158.25 1532.4 L1158.25 1537.93 Q1160.35 1534.72 1163.18 1533.13 Q1166.05 1531.54 1169.77 1531.54 Q1175.91 1531.54 1179.06 1535.36 Q1182.21 1539.14 1182.21 1546.53 Z\" fill=\"#000000\" fill-rule=\"nonzero\" fill-opacity=\"1\" /><path clip-path=\"url(#clip310)\" d=\"M1217.35 1549.81 Q1217.35 1543.44 1214.71 1539.94 Q1212.1 1536.44 1207.36 1536.44 Q1202.65 1536.44 1200.01 1539.94 Q1197.4 1543.44 1197.4 1549.81 Q1197.4 1556.14 1200.01 1559.64 Q1202.65 1563.14 1207.36 1563.14 Q1212.1 1563.14 1214.71 1559.64 Q1217.35 1556.14 1217.35 1549.81 M1223.21 1563.62 Q1223.21 1572.72 1219.17 1577.15 Q1215.13 1581.6 1206.79 1581.6 Q1203.7 1581.6 1200.96 1581.13 Q1198.22 1580.68 1195.65 1579.72 L1195.65 1574.03 Q1198.22 1575.43 1200.74 1576.1 Q1203.25 1576.76 1205.86 1576.76 Q1211.62 1576.76 1214.49 1573.74 Q1217.35 1570.75 1217.35 1564.67 L1217.35 1561.77 Q1215.54 1564.92 1212.71 1566.48 Q1209.87 1568.04 1205.93 1568.04 Q1199.37 1568.04 1195.36 1563.05 Q1191.35 1558.05 1191.35 1549.81 Q1191.35 1541.53 1195.36 1536.53 Q1199.37 1531.54 1205.93 1531.54 Q1209.87 1531.54 1212.71 1533.1 Q1215.54 1534.66 1217.35 1537.81 L1217.35 1532.4 L1223.21 1532.4 L1223.21 1563.62 Z\" fill=\"#000000\" fill-rule=\"nonzero\" fill-opacity=\"1\" /><path clip-path=\"url(#clip310)\" d=\"M1262.68 1525.81 L1262.68 1562.76 L1270.44 1562.76 Q1280.28 1562.76 1284.83 1558.3 Q1289.41 1553.85 1289.41 1544.24 Q1289.41 1534.69 1284.83 1530.26 Q1280.28 1525.81 1270.44 1525.81 L1262.68 1525.81 M1256.25 1520.52 L1269.46 1520.52 Q1283.27 1520.52 1289.73 1526.28 Q1296.19 1532.01 1296.19 1544.24 Q1296.19 1556.52 1289.7 1562.28 Q1283.21 1568.04 1269.46 1568.04 L1256.25 1568.04 L1256.25 1520.52 Z\" fill=\"#000000\" fill-rule=\"nonzero\" fill-opacity=\"1\" /><path clip-path=\"url(#clip310)\" d=\"M1322.39 1550.12 Q1315.29 1550.12 1312.55 1551.75 Q1309.82 1553.37 1309.82 1557.29 Q1309.82 1560.4 1311.85 1562.25 Q1313.92 1564.07 1317.45 1564.07 Q1322.32 1564.07 1325.25 1560.63 Q1328.21 1557.16 1328.21 1551.43 L1328.21 1550.12 L1322.39 1550.12 M1334.07 1547.71 L1334.07 1568.04 L1328.21 1568.04 L1328.21 1562.63 Q1326.21 1565.88 1323.21 1567.44 Q1320.22 1568.97 1315.89 1568.97 Q1310.42 1568.97 1307.17 1565.91 Q1303.96 1562.82 1303.96 1557.67 Q1303.96 1551.65 1307.97 1548.6 Q1312.01 1545.54 1320 1545.54 L1328.21 1545.54 L1328.21 1544.97 Q1328.21 1540.93 1325.54 1538.73 Q1322.9 1536.5 1318.09 1536.5 Q1315.03 1536.5 1312.14 1537.23 Q1309.24 1537.97 1306.57 1539.43 L1306.57 1534.02 Q1309.78 1532.78 1312.81 1532.17 Q1315.83 1531.54 1318.7 1531.54 Q1326.43 1531.54 1330.25 1535.55 Q1334.07 1539.56 1334.07 1547.71 Z\" fill=\"#000000\" fill-rule=\"nonzero\" fill-opacity=\"1\" /><path clip-path=\"url(#clip310)\" d=\"M1360.96 1571.35 Q1358.48 1577.72 1356.13 1579.66 Q1353.77 1581.6 1349.82 1581.6 L1345.14 1581.6 L1345.14 1576.7 L1348.58 1576.7 Q1351 1576.7 1352.34 1575.56 Q1353.67 1574.41 1355.3 1570.14 L1356.35 1567.47 L1341.93 1532.4 L1348.14 1532.4 L1359.28 1560.28 L1370.42 1532.4 L1376.62 1532.4 L1360.96 1571.35 Z\" fill=\"#000000\" fill-rule=\"nonzero\" fill-opacity=\"1\" /><path clip-path=\"url(#clip310)\" d=\"M1419.5 1518.58 Q1415.23 1525.9 1413.16 1533.06 Q1411.09 1540.23 1411.09 1547.58 Q1411.09 1554.93 1413.16 1562.16 Q1415.26 1569.35 1419.5 1576.64 L1414.4 1576.64 Q1409.63 1569.16 1407.24 1561.93 Q1404.89 1554.71 1404.89 1547.58 Q1404.89 1540.48 1407.24 1533.29 Q1409.6 1526.09 1414.4 1518.58 L1419.5 1518.58 Z\" fill=\"#000000\" fill-rule=\"nonzero\" fill-opacity=\"1\" /><path clip-path=\"url(#clip310)\" d=\"M1437.22 1562.63 L1459.66 1562.63 L1459.66 1568.04 L1429.49 1568.04 L1429.49 1562.63 Q1433.15 1558.85 1439.45 1552.48 Q1445.79 1546.08 1447.41 1544.24 Q1450.5 1540.77 1451.71 1538.38 Q1452.95 1535.96 1452.95 1533.64 Q1452.95 1529.85 1450.27 1527.46 Q1447.63 1525.08 1443.37 1525.08 Q1440.34 1525.08 1436.97 1526.13 Q1433.63 1527.18 1429.81 1529.31 L1429.81 1522.82 Q1433.69 1521.26 1437.07 1520.46 Q1440.44 1519.66 1443.24 1519.66 Q1450.62 1519.66 1455.02 1523.36 Q1459.41 1527.05 1459.41 1533.22 Q1459.41 1536.15 1458.3 1538.79 Q1457.21 1541.4 1454.32 1544.97 Q1453.52 1545.89 1449.26 1550.32 Q1444.99 1554.71 1437.22 1562.63 Z\" fill=\"#000000\" fill-rule=\"nonzero\" fill-opacity=\"1\" /><path clip-path=\"url(#clip310)\" d=\"M1486.91 1524.76 Q1481.94 1524.76 1479.43 1529.66 Q1476.95 1534.53 1476.95 1544.33 Q1476.95 1554.1 1479.43 1559 Q1481.94 1563.87 1486.91 1563.87 Q1491.91 1563.87 1494.39 1559 Q1496.9 1554.1 1496.9 1544.33 Q1496.9 1534.53 1494.39 1529.66 Q1491.91 1524.76 1486.91 1524.76 M1486.91 1519.66 Q1494.9 1519.66 1499.1 1526 Q1503.33 1532.3 1503.33 1544.33 Q1503.33 1556.33 1499.1 1562.66 Q1494.9 1568.97 1486.91 1568.97 Q1478.92 1568.97 1474.69 1562.66 Q1470.49 1556.33 1470.49 1544.33 Q1470.49 1532.3 1474.69 1526 Q1478.92 1519.66 1486.91 1519.66 Z\" fill=\"#000000\" fill-rule=\"nonzero\" fill-opacity=\"1\" /><path clip-path=\"url(#clip310)\" d=\"M1520.17 1562.63 L1542.61 1562.63 L1542.61 1568.04 L1512.44 1568.04 L1512.44 1562.63 Q1516.1 1558.85 1522.4 1552.48 Q1528.73 1546.08 1530.35 1544.24 Q1533.44 1540.77 1534.65 1538.38 Q1535.89 1535.96 1535.89 1533.64 Q1535.89 1529.85 1533.22 1527.46 Q1530.58 1525.08 1526.31 1525.08 Q1523.29 1525.08 1519.92 1526.13 Q1516.57 1527.18 1512.75 1529.31 L1512.75 1522.82 Q1516.64 1521.26 1520.01 1520.46 Q1523.38 1519.66 1526.19 1519.66 Q1533.57 1519.66 1537.96 1523.36 Q1542.35 1527.05 1542.35 1533.22 Q1542.35 1536.15 1541.24 1538.79 Q1540.16 1541.4 1537.26 1544.97 Q1536.47 1545.89 1532.2 1550.32 Q1527.94 1554.71 1520.17 1562.63 Z\" fill=\"#000000\" fill-rule=\"nonzero\" fill-opacity=\"1\" /><path clip-path=\"url(#clip310)\" d=\"M1575.58 1542.42 Q1580.2 1543.41 1582.78 1546.53 Q1585.39 1549.65 1585.39 1554.23 Q1585.39 1561.26 1580.55 1565.12 Q1575.71 1568.97 1566.8 1568.97 Q1563.81 1568.97 1560.62 1568.36 Q1557.47 1567.79 1554.1 1566.61 L1554.1 1560.4 Q1556.77 1561.96 1559.96 1562.76 Q1563.14 1563.56 1566.61 1563.56 Q1572.66 1563.56 1575.81 1561.17 Q1578.99 1558.78 1578.99 1554.23 Q1578.99 1550.03 1576.03 1547.67 Q1573.1 1545.29 1567.85 1545.29 L1562.31 1545.29 L1562.31 1540 L1568.1 1540 Q1572.85 1540 1575.36 1538.13 Q1577.87 1536.22 1577.87 1532.65 Q1577.87 1528.99 1575.26 1527.05 Q1572.69 1525.08 1567.85 1525.08 Q1565.21 1525.08 1562.18 1525.65 Q1559.16 1526.22 1555.53 1527.43 L1555.53 1521.7 Q1559.19 1520.68 1562.37 1520.17 Q1565.59 1519.66 1568.42 1519.66 Q1575.74 1519.66 1580.01 1523.01 Q1584.27 1526.32 1584.27 1531.98 Q1584.27 1535.93 1582.01 1538.67 Q1579.75 1541.37 1575.58 1542.42 Z\" fill=\"#000000\" fill-rule=\"nonzero\" fill-opacity=\"1\" /><path clip-path=\"url(#clip310)\" d=\"M1595.83 1518.58 L1600.92 1518.58 Q1605.69 1526.09 1608.05 1533.29 Q1610.44 1540.48 1610.44 1547.58 Q1610.44 1554.71 1608.05 1561.93 Q1605.69 1569.16 1600.92 1576.64 L1595.83 1576.64 Q1600.06 1569.35 1602.13 1562.16 Q1604.23 1554.93 1604.23 1547.58 Q1604.23 1540.23 1602.13 1533.06 Q1600.06 1525.9 1595.83 1518.58 Z\" fill=\"#000000\" fill-rule=\"nonzero\" fill-opacity=\"1\" /><polyline clip-path=\"url(#clip312)\" style=\"stroke:#000000; stroke-linecap:round; stroke-linejoin:round; stroke-width:2; stroke-opacity:0.1; fill:none\" points=\"247.459,1372.51 2352.76,1372.51 \"/>\n",
       "<polyline clip-path=\"url(#clip312)\" style=\"stroke:#000000; stroke-linecap:round; stroke-linejoin:round; stroke-width:2; stroke-opacity:0.1; fill:none\" points=\"247.459,1051.04 2352.76,1051.04 \"/>\n",
       "<polyline clip-path=\"url(#clip312)\" style=\"stroke:#000000; stroke-linecap:round; stroke-linejoin:round; stroke-width:2; stroke-opacity:0.1; fill:none\" points=\"247.459,729.568 2352.76,729.568 \"/>\n",
       "<polyline clip-path=\"url(#clip312)\" style=\"stroke:#000000; stroke-linecap:round; stroke-linejoin:round; stroke-width:2; stroke-opacity:0.1; fill:none\" points=\"247.459,408.099 2352.76,408.099 \"/>\n",
       "<polyline clip-path=\"url(#clip312)\" style=\"stroke:#000000; stroke-linecap:round; stroke-linejoin:round; stroke-width:2; stroke-opacity:0.1; fill:none\" points=\"247.459,86.6292 2352.76,86.6292 \"/>\n",
       "<polyline clip-path=\"url(#clip310)\" style=\"stroke:#000000; stroke-linecap:round; stroke-linejoin:round; stroke-width:4; stroke-opacity:1; fill:none\" points=\"247.459,1423.18 247.459,47.2441 \"/>\n",
       "<polyline clip-path=\"url(#clip310)\" style=\"stroke:#000000; stroke-linecap:round; stroke-linejoin:round; stroke-width:4; stroke-opacity:1; fill:none\" points=\"247.459,1372.51 266.356,1372.51 \"/>\n",
       "<polyline clip-path=\"url(#clip310)\" style=\"stroke:#000000; stroke-linecap:round; stroke-linejoin:round; stroke-width:4; stroke-opacity:1; fill:none\" points=\"247.459,1051.04 266.356,1051.04 \"/>\n",
       "<polyline clip-path=\"url(#clip310)\" style=\"stroke:#000000; stroke-linecap:round; stroke-linejoin:round; stroke-width:4; stroke-opacity:1; fill:none\" points=\"247.459,729.568 266.356,729.568 \"/>\n",
       "<polyline clip-path=\"url(#clip310)\" style=\"stroke:#000000; stroke-linecap:round; stroke-linejoin:round; stroke-width:4; stroke-opacity:1; fill:none\" points=\"247.459,408.099 266.356,408.099 \"/>\n",
       "<polyline clip-path=\"url(#clip310)\" style=\"stroke:#000000; stroke-linecap:round; stroke-linejoin:round; stroke-width:4; stroke-opacity:1; fill:none\" points=\"247.459,86.6292 266.356,86.6292 \"/>\n",
       "<path clip-path=\"url(#clip310)\" d=\"M114.931 1385.85 L122.57 1385.85 L122.57 1359.49 L114.26 1361.15 L114.26 1356.89 L122.524 1355.23 L127.2 1355.23 L127.2 1385.85 L134.839 1385.85 L134.839 1389.79 L114.931 1389.79 L114.931 1385.85 Z\" fill=\"#000000\" fill-rule=\"nonzero\" fill-opacity=\"1\" /><path clip-path=\"url(#clip310)\" d=\"M144.283 1383.91 L149.167 1383.91 L149.167 1389.79 L144.283 1389.79 L144.283 1383.91 Z\" fill=\"#000000\" fill-rule=\"nonzero\" fill-opacity=\"1\" /><path clip-path=\"url(#clip310)\" d=\"M169.352 1358.31 Q165.741 1358.31 163.913 1361.87 Q162.107 1365.41 162.107 1372.54 Q162.107 1379.65 163.913 1383.21 Q165.741 1386.75 169.352 1386.75 Q172.987 1386.75 174.792 1383.21 Q176.621 1379.65 176.621 1372.54 Q176.621 1365.41 174.792 1361.87 Q172.987 1358.31 169.352 1358.31 M169.352 1354.6 Q175.163 1354.6 178.218 1359.21 Q181.297 1363.79 181.297 1372.54 Q181.297 1381.27 178.218 1385.88 Q175.163 1390.46 169.352 1390.46 Q163.542 1390.46 160.464 1385.88 Q157.408 1381.27 157.408 1372.54 Q157.408 1363.79 160.464 1359.21 Q163.542 1354.6 169.352 1354.6 Z\" fill=\"#000000\" fill-rule=\"nonzero\" fill-opacity=\"1\" /><path clip-path=\"url(#clip310)\" d=\"M199.514 1358.31 Q195.903 1358.31 194.075 1361.87 Q192.269 1365.41 192.269 1372.54 Q192.269 1379.65 194.075 1383.21 Q195.903 1386.75 199.514 1386.75 Q203.149 1386.75 204.954 1383.21 Q206.783 1379.65 206.783 1372.54 Q206.783 1365.41 204.954 1361.87 Q203.149 1358.31 199.514 1358.31 M199.514 1354.6 Q205.324 1354.6 208.38 1359.21 Q211.459 1363.79 211.459 1372.54 Q211.459 1381.27 208.38 1385.88 Q205.324 1390.46 199.514 1390.46 Q193.704 1390.46 190.625 1385.88 Q187.57 1381.27 187.57 1372.54 Q187.57 1363.79 190.625 1359.21 Q193.704 1354.6 199.514 1354.6 Z\" fill=\"#000000\" fill-rule=\"nonzero\" fill-opacity=\"1\" /><path clip-path=\"url(#clip310)\" d=\"M115.927 1064.38 L123.566 1064.38 L123.566 1038.02 L115.256 1039.68 L115.256 1035.42 L123.519 1033.76 L128.195 1033.76 L128.195 1064.38 L135.834 1064.38 L135.834 1068.32 L115.927 1068.32 L115.927 1064.38 Z\" fill=\"#000000\" fill-rule=\"nonzero\" fill-opacity=\"1\" /><path clip-path=\"url(#clip310)\" d=\"M145.279 1062.44 L150.163 1062.44 L150.163 1068.32 L145.279 1068.32 L145.279 1062.44 Z\" fill=\"#000000\" fill-rule=\"nonzero\" fill-opacity=\"1\" /><path clip-path=\"url(#clip310)\" d=\"M170.348 1036.84 Q166.737 1036.84 164.908 1040.4 Q163.102 1043.94 163.102 1051.07 Q163.102 1058.18 164.908 1061.74 Q166.737 1065.29 170.348 1065.29 Q173.982 1065.29 175.788 1061.74 Q177.616 1058.18 177.616 1051.07 Q177.616 1043.94 175.788 1040.4 Q173.982 1036.84 170.348 1036.84 M170.348 1033.13 Q176.158 1033.13 179.214 1037.74 Q182.292 1042.32 182.292 1051.07 Q182.292 1059.8 179.214 1064.41 Q176.158 1068.99 170.348 1068.99 Q164.538 1068.99 161.459 1064.41 Q158.403 1059.8 158.403 1051.07 Q158.403 1042.32 161.459 1037.74 Q164.538 1033.13 170.348 1033.13 Z\" fill=\"#000000\" fill-rule=\"nonzero\" fill-opacity=\"1\" /><path clip-path=\"url(#clip310)\" d=\"M190.556 1033.76 L208.912 1033.76 L208.912 1037.69 L194.838 1037.69 L194.838 1046.16 Q195.857 1045.82 196.875 1045.66 Q197.894 1045.47 198.912 1045.47 Q204.699 1045.47 208.079 1048.64 Q211.459 1051.81 211.459 1057.23 Q211.459 1062.81 207.987 1065.91 Q204.514 1068.99 198.195 1068.99 Q196.019 1068.99 193.75 1068.62 Q191.505 1068.25 189.098 1067.51 L189.098 1062.81 Q191.181 1063.94 193.403 1064.5 Q195.625 1065.05 198.102 1065.05 Q202.107 1065.05 204.445 1062.95 Q206.783 1060.84 206.783 1057.23 Q206.783 1053.62 204.445 1051.51 Q202.107 1049.41 198.102 1049.41 Q196.227 1049.41 194.352 1049.82 Q192.5 1050.24 190.556 1051.12 L190.556 1033.76 Z\" fill=\"#000000\" fill-rule=\"nonzero\" fill-opacity=\"1\" /><path clip-path=\"url(#clip310)\" d=\"M114.931 742.913 L122.57 742.913 L122.57 716.547 L114.26 718.214 L114.26 713.955 L122.524 712.288 L127.2 712.288 L127.2 742.913 L134.839 742.913 L134.839 746.848 L114.931 746.848 L114.931 742.913 Z\" fill=\"#000000\" fill-rule=\"nonzero\" fill-opacity=\"1\" /><path clip-path=\"url(#clip310)\" d=\"M144.283 740.969 L149.167 740.969 L149.167 746.848 L144.283 746.848 L144.283 740.969 Z\" fill=\"#000000\" fill-rule=\"nonzero\" fill-opacity=\"1\" /><path clip-path=\"url(#clip310)\" d=\"M160.163 742.913 L167.802 742.913 L167.802 716.547 L159.491 718.214 L159.491 713.955 L167.755 712.288 L172.431 712.288 L172.431 742.913 L180.07 742.913 L180.07 746.848 L160.163 746.848 L160.163 742.913 Z\" fill=\"#000000\" fill-rule=\"nonzero\" fill-opacity=\"1\" /><path clip-path=\"url(#clip310)\" d=\"M199.514 715.367 Q195.903 715.367 194.075 718.932 Q192.269 722.473 192.269 729.603 Q192.269 736.709 194.075 740.274 Q195.903 743.816 199.514 743.816 Q203.149 743.816 204.954 740.274 Q206.783 736.709 206.783 729.603 Q206.783 722.473 204.954 718.932 Q203.149 715.367 199.514 715.367 M199.514 711.663 Q205.324 711.663 208.38 716.27 Q211.459 720.853 211.459 729.603 Q211.459 738.33 208.38 742.936 Q205.324 747.519 199.514 747.519 Q193.704 747.519 190.625 742.936 Q187.57 738.33 187.57 729.603 Q187.57 720.853 190.625 716.27 Q193.704 711.663 199.514 711.663 Z\" fill=\"#000000\" fill-rule=\"nonzero\" fill-opacity=\"1\" /><path clip-path=\"url(#clip310)\" d=\"M115.927 421.444 L123.566 421.444 L123.566 395.078 L115.256 396.745 L115.256 392.485 L123.519 390.819 L128.195 390.819 L128.195 421.444 L135.834 421.444 L135.834 425.379 L115.927 425.379 L115.927 421.444 Z\" fill=\"#000000\" fill-rule=\"nonzero\" fill-opacity=\"1\" /><path clip-path=\"url(#clip310)\" d=\"M145.279 419.499 L150.163 419.499 L150.163 425.379 L145.279 425.379 L145.279 419.499 Z\" fill=\"#000000\" fill-rule=\"nonzero\" fill-opacity=\"1\" /><path clip-path=\"url(#clip310)\" d=\"M161.158 421.444 L168.797 421.444 L168.797 395.078 L160.487 396.745 L160.487 392.485 L168.751 390.819 L173.427 390.819 L173.427 421.444 L181.065 421.444 L181.065 425.379 L161.158 425.379 L161.158 421.444 Z\" fill=\"#000000\" fill-rule=\"nonzero\" fill-opacity=\"1\" /><path clip-path=\"url(#clip310)\" d=\"M190.556 390.819 L208.912 390.819 L208.912 394.754 L194.838 394.754 L194.838 403.226 Q195.857 402.879 196.875 402.717 Q197.894 402.532 198.912 402.532 Q204.699 402.532 208.079 405.703 Q211.459 408.874 211.459 414.291 Q211.459 419.869 207.987 422.971 Q204.514 426.05 198.195 426.05 Q196.019 426.05 193.75 425.68 Q191.505 425.309 189.098 424.568 L189.098 419.869 Q191.181 421.004 193.403 421.559 Q195.625 422.115 198.102 422.115 Q202.107 422.115 204.445 420.008 Q206.783 417.902 206.783 414.291 Q206.783 410.68 204.445 408.573 Q202.107 406.467 198.102 406.467 Q196.227 406.467 194.352 406.883 Q192.5 407.3 190.556 408.18 L190.556 390.819 Z\" fill=\"#000000\" fill-rule=\"nonzero\" fill-opacity=\"1\" /><path clip-path=\"url(#clip310)\" d=\"M114.931 99.974 L122.57 99.974 L122.57 73.6084 L114.26 75.2751 L114.26 71.0159 L122.524 69.3492 L127.2 69.3492 L127.2 99.974 L134.839 99.974 L134.839 103.909 L114.931 103.909 L114.931 99.974 Z\" fill=\"#000000\" fill-rule=\"nonzero\" fill-opacity=\"1\" /><path clip-path=\"url(#clip310)\" d=\"M144.283 98.0296 L149.167 98.0296 L149.167 103.909 L144.283 103.909 L144.283 98.0296 Z\" fill=\"#000000\" fill-rule=\"nonzero\" fill-opacity=\"1\" /><path clip-path=\"url(#clip310)\" d=\"M163.38 99.974 L179.7 99.974 L179.7 103.909 L157.755 103.909 L157.755 99.974 Q160.417 97.2194 165.001 92.5898 Q169.607 87.9371 170.788 86.5945 Q173.033 84.0713 173.913 82.3352 Q174.815 80.576 174.815 78.8862 Q174.815 76.1316 172.871 74.3955 Q170.95 72.6594 167.848 72.6594 Q165.649 72.6594 163.195 73.4232 Q160.765 74.1871 157.987 75.7381 L157.987 71.0159 Q160.811 69.8816 163.265 69.3029 Q165.718 68.7242 167.755 68.7242 Q173.126 68.7242 176.32 71.4094 Q179.514 74.0945 179.514 78.5853 Q179.514 80.7149 178.704 82.6362 Q177.917 84.5343 175.811 87.1269 Q175.232 87.7982 172.13 91.0157 Q169.028 94.2102 163.38 99.974 Z\" fill=\"#000000\" fill-rule=\"nonzero\" fill-opacity=\"1\" /><path clip-path=\"url(#clip310)\" d=\"M199.514 72.4279 Q195.903 72.4279 194.075 75.9927 Q192.269 79.5343 192.269 86.6639 Q192.269 93.7704 194.075 97.3352 Q195.903 100.877 199.514 100.877 Q203.149 100.877 204.954 97.3352 Q206.783 93.7704 206.783 86.6639 Q206.783 79.5343 204.954 75.9927 Q203.149 72.4279 199.514 72.4279 M199.514 68.7242 Q205.324 68.7242 208.38 73.3307 Q211.459 77.914 211.459 86.6639 Q211.459 95.3907 208.38 99.9972 Q205.324 104.58 199.514 104.58 Q193.704 104.58 190.625 99.9972 Q187.57 95.3907 187.57 86.6639 Q187.57 77.914 190.625 73.3307 Q193.704 68.7242 199.514 68.7242 Z\" fill=\"#000000\" fill-rule=\"nonzero\" fill-opacity=\"1\" /><path clip-path=\"url(#clip310)\" d=\"M16.4842 949.593 L16.4842 943.1 L56.6518 933.106 L16.4842 923.144 L16.4842 915.918 L56.6518 905.924 L16.4842 895.962 L16.4842 889.437 L64.0042 901.373 L64.0042 909.457 L22.7544 919.483 L64.0042 929.605 L64.0042 937.689 L16.4842 949.593 Z\" fill=\"#000000\" fill-rule=\"nonzero\" fill-opacity=\"1\" /><path clip-path=\"url(#clip310)\" d=\"M44.7161 854.489 L47.5806 854.489 L47.5806 881.416 Q53.6281 881.034 56.8109 877.788 Q59.9619 874.51 59.9619 868.685 Q59.9619 865.311 59.1344 862.16 Q58.3069 858.977 56.6518 855.858 L62.1899 855.858 Q63.5267 859.009 64.227 862.319 Q64.9272 865.629 64.9272 869.035 Q64.9272 877.565 59.9619 882.562 Q54.9967 887.527 46.5303 887.527 Q37.7774 887.527 32.6531 882.817 Q27.4968 878.074 27.4968 870.054 Q27.4968 862.86 32.1438 858.691 Q36.7589 854.489 44.7161 854.489 M42.9973 860.346 Q38.1912 860.41 35.3266 863.051 Q32.4621 865.661 32.4621 869.99 Q32.4621 874.891 35.2312 877.852 Q38.0002 880.78 43.0292 881.225 L42.9973 860.346 Z\" fill=\"#000000\" fill-rule=\"nonzero\" fill-opacity=\"1\" /><path clip-path=\"url(#clip310)\" d=\"M46.0847 828.676 Q46.0847 835.774 47.7079 838.511 Q49.3312 841.249 53.2461 841.249 Q56.3653 841.249 58.2114 839.212 Q60.0256 837.143 60.0256 833.61 Q60.0256 828.74 56.5881 825.812 Q53.1188 822.852 47.3897 822.852 L46.0847 822.852 L46.0847 828.676 M43.6657 816.995 L64.0042 816.995 L64.0042 822.852 L58.5933 822.852 Q61.8398 824.857 63.3994 827.849 Q64.9272 830.841 64.9272 835.169 Q64.9272 840.644 61.8716 843.89 Q58.7843 847.105 53.6281 847.105 Q47.6125 847.105 44.5569 843.095 Q41.5014 839.053 41.5014 831.064 L41.5014 822.852 L40.9285 822.852 Q36.8862 822.852 34.6901 825.525 Q32.4621 828.167 32.4621 832.973 Q32.4621 836.029 33.1941 838.925 Q33.9262 841.822 35.3903 844.495 L29.9795 844.495 Q28.7381 841.281 28.1334 838.257 Q27.4968 835.233 27.4968 832.369 Q27.4968 824.634 31.5072 820.815 Q35.5176 816.995 43.6657 816.995 Z\" fill=\"#000000\" fill-rule=\"nonzero\" fill-opacity=\"1\" /><path clip-path=\"url(#clip310)\" d=\"M14.479 804.932 L14.479 799.076 L64.0042 799.076 L64.0042 804.932 L14.479 804.932 Z\" fill=\"#000000\" fill-rule=\"nonzero\" fill-opacity=\"1\" /><path clip-path=\"url(#clip310)\" d=\"M18.2347 781.029 L28.3562 781.029 L28.3562 768.966 L32.9077 768.966 L32.9077 781.029 L52.2594 781.029 Q56.6199 781.029 57.8613 779.851 Q59.1026 778.642 59.1026 774.982 L59.1026 768.966 L64.0042 768.966 L64.0042 774.982 Q64.0042 781.761 61.4897 784.339 Q58.9434 786.917 52.2594 786.917 L32.9077 786.917 L32.9077 791.214 L28.3562 791.214 L28.3562 786.917 L18.2347 786.917 L18.2347 781.029 Z\" fill=\"#000000\" fill-rule=\"nonzero\" fill-opacity=\"1\" /><path clip-path=\"url(#clip310)\" d=\"M42.4881 731.631 L64.0042 731.631 L64.0042 737.488 L42.679 737.488 Q37.6183 737.488 35.1038 739.461 Q32.5894 741.434 32.5894 745.381 Q32.5894 750.124 35.6131 752.861 Q38.6368 755.598 43.8567 755.598 L64.0042 755.598 L64.0042 761.486 L14.479 761.486 L14.479 755.598 L33.8944 755.598 Q30.6797 753.497 29.0883 750.665 Q27.4968 747.8 27.4968 744.076 Q27.4968 737.933 31.3163 734.782 Q35.1038 731.631 42.4881 731.631 Z\" fill=\"#000000\" fill-rule=\"nonzero\" fill-opacity=\"1\" /><path clip-path=\"url(#clip310)\" d=\"M14.5426 685.162 Q21.8632 689.427 29.0246 691.495 Q36.186 693.564 43.5384 693.564 Q50.8908 693.564 58.1159 691.495 Q65.3091 689.395 72.5979 685.162 L72.5979 690.254 Q65.1182 695.028 57.8931 697.416 Q50.668 699.771 43.5384 699.771 Q36.4406 699.771 29.2474 697.416 Q22.0542 695.06 14.5426 690.254 L14.5426 685.162 Z\" fill=\"#000000\" fill-rule=\"nonzero\" fill-opacity=\"1\" /><path clip-path=\"url(#clip310)\" d=\"M16.4842 674.276 L16.4842 667.815 L45.3526 667.815 Q52.9915 667.815 56.3653 665.046 Q59.7073 662.277 59.7073 656.07 Q59.7073 649.896 56.3653 647.127 Q52.9915 644.357 45.3526 644.357 L16.4842 644.357 L16.4842 637.896 L46.1484 637.896 Q55.4423 637.896 60.1847 642.511 Q64.9272 647.095 64.9272 656.07 Q64.9272 665.078 60.1847 669.693 Q55.4423 674.276 46.1484 674.276 L16.4842 674.276 Z\" fill=\"#000000\" fill-rule=\"nonzero\" fill-opacity=\"1\" /><path clip-path=\"url(#clip310)\" d=\"M18.0438 597.347 L24.314 597.347 Q22.5634 601.007 21.704 604.253 Q20.8447 607.5 20.8447 610.524 Q20.8447 615.775 22.8817 618.64 Q24.9187 621.473 28.6745 621.473 Q31.8255 621.473 33.4488 619.595 Q35.0402 617.685 36.0269 612.402 L36.8226 608.518 Q38.1912 601.325 41.6605 597.92 Q45.098 594.482 50.8908 594.482 Q57.7976 594.482 61.3624 599.129 Q64.9272 603.744 64.9272 612.688 Q64.9272 616.062 64.1633 619.881 Q63.3994 623.669 61.9035 627.743 L55.2831 627.743 Q57.4793 623.828 58.5933 620.072 Q59.7073 616.316 59.7073 612.688 Q59.7073 607.182 57.543 604.19 Q55.3786 601.198 51.3682 601.198 Q47.8671 601.198 45.8937 603.362 Q43.9204 605.495 42.9337 610.396 L42.1698 614.311 Q40.7375 621.505 37.682 624.719 Q34.6264 627.934 29.1837 627.934 Q22.8817 627.934 19.2532 623.51 Q15.6248 619.054 15.6248 611.256 Q15.6248 607.914 16.2295 604.444 Q16.8343 600.975 18.0438 597.347 Z\" fill=\"#000000\" fill-rule=\"nonzero\" fill-opacity=\"1\" /><path clip-path=\"url(#clip310)\" d=\"M21.7677 578.027 L58.7206 578.027 L58.7206 570.261 Q58.7206 560.426 54.2646 555.874 Q49.8086 551.291 40.1964 551.291 Q30.6479 551.291 26.2237 555.874 Q21.7677 560.426 21.7677 570.261 L21.7677 578.027 M16.4842 584.456 L16.4842 571.247 Q16.4842 557.434 22.2451 550.973 Q27.9743 544.511 40.1964 544.511 Q52.4822 544.511 58.2432 551.004 Q64.0042 557.497 64.0042 571.247 L64.0042 584.456 L16.4842 584.456 Z\" fill=\"#000000\" fill-rule=\"nonzero\" fill-opacity=\"1\" /><path clip-path=\"url(#clip310)\" d=\"M14.5426 535.44 L14.5426 530.348 Q22.0542 525.573 29.2474 523.218 Q36.4406 520.831 43.5384 520.831 Q50.668 520.831 57.8931 523.218 Q65.1182 525.573 72.5979 530.348 L72.5979 535.44 Q65.3091 531.207 58.1159 529.138 Q50.8908 527.037 43.5384 527.037 Q36.186 527.037 29.0246 529.138 Q21.8632 531.207 14.5426 535.44 Z\" fill=\"#000000\" fill-rule=\"nonzero\" fill-opacity=\"1\" /><polyline clip-path=\"url(#clip312)\" style=\"stroke:#0000ff; stroke-linecap:round; stroke-linejoin:round; stroke-width:12; stroke-opacity:1; fill:none\" points=\"307.043,1372.51 315.754,1335.52 324.465,1384.24 333.176,1300.13 341.887,1213.78 350.598,1235.39 359.309,1164.2 368.02,1113.37 376.731,1104.5 385.442,1081.56 394.154,1143.02 402.865,1232.26 411.576,1176.19 420.287,1055 428.998,1052.21 437.709,1087.33 446.42,1007.04 455.131,953.428 463.842,1013.54 472.553,980.914 481.264,918.427 489.976,789.162 498.687,818.737 507.398,882.503 516.109,848.747 524.82,849.87 533.531,885.8 542.242,932.842 550.953,858.958 559.664,846.516 568.375,844.196 577.087,876.938 585.798,947.621 594.509,1031.84 603.22,1069.52 611.931,1057.54 620.642,1121.91 629.353,1074.24 638.064,1094.66 646.775,1133.2 655.486,1128.31 664.197,1016.38 672.909,959.509 681.62,1044.7 690.331,1080.52 699.042,1128.27 707.753,1248.44 716.464,1285.91 725.175,1216.23 733.886,1267.8 742.597,1169.42 751.308,1199.33 760.019,1180.15 768.731,1100.12 777.442,1091.59 786.153,1142.68 794.864,1167.38 803.575,1102.82 812.286,1131.13 820.997,1053.26 829.708,996.685 838.419,928.548 847.13,881.674 855.842,895.96 864.553,927.443 873.264,914.395 881.975,914.748 890.686,882.045 899.397,887.314 908.108,853.371 916.819,844.217 925.53,838.683 934.241,813.609 942.952,820.539 951.664,848.32 960.375,852.607 969.086,847.24 977.797,911.256 986.508,956.626 995.219,880.638 1003.93,808.086 1012.64,777.604 1021.35,864.233 1030.06,872.42 1038.77,958.483 1047.49,861.538 1056.2,839.968 1064.91,859.472 1073.62,849.203 1082.33,856.602 1091.04,862.844 1099.75,846.58 1108.46,859.115 1117.17,824.47 1125.89,761.137 1134.6,730.077 1143.31,729.844 1152.02,782.892 1160.73,861.656 1169.44,816.347 1178.15,732.001 1186.86,706.051 1195.57,747.098 1204.29,705.727 1213,598.16 1221.71,578.742 1230.42,585.589 1239.13,589.73 1247.84,573.593 1256.55,540.927 1265.26,511.801 1273.97,443.499 1282.69,431.319 1291.4,364.13 1300.11,359.607 1308.82,424.23 1317.53,450.904 1326.24,452.852 1334.95,479.781 1343.66,502.379 1352.37,465.243 1361.08,447.893 1369.8,422.251 1378.51,329.743 1387.22,316.51 1395.93,320.142 1404.64,390.503 1413.35,377.206 1422.06,394.834 1430.77,355.372 1439.48,280.549 1448.2,231.049 1456.91,210.324 1465.62,199.447 1474.33,153.162 1483.04,117.003 1491.75,151.553 1500.46,157.759 1509.17,141.073 1517.88,116.259 1526.6,122.974 1535.31,117.403 1544.02,101.569 1552.73,86.1857 1561.44,97.9438 1570.15,182.912 1578.86,220.703 1587.57,222.804 1596.28,214.553 1605,248.818 1613.71,258.482 1622.42,248.68 1631.13,287.048 1639.84,262.514 1648.55,304.138 1657.26,348.628 1665.97,404.127 1674.68,450.511 1683.4,410.282 1692.11,395.48 1700.82,343.869 1709.53,373.635 1718.24,396.718 1726.95,341.891 1735.66,255.245 1744.37,196.881 1753.08,184.72 1761.8,186.158 1770.51,206.518 1779.22,274.093 1787.93,299.098 1796.64,279.998 1805.35,243.634 1814.06,261.903 1822.77,265.793 1831.48,216.815 1840.2,293.348 1848.91,314.448 1857.62,342.938 1866.33,351.901 1875.04,482.233 1883.75,515.501 1892.46,529.605 1901.17,592.92 1909.88,622.134 1918.59,581.003 1927.31,569.966 1936.02,606.388 1944.73,674.738 1953.44,660.845 1962.15,652.961 1970.86,596.179 1979.57,539.436 1988.28,460.06 1996.99,457.738 2005.71,469.172 2014.42,505.282 2023.13,449.552 2031.84,453.915 2040.55,508.829 2049.26,562.459 2057.97,654.784 2066.68,689.784 2075.39,662.087 2084.11,728.332 2092.82,811.95 2101.53,855.716 2110.24,809.22 2118.95,765.939 2127.66,698.831 2136.37,564.911 2145.08,469.644 2153.79,459.589 2162.51,434.61 2171.22,429.822 2179.93,449.819 2188.64,409.979 2197.35,374.46 2206.06,243.234 2214.77,206.955 2223.48,216.15 2232.19,198.333 2240.91,151.663 2249.62,156.191 2258.33,122.333 2267.04,121.263 2275.75,125.789 2284.46,127.59 2293.17,109.098 \"/>\n",
       "<path clip-path=\"url(#clip310)\" d=\"M317.635 300.469 L1053.46 300.469 L1053.46 93.1086 L317.635 93.1086  Z\" fill=\"#ffffff\" fill-rule=\"evenodd\" fill-opacity=\"1\"/>\n",
       "<polyline clip-path=\"url(#clip310)\" style=\"stroke:#000000; stroke-linecap:round; stroke-linejoin:round; stroke-width:4; stroke-opacity:1; fill:none\" points=\"317.635,300.469 1053.46,300.469 1053.46,93.1086 317.635,93.1086 317.635,300.469 \"/>\n",
       "<polyline clip-path=\"url(#clip310)\" style=\"stroke:#800080; stroke-linecap:round; stroke-linejoin:round; stroke-width:16; stroke-opacity:1; fill:none\" points=\"341.027,144.949 481.381,144.949 \"/>\n",
       "<path clip-path=\"url(#clip310)\" d=\"M532.643 130.331 L532.643 135.261 Q530.282 133.062 527.597 131.974 Q524.935 130.886 521.925 130.886 Q516 130.886 512.851 134.52 Q509.703 138.132 509.703 144.983 Q509.703 151.812 512.851 155.446 Q516 159.057 521.925 159.057 Q524.935 159.057 527.597 157.969 Q530.282 156.881 532.643 154.682 L532.643 159.567 Q530.189 161.233 527.435 162.067 Q524.703 162.9 521.648 162.9 Q513.801 162.9 509.287 158.108 Q504.773 153.293 504.773 144.983 Q504.773 136.65 509.287 131.858 Q513.801 127.044 521.648 127.044 Q524.75 127.044 527.481 127.877 Q530.236 128.687 532.643 130.331 Z\" fill=\"#000000\" fill-rule=\"nonzero\" fill-opacity=\"1\" /><path clip-path=\"url(#clip310)\" d=\"M561.231 146.581 L561.231 162.229 L556.972 162.229 L556.972 146.719 Q556.972 143.039 555.536 141.21 Q554.101 139.382 551.231 139.382 Q547.782 139.382 545.791 141.581 Q543.8 143.78 543.8 147.576 L543.8 162.229 L539.518 162.229 L539.518 126.21 L543.8 126.21 L543.8 140.331 Q545.328 137.993 547.388 136.835 Q549.472 135.678 552.18 135.678 Q556.648 135.678 558.939 138.456 Q561.231 141.21 561.231 146.581 Z\" fill=\"#000000\" fill-rule=\"nonzero\" fill-opacity=\"1\" /><path clip-path=\"url(#clip310)\" d=\"M579.772 139.289 Q576.347 139.289 574.356 141.974 Q572.365 144.636 572.365 149.289 Q572.365 153.942 574.333 156.627 Q576.323 159.289 579.772 159.289 Q583.175 159.289 585.166 156.604 Q587.157 153.918 587.157 149.289 Q587.157 144.682 585.166 141.997 Q583.175 139.289 579.772 139.289 M579.772 135.678 Q585.328 135.678 588.499 139.289 Q591.67 142.9 591.67 149.289 Q591.67 155.655 588.499 159.289 Q585.328 162.9 579.772 162.9 Q574.194 162.9 571.022 159.289 Q567.874 155.655 567.874 149.289 Q567.874 142.9 571.022 139.289 Q574.194 135.678 579.772 135.678 Z\" fill=\"#000000\" fill-rule=\"nonzero\" fill-opacity=\"1\" /><path clip-path=\"url(#clip310)\" d=\"M615.258 137.067 L615.258 141.094 Q613.453 140.169 611.508 139.706 Q609.564 139.243 607.481 139.243 Q604.309 139.243 602.712 140.215 Q601.138 141.187 601.138 143.131 Q601.138 144.613 602.272 145.469 Q603.407 146.303 606.832 147.067 L608.291 147.391 Q612.828 148.363 614.726 150.145 Q616.647 151.905 616.647 155.076 Q616.647 158.687 613.777 160.793 Q610.93 162.9 605.93 162.9 Q603.846 162.9 601.578 162.483 Q599.332 162.09 596.833 161.28 L596.833 156.881 Q599.194 158.108 601.485 158.733 Q603.777 159.335 606.022 159.335 Q609.032 159.335 610.652 158.317 Q612.272 157.275 612.272 155.4 Q612.272 153.664 611.092 152.738 Q609.934 151.812 605.976 150.956 L604.495 150.608 Q600.536 149.775 598.777 148.062 Q597.018 146.326 597.018 143.317 Q597.018 139.659 599.61 137.669 Q602.203 135.678 606.971 135.678 Q609.332 135.678 611.416 136.025 Q613.499 136.372 615.258 137.067 Z\" fill=\"#000000\" fill-rule=\"nonzero\" fill-opacity=\"1\" /><path clip-path=\"url(#clip310)\" d=\"M645.605 148.201 L645.605 150.284 L626.022 150.284 Q626.3 154.682 628.661 156.997 Q631.045 159.289 635.281 159.289 Q637.735 159.289 640.027 158.687 Q642.342 158.085 644.61 156.881 L644.61 160.909 Q642.318 161.881 639.911 162.391 Q637.504 162.9 635.027 162.9 Q628.823 162.9 625.189 159.289 Q621.578 155.678 621.578 149.52 Q621.578 143.155 625.004 139.428 Q628.453 135.678 634.286 135.678 Q639.517 135.678 642.55 139.057 Q645.605 142.414 645.605 148.201 M641.346 146.951 Q641.3 143.456 639.379 141.372 Q637.48 139.289 634.332 139.289 Q630.768 139.289 628.615 141.303 Q626.485 143.317 626.161 146.974 L641.346 146.951 Z\" fill=\"#000000\" fill-rule=\"nonzero\" fill-opacity=\"1\" /><path clip-path=\"url(#clip310)\" d=\"M674.147 146.581 L674.147 162.229 L669.888 162.229 L669.888 146.719 Q669.888 143.039 668.452 141.21 Q667.017 139.382 664.147 139.382 Q660.698 139.382 658.707 141.581 Q656.716 143.78 656.716 147.576 L656.716 162.229 L652.434 162.229 L652.434 136.303 L656.716 136.303 L656.716 140.331 Q658.244 137.993 660.304 136.835 Q662.388 135.678 665.096 135.678 Q669.564 135.678 671.855 138.456 Q674.147 141.21 674.147 146.581 Z\" fill=\"#000000\" fill-rule=\"nonzero\" fill-opacity=\"1\" /><path clip-path=\"url(#clip310)\" d=\"M702.573 131.511 L702.573 144.497 L708.452 144.497 Q711.716 144.497 713.499 142.807 Q715.281 141.118 715.281 137.993 Q715.281 134.891 713.499 133.201 Q711.716 131.511 708.452 131.511 L702.573 131.511 M697.897 127.669 L708.452 127.669 Q714.262 127.669 717.225 130.307 Q720.211 132.923 720.211 137.993 Q720.211 143.108 717.225 145.724 Q714.262 148.34 708.452 148.34 L702.573 148.34 L702.573 162.229 L697.897 162.229 L697.897 127.669 Z\" fill=\"#000000\" fill-rule=\"nonzero\" fill-opacity=\"1\" /><path clip-path=\"url(#clip310)\" d=\"M734.656 139.289 Q731.23 139.289 729.239 141.974 Q727.248 144.636 727.248 149.289 Q727.248 153.942 729.216 156.627 Q731.207 159.289 734.656 159.289 Q738.059 159.289 740.049 156.604 Q742.04 153.918 742.04 149.289 Q742.04 144.682 740.049 141.997 Q738.059 139.289 734.656 139.289 M734.656 135.678 Q740.211 135.678 743.383 139.289 Q746.554 142.9 746.554 149.289 Q746.554 155.655 743.383 159.289 Q740.211 162.9 734.656 162.9 Q729.077 162.9 725.906 159.289 Q722.758 155.655 722.758 149.289 Q722.758 142.9 725.906 139.289 Q729.077 135.678 734.656 135.678 Z\" fill=\"#000000\" fill-rule=\"nonzero\" fill-opacity=\"1\" /><path clip-path=\"url(#clip310)\" d=\"M768.637 140.284 Q767.92 139.868 767.063 139.682 Q766.23 139.474 765.211 139.474 Q761.6 139.474 759.656 141.835 Q757.734 144.173 757.734 148.571 L757.734 162.229 L753.452 162.229 L753.452 136.303 L757.734 136.303 L757.734 140.331 Q759.077 137.969 761.23 136.835 Q763.383 135.678 766.461 135.678 Q766.901 135.678 767.433 135.747 Q767.966 135.794 768.614 135.909 L768.637 140.284 Z\" fill=\"#000000\" fill-rule=\"nonzero\" fill-opacity=\"1\" /><path clip-path=\"url(#clip310)\" d=\"M777.318 128.942 L777.318 136.303 L786.091 136.303 L786.091 139.613 L777.318 139.613 L777.318 153.687 Q777.318 156.858 778.174 157.761 Q779.054 158.664 781.716 158.664 L786.091 158.664 L786.091 162.229 L781.716 162.229 Q776.785 162.229 774.91 160.4 Q773.035 158.548 773.035 153.687 L773.035 139.613 L769.91 139.613 L769.91 136.303 L773.035 136.303 L773.035 128.942 L777.318 128.942 Z\" fill=\"#000000\" fill-rule=\"nonzero\" fill-opacity=\"1\" /><path clip-path=\"url(#clip310)\" d=\"M804.818 126.21 L804.818 129.752 L800.743 129.752 Q798.452 129.752 797.549 130.678 Q796.669 131.604 796.669 134.011 L796.669 136.303 L803.683 136.303 L803.683 139.613 L796.669 139.613 L796.669 162.229 L792.387 162.229 L792.387 139.613 L788.313 139.613 L788.313 136.303 L792.387 136.303 L792.387 134.497 Q792.387 130.169 794.401 128.201 Q796.415 126.21 800.79 126.21 L804.818 126.21 Z\" fill=\"#000000\" fill-rule=\"nonzero\" fill-opacity=\"1\" /><path clip-path=\"url(#clip310)\" d=\"M818.429 139.289 Q815.003 139.289 813.012 141.974 Q811.021 144.636 811.021 149.289 Q811.021 153.942 812.989 156.627 Q814.979 159.289 818.429 159.289 Q821.831 159.289 823.822 156.604 Q825.813 153.918 825.813 149.289 Q825.813 144.682 823.822 141.997 Q821.831 139.289 818.429 139.289 M818.429 135.678 Q823.984 135.678 827.155 139.289 Q830.327 142.9 830.327 149.289 Q830.327 155.655 827.155 159.289 Q823.984 162.9 818.429 162.9 Q812.85 162.9 809.679 159.289 Q806.53 155.655 806.53 149.289 Q806.53 142.9 809.679 139.289 Q812.85 135.678 818.429 135.678 Z\" fill=\"#000000\" fill-rule=\"nonzero\" fill-opacity=\"1\" /><path clip-path=\"url(#clip310)\" d=\"M837.387 126.21 L841.646 126.21 L841.646 162.229 L837.387 162.229 L837.387 126.21 Z\" fill=\"#000000\" fill-rule=\"nonzero\" fill-opacity=\"1\" /><path clip-path=\"url(#clip310)\" d=\"M850.558 136.303 L854.817 136.303 L854.817 162.229 L850.558 162.229 L850.558 136.303 M850.558 126.21 L854.817 126.21 L854.817 131.604 L850.558 131.604 L850.558 126.21 Z\" fill=\"#000000\" fill-rule=\"nonzero\" fill-opacity=\"1\" /><path clip-path=\"url(#clip310)\" d=\"M873.775 139.289 Q870.35 139.289 868.359 141.974 Q866.368 144.636 866.368 149.289 Q866.368 153.942 868.336 156.627 Q870.326 159.289 873.775 159.289 Q877.178 159.289 879.169 156.604 Q881.16 153.918 881.16 149.289 Q881.16 144.682 879.169 141.997 Q877.178 139.289 873.775 139.289 M873.775 135.678 Q879.331 135.678 882.502 139.289 Q885.674 142.9 885.674 149.289 Q885.674 155.655 882.502 159.289 Q879.331 162.9 873.775 162.9 Q868.197 162.9 865.026 159.289 Q861.877 155.655 861.877 149.289 Q861.877 142.9 865.026 139.289 Q868.197 135.678 873.775 135.678 Z\" fill=\"#000000\" fill-rule=\"nonzero\" fill-opacity=\"1\" /><path clip-path=\"url(#clip310)\" d=\"M907.988 127.669 L912.664 127.669 L912.664 162.229 L907.988 162.229 L907.988 127.669 Z\" fill=\"#000000\" fill-rule=\"nonzero\" fill-opacity=\"1\" /><path clip-path=\"url(#clip310)\" d=\"M943.335 146.581 L943.335 162.229 L939.076 162.229 L939.076 146.719 Q939.076 143.039 937.641 141.21 Q936.206 139.382 933.335 139.382 Q929.886 139.382 927.896 141.581 Q925.905 143.78 925.905 147.576 L925.905 162.229 L921.622 162.229 L921.622 136.303 L925.905 136.303 L925.905 140.331 Q927.433 137.993 929.493 136.835 Q931.576 135.678 934.284 135.678 Q938.752 135.678 941.044 138.456 Q943.335 141.21 943.335 146.581 Z\" fill=\"#000000\" fill-rule=\"nonzero\" fill-opacity=\"1\" /><path clip-path=\"url(#clip310)\" d=\"M951.831 136.303 L956.09 136.303 L956.09 162.229 L951.831 162.229 L951.831 136.303 M951.831 126.21 L956.09 126.21 L956.09 131.604 L951.831 131.604 L951.831 126.21 Z\" fill=\"#000000\" fill-rule=\"nonzero\" fill-opacity=\"1\" /><path clip-path=\"url(#clip310)\" d=\"M969.215 128.942 L969.215 136.303 L977.988 136.303 L977.988 139.613 L969.215 139.613 L969.215 153.687 Q969.215 156.858 970.071 157.761 Q970.951 158.664 973.613 158.664 L977.988 158.664 L977.988 162.229 L973.613 162.229 Q968.682 162.229 966.807 160.4 Q964.932 158.548 964.932 153.687 L964.932 139.613 L961.807 139.613 L961.807 136.303 L964.932 136.303 L964.932 128.942 L969.215 128.942 Z\" fill=\"#000000\" fill-rule=\"nonzero\" fill-opacity=\"1\" /><path clip-path=\"url(#clip310)\" d=\"M983.59 136.303 L987.849 136.303 L987.849 162.229 L983.59 162.229 L983.59 136.303 M983.59 126.21 L987.849 126.21 L987.849 131.604 L983.59 131.604 L983.59 126.21 Z\" fill=\"#000000\" fill-rule=\"nonzero\" fill-opacity=\"1\" /><path clip-path=\"url(#clip310)\" d=\"M1008.54 149.196 Q1003.38 149.196 1001.39 150.377 Q999.4 151.557 999.4 154.405 Q999.4 156.673 1000.88 158.016 Q1002.39 159.335 1004.96 159.335 Q1008.5 159.335 1010.63 156.835 Q1012.78 154.312 1012.78 150.145 L1012.78 149.196 L1008.54 149.196 M1017.04 147.437 L1017.04 162.229 L1012.78 162.229 L1012.78 158.293 Q1011.32 160.655 1009.15 161.789 Q1006.97 162.9 1003.82 162.9 Q999.84 162.9 997.479 160.678 Q995.141 158.432 995.141 154.682 Q995.141 150.307 998.057 148.085 Q1001 145.863 1006.81 145.863 L1012.78 145.863 L1012.78 145.446 Q1012.78 142.507 1010.83 140.909 Q1008.91 139.289 1005.42 139.289 Q1003.2 139.289 1001.09 139.821 Q998.983 140.354 997.039 141.419 L997.039 137.483 Q999.377 136.581 1001.58 136.141 Q1003.77 135.678 1005.86 135.678 Q1011.48 135.678 1014.26 138.594 Q1017.04 141.511 1017.04 147.437 Z\" fill=\"#000000\" fill-rule=\"nonzero\" fill-opacity=\"1\" /><path clip-path=\"url(#clip310)\" d=\"M1025.81 126.21 L1030.07 126.21 L1030.07 162.229 L1025.81 162.229 L1025.81 126.21 Z\" fill=\"#000000\" fill-rule=\"nonzero\" fill-opacity=\"1\" /><polyline clip-path=\"url(#clip310)\" style=\"stroke:#0000ff; stroke-linecap:round; stroke-linejoin:round; stroke-width:12; stroke-opacity:1; fill:none\" points=\"341.027,196.789 481.381,196.789 \"/>\n",
       "<path clip-path=\"url(#clip310)\" d=\"M527.018 180.643 L527.018 185.203 Q524.356 183.93 521.995 183.305 Q519.634 182.68 517.435 182.68 Q513.615 182.68 511.532 184.161 Q509.472 185.643 509.472 188.374 Q509.472 190.666 510.838 191.847 Q512.226 193.004 516.069 193.722 L518.893 194.3 Q524.125 195.296 526.601 197.819 Q529.101 200.319 529.101 204.532 Q529.101 209.555 525.722 212.147 Q522.365 214.74 515.861 214.74 Q513.407 214.74 510.629 214.184 Q507.875 213.629 504.912 212.541 L504.912 207.726 Q507.759 209.323 510.49 210.133 Q513.222 210.944 515.861 210.944 Q519.865 210.944 522.041 209.37 Q524.217 207.796 524.217 204.879 Q524.217 202.333 522.643 200.897 Q521.092 199.462 517.527 198.745 L514.68 198.189 Q509.449 197.147 507.111 194.925 Q504.773 192.703 504.773 188.745 Q504.773 184.161 507.99 181.522 Q511.231 178.884 516.902 178.884 Q519.333 178.884 521.856 179.323 Q524.379 179.763 527.018 180.643 Z\" fill=\"#000000\" fill-rule=\"nonzero\" fill-opacity=\"1\" /><path clip-path=\"url(#clip310)\" d=\"M541.069 183.351 L541.069 196.337 L546.949 196.337 Q550.212 196.337 551.995 194.647 Q553.777 192.958 553.777 189.833 Q553.777 186.731 551.995 185.041 Q550.212 183.351 546.949 183.351 L541.069 183.351 M536.393 179.509 L546.949 179.509 Q552.759 179.509 555.722 182.147 Q558.708 184.763 558.708 189.833 Q558.708 194.948 555.722 197.564 Q552.759 200.18 546.949 200.18 L541.069 200.18 L541.069 214.069 L536.393 214.069 L536.393 179.509 Z\" fill=\"#000000\" fill-rule=\"nonzero\" fill-opacity=\"1\" /><path clip-path=\"url(#clip310)\" d=\"M559.194 179.509 L564.217 179.509 L573.8 193.722 L583.314 179.509 L588.337 179.509 L576.115 197.61 L576.115 214.069 L571.416 214.069 L571.416 197.61 L559.194 179.509 Z\" fill=\"#000000\" fill-rule=\"nonzero\" fill-opacity=\"1\" /><polyline clip-path=\"url(#clip310)\" style=\"stroke:#ff0000; stroke-linecap:round; stroke-linejoin:round; stroke-width:20; stroke-opacity:1; fill:none\" points=\"341.027,248.629 481.381,248.629 \"/>\n",
       "<path clip-path=\"url(#clip310)\" d=\"M521.162 249.705 Q522.666 250.214 524.078 251.881 Q525.513 253.548 526.949 256.464 L531.694 265.909 L526.671 265.909 L522.25 257.043 Q520.537 253.571 518.916 252.436 Q517.319 251.302 514.541 251.302 L509.449 251.302 L509.449 265.909 L504.773 265.909 L504.773 231.349 L515.328 231.349 Q521.254 231.349 524.171 233.825 Q527.088 236.302 527.088 241.302 Q527.088 244.566 525.56 246.719 Q524.055 248.872 521.162 249.705 M509.449 235.191 L509.449 247.46 L515.328 247.46 Q518.708 247.46 520.421 245.909 Q522.157 244.335 522.157 241.302 Q522.157 238.27 520.421 236.742 Q518.708 235.191 515.328 235.191 L509.449 235.191 Z\" fill=\"#000000\" fill-rule=\"nonzero\" fill-opacity=\"1\" /><path clip-path=\"url(#clip310)\" d=\"M557.573 251.881 L557.573 253.964 L537.99 253.964 Q538.268 258.362 540.629 260.677 Q543.013 262.969 547.249 262.969 Q549.703 262.969 551.995 262.367 Q554.31 261.765 556.578 260.561 L556.578 264.589 Q554.286 265.561 551.879 266.071 Q549.472 266.58 546.995 266.58 Q540.791 266.58 537.157 262.969 Q533.546 259.358 533.546 253.2 Q533.546 246.835 536.972 243.108 Q540.421 239.358 546.254 239.358 Q551.486 239.358 554.518 242.737 Q557.573 246.094 557.573 251.881 M553.314 250.631 Q553.268 247.136 551.347 245.052 Q549.448 242.969 546.3 242.969 Q542.736 242.969 540.583 244.983 Q538.453 246.997 538.129 250.654 L553.314 250.631 Z\" fill=\"#000000\" fill-rule=\"nonzero\" fill-opacity=\"1\" /><path clip-path=\"url(#clip310)\" d=\"M576.347 252.876 Q571.184 252.876 569.194 254.057 Q567.203 255.237 567.203 258.085 Q567.203 260.353 568.685 261.696 Q570.189 263.015 572.759 263.015 Q576.3 263.015 578.43 260.515 Q580.583 257.992 580.583 253.825 L580.583 252.876 L576.347 252.876 M584.842 251.117 L584.842 265.909 L580.583 265.909 L580.583 261.973 Q579.124 264.335 576.948 265.469 Q574.772 266.58 571.624 266.58 Q567.643 266.58 565.282 264.358 Q562.944 262.112 562.944 258.362 Q562.944 253.987 565.86 251.765 Q568.8 249.543 574.61 249.543 L580.583 249.543 L580.583 249.126 Q580.583 246.187 578.638 244.589 Q576.717 242.969 573.222 242.969 Q570.999 242.969 568.893 243.501 Q566.786 244.034 564.842 245.099 L564.842 241.163 Q567.18 240.261 569.379 239.821 Q571.578 239.358 573.661 239.358 Q579.286 239.358 582.064 242.274 Q584.842 245.191 584.842 251.117 Z\" fill=\"#000000\" fill-rule=\"nonzero\" fill-opacity=\"1\" /><path clip-path=\"url(#clip310)\" d=\"M593.615 229.89 L597.874 229.89 L597.874 265.909 L593.615 265.909 L593.615 229.89 Z\" fill=\"#000000\" fill-rule=\"nonzero\" fill-opacity=\"1\" /><path clip-path=\"url(#clip310)\" d=\"M606.786 229.89 L611.045 229.89 L611.045 265.909 L606.786 265.909 L606.786 229.89 Z\" fill=\"#000000\" fill-rule=\"nonzero\" fill-opacity=\"1\" /><path clip-path=\"url(#clip310)\" d=\"M630.004 242.969 Q626.578 242.969 624.587 245.654 Q622.596 248.316 622.596 252.969 Q622.596 257.622 624.564 260.307 Q626.555 262.969 630.004 262.969 Q633.406 262.969 635.397 260.284 Q637.388 257.598 637.388 252.969 Q637.388 248.362 635.397 245.677 Q633.406 242.969 630.004 242.969 M630.004 239.358 Q635.559 239.358 638.73 242.969 Q641.902 246.58 641.902 252.969 Q641.902 259.335 638.73 262.969 Q635.559 266.58 630.004 266.58 Q624.425 266.58 621.254 262.969 Q618.106 259.335 618.106 252.969 Q618.106 246.58 621.254 242.969 Q624.425 239.358 630.004 239.358 Z\" fill=\"#000000\" fill-rule=\"nonzero\" fill-opacity=\"1\" /><path clip-path=\"url(#clip310)\" d=\"M667.619 240.978 L667.619 244.96 Q665.814 243.964 663.985 243.478 Q662.179 242.969 660.328 242.969 Q656.184 242.969 653.892 245.608 Q651.601 248.224 651.601 252.969 Q651.601 257.714 653.892 260.353 Q656.184 262.969 660.328 262.969 Q662.179 262.969 663.985 262.483 Q665.814 261.973 667.619 260.978 L667.619 264.913 Q665.837 265.747 663.915 266.163 Q662.017 266.58 659.865 266.58 Q654.008 266.58 650.559 262.899 Q647.11 259.219 647.11 252.969 Q647.11 246.626 650.582 242.992 Q654.078 239.358 660.142 239.358 Q662.11 239.358 663.985 239.775 Q665.86 240.168 667.619 240.978 Z\" fill=\"#000000\" fill-rule=\"nonzero\" fill-opacity=\"1\" /><path clip-path=\"url(#clip310)\" d=\"M686.809 252.876 Q681.647 252.876 679.656 254.057 Q677.665 255.237 677.665 258.085 Q677.665 260.353 679.147 261.696 Q680.651 263.015 683.221 263.015 Q686.763 263.015 688.892 260.515 Q691.045 257.992 691.045 253.825 L691.045 252.876 L686.809 252.876 M695.304 251.117 L695.304 265.909 L691.045 265.909 L691.045 261.973 Q689.587 264.335 687.411 265.469 Q685.235 266.58 682.087 266.58 Q678.105 266.58 675.744 264.358 Q673.406 262.112 673.406 258.362 Q673.406 253.987 676.323 251.765 Q679.263 249.543 685.073 249.543 L691.045 249.543 L691.045 249.126 Q691.045 246.187 689.101 244.589 Q687.179 242.969 683.684 242.969 Q681.462 242.969 679.355 243.501 Q677.249 244.034 675.304 245.099 L675.304 241.163 Q677.642 240.261 679.841 239.821 Q682.04 239.358 684.124 239.358 Q689.749 239.358 692.526 242.274 Q695.304 245.191 695.304 251.117 Z\" fill=\"#000000\" fill-rule=\"nonzero\" fill-opacity=\"1\" /><path clip-path=\"url(#clip310)\" d=\"M708.29 232.622 L708.29 239.983 L717.063 239.983 L717.063 243.293 L708.29 243.293 L708.29 257.367 Q708.29 260.538 709.147 261.441 Q710.026 262.344 712.688 262.344 L717.063 262.344 L717.063 265.909 L712.688 265.909 Q707.758 265.909 705.883 264.08 Q704.008 262.228 704.008 257.367 L704.008 243.293 L700.883 243.293 L700.883 239.983 L704.008 239.983 L704.008 232.622 L708.29 232.622 Z\" fill=\"#000000\" fill-rule=\"nonzero\" fill-opacity=\"1\" /><path clip-path=\"url(#clip310)\" d=\"M744.841 251.881 L744.841 253.964 L725.258 253.964 Q725.536 258.362 727.897 260.677 Q730.281 262.969 734.517 262.969 Q736.971 262.969 739.262 262.367 Q741.577 261.765 743.846 260.561 L743.846 264.589 Q741.554 265.561 739.147 266.071 Q736.739 266.58 734.262 266.58 Q728.059 266.58 724.424 262.969 Q720.813 259.358 720.813 253.2 Q720.813 246.835 724.239 243.108 Q727.688 239.358 733.522 239.358 Q738.753 239.358 741.785 242.737 Q744.841 246.094 744.841 251.881 M740.582 250.631 Q740.535 247.136 738.614 245.052 Q736.716 242.969 733.568 242.969 Q730.003 242.969 727.85 244.983 Q725.721 246.997 725.397 250.654 L740.582 250.631 Z\" fill=\"#000000\" fill-rule=\"nonzero\" fill-opacity=\"1\" /><path clip-path=\"url(#clip310)\" d=\"M768.892 243.918 L768.892 229.89 L773.151 229.89 L773.151 265.909 L768.892 265.909 L768.892 262.02 Q767.549 264.335 765.489 265.469 Q763.452 266.58 760.582 266.58 Q755.883 266.58 752.92 262.83 Q749.98 259.08 749.98 252.969 Q749.98 246.858 752.92 243.108 Q755.883 239.358 760.582 239.358 Q763.452 239.358 765.489 240.492 Q767.549 241.603 768.892 243.918 M754.378 252.969 Q754.378 257.668 756.299 260.353 Q758.244 263.015 761.623 263.015 Q765.003 263.015 766.947 260.353 Q768.892 257.668 768.892 252.969 Q768.892 248.27 766.947 245.608 Q765.003 242.923 761.623 242.923 Q758.244 242.923 756.299 245.608 Q754.378 248.27 754.378 252.969 Z\" fill=\"#000000\" fill-rule=\"nonzero\" fill-opacity=\"1\" /><path clip-path=\"url(#clip310)\" d=\"M801.855 235.191 L801.855 248.177 L807.734 248.177 Q810.998 248.177 812.78 246.487 Q814.563 244.798 814.563 241.673 Q814.563 238.571 812.78 236.881 Q810.998 235.191 807.734 235.191 L801.855 235.191 M797.179 231.349 L807.734 231.349 Q813.544 231.349 816.507 233.987 Q819.493 236.603 819.493 241.673 Q819.493 246.788 816.507 249.404 Q813.544 252.02 807.734 252.02 L801.855 252.02 L801.855 265.909 L797.179 265.909 L797.179 231.349 Z\" fill=\"#000000\" fill-rule=\"nonzero\" fill-opacity=\"1\" /><path clip-path=\"url(#clip310)\" d=\"M833.938 242.969 Q830.512 242.969 828.521 245.654 Q826.53 248.316 826.53 252.969 Q826.53 257.622 828.498 260.307 Q830.489 262.969 833.938 262.969 Q837.34 262.969 839.331 260.284 Q841.322 257.598 841.322 252.969 Q841.322 248.362 839.331 245.677 Q837.34 242.969 833.938 242.969 M833.938 239.358 Q839.493 239.358 842.665 242.969 Q845.836 246.58 845.836 252.969 Q845.836 259.335 842.665 262.969 Q839.493 266.58 833.938 266.58 Q828.359 266.58 825.188 262.969 Q822.04 259.335 822.04 252.969 Q822.04 246.58 825.188 242.969 Q828.359 239.358 833.938 239.358 Z\" fill=\"#000000\" fill-rule=\"nonzero\" fill-opacity=\"1\" /><path clip-path=\"url(#clip310)\" d=\"M867.919 243.964 Q867.201 243.548 866.345 243.362 Q865.512 243.154 864.493 243.154 Q860.882 243.154 858.938 245.515 Q857.016 247.853 857.016 252.251 L857.016 265.909 L852.734 265.909 L852.734 239.983 L857.016 239.983 L857.016 244.011 Q858.359 241.649 860.512 240.515 Q862.664 239.358 865.743 239.358 Q866.183 239.358 866.715 239.427 Q867.248 239.474 867.896 239.589 L867.919 243.964 Z\" fill=\"#000000\" fill-rule=\"nonzero\" fill-opacity=\"1\" /><path clip-path=\"url(#clip310)\" d=\"M876.6 232.622 L876.6 239.983 L885.373 239.983 L885.373 243.293 L876.6 243.293 L876.6 257.367 Q876.6 260.538 877.456 261.441 Q878.336 262.344 880.998 262.344 L885.373 262.344 L885.373 265.909 L880.998 265.909 Q876.067 265.909 874.192 264.08 Q872.317 262.228 872.317 257.367 L872.317 243.293 L869.192 243.293 L869.192 239.983 L872.317 239.983 L872.317 232.622 L876.6 232.622 Z\" fill=\"#000000\" fill-rule=\"nonzero\" fill-opacity=\"1\" /><path clip-path=\"url(#clip310)\" d=\"M904.099 229.89 L904.099 233.432 L900.025 233.432 Q897.734 233.432 896.831 234.358 Q895.951 235.284 895.951 237.691 L895.951 239.983 L902.965 239.983 L902.965 243.293 L895.951 243.293 L895.951 265.909 L891.669 265.909 L891.669 243.293 L887.595 243.293 L887.595 239.983 L891.669 239.983 L891.669 238.177 Q891.669 233.849 893.683 231.881 Q895.697 229.89 900.072 229.89 L904.099 229.89 Z\" fill=\"#000000\" fill-rule=\"nonzero\" fill-opacity=\"1\" /><path clip-path=\"url(#clip310)\" d=\"M917.71 242.969 Q914.285 242.969 912.294 245.654 Q910.303 248.316 910.303 252.969 Q910.303 257.622 912.271 260.307 Q914.261 262.969 917.71 262.969 Q921.113 262.969 923.104 260.284 Q925.095 257.598 925.095 252.969 Q925.095 248.362 923.104 245.677 Q921.113 242.969 917.71 242.969 M917.71 239.358 Q923.266 239.358 926.437 242.969 Q929.608 246.58 929.608 252.969 Q929.608 259.335 926.437 262.969 Q923.266 266.58 917.71 266.58 Q912.132 266.58 908.96 262.969 Q905.812 259.335 905.812 252.969 Q905.812 246.58 908.96 242.969 Q912.132 239.358 917.71 239.358 Z\" fill=\"#000000\" fill-rule=\"nonzero\" fill-opacity=\"1\" /><path clip-path=\"url(#clip310)\" d=\"M936.669 229.89 L940.928 229.89 L940.928 265.909 L936.669 265.909 L936.669 229.89 Z\" fill=\"#000000\" fill-rule=\"nonzero\" fill-opacity=\"1\" /><path clip-path=\"url(#clip310)\" d=\"M949.84 239.983 L954.099 239.983 L954.099 265.909 L949.84 265.909 L949.84 239.983 M949.84 229.89 L954.099 229.89 L954.099 235.284 L949.84 235.284 L949.84 229.89 Z\" fill=\"#000000\" fill-rule=\"nonzero\" fill-opacity=\"1\" /><path clip-path=\"url(#clip310)\" d=\"M973.057 242.969 Q969.631 242.969 967.641 245.654 Q965.65 248.316 965.65 252.969 Q965.65 257.622 967.618 260.307 Q969.608 262.969 973.057 262.969 Q976.46 262.969 978.451 260.284 Q980.442 257.598 980.442 252.969 Q980.442 248.362 978.451 245.677 Q976.46 242.969 973.057 242.969 M973.057 239.358 Q978.613 239.358 981.784 242.969 Q984.955 246.58 984.955 252.969 Q984.955 259.335 981.784 262.969 Q978.613 266.58 973.057 266.58 Q967.479 266.58 964.307 262.969 Q961.159 259.335 961.159 252.969 Q961.159 246.58 964.307 242.969 Q967.479 239.358 973.057 239.358 Z\" fill=\"#000000\" fill-rule=\"nonzero\" fill-opacity=\"1\" /></svg>\n"
      ],
      "text/html": [
       "<?xml version=\"1.0\" encoding=\"utf-8\"?>\n",
       "<svg xmlns=\"http://www.w3.org/2000/svg\" xmlns:xlink=\"http://www.w3.org/1999/xlink\" width=\"600\" height=\"400\" viewBox=\"0 0 2400 1600\">\n",
       "<defs>\n",
       "  <clipPath id=\"clip360\">\n",
       "    <rect x=\"0\" y=\"0\" width=\"2400\" height=\"1600\"/>\n",
       "  </clipPath>\n",
       "</defs>\n",
       "<path clip-path=\"url(#clip360)\" d=\"M0 1600 L2400 1600 L2400 0 L0 0  Z\" fill=\"#ffffff\" fill-rule=\"evenodd\" fill-opacity=\"1\"/>\n",
       "<defs>\n",
       "  <clipPath id=\"clip361\">\n",
       "    <rect x=\"480\" y=\"0\" width=\"1681\" height=\"1600\"/>\n",
       "  </clipPath>\n",
       "</defs>\n",
       "<path clip-path=\"url(#clip360)\" d=\"M247.459 1423.18 L2352.76 1423.18 L2352.76 47.2441 L247.459 47.2441  Z\" fill=\"#ffffff\" fill-rule=\"evenodd\" fill-opacity=\"1\"/>\n",
       "<defs>\n",
       "  <clipPath id=\"clip362\">\n",
       "    <rect x=\"247\" y=\"47\" width=\"2106\" height=\"1377\"/>\n",
       "  </clipPath>\n",
       "</defs>\n",
       "<polyline clip-path=\"url(#clip362)\" style=\"stroke:#000000; stroke-linecap:round; stroke-linejoin:round; stroke-width:2; stroke-opacity:0.1; fill:none\" points=\"298.331,1423.18 298.331,47.2441 \"/>\n",
       "<polyline clip-path=\"url(#clip362)\" style=\"stroke:#000000; stroke-linecap:round; stroke-linejoin:round; stroke-width:2; stroke-opacity:0.1; fill:none\" points=\"733.886,1423.18 733.886,47.2441 \"/>\n",
       "<polyline clip-path=\"url(#clip362)\" style=\"stroke:#000000; stroke-linecap:round; stroke-linejoin:round; stroke-width:2; stroke-opacity:0.1; fill:none\" points=\"1169.44,1423.18 1169.44,47.2441 \"/>\n",
       "<polyline clip-path=\"url(#clip362)\" style=\"stroke:#000000; stroke-linecap:round; stroke-linejoin:round; stroke-width:2; stroke-opacity:0.1; fill:none\" points=\"1605,1423.18 1605,47.2441 \"/>\n",
       "<polyline clip-path=\"url(#clip362)\" style=\"stroke:#000000; stroke-linecap:round; stroke-linejoin:round; stroke-width:2; stroke-opacity:0.1; fill:none\" points=\"2040.55,1423.18 2040.55,47.2441 \"/>\n",
       "<polyline clip-path=\"url(#clip360)\" style=\"stroke:#000000; stroke-linecap:round; stroke-linejoin:round; stroke-width:4; stroke-opacity:1; fill:none\" points=\"247.459,1423.18 2352.76,1423.18 \"/>\n",
       "<polyline clip-path=\"url(#clip360)\" style=\"stroke:#000000; stroke-linecap:round; stroke-linejoin:round; stroke-width:4; stroke-opacity:1; fill:none\" points=\"298.331,1423.18 298.331,1404.28 \"/>\n",
       "<polyline clip-path=\"url(#clip360)\" style=\"stroke:#000000; stroke-linecap:round; stroke-linejoin:round; stroke-width:4; stroke-opacity:1; fill:none\" points=\"733.886,1423.18 733.886,1404.28 \"/>\n",
       "<polyline clip-path=\"url(#clip360)\" style=\"stroke:#000000; stroke-linecap:round; stroke-linejoin:round; stroke-width:4; stroke-opacity:1; fill:none\" points=\"1169.44,1423.18 1169.44,1404.28 \"/>\n",
       "<polyline clip-path=\"url(#clip360)\" style=\"stroke:#000000; stroke-linecap:round; stroke-linejoin:round; stroke-width:4; stroke-opacity:1; fill:none\" points=\"1605,1423.18 1605,1404.28 \"/>\n",
       "<polyline clip-path=\"url(#clip360)\" style=\"stroke:#000000; stroke-linecap:round; stroke-linejoin:round; stroke-width:4; stroke-opacity:1; fill:none\" points=\"2040.55,1423.18 2040.55,1404.28 \"/>\n",
       "<path clip-path=\"url(#clip360)\" d=\"M298.331 1454.1 Q294.72 1454.1 292.892 1457.66 Q291.086 1461.2 291.086 1468.33 Q291.086 1475.44 292.892 1479.01 Q294.72 1482.55 298.331 1482.55 Q301.966 1482.55 303.771 1479.01 Q305.6 1475.44 305.6 1468.33 Q305.6 1461.2 303.771 1457.66 Q301.966 1454.1 298.331 1454.1 M298.331 1450.39 Q304.142 1450.39 307.197 1455 Q310.276 1459.58 310.276 1468.33 Q310.276 1477.06 307.197 1481.67 Q304.142 1486.25 298.331 1486.25 Q292.521 1486.25 289.443 1481.67 Q286.387 1477.06 286.387 1468.33 Q286.387 1459.58 289.443 1455 Q292.521 1450.39 298.331 1450.39 Z\" fill=\"#000000\" fill-rule=\"nonzero\" fill-opacity=\"1\" /><path clip-path=\"url(#clip360)\" d=\"M708.585 1451.02 L726.942 1451.02 L726.942 1454.96 L712.868 1454.96 L712.868 1463.43 Q713.886 1463.08 714.905 1462.92 Q715.923 1462.73 716.942 1462.73 Q722.729 1462.73 726.108 1465.9 Q729.488 1469.08 729.488 1474.49 Q729.488 1480.07 726.016 1483.17 Q722.544 1486.25 716.224 1486.25 Q714.048 1486.25 711.78 1485.88 Q709.534 1485.51 707.127 1484.77 L707.127 1480.07 Q709.21 1481.2 711.433 1481.76 Q713.655 1482.32 716.132 1482.32 Q720.136 1482.32 722.474 1480.21 Q724.812 1478.1 724.812 1474.49 Q724.812 1470.88 722.474 1468.77 Q720.136 1466.67 716.132 1466.67 Q714.257 1466.67 712.382 1467.08 Q710.53 1467.5 708.585 1468.38 L708.585 1451.02 Z\" fill=\"#000000\" fill-rule=\"nonzero\" fill-opacity=\"1\" /><path clip-path=\"url(#clip360)\" d=\"M748.701 1454.1 Q745.09 1454.1 743.261 1457.66 Q741.456 1461.2 741.456 1468.33 Q741.456 1475.44 743.261 1479.01 Q745.09 1482.55 748.701 1482.55 Q752.335 1482.55 754.141 1479.01 Q755.969 1475.44 755.969 1468.33 Q755.969 1461.2 754.141 1457.66 Q752.335 1454.1 748.701 1454.1 M748.701 1450.39 Q754.511 1450.39 757.567 1455 Q760.645 1459.58 760.645 1468.33 Q760.645 1477.06 757.567 1481.67 Q754.511 1486.25 748.701 1486.25 Q742.891 1486.25 739.812 1481.67 Q736.757 1477.06 736.757 1468.33 Q736.757 1459.58 739.812 1455 Q742.891 1450.39 748.701 1450.39 Z\" fill=\"#000000\" fill-rule=\"nonzero\" fill-opacity=\"1\" /><path clip-path=\"url(#clip360)\" d=\"M1129.05 1481.64 L1136.69 1481.64 L1136.69 1455.28 L1128.38 1456.95 L1128.38 1452.69 L1136.64 1451.02 L1141.32 1451.02 L1141.32 1481.64 L1148.95 1481.64 L1148.95 1485.58 L1129.05 1485.58 L1129.05 1481.64 Z\" fill=\"#000000\" fill-rule=\"nonzero\" fill-opacity=\"1\" /><path clip-path=\"url(#clip360)\" d=\"M1168.4 1454.1 Q1164.79 1454.1 1162.96 1457.66 Q1161.15 1461.2 1161.15 1468.33 Q1161.15 1475.44 1162.96 1479.01 Q1164.79 1482.55 1168.4 1482.55 Q1172.03 1482.55 1173.84 1479.01 Q1175.67 1475.44 1175.67 1468.33 Q1175.67 1461.2 1173.84 1457.66 Q1172.03 1454.1 1168.4 1454.1 M1168.4 1450.39 Q1174.21 1450.39 1177.26 1455 Q1180.34 1459.58 1180.34 1468.33 Q1180.34 1477.06 1177.26 1481.67 Q1174.21 1486.25 1168.4 1486.25 Q1162.59 1486.25 1159.51 1481.67 Q1156.45 1477.06 1156.45 1468.33 Q1156.45 1459.58 1159.51 1455 Q1162.59 1450.39 1168.4 1450.39 Z\" fill=\"#000000\" fill-rule=\"nonzero\" fill-opacity=\"1\" /><path clip-path=\"url(#clip360)\" d=\"M1198.56 1454.1 Q1194.95 1454.1 1193.12 1457.66 Q1191.32 1461.2 1191.32 1468.33 Q1191.32 1475.44 1193.12 1479.01 Q1194.95 1482.55 1198.56 1482.55 Q1202.2 1482.55 1204 1479.01 Q1205.83 1475.44 1205.83 1468.33 Q1205.83 1461.2 1204 1457.66 Q1202.2 1454.1 1198.56 1454.1 M1198.56 1450.39 Q1204.37 1450.39 1207.43 1455 Q1210.51 1459.58 1210.51 1468.33 Q1210.51 1477.06 1207.43 1481.67 Q1204.37 1486.25 1198.56 1486.25 Q1192.75 1486.25 1189.67 1481.67 Q1186.62 1477.06 1186.62 1468.33 Q1186.62 1459.58 1189.67 1455 Q1192.75 1450.39 1198.56 1450.39 Z\" fill=\"#000000\" fill-rule=\"nonzero\" fill-opacity=\"1\" /><path clip-path=\"url(#clip360)\" d=\"M1564.6 1481.64 L1572.24 1481.64 L1572.24 1455.28 L1563.93 1456.95 L1563.93 1452.69 L1572.19 1451.02 L1576.87 1451.02 L1576.87 1481.64 L1584.51 1481.64 L1584.51 1485.58 L1564.6 1485.58 L1564.6 1481.64 Z\" fill=\"#000000\" fill-rule=\"nonzero\" fill-opacity=\"1\" /><path clip-path=\"url(#clip360)\" d=\"M1594 1451.02 L1612.36 1451.02 L1612.36 1454.96 L1598.28 1454.96 L1598.28 1463.43 Q1599.3 1463.08 1600.32 1462.92 Q1601.34 1462.73 1602.36 1462.73 Q1608.14 1462.73 1611.52 1465.9 Q1614.9 1469.08 1614.9 1474.49 Q1614.9 1480.07 1611.43 1483.17 Q1607.96 1486.25 1601.64 1486.25 Q1599.46 1486.25 1597.19 1485.88 Q1594.95 1485.51 1592.54 1484.77 L1592.54 1480.07 Q1594.63 1481.2 1596.85 1481.76 Q1599.07 1482.32 1601.55 1482.32 Q1605.55 1482.32 1607.89 1480.21 Q1610.23 1478.1 1610.23 1474.49 Q1610.23 1470.88 1607.89 1468.77 Q1605.55 1466.67 1601.55 1466.67 Q1599.67 1466.67 1597.8 1467.08 Q1595.94 1467.5 1594 1468.38 L1594 1451.02 Z\" fill=\"#000000\" fill-rule=\"nonzero\" fill-opacity=\"1\" /><path clip-path=\"url(#clip360)\" d=\"M1634.12 1454.1 Q1630.5 1454.1 1628.68 1457.66 Q1626.87 1461.2 1626.87 1468.33 Q1626.87 1475.44 1628.68 1479.01 Q1630.5 1482.55 1634.12 1482.55 Q1637.75 1482.55 1639.56 1479.01 Q1641.38 1475.44 1641.38 1468.33 Q1641.38 1461.2 1639.56 1457.66 Q1637.75 1454.1 1634.12 1454.1 M1634.12 1450.39 Q1639.93 1450.39 1642.98 1455 Q1646.06 1459.58 1646.06 1468.33 Q1646.06 1477.06 1642.98 1481.67 Q1639.93 1486.25 1634.12 1486.25 Q1628.31 1486.25 1625.23 1481.67 Q1622.17 1477.06 1622.17 1468.33 Q1622.17 1459.58 1625.23 1455 Q1628.31 1450.39 1634.12 1450.39 Z\" fill=\"#000000\" fill-rule=\"nonzero\" fill-opacity=\"1\" /><path clip-path=\"url(#clip360)\" d=\"M2004.24 1481.64 L2020.56 1481.64 L2020.56 1485.58 L1998.62 1485.58 L1998.62 1481.64 Q2001.28 1478.89 2005.86 1474.26 Q2010.47 1469.61 2011.65 1468.27 Q2013.9 1465.74 2014.77 1464.01 Q2015.68 1462.25 2015.68 1460.56 Q2015.68 1457.8 2013.73 1456.07 Q2011.81 1454.33 2008.71 1454.33 Q2006.51 1454.33 2004.06 1455.09 Q2001.63 1455.86 1998.85 1457.41 L1998.85 1452.69 Q2001.67 1451.55 2004.13 1450.97 Q2006.58 1450.39 2008.62 1450.39 Q2013.99 1450.39 2017.18 1453.08 Q2020.38 1455.77 2020.38 1460.26 Q2020.38 1462.39 2019.57 1464.31 Q2018.78 1466.2 2016.67 1468.8 Q2016.09 1469.47 2012.99 1472.69 Q2009.89 1475.88 2004.24 1481.64 Z\" fill=\"#000000\" fill-rule=\"nonzero\" fill-opacity=\"1\" /><path clip-path=\"url(#clip360)\" d=\"M2040.38 1454.1 Q2036.77 1454.1 2034.94 1457.66 Q2033.13 1461.2 2033.13 1468.33 Q2033.13 1475.44 2034.94 1479.01 Q2036.77 1482.55 2040.38 1482.55 Q2044.01 1482.55 2045.82 1479.01 Q2047.65 1475.44 2047.65 1468.33 Q2047.65 1461.2 2045.82 1457.66 Q2044.01 1454.1 2040.38 1454.1 M2040.38 1450.39 Q2046.19 1450.39 2049.24 1455 Q2052.32 1459.58 2052.32 1468.33 Q2052.32 1477.06 2049.24 1481.67 Q2046.19 1486.25 2040.38 1486.25 Q2034.57 1486.25 2031.49 1481.67 Q2028.43 1477.06 2028.43 1468.33 Q2028.43 1459.58 2031.49 1455 Q2034.57 1450.39 2040.38 1450.39 Z\" fill=\"#000000\" fill-rule=\"nonzero\" fill-opacity=\"1\" /><path clip-path=\"url(#clip360)\" d=\"M2070.54 1454.1 Q2066.93 1454.1 2065.1 1457.66 Q2063.29 1461.2 2063.29 1468.33 Q2063.29 1475.44 2065.1 1479.01 Q2066.93 1482.55 2070.54 1482.55 Q2074.17 1482.55 2075.98 1479.01 Q2077.81 1475.44 2077.81 1468.33 Q2077.81 1461.2 2075.98 1457.66 Q2074.17 1454.1 2070.54 1454.1 M2070.54 1450.39 Q2076.35 1450.39 2079.4 1455 Q2082.48 1459.58 2082.48 1468.33 Q2082.48 1477.06 2079.4 1481.67 Q2076.35 1486.25 2070.54 1486.25 Q2064.73 1486.25 2061.65 1481.67 Q2058.59 1477.06 2058.59 1468.33 Q2058.59 1459.58 2061.65 1455 Q2064.73 1450.39 2070.54 1450.39 Z\" fill=\"#000000\" fill-rule=\"nonzero\" fill-opacity=\"1\" /><path clip-path=\"url(#clip360)\" d=\"M989.779 1520.52 L1029.98 1520.52 L1029.98 1525.93 L1013.11 1525.93 L1013.11 1568.04 L1006.65 1568.04 L1006.65 1525.93 L989.779 1525.93 L989.779 1520.52 Z\" fill=\"#000000\" fill-rule=\"nonzero\" fill-opacity=\"1\" /><path clip-path=\"url(#clip360)\" d=\"M1047.01 1537.87 Q1046.02 1537.3 1044.84 1537.04 Q1043.7 1536.76 1042.3 1536.76 Q1037.33 1536.76 1034.66 1540 Q1032.02 1543.22 1032.02 1549.27 L1032.02 1568.04 L1026.13 1568.04 L1026.13 1532.4 L1032.02 1532.4 L1032.02 1537.93 Q1033.86 1534.69 1036.82 1533.13 Q1039.78 1531.54 1044.01 1531.54 Q1044.62 1531.54 1045.35 1531.63 Q1046.08 1531.7 1046.97 1531.85 L1047.01 1537.87 Z\" fill=\"#000000\" fill-rule=\"nonzero\" fill-opacity=\"1\" /><path clip-path=\"url(#clip360)\" d=\"M1069.35 1550.12 Q1062.25 1550.12 1059.52 1551.75 Q1056.78 1553.37 1056.78 1557.29 Q1056.78 1560.4 1058.82 1562.25 Q1060.88 1564.07 1064.42 1564.07 Q1069.29 1564.07 1072.22 1560.63 Q1075.18 1557.16 1075.18 1551.43 L1075.18 1550.12 L1069.35 1550.12 M1081.03 1547.71 L1081.03 1568.04 L1075.18 1568.04 L1075.18 1562.63 Q1073.17 1565.88 1070.18 1567.44 Q1067.19 1568.97 1062.86 1568.97 Q1057.38 1568.97 1054.14 1565.91 Q1050.92 1562.82 1050.92 1557.67 Q1050.92 1551.65 1054.93 1548.6 Q1058.97 1545.54 1066.96 1545.54 L1075.18 1545.54 L1075.18 1544.97 Q1075.18 1540.93 1072.5 1538.73 Q1069.86 1536.5 1065.05 1536.5 Q1062 1536.5 1059.1 1537.23 Q1056.21 1537.97 1053.53 1539.43 L1053.53 1534.02 Q1056.75 1532.78 1059.77 1532.17 Q1062.79 1531.54 1065.66 1531.54 Q1073.39 1531.54 1077.21 1535.55 Q1081.03 1539.56 1081.03 1547.71 Z\" fill=\"#000000\" fill-rule=\"nonzero\" fill-opacity=\"1\" /><path clip-path=\"url(#clip360)\" d=\"M1116.55 1537.81 L1116.55 1518.52 L1122.41 1518.52 L1122.41 1568.04 L1116.55 1568.04 L1116.55 1562.7 Q1114.71 1565.88 1111.87 1567.44 Q1109.07 1568.97 1105.13 1568.97 Q1098.66 1568.97 1094.59 1563.81 Q1090.55 1558.65 1090.55 1550.25 Q1090.55 1541.85 1094.59 1536.69 Q1098.66 1531.54 1105.13 1531.54 Q1109.07 1531.54 1111.87 1533.1 Q1114.71 1534.62 1116.55 1537.81 M1096.6 1550.25 Q1096.6 1556.71 1099.24 1560.4 Q1101.91 1564.07 1106.56 1564.07 Q1111.2 1564.07 1113.88 1560.4 Q1116.55 1556.71 1116.55 1550.25 Q1116.55 1543.79 1113.88 1540.13 Q1111.2 1536.44 1106.56 1536.44 Q1101.91 1536.44 1099.24 1540.13 Q1096.6 1543.79 1096.6 1550.25 Z\" fill=\"#000000\" fill-rule=\"nonzero\" fill-opacity=\"1\" /><path clip-path=\"url(#clip360)\" d=\"M1134.47 1532.4 L1140.33 1532.4 L1140.33 1568.04 L1134.47 1568.04 L1134.47 1532.4 M1134.47 1518.52 L1140.33 1518.52 L1140.33 1525.93 L1134.47 1525.93 L1134.47 1518.52 Z\" fill=\"#000000\" fill-rule=\"nonzero\" fill-opacity=\"1\" /><path clip-path=\"url(#clip360)\" d=\"M1182.21 1546.53 L1182.21 1568.04 L1176.36 1568.04 L1176.36 1546.72 Q1176.36 1541.66 1174.38 1539.14 Q1172.41 1536.63 1168.46 1536.63 Q1163.72 1536.63 1160.98 1539.65 Q1158.25 1542.68 1158.25 1547.9 L1158.25 1568.04 L1152.36 1568.04 L1152.36 1532.4 L1158.25 1532.4 L1158.25 1537.93 Q1160.35 1534.72 1163.18 1533.13 Q1166.05 1531.54 1169.77 1531.54 Q1175.91 1531.54 1179.06 1535.36 Q1182.21 1539.14 1182.21 1546.53 Z\" fill=\"#000000\" fill-rule=\"nonzero\" fill-opacity=\"1\" /><path clip-path=\"url(#clip360)\" d=\"M1217.35 1549.81 Q1217.35 1543.44 1214.71 1539.94 Q1212.1 1536.44 1207.36 1536.44 Q1202.65 1536.44 1200.01 1539.94 Q1197.4 1543.44 1197.4 1549.81 Q1197.4 1556.14 1200.01 1559.64 Q1202.65 1563.14 1207.36 1563.14 Q1212.1 1563.14 1214.71 1559.64 Q1217.35 1556.14 1217.35 1549.81 M1223.21 1563.62 Q1223.21 1572.72 1219.17 1577.15 Q1215.13 1581.6 1206.79 1581.6 Q1203.7 1581.6 1200.96 1581.13 Q1198.22 1580.68 1195.65 1579.72 L1195.65 1574.03 Q1198.22 1575.43 1200.74 1576.1 Q1203.25 1576.76 1205.86 1576.76 Q1211.62 1576.76 1214.49 1573.74 Q1217.35 1570.75 1217.35 1564.67 L1217.35 1561.77 Q1215.54 1564.92 1212.71 1566.48 Q1209.87 1568.04 1205.93 1568.04 Q1199.37 1568.04 1195.36 1563.05 Q1191.35 1558.05 1191.35 1549.81 Q1191.35 1541.53 1195.36 1536.53 Q1199.37 1531.54 1205.93 1531.54 Q1209.87 1531.54 1212.71 1533.1 Q1215.54 1534.66 1217.35 1537.81 L1217.35 1532.4 L1223.21 1532.4 L1223.21 1563.62 Z\" fill=\"#000000\" fill-rule=\"nonzero\" fill-opacity=\"1\" /><path clip-path=\"url(#clip360)\" d=\"M1262.68 1525.81 L1262.68 1562.76 L1270.44 1562.76 Q1280.28 1562.76 1284.83 1558.3 Q1289.41 1553.85 1289.41 1544.24 Q1289.41 1534.69 1284.83 1530.26 Q1280.28 1525.81 1270.44 1525.81 L1262.68 1525.81 M1256.25 1520.52 L1269.46 1520.52 Q1283.27 1520.52 1289.73 1526.28 Q1296.19 1532.01 1296.19 1544.24 Q1296.19 1556.52 1289.7 1562.28 Q1283.21 1568.04 1269.46 1568.04 L1256.25 1568.04 L1256.25 1520.52 Z\" fill=\"#000000\" fill-rule=\"nonzero\" fill-opacity=\"1\" /><path clip-path=\"url(#clip360)\" d=\"M1322.39 1550.12 Q1315.29 1550.12 1312.55 1551.75 Q1309.82 1553.37 1309.82 1557.29 Q1309.82 1560.4 1311.85 1562.25 Q1313.92 1564.07 1317.45 1564.07 Q1322.32 1564.07 1325.25 1560.63 Q1328.21 1557.16 1328.21 1551.43 L1328.21 1550.12 L1322.39 1550.12 M1334.07 1547.71 L1334.07 1568.04 L1328.21 1568.04 L1328.21 1562.63 Q1326.21 1565.88 1323.21 1567.44 Q1320.22 1568.97 1315.89 1568.97 Q1310.42 1568.97 1307.17 1565.91 Q1303.96 1562.82 1303.96 1557.67 Q1303.96 1551.65 1307.97 1548.6 Q1312.01 1545.54 1320 1545.54 L1328.21 1545.54 L1328.21 1544.97 Q1328.21 1540.93 1325.54 1538.73 Q1322.9 1536.5 1318.09 1536.5 Q1315.03 1536.5 1312.14 1537.23 Q1309.24 1537.97 1306.57 1539.43 L1306.57 1534.02 Q1309.78 1532.78 1312.81 1532.17 Q1315.83 1531.54 1318.7 1531.54 Q1326.43 1531.54 1330.25 1535.55 Q1334.07 1539.56 1334.07 1547.71 Z\" fill=\"#000000\" fill-rule=\"nonzero\" fill-opacity=\"1\" /><path clip-path=\"url(#clip360)\" d=\"M1360.96 1571.35 Q1358.48 1577.72 1356.13 1579.66 Q1353.77 1581.6 1349.82 1581.6 L1345.14 1581.6 L1345.14 1576.7 L1348.58 1576.7 Q1351 1576.7 1352.34 1575.56 Q1353.67 1574.41 1355.3 1570.14 L1356.35 1567.47 L1341.93 1532.4 L1348.14 1532.4 L1359.28 1560.28 L1370.42 1532.4 L1376.62 1532.4 L1360.96 1571.35 Z\" fill=\"#000000\" fill-rule=\"nonzero\" fill-opacity=\"1\" /><path clip-path=\"url(#clip360)\" d=\"M1419.5 1518.58 Q1415.23 1525.9 1413.16 1533.06 Q1411.09 1540.23 1411.09 1547.58 Q1411.09 1554.93 1413.16 1562.16 Q1415.26 1569.35 1419.5 1576.64 L1414.4 1576.64 Q1409.63 1569.16 1407.24 1561.93 Q1404.89 1554.71 1404.89 1547.58 Q1404.89 1540.48 1407.24 1533.29 Q1409.6 1526.09 1414.4 1518.58 L1419.5 1518.58 Z\" fill=\"#000000\" fill-rule=\"nonzero\" fill-opacity=\"1\" /><path clip-path=\"url(#clip360)\" d=\"M1437.22 1562.63 L1459.66 1562.63 L1459.66 1568.04 L1429.49 1568.04 L1429.49 1562.63 Q1433.15 1558.85 1439.45 1552.48 Q1445.79 1546.08 1447.41 1544.24 Q1450.5 1540.77 1451.71 1538.38 Q1452.95 1535.96 1452.95 1533.64 Q1452.95 1529.85 1450.27 1527.46 Q1447.63 1525.08 1443.37 1525.08 Q1440.34 1525.08 1436.97 1526.13 Q1433.63 1527.18 1429.81 1529.31 L1429.81 1522.82 Q1433.69 1521.26 1437.07 1520.46 Q1440.44 1519.66 1443.24 1519.66 Q1450.62 1519.66 1455.02 1523.36 Q1459.41 1527.05 1459.41 1533.22 Q1459.41 1536.15 1458.3 1538.79 Q1457.21 1541.4 1454.32 1544.97 Q1453.52 1545.89 1449.26 1550.32 Q1444.99 1554.71 1437.22 1562.63 Z\" fill=\"#000000\" fill-rule=\"nonzero\" fill-opacity=\"1\" /><path clip-path=\"url(#clip360)\" d=\"M1486.91 1524.76 Q1481.94 1524.76 1479.43 1529.66 Q1476.95 1534.53 1476.95 1544.33 Q1476.95 1554.1 1479.43 1559 Q1481.94 1563.87 1486.91 1563.87 Q1491.91 1563.87 1494.39 1559 Q1496.9 1554.1 1496.9 1544.33 Q1496.9 1534.53 1494.39 1529.66 Q1491.91 1524.76 1486.91 1524.76 M1486.91 1519.66 Q1494.9 1519.66 1499.1 1526 Q1503.33 1532.3 1503.33 1544.33 Q1503.33 1556.33 1499.1 1562.66 Q1494.9 1568.97 1486.91 1568.97 Q1478.92 1568.97 1474.69 1562.66 Q1470.49 1556.33 1470.49 1544.33 Q1470.49 1532.3 1474.69 1526 Q1478.92 1519.66 1486.91 1519.66 Z\" fill=\"#000000\" fill-rule=\"nonzero\" fill-opacity=\"1\" /><path clip-path=\"url(#clip360)\" d=\"M1520.17 1562.63 L1542.61 1562.63 L1542.61 1568.04 L1512.44 1568.04 L1512.44 1562.63 Q1516.1 1558.85 1522.4 1552.48 Q1528.73 1546.08 1530.35 1544.24 Q1533.44 1540.77 1534.65 1538.38 Q1535.89 1535.96 1535.89 1533.64 Q1535.89 1529.85 1533.22 1527.46 Q1530.58 1525.08 1526.31 1525.08 Q1523.29 1525.08 1519.92 1526.13 Q1516.57 1527.18 1512.75 1529.31 L1512.75 1522.82 Q1516.64 1521.26 1520.01 1520.46 Q1523.38 1519.66 1526.19 1519.66 Q1533.57 1519.66 1537.96 1523.36 Q1542.35 1527.05 1542.35 1533.22 Q1542.35 1536.15 1541.24 1538.79 Q1540.16 1541.4 1537.26 1544.97 Q1536.47 1545.89 1532.2 1550.32 Q1527.94 1554.71 1520.17 1562.63 Z\" fill=\"#000000\" fill-rule=\"nonzero\" fill-opacity=\"1\" /><path clip-path=\"url(#clip360)\" d=\"M1575.58 1542.42 Q1580.2 1543.41 1582.78 1546.53 Q1585.39 1549.65 1585.39 1554.23 Q1585.39 1561.26 1580.55 1565.12 Q1575.71 1568.97 1566.8 1568.97 Q1563.81 1568.97 1560.62 1568.36 Q1557.47 1567.79 1554.1 1566.61 L1554.1 1560.4 Q1556.77 1561.96 1559.96 1562.76 Q1563.14 1563.56 1566.61 1563.56 Q1572.66 1563.56 1575.81 1561.17 Q1578.99 1558.78 1578.99 1554.23 Q1578.99 1550.03 1576.03 1547.67 Q1573.1 1545.29 1567.85 1545.29 L1562.31 1545.29 L1562.31 1540 L1568.1 1540 Q1572.85 1540 1575.36 1538.13 Q1577.87 1536.22 1577.87 1532.65 Q1577.87 1528.99 1575.26 1527.05 Q1572.69 1525.08 1567.85 1525.08 Q1565.21 1525.08 1562.18 1525.65 Q1559.16 1526.22 1555.53 1527.43 L1555.53 1521.7 Q1559.19 1520.68 1562.37 1520.17 Q1565.59 1519.66 1568.42 1519.66 Q1575.74 1519.66 1580.01 1523.01 Q1584.27 1526.32 1584.27 1531.98 Q1584.27 1535.93 1582.01 1538.67 Q1579.75 1541.37 1575.58 1542.42 Z\" fill=\"#000000\" fill-rule=\"nonzero\" fill-opacity=\"1\" /><path clip-path=\"url(#clip360)\" d=\"M1595.83 1518.58 L1600.92 1518.58 Q1605.69 1526.09 1608.05 1533.29 Q1610.44 1540.48 1610.44 1547.58 Q1610.44 1554.71 1608.05 1561.93 Q1605.69 1569.16 1600.92 1576.64 L1595.83 1576.64 Q1600.06 1569.35 1602.13 1562.16 Q1604.23 1554.93 1604.23 1547.58 Q1604.23 1540.23 1602.13 1533.06 Q1600.06 1525.9 1595.83 1518.58 Z\" fill=\"#000000\" fill-rule=\"nonzero\" fill-opacity=\"1\" /><polyline clip-path=\"url(#clip362)\" style=\"stroke:#000000; stroke-linecap:round; stroke-linejoin:round; stroke-width:2; stroke-opacity:0.1; fill:none\" points=\"247.459,1372.51 2352.76,1372.51 \"/>\n",
       "<polyline clip-path=\"url(#clip362)\" style=\"stroke:#000000; stroke-linecap:round; stroke-linejoin:round; stroke-width:2; stroke-opacity:0.1; fill:none\" points=\"247.459,1051.04 2352.76,1051.04 \"/>\n",
       "<polyline clip-path=\"url(#clip362)\" style=\"stroke:#000000; stroke-linecap:round; stroke-linejoin:round; stroke-width:2; stroke-opacity:0.1; fill:none\" points=\"247.459,729.568 2352.76,729.568 \"/>\n",
       "<polyline clip-path=\"url(#clip362)\" style=\"stroke:#000000; stroke-linecap:round; stroke-linejoin:round; stroke-width:2; stroke-opacity:0.1; fill:none\" points=\"247.459,408.099 2352.76,408.099 \"/>\n",
       "<polyline clip-path=\"url(#clip362)\" style=\"stroke:#000000; stroke-linecap:round; stroke-linejoin:round; stroke-width:2; stroke-opacity:0.1; fill:none\" points=\"247.459,86.6292 2352.76,86.6292 \"/>\n",
       "<polyline clip-path=\"url(#clip360)\" style=\"stroke:#000000; stroke-linecap:round; stroke-linejoin:round; stroke-width:4; stroke-opacity:1; fill:none\" points=\"247.459,1423.18 247.459,47.2441 \"/>\n",
       "<polyline clip-path=\"url(#clip360)\" style=\"stroke:#000000; stroke-linecap:round; stroke-linejoin:round; stroke-width:4; stroke-opacity:1; fill:none\" points=\"247.459,1372.51 266.356,1372.51 \"/>\n",
       "<polyline clip-path=\"url(#clip360)\" style=\"stroke:#000000; stroke-linecap:round; stroke-linejoin:round; stroke-width:4; stroke-opacity:1; fill:none\" points=\"247.459,1051.04 266.356,1051.04 \"/>\n",
       "<polyline clip-path=\"url(#clip360)\" style=\"stroke:#000000; stroke-linecap:round; stroke-linejoin:round; stroke-width:4; stroke-opacity:1; fill:none\" points=\"247.459,729.568 266.356,729.568 \"/>\n",
       "<polyline clip-path=\"url(#clip360)\" style=\"stroke:#000000; stroke-linecap:round; stroke-linejoin:round; stroke-width:4; stroke-opacity:1; fill:none\" points=\"247.459,408.099 266.356,408.099 \"/>\n",
       "<polyline clip-path=\"url(#clip360)\" style=\"stroke:#000000; stroke-linecap:round; stroke-linejoin:round; stroke-width:4; stroke-opacity:1; fill:none\" points=\"247.459,86.6292 266.356,86.6292 \"/>\n",
       "<path clip-path=\"url(#clip360)\" d=\"M114.931 1385.85 L122.57 1385.85 L122.57 1359.49 L114.26 1361.15 L114.26 1356.89 L122.524 1355.23 L127.2 1355.23 L127.2 1385.85 L134.839 1385.85 L134.839 1389.79 L114.931 1389.79 L114.931 1385.85 Z\" fill=\"#000000\" fill-rule=\"nonzero\" fill-opacity=\"1\" /><path clip-path=\"url(#clip360)\" d=\"M144.283 1383.91 L149.167 1383.91 L149.167 1389.79 L144.283 1389.79 L144.283 1383.91 Z\" fill=\"#000000\" fill-rule=\"nonzero\" fill-opacity=\"1\" /><path clip-path=\"url(#clip360)\" d=\"M169.352 1358.31 Q165.741 1358.31 163.913 1361.87 Q162.107 1365.41 162.107 1372.54 Q162.107 1379.65 163.913 1383.21 Q165.741 1386.75 169.352 1386.75 Q172.987 1386.75 174.792 1383.21 Q176.621 1379.65 176.621 1372.54 Q176.621 1365.41 174.792 1361.87 Q172.987 1358.31 169.352 1358.31 M169.352 1354.6 Q175.163 1354.6 178.218 1359.21 Q181.297 1363.79 181.297 1372.54 Q181.297 1381.27 178.218 1385.88 Q175.163 1390.46 169.352 1390.46 Q163.542 1390.46 160.464 1385.88 Q157.408 1381.27 157.408 1372.54 Q157.408 1363.79 160.464 1359.21 Q163.542 1354.6 169.352 1354.6 Z\" fill=\"#000000\" fill-rule=\"nonzero\" fill-opacity=\"1\" /><path clip-path=\"url(#clip360)\" d=\"M199.514 1358.31 Q195.903 1358.31 194.075 1361.87 Q192.269 1365.41 192.269 1372.54 Q192.269 1379.65 194.075 1383.21 Q195.903 1386.75 199.514 1386.75 Q203.149 1386.75 204.954 1383.21 Q206.783 1379.65 206.783 1372.54 Q206.783 1365.41 204.954 1361.87 Q203.149 1358.31 199.514 1358.31 M199.514 1354.6 Q205.324 1354.6 208.38 1359.21 Q211.459 1363.79 211.459 1372.54 Q211.459 1381.27 208.38 1385.88 Q205.324 1390.46 199.514 1390.46 Q193.704 1390.46 190.625 1385.88 Q187.57 1381.27 187.57 1372.54 Q187.57 1363.79 190.625 1359.21 Q193.704 1354.6 199.514 1354.6 Z\" fill=\"#000000\" fill-rule=\"nonzero\" fill-opacity=\"1\" /><path clip-path=\"url(#clip360)\" d=\"M115.927 1064.38 L123.566 1064.38 L123.566 1038.02 L115.256 1039.68 L115.256 1035.42 L123.519 1033.76 L128.195 1033.76 L128.195 1064.38 L135.834 1064.38 L135.834 1068.32 L115.927 1068.32 L115.927 1064.38 Z\" fill=\"#000000\" fill-rule=\"nonzero\" fill-opacity=\"1\" /><path clip-path=\"url(#clip360)\" d=\"M145.279 1062.44 L150.163 1062.44 L150.163 1068.32 L145.279 1068.32 L145.279 1062.44 Z\" fill=\"#000000\" fill-rule=\"nonzero\" fill-opacity=\"1\" /><path clip-path=\"url(#clip360)\" d=\"M170.348 1036.84 Q166.737 1036.84 164.908 1040.4 Q163.102 1043.94 163.102 1051.07 Q163.102 1058.18 164.908 1061.74 Q166.737 1065.29 170.348 1065.29 Q173.982 1065.29 175.788 1061.74 Q177.616 1058.18 177.616 1051.07 Q177.616 1043.94 175.788 1040.4 Q173.982 1036.84 170.348 1036.84 M170.348 1033.13 Q176.158 1033.13 179.214 1037.74 Q182.292 1042.32 182.292 1051.07 Q182.292 1059.8 179.214 1064.41 Q176.158 1068.99 170.348 1068.99 Q164.538 1068.99 161.459 1064.41 Q158.403 1059.8 158.403 1051.07 Q158.403 1042.32 161.459 1037.74 Q164.538 1033.13 170.348 1033.13 Z\" fill=\"#000000\" fill-rule=\"nonzero\" fill-opacity=\"1\" /><path clip-path=\"url(#clip360)\" d=\"M190.556 1033.76 L208.912 1033.76 L208.912 1037.69 L194.838 1037.69 L194.838 1046.16 Q195.857 1045.82 196.875 1045.66 Q197.894 1045.47 198.912 1045.47 Q204.699 1045.47 208.079 1048.64 Q211.459 1051.81 211.459 1057.23 Q211.459 1062.81 207.987 1065.91 Q204.514 1068.99 198.195 1068.99 Q196.019 1068.99 193.75 1068.62 Q191.505 1068.25 189.098 1067.51 L189.098 1062.81 Q191.181 1063.94 193.403 1064.5 Q195.625 1065.05 198.102 1065.05 Q202.107 1065.05 204.445 1062.95 Q206.783 1060.84 206.783 1057.23 Q206.783 1053.62 204.445 1051.51 Q202.107 1049.41 198.102 1049.41 Q196.227 1049.41 194.352 1049.82 Q192.5 1050.24 190.556 1051.12 L190.556 1033.76 Z\" fill=\"#000000\" fill-rule=\"nonzero\" fill-opacity=\"1\" /><path clip-path=\"url(#clip360)\" d=\"M114.931 742.913 L122.57 742.913 L122.57 716.547 L114.26 718.214 L114.26 713.955 L122.524 712.288 L127.2 712.288 L127.2 742.913 L134.839 742.913 L134.839 746.848 L114.931 746.848 L114.931 742.913 Z\" fill=\"#000000\" fill-rule=\"nonzero\" fill-opacity=\"1\" /><path clip-path=\"url(#clip360)\" d=\"M144.283 740.969 L149.167 740.969 L149.167 746.848 L144.283 746.848 L144.283 740.969 Z\" fill=\"#000000\" fill-rule=\"nonzero\" fill-opacity=\"1\" /><path clip-path=\"url(#clip360)\" d=\"M160.163 742.913 L167.802 742.913 L167.802 716.547 L159.491 718.214 L159.491 713.955 L167.755 712.288 L172.431 712.288 L172.431 742.913 L180.07 742.913 L180.07 746.848 L160.163 746.848 L160.163 742.913 Z\" fill=\"#000000\" fill-rule=\"nonzero\" fill-opacity=\"1\" /><path clip-path=\"url(#clip360)\" d=\"M199.514 715.367 Q195.903 715.367 194.075 718.932 Q192.269 722.473 192.269 729.603 Q192.269 736.709 194.075 740.274 Q195.903 743.816 199.514 743.816 Q203.149 743.816 204.954 740.274 Q206.783 736.709 206.783 729.603 Q206.783 722.473 204.954 718.932 Q203.149 715.367 199.514 715.367 M199.514 711.663 Q205.324 711.663 208.38 716.27 Q211.459 720.853 211.459 729.603 Q211.459 738.33 208.38 742.936 Q205.324 747.519 199.514 747.519 Q193.704 747.519 190.625 742.936 Q187.57 738.33 187.57 729.603 Q187.57 720.853 190.625 716.27 Q193.704 711.663 199.514 711.663 Z\" fill=\"#000000\" fill-rule=\"nonzero\" fill-opacity=\"1\" /><path clip-path=\"url(#clip360)\" d=\"M115.927 421.444 L123.566 421.444 L123.566 395.078 L115.256 396.745 L115.256 392.485 L123.519 390.819 L128.195 390.819 L128.195 421.444 L135.834 421.444 L135.834 425.379 L115.927 425.379 L115.927 421.444 Z\" fill=\"#000000\" fill-rule=\"nonzero\" fill-opacity=\"1\" /><path clip-path=\"url(#clip360)\" d=\"M145.279 419.499 L150.163 419.499 L150.163 425.379 L145.279 425.379 L145.279 419.499 Z\" fill=\"#000000\" fill-rule=\"nonzero\" fill-opacity=\"1\" /><path clip-path=\"url(#clip360)\" d=\"M161.158 421.444 L168.797 421.444 L168.797 395.078 L160.487 396.745 L160.487 392.485 L168.751 390.819 L173.427 390.819 L173.427 421.444 L181.065 421.444 L181.065 425.379 L161.158 425.379 L161.158 421.444 Z\" fill=\"#000000\" fill-rule=\"nonzero\" fill-opacity=\"1\" /><path clip-path=\"url(#clip360)\" d=\"M190.556 390.819 L208.912 390.819 L208.912 394.754 L194.838 394.754 L194.838 403.226 Q195.857 402.879 196.875 402.717 Q197.894 402.532 198.912 402.532 Q204.699 402.532 208.079 405.703 Q211.459 408.874 211.459 414.291 Q211.459 419.869 207.987 422.971 Q204.514 426.05 198.195 426.05 Q196.019 426.05 193.75 425.68 Q191.505 425.309 189.098 424.568 L189.098 419.869 Q191.181 421.004 193.403 421.559 Q195.625 422.115 198.102 422.115 Q202.107 422.115 204.445 420.008 Q206.783 417.902 206.783 414.291 Q206.783 410.68 204.445 408.573 Q202.107 406.467 198.102 406.467 Q196.227 406.467 194.352 406.883 Q192.5 407.3 190.556 408.18 L190.556 390.819 Z\" fill=\"#000000\" fill-rule=\"nonzero\" fill-opacity=\"1\" /><path clip-path=\"url(#clip360)\" d=\"M114.931 99.974 L122.57 99.974 L122.57 73.6084 L114.26 75.2751 L114.26 71.0159 L122.524 69.3492 L127.2 69.3492 L127.2 99.974 L134.839 99.974 L134.839 103.909 L114.931 103.909 L114.931 99.974 Z\" fill=\"#000000\" fill-rule=\"nonzero\" fill-opacity=\"1\" /><path clip-path=\"url(#clip360)\" d=\"M144.283 98.0296 L149.167 98.0296 L149.167 103.909 L144.283 103.909 L144.283 98.0296 Z\" fill=\"#000000\" fill-rule=\"nonzero\" fill-opacity=\"1\" /><path clip-path=\"url(#clip360)\" d=\"M163.38 99.974 L179.7 99.974 L179.7 103.909 L157.755 103.909 L157.755 99.974 Q160.417 97.2194 165.001 92.5898 Q169.607 87.9371 170.788 86.5945 Q173.033 84.0713 173.913 82.3352 Q174.815 80.576 174.815 78.8862 Q174.815 76.1316 172.871 74.3955 Q170.95 72.6594 167.848 72.6594 Q165.649 72.6594 163.195 73.4232 Q160.765 74.1871 157.987 75.7381 L157.987 71.0159 Q160.811 69.8816 163.265 69.3029 Q165.718 68.7242 167.755 68.7242 Q173.126 68.7242 176.32 71.4094 Q179.514 74.0945 179.514 78.5853 Q179.514 80.7149 178.704 82.6362 Q177.917 84.5343 175.811 87.1269 Q175.232 87.7982 172.13 91.0157 Q169.028 94.2102 163.38 99.974 Z\" fill=\"#000000\" fill-rule=\"nonzero\" fill-opacity=\"1\" /><path clip-path=\"url(#clip360)\" d=\"M199.514 72.4279 Q195.903 72.4279 194.075 75.9927 Q192.269 79.5343 192.269 86.6639 Q192.269 93.7704 194.075 97.3352 Q195.903 100.877 199.514 100.877 Q203.149 100.877 204.954 97.3352 Q206.783 93.7704 206.783 86.6639 Q206.783 79.5343 204.954 75.9927 Q203.149 72.4279 199.514 72.4279 M199.514 68.7242 Q205.324 68.7242 208.38 73.3307 Q211.459 77.914 211.459 86.6639 Q211.459 95.3907 208.38 99.9972 Q205.324 104.58 199.514 104.58 Q193.704 104.58 190.625 99.9972 Q187.57 95.3907 187.57 86.6639 Q187.57 77.914 190.625 73.3307 Q193.704 68.7242 199.514 68.7242 Z\" fill=\"#000000\" fill-rule=\"nonzero\" fill-opacity=\"1\" /><path clip-path=\"url(#clip360)\" d=\"M16.4842 949.593 L16.4842 943.1 L56.6518 933.106 L16.4842 923.144 L16.4842 915.918 L56.6518 905.924 L16.4842 895.962 L16.4842 889.437 L64.0042 901.373 L64.0042 909.457 L22.7544 919.483 L64.0042 929.605 L64.0042 937.689 L16.4842 949.593 Z\" fill=\"#000000\" fill-rule=\"nonzero\" fill-opacity=\"1\" /><path clip-path=\"url(#clip360)\" d=\"M44.7161 854.489 L47.5806 854.489 L47.5806 881.416 Q53.6281 881.034 56.8109 877.788 Q59.9619 874.51 59.9619 868.685 Q59.9619 865.311 59.1344 862.16 Q58.3069 858.977 56.6518 855.858 L62.1899 855.858 Q63.5267 859.009 64.227 862.319 Q64.9272 865.629 64.9272 869.035 Q64.9272 877.565 59.9619 882.562 Q54.9967 887.527 46.5303 887.527 Q37.7774 887.527 32.6531 882.817 Q27.4968 878.074 27.4968 870.054 Q27.4968 862.86 32.1438 858.691 Q36.7589 854.489 44.7161 854.489 M42.9973 860.346 Q38.1912 860.41 35.3266 863.051 Q32.4621 865.661 32.4621 869.99 Q32.4621 874.891 35.2312 877.852 Q38.0002 880.78 43.0292 881.225 L42.9973 860.346 Z\" fill=\"#000000\" fill-rule=\"nonzero\" fill-opacity=\"1\" /><path clip-path=\"url(#clip360)\" d=\"M46.0847 828.676 Q46.0847 835.774 47.7079 838.511 Q49.3312 841.249 53.2461 841.249 Q56.3653 841.249 58.2114 839.212 Q60.0256 837.143 60.0256 833.61 Q60.0256 828.74 56.5881 825.812 Q53.1188 822.852 47.3897 822.852 L46.0847 822.852 L46.0847 828.676 M43.6657 816.995 L64.0042 816.995 L64.0042 822.852 L58.5933 822.852 Q61.8398 824.857 63.3994 827.849 Q64.9272 830.841 64.9272 835.169 Q64.9272 840.644 61.8716 843.89 Q58.7843 847.105 53.6281 847.105 Q47.6125 847.105 44.5569 843.095 Q41.5014 839.053 41.5014 831.064 L41.5014 822.852 L40.9285 822.852 Q36.8862 822.852 34.6901 825.525 Q32.4621 828.167 32.4621 832.973 Q32.4621 836.029 33.1941 838.925 Q33.9262 841.822 35.3903 844.495 L29.9795 844.495 Q28.7381 841.281 28.1334 838.257 Q27.4968 835.233 27.4968 832.369 Q27.4968 824.634 31.5072 820.815 Q35.5176 816.995 43.6657 816.995 Z\" fill=\"#000000\" fill-rule=\"nonzero\" fill-opacity=\"1\" /><path clip-path=\"url(#clip360)\" d=\"M14.479 804.932 L14.479 799.076 L64.0042 799.076 L64.0042 804.932 L14.479 804.932 Z\" fill=\"#000000\" fill-rule=\"nonzero\" fill-opacity=\"1\" /><path clip-path=\"url(#clip360)\" d=\"M18.2347 781.029 L28.3562 781.029 L28.3562 768.966 L32.9077 768.966 L32.9077 781.029 L52.2594 781.029 Q56.6199 781.029 57.8613 779.851 Q59.1026 778.642 59.1026 774.982 L59.1026 768.966 L64.0042 768.966 L64.0042 774.982 Q64.0042 781.761 61.4897 784.339 Q58.9434 786.917 52.2594 786.917 L32.9077 786.917 L32.9077 791.214 L28.3562 791.214 L28.3562 786.917 L18.2347 786.917 L18.2347 781.029 Z\" fill=\"#000000\" fill-rule=\"nonzero\" fill-opacity=\"1\" /><path clip-path=\"url(#clip360)\" d=\"M42.4881 731.631 L64.0042 731.631 L64.0042 737.488 L42.679 737.488 Q37.6183 737.488 35.1038 739.461 Q32.5894 741.434 32.5894 745.381 Q32.5894 750.124 35.6131 752.861 Q38.6368 755.598 43.8567 755.598 L64.0042 755.598 L64.0042 761.486 L14.479 761.486 L14.479 755.598 L33.8944 755.598 Q30.6797 753.497 29.0883 750.665 Q27.4968 747.8 27.4968 744.076 Q27.4968 737.933 31.3163 734.782 Q35.1038 731.631 42.4881 731.631 Z\" fill=\"#000000\" fill-rule=\"nonzero\" fill-opacity=\"1\" /><path clip-path=\"url(#clip360)\" d=\"M14.5426 685.162 Q21.8632 689.427 29.0246 691.495 Q36.186 693.564 43.5384 693.564 Q50.8908 693.564 58.1159 691.495 Q65.3091 689.395 72.5979 685.162 L72.5979 690.254 Q65.1182 695.028 57.8931 697.416 Q50.668 699.771 43.5384 699.771 Q36.4406 699.771 29.2474 697.416 Q22.0542 695.06 14.5426 690.254 L14.5426 685.162 Z\" fill=\"#000000\" fill-rule=\"nonzero\" fill-opacity=\"1\" /><path clip-path=\"url(#clip360)\" d=\"M16.4842 674.276 L16.4842 667.815 L45.3526 667.815 Q52.9915 667.815 56.3653 665.046 Q59.7073 662.277 59.7073 656.07 Q59.7073 649.896 56.3653 647.127 Q52.9915 644.357 45.3526 644.357 L16.4842 644.357 L16.4842 637.896 L46.1484 637.896 Q55.4423 637.896 60.1847 642.511 Q64.9272 647.095 64.9272 656.07 Q64.9272 665.078 60.1847 669.693 Q55.4423 674.276 46.1484 674.276 L16.4842 674.276 Z\" fill=\"#000000\" fill-rule=\"nonzero\" fill-opacity=\"1\" /><path clip-path=\"url(#clip360)\" d=\"M18.0438 597.347 L24.314 597.347 Q22.5634 601.007 21.704 604.253 Q20.8447 607.5 20.8447 610.524 Q20.8447 615.775 22.8817 618.64 Q24.9187 621.473 28.6745 621.473 Q31.8255 621.473 33.4488 619.595 Q35.0402 617.685 36.0269 612.402 L36.8226 608.518 Q38.1912 601.325 41.6605 597.92 Q45.098 594.482 50.8908 594.482 Q57.7976 594.482 61.3624 599.129 Q64.9272 603.744 64.9272 612.688 Q64.9272 616.062 64.1633 619.881 Q63.3994 623.669 61.9035 627.743 L55.2831 627.743 Q57.4793 623.828 58.5933 620.072 Q59.7073 616.316 59.7073 612.688 Q59.7073 607.182 57.543 604.19 Q55.3786 601.198 51.3682 601.198 Q47.8671 601.198 45.8937 603.362 Q43.9204 605.495 42.9337 610.396 L42.1698 614.311 Q40.7375 621.505 37.682 624.719 Q34.6264 627.934 29.1837 627.934 Q22.8817 627.934 19.2532 623.51 Q15.6248 619.054 15.6248 611.256 Q15.6248 607.914 16.2295 604.444 Q16.8343 600.975 18.0438 597.347 Z\" fill=\"#000000\" fill-rule=\"nonzero\" fill-opacity=\"1\" /><path clip-path=\"url(#clip360)\" d=\"M21.7677 578.027 L58.7206 578.027 L58.7206 570.261 Q58.7206 560.426 54.2646 555.874 Q49.8086 551.291 40.1964 551.291 Q30.6479 551.291 26.2237 555.874 Q21.7677 560.426 21.7677 570.261 L21.7677 578.027 M16.4842 584.456 L16.4842 571.247 Q16.4842 557.434 22.2451 550.973 Q27.9743 544.511 40.1964 544.511 Q52.4822 544.511 58.2432 551.004 Q64.0042 557.497 64.0042 571.247 L64.0042 584.456 L16.4842 584.456 Z\" fill=\"#000000\" fill-rule=\"nonzero\" fill-opacity=\"1\" /><path clip-path=\"url(#clip360)\" d=\"M14.5426 535.44 L14.5426 530.348 Q22.0542 525.573 29.2474 523.218 Q36.4406 520.831 43.5384 520.831 Q50.668 520.831 57.8931 523.218 Q65.1182 525.573 72.5979 530.348 L72.5979 535.44 Q65.3091 531.207 58.1159 529.138 Q50.8908 527.037 43.5384 527.037 Q36.186 527.037 29.0246 529.138 Q21.8632 531.207 14.5426 535.44 Z\" fill=\"#000000\" fill-rule=\"nonzero\" fill-opacity=\"1\" /><polyline clip-path=\"url(#clip362)\" style=\"stroke:#0000ff; stroke-linecap:round; stroke-linejoin:round; stroke-width:12; stroke-opacity:1; fill:none\" points=\"307.043,1372.51 315.754,1335.52 324.465,1384.24 333.176,1300.13 341.887,1213.78 350.598,1235.39 359.309,1164.2 368.02,1113.37 376.731,1104.5 385.442,1081.56 394.154,1143.02 402.865,1232.26 411.576,1176.19 420.287,1055 428.998,1052.21 437.709,1087.33 446.42,1007.04 455.131,953.428 463.842,1013.54 472.553,980.914 481.264,918.427 489.976,789.162 498.687,818.737 507.398,882.503 516.109,848.747 524.82,849.87 533.531,885.8 542.242,932.842 550.953,858.958 559.664,846.516 568.375,844.196 577.087,876.938 585.798,947.621 594.509,1031.84 603.22,1069.52 611.931,1057.54 620.642,1121.91 629.353,1074.24 638.064,1094.66 646.775,1133.2 655.486,1128.31 664.197,1016.38 672.909,959.509 681.62,1044.7 690.331,1080.52 699.042,1128.27 707.753,1248.44 716.464,1285.91 725.175,1216.23 733.886,1267.8 742.597,1169.42 751.308,1199.33 760.019,1180.15 768.731,1100.12 777.442,1091.59 786.153,1142.68 794.864,1167.38 803.575,1102.82 812.286,1131.13 820.997,1053.26 829.708,996.685 838.419,928.548 847.13,881.674 855.842,895.96 864.553,927.443 873.264,914.395 881.975,914.748 890.686,882.045 899.397,887.314 908.108,853.371 916.819,844.217 925.53,838.683 934.241,813.609 942.952,820.539 951.664,848.32 960.375,852.607 969.086,847.24 977.797,911.256 986.508,956.626 995.219,880.638 1003.93,808.086 1012.64,777.604 1021.35,864.233 1030.06,872.42 1038.77,958.483 1047.49,861.538 1056.2,839.968 1064.91,859.472 1073.62,849.203 1082.33,856.602 1091.04,862.844 1099.75,846.58 1108.46,859.115 1117.17,824.47 1125.89,761.137 1134.6,730.077 1143.31,729.844 1152.02,782.892 1160.73,861.656 1169.44,816.347 1178.15,732.001 1186.86,706.051 1195.57,747.098 1204.29,705.727 1213,598.16 1221.71,578.742 1230.42,585.589 1239.13,589.73 1247.84,573.593 1256.55,540.927 1265.26,511.801 1273.97,443.499 1282.69,431.319 1291.4,364.13 1300.11,359.607 1308.82,424.23 1317.53,450.904 1326.24,452.852 1334.95,479.781 1343.66,502.379 1352.37,465.243 1361.08,447.893 1369.8,422.251 1378.51,329.743 1387.22,316.51 1395.93,320.142 1404.64,390.503 1413.35,377.206 1422.06,394.834 1430.77,355.372 1439.48,280.549 1448.2,231.049 1456.91,210.324 1465.62,199.447 1474.33,153.162 1483.04,117.003 1491.75,151.553 1500.46,157.759 1509.17,141.073 1517.88,116.259 1526.6,122.974 1535.31,117.403 1544.02,101.569 1552.73,86.1857 1561.44,97.9438 1570.15,182.912 1578.86,220.703 1587.57,222.804 1596.28,214.553 1605,248.818 1613.71,258.482 1622.42,248.68 1631.13,287.048 1639.84,262.514 1648.55,304.138 1657.26,348.628 1665.97,404.127 1674.68,450.511 1683.4,410.282 1692.11,395.48 1700.82,343.869 1709.53,373.635 1718.24,396.718 1726.95,341.891 1735.66,255.245 1744.37,196.881 1753.08,184.72 1761.8,186.158 1770.51,206.518 1779.22,274.093 1787.93,299.098 1796.64,279.998 1805.35,243.634 1814.06,261.903 1822.77,265.793 1831.48,216.815 1840.2,293.348 1848.91,314.448 1857.62,342.938 1866.33,351.901 1875.04,482.233 1883.75,515.501 1892.46,529.605 1901.17,592.92 1909.88,622.134 1918.59,581.003 1927.31,569.966 1936.02,606.388 1944.73,674.738 1953.44,660.845 1962.15,652.961 1970.86,596.179 1979.57,539.436 1988.28,460.06 1996.99,457.738 2005.71,469.172 2014.42,505.282 2023.13,449.552 2031.84,453.915 2040.55,508.829 2049.26,562.459 2057.97,654.784 2066.68,689.784 2075.39,662.087 2084.11,728.332 2092.82,811.95 2101.53,855.716 2110.24,809.22 2118.95,765.939 2127.66,698.831 2136.37,564.911 2145.08,469.644 2153.79,459.589 2162.51,434.61 2171.22,429.822 2179.93,449.819 2188.64,409.979 2197.35,374.46 2206.06,243.234 2214.77,206.955 2223.48,216.15 2232.19,198.333 2240.91,151.663 2249.62,156.191 2258.33,122.333 2267.04,121.263 2275.75,125.789 2284.46,127.59 2293.17,109.098 \"/>\n",
       "<path clip-path=\"url(#clip360)\" d=\"M317.635 300.469 L1053.46 300.469 L1053.46 93.1086 L317.635 93.1086  Z\" fill=\"#ffffff\" fill-rule=\"evenodd\" fill-opacity=\"1\"/>\n",
       "<polyline clip-path=\"url(#clip360)\" style=\"stroke:#000000; stroke-linecap:round; stroke-linejoin:round; stroke-width:4; stroke-opacity:1; fill:none\" points=\"317.635,300.469 1053.46,300.469 1053.46,93.1086 317.635,93.1086 317.635,300.469 \"/>\n",
       "<polyline clip-path=\"url(#clip360)\" style=\"stroke:#800080; stroke-linecap:round; stroke-linejoin:round; stroke-width:16; stroke-opacity:1; fill:none\" points=\"341.027,144.949 481.381,144.949 \"/>\n",
       "<path clip-path=\"url(#clip360)\" d=\"M532.643 130.331 L532.643 135.261 Q530.282 133.062 527.597 131.974 Q524.935 130.886 521.925 130.886 Q516 130.886 512.851 134.52 Q509.703 138.132 509.703 144.983 Q509.703 151.812 512.851 155.446 Q516 159.057 521.925 159.057 Q524.935 159.057 527.597 157.969 Q530.282 156.881 532.643 154.682 L532.643 159.567 Q530.189 161.233 527.435 162.067 Q524.703 162.9 521.648 162.9 Q513.801 162.9 509.287 158.108 Q504.773 153.293 504.773 144.983 Q504.773 136.65 509.287 131.858 Q513.801 127.044 521.648 127.044 Q524.75 127.044 527.481 127.877 Q530.236 128.687 532.643 130.331 Z\" fill=\"#000000\" fill-rule=\"nonzero\" fill-opacity=\"1\" /><path clip-path=\"url(#clip360)\" d=\"M561.231 146.581 L561.231 162.229 L556.972 162.229 L556.972 146.719 Q556.972 143.039 555.536 141.21 Q554.101 139.382 551.231 139.382 Q547.782 139.382 545.791 141.581 Q543.8 143.78 543.8 147.576 L543.8 162.229 L539.518 162.229 L539.518 126.21 L543.8 126.21 L543.8 140.331 Q545.328 137.993 547.388 136.835 Q549.472 135.678 552.18 135.678 Q556.648 135.678 558.939 138.456 Q561.231 141.21 561.231 146.581 Z\" fill=\"#000000\" fill-rule=\"nonzero\" fill-opacity=\"1\" /><path clip-path=\"url(#clip360)\" d=\"M579.772 139.289 Q576.347 139.289 574.356 141.974 Q572.365 144.636 572.365 149.289 Q572.365 153.942 574.333 156.627 Q576.323 159.289 579.772 159.289 Q583.175 159.289 585.166 156.604 Q587.157 153.918 587.157 149.289 Q587.157 144.682 585.166 141.997 Q583.175 139.289 579.772 139.289 M579.772 135.678 Q585.328 135.678 588.499 139.289 Q591.67 142.9 591.67 149.289 Q591.67 155.655 588.499 159.289 Q585.328 162.9 579.772 162.9 Q574.194 162.9 571.022 159.289 Q567.874 155.655 567.874 149.289 Q567.874 142.9 571.022 139.289 Q574.194 135.678 579.772 135.678 Z\" fill=\"#000000\" fill-rule=\"nonzero\" fill-opacity=\"1\" /><path clip-path=\"url(#clip360)\" d=\"M615.258 137.067 L615.258 141.094 Q613.453 140.169 611.508 139.706 Q609.564 139.243 607.481 139.243 Q604.309 139.243 602.712 140.215 Q601.138 141.187 601.138 143.131 Q601.138 144.613 602.272 145.469 Q603.407 146.303 606.832 147.067 L608.291 147.391 Q612.828 148.363 614.726 150.145 Q616.647 151.905 616.647 155.076 Q616.647 158.687 613.777 160.793 Q610.93 162.9 605.93 162.9 Q603.846 162.9 601.578 162.483 Q599.332 162.09 596.833 161.28 L596.833 156.881 Q599.194 158.108 601.485 158.733 Q603.777 159.335 606.022 159.335 Q609.032 159.335 610.652 158.317 Q612.272 157.275 612.272 155.4 Q612.272 153.664 611.092 152.738 Q609.934 151.812 605.976 150.956 L604.495 150.608 Q600.536 149.775 598.777 148.062 Q597.018 146.326 597.018 143.317 Q597.018 139.659 599.61 137.669 Q602.203 135.678 606.971 135.678 Q609.332 135.678 611.416 136.025 Q613.499 136.372 615.258 137.067 Z\" fill=\"#000000\" fill-rule=\"nonzero\" fill-opacity=\"1\" /><path clip-path=\"url(#clip360)\" d=\"M645.605 148.201 L645.605 150.284 L626.022 150.284 Q626.3 154.682 628.661 156.997 Q631.045 159.289 635.281 159.289 Q637.735 159.289 640.027 158.687 Q642.342 158.085 644.61 156.881 L644.61 160.909 Q642.318 161.881 639.911 162.391 Q637.504 162.9 635.027 162.9 Q628.823 162.9 625.189 159.289 Q621.578 155.678 621.578 149.52 Q621.578 143.155 625.004 139.428 Q628.453 135.678 634.286 135.678 Q639.517 135.678 642.55 139.057 Q645.605 142.414 645.605 148.201 M641.346 146.951 Q641.3 143.456 639.379 141.372 Q637.48 139.289 634.332 139.289 Q630.768 139.289 628.615 141.303 Q626.485 143.317 626.161 146.974 L641.346 146.951 Z\" fill=\"#000000\" fill-rule=\"nonzero\" fill-opacity=\"1\" /><path clip-path=\"url(#clip360)\" d=\"M674.147 146.581 L674.147 162.229 L669.888 162.229 L669.888 146.719 Q669.888 143.039 668.452 141.21 Q667.017 139.382 664.147 139.382 Q660.698 139.382 658.707 141.581 Q656.716 143.78 656.716 147.576 L656.716 162.229 L652.434 162.229 L652.434 136.303 L656.716 136.303 L656.716 140.331 Q658.244 137.993 660.304 136.835 Q662.388 135.678 665.096 135.678 Q669.564 135.678 671.855 138.456 Q674.147 141.21 674.147 146.581 Z\" fill=\"#000000\" fill-rule=\"nonzero\" fill-opacity=\"1\" /><path clip-path=\"url(#clip360)\" d=\"M702.573 131.511 L702.573 144.497 L708.452 144.497 Q711.716 144.497 713.499 142.807 Q715.281 141.118 715.281 137.993 Q715.281 134.891 713.499 133.201 Q711.716 131.511 708.452 131.511 L702.573 131.511 M697.897 127.669 L708.452 127.669 Q714.262 127.669 717.225 130.307 Q720.211 132.923 720.211 137.993 Q720.211 143.108 717.225 145.724 Q714.262 148.34 708.452 148.34 L702.573 148.34 L702.573 162.229 L697.897 162.229 L697.897 127.669 Z\" fill=\"#000000\" fill-rule=\"nonzero\" fill-opacity=\"1\" /><path clip-path=\"url(#clip360)\" d=\"M734.656 139.289 Q731.23 139.289 729.239 141.974 Q727.248 144.636 727.248 149.289 Q727.248 153.942 729.216 156.627 Q731.207 159.289 734.656 159.289 Q738.059 159.289 740.049 156.604 Q742.04 153.918 742.04 149.289 Q742.04 144.682 740.049 141.997 Q738.059 139.289 734.656 139.289 M734.656 135.678 Q740.211 135.678 743.383 139.289 Q746.554 142.9 746.554 149.289 Q746.554 155.655 743.383 159.289 Q740.211 162.9 734.656 162.9 Q729.077 162.9 725.906 159.289 Q722.758 155.655 722.758 149.289 Q722.758 142.9 725.906 139.289 Q729.077 135.678 734.656 135.678 Z\" fill=\"#000000\" fill-rule=\"nonzero\" fill-opacity=\"1\" /><path clip-path=\"url(#clip360)\" d=\"M768.637 140.284 Q767.92 139.868 767.063 139.682 Q766.23 139.474 765.211 139.474 Q761.6 139.474 759.656 141.835 Q757.734 144.173 757.734 148.571 L757.734 162.229 L753.452 162.229 L753.452 136.303 L757.734 136.303 L757.734 140.331 Q759.077 137.969 761.23 136.835 Q763.383 135.678 766.461 135.678 Q766.901 135.678 767.433 135.747 Q767.966 135.794 768.614 135.909 L768.637 140.284 Z\" fill=\"#000000\" fill-rule=\"nonzero\" fill-opacity=\"1\" /><path clip-path=\"url(#clip360)\" d=\"M777.318 128.942 L777.318 136.303 L786.091 136.303 L786.091 139.613 L777.318 139.613 L777.318 153.687 Q777.318 156.858 778.174 157.761 Q779.054 158.664 781.716 158.664 L786.091 158.664 L786.091 162.229 L781.716 162.229 Q776.785 162.229 774.91 160.4 Q773.035 158.548 773.035 153.687 L773.035 139.613 L769.91 139.613 L769.91 136.303 L773.035 136.303 L773.035 128.942 L777.318 128.942 Z\" fill=\"#000000\" fill-rule=\"nonzero\" fill-opacity=\"1\" /><path clip-path=\"url(#clip360)\" d=\"M804.818 126.21 L804.818 129.752 L800.743 129.752 Q798.452 129.752 797.549 130.678 Q796.669 131.604 796.669 134.011 L796.669 136.303 L803.683 136.303 L803.683 139.613 L796.669 139.613 L796.669 162.229 L792.387 162.229 L792.387 139.613 L788.313 139.613 L788.313 136.303 L792.387 136.303 L792.387 134.497 Q792.387 130.169 794.401 128.201 Q796.415 126.21 800.79 126.21 L804.818 126.21 Z\" fill=\"#000000\" fill-rule=\"nonzero\" fill-opacity=\"1\" /><path clip-path=\"url(#clip360)\" d=\"M818.429 139.289 Q815.003 139.289 813.012 141.974 Q811.021 144.636 811.021 149.289 Q811.021 153.942 812.989 156.627 Q814.979 159.289 818.429 159.289 Q821.831 159.289 823.822 156.604 Q825.813 153.918 825.813 149.289 Q825.813 144.682 823.822 141.997 Q821.831 139.289 818.429 139.289 M818.429 135.678 Q823.984 135.678 827.155 139.289 Q830.327 142.9 830.327 149.289 Q830.327 155.655 827.155 159.289 Q823.984 162.9 818.429 162.9 Q812.85 162.9 809.679 159.289 Q806.53 155.655 806.53 149.289 Q806.53 142.9 809.679 139.289 Q812.85 135.678 818.429 135.678 Z\" fill=\"#000000\" fill-rule=\"nonzero\" fill-opacity=\"1\" /><path clip-path=\"url(#clip360)\" d=\"M837.387 126.21 L841.646 126.21 L841.646 162.229 L837.387 162.229 L837.387 126.21 Z\" fill=\"#000000\" fill-rule=\"nonzero\" fill-opacity=\"1\" /><path clip-path=\"url(#clip360)\" d=\"M850.558 136.303 L854.817 136.303 L854.817 162.229 L850.558 162.229 L850.558 136.303 M850.558 126.21 L854.817 126.21 L854.817 131.604 L850.558 131.604 L850.558 126.21 Z\" fill=\"#000000\" fill-rule=\"nonzero\" fill-opacity=\"1\" /><path clip-path=\"url(#clip360)\" d=\"M873.775 139.289 Q870.35 139.289 868.359 141.974 Q866.368 144.636 866.368 149.289 Q866.368 153.942 868.336 156.627 Q870.326 159.289 873.775 159.289 Q877.178 159.289 879.169 156.604 Q881.16 153.918 881.16 149.289 Q881.16 144.682 879.169 141.997 Q877.178 139.289 873.775 139.289 M873.775 135.678 Q879.331 135.678 882.502 139.289 Q885.674 142.9 885.674 149.289 Q885.674 155.655 882.502 159.289 Q879.331 162.9 873.775 162.9 Q868.197 162.9 865.026 159.289 Q861.877 155.655 861.877 149.289 Q861.877 142.9 865.026 139.289 Q868.197 135.678 873.775 135.678 Z\" fill=\"#000000\" fill-rule=\"nonzero\" fill-opacity=\"1\" /><path clip-path=\"url(#clip360)\" d=\"M907.988 127.669 L912.664 127.669 L912.664 162.229 L907.988 162.229 L907.988 127.669 Z\" fill=\"#000000\" fill-rule=\"nonzero\" fill-opacity=\"1\" /><path clip-path=\"url(#clip360)\" d=\"M943.335 146.581 L943.335 162.229 L939.076 162.229 L939.076 146.719 Q939.076 143.039 937.641 141.21 Q936.206 139.382 933.335 139.382 Q929.886 139.382 927.896 141.581 Q925.905 143.78 925.905 147.576 L925.905 162.229 L921.622 162.229 L921.622 136.303 L925.905 136.303 L925.905 140.331 Q927.433 137.993 929.493 136.835 Q931.576 135.678 934.284 135.678 Q938.752 135.678 941.044 138.456 Q943.335 141.21 943.335 146.581 Z\" fill=\"#000000\" fill-rule=\"nonzero\" fill-opacity=\"1\" /><path clip-path=\"url(#clip360)\" d=\"M951.831 136.303 L956.09 136.303 L956.09 162.229 L951.831 162.229 L951.831 136.303 M951.831 126.21 L956.09 126.21 L956.09 131.604 L951.831 131.604 L951.831 126.21 Z\" fill=\"#000000\" fill-rule=\"nonzero\" fill-opacity=\"1\" /><path clip-path=\"url(#clip360)\" d=\"M969.215 128.942 L969.215 136.303 L977.988 136.303 L977.988 139.613 L969.215 139.613 L969.215 153.687 Q969.215 156.858 970.071 157.761 Q970.951 158.664 973.613 158.664 L977.988 158.664 L977.988 162.229 L973.613 162.229 Q968.682 162.229 966.807 160.4 Q964.932 158.548 964.932 153.687 L964.932 139.613 L961.807 139.613 L961.807 136.303 L964.932 136.303 L964.932 128.942 L969.215 128.942 Z\" fill=\"#000000\" fill-rule=\"nonzero\" fill-opacity=\"1\" /><path clip-path=\"url(#clip360)\" d=\"M983.59 136.303 L987.849 136.303 L987.849 162.229 L983.59 162.229 L983.59 136.303 M983.59 126.21 L987.849 126.21 L987.849 131.604 L983.59 131.604 L983.59 126.21 Z\" fill=\"#000000\" fill-rule=\"nonzero\" fill-opacity=\"1\" /><path clip-path=\"url(#clip360)\" d=\"M1008.54 149.196 Q1003.38 149.196 1001.39 150.377 Q999.4 151.557 999.4 154.405 Q999.4 156.673 1000.88 158.016 Q1002.39 159.335 1004.96 159.335 Q1008.5 159.335 1010.63 156.835 Q1012.78 154.312 1012.78 150.145 L1012.78 149.196 L1008.54 149.196 M1017.04 147.437 L1017.04 162.229 L1012.78 162.229 L1012.78 158.293 Q1011.32 160.655 1009.15 161.789 Q1006.97 162.9 1003.82 162.9 Q999.84 162.9 997.479 160.678 Q995.141 158.432 995.141 154.682 Q995.141 150.307 998.057 148.085 Q1001 145.863 1006.81 145.863 L1012.78 145.863 L1012.78 145.446 Q1012.78 142.507 1010.83 140.909 Q1008.91 139.289 1005.42 139.289 Q1003.2 139.289 1001.09 139.821 Q998.983 140.354 997.039 141.419 L997.039 137.483 Q999.377 136.581 1001.58 136.141 Q1003.77 135.678 1005.86 135.678 Q1011.48 135.678 1014.26 138.594 Q1017.04 141.511 1017.04 147.437 Z\" fill=\"#000000\" fill-rule=\"nonzero\" fill-opacity=\"1\" /><path clip-path=\"url(#clip360)\" d=\"M1025.81 126.21 L1030.07 126.21 L1030.07 162.229 L1025.81 162.229 L1025.81 126.21 Z\" fill=\"#000000\" fill-rule=\"nonzero\" fill-opacity=\"1\" /><polyline clip-path=\"url(#clip360)\" style=\"stroke:#0000ff; stroke-linecap:round; stroke-linejoin:round; stroke-width:12; stroke-opacity:1; fill:none\" points=\"341.027,196.789 481.381,196.789 \"/>\n",
       "<path clip-path=\"url(#clip360)\" d=\"M527.018 180.643 L527.018 185.203 Q524.356 183.93 521.995 183.305 Q519.634 182.68 517.435 182.68 Q513.615 182.68 511.532 184.161 Q509.472 185.643 509.472 188.374 Q509.472 190.666 510.838 191.847 Q512.226 193.004 516.069 193.722 L518.893 194.3 Q524.125 195.296 526.601 197.819 Q529.101 200.319 529.101 204.532 Q529.101 209.555 525.722 212.147 Q522.365 214.74 515.861 214.74 Q513.407 214.74 510.629 214.184 Q507.875 213.629 504.912 212.541 L504.912 207.726 Q507.759 209.323 510.49 210.133 Q513.222 210.944 515.861 210.944 Q519.865 210.944 522.041 209.37 Q524.217 207.796 524.217 204.879 Q524.217 202.333 522.643 200.897 Q521.092 199.462 517.527 198.745 L514.68 198.189 Q509.449 197.147 507.111 194.925 Q504.773 192.703 504.773 188.745 Q504.773 184.161 507.99 181.522 Q511.231 178.884 516.902 178.884 Q519.333 178.884 521.856 179.323 Q524.379 179.763 527.018 180.643 Z\" fill=\"#000000\" fill-rule=\"nonzero\" fill-opacity=\"1\" /><path clip-path=\"url(#clip360)\" d=\"M541.069 183.351 L541.069 196.337 L546.949 196.337 Q550.212 196.337 551.995 194.647 Q553.777 192.958 553.777 189.833 Q553.777 186.731 551.995 185.041 Q550.212 183.351 546.949 183.351 L541.069 183.351 M536.393 179.509 L546.949 179.509 Q552.759 179.509 555.722 182.147 Q558.708 184.763 558.708 189.833 Q558.708 194.948 555.722 197.564 Q552.759 200.18 546.949 200.18 L541.069 200.18 L541.069 214.069 L536.393 214.069 L536.393 179.509 Z\" fill=\"#000000\" fill-rule=\"nonzero\" fill-opacity=\"1\" /><path clip-path=\"url(#clip360)\" d=\"M559.194 179.509 L564.217 179.509 L573.8 193.722 L583.314 179.509 L588.337 179.509 L576.115 197.61 L576.115 214.069 L571.416 214.069 L571.416 197.61 L559.194 179.509 Z\" fill=\"#000000\" fill-rule=\"nonzero\" fill-opacity=\"1\" /><polyline clip-path=\"url(#clip360)\" style=\"stroke:#ff0000; stroke-linecap:round; stroke-linejoin:round; stroke-width:20; stroke-opacity:1; fill:none\" points=\"341.027,248.629 481.381,248.629 \"/>\n",
       "<path clip-path=\"url(#clip360)\" d=\"M521.162 249.705 Q522.666 250.214 524.078 251.881 Q525.513 253.548 526.949 256.464 L531.694 265.909 L526.671 265.909 L522.25 257.043 Q520.537 253.571 518.916 252.436 Q517.319 251.302 514.541 251.302 L509.449 251.302 L509.449 265.909 L504.773 265.909 L504.773 231.349 L515.328 231.349 Q521.254 231.349 524.171 233.825 Q527.088 236.302 527.088 241.302 Q527.088 244.566 525.56 246.719 Q524.055 248.872 521.162 249.705 M509.449 235.191 L509.449 247.46 L515.328 247.46 Q518.708 247.46 520.421 245.909 Q522.157 244.335 522.157 241.302 Q522.157 238.27 520.421 236.742 Q518.708 235.191 515.328 235.191 L509.449 235.191 Z\" fill=\"#000000\" fill-rule=\"nonzero\" fill-opacity=\"1\" /><path clip-path=\"url(#clip360)\" d=\"M557.573 251.881 L557.573 253.964 L537.99 253.964 Q538.268 258.362 540.629 260.677 Q543.013 262.969 547.249 262.969 Q549.703 262.969 551.995 262.367 Q554.31 261.765 556.578 260.561 L556.578 264.589 Q554.286 265.561 551.879 266.071 Q549.472 266.58 546.995 266.58 Q540.791 266.58 537.157 262.969 Q533.546 259.358 533.546 253.2 Q533.546 246.835 536.972 243.108 Q540.421 239.358 546.254 239.358 Q551.486 239.358 554.518 242.737 Q557.573 246.094 557.573 251.881 M553.314 250.631 Q553.268 247.136 551.347 245.052 Q549.448 242.969 546.3 242.969 Q542.736 242.969 540.583 244.983 Q538.453 246.997 538.129 250.654 L553.314 250.631 Z\" fill=\"#000000\" fill-rule=\"nonzero\" fill-opacity=\"1\" /><path clip-path=\"url(#clip360)\" d=\"M576.347 252.876 Q571.184 252.876 569.194 254.057 Q567.203 255.237 567.203 258.085 Q567.203 260.353 568.685 261.696 Q570.189 263.015 572.759 263.015 Q576.3 263.015 578.43 260.515 Q580.583 257.992 580.583 253.825 L580.583 252.876 L576.347 252.876 M584.842 251.117 L584.842 265.909 L580.583 265.909 L580.583 261.973 Q579.124 264.335 576.948 265.469 Q574.772 266.58 571.624 266.58 Q567.643 266.58 565.282 264.358 Q562.944 262.112 562.944 258.362 Q562.944 253.987 565.86 251.765 Q568.8 249.543 574.61 249.543 L580.583 249.543 L580.583 249.126 Q580.583 246.187 578.638 244.589 Q576.717 242.969 573.222 242.969 Q570.999 242.969 568.893 243.501 Q566.786 244.034 564.842 245.099 L564.842 241.163 Q567.18 240.261 569.379 239.821 Q571.578 239.358 573.661 239.358 Q579.286 239.358 582.064 242.274 Q584.842 245.191 584.842 251.117 Z\" fill=\"#000000\" fill-rule=\"nonzero\" fill-opacity=\"1\" /><path clip-path=\"url(#clip360)\" d=\"M593.615 229.89 L597.874 229.89 L597.874 265.909 L593.615 265.909 L593.615 229.89 Z\" fill=\"#000000\" fill-rule=\"nonzero\" fill-opacity=\"1\" /><path clip-path=\"url(#clip360)\" d=\"M606.786 229.89 L611.045 229.89 L611.045 265.909 L606.786 265.909 L606.786 229.89 Z\" fill=\"#000000\" fill-rule=\"nonzero\" fill-opacity=\"1\" /><path clip-path=\"url(#clip360)\" d=\"M630.004 242.969 Q626.578 242.969 624.587 245.654 Q622.596 248.316 622.596 252.969 Q622.596 257.622 624.564 260.307 Q626.555 262.969 630.004 262.969 Q633.406 262.969 635.397 260.284 Q637.388 257.598 637.388 252.969 Q637.388 248.362 635.397 245.677 Q633.406 242.969 630.004 242.969 M630.004 239.358 Q635.559 239.358 638.73 242.969 Q641.902 246.58 641.902 252.969 Q641.902 259.335 638.73 262.969 Q635.559 266.58 630.004 266.58 Q624.425 266.58 621.254 262.969 Q618.106 259.335 618.106 252.969 Q618.106 246.58 621.254 242.969 Q624.425 239.358 630.004 239.358 Z\" fill=\"#000000\" fill-rule=\"nonzero\" fill-opacity=\"1\" /><path clip-path=\"url(#clip360)\" d=\"M667.619 240.978 L667.619 244.96 Q665.814 243.964 663.985 243.478 Q662.179 242.969 660.328 242.969 Q656.184 242.969 653.892 245.608 Q651.601 248.224 651.601 252.969 Q651.601 257.714 653.892 260.353 Q656.184 262.969 660.328 262.969 Q662.179 262.969 663.985 262.483 Q665.814 261.973 667.619 260.978 L667.619 264.913 Q665.837 265.747 663.915 266.163 Q662.017 266.58 659.865 266.58 Q654.008 266.58 650.559 262.899 Q647.11 259.219 647.11 252.969 Q647.11 246.626 650.582 242.992 Q654.078 239.358 660.142 239.358 Q662.11 239.358 663.985 239.775 Q665.86 240.168 667.619 240.978 Z\" fill=\"#000000\" fill-rule=\"nonzero\" fill-opacity=\"1\" /><path clip-path=\"url(#clip360)\" d=\"M686.809 252.876 Q681.647 252.876 679.656 254.057 Q677.665 255.237 677.665 258.085 Q677.665 260.353 679.147 261.696 Q680.651 263.015 683.221 263.015 Q686.763 263.015 688.892 260.515 Q691.045 257.992 691.045 253.825 L691.045 252.876 L686.809 252.876 M695.304 251.117 L695.304 265.909 L691.045 265.909 L691.045 261.973 Q689.587 264.335 687.411 265.469 Q685.235 266.58 682.087 266.58 Q678.105 266.58 675.744 264.358 Q673.406 262.112 673.406 258.362 Q673.406 253.987 676.323 251.765 Q679.263 249.543 685.073 249.543 L691.045 249.543 L691.045 249.126 Q691.045 246.187 689.101 244.589 Q687.179 242.969 683.684 242.969 Q681.462 242.969 679.355 243.501 Q677.249 244.034 675.304 245.099 L675.304 241.163 Q677.642 240.261 679.841 239.821 Q682.04 239.358 684.124 239.358 Q689.749 239.358 692.526 242.274 Q695.304 245.191 695.304 251.117 Z\" fill=\"#000000\" fill-rule=\"nonzero\" fill-opacity=\"1\" /><path clip-path=\"url(#clip360)\" d=\"M708.29 232.622 L708.29 239.983 L717.063 239.983 L717.063 243.293 L708.29 243.293 L708.29 257.367 Q708.29 260.538 709.147 261.441 Q710.026 262.344 712.688 262.344 L717.063 262.344 L717.063 265.909 L712.688 265.909 Q707.758 265.909 705.883 264.08 Q704.008 262.228 704.008 257.367 L704.008 243.293 L700.883 243.293 L700.883 239.983 L704.008 239.983 L704.008 232.622 L708.29 232.622 Z\" fill=\"#000000\" fill-rule=\"nonzero\" fill-opacity=\"1\" /><path clip-path=\"url(#clip360)\" d=\"M744.841 251.881 L744.841 253.964 L725.258 253.964 Q725.536 258.362 727.897 260.677 Q730.281 262.969 734.517 262.969 Q736.971 262.969 739.262 262.367 Q741.577 261.765 743.846 260.561 L743.846 264.589 Q741.554 265.561 739.147 266.071 Q736.739 266.58 734.262 266.58 Q728.059 266.58 724.424 262.969 Q720.813 259.358 720.813 253.2 Q720.813 246.835 724.239 243.108 Q727.688 239.358 733.522 239.358 Q738.753 239.358 741.785 242.737 Q744.841 246.094 744.841 251.881 M740.582 250.631 Q740.535 247.136 738.614 245.052 Q736.716 242.969 733.568 242.969 Q730.003 242.969 727.85 244.983 Q725.721 246.997 725.397 250.654 L740.582 250.631 Z\" fill=\"#000000\" fill-rule=\"nonzero\" fill-opacity=\"1\" /><path clip-path=\"url(#clip360)\" d=\"M768.892 243.918 L768.892 229.89 L773.151 229.89 L773.151 265.909 L768.892 265.909 L768.892 262.02 Q767.549 264.335 765.489 265.469 Q763.452 266.58 760.582 266.58 Q755.883 266.58 752.92 262.83 Q749.98 259.08 749.98 252.969 Q749.98 246.858 752.92 243.108 Q755.883 239.358 760.582 239.358 Q763.452 239.358 765.489 240.492 Q767.549 241.603 768.892 243.918 M754.378 252.969 Q754.378 257.668 756.299 260.353 Q758.244 263.015 761.623 263.015 Q765.003 263.015 766.947 260.353 Q768.892 257.668 768.892 252.969 Q768.892 248.27 766.947 245.608 Q765.003 242.923 761.623 242.923 Q758.244 242.923 756.299 245.608 Q754.378 248.27 754.378 252.969 Z\" fill=\"#000000\" fill-rule=\"nonzero\" fill-opacity=\"1\" /><path clip-path=\"url(#clip360)\" d=\"M801.855 235.191 L801.855 248.177 L807.734 248.177 Q810.998 248.177 812.78 246.487 Q814.563 244.798 814.563 241.673 Q814.563 238.571 812.78 236.881 Q810.998 235.191 807.734 235.191 L801.855 235.191 M797.179 231.349 L807.734 231.349 Q813.544 231.349 816.507 233.987 Q819.493 236.603 819.493 241.673 Q819.493 246.788 816.507 249.404 Q813.544 252.02 807.734 252.02 L801.855 252.02 L801.855 265.909 L797.179 265.909 L797.179 231.349 Z\" fill=\"#000000\" fill-rule=\"nonzero\" fill-opacity=\"1\" /><path clip-path=\"url(#clip360)\" d=\"M833.938 242.969 Q830.512 242.969 828.521 245.654 Q826.53 248.316 826.53 252.969 Q826.53 257.622 828.498 260.307 Q830.489 262.969 833.938 262.969 Q837.34 262.969 839.331 260.284 Q841.322 257.598 841.322 252.969 Q841.322 248.362 839.331 245.677 Q837.34 242.969 833.938 242.969 M833.938 239.358 Q839.493 239.358 842.665 242.969 Q845.836 246.58 845.836 252.969 Q845.836 259.335 842.665 262.969 Q839.493 266.58 833.938 266.58 Q828.359 266.58 825.188 262.969 Q822.04 259.335 822.04 252.969 Q822.04 246.58 825.188 242.969 Q828.359 239.358 833.938 239.358 Z\" fill=\"#000000\" fill-rule=\"nonzero\" fill-opacity=\"1\" /><path clip-path=\"url(#clip360)\" d=\"M867.919 243.964 Q867.201 243.548 866.345 243.362 Q865.512 243.154 864.493 243.154 Q860.882 243.154 858.938 245.515 Q857.016 247.853 857.016 252.251 L857.016 265.909 L852.734 265.909 L852.734 239.983 L857.016 239.983 L857.016 244.011 Q858.359 241.649 860.512 240.515 Q862.664 239.358 865.743 239.358 Q866.183 239.358 866.715 239.427 Q867.248 239.474 867.896 239.589 L867.919 243.964 Z\" fill=\"#000000\" fill-rule=\"nonzero\" fill-opacity=\"1\" /><path clip-path=\"url(#clip360)\" d=\"M876.6 232.622 L876.6 239.983 L885.373 239.983 L885.373 243.293 L876.6 243.293 L876.6 257.367 Q876.6 260.538 877.456 261.441 Q878.336 262.344 880.998 262.344 L885.373 262.344 L885.373 265.909 L880.998 265.909 Q876.067 265.909 874.192 264.08 Q872.317 262.228 872.317 257.367 L872.317 243.293 L869.192 243.293 L869.192 239.983 L872.317 239.983 L872.317 232.622 L876.6 232.622 Z\" fill=\"#000000\" fill-rule=\"nonzero\" fill-opacity=\"1\" /><path clip-path=\"url(#clip360)\" d=\"M904.099 229.89 L904.099 233.432 L900.025 233.432 Q897.734 233.432 896.831 234.358 Q895.951 235.284 895.951 237.691 L895.951 239.983 L902.965 239.983 L902.965 243.293 L895.951 243.293 L895.951 265.909 L891.669 265.909 L891.669 243.293 L887.595 243.293 L887.595 239.983 L891.669 239.983 L891.669 238.177 Q891.669 233.849 893.683 231.881 Q895.697 229.89 900.072 229.89 L904.099 229.89 Z\" fill=\"#000000\" fill-rule=\"nonzero\" fill-opacity=\"1\" /><path clip-path=\"url(#clip360)\" d=\"M917.71 242.969 Q914.285 242.969 912.294 245.654 Q910.303 248.316 910.303 252.969 Q910.303 257.622 912.271 260.307 Q914.261 262.969 917.71 262.969 Q921.113 262.969 923.104 260.284 Q925.095 257.598 925.095 252.969 Q925.095 248.362 923.104 245.677 Q921.113 242.969 917.71 242.969 M917.71 239.358 Q923.266 239.358 926.437 242.969 Q929.608 246.58 929.608 252.969 Q929.608 259.335 926.437 262.969 Q923.266 266.58 917.71 266.58 Q912.132 266.58 908.96 262.969 Q905.812 259.335 905.812 252.969 Q905.812 246.58 908.96 242.969 Q912.132 239.358 917.71 239.358 Z\" fill=\"#000000\" fill-rule=\"nonzero\" fill-opacity=\"1\" /><path clip-path=\"url(#clip360)\" d=\"M936.669 229.89 L940.928 229.89 L940.928 265.909 L936.669 265.909 L936.669 229.89 Z\" fill=\"#000000\" fill-rule=\"nonzero\" fill-opacity=\"1\" /><path clip-path=\"url(#clip360)\" d=\"M949.84 239.983 L954.099 239.983 L954.099 265.909 L949.84 265.909 L949.84 239.983 M949.84 229.89 L954.099 229.89 L954.099 235.284 L949.84 235.284 L949.84 229.89 Z\" fill=\"#000000\" fill-rule=\"nonzero\" fill-opacity=\"1\" /><path clip-path=\"url(#clip360)\" d=\"M973.057 242.969 Q969.631 242.969 967.641 245.654 Q965.65 248.316 965.65 252.969 Q965.65 257.622 967.618 260.307 Q969.608 262.969 973.057 262.969 Q976.46 262.969 978.451 260.284 Q980.442 257.598 980.442 252.969 Q980.442 248.362 978.451 245.677 Q976.46 242.969 973.057 242.969 M973.057 239.358 Q978.613 239.358 981.784 242.969 Q984.955 246.58 984.955 252.969 Q984.955 259.335 981.784 262.969 Q978.613 266.58 973.057 266.58 Q967.479 266.58 964.307 262.969 Q961.159 259.335 961.159 252.969 Q961.159 246.58 964.307 242.969 Q967.479 239.358 973.057 239.358 Z\" fill=\"#000000\" fill-rule=\"nonzero\" fill-opacity=\"1\" /></svg>\n"
      ]
     },
     "metadata": {},
     "output_type": "display_data"
    }
   ],
   "source": [
    "plot((1/table_data[1,end]).*table_data[:,end],\n",
    "    lw=4, c=:purple, label=\"Chosen Portfolio Initial\")\n",
    "plot!((1/SPY_df[1,:volume_weighted_average_price]).*SPY_df[1:trading_days,:volume_weighted_average_price],\n",
    "    lw=3, c=:blue, label=\"SPY\")\n",
    "plot!((1/reallocated_portfolio[1,end]).*reallocated_portfolio[:,end], \n",
    "    lw=6, c=:red, label=\"Reallocated Portfolio\")\n",
    "\n",
    "xlabel!(\"Trading Day (2023)\", fontsize=18)\n",
    "ylabel!(\"Wealth (USD)\", fontsize=18)"
   ]
  },
  {
   "cell_type": "code",
   "execution_count": 169,
   "id": "d8d681d2",
   "metadata": {},
   "outputs": [
    {
     "name": "stdout",
     "output_type": "stream",
     "text": [
      "┌──────────────┬──────────────┬──────────────┬──────────────┬──────────────┬──────────────┬──────────────┐\n",
      "│\u001b[1m        index \u001b[0m│\u001b[1m         NVDA \u001b[0m│\u001b[1m          MDT \u001b[0m│\u001b[1m          AMD \u001b[0m│\u001b[1m           PG \u001b[0m│\u001b[1m           MO \u001b[0m│\u001b[1m          PLD \u001b[0m│\n",
      "├──────────────┼──────────────┼──────────────┼──────────────┼──────────────┼──────────────┼──────────────┤\n",
      "│          0.0 │     0.226488 │          0.0 │      15.1137 │          0.0 │          0.0 │          0.0 │\n",
      "│          1.0 │ 5.73992e-314 │          0.0 │  3.06057e-23 │ 5.73993e-314 │          0.0 │          0.0 │\n",
      "│          2.0 │ 8.48798e-314 │ 5.73992e-314 │          0.0 │     4.0e-323 │          0.0 │          0.0 │\n",
      "│          3.0 │ 5.73992e-314 │ 8.48798e-314 │ 5.73992e-314 │          0.0 │          NaN │          0.0 │\n",
      "│          4.0 │     4.0e-323 │          0.0 │ 8.48798e-314 │          NaN │ 5.73993e-314 │   2.122e-314 │\n",
      "│          5.0 │          0.0 │          0.0 │    3.64e-321 │          NaN │ 5.73993e-314 │          0.0 │\n",
      "│          6.0 │        1.674 │         0.16 │       10.879 │        0.112 │        0.228 │        0.154 │\n",
      "│          7.0 │          0.0 │  3.06057e-23 │     5.0e-324 │          NaN │          0.0 │  5.7586e-314 │\n",
      "│          8.0 │ 5.73992e-314 │          0.0 │  3.06057e-23 │   2.122e-314 │          NaN │ 5.73993e-314 │\n",
      "│          9.0 │ 8.48798e-314 │ 5.73992e-314 │          0.0 │          NaN │          NaN │ 5.73993e-314 │\n",
      "│         10.0 │          0.0 │ 8.48798e-314 │ 5.73992e-314 │ 2.20496e-314 │          NaN │     4.0e-323 │\n",
      "│         11.0 │          0.0 │     1.0e-323 │ 8.48798e-314 │     1.0e-323 │          0.0 │          0.0 │\n",
      "│         12.0 │          0.0 │          0.0 │          0.0 │          NaN │          0.0 │          NaN │\n",
      "│         13.0 │  3.06057e-23 │          NaN │          0.0 │ 5.73993e-314 │          0.0 │          NaN │\n",
      "│         14.0 │          0.0 │  3.06057e-23 │          0.0 │ 5.73993e-314 │          0.0 │          0.0 │\n",
      "│         15.0 │ 5.73992e-314 │          0.0 │  3.06057e-23 │     4.0e-323 │          0.0 │          0.0 │\n",
      "│         16.0 │ 8.48798e-314 │ 5.73992e-314 │          0.0 │   2.122e-314 │          NaN │   2.122e-314 │\n",
      "│         17.0 │     4.0e-323 │ 8.48798e-314 │ 5.73992e-314 │          NaN │ 5.73993e-314 │          0.0 │\n",
      "│         18.0 │   2.122e-314 │          0.0 │ 8.48798e-314 │          NaN │ 5.73993e-314 │          0.0 │\n",
      "│         19.0 │ 5.75601e-314 │          0.0 │          0.0 │          NaN │     4.0e-323 │          0.0 │\n",
      "│         20.0 │  3.06057e-23 │          0.0 │ 2.20503e-314 │   2.122e-314 │          0.0 │          NaN │\n",
      "│         21.0 │          0.0 │  3.06057e-23 │     1.0e-323 │          0.0 │          NaN │ 5.73993e-314 │\n",
      "│         22.0 │ 5.73992e-314 │          0.0 │  3.06057e-23 │ 2.20496e-314 │          NaN │ 5.73993e-314 │\n",
      "│         23.0 │ 8.48798e-314 │ 5.73992e-314 │          0.0 │     1.0e-323 │ 5.75604e-314 │     4.0e-323 │\n",
      "│         24.0 │          0.0 │ 8.48798e-314 │ 5.73992e-314 │          0.0 │ 5.75866e-314 │          0.0 │\n",
      "│         25.0 │          0.0 │          NaN │ 8.48798e-314 │          NaN │ 5.75579e-314 │          NaN │\n",
      "│         26.0 │          0.0 │          0.0 │          0.0 │ 5.79325e-314 │          NaN │          NaN │\n",
      "│         27.0 │  3.06057e-23 │     9.4e-323 │          0.0 │    1.02e-321 │          NaN │          NaN │\n",
      "│         28.0 │          0.0 │  3.06057e-23 │          0.0 │          0.0 │          0.0 │ 5.75594e-314 │\n",
      "│         29.0 │ 5.73992e-314 │          0.0 │  3.06057e-23 │          0.0 │          NaN │          0.0 │\n",
      "│         30.0 │ 8.48798e-314 │ 5.73992e-314 │          0.0 │          0.0 │ 5.73993e-314 │          0.0 │\n",
      "│         31.0 │          0.0 │ 8.48798e-314 │ 5.73992e-314 │          0.0 │ 5.73993e-314 │          0.0 │\n",
      "│         32.0 │          0.0 │          0.0 │ 8.48798e-314 │   2.122e-314 │     4.0e-323 │          0.0 │\n",
      "│         33.0 │          NaN │          0.0 │     1.0e-323 │          0.0 │          0.0 │          NaN │\n",
      "│         34.0 │  3.06057e-23 │          0.0 │          0.0 │          0.0 │          NaN │ 5.73993e-314 │\n",
      "│         35.0 │          0.0 │  3.06057e-23 │          NaN │          0.0 │          NaN │ 5.73993e-314 │\n",
      "│         36.0 │ 5.73992e-314 │          0.0 │  3.06057e-23 │          0.0 │          0.0 │     4.0e-323 │\n",
      "│         37.0 │ 8.48798e-314 │ 5.73992e-314 │          0.0 │          0.0 │          0.0 │          0.0 │\n",
      "│         38.0 │          0.0 │ 8.48798e-314 │ 5.73992e-314 │          NaN │          0.0 │          NaN │\n",
      "│         39.0 │          0.0 │          0.0 │ 8.48798e-314 │ 5.73993e-314 │          0.0 │          NaN │\n",
      "│         40.0 │          0.0 │ 2.20503e-314 │          0.0 │ 5.73993e-314 │          0.0 │          NaN │\n",
      "│         41.0 │   2.122e-314 │     1.0e-323 │          0.0 │     4.0e-323 │          0.0 │          0.0 │\n",
      "│         42.0 │ 2.52482e-314 │  3.06057e-23 │          0.0 │          0.0 │          NaN │          0.0 │\n",
      "│         43.0 │ 5.73992e-314 │          0.0 │  3.06057e-23 │ 5.75613e-314 │ 5.73993e-314 │          0.0 │\n",
      "│         44.0 │ 8.48798e-314 │ 5.73992e-314 │          0.0 │   2.122e-314 │ 5.73993e-314 │          0.0 │\n",
      "│         45.0 │  1.6976e-313 │ 8.48798e-314 │ 5.73992e-314 │          0.0 │     4.0e-323 │          0.0 │\n",
      "│         46.0 │          NaN │          0.0 │ 8.48798e-314 │          0.0 │          0.0 │          NaN │\n",
      "│         47.0 │     4.4e-323 │          0.0 │ 1.44929e-312 │          0.0 │ 5.75572e-314 │ 5.73993e-314 │\n",
      "│         48.0 │  3.06057e-23 │          0.0 │          0.0 │  5.5199e-314 │ 5.51975e-314 │ 5.73993e-314 │\n",
      "│         49.0 │          0.0 │  3.06057e-23 │          0.0 │  5.5199e-314 │ 5.51973e-314 │     4.0e-323 │\n",
      "│         50.0 │ 5.73992e-314 │          0.0 │  3.06057e-23 │  5.5199e-314 │ 5.75833e-314 │          0.0 │\n",
      "│         51.0 │ 8.48798e-314 │ 5.73992e-314 │          0.0 │          NaN │ 5.75875e-314 │  5.7588e-314 │\n",
      "│         52.0 │          0.0 │ 8.48798e-314 │ 5.73992e-314 │ 5.73993e-314 │  5.7972e-314 │ 5.51954e-314 │\n",
      "│         53.0 │          0.0 │     1.0e-323 │ 8.48798e-314 │ 5.73993e-314 │          0.0 │ 5.75616e-314 │\n",
      "│         54.0 │          0.0 │          0.0 │          0.0 │     4.0e-323 │   2.122e-314 │ 5.75581e-314 │\n",
      "│         55.0 │  3.06057e-23 │          NaN │          0.0 │ 4.24399e-314 │          NaN │ 5.73552e-314 │\n",
      "│         56.0 │          0.0 │  3.06057e-23 │          0.0 │          NaN │ 5.73993e-314 │ 5.75846e-314 │\n",
      "│         57.0 │ 5.73992e-314 │          0.0 │  3.06057e-23 │          NaN │ 5.73993e-314 │ 5.73554e-314 │\n",
      "│         58.0 │ 8.48798e-314 │ 5.73992e-314 │          0.0 │ 5.75576e-314 │     4.0e-323 │  5.7586e-314 │\n",
      "│         59.0 │          0.0 │ 8.48798e-314 │ 5.73992e-314 │ 5.75863e-314 │          0.0 │          NaN │\n",
      "│         60.0 │   4.244e-321 │          0.0 │ 8.48798e-314 │ 5.75608e-314 │ 5.75576e-314 │ 5.73993e-314 │\n",
      "│         61.0 │    4.35e-322 │          0.0 │          NaN │  5.7584e-314 │          0.0 │ 5.73993e-314 │\n",
      "│         62.0 │  3.06057e-23 │          0.0 │ 5.73992e-314 │          NaN │          0.0 │     4.0e-323 │\n",
      "│         63.0 │          0.0 │  3.06057e-23 │ 5.73992e-314 │ 5.75605e-314 │          0.0 │          0.0 │\n",
      "│         64.0 │ 5.73992e-314 │          0.0 │  3.06057e-23 │          NaN │          0.0 │ 5.73563e-314 │\n",
      "│         65.0 │ 8.48798e-314 │ 5.73992e-314 │          0.0 │          0.0 │          0.0 │          NaN │\n",
      "│         66.0 │          0.0 │ 8.48798e-314 │ 5.73992e-314 │          0.0 │   2.122e-314 │ 5.75845e-314 │\n",
      "│         67.0 │          0.0 │          NaN │ 8.48798e-314 │          0.0 │          0.0 │ 5.75612e-314 │\n",
      "│         68.0 │          0.0 │          0.0 │          0.0 │   2.122e-314 │          NaN │ 5.75593e-314 │\n",
      "│         69.0 │  3.06057e-23 │          0.0 │          0.0 │          0.0 │          0.0 │          0.0 │\n",
      "│         70.0 │          0.0 │  3.06057e-23 │          0.0 │          0.0 │          0.0 │          0.0 │\n",
      "│         71.0 │ 5.73992e-314 │          0.0 │     2.4e-322 │          0.0 │          0.0 │          0.0 │\n",
      "│         72.0 │ 8.48798e-314 │ 5.73992e-314 │ 2.52503e-314 │          0.0 │          0.0 │          NaN │\n",
      "│         73.0 │     1.0e-323 │ 8.48798e-314 │ 5.73992e-314 │          0.0 │          0.0 │ 5.73993e-314 │\n",
      "│         74.0 │          0.0 │          0.0 │ 8.48798e-314 │          0.0 │          0.0 │ 5.73993e-314 │\n",
      "│         75.0 │          NaN │          0.0 │ 4.24399e-314 │          0.0 │          0.0 │     4.0e-323 │\n",
      "│         76.0 │  3.06057e-23 │          0.0 │ 5.73992e-314 │          0.0 │          0.0 │          0.0 │\n",
      "│         77.0 │          0.0 │  3.06057e-23 │     1.5e-323 │ 5.75605e-314 │          0.0 │          NaN │\n",
      "│         78.0 │ 5.73992e-314 │          0.0 │  3.06057e-23 │ 5.73993e-314 │   2.122e-314 │          NaN │\n",
      "│         79.0 │ 8.48798e-314 │ 5.73992e-314 │          0.0 │ 5.73993e-314 │          0.0 │          NaN │\n",
      "│         80.0 │          0.0 │ 8.48798e-314 │ 5.73992e-314 │ 8.48798e-314 │          0.0 │          0.0 │\n",
      "│         81.0 │          0.0 │ 6.43165e-310 │ 8.48798e-314 │          0.0 │          NaN │          0.0 │\n",
      "│         82.0 │          0.0 │   5.78532e30 │          0.0 │ 5.75582e-314 │ 5.73993e-314 │          0.0 │\n",
      "│         83.0 │  3.06057e-23 │          0.0 │          0.0 │ 5.75601e-314 │ 5.73993e-314 │          0.0 │\n",
      "│         84.0 │          0.0 │  3.06057e-23 │          0.0 │  5.7586e-314 │     4.0e-323 │          0.0 │\n",
      "│         85.0 │ 5.73992e-314 │          0.0 │  3.06057e-23 │ 5.73552e-314 │          0.0 │          NaN │\n",
      "│         86.0 │ 8.48798e-314 │ 5.73992e-314 │          0.0 │          NaN │          NaN │          0.0 │\n",
      "│         87.0 │          NaN │ 8.48798e-314 │ 5.73992e-314 │ 8.48798e-314 │          NaN │          0.0 │\n",
      "│         88.0 │          0.0 │          0.0 │ 8.48798e-314 │ 2.17995e-314 │          0.0 │   2.122e-314 │\n",
      "│         89.0 │          0.0 │          0.0 │   2.122e-314 │ 2.17992e-314 │          0.0 │          0.0 │\n",
      "│         90.0 │    2.47e-322 │          0.0 │          0.0 │          NaN │   2.122e-314 │          0.0 │\n",
      "│         91.0 │ 2.52503e-314 │  3.06057e-23 │          0.0 │ 5.73993e-314 │          0.0 │          0.0 │\n",
      "│         92.0 │ 5.73992e-314 │          0.0 │  3.06057e-23 │ 5.73993e-314 │          0.0 │          0.0 │\n",
      "│         93.0 │ 8.48798e-314 │ 5.73992e-314 │          0.0 │     4.0e-323 │          0.0 │          0.0 │\n",
      "│         94.0 │     1.5e-323 │ 8.48798e-314 │ 5.73992e-314 │          0.0 │ 5.75601e-314 │          0.0 │\n",
      "│         95.0 │          0.0 │     1.0e-323 │ 8.48798e-314 │    5.52e-314 │ 5.73993e-314 │          0.0 │\n",
      "│         96.0 │     2.0e-323 │          NaN │          0.0 │          0.0 │ 5.73993e-314 │          0.0 │\n",
      "│         97.0 │  3.06057e-23 │          NaN │          0.0 │          0.0 │     4.0e-323 │          0.0 │\n",
      "│         98.0 │          0.0 │   2.122e-314 │          0.0 │          0.0 │          0.0 │ 5.75576e-314 │\n",
      "│         99.0 │ 5.73992e-314 │ 2.52482e-314 │  3.06057e-23 │          0.0 │          NaN │ 5.73993e-314 │\n",
      "│        100.0 │ 8.48798e-314 │ 5.73992e-314 │          0.0 │          0.0 │          NaN │ 5.73993e-314 │\n",
      "│        101.0 │ 1.28284e-319 │ 8.48798e-314 │ 5.73992e-314 │          0.0 │          NaN │ 4.24399e-314 │\n",
      "│        102.0 │ 4.52687e-307 │ 2.97079e-313 │ 8.48798e-314 │          0.0 │   2.122e-314 │          0.0 │\n",
      "│        103.0 │          0.0 │          0.0 │     4.0e-323 │          NaN │          0.0 │ 5.75602e-314 │\n",
      "│        104.0 │  3.06057e-23 │     7.4e-323 │   2.122e-314 │   2.122e-314 │          0.0 │ 5.73587e-314 │\n",
      "│        105.0 │          0.0 │  3.06057e-23 │ 5.75605e-314 │          0.0 │          0.0 │          0.0 │\n",
      "│        106.0 │ 5.73992e-314 │          0.0 │  3.06057e-23 │          0.0 │          0.0 │          0.0 │\n",
      "│        107.0 │ 8.48798e-314 │ 5.73992e-314 │          0.0 │          0.0 │          NaN │          0.0 │\n",
      "│        108.0 │          0.0 │ 8.48798e-314 │ 5.73992e-314 │          0.0 │ 5.73993e-314 │          0.0 │\n",
      "│        109.0 │          0.0 │ 6.36599e-314 │ 8.48798e-314 │          0.0 │ 5.73993e-314 │          0.0 │\n",
      "│        110.0 │          0.0 │ 5.73992e-314 │          0.0 │          0.0 │     4.0e-323 │          0.0 │\n",
      "│        111.0 │  3.06057e-23 │ 5.73992e-314 │          0.0 │          0.0 │          0.0 │          NaN │\n",
      "│        112.0 │          0.0 │  3.06057e-23 │          0.0 │          0.0 │ 5.75575e-314 │   2.122e-314 │\n",
      "│        113.0 │ 5.73992e-314 │          0.0 │   2.122e-314 │          0.0 │          0.0 │          0.0 │\n",
      "│        114.0 │ 8.48798e-314 │ 5.73992e-314 │ 2.52482e-314 │          0.0 │   2.122e-314 │          0.0 │\n",
      "│        115.0 │     1.0e-323 │ 8.48798e-314 │ 5.73992e-314 │          0.0 │          0.0 │          0.0 │\n",
      "│        116.0 │          0.0 │          0.0 │ 8.48798e-314 │          NaN │          0.0 │          0.0 │\n",
      "│        117.0 │          NaN │          0.0 │ 3.18299e-313 │ 5.73993e-314 │          0.0 │          0.0 │\n",
      "│        118.0 │  3.06057e-23 │          0.0 │     2.5e-323 │ 5.73993e-314 │          0.0 │          0.0 │\n",
      "│        119.0 │          0.0 │  3.06057e-23 │     8.4e-323 │     4.0e-323 │          0.0 │          0.0 │\n",
      "│        120.0 │ 5.73992e-314 │          0.0 │  3.06057e-23 │          0.0 │ 5.75582e-314 │          0.0 │\n",
      "│        121.0 │ 8.48798e-314 │ 5.73992e-314 │          0.0 │          NaN │ 5.73993e-314 │          0.0 │\n",
      "│        122.0 │          0.0 │ 8.48798e-314 │ 5.73992e-314 │ 5.75851e-314 │ 5.73993e-314 │          0.0 │\n",
      "│        123.0 │          0.0 │ 5.73992e-314 │ 8.48798e-314 │          0.0 │     4.0e-323 │          0.0 │\n",
      "│        124.0 │          0.0 │ 4.24399e-314 │          0.0 │          0.0 │          0.0 │          NaN │\n",
      "│        125.0 │  3.06057e-23 │  3.83945e151 │          0.0 │          0.0 │          NaN │ 5.73993e-314 │\n",
      "│        126.0 │          0.0 │  3.06057e-23 │          0.0 │          0.0 │          NaN │ 5.73993e-314 │\n",
      "│        127.0 │ 5.73992e-314 │          0.0 │  3.06057e-23 │          0.0 │          NaN │     4.0e-323 │\n",
      "│        128.0 │ 8.48798e-314 │ 5.73992e-314 │          0.0 │   2.122e-314 │          NaN │          0.0 │\n",
      "│        129.0 │          NaN │ 8.48798e-314 │ 5.73992e-314 │ 5.73552e-314 │          0.0 │          NaN │\n",
      "│        130.0 │          0.0 │          0.0 │ 8.48798e-314 │ 5.73993e-314 │          0.0 │          NaN │\n",
      "│        131.0 │          NaN │          0.0 │          0.0 │ 5.73993e-314 │          0.0 │          NaN │\n",
      "│        132.0 │  3.06057e-23 │          0.0 │ 2.20496e-314 │     4.0e-323 │          0.0 │          NaN │\n",
      "│        133.0 │          0.0 │  3.06057e-23 │     1.0e-323 │          0.0 │          NaN │          0.0 │\n",
      "│        134.0 │ 5.73992e-314 │          0.0 │  3.06057e-23 │          NaN │ 5.73993e-314 │          0.0 │\n",
      "│        135.0 │ 8.48798e-314 │ 5.73992e-314 │          0.0 │          0.0 │ 5.73993e-314 │          0.0 │\n",
      "│        136.0 │          0.0 │ 8.48798e-314 │ 5.73992e-314 │          0.0 │     4.0e-323 │   2.122e-314 │\n",
      "│        137.0 │          0.0 │ 5.73557e-314 │ 8.48798e-314 │          0.0 │          0.0 │          NaN │\n",
      "│        138.0 │          0.0 │     5.0e-324 │          0.0 │          0.0 │          NaN │ 5.73993e-314 │\n",
      "│        139.0 │   2.122e-314 │          NaN │          0.0 │          0.0 │          NaN │ 5.73993e-314 │\n",
      "│        140.0 │ 2.52482e-314 │  3.06057e-23 │          0.0 │   2.122e-314 │          0.0 │     4.0e-323 │\n",
      "│        141.0 │ 5.73992e-314 │          0.0 │  3.06057e-23 │          0.0 │          0.0 │          0.0 │\n",
      "│        142.0 │ 8.48798e-314 │ 5.73992e-314 │          0.0 │          NaN │          0.0 │  5.7559e-314 │\n",
      "│        143.0 │  1.6976e-313 │ 8.48798e-314 │ 5.73992e-314 │          0.0 │          0.0 │          0.0 │\n",
      "│        144.0 │          NaN │          0.0 │ 8.48798e-314 │          0.0 │          0.0 │          0.0 │\n",
      "│        145.0 │ 4.24399e-314 │          0.0 │     1.0e-323 │          0.0 │          0.0 │          0.0 │\n",
      "│        146.0 │     1.7e-322 │          0.0 │          0.0 │          0.0 │          NaN │          0.0 │\n",
      "│        147.0 │ 2.52482e-314 │  3.06057e-23 │          NaN │          0.0 │          0.0 │          0.0 │\n",
      "│        148.0 │ 5.73992e-314 │          0.0 │  3.06057e-23 │          0.0 │          0.0 │   2.122e-314 │\n",
      "│        149.0 │ 8.48798e-314 │ 5.73992e-314 │          0.0 │          0.0 │          0.0 │          0.0 │\n",
      "│        150.0 │ 4.24399e-313 │ 8.48798e-314 │ 5.73992e-314 │          0.0 │   2.122e-314 │          NaN │\n",
      "│        151.0 │          0.0 │     4.0e-323 │ 8.48798e-314 │          0.0 │          0.0 │ 5.73993e-314 │\n",
      "│        152.0 │    1.04e-322 │          0.0 │          0.0 │   2.122e-314 │          0.0 │ 5.73993e-314 │\n",
      "│        153.0 │  3.06057e-23 │ 5.75595e-314 │          0.0 │          0.0 │          0.0 │     4.0e-323 │\n",
      "│        154.0 │          0.0 │  3.06057e-23 │          0.0 │          0.0 │          0.0 │          0.0 │\n",
      "│        155.0 │ 5.73992e-314 │          0.0 │  3.06057e-23 │          NaN │          0.0 │ 5.75844e-314 │\n",
      "│        156.0 │ 8.48798e-314 │ 5.73992e-314 │          0.0 │          0.0 │          0.0 │          0.0 │\n",
      "│        157.0 │          NaN │ 8.48798e-314 │ 5.73992e-314 │          0.0 │          0.0 │          0.0 │\n",
      "│        158.0 │ 5.73992e-314 │          0.0 │ 8.48798e-314 │          0.0 │          0.0 │          0.0 │\n",
      "│        159.0 │ 6.36599e-314 │          0.0 │ 5.79581e-314 │          0.0 │          NaN │          0.0 │\n",
      "│        160.0 │    2.47e-322 │          0.0 │ 5.75872e-314 │          0.0 │          0.0 │   2.122e-314 │\n",
      "│        161.0 │ 2.52503e-314 │  3.06057e-23 │ 5.73589e-314 │          0.0 │          0.0 │          0.0 │\n",
      "│        162.0 │ 5.73992e-314 │          0.0 │  3.06057e-23 │          0.0 │   2.122e-314 │          0.0 │\n",
      "│        163.0 │ 8.48798e-314 │ 5.73992e-314 │          0.0 │          0.0 │          0.0 │          NaN │\n",
      "│        164.0 │     1.0e-323 │ 8.48798e-314 │ 5.73992e-314 │   2.122e-314 │          0.0 │ 5.73993e-314 │\n",
      "│        165.0 │          0.0 │          0.0 │ 8.48798e-314 │          0.0 │          0.0 │ 5.73993e-314 │\n",
      "│        166.0 │    1.43e-322 │ 2.20503e-314 │          0.0 │          0.0 │          0.0 │     4.0e-323 │\n",
      "│        167.0 │  3.06057e-23 │     1.0e-323 │          0.0 │          0.0 │          0.0 │          0.0 │\n",
      "│        168.0 │          0.0 │  3.06057e-23 │          0.0 │          NaN │          0.0 │          0.0 │\n",
      "│        169.0 │ 5.73992e-314 │          0.0 │     1.7e-322 │          0.0 │          0.0 │          0.0 │\n",
      "│        170.0 │ 8.48798e-314 │ 5.73992e-314 │ 2.52503e-314 │          0.0 │          0.0 │          0.0 │\n",
      "│        171.0 │ 5.73992e-314 │ 8.48798e-314 │ 5.73992e-314 │          0.0 │          0.0 │          0.0 │\n",
      "│        172.0 │ 5.73992e-314 │          0.0 │ 8.48798e-314 │          0.0 │          NaN │   2.122e-314 │\n",
      "│        173.0 │     4.0e-323 │          0.0 │   1.061e-313 │          0.0 │ 5.73993e-314 │          0.0 │\n",
      "│        174.0 │  3.06057e-23 │          0.0 │   2.122e-314 │          0.0 │ 5.73993e-314 │          0.0 │\n",
      "│        175.0 │          0.0 │  3.06057e-23 │     3.5e-323 │          0.0 │     4.0e-323 │          0.0 │\n",
      "│        176.0 │ 5.73992e-314 │          0.0 │  3.06057e-23 │   2.122e-314 │          0.0 │          NaN │\n",
      "│        177.0 │ 8.48798e-314 │ 5.73992e-314 │          0.0 │          0.0 │          0.0 │ 5.73993e-314 │\n",
      "│        178.0 │          0.0 │ 8.48798e-314 │ 5.73992e-314 │          0.0 │          0.0 │ 5.73993e-314 │\n",
      "│        179.0 │          0.0 │     1.0e-323 │ 8.48798e-314 │          0.0 │          0.0 │     4.0e-323 │\n",
      "│        180.0 │          0.0 │          0.0 │          0.0 │          0.0 │          0.0 │          0.0 │\n",
      "│        181.0 │  3.06057e-23 │          NaN │          0.0 │ 5.73562e-314 │          0.0 │          0.0 │\n",
      "│        182.0 │          0.0 │  3.06057e-23 │          0.0 │ 5.73993e-314 │          0.0 │          0.0 │\n",
      "│        183.0 │ 5.73992e-314 │          0.0 │  3.06057e-23 │ 5.73993e-314 │          0.0 │          0.0 │\n",
      "│        184.0 │ 8.48798e-314 │ 5.73992e-314 │          0.0 │ 4.24399e-314 │          0.0 │   2.122e-314 │\n",
      "│        185.0 │ 5.73992e-314 │ 8.48798e-314 │ 5.73992e-314 │     1.0e-323 │          NaN │          0.0 │\n",
      "│        186.0 │     4.0e-323 │          0.0 │ 8.48798e-314 │          NaN │ 5.73993e-314 │          0.0 │\n",
      "│        187.0 │          0.0 │          0.0 │     1.0e-323 │          NaN │ 5.73993e-314 │          0.0 │\n",
      "│        188.0 │  3.06057e-23 │          0.0 │          0.0 │   2.122e-314 │     4.0e-323 │          0.0 │\n",
      "│        189.0 │          0.0 │  3.06057e-23 │          NaN │          0.0 │          0.0 │ 5.75602e-314 │\n",
      "│        190.0 │ 5.73992e-314 │          0.0 │          0.0 │          0.0 │          NaN │ 5.73993e-314 │\n",
      "│        191.0 │ 8.48798e-314 │ 5.73992e-314 │ 5.75837e-314 │          0.0 │          NaN │ 5.73993e-314 │\n",
      "│        192.0 │          0.0 │ 8.48798e-314 │          0.0 │          0.0 │          NaN │     4.0e-323 │\n",
      "│        193.0 │          0.0 │          NaN │     3.7e-322 │          0.0 │          NaN │          0.0 │\n",
      "│        194.0 │          0.0 │          NaN │     6.0e-323 │          NaN │          0.0 │          NaN │\n",
      "│        195.0 │  3.06057e-23 │  5.7585e-314 │  3.83945e151 │ 5.73993e-314 │          0.0 │          0.0 │\n",
      "│        196.0 │          0.0 │  3.06057e-23 │ 8.40769e-315 │ 5.73993e-314 │          0.0 │   2.122e-314 │\n",
      "│        197.0 │ 5.73992e-314 │          0.0 │   5.78532e30 │     4.0e-323 │          0.0 │          0.0 │\n",
      "│        198.0 │ 8.48798e-314 │ 5.73992e-314 │          0.0 │          0.0 │          NaN │          0.0 │\n",
      "│        199.0 │     4.0e-323 │ 8.48798e-314 │          0.0 │          0.0 │ 5.73993e-314 │          0.0 │\n",
      "│        200.0 │          0.0 │          0.0 │   6.087e-321 │   2.122e-314 │ 5.73993e-314 │          0.0 │\n",
      "│        201.0 │          NaN │          0.0 │     7.2e-322 │          0.0 │     4.0e-323 │          0.0 │\n",
      "│        202.0 │  3.06057e-23 │          0.0 │   2.122e-314 │          0.0 │          0.0 │          NaN │\n",
      "│        203.0 │          0.0 │  3.06057e-23 │          NaN │          0.0 │ 5.73553e-314 │          0.0 │\n",
      "│        204.0 │ 5.73992e-314 │          0.0 │ 5.73992e-314 │          0.0 │ 5.75589e-314 │          0.0 │\n",
      "│        205.0 │ 8.48798e-314 │ 5.73992e-314 │ 5.73992e-314 │          0.0 │          0.0 │          0.0 │\n",
      "│        206.0 │          0.0 │ 8.48798e-314 │     4.0e-323 │          0.0 │          0.0 │          0.0 │\n",
      "│        207.0 │          0.0 │          0.0 │ 4.24399e-314 │          NaN │          0.0 │          0.0 │\n",
      "│        208.0 │          0.0 │ 2.20503e-314 │          NaN │          0.0 │          0.0 │   2.122e-314 │\n",
      "│        209.0 │  3.06057e-23 │     1.0e-323 │   2.122e-314 │          0.0 │          0.0 │          0.0 │\n",
      "│        210.0 │          0.0 │     2.4e-322 │ 2.20496e-314 │          0.0 │   2.122e-314 │          0.0 │\n",
      "│        211.0 │ 5.73992e-314 │ 2.52483e-314 │     1.0e-323 │          0.0 │          NaN │          0.0 │\n",
      "│        212.0 │ 8.48798e-314 │ 5.73992e-314 │          0.0 │   2.122e-314 │ 5.73993e-314 │          0.0 │\n",
      "│        213.0 │ 1.65781e-316 │ 8.48798e-314 │          NaN │          0.0 │ 5.73993e-314 │          0.0 │\n",
      "│        214.0 │ 5.79581e-314 │     1.0e-323 │   2.122e-314 │          0.0 │     4.0e-323 │          0.0 │\n",
      "│        215.0 │ 5.73574e-314 │          0.0 │          0.0 │          0.0 │          0.0 │          NaN │\n",
      "│        216.0 │  3.06057e-23 │     9.0e-323 │          NaN │          0.0 │          0.0 │          0.0 │\n",
      "│        217.0 │          0.0 │  3.06057e-23 │ 5.73992e-314 │          0.0 │          0.0 │          0.0 │\n",
      "│        218.0 │ 5.73992e-314 │          0.0 │ 5.73992e-314 │          0.0 │          0.0 │          0.0 │\n",
      "│        219.0 │ 8.48798e-314 │ 5.73992e-314 │     4.0e-323 │          0.0 │          0.0 │          0.0 │\n",
      "│        220.0 │          0.0 │ 8.48798e-314 │          0.0 │          NaN │          0.0 │   2.122e-314 │\n",
      "│        221.0 │          0.0 │          NaN │ 5.73553e-314 │ 5.73993e-314 │          0.0 │          0.0 │\n",
      "│        222.0 │          0.0 │          0.0 │ 5.73563e-314 │ 5.73993e-314 │   2.122e-314 │          0.0 │\n",
      "│          0.0 │  3.06057e-23 │          NaN │          NaN │     4.0e-323 │          0.0 │          0.0 │\n",
      "│ 5.73992e-314 │          0.0 │  3.06057e-23 │ 5.75594e-314 │          0.0 │          NaN │          0.0 │\n",
      "│ 8.48798e-314 │ 5.73992e-314 │          0.0 │          NaN │ 5.73554e-314 │ 5.73993e-314 │          0.0 │\n",
      "│          0.0 │ 8.48798e-314 │ 5.73992e-314 │   2.122e-314 │          0.0 │ 5.73993e-314 │          0.0 │\n",
      "│          0.0 │          NaN │ 8.48798e-314 │          0.0 │          0.0 │     4.0e-323 │          0.0 │\n",
      "│          0.0 │          NaN │          0.0 │ 2.20496e-314 │          0.0 │          0.0 │          NaN │\n",
      "│  3.06057e-23 │          NaN │          0.0 │          NaN │          0.0 │          0.0 │ 5.73993e-314 │\n",
      "└──────────────┴──────────────┴──────────────┴──────────────┴──────────────┴──────────────┴──────────────┘\n"
     ]
    }
   ],
   "source": [
    "shares_array=Array{Float64, 2}(undef, trading_days+1, length(w)+1)\n",
    "shares_array[1,1]=0\n",
    "for element in eachindex(tickers)\n",
    "    shares_array[1,element+1]=N_naught[element]\n",
    "end\n",
    "\n",
    "for element in 1:222\n",
    "    n_vector=results[element,:N_updated]\n",
    "    shares_array[element+1,1]=element\n",
    "    for j in eachindex(n_vector)\n",
    "        shares_array[i+1,j+1]=n_vector[j] |> x -> round(x,digits=3)|> abs\n",
    "    end\n",
    "end\n",
    "\n",
    "header_dt=Array{String,1}()\n",
    "push!(header_dt,\"index\")\n",
    "[push!(header_dt, ticker) for ticker in tickers]\n",
    "pretty_table(shares_array, header=header_dt)"
   ]
  },
  {
   "cell_type": "markdown",
   "id": "b3b5cd21-bb87-4bb0-b2e3-29391ba3859f",
   "metadata": {},
   "source": [
    "## Disclaimer and Risks\n",
    "__This content is offered solely for training and  informational purposes__. No offer or solicitation to buy or sell securities or derivative products, or any investment or trading advice or strategy,  is made, given, or endorsed by the teaching team. \n",
    "\n",
    "__Trading involves risk__. Carefully review your financial situation before investing in securities, futures contracts, options, or commodity interests. Past performance, whether actual or indicated by historical tests of strategies, is no guarantee of future performance or success. Trading is generally inappropriate for someone with limited resources, investment or trading experience, or a low-risk tolerance.  Only risk capital that is not required for living expenses.\n",
    "\n",
    "__You are fully responsible for any investment or trading decisions you make__. Such decisions should be based solely on your evaluation of your financial circumstances, investment or trading objectives, risk tolerance, and liquidity needs."
   ]
  }
 ],
 "metadata": {
  "kernelspec": {
   "display_name": "Julia 1.9.2",
   "language": "julia",
   "name": "julia-1.9"
  },
  "language_info": {
   "file_extension": ".jl",
   "mimetype": "application/julia",
   "name": "julia",
   "version": "1.9.2"
  }
 },
 "nbformat": 4,
 "nbformat_minor": 5
}
